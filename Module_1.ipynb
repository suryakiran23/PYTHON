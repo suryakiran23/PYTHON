{
  "nbformat": 4,
  "nbformat_minor": 0,
  "metadata": {
    "colab": {
      "name": "Module-1",
      "provenance": [],
      "authorship_tag": "ABX9TyNT9vkjaKLA9dmPoAKm6MQ5",
      "include_colab_link": true
    },
    "kernelspec": {
      "name": "python3",
      "display_name": "Python 3"
    },
    "language_info": {
      "name": "python"
    }
  },
  "cells": [
    {
      "cell_type": "markdown",
      "metadata": {
        "id": "view-in-github",
        "colab_type": "text"
      },
      "source": [
        "<a href=\"https://colab.research.google.com/github/suryakiran23/PYTHON/blob/Module-1/Module_1.ipynb\" target=\"_parent\"><img src=\"https://colab.research.google.com/assets/colab-badge.svg\" alt=\"Open In Colab\"/></a>"
      ]
    },
    {
      "cell_type": "markdown",
      "source": [
        "Q1. Accept input from user and store it in variable and print the value."
      ],
      "metadata": {
        "id": "Wt3N_8oFkgLx"
      }
    },
    {
      "cell_type": "code",
      "execution_count": null,
      "metadata": {
        "id": "FEKvQCfkkayW"
      },
      "outputs": [],
      "source": [
        "variable = input('Enter something : ')\n",
        "print('You entered '+variable)"
      ]
    },
    {
      "cell_type": "code",
      "source": [
        "variable = int(input(\"Enter an integer : \")) #int to make sure that we are getting integer input.\n",
        "print('Type of the variable taken is ',type(variable))\n",
        "print('You entered '+str(variable)) # Here we are changing variable back into str to add with string.\n",
        "print(f'You entered {variable}') # formatted string\n",
        "print('You entered',variable)\n",
        "#If we enter value of any other datatype,ValueError occurs."
      ],
      "metadata": {
        "id": "K87V_aIXkfOz"
      },
      "execution_count": null,
      "outputs": []
    },
    {
      "cell_type": "code",
      "source": [
        "variable = bool(input(\"Enter a boolean value : \"))\n",
        "print(type(variable))\n",
        "print(\"Entered value is : \",variable) #if blank, it will print false\n",
        "print(int(variable)) #if false prints 0, else prints 1"
      ],
      "metadata": {
        "id": "fnhXYywUkwzs"
      },
      "execution_count": null,
      "outputs": []
    },
    {
      "cell_type": "markdown",
      "source": [
        "Q2. Use of print statements and use of (.format )for printing different data types."
      ],
      "metadata": {
        "id": "Gryjote3k0r7"
      }
    },
    {
      "cell_type": "code",
      "source": [
        "a1 = 1234\n",
        "a2 = 'string'\n",
        "a3 = 12.34\n",
        "a4 = True\n",
        "a5 = -4j+1\n",
        "a6 = 10e100  #type is float\n",
        "print('Number: {}\\nString: {}\\nFloat: {}\\nBoolean: {}\\nComplex: {}\\nFloat (again) : {}'.format(a1,a2,a3,a4,a5,a6))"
      ],
      "metadata": {
        "colab": {
          "base_uri": "https://localhost:8080/"
        },
        "id": "eOolQWVykzqU",
        "outputId": "c41eeeef-f994-4720-8c6e-137617dd830d"
      },
      "execution_count": 1,
      "outputs": [
        {
          "output_type": "stream",
          "name": "stdout",
          "text": [
            "Number: 1234\n",
            "String: string\n",
            "Float: 12.34\n",
            "Boolean: True\n",
            "Complex: (1-4j)\n",
            "Float (again) : 1e+101\n"
          ]
        }
      ]
    },
    {
      "cell_type": "markdown",
      "source": [
        "Q3. Take 2 numbers as user input and add, multiply, divide, subtract, remainder and print the output (Same operations on floating point input as well)"
      ],
      "metadata": {
        "id": "JoXyMoAYlN9j"
      }
    },
    {
      "cell_type": "code",
      "source": [
        "n1,n2=int(input(\"Enter num1 : \")),int(input(\"Enter num2 : \"))\n",
        "print(f\"Sum : {n1+n2}\\nDifference : {n1-n2}\\nProduct : {n1*n2}\\nRemainder : {n1%n2}\")"
      ],
      "metadata": {
        "id": "UytSIh3IlIyK"
      },
      "execution_count": null,
      "outputs": []
    },
    {
      "cell_type": "markdown",
      "source": [
        "Q4. Conversion of one unit to another (such as hours to minutes, miles to km and etc)"
      ],
      "metadata": {
        "id": "NTuE9AD2lWh4"
      }
    },
    {
      "cell_type": "code",
      "source": [
        "value = int(input(\"Enter number of minutes : \"))\n",
        "converted_value = value/60\n",
        "print(f'Number of hours = {converted_value}')"
      ],
      "metadata": {
        "id": "72U9-SfflViI"
      },
      "execution_count": null,
      "outputs": []
    },
    {
      "cell_type": "code",
      "source": [
        "value = float(input(\"Enter number of miles : \"))\n",
        "converted_value = value*1.609344\n",
        "print(f'Number of Kilometers = {converted_value:.2f}')"
      ],
      "metadata": {
        "id": "EryK-gNGlbjK"
      },
      "execution_count": null,
      "outputs": []
    },
    {
      "cell_type": "markdown",
      "source": [
        "Q5. Usage of mathematical functions in python like math.ceil, floor, fabs, fmod, trunc, pow, sqrt etc."
      ],
      "metadata": {
        "id": "SRptwTrAler3"
      }
    },
    {
      "cell_type": "code",
      "source": [
        "#importing math module\n",
        "import math"
      ],
      "metadata": {
        "id": "JlQm8ZFUlhnf"
      },
      "execution_count": null,
      "outputs": []
    },
    {
      "cell_type": "code",
      "source": [
        "#using math.ceil\n",
        "sample_num=123.456\n",
        "math.ceil(sample_num)"
      ],
      "metadata": {
        "id": "93d23UTSlk3i"
      },
      "execution_count": null,
      "outputs": []
    },
    {
      "cell_type": "code",
      "source": [
        "#using math.floor\n",
        "sample_num=123.456\n",
        "math.floor(sample_num)"
      ],
      "metadata": {
        "id": "nKN5P1WplnXq"
      },
      "execution_count": null,
      "outputs": []
    },
    {
      "cell_type": "code",
      "source": [
        "#using math.pow\n",
        "math.pow(3,2)"
      ],
      "metadata": {
        "id": "hNKdWJ3qlpvo"
      },
      "execution_count": null,
      "outputs": []
    },
    {
      "cell_type": "code",
      "source": [
        "#using math.sqrt\n",
        "math.sqrt(16)"
      ],
      "metadata": {
        "id": "34XtplvFlxp_"
      },
      "execution_count": null,
      "outputs": []
    },
    {
      "cell_type": "code",
      "source": [
        "#math constants\n",
        "print(math.pi)\n",
        "print(math.e)\n",
        "print(math.tau)"
      ],
      "metadata": {
        "id": "u0MijpkUl0n_"
      },
      "execution_count": null,
      "outputs": []
    },
    {
      "cell_type": "markdown",
      "source": [
        "Q6. Building a mathematical calculator that can perform operations according to user input. Use decision making statement."
      ],
      "metadata": {
        "id": "jrS34-v1l4mO"
      }
    },
    {
      "cell_type": "code",
      "source": [
        "print('''Enter your choice :\n",
        "1. Addition\n",
        "2. Subtraction\n",
        "3. Multiplication\n",
        "4. Division\n",
        "5. Remainder''')\n",
        "choice=int(input('Enter choice number here : '))\n",
        "if choice in range(1,6):\n",
        "    num1,num2=float(input(\"Enter num1 : \")),float(input(\"Enter num2 : \"))\n",
        "    if choice==1:\n",
        "        print(f'Answer = {num1+num2:.2f}')\n",
        "    elif choice==2:\n",
        "        print(f'Answer = {num1-num2:.2f}')\n",
        "    elif choice==3:\n",
        "        print(f'Answer = {num1*num2:.2f}')\n",
        "    elif choice==4:\n",
        "        print(f'Answer = {num1/num2:.2f}')\n",
        "    elif choice==5:\n",
        "        print(f'Answer = {num1%num2:.2f}')\n",
        "else:\n",
        "    print('Invalid choice')\n"
      ],
      "metadata": {
        "id": "4rU7bQTnl3We"
      },
      "execution_count": null,
      "outputs": []
    },
    {
      "cell_type": "markdown",
      "source": [
        "Q7. Accepting 5 different subject marks from user and displaying the grade of the student."
      ],
      "metadata": {
        "id": "UPKxUU56l-5u"
      }
    },
    {
      "cell_type": "code",
      "source": [
        "print(\"mark of the student 1 \")\n",
        "s1=int(input(\"enter the subject marks: \"))\n",
        "s2=int(input(\"enter the subject marks: \"))\n",
        "s3=int(input(\"enter the subject marks: \"))\n",
        "s4=int(input(\"enter the subject marks: \"))\n",
        "s5=int(input(\"enter the subject marks: \"))\n",
        "total=s1+s2+s3+s4+s5\n",
        "if total>90 and total<100:\n",
        "    print(\"A GRADE\")\n",
        "elif total>80 and total<90:\n",
        "    print(\"B GRADE\")\n",
        "elif total>70 and total<80:\n",
        "    print(\"C GRADE\")\n",
        "elif total>60 and total<70:\n",
        "    print(\"D GRADE\")\n",
        "else:\n",
        "    print(\"FAIL\")"
      ],
      "metadata": {
        "id": "zve_cW_Wl9-p"
      },
      "execution_count": null,
      "outputs": []
    },
    {
      "cell_type": "markdown",
      "source": [
        "Q8. Printing all even numbers, odd numbers, count of even numbers, count of odd numbers within a given range."
      ],
      "metadata": {
        "id": "60Jyyy66mIB8"
      }
    },
    {
      "cell_type": "code",
      "source": [
        "a=int(input(\"enter the range you want to calculate the numbers for\"))\n",
        "k=0;l=0\n",
        "for i in range(0,a):\n",
        "    if i%2==0:\n",
        "        print(\"even=\",i)\n",
        "        k=k+1 \n",
        "    elif i%2!=0:\n",
        "        print(\"odd=\",i)\n",
        "        l+=1 \n",
        "print(k,l)"
      ],
      "metadata": {
        "id": "BuVwS50YmML8"
      },
      "execution_count": null,
      "outputs": []
    },
    {
      "cell_type": "markdown",
      "source": [
        "Q9. Compute the factorial of a given number. b) Compute GCD of two given numbers. c) Generate Fibonacci series up to N numbers."
      ],
      "metadata": {
        "id": "ULZW2vCRmRYT"
      }
    },
    {
      "cell_type": "code",
      "source": [
        "# Compute the factorial of a given number\n",
        "i = int(input(\"Enter a number : \"))\n",
        "answer=1\n",
        "for i in range(1,i+1):\n",
        "    answer*=i\n",
        "print(f'Factorial : {answer}')"
      ],
      "metadata": {
        "id": "Ey7vXCDbmU2k"
      },
      "execution_count": null,
      "outputs": []
    },
    {
      "cell_type": "code",
      "source": [
        "#Alternate method\n",
        "import math\n",
        "i = int(input(\"Enter a number : \"))\n",
        "print(f\"Factorial of {i} is {math.factorial(i)}\")"
      ],
      "metadata": {
        "id": "JW5d9nTSmXZJ"
      },
      "execution_count": null,
      "outputs": []
    },
    {
      "cell_type": "code",
      "source": [
        "#Compute GCD of two given numbers\n",
        "print(\"Enter two numbers\")\n",
        "i, j = [int(input()) for k in range(2)]\n",
        "temp, res = 0, 0\n",
        "if j>i:\n",
        "    temp=i\n",
        "    i=j\n",
        "    j=temp\n",
        "for a in range(1,i):\n",
        "    if i%a==0 and j%a==0:\n",
        "        res=a\n",
        "print(f'GCD of numbers {i} and {j} is {res}')"
      ],
      "metadata": {
        "id": "jwgWclbgmbiY"
      },
      "execution_count": null,
      "outputs": []
    },
    {
      "cell_type": "code",
      "source": [
        "#alternate\n",
        "#Compute GCD of two given numbers\n",
        "print(\"Enter two numbers\")\n",
        "i, j = [int(input()) for k in range(2)]\n",
        "temp, res = 0, 0\n",
        "if j>i:\n",
        "    temp=i\n",
        "    i=j\n",
        "    j=temp\n",
        "print(f'GCD of {i} and {j} is {math.gcd(i,j)}')"
      ],
      "metadata": {
        "id": "nF_AMSS4mchk"
      },
      "execution_count": null,
      "outputs": []
    },
    {
      "cell_type": "code",
      "source": [
        "#Generating Fibonacci upto N terms\n",
        "N = int(input(\"Enter N : \"))\n",
        "p1, p2 = 0, 1\n",
        "p3 = p1+p2\n",
        "if N==0 or N<0:\n",
        "    print('Enter valid N')\n",
        "elif N==1:\n",
        "    print(1)\n",
        "elif N==2:\n",
        "    print(f'{1} {p3}')\n",
        "elif N>3:\n",
        "    print(p2, end=' ')\n",
        "    for k in range(1,N):\n",
        "        print(p3, end=' ')\n",
        "        p1, p2 = p2, p3\n",
        "        p3 = p1+p2"
      ],
      "metadata": {
        "id": "8ttrWhFemhxv"
      },
      "execution_count": null,
      "outputs": []
    },
    {
      "cell_type": "markdown",
      "source": [
        "Q10. Check whether the given input is a) palindrome b) strong c) perfect"
      ],
      "metadata": {
        "id": "WHe0dHknmjpw"
      }
    },
    {
      "cell_type": "code",
      "source": [
        "n = int(input('Enter number : '))\n",
        "s1, s2= 0, 0\n",
        "if str(n)==str(n)[::-1]:\n",
        "    print(f'{n} is palindrome')\n",
        "else:\n",
        "    for i in range(len(str(n))):\n",
        "        s1+=math.factorial(int(str(n)[i]))\n",
        "    if s1==n:\n",
        "        print('Strong Number') # 145 is strong number (as 1! + 4! + 5! = 145)\n",
        "    else:\n",
        "        for i in range(1,n):\n",
        "            if n%i==0:\n",
        "                s2+=i\n",
        "        if n==s2:\n",
        "            print('Perfect Number') #28 is perfect number (as it's factor's sum is 28)\n",
        "        else:\n",
        "            print('Not perfect, palindrome or strong number')"
      ],
      "metadata": {
        "id": "kcWx4R9ImmTN"
      },
      "execution_count": null,
      "outputs": []
    },
    {
      "cell_type": "markdown",
      "source": [
        "Q11. Compute compound interest using loop for a certain principal and interest amount"
      ],
      "metadata": {
        "id": "tjVW3kszmqIf"
      }
    },
    {
      "cell_type": "code",
      "source": [
        ""
      ],
      "metadata": {
        "id": "tIYzbitamsQ4"
      },
      "execution_count": null,
      "outputs": []
    }
  ]
}