{
  "nbformat": 4,
  "nbformat_minor": 0,
  "metadata": {
    "colab": {
      "name": "Module-1",
      "provenance": [],
      "collapsed_sections": [],
      "authorship_tag": "ABX9TyMIczD+tM4Bk9HKKRNpdNfX",
      "include_colab_link": true
    },
    "kernelspec": {
      "name": "python3",
      "display_name": "Python 3"
    },
    "language_info": {
      "name": "python"
    }
  },
  "cells": [
    {
      "cell_type": "markdown",
      "metadata": {
        "id": "view-in-github",
        "colab_type": "text"
      },
      "source": [
        "<a href=\"https://colab.research.google.com/github/suryakiran23/PYTHON/blob/Module-1/Module_1.ipynb\" target=\"_parent\"><img src=\"https://colab.research.google.com/assets/colab-badge.svg\" alt=\"Open In Colab\"/></a>"
      ]
    },
    {
      "cell_type": "markdown",
      "source": [
        "Q1. Accept input from user and store it in variable and print the value."
      ],
      "metadata": {
        "id": "Wt3N_8oFkgLx"
      }
    },
    {
      "cell_type": "code",
      "execution_count": 1,
      "metadata": {
        "id": "FEKvQCfkkayW",
        "colab": {
          "base_uri": "https://localhost:8080/"
        },
        "outputId": "374a2cd7-f519-4d83-b4cb-7aaef994af15"
      },
      "outputs": [
        {
          "output_type": "stream",
          "name": "stdout",
          "text": [
            "Enter something : hhh\n",
            "You entered hhh\n"
          ]
        }
      ],
      "source": [
        "variable = input('Enter something : ')\n",
        "print('You entered '+variable)"
      ]
    },
    {
      "cell_type": "markdown",
      "source": [
        "Q2. Use of print statements and use of (.format )for printing different data types."
      ],
      "metadata": {
        "id": "Gryjote3k0r7"
      }
    },
    {
      "cell_type": "code",
      "source": [
        "a1 = 1234\n",
        "a2 = 'string'\n",
        "a3 = 12.34\n",
        "a4 = 10e100  #type is float\n",
        "a5 = True\n",
        "a6 = -4j+1\n",
        "print('Number: {}\\nString: {}\\nFloat: {}\\nFloat: {}\\nBoolean: {}\\nComplex: {}'.format(a1,a2,a3,a4,a5,a6))"
      ],
      "metadata": {
        "colab": {
          "base_uri": "https://localhost:8080/"
        },
        "id": "eOolQWVykzqU",
        "outputId": "bbef200b-7503-4d76-e93f-99856ef57ca4"
      },
      "execution_count": 19,
      "outputs": [
        {
          "output_type": "stream",
          "name": "stdout",
          "text": [
            "Number: 1234\n",
            "String: string\n",
            "Float: 12.34\n",
            "Float: 1e+101\n",
            "Boolean: True\n",
            "Complex: (1-4j)\n"
          ]
        }
      ]
    },
    {
      "cell_type": "markdown",
      "source": [
        "Q3. Take 2 numbers as user input and add, multiply, divide, subtract, remainder and print the output (Same operations on floating point input as well)"
      ],
      "metadata": {
        "id": "JoXyMoAYlN9j"
      }
    },
    {
      "cell_type": "code",
      "source": [
        "a=2\n",
        "b=3\n",
        "print(a+b)\n",
        "print(a-b)\n",
        "print(a*b)\n",
        "print(a/b)\n",
        "\n",
        " \n"
      ],
      "metadata": {
        "id": "UytSIh3IlIyK",
        "colab": {
          "base_uri": "https://localhost:8080/"
        },
        "outputId": "71c283f9-4193-430f-99b4-3cbc0be23416"
      },
      "execution_count": 11,
      "outputs": [
        {
          "output_type": "stream",
          "name": "stdout",
          "text": [
            "5\n",
            "-1\n",
            "6\n",
            "0.6666666666666666\n"
          ]
        }
      ]
    },
    {
      "cell_type": "markdown",
      "source": [
        "Q4. Conversion of one unit to another (such as hours to minutes, miles to km and etc)"
      ],
      "metadata": {
        "id": "NTuE9AD2lWh4"
      }
    },
    {
      "cell_type": "code",
      "source": [
        "a=int(input(\"enter the time in hours\"))\n",
        "min=a*60\n",
        "print(min)\n",
        "\n"
      ],
      "metadata": {
        "id": "72U9-SfflViI",
        "colab": {
          "base_uri": "https://localhost:8080/"
        },
        "outputId": "6f39c16b-0a52-4afe-e674-7ee2030fe3fc"
      },
      "execution_count": 12,
      "outputs": [
        {
          "output_type": "stream",
          "name": "stdout",
          "text": [
            "enter the time in hours5\n",
            "300\n"
          ]
        }
      ]
    },
    {
      "cell_type": "markdown",
      "source": [
        "Q5. Usage of mathematical functions in python like math.ceil, floor, fabs, fmod, trunc, pow, sqrt etc."
      ],
      "metadata": {
        "id": "SRptwTrAler3"
      }
    },
    {
      "cell_type": "code",
      "source": [
        "import math\n",
        "#using math.ceil\n",
        "a=123.456\n",
        "math.ceil(a)"
      ],
      "metadata": {
        "id": "93d23UTSlk3i"
      },
      "execution_count": null,
      "outputs": []
    },
    {
      "cell_type": "code",
      "source": [
        "import math\n",
        "#using math.floor\n",
        "a=123.456\n",
        "math.floor(a)"
      ],
      "metadata": {
        "id": "nKN5P1WplnXq",
        "colab": {
          "base_uri": "https://localhost:8080/"
        },
        "outputId": "4f3a9fb5-aff0-4dbc-e782-189e7345e05b"
      },
      "execution_count": 7,
      "outputs": [
        {
          "output_type": "execute_result",
          "data": {
            "text/plain": [
              "123"
            ]
          },
          "metadata": {},
          "execution_count": 7
        }
      ]
    },
    {
      "cell_type": "code",
      "source": [
        "import math\n",
        "#using math.pow\n",
        "math.pow(3,2)"
      ],
      "metadata": {
        "id": "hNKdWJ3qlpvo"
      },
      "execution_count": null,
      "outputs": []
    },
    {
      "cell_type": "code",
      "source": [
        "import math\n",
        "#using math.sqrt\n",
        "print (math.sqrt(81))\n",
        "print (math.fabs(5.66))\n",
        "print (math.fmod(10,3))\n",
        "print(math.trunc(2.77))\n",
        "print(math.trunc(-99.29))\n"
      ],
      "metadata": {
        "id": "u0MijpkUl0n_",
        "colab": {
          "base_uri": "https://localhost:8080/"
        },
        "outputId": "b637fec0-fa86-4ebd-9e00-63e696de32b2"
      },
      "execution_count": 8,
      "outputs": [
        {
          "output_type": "stream",
          "name": "stdout",
          "text": [
            "9.0\n",
            "5.66\n",
            "1.0\n",
            "2\n",
            "-99\n"
          ]
        }
      ]
    },
    {
      "cell_type": "markdown",
      "source": [
        "Q6. Building a mathematical calculator that can perform operations according to user input. Use decision making statement."
      ],
      "metadata": {
        "id": "jrS34-v1l4mO"
      }
    },
    {
      "cell_type": "code",
      "source": [
        "a=2\n",
        "b=3\n",
        "print('1=\"addition\",2=\"subtraction\",3=\"multiplication\",4=\"division\"')\n",
        "c=int(input(\"enter any number upto 4\"))\n",
        "if c==1:\n",
        "     print(a+b)\n",
        "elif c==2:\n",
        "    print(a-b)\n",
        "elif c==3:\n",
        "    print(a*b)\n",
        "elif c==4:\n",
        "    print(a/b)\n",
        "else:\n",
        "    print(invalid)"
      ],
      "metadata": {
        "id": "4rU7bQTnl3We"
      },
      "execution_count": null,
      "outputs": []
    },
    {
      "cell_type": "markdown",
      "source": [
        "Q7. Accepting 5 different subject marks from user and displaying the grade of the student."
      ],
      "metadata": {
        "id": "UPKxUU56l-5u"
      }
    },
    {
      "cell_type": "code",
      "source": [
        "print(\"mark of the student 1 \")\n",
        "s1=int(input(\"enter the subject marks: \"))\n",
        "s2=int(input(\"enter the subject marks: \"))\n",
        "s3=int(input(\"enter the subject marks: \"))\n",
        "s4=int(input(\"enter the subject marks: \"))\n",
        "s5=int(input(\"enter the subject marks: \"))\n",
        "total=s1+s2+s3+s4+s5\n",
        "if total>90 and total<100:\n",
        "    print(\"A GRADE\")\n",
        "elif total>80 and total<90:\n",
        "    print(\"B GRADE\")\n",
        "elif total>70 and total<80:\n",
        "    print(\"C GRADE\")\n",
        "elif total>60 and total<70:\n",
        "    print(\"D GRADE\")\n",
        "else:\n",
        "    print(\"FAIL\")"
      ],
      "metadata": {
        "id": "zve_cW_Wl9-p"
      },
      "execution_count": null,
      "outputs": []
    },
    {
      "cell_type": "markdown",
      "source": [
        "Q8. Printing all even numbers, odd numbers, count of even numbers, count of odd numbers within a given range."
      ],
      "metadata": {
        "id": "60Jyyy66mIB8"
      }
    },
    {
      "cell_type": "code",
      "source": [
        "a=int(input(\"enter the range you want to calculate the numbers for\"))\n",
        "k=0;l=0\n",
        "for i in range(0,a):\n",
        "    if i%2==0:\n",
        "        print(\"even=\",i)\n",
        "        k=k+1 \n",
        "    elif i%2!=0:\n",
        "        print(\"odd=\",i)\n",
        "        l+=1 \n",
        "print(k,l)"
      ],
      "metadata": {
        "id": "BuVwS50YmML8"
      },
      "execution_count": null,
      "outputs": []
    },
    {
      "cell_type": "markdown",
      "source": [
        "Q9. Compute the factorial of a given number. b) Compute GCD of two given numbers. c) Generate Fibonacci series up to N numbers."
      ],
      "metadata": {
        "id": "ULZW2vCRmRYT"
      }
    },
    {
      "cell_type": "code",
      "source": [
        "#Compute the factorial of a given numbers.\n",
        "\n",
        "a=int(input(\"enter the number\"))\n",
        "fact=1\n",
        "for i in range(1,a+1):\n",
        "    fact=fact*i\n",
        "print(fact)"
      ],
      "metadata": {
        "id": "E7FZy7Qz6808"
      },
      "execution_count": null,
      "outputs": []
    },
    {
      "cell_type": "code",
      "source": [
        "#Compute GCD of two given numbers.\n",
        "num1 = int(input(\"Enter 1st number: \"))\n",
        "num2 = int(input(\"Enter 2nd number: \"))\n",
        "gcd=i\n",
        "while (i <= num1 and i <= num2):\n",
        "  if(num1 % i == 0 and num2 % i == 0):\n",
        "    gcd = i\n",
        "  i = i + 1\n",
        "print(\"GCD is\",gcd)"
      ],
      "metadata": {
        "id": "nF_AMSS4mchk",
        "colab": {
          "base_uri": "https://localhost:8080/"
        },
        "outputId": "f207e6a5-90d8-4f0a-9aca-0bc9e16fcbd6"
      },
      "execution_count": 32,
      "outputs": [
        {
          "output_type": "stream",
          "name": "stdout",
          "text": [
            "Enter 1st number: 5\n",
            "Enter 2nd number: 2\n",
            "GCD is 2\n"
          ]
        }
      ]
    },
    {
      "cell_type": "code",
      "source": [
        "#Fibonacci series up to N numbers.\n",
        " a=0;b=1;n=int(input(\"enter number of terms u want to find plandrome for\"))\n",
        "print(a,b)\n",
        "for i in range(1,n):\n",
        "    nextnum=a+b \n",
        "    print(nextnum)\n",
        "    a=b \n",
        "    b=nextnum\n",
        "    i=i+1\n",
        "print(\"completion of fibonanci\")"
      ],
      "metadata": {
        "id": "8ttrWhFemhxv"
      },
      "execution_count": null,
      "outputs": []
    },
    {
      "cell_type": "markdown",
      "source": [
        "Q10. Check whether the given input is a) palindrome b) strong c) perfect"
      ],
      "metadata": {
        "id": "WHe0dHknmjpw"
      }
    },
    {
      "cell_type": "code",
      "source": [
        "#palindrome\n",
        "a=int(input(\"enter the number you want to find palindrome for\"))\n",
        "rev=0\n",
        "temp=a\n",
        "while temp>0:\n",
        "    rem=temp%10\n",
        "    rev=(rev*10)+rem\n",
        "    temp=temp//10\n",
        "if a==rev:\n",
        "    print(\"palindrome\")\n",
        "else:\n",
        "    print(\"not a plaindrome\")"
      ],
      "metadata": {
        "id": "pR-ep1RC4t1y"
      },
      "execution_count": null,
      "outputs": []
    },
    {
      "cell_type": "code",
      "source": [
        "#strong number\n",
        "a=int(input(\"enter the number\"))\n",
        "sum=0\n",
        "temp=a\n",
        "while temp>0:\n",
        "    fact=1\n",
        "    i=1\n",
        "    rem=temp%10\n",
        "    while i<=rem: \n",
        "        fact=fact*i\n",
        "        i=i+1\n",
        "    sum=sum+fact \n",
        "    temp=temp//10\n",
        "print(sum)\n",
        "if a==sum:\n",
        "    print(\"yes it is strong number\")\n",
        "else:\n",
        "    print(\"no\")"
      ],
      "metadata": {
        "colab": {
          "base_uri": "https://localhost:8080/"
        },
        "id": "Uemr1t5h4tkB",
        "outputId": "9710decb-711a-427d-bc1d-f63b3bcf5ac0"
      },
      "execution_count": 31,
      "outputs": [
        {
          "output_type": "stream",
          "name": "stdout",
          "text": [
            "enter the number145\n",
            "145\n",
            "yes it is strong number\n"
          ]
        }
      ]
    },
    {
      "cell_type": "code",
      "source": [
        "# perfect number\n",
        "a=int(input(\"enter the number\"))\n",
        "sum=0\n",
        "for i in range (1,a):\n",
        "    if a%i==0:\n",
        "        sum=sum+i\n",
        "if sum==a:\n",
        "        print(\"perfect number\")\n",
        "else:\n",
        "        print(\"not a perfect number\")"
      ],
      "metadata": {
        "id": "kcWx4R9ImmTN"
      },
      "execution_count": null,
      "outputs": []
    },
    {
      "cell_type": "markdown",
      "source": [
        "Q11. Compute compound interest using loop for a certain principal and interest amount"
      ],
      "metadata": {
        "id": "tjVW3kszmqIf"
      }
    },
    {
      "cell_type": "code",
      "source": [
        "p=int(input(\"enter the principal amount\"))\n",
        "r=int(input(\"enter the intrest amount\"))\n",
        "t=int(input(\"amount of years\"))\n",
        "for i in range(1,t+1):\n",
        "    si=(p*i*r)//100\n",
        "    print(i,\"yr interst si is \",si)\n",
        "    ci=p*(math.pow(1+r/100,i))\n",
        "    print(i,\"yr interst ci is \",ci)"
      ],
      "metadata": {
        "id": "tIYzbitamsQ4",
        "colab": {
          "base_uri": "https://localhost:8080/"
        },
        "outputId": "3ef4bb9c-7606-4a3b-b73c-fd0beeb2d1c3"
      },
      "execution_count": 14,
      "outputs": [
        {
          "output_type": "stream",
          "name": "stdout",
          "text": [
            "enter the principal amount500\n",
            "enter the intrest amount5\n",
            "amount of years2\n",
            "1 yr interst si is  25\n",
            "1 yr interst ci is  525.0\n",
            "2 yr interst si is  50\n",
            "2 yr interst ci is  551.25\n"
          ]
        }
      ]
    }
  ]
}