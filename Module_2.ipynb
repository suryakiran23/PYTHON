{
  "cells": [
    {
      "cell_type": "markdown",
      "metadata": {
        "id": "view-in-github",
        "colab_type": "text"
      },
      "source": [
        "<a href=\"https://colab.research.google.com/github/suryakiran23/PYTHON/blob/Module-2/Module_2.ipynb\" target=\"_parent\"><img src=\"https://colab.research.google.com/assets/colab-badge.svg\" alt=\"Open In Colab\"/></a>"
      ]
    },
    {
      "cell_type": "markdown",
      "id": "e63e7a7d",
      "metadata": {
        "id": "e63e7a7d"
      },
      "source": [
        "#### · Create a function which accepts two inputs from the user and compute nCr\n"
      ]
    },
    {
      "cell_type": "code",
      "execution_count": 1,
      "id": "dea9cd61",
      "metadata": {
        "id": "dea9cd61",
        "outputId": "00ca4325-73d1-485f-8fb9-dfaad1fe80d8",
        "colab": {
          "base_uri": "https://localhost:8080/"
        }
      },
      "outputs": [
        {
          "output_type": "stream",
          "name": "stdout",
          "text": [
            "enter the value of n: 10\n",
            "enter the value of r: 6\n",
            "210.0\n"
          ]
        }
      ],
      "source": [
        "def ncr(n,r):\n",
        "    return fact(n)/(fact(r)*fact(n-r))\n",
        "def fact(n):\n",
        "    fact=1\n",
        "    for i in range(1,n+1):\n",
        "        fact=fact*i\n",
        "    return fact\n",
        "a=int(input(\"enter the value of n: \"))\n",
        "b=int(input(\"enter the value of r: \"))\n",
        "print(ncr(a,b))"
      ]
    },
    {
      "cell_type": "markdown",
      "id": "6e8bd303",
      "metadata": {
        "id": "6e8bd303"
      },
      "source": [
        "#### · Recursive function to compute GCD of 2 numbers"
      ]
    },
    {
      "cell_type": "code",
      "execution_count": null,
      "id": "422cac42",
      "metadata": {
        "id": "422cac42",
        "outputId": "fc54dc33-0a68-41d8-b7b1-ada6b16b01d6"
      },
      "outputs": [
        {
          "name": "stdout",
          "output_type": "stream",
          "text": [
            "Enter first number:5\n",
            "Enter second number:2\n",
            "GCD is: \n",
            "1\n"
          ]
        }
      ],
      "source": [
        "def gcd(a,b):\n",
        "    if(b==0):\n",
        "        return a\n",
        "    else:\n",
        "        return gcd(b,a%b)\n",
        "a=int(input(\"Enter first number:\"))\n",
        "b=int(input(\"Enter second number:\"))\n",
        "GCD=gcd(a,b)\n",
        "print(\"GCD is: \")\n",
        "print(GCD)"
      ]
    },
    {
      "cell_type": "markdown",
      "id": "7e8ad44a",
      "metadata": {
        "id": "7e8ad44a"
      },
      "source": [
        "#### · Recursive function to find product of two numbers"
      ]
    },
    {
      "cell_type": "code",
      "execution_count": null,
      "id": "45ea648e",
      "metadata": {
        "id": "45ea648e",
        "outputId": "796702b4-f135-42ad-975c-9a2abc3b999b"
      },
      "outputs": [
        {
          "name": "stdout",
          "output_type": "stream",
          "text": [
            "Enter first number: 6\n",
            "Enter second number: 8\n",
            "product is:  48\n"
          ]
        }
      ],
      "source": [
        "def product(num1,num2):\n",
        "    if(num1<num2):\n",
        "        return product(num2,num1)\n",
        "    elif(num2!=0):\n",
        "         return(num1+product(num1,num2-1))\n",
        "    else:\n",
        "         return 0\n",
        "\n",
        "num1=int(input(\"Enter first number: \"))\n",
        "num2=int(input(\"Enter second number: \"))\n",
        "\n",
        "print(\"product is: \",product(num1,num2))"
      ]
    },
    {
      "cell_type": "markdown",
      "id": "9aee838f",
      "metadata": {
        "id": "9aee838f"
      },
      "source": [
        "#### · Recursive function to generate Fibonacci series"
      ]
    },
    {
      "cell_type": "code",
      "execution_count": 2,
      "id": "ab45ceca",
      "metadata": {
        "id": "ab45ceca",
        "outputId": "b7ee9176-6c78-43f7-da27-6baa62f306f8",
        "colab": {
          "base_uri": "https://localhost:8080/"
        }
      },
      "outputs": [
        {
          "output_type": "stream",
          "name": "stdout",
          "text": [
            "enter number of terms: 9\n",
            "fibonacci series\n",
            "0\n",
            "1\n",
            "1\n",
            "2\n",
            "3\n",
            "5\n",
            "8\n",
            "13\n",
            "21\n"
          ]
        }
      ],
      "source": [
        "def fibo(n):\n",
        "    if n<=1:\n",
        "        return n\n",
        "    else:\n",
        "        return(fibo(n-1)+(fibo(n-2)))\n",
        "nterms = int(input(\"enter number of terms: \"))\n",
        "if nterms<=0:\n",
        "               print(\"enter any postive values: \")\n",
        "else:\n",
        "    print(\"fibonacci series\")\n",
        "for i in range(nterms):\n",
        "            print(fibo(i))  "
      ]
    },
    {
      "cell_type": "markdown",
      "id": "7e5065e8",
      "metadata": {
        "id": "7e5065e8"
      },
      "source": [
        " #### Program to print a specified list after removing the 0th, 4th and 5th elements.  Sample List : ['Red', 'Green', 'White', 'Black', 'Pink', 'Yellow'] Expected Output : ['Green', 'White', 'Black']"
      ]
    },
    {
      "cell_type": "code",
      "execution_count": null,
      "id": "25142861",
      "metadata": {
        "id": "25142861",
        "outputId": "338afeae-3d64-4554-85da-42d715e7f701"
      },
      "outputs": [
        {
          "name": "stdout",
          "output_type": "stream",
          "text": [
            "['Green', 'White', 'Black']\n"
          ]
        }
      ],
      "source": [
        "list= ['Red', 'Green', 'White', 'Black', 'Pink', 'Yellow'] \n",
        "list.pop(0)\n",
        "list.pop(3)\n",
        "list.pop()\n",
        "print(list)"
      ]
    },
    {
      "cell_type": "markdown",
      "id": "81d91f22",
      "metadata": {
        "id": "81d91f22"
      },
      "source": [
        "#### Program to get the difference between the two lists."
      ]
    },
    {
      "cell_type": "code",
      "execution_count": null,
      "id": "b63a8b92",
      "metadata": {
        "id": "b63a8b92",
        "outputId": "99a174d6-77a2-465c-f98d-6180516c5f31",
        "colab": {
          "base_uri": "https://localhost:8080/"
        }
      },
      "outputs": [
        {
          "output_type": "stream",
          "name": "stdout",
          "text": [
            "[4]\n"
          ]
        }
      ],
      "source": [
        "a=[1,2,3,4]\n",
        "b=[1,3,5,2]\n",
        "difference=[]\n",
        "for x in a:\n",
        "    if x not in b:\n",
        "        difference.append(x)\n",
        "print(difference)"
      ]
    },
    {
      "cell_type": "markdown",
      "id": "c39459f6",
      "metadata": {
        "id": "c39459f6"
      },
      "source": [
        "#### Program to find the second smallest number and second largest number in a list."
      ]
    },
    {
      "cell_type": "code",
      "execution_count": null,
      "id": "df6b5009",
      "metadata": {
        "id": "df6b5009",
        "outputId": "522805ec-5ab4-4c6c-c494-d91c72c5a392",
        "colab": {
          "base_uri": "https://localhost:8080/"
        }
      },
      "outputs": [
        {
          "output_type": "stream",
          "name": "stdout",
          "text": [
            "4 2\n"
          ]
        }
      ],
      "source": [
        "a=[1,2,3,4,5]\n",
        "a.sort(reverse=True)\n",
        "print(a[1],a[-2])"
      ]
    },
    {
      "cell_type": "markdown",
      "id": "55170603",
      "metadata": {
        "id": "55170603"
      },
      "source": [
        "#### · Given a list of numbers of list, write a Python program to create a list of tuples having first element as the number and second element as the square of the number."
      ]
    },
    {
      "cell_type": "code",
      "execution_count": null,
      "id": "f0b6fe21",
      "metadata": {
        "id": "f0b6fe21",
        "outputId": "8d6e988e-efd9-4bfa-ee44-e4ec0ba8c337",
        "colab": {
          "base_uri": "https://localhost:8080/"
        }
      },
      "outputs": [
        {
          "output_type": "stream",
          "name": "stdout",
          "text": [
            "[(9, 81.0)]\n",
            "[(3, 9.0)]\n",
            "[(6, 36.0)]\n"
          ]
        }
      ],
      "source": [
        "import math\n",
        "a=[9,3,6]\n",
        "for x in a:\n",
        "    tup=[(x,math.pow(x,2))]\n",
        "    print(tup)"
      ]
    },
    {
      "cell_type": "markdown",
      "id": "6b4b9bdc",
      "metadata": {
        "id": "6b4b9bdc"
      },
      "source": [
        "#### · Given list of tuples, remove all the tuples with length K. Input : test_list = [(4, 5), (4, ), (8, 6, 7), (1, ), (3, 4, 6, 7)], K = 2 Output : [(4, ), (8, 6, 7), (1, ), (3, 4, 6, 7)] Explanation : (4, 5) of len = 2 is removed."
      ]
    },
    {
      "cell_type": "code",
      "execution_count": null,
      "id": "612e8301",
      "metadata": {
        "id": "612e8301",
        "colab": {
          "base_uri": "https://localhost:8080/"
        },
        "outputId": "347c9399-7c05-40bd-80eb-724f6a3a355e"
      },
      "outputs": [
        {
          "output_type": "stream",
          "name": "stdout",
          "text": [
            "[(4,), (8, 6, 7), (1,), (3, 4, 6, 7)]\n"
          ]
        }
      ],
      "source": [
        "a= [(4, 5), (4, ), (8, 6, 7), (1, ), (3, 4, 6, 7)]\n",
        "b=[]\n",
        "k=2\n",
        "for x in a:\n",
        "    if len(x)!=k:\n",
        "        b.append(x)\n",
        "print(b)"
      ]
    },
    {
      "cell_type": "markdown",
      "source": [
        "Program to generate and print a dictionary that contains a number (between 1 \n",
        "and n) in the form (x, x*x). \n",
        "Sample Input: (n=5) : \n",
        "Expected Output : {1: 1, 2: 4, 3: 9, 4: 16, 5: 25}\n"
      ],
      "metadata": {
        "id": "sugyLte8sK60"
      },
      "id": "sugyLte8sK60"
    },
    {
      "cell_type": "code",
      "execution_count": null,
      "id": "1f905640",
      "metadata": {
        "id": "1f905640",
        "colab": {
          "base_uri": "https://localhost:8080/"
        },
        "outputId": "ea169df3-d407-442b-9a2b-bfbb31cdb5ca"
      },
      "outputs": [
        {
          "output_type": "stream",
          "name": "stdout",
          "text": [
            "enter the amount of number's5\n",
            "{0: 0, 1: 1, 2: 4, 3: 9, 4: 16}\n"
          ]
        }
      ],
      "source": [
        "b=int(input(\"enter the amount of number's\"))\n",
        "a=dict()\n",
        "for x in range(1,b+1):\n",
        "    a[x]=x*x\n",
        "print(a)\n",
        "    "
      ]
    },
    {
      "cell_type": "markdown",
      "id": "ffac1cbb",
      "metadata": {
        "id": "ffac1cbb"
      },
      "source": [
        "#### · Program to remove a key from a dictionary"
      ]
    },
    {
      "cell_type": "code",
      "execution_count": null,
      "id": "f0de0837",
      "metadata": {
        "id": "f0de0837",
        "outputId": "0a13073b-43f6-43f7-e6c5-ec8b04d18fa6"
      },
      "outputs": [
        {
          "name": "stdout",
          "output_type": "stream",
          "text": [
            "{'age': 0, 'year': 2021}\n"
          ]
        }
      ],
      "source": [
        "test={\n",
        "    \"name\":\"x\",\n",
        "    \"age\": 0,\n",
        "    \"year\":2021\n",
        "}\n",
        "del test[\"name\"]\n",
        "print(test)"
      ]
    },
    {
      "cell_type": "markdown",
      "source": [
        "Program to get the maximum and minimum value in a dictionary\n"
      ],
      "metadata": {
        "id": "eHDphmqvpD4c"
      },
      "id": "eHDphmqvpD4c"
    },
    {
      "cell_type": "code",
      "source": [
        "a={\n",
        "    1,2,4,5,6\n",
        "}\n",
        "print(max(a),min(a))"
      ],
      "metadata": {
        "colab": {
          "base_uri": "https://localhost:8080/"
        },
        "id": "jSADU-w1pYaA",
        "outputId": "e12f772c-eab1-451b-c99e-70888d55fbdd"
      },
      "id": "jSADU-w1pYaA",
      "execution_count": null,
      "outputs": [
        {
          "output_type": "stream",
          "name": "stdout",
          "text": [
            "6 1\n"
          ]
        }
      ]
    },
    {
      "cell_type": "markdown",
      "source": [
        "Program to perform operations on string using unicodes ,splitting of string,accessing \n",
        "elements of string using locations\n"
      ],
      "metadata": {
        "id": "A15rfPp-r2m0"
      },
      "id": "A15rfPp-r2m0"
    },
    {
      "cell_type": "code",
      "source": [
        "a=\"hi,bye,hello\"\n",
        "print(a.split())\n",
        "print(a[2:5])"
      ],
      "metadata": {
        "id": "FeEealxGr13Y",
        "outputId": "2a44de95-2fe9-4ced-ee62-5944fdfd7547",
        "colab": {
          "base_uri": "https://localhost:8080/"
        }
      },
      "id": "FeEealxGr13Y",
      "execution_count": 3,
      "outputs": [
        {
          "output_type": "stream",
          "name": "stdout",
          "text": [
            "['hi,bye,hello']\n",
            ",by\n"
          ]
        }
      ]
    },
    {
      "cell_type": "markdown",
      "id": "8ca408da",
      "metadata": {
        "id": "8ca408da"
      },
      "source": [
        "#### Program for Counting occurrence of a certain element in a string, getting indexes that have matching elements."
      ]
    },
    {
      "cell_type": "code",
      "execution_count": null,
      "id": "1d1e9783",
      "metadata": {
        "id": "1d1e9783",
        "outputId": "15d34401-be21-4be7-92ba-fd8eb89b9b6e",
        "colab": {
          "base_uri": "https://localhost:8080/"
        }
      },
      "outputs": [
        {
          "output_type": "stream",
          "name": "stdout",
          "text": [
            "2\n"
          ]
        }
      ],
      "source": [
        "a=\"hi,bye,hello\"\n",
        "print(a.count(\"h\"))"
      ]
    },
    {
      "cell_type": "markdown",
      "source": [
        "Program for replacing one substring by another For example - Rabbit - Replace ‘bb’ by \n",
        "‘cc’"
      ],
      "metadata": {
        "id": "OSI2Sj3ZrNeM"
      },
      "id": "OSI2Sj3ZrNeM"
    },
    {
      "cell_type": "code",
      "execution_count": null,
      "id": "041bf236",
      "metadata": {
        "colab": {
          "base_uri": "https://localhost:8080/"
        },
        "id": "041bf236",
        "outputId": "24b4d665-959e-47e7-abbc-ff4987d3411e"
      },
      "outputs": [
        {
          "output_type": "stream",
          "name": "stdout",
          "text": [
            "raccit\n"
          ]
        }
      ],
      "source": [
        "a=\"rabbit\"\n",
        "print (a.replace(\"b\" , \"c\"))   ##a[2,4]=\"cc\""
      ]
    },
    {
      "cell_type": "markdown",
      "source": [
        "Program to Acronym generator for any user input (ex-input is Random memory access \n",
        "then output should be RMA).Example - Random number (RN)"
      ],
      "metadata": {
        "id": "mlNt1mD7rG1I"
      },
      "id": "mlNt1mD7rG1I"
    },
    {
      "cell_type": "code",
      "source": [
        "import random\n",
        "a=input(\"enter the command\")\n",
        "if \"roll\"==a:\n",
        "    for x in range(6):\n",
        "        a=random.randint(1,6)\n",
        "        print(a)"
      ],
      "metadata": {
        "id": "nlVus6PRsXsm",
        "colab": {
          "base_uri": "https://localhost:8080/"
        },
        "outputId": "36e31965-4ca7-4dff-c925-b8053761a802"
      },
      "id": "nlVus6PRsXsm",
      "execution_count": null,
      "outputs": [
        {
          "output_type": "stream",
          "name": "stdout",
          "text": [
            "enter the commandroll\n",
            "1\n",
            "4\n",
            "1\n",
            "4\n",
            "6\n",
            "4\n"
          ]
        }
      ]
    },
    {
      "cell_type": "markdown",
      "source": [
        "Python function that accepts a string and calculates the number of uppercase \n",
        "letters and lowercase letters"
      ],
      "metadata": {
        "id": "eMdF5Bj0qj6e"
      },
      "id": "eMdF5Bj0qj6e"
    },
    {
      "cell_type": "code",
      "execution_count": null,
      "id": "b65cac46",
      "metadata": {
        "id": "b65cac46",
        "outputId": "8e307ea4-4d55-44e0-95c6-3bb44aff2ae1",
        "colab": {
          "base_uri": "https://localhost:8080/"
        }
      },
      "outputs": [
        {
          "output_type": "stream",
          "name": "stdout",
          "text": [
            "the lower values 3\n",
            "higher values 2\n"
          ]
        }
      ],
      "source": [
        "def string(a):\n",
        "    u=0;l=0\n",
        "    for x in a :\n",
        "        if x.isupper():\n",
        "            u=u+1\n",
        "        else:\n",
        "            l=l+1\n",
        "    print(\"the lower values\",l)\n",
        "    print(\"higher values\",u)\n",
        "       \n",
        "string(\"KiraN\")"
      ]
    },
    {
      "cell_type": "markdown",
      "id": "aaab9232",
      "metadata": {
        "id": "aaab9232"
      },
      "source": [
        "#### · Sample List : ['abc', 'xyz', 'aba', '1221'] Expected Result : 2"
      ]
    },
    {
      "cell_type": "code",
      "execution_count": null,
      "id": "06ae95fd",
      "metadata": {
        "id": "06ae95fd",
        "outputId": "6ef4b296-2257-448f-cdd2-04827f512b41",
        "colab": {
          "base_uri": "https://localhost:8080/"
        }
      },
      "outputs": [
        {
          "output_type": "stream",
          "name": "stdout",
          "text": [
            "the string of length 2 is 2\n"
          ]
        }
      ],
      "source": [
        "a=['abc', 'xyz', 'aba', '1221']\n",
        "c=0\n",
        "for x in a :\n",
        "    if len(x)>=2:\n",
        "        if x[0]==x[-1]:\n",
        "            c=c+1\n",
        "print(\"the string of length 2 is\",c)"
      ]
    }
  ],
  "metadata": {
    "kernelspec": {
      "display_name": "Python 3 (ipykernel)",
      "language": "python",
      "name": "python3"
    },
    "language_info": {
      "codemirror_mode": {
        "name": "ipython",
        "version": 3
      },
      "file_extension": ".py",
      "mimetype": "text/x-python",
      "name": "python",
      "nbconvert_exporter": "python",
      "pygments_lexer": "ipython3",
      "version": "3.10.4"
    },
    "colab": {
      "name": "Module-2.ipynb",
      "provenance": [],
      "collapsed_sections": [],
      "include_colab_link": true
    }
  },
  "nbformat": 4,
  "nbformat_minor": 5
}