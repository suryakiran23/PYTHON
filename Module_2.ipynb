{
  "cells": [
    {
      "cell_type": "markdown",
      "metadata": {
        "id": "view-in-github",
        "colab_type": "text"
      },
      "source": [
        "<a href=\"https://colab.research.google.com/github/suryakiran23/PYTHON/blob/Module-2/Module_2.ipynb\" target=\"_parent\"><img src=\"https://colab.research.google.com/assets/colab-badge.svg\" alt=\"Open In Colab\"/></a>"
      ]
    },
    {
      "cell_type": "markdown",
      "id": "e63e7a7d",
      "metadata": {
        "id": "e63e7a7d"
      },
      "source": [
        "#### · Create a function which accepts two inputs from the user and compute nCr\n"
      ]
    },
    {
      "cell_type": "code",
      "execution_count": null,
      "id": "dea9cd61",
      "metadata": {
        "id": "dea9cd61",
        "outputId": "6514c0ac-4212-4523-f767-d6e6c4707dac"
      },
      "outputs": [
        {
          "name": "stdout",
          "output_type": "stream",
          "text": [
            "Enter the Value of n: 5\n",
            "Enter the Value of r: 5\n",
            "Combination (nCr) = 1.0\n"
          ]
        }
      ],
      "source": [
        "def fact(k):\n",
        "  f = i = 1\n",
        "  while i<=k:\n",
        "    f = i*f\n",
        "    i += 1\n",
        "  return f\n",
        "def findcomb(x, y):\n",
        "  num = fact(x)\n",
        "  den = fact(x - y)\n",
        "  den = fact(y) * den\n",
        "  comb = num / den\n",
        "  return comb\n",
        "print(\"Enter the Value of n: \", end=\"\")\n",
        "n = int(input())\n",
        "print(\"Enter the Value of r: \", end=\"\")\n",
        "r = int(input())\n",
        "\n",
        "print(\"Combination (nCr) =\", findcomb(n, r))"
      ]
    },
    {
      "cell_type": "markdown",
      "id": "6e8bd303",
      "metadata": {
        "id": "6e8bd303"
      },
      "source": [
        "#### · Recursive function to compute GCD of 2 numbers"
      ]
    },
    {
      "cell_type": "code",
      "execution_count": null,
      "id": "422cac42",
      "metadata": {
        "id": "422cac42",
        "outputId": "fc54dc33-0a68-41d8-b7b1-ada6b16b01d6"
      },
      "outputs": [
        {
          "name": "stdout",
          "output_type": "stream",
          "text": [
            "Enter first number:5\n",
            "Enter second number:2\n",
            "GCD is: \n",
            "1\n"
          ]
        }
      ],
      "source": [
        "def gcd(a,b):\n",
        "    if(b==0):\n",
        "        return a\n",
        "    else:\n",
        "        return gcd(b,a%b)\n",
        "a=int(input(\"Enter first number:\"))\n",
        "b=int(input(\"Enter second number:\"))\n",
        "GCD=gcd(a,b)\n",
        "print(\"GCD is: \")\n",
        "print(GCD)"
      ]
    },
    {
      "cell_type": "markdown",
      "id": "7e8ad44a",
      "metadata": {
        "id": "7e8ad44a"
      },
      "source": [
        "#### · Recursive function to find product of two numbers"
      ]
    },
    {
      "cell_type": "code",
      "execution_count": null,
      "id": "45ea648e",
      "metadata": {
        "id": "45ea648e",
        "outputId": "796702b4-f135-42ad-975c-9a2abc3b999b"
      },
      "outputs": [
        {
          "name": "stdout",
          "output_type": "stream",
          "text": [
            "Enter first number: 6\n",
            "Enter second number: 8\n",
            "product is:  48\n"
          ]
        }
      ],
      "source": [
        "def product(num1,num2):\n",
        "    if(num1<num2):\n",
        "        return product(num2,num1)\n",
        "    elif(num2!=0):\n",
        "         return(num1+product(num1,num2-1))\n",
        "    else:\n",
        "         return 0\n",
        "\n",
        "num1=int(input(\"Enter first number: \"))\n",
        "num2=int(input(\"Enter second number: \"))\n",
        "\n",
        "print(\"product is: \",product(num1,num2))"
      ]
    },
    {
      "cell_type": "markdown",
      "id": "9aee838f",
      "metadata": {
        "id": "9aee838f"
      },
      "source": [
        "#### · Recursive function to generate Fibonacci series"
      ]
    },
    {
      "cell_type": "code",
      "execution_count": null,
      "id": "ab45ceca",
      "metadata": {
        "id": "ab45ceca",
        "outputId": "ca7494f8-5cbc-4307-fc37-4edfa0149ab7"
      },
      "outputs": [
        {
          "name": "stdout",
          "output_type": "stream",
          "text": [
            "How many terms? 5\n",
            "Fibonacci sequence:\n",
            "0\n",
            "1\n",
            "1\n",
            "2\n",
            "3\n"
          ]
        }
      ],
      "source": [
        "def recur_fibo(n):  \n",
        "   if n <= 1:  \n",
        "       return n  \n",
        "   else:  \n",
        "       return(recur_fibo(n-1) + recur_fibo(n-2))  \n",
        "# take input from the user  \n",
        "nterms = int(input(\"How many terms? \"))  \n",
        "# check if the number of terms is valid  \n",
        "if nterms <= 0:  \n",
        "   print(\"Plese enter a positive integer\")  \n",
        "else:  \n",
        "   print(\"Fibonacci sequence:\")  \n",
        "   for i in range(nterms):  \n",
        "       print(recur_fibo(i))  "
      ]
    },
    {
      "cell_type": "markdown",
      "id": "7e5065e8",
      "metadata": {
        "id": "7e5065e8"
      },
      "source": [
        " #### Program to print a specified list after removing the 0th, 4th and 5th elements.  Sample List : ['Red', 'Green', 'White', 'Black', 'Pink', 'Yellow'] Expected Output : ['Green', 'White', 'Black']"
      ]
    },
    {
      "cell_type": "code",
      "execution_count": null,
      "id": "25142861",
      "metadata": {
        "id": "25142861",
        "outputId": "338afeae-3d64-4554-85da-42d715e7f701"
      },
      "outputs": [
        {
          "name": "stdout",
          "output_type": "stream",
          "text": [
            "['Green', 'White', 'Black']\n"
          ]
        }
      ],
      "source": [
        "list= ['Red', 'Green', 'White', 'Black', 'Pink', 'Yellow'] \n",
        "list.pop(0)\n",
        "list.pop(3)\n",
        "list.pop()\n",
        "print(list)"
      ]
    },
    {
      "cell_type": "markdown",
      "id": "81d91f22",
      "metadata": {
        "id": "81d91f22"
      },
      "source": [
        "#### Program to get the difference between the two lists."
      ]
    },
    {
      "cell_type": "code",
      "execution_count": null,
      "id": "b63a8b92",
      "metadata": {
        "id": "b63a8b92",
        "outputId": "3fda290f-9950-4196-cbfa-743a7f99476a"
      },
      "outputs": [
        {
          "name": "stdout",
          "output_type": "stream",
          "text": [
            "[]\n",
            "[]\n",
            "[]\n",
            "[4]\n"
          ]
        }
      ],
      "source": [
        "a=[1,2,3,4]\n",
        "b=[1,3,5,2]\n",
        "difference=[]\n",
        "for x in a:\n",
        "    if x not in b:\n",
        "        difference.append(x)\n",
        "    print(difference)"
      ]
    },
    {
      "cell_type": "markdown",
      "id": "c39459f6",
      "metadata": {
        "id": "c39459f6"
      },
      "source": [
        "#### Program to find the second smallest number and second largest number in a list."
      ]
    },
    {
      "cell_type": "code",
      "execution_count": null,
      "id": "df6b5009",
      "metadata": {
        "id": "df6b5009",
        "outputId": "06c76e8c-4e91-42c2-ca73-373797a64857"
      },
      "outputs": [
        {
          "name": "stdout",
          "output_type": "stream",
          "text": [
            "2 4\n"
          ]
        }
      ],
      "source": [
        "a=[1,2,3,4,5]\n",
        "a.sort(reverse=True)\n",
        "print(a[3],a[1])"
      ]
    },
    {
      "cell_type": "markdown",
      "id": "55170603",
      "metadata": {
        "id": "55170603"
      },
      "source": [
        "#### · Given a list of numbers of list, write a Python program to create a list of tuples having first element as the number and second element as the square of the number."
      ]
    },
    {
      "cell_type": "code",
      "execution_count": null,
      "id": "f0b6fe21",
      "metadata": {
        "id": "f0b6fe21",
        "outputId": "3b48b5a6-00df-488f-ef32-b62a8232a446"
      },
      "outputs": [
        {
          "name": "stdout",
          "output_type": "stream",
          "text": [
            "[(9, 81.0)]\n",
            "[(3, 9.0)]\n",
            "[(6, 36.0)]\n"
          ]
        }
      ],
      "source": [
        "import math\n",
        "a=[9,3,6]\n",
        "for x in a:\n",
        "    tup=[(x,math.pow(x,2))]\n",
        "    print(tup)"
      ]
    },
    {
      "cell_type": "markdown",
      "id": "6b4b9bdc",
      "metadata": {
        "id": "6b4b9bdc"
      },
      "source": [
        "#### · Given list of tuples, remove all the tuples with length K. Input : test_list = [(4, 5), (4, ), (8, 6, 7), (1, ), (3, 4, 6, 7)], K = 2 Output : [(4, ), (8, 6, 7), (1, ), (3, 4, 6, 7)] Explanation : (4, 5) of len = 2 is removed."
      ]
    },
    {
      "cell_type": "code",
      "execution_count": null,
      "id": "612e8301",
      "metadata": {
        "id": "612e8301",
        "outputId": "cee6ef49-81aa-403c-8662-005ec34e58e1"
      },
      "outputs": [
        {
          "name": "stdout",
          "output_type": "stream",
          "text": [
            "[]\n"
          ]
        },
        {
          "ename": "TypeError",
          "evalue": "object of type 'int' has no len()",
          "output_type": "error",
          "traceback": [
            "\u001b[1;31m---------------------------------------------------------------------------\u001b[0m",
            "\u001b[1;31mTypeError\u001b[0m                                 Traceback (most recent call last)",
            "Input \u001b[1;32mIn [24]\u001b[0m, in \u001b[0;36m<cell line: 3>\u001b[1;34m()\u001b[0m\n\u001b[0;32m      2\u001b[0m b\u001b[38;5;241m=\u001b[39m[]\n\u001b[0;32m      3\u001b[0m \u001b[38;5;28;01mfor\u001b[39;00m x \u001b[38;5;129;01min\u001b[39;00m a:\n\u001b[1;32m----> 4\u001b[0m     \u001b[38;5;28;01mif\u001b[39;00m \u001b[38;5;28;43mlen\u001b[39;49m\u001b[43m(\u001b[49m\u001b[43mx\u001b[49m\u001b[43m)\u001b[49m\u001b[38;5;241m!=\u001b[39mk:\n\u001b[0;32m      5\u001b[0m         a\u001b[38;5;241m.\u001b[39mappend(x)\n\u001b[0;32m      6\u001b[0m         \u001b[38;5;28mprint\u001b[39m(b)\n",
            "\u001b[1;31mTypeError\u001b[0m: object of type 'int' has no len()"
          ]
        }
      ],
      "source": [
        "a= [(4, 5), (4), (8, 6, 7), (1), (3, 4, 6, 7)]\n",
        "b=[]\n",
        "for x in a:\n",
        "    if len(x)!=k:\n",
        "        a.append(x)\n",
        "        print(b)"
      ]
    },
    {
      "cell_type": "markdown",
      "id": "ffac1cbb",
      "metadata": {
        "id": "ffac1cbb"
      },
      "source": [
        "#### · Program to remove a key from a dictionary"
      ]
    },
    {
      "cell_type": "code",
      "execution_count": null,
      "id": "f0de0837",
      "metadata": {
        "id": "f0de0837",
        "outputId": "0a13073b-43f6-43f7-e6c5-ec8b04d18fa6"
      },
      "outputs": [
        {
          "name": "stdout",
          "output_type": "stream",
          "text": [
            "{'age': 0, 'year': 2021}\n"
          ]
        }
      ],
      "source": [
        "test={\n",
        "    \"name\":\"x\",\n",
        "    \"age\": 0,\n",
        "    \"year\":2021\n",
        "}\n",
        "del test[\"name\"]\n",
        "print(test)"
      ]
    },
    {
      "cell_type": "code",
      "execution_count": null,
      "id": "1f905640",
      "metadata": {
        "id": "1f905640",
        "outputId": "abe9a184-ce74-41bc-981c-941dae828593"
      },
      "outputs": [
        {
          "name": "stdout",
          "output_type": "stream",
          "text": [
            "enter the amountof number's5\n"
          ]
        },
        {
          "ename": "TypeError",
          "evalue": "'dict' object cannot be interpreted as an integer",
          "output_type": "error",
          "traceback": [
            "\u001b[1;31m---------------------------------------------------------------------------\u001b[0m",
            "\u001b[1;31mTypeError\u001b[0m                                 Traceback (most recent call last)",
            "Input \u001b[1;32mIn [31]\u001b[0m, in \u001b[0;36m<cell line: 3>\u001b[1;34m()\u001b[0m\n\u001b[0;32m      1\u001b[0m a\u001b[38;5;241m=\u001b[39m\u001b[38;5;28mint\u001b[39m(\u001b[38;5;28minput\u001b[39m(\u001b[38;5;124m\"\u001b[39m\u001b[38;5;124menter the amountof number\u001b[39m\u001b[38;5;124m'\u001b[39m\u001b[38;5;124ms\u001b[39m\u001b[38;5;124m\"\u001b[39m))\n\u001b[0;32m      2\u001b[0m a\u001b[38;5;241m=\u001b[39m\u001b[38;5;28mdict\u001b[39m()\n\u001b[1;32m----> 3\u001b[0m \u001b[38;5;28;01mfor\u001b[39;00m x \u001b[38;5;129;01min\u001b[39;00m \u001b[38;5;28;43mrange\u001b[39;49m\u001b[43m \u001b[49m\u001b[43m(\u001b[49m\u001b[43ma\u001b[49m\u001b[43m)\u001b[49m:\n\u001b[0;32m      4\u001b[0m     a[x]\u001b[38;5;241m=\u001b[39mx\u001b[38;5;241m*\u001b[39mx\n\u001b[0;32m      5\u001b[0m     \u001b[38;5;28mprint\u001b[39m(x)\n",
            "\u001b[1;31mTypeError\u001b[0m: 'dict' object cannot be interpreted as an integer"
          ]
        }
      ],
      "source": [
        "a=int(input(\"enter the amount of number's\"))\n",
        "a=dict()\n",
        "for x in range (a):\n",
        "    a[x]=x*x\n",
        "    print(x)\n",
        "    "
      ]
    },
    {
      "cell_type": "code",
      "execution_count": 2,
      "id": "041bf236",
      "metadata": {
        "colab": {
          "base_uri": "https://localhost:8080/"
        },
        "id": "041bf236",
        "outputId": "9514c66b-912d-48ad-cfd5-e925576d5471"
      },
      "outputs": [
        {
          "output_type": "stream",
          "name": "stdout",
          "text": [
            "raccit\n"
          ]
        }
      ],
      "source": [
        "a=\"rabbit\"\n",
        "print (a.replace(\"b\" , \"c\"))   ##a[2,4]=\"cc\""
      ]
    },
    {
      "cell_type": "code",
      "execution_count": null,
      "id": "b65cac46",
      "metadata": {
        "id": "b65cac46",
        "outputId": "052af704-87c5-4449-bdc6-3067dd6b3a5f"
      },
      "outputs": [
        {
          "ename": "SyntaxError",
          "evalue": "invalid syntax (1072361544.py, line 6)",
          "output_type": "error",
          "traceback": [
            "\u001b[1;36m  Input \u001b[1;32mIn [39]\u001b[1;36m\u001b[0m\n\u001b[1;33m    else:\u001b[0m\n\u001b[1;37m    ^\u001b[0m\n\u001b[1;31mSyntaxError\u001b[0m\u001b[1;31m:\u001b[0m invalid syntax\n"
          ]
        }
      ],
      "source": [
        "def string(a):\n",
        "    u=0;l=0\n",
        "    for x in a :\n",
        "        if x is upper():\n",
        "            u=u+1\n",
        "            else:\n",
        "                l=l+1\n",
        "                print(\"the lower values\",l)\n",
        "                print(\"higher values\",h)"
      ]
    },
    {
      "cell_type": "markdown",
      "id": "8ca408da",
      "metadata": {
        "id": "8ca408da"
      },
      "source": [
        "#### Program for Counting occurrence of a certain element in a string, getting indexes that have matching elements."
      ]
    },
    {
      "cell_type": "code",
      "execution_count": null,
      "id": "1d1e9783",
      "metadata": {
        "id": "1d1e9783",
        "outputId": "4c057b66-d35c-4bd4-a9e4-a5bb856a615a"
      },
      "outputs": [
        {
          "name": "stdout",
          "output_type": "stream",
          "text": [
            "enter thr charc you want to find in stringx men \n",
            "occurence of char is 0\n"
          ]
        }
      ],
      "source": [
        "a=\"x\"\n",
        "b=input(\"enter thr charc you want to find in string\");c=0\n",
        "for x in a:\n",
        "    if b in a: \n",
        "        c=c+1\n",
        "    print(\"occurence of char is\",c)"
      ]
    },
    {
      "cell_type": "markdown",
      "id": "aaab9232",
      "metadata": {
        "id": "aaab9232"
      },
      "source": [
        "#### · Sample List : ['abc', 'xyz', 'aba', '1221'] Expected Result : 2"
      ]
    },
    {
      "cell_type": "code",
      "execution_count": null,
      "id": "06ae95fd",
      "metadata": {
        "id": "06ae95fd",
        "outputId": "5c753675-f9fc-40b9-93b8-2e5d579508e8"
      },
      "outputs": [
        {
          "name": "stdout",
          "output_type": "stream",
          "text": [
            "the string of length 2 is 1\n",
            "the string of length 2 is 2\n"
          ]
        }
      ],
      "source": [
        "a=['abc', 'xyz', 'aba', '1221']\n",
        "c=0\n",
        "for x in a :\n",
        "    if len(x)>=2:\n",
        "        if x[0]==x[-1]:\n",
        "            c=c+1\n",
        "            print(\"the string of length 2 is\",c)"
      ]
    }
  ],
  "metadata": {
    "kernelspec": {
      "display_name": "Python 3 (ipykernel)",
      "language": "python",
      "name": "python3"
    },
    "language_info": {
      "codemirror_mode": {
        "name": "ipython",
        "version": 3
      },
      "file_extension": ".py",
      "mimetype": "text/x-python",
      "name": "python",
      "nbconvert_exporter": "python",
      "pygments_lexer": "ipython3",
      "version": "3.10.4"
    },
    "colab": {
      "name": "Module-2.ipynb",
      "provenance": [],
      "include_colab_link": true
    }
  },
  "nbformat": 4,
  "nbformat_minor": 5
}