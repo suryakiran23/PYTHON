{
  "cells": [
    {
      "cell_type": "markdown",
      "metadata": {
        "id": "view-in-github",
        "colab_type": "text"
      },
      "source": [
        "<a href=\"https://colab.research.google.com/github/suryakiran23/PYTHON/blob/Module-3/Module_3.ipynb\" target=\"_parent\"><img src=\"https://colab.research.google.com/assets/colab-badge.svg\" alt=\"Open In Colab\"/></a>"
      ]
    },
    {
      "cell_type": "code",
      "execution_count": null,
      "id": "fe15b722",
      "metadata": {
        "id": "fe15b722",
        "outputId": "1fbb2513-6f22-40f0-ee90-a21a13060e42"
      },
      "outputs": [
        {
          "name": "stdout",
          "output_type": "stream",
          "text": [
            "this is kiran \n",
            " hi  \n"
          ]
        }
      ],
      "source": [
        "#f=open(\"D:\\\\readfile.txt\",\"r\")\n",
        "#print(f.read())\n",
        "f=open(\"demo.txt\",\"w\")\n",
        "f.write(\"this is kiran \\n hi  \")\n",
        "f.close()\n",
        "f=open(\"demo.txt\",\"r\")\n",
        "print(f.read())"
      ]
    },
    {
      "cell_type": "code",
      "execution_count": null,
      "id": "0c5e78cf",
      "metadata": {
        "id": "0c5e78cf",
        "outputId": "bdd51e87-d4fe-487c-a8f7-96705fd23265"
      },
      "outputs": [
        {
          "name": "stdout",
          "output_type": "stream",
          "text": [
            "this is kiran \n",
            "\n"
          ]
        }
      ],
      "source": [
        "f=open(\"demo.txt\",\"w\")\n",
        "f.write(\"this is kiran \\n hi\")\n",
        "f.close()\n",
        "f=open(\"demo.txt\",\"r\")\n",
        "print(f.readline())\n"
      ]
    },
    {
      "cell_type": "code",
      "execution_count": null,
      "id": "05beb15f",
      "metadata": {
        "id": "05beb15f",
        "outputId": "cf1e8ac9-c04e-4870-d07b-c5beb75e4466"
      },
      "outputs": [
        {
          "name": "stdout",
          "output_type": "stream",
          "text": [
            "this is koushik\n",
            "this is koushikthis is kiran\n"
          ]
        }
      ],
      "source": [
        "f=open(\"demo.txt\",\"w\")\n",
        "f.write(\"this is koushik\")\n",
        "f.close()\n",
        "f=open(\"demo.txt\",\"r\")\n",
        "print(f.readline())\n",
        "f.close()\n",
        "f=open(\"demo.txt\",\"a\") ###append \n",
        "f.write(\"this is kiran\")\n",
        "f.close()\n",
        "f=open(\"demo.txt\",\"r\")\n",
        "print(f.read())"
      ]
    },
    {
      "cell_type": "code",
      "execution_count": null,
      "id": "76ccf421",
      "metadata": {
        "id": "76ccf421",
        "outputId": "e127607f-e3da-4c8e-d667-a72623be3cf6"
      },
      "outputs": [
        {
          "name": "stdout",
          "output_type": "stream",
          "text": [
            "24\n",
            "135\n"
          ]
        }
      ],
      "source": [
        "f=open(\"koushik.txt\",\"w\")\n",
        "f.write(\"12345\")\n",
        "f.close()\n",
        "p=open(\"demo1\",\"w\")\n",
        "y=open(\"demo2\",\"w\")\n",
        "f=open(\"koushik.txt\",\"r\")\n",
        "b=[]\n",
        "for x in f.read():\n",
        "    b.append(int(x))\n",
        "for x in b:\n",
        "    if x%2==0:\n",
        "        p.write(str(x))\n",
        "    else:\n",
        "        y.write(str(x))\n",
        "p.close()\n",
        "y.close()\n",
        "p=open(\"demo1\",\"r\")\n",
        "y=open(\"demo2\",\"r\")\n",
        "print(p.read())\n",
        "print(y.read())"
      ]
    },
    {
      "cell_type": "code",
      "execution_count": null,
      "id": "fe9862b9",
      "metadata": {
        "id": "fe9862b9",
        "outputId": "893bb06f-6c89-46a1-8d62-18621e72eae6"
      },
      "outputs": [
        {
          "name": "stdout",
          "output_type": "stream",
          "text": [
            "lines 3\n",
            "words 5\n",
            "letters 17\n"
          ]
        }
      ],
      "source": [
        "f=open(\"C:\\\\Users\\kiran\\OneDrive\\Desktop\\\\module.txt\",\"r\")\n",
        "lines=0\n",
        "words=0\n",
        "letters=0\n",
        "for x in f.readlines():\n",
        "    lines=lines+1\n",
        "    words=words+len(x.split())\n",
        "    letters=letters+len(x.strip(\"\\n\"))\n",
        "print(\"lines\",lines)\n",
        "print(\"words\",words)\n",
        "print(\"letters\",letters)"
      ]
    },
    {
      "cell_type": "code",
      "execution_count": null,
      "id": "1b344381",
      "metadata": {
        "id": "1b344381"
      },
      "outputs": [],
      "source": [
        "import pandas as pd\n",
        "b=pd.read_csv(\"C:\\\\Users\\CSE22004\\Desktop\\\\demo.csv\")\n",
        "print(b.to_string())# for reading whole file"
      ]
    },
    {
      "cell_type": "code",
      "execution_count": null,
      "id": "ad0f568f",
      "metadata": {
        "id": "ad0f568f"
      },
      "outputs": [],
      "source": [
        "import pandas as pd\n",
        "a=pd.read_csv(\"C:\\\\Users\\CSE22004\\Documents\\koushik\\\\koushik.csv.csv\")\n",
        "b=pd.DataFrame(a)\n",
        "print(b.loc[[2,4]])"
      ]
    },
    {
      "cell_type": "code",
      "execution_count": null,
      "id": "6fbdfa6c",
      "metadata": {
        "id": "6fbdfa6c"
      },
      "outputs": [],
      "source": [
        "#11\n",
        "import pandas as pd\n",
        "a=pd.read_csv(\"C:\\\\Users\\CSE22004\\Documents\\koushik\\\\koushik.csv.csv\")\n",
        "b=pd.DataFrame(a)\n",
        "print(b.loc[(b[\"age\"]==18) | (b[\"age\"]==19)])"
      ]
    },
    {
      "cell_type": "code",
      "execution_count": null,
      "id": "cfe5ff72",
      "metadata": {
        "id": "cfe5ff72"
      },
      "outputs": [],
      "source": [
        "#11\n",
        "import pandas as pd\n",
        "a=pd.read_csv(\"C:\\\\Users\\CSE22004\\Documents\\koushik\\\\koushik.csv.csv\")\n",
        "b=pd.DataFrame(a)\n",
        "print(b.loc[[1]] [\"age\"])"
      ]
    },
    {
      "cell_type": "code",
      "execution_count": null,
      "id": "9b2a824c",
      "metadata": {
        "id": "9b2a824c"
      },
      "outputs": [],
      "source": [
        ""
      ]
    }
  ],
  "metadata": {
    "kernelspec": {
      "display_name": "Python 3 (ipykernel)",
      "language": "python",
      "name": "python3"
    },
    "language_info": {
      "codemirror_mode": {
        "name": "ipython",
        "version": 3
      },
      "file_extension": ".py",
      "mimetype": "text/x-python",
      "name": "python",
      "nbconvert_exporter": "python",
      "pygments_lexer": "ipython3",
      "version": "3.10.4"
    },
    "colab": {
      "name": "Module-3.ipynb",
      "provenance": [],
      "include_colab_link": true
    }
  },
  "nbformat": 4,
  "nbformat_minor": 5
}