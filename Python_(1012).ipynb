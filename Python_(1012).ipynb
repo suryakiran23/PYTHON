{
  "cells": [
    {
      "cell_type": "markdown",
      "metadata": {
        "id": "view-in-github",
        "colab_type": "text"
      },
      "source": [
        "<a href=\"https://colab.research.google.com/github/suryakiran23/PYTHON/blob/main/Python_(1012).ipynb\" target=\"_parent\"><img src=\"https://colab.research.google.com/assets/colab-badge.svg\" alt=\"Open In Colab\"/></a>"
      ]
    },
    {
      "cell_type": "markdown",
      "id": "0fb4d8f2",
      "metadata": {
        "id": "0fb4d8f2"
      },
      "source": [
        "## Avg of three numbers"
      ]
    },
    {
      "cell_type": "code",
      "execution_count": null,
      "id": "cc0b37b8",
      "metadata": {
        "id": "cc0b37b8",
        "outputId": "26306769-ef27-47e6-9af9-0648e575b0bc"
      },
      "outputs": [
        {
          "name": "stdout",
          "output_type": "stream",
          "text": [
            "20.0\n",
            "<class 'float'>\n"
          ]
        }
      ],
      "source": [
        "a=10;b=20;c=30\n",
        "d=(a+b+c)/3\n",
        "print(d)\n",
        "print(type(d))\n"
      ]
    },
    {
      "cell_type": "markdown",
      "id": "751af435",
      "metadata": {
        "id": "751af435"
      },
      "source": [
        "## Multi of two numbers"
      ]
    },
    {
      "cell_type": "code",
      "execution_count": null,
      "id": "9a9de076",
      "metadata": {
        "id": "9a9de076",
        "outputId": "819484fd-0b33-4be1-9ae1-2905bc0e382b"
      },
      "outputs": [
        {
          "name": "stdout",
          "output_type": "stream",
          "text": [
            "<class 'int'>\n",
            "multi of the given two numbers:  200\n"
          ]
        }
      ],
      "source": [
        "a=10;b=20\n",
        "mult=a*b\n",
        "print(type\n",
        "    (mult))\n",
        "print(\"multi of the given two numbers: \",mult)"
      ]
    },
    {
      "cell_type": "markdown",
      "id": "056ba211",
      "metadata": {
        "id": "056ba211"
      },
      "source": [
        "## dynamic addition of two numbers\n"
      ]
    },
    {
      "cell_type": "code",
      "execution_count": null,
      "id": "27dabfa1",
      "metadata": {
        "id": "27dabfa1",
        "outputId": "290b57e2-74d6-4113-960b-b8a26eb553c1"
      },
      "outputs": [
        {
          "name": "stdout",
          "output_type": "stream",
          "text": [
            "ENTER A NUMBER2\n",
            "enter the second number3\n",
            "the sum of two number:  5\n"
          ]
        }
      ],
      "source": [
        "a=int(input( \"ENTER A NUMBER\"))\n",
        "b=int(input(\"enter the second number\"))\n",
        "c=a+b\n",
        "print(\"the sum of two number: \",c)"
      ]
    },
    {
      "cell_type": "code",
      "execution_count": null,
      "id": "33518d19",
      "metadata": {
        "id": "33518d19",
        "outputId": "8e1d89a9-a61e-4863-f11b-f5612b846142"
      },
      "outputs": [
        {
          "name": "stdout",
          "output_type": "stream",
          "text": [
            "ENTER A NUMBER2\n",
            "enter the second number3\n",
            "kiran\n",
            "<class 'str'>\n",
            "the sum of two number:  5\n"
          ]
        }
      ],
      "source": [
        "a=int(input( \"ENTER A NUMBER\"));b=int(input(\"enter the second number\"))\n",
        "c=a+b\n",
        "d=\"ki\";e=\"ran\"\n",
        "f=d+e\n",
        "print(f)\n",
        "print(type(f))\n",
        "print(\"the sum of two number: \",c)"
      ]
    },
    {
      "cell_type": "markdown",
      "id": "b9869a1f",
      "metadata": {
        "id": "b9869a1f"
      },
      "source": [
        "## coversion of data types"
      ]
    },
    {
      "cell_type": "markdown",
      "id": "e15f5c5d",
      "metadata": {
        "id": "e15f5c5d"
      },
      "source": [
        "### covert int to float"
      ]
    },
    {
      "cell_type": "code",
      "execution_count": null,
      "id": "87a10ff0",
      "metadata": {
        "id": "87a10ff0",
        "outputId": "dde7ba85-7754-4021-959d-01c6df24eb06"
      },
      "outputs": [
        {
          "name": "stdout",
          "output_type": "stream",
          "text": [
            "10.0\n",
            "<class 'float'>\n"
          ]
        }
      ],
      "source": [
        "a=10;b=float(a)\n",
        "print(b)\n",
        "print(type(b))"
      ]
    },
    {
      "cell_type": "markdown",
      "id": "49118fc9",
      "metadata": {
        "id": "49118fc9"
      },
      "source": [
        "### covert float to int"
      ]
    },
    {
      "cell_type": "code",
      "execution_count": null,
      "id": "6b51b68f",
      "metadata": {
        "id": "6b51b68f",
        "outputId": "703a3b76-b0e9-41f1-b4d5-9e16f8e947d3"
      },
      "outputs": [
        {
          "name": "stdout",
          "output_type": "stream",
          "text": [
            "10\n",
            "<class 'int'>\n"
          ]
        }
      ],
      "source": [
        "a=10.0;b=int(a)\n",
        "print(b)\n",
        "print(type(b))"
      ]
    },
    {
      "cell_type": "code",
      "execution_count": null,
      "id": "6c0bf14b",
      "metadata": {
        "id": "6c0bf14b",
        "outputId": "9b61e85f-8730-46a8-f35f-62f1a2eb6744"
      },
      "outputs": [
        {
          "name": "stdout",
          "output_type": "stream",
          "text": [
            "10 <class 'int'>\n",
            "10.0 <class 'float'>\n"
          ]
        }
      ],
      "source": [
        "a=10.0;b=int(a)\n",
        "print(b,type(b))\n",
        "c=float(b)\n",
        "print(c,type(c))"
      ]
    },
    {
      "cell_type": "markdown",
      "id": "58b836dc",
      "metadata": {
        "id": "58b836dc"
      },
      "source": [
        "## covert int to str (strn to int isn't possible with alphabet)\n"
      ]
    },
    {
      "cell_type": "code",
      "execution_count": null,
      "id": "686b5fd6",
      "metadata": {
        "id": "686b5fd6",
        "outputId": "052ce681-964d-4ab8-fb2d-94aca96c5b1b"
      },
      "outputs": [
        {
          "name": "stdout",
          "output_type": "stream",
          "text": [
            "10 <class 'str'>\n",
            "10 <class 'int'>\n"
          ]
        }
      ],
      "source": [
        "#strn to int isn't possible with alphabet\n",
        "a=10;b=str(a)\n",
        "print(b,type(b))\n",
        "c=int(b)\n",
        "print(c,type(c))"
      ]
    },
    {
      "cell_type": "markdown",
      "id": "0ce75177",
      "metadata": {
        "id": "0ce75177"
      },
      "source": [
        "## boolean function"
      ]
    },
    {
      "cell_type": "code",
      "execution_count": null,
      "id": "37c6ee07",
      "metadata": {
        "id": "37c6ee07",
        "outputId": "45e794c4-3b62-4675-f7dc-ba39ce12c5c6"
      },
      "outputs": [
        {
          "name": "stdout",
          "output_type": "stream",
          "text": [
            "True\n",
            "<class 'int'>\n",
            "True\n",
            "<class 'float'>\n"
          ]
        }
      ],
      "source": [
        "a=10;b=float(a)\n",
        "print(bool(a));print (type(a))\n",
        "print(bool(b));print(type(b))"
      ]
    },
    {
      "cell_type": "code",
      "execution_count": null,
      "id": "6f9fee1a",
      "metadata": {
        "id": "6f9fee1a",
        "outputId": "6ac2b505-1eae-4ca4-e53a-80acac1eda72"
      },
      "outputs": [
        {
          "name": "stdout",
          "output_type": "stream",
          "text": [
            "enter num to check boolean\n",
            "enter num 1: 2\n",
            "enter num2: 3\n",
            "check boolean\n",
            "True True <class 'int'> <class 'float'>\n"
          ]
        }
      ],
      "source": [
        "print(\"enter num to check boolean\");a=int(input(\"enter num 1: \"));b=float(input(\"enter num2: \" ))\n",
        "print(\"check boolean\")\n",
        "print(bool(a),bool(b),type(a),type(b))"
      ]
    },
    {
      "cell_type": "code",
      "execution_count": null,
      "id": "c9cb60bf",
      "metadata": {
        "id": "c9cb60bf",
        "outputId": "c404c2a7-55c2-4dbd-a63b-7ac6a178ace8"
      },
      "outputs": [
        {
          "name": "stdout",
          "output_type": "stream",
          "text": [
            "False <class 'bool'>\n",
            "0\n"
          ]
        }
      ],
      "source": [
        "a=10;b=15\n",
        "c=a>b\n",
        "print(bool(c),type(c))\n",
        "print(int(c))"
      ]
    },
    {
      "cell_type": "code",
      "execution_count": null,
      "id": "9575bf1a",
      "metadata": {
        "id": "9575bf1a",
        "outputId": "6e88f581-e5ae-4fb6-9723-9b7dbc110a61"
      },
      "outputs": [
        {
          "name": "stdout",
          "output_type": "stream",
          "text": [
            "True False <class 'bool'> <class 'bool'>\n"
          ]
        }
      ],
      "source": [
        "a=10;b=5\n",
        "c=a>b;d=b>a;\n",
        "print((c),(d),type(c),type(d))"
      ]
    },
    {
      "cell_type": "code",
      "execution_count": null,
      "id": "7c803907",
      "metadata": {
        "id": "7c803907",
        "outputId": "a2f63fed-38e8-43b6-8b9e-1363e2936d38"
      },
      "outputs": [
        {
          "name": "stdout",
          "output_type": "stream",
          "text": [
            "True <class 'bool'>\n",
            "1 <class 'bool'>\n"
          ]
        }
      ],
      "source": [
        "a=bool(10)\n",
        "print((a),type(a))\n",
        "print(int(a),type(a))"
      ]
    },
    {
      "cell_type": "markdown",
      "id": "104069fd",
      "metadata": {
        "id": "104069fd"
      },
      "source": [
        "## complex\n"
      ]
    },
    {
      "cell_type": "code",
      "execution_count": null,
      "id": "910d82a7",
      "metadata": {
        "id": "910d82a7",
        "outputId": "d6b8f0cd-dfea-490a-f723-777af14c5005"
      },
      "outputs": [
        {
          "name": "stdout",
          "output_type": "stream",
          "text": [
            "(5+0j)\n"
          ]
        }
      ],
      "source": [
        "a=10\n",
        "print(complex(b))"
      ]
    },
    {
      "cell_type": "code",
      "execution_count": null,
      "id": "163b2c03",
      "metadata": {
        "id": "163b2c03",
        "outputId": "6f78a058-1d93-4152-ffc4-d6097028e9d5"
      },
      "outputs": [
        {
          "name": "stdout",
          "output_type": "stream",
          "text": [
            "True (23+0j) 23.0\n"
          ]
        }
      ],
      "source": [
        "a=23\n",
        "print(bool(a),complex(a),float(a))"
      ]
    },
    {
      "cell_type": "code",
      "execution_count": null,
      "id": "b0836b52",
      "metadata": {
        "id": "b0836b52",
        "outputId": "70b0c162-4884-450b-b0c2-551468bff906"
      },
      "outputs": [
        {
          "name": "stdout",
          "output_type": "stream",
          "text": [
            "<class 'complex'>\n"
          ]
        },
        {
          "ename": "TypeError",
          "evalue": "can't convert complex to int",
          "output_type": "error",
          "traceback": [
            "\u001b[1;31m---------------------------------------------------------------------------\u001b[0m",
            "\u001b[1;31mTypeError\u001b[0m                                 Traceback (most recent call last)",
            "\u001b[1;32m~\\AppData\\Local\\Temp/ipykernel_10780/3750108827.py\u001b[0m in \u001b[0;36m<module>\u001b[1;34m\u001b[0m\n\u001b[0;32m      1\u001b[0m \u001b[0ma\u001b[0m\u001b[1;33m=\u001b[0m\u001b[1;36m23\u001b[0m\u001b[1;33m+\u001b[0m\u001b[1;36m2j\u001b[0m\u001b[1;33m\u001b[0m\u001b[1;33m\u001b[0m\u001b[0m\n\u001b[0;32m      2\u001b[0m \u001b[0mprint\u001b[0m\u001b[1;33m(\u001b[0m\u001b[0mtype\u001b[0m\u001b[1;33m(\u001b[0m\u001b[0ma\u001b[0m\u001b[1;33m)\u001b[0m\u001b[1;33m)\u001b[0m\u001b[1;33m\u001b[0m\u001b[1;33m\u001b[0m\u001b[0m\n\u001b[1;32m----> 3\u001b[1;33m \u001b[0mprint\u001b[0m\u001b[1;33m(\u001b[0m\u001b[0mint\u001b[0m\u001b[1;33m(\u001b[0m\u001b[0ma\u001b[0m\u001b[1;33m)\u001b[0m\u001b[1;33m,\u001b[0m\u001b[0mtype\u001b[0m\u001b[1;33m(\u001b[0m\u001b[0ma\u001b[0m\u001b[1;33m)\u001b[0m\u001b[1;33m)\u001b[0m\u001b[1;33m\u001b[0m\u001b[1;33m\u001b[0m\u001b[0m\n\u001b[0m",
            "\u001b[1;31mTypeError\u001b[0m: can't convert complex to int"
          ]
        }
      ],
      "source": [
        "a=23+2j\n",
        "print(type(a))\n",
        "print(int(a),type(a))"
      ]
    },
    {
      "cell_type": "code",
      "execution_count": null,
      "id": "10155708",
      "metadata": {
        "id": "10155708",
        "outputId": "987e8aca-11c1-4e01-fd77-d9a13218f38b"
      },
      "outputs": [
        {
          "name": "stdout",
          "output_type": "stream",
          "text": [
            "<class 'complex'>\n",
            "(23+2j) <class 'complex'>\n"
          ]
        }
      ],
      "source": [
        "a=23+2j\n",
        "print(type(a))\n",
        "print(str(a),type(a))"
      ]
    },
    {
      "cell_type": "code",
      "execution_count": null,
      "id": "5da13c4c",
      "metadata": {
        "id": "5da13c4c",
        "outputId": "069a9cf2-406d-4832-bc7a-792088224951"
      },
      "outputs": [
        {
          "name": "stdout",
          "output_type": "stream",
          "text": [
            "<class 'complex'>\n"
          ]
        },
        {
          "ename": "TypeError",
          "evalue": "can't convert complex to float",
          "output_type": "error",
          "traceback": [
            "\u001b[1;31m---------------------------------------------------------------------------\u001b[0m",
            "\u001b[1;31mTypeError\u001b[0m                                 Traceback (most recent call last)",
            "\u001b[1;32m~\\AppData\\Local\\Temp/ipykernel_10780/2850350656.py\u001b[0m in \u001b[0;36m<module>\u001b[1;34m\u001b[0m\n\u001b[0;32m      1\u001b[0m \u001b[0ma\u001b[0m\u001b[1;33m=\u001b[0m\u001b[1;36m23\u001b[0m\u001b[1;33m+\u001b[0m\u001b[1;36m2j\u001b[0m\u001b[1;33m\u001b[0m\u001b[1;33m\u001b[0m\u001b[0m\n\u001b[0;32m      2\u001b[0m \u001b[0mprint\u001b[0m\u001b[1;33m(\u001b[0m\u001b[0mtype\u001b[0m\u001b[1;33m(\u001b[0m\u001b[0ma\u001b[0m\u001b[1;33m)\u001b[0m\u001b[1;33m)\u001b[0m\u001b[1;33m\u001b[0m\u001b[1;33m\u001b[0m\u001b[0m\n\u001b[1;32m----> 3\u001b[1;33m \u001b[0mprint\u001b[0m\u001b[1;33m(\u001b[0m\u001b[0mfloat\u001b[0m\u001b[1;33m(\u001b[0m\u001b[0ma\u001b[0m\u001b[1;33m)\u001b[0m\u001b[1;33m,\u001b[0m\u001b[0mtype\u001b[0m\u001b[1;33m(\u001b[0m\u001b[0ma\u001b[0m\u001b[1;33m)\u001b[0m\u001b[1;33m)\u001b[0m\u001b[1;33m\u001b[0m\u001b[1;33m\u001b[0m\u001b[0m\n\u001b[0m",
            "\u001b[1;31mTypeError\u001b[0m: can't convert complex to float"
          ]
        }
      ],
      "source": [
        "a=23+2j\n",
        "print(type(a))\n",
        "print(float(a),type(a))"
      ]
    },
    {
      "cell_type": "markdown",
      "id": "2c55a2c0",
      "metadata": {
        "id": "2c55a2c0"
      },
      "source": [
        "## PYTHON control statements \n"
      ]
    },
    {
      "cell_type": "markdown",
      "id": "3d71d49b",
      "metadata": {
        "id": "3d71d49b"
      },
      "source": [
        "## IF ELSE"
      ]
    },
    {
      "cell_type": "code",
      "execution_count": null,
      "id": "cacc4684",
      "metadata": {
        "id": "cacc4684"
      },
      "outputs": [],
      "source": [
        "a=18\n",
        "if a>18: ###indentation is necessary \n",
        "       print(\"you're eligiable for voting\")### the code should be started below the indenenation"
      ]
    },
    {
      "cell_type": "code",
      "execution_count": null,
      "id": "eebb9d20",
      "metadata": {
        "id": "eebb9d20",
        "outputId": "3f587102-4c3d-4978-df41-4a4ef660d304"
      },
      "outputs": [
        {
          "name": "stdout",
          "output_type": "stream",
          "text": [
            "enter the age21\n",
            "eligible for voting\n"
          ]
        }
      ],
      "source": [
        "a=int(input(\"enter the age\"))\n",
        "if a>18:\n",
        "    print(\"eligible for voting\")\n",
        "else:\n",
        "       print(\"not eligigble\")\n"
      ]
    },
    {
      "cell_type": "code",
      "execution_count": null,
      "id": "ba4e0c5d",
      "metadata": {
        "id": "ba4e0c5d",
        "outputId": "c4d76ef5-05bd-4031-ad2f-68753d13b997"
      },
      "outputs": [
        {
          "name": "stdout",
          "output_type": "stream",
          "text": [
            "enter the age18\n",
            "just eligible\n"
          ]
        }
      ],
      "source": [
        "a=int(input(\"enter the age\"))\n",
        "if a>18:\n",
        "    print(\"eligible for voting\")\n",
        "elif a==18:\n",
        "    print(\"just eligible\")\n",
        "else:\n",
        "       print(\"not eligigble\")\n"
      ]
    },
    {
      "cell_type": "code",
      "execution_count": null,
      "id": "6efa0053",
      "metadata": {
        "id": "6efa0053",
        "outputId": "5396941e-7c3c-4e2c-8db5-fef248851f2c"
      },
      "outputs": [
        {
          "name": "stdout",
          "output_type": "stream",
          "text": [
            "enter the number2\n",
            "enter number two3\n",
            "enter the third number9\n",
            "c is max\n"
          ]
        }
      ],
      "source": [
        "a=int(input(\"enter the number\"));b=int(input(\"enter number two\"));c=int(input(\"enter the third number\"))\n",
        "if a>b and a>c:\n",
        "    print(\"a is max\")\n",
        "elif b>a and b>c :\n",
        "    print(\"b is max\")\n",
        "else :\n",
        "    print(\"c is max\")\n",
        "    "
      ]
    },
    {
      "cell_type": "code",
      "execution_count": null,
      "id": "99c26d37",
      "metadata": {
        "id": "99c26d37",
        "outputId": "8b96ad68-ff91-46d0-a88a-4621de74c718"
      },
      "outputs": [
        {
          "name": "stdout",
          "output_type": "stream",
          "text": [
            "enter the number2\n",
            "enter number two3\n",
            "enter the third number6\n",
            "enter the forth number9\n",
            "enter the five number4\n",
            "d is max\n"
          ]
        }
      ],
      "source": [
        "a=int(input(\"enter the number: \"));b=int(input(\"enter number two: \"));c=int(input(\"enter the third number\"));d=int(input(\"enter the forth number\"));e=int(input(\"enter the five number\"))\n",
        "if a>b and a>c and a>d and a>e:\n",
        "    print(\"a is max\")\n",
        "elif b>a and b>c and b>d and b>e:\n",
        "    print(\"b is max\")\n",
        "elif c>a and c>b and c>d and c>e:       \n",
        "    print(\"c is max\")\n",
        "elif d>a and d>b and d>c and d>e:       \n",
        "    print(\"d is max\")\n",
        "else:    \n",
        "    print(\"e is max\")"
      ]
    },
    {
      "cell_type": "code",
      "execution_count": null,
      "id": "9452a7ab",
      "metadata": {
        "id": "9452a7ab",
        "outputId": "2729f424-31c0-46c7-901f-4418206ab56f"
      },
      "outputs": [
        {
          "name": "stdout",
          "output_type": "stream",
          "text": [
            "enter the marks of subjects: 6\n",
            "enter the marks of subjects: : 3\n",
            "enter the marks of subjects: 3\n",
            "enter the marks of subjects: 3\n",
            "enter the marks of the subject3\n",
            "a is max\n"
          ]
        }
      ],
      "source": [
        "a=int(input(\"enter the marks of subjects: \"));b=int(input(\"enter the marks of subjects: : \"));c=int(input(\"enter the marks of subjects: \"));d=int(input(\"enter the marks of subjects: \"));e=int(input(\"enter the marks of the subject\"))\n",
        "if a>b and a>c and a>d and a>e:\n",
        "    print(\"a is max\")\n",
        "elif b>a and b>c and b>d and b>e:\n",
        "    print(\"b is max\")\n",
        "elif c>a and c>b and c>d and c>e:       \n",
        "    print(\"c is max\")\n",
        "elif d>a and d>b and d>c and d>e:       \n",
        "    print(\"d is max\")\n",
        "else:    \n",
        "    print(\"e is max\")"
      ]
    },
    {
      "cell_type": "code",
      "execution_count": null,
      "id": "7110a6c9",
      "metadata": {
        "id": "7110a6c9",
        "outputId": "51259b93-4815-4132-ac38-3c1967653e70"
      },
      "outputs": [
        {
          "name": "stdout",
          "output_type": "stream",
          "text": [
            "enter the number9\n",
            "enter the max number18\n",
            "9\n",
            "10\n",
            "11\n",
            "12\n",
            "13\n",
            "14\n",
            "15\n",
            "16\n",
            "17\n"
          ]
        }
      ],
      "source": [
        "a=int(input(\"enter the number\"));b=int(input(\"enter the max number\"))\n",
        "for i in range (a,b):\n",
        "    print (i)\n",
        "        "
      ]
    },
    {
      "cell_type": "code",
      "execution_count": null,
      "id": "3696a901",
      "metadata": {
        "id": "3696a901",
        "outputId": "f664029a-b6ab-4aea-cea0-c6e41650a1c5"
      },
      "outputs": [
        {
          "name": "stdout",
          "output_type": "stream",
          "text": [
            "enter the number2\n",
            "enter the max number100\n",
            "even number  2\n",
            "even number  4\n",
            "even number  6\n",
            "even number  8\n",
            "even number  10\n",
            "even number  12\n",
            "even number  14\n",
            "even number  16\n",
            "even number  18\n",
            "even number  20\n",
            "even number  22\n",
            "even number  24\n",
            "even number  26\n",
            "even number  28\n",
            "even number  30\n",
            "even number  32\n",
            "even number  34\n",
            "even number  36\n",
            "even number  38\n",
            "even number  40\n",
            "even number  42\n",
            "even number  44\n",
            "even number  46\n",
            "even number  48\n",
            "even number  50\n",
            "even number  52\n",
            "even number  54\n",
            "even number  56\n",
            "even number  58\n",
            "even number  60\n",
            "even number  62\n",
            "even number  64\n",
            "even number  66\n",
            "even number  68\n",
            "even number  70\n",
            "even number  72\n",
            "even number  74\n",
            "even number  76\n",
            "even number  78\n",
            "even number  80\n",
            "even number  82\n",
            "even number  84\n",
            "even number  86\n",
            "even number  88\n",
            "even number  90\n",
            "even number  92\n",
            "even number  94\n",
            "even number  96\n",
            "even number  98\n",
            "odd number  98\n"
          ]
        }
      ],
      "source": [
        "a=int(input(\"enter the number\"));b=int(input(\"enter the max number\"))\n",
        "for i in range (a,b):\n",
        "    if i%2==0:\n",
        "        print(\"even number \",i)\n",
        "else:\n",
        "    print (\"odd number \",i)\n",
        "        "
      ]
    },
    {
      "cell_type": "markdown",
      "id": "1171686a",
      "metadata": {
        "id": "1171686a"
      },
      "source": [
        "## Multi tables\n"
      ]
    },
    {
      "cell_type": "code",
      "execution_count": null,
      "id": "8d90960b",
      "metadata": {
        "id": "8d90960b",
        "outputId": "5b521c6c-734c-423e-e4c6-a6722fe47bbe"
      },
      "outputs": [
        {
          "name": "stdout",
          "output_type": "stream",
          "text": [
            "enter the number0\n",
            "enter the max number10\n",
            "even number  0\n",
            "even number  2\n",
            "even number  4\n",
            "even number  6\n",
            "even number  8\n",
            "odd number  0\n",
            "odd number  3\n",
            "odd number  6\n",
            "odd number  9\n"
          ]
        }
      ],
      "source": [
        "a=int(input(\"enter the number\"));b=int(input(\"enter the max number\"))\n",
        "for i in range (a,b,2):\n",
        "\n",
        "        print(\"even number \",i)\n",
        "for j in range (a,b,3):\n",
        "\n",
        "    print (\"odd number \",j)\n",
        "        "
      ]
    },
    {
      "cell_type": "code",
      "execution_count": null,
      "id": "99da0c52",
      "metadata": {
        "id": "99da0c52",
        "outputId": "343ad81d-4420-457b-ab02-ea73676cc136"
      },
      "outputs": [
        {
          "name": "stdout",
          "output_type": "stream",
          "text": [
            "Enter the number to begin with 5\n",
            "enter the max number 9\n",
            "5\n",
            "6\n",
            "7\n",
            "8\n"
          ]
        }
      ],
      "source": [
        "a=int(input(\"Enter the number to begin with \"));b=int(input(\"enter the max number \"))\n",
        "for i in range (a,b):\n",
        "     print(i)"
      ]
    },
    {
      "cell_type": "markdown",
      "id": "e43379f7",
      "metadata": {
        "id": "e43379f7"
      },
      "source": [
        "## Module 2 programs in python\n",
        "\n",
        "\n"
      ]
    },
    {
      "cell_type": "code",
      "execution_count": null,
      "id": "82a1621f",
      "metadata": {
        "id": "82a1621f",
        "outputId": "41f481eb-0941-41bb-c557-ea1cbb45c9aa"
      },
      "outputs": [
        {
          "name": "stdout",
          "output_type": "stream",
          "text": [
            "enter the max number 10\n",
            "enter the first number1\n",
            "55\n"
          ]
        }
      ],
      "source": [
        "a=int(input(\"enter the max number \"));b=int(input(\"enter the first number\"))\n",
        "sum=0\n",
        "while b<=a:\n",
        "    sum=sum+b\n",
        "    b=b+1\n",
        "print(sum)"
      ]
    },
    {
      "cell_type": "code",
      "execution_count": null,
      "id": "6f01d0ff",
      "metadata": {
        "id": "6f01d0ff",
        "outputId": "08f8d372-61b3-4d52-9548-498c01577797"
      },
      "outputs": [
        {
          "name": "stdout",
          "output_type": "stream",
          "text": [
            "enter the first side 5\n",
            "enter the second side5\n",
            "enter the third side5\n",
            "equalilater triangle\n"
          ]
        }
      ],
      "source": [
        "a=int(input(\"enter the first side \"));b=int(input(\"enter the second side\"));c=int(input(\"enter the third side\"))\n",
        "\n",
        "if a==b and a==c and c==a:\n",
        "    \n",
        "    print(\"equalilater triangle\")\n",
        "elif a==b or a==c or  c==a:\n",
        "    \n",
        "    print(\"isoscles trinagle \")\n",
        "else:\n",
        "    print(\"scalen triangle\")\n",
        "    "
      ]
    },
    {
      "cell_type": "code",
      "execution_count": null,
      "id": "f5ef7dbe",
      "metadata": {
        "id": "f5ef7dbe",
        "outputId": "ebebed15-d2fd-4191-f2f0-409d1a0eb9e6"
      },
      "outputs": [
        {
          "name": "stdout",
          "output_type": "stream",
          "text": [
            "enter the year 2022\n",
            "not a leap year\n"
          ]
        }
      ],
      "source": [
        "a=int(input(\"enter the year \"))\n",
        "\n",
        "if a%400==0:\n",
        "    print(\"it is a leap year\")\n",
        "elif a%100==0:\n",
        "    print(\"not a leap year \")\n",
        "elif a%4==0:\n",
        "    print(\"it is a leap year\")\n",
        "else:\n",
        "    print(\"not a leap year\")\n",
        "    "
      ]
    },
    {
      "cell_type": "code",
      "execution_count": null,
      "id": "9c5dd844",
      "metadata": {
        "id": "9c5dd844",
        "outputId": "332be045-535a-4ff5-c3cd-a55b3ba0fa87"
      },
      "outputs": [
        {
          "name": "stdout",
          "output_type": "stream",
          "text": [
            "enter the number5\n",
            "enter number two2\n",
            "enter the third number1\n",
            "c is min\n"
          ]
        }
      ],
      "source": [
        "a=int(input(\"enter the number\"));b=int(input(\"enter number two\"));c=int(input(\"enter the third number\"))\n",
        "if a<b and a<c:\n",
        "    print(\"a is min\")\n",
        "elif b<a and b<c :\n",
        "    print(\"b is min\")\n",
        "else :\n",
        "    print(\"c is min\")\n",
        "    "
      ]
    },
    {
      "cell_type": "code",
      "execution_count": null,
      "id": "4372d056",
      "metadata": {
        "id": "4372d056",
        "outputId": "c25a2593-4217-49f5-bf53-36a17f36e988"
      },
      "outputs": [
        {
          "name": "stdout",
          "output_type": "stream",
          "text": [
            "enter the  number55\n",
            "the number is divisible by both 5 and 11\n"
          ]
        }
      ],
      "source": [
        "a=int(input(\"enter the  number\"));\n",
        "if a%5==0 and a%11==0:\n",
        "    print(\"the number is divisible by both 5 and 11\")\n",
        "elif a%5==0:\n",
        "    print(\"The number is divisible by 5\")\n",
        "elif a%11==0 :\n",
        "    print(\"The number is divisible by 11\")\n",
        "else :\n",
        "    print(\"The number is not divisible by both\")\n",
        "     \n",
        " \n",
        "  \n"
      ]
    },
    {
      "cell_type": "code",
      "execution_count": null,
      "id": "3e9b2f5e",
      "metadata": {
        "id": "3e9b2f5e",
        "outputId": "cadb8d73-5eba-41e2-c118-28dd6e5218a0"
      },
      "outputs": [
        {
          "name": "stdout",
          "output_type": "stream",
          "text": [
            "enter the number to find factorial for 5\n",
            "120\n"
          ]
        }
      ],
      "source": [
        "a=int(input(\"enter the number to find factorial for \"))\n",
        "fact=1\n",
        "for i in range (1,a+1):\n",
        "    fact=fact*i\n",
        "print(fact)\n"
      ]
    },
    {
      "cell_type": "code",
      "execution_count": null,
      "id": "8a566016",
      "metadata": {
        "id": "8a566016",
        "outputId": "32a24dbf-4337-4ffd-8089-0780ca836c3d"
      },
      "outputs": [
        {
          "name": "stdout",
          "output_type": "stream",
          "text": [
            "enter the number you want to find palindrome for1212\n",
            "not a plaindrome\n"
          ]
        }
      ],
      "source": [
        "a=int(input(\"enter the number you want to find palindrome for\"))\n",
        "rev=0\n",
        "temp=a\n",
        "while temp>0:\n",
        "    rem=temp%10\n",
        "    rev=(rev*10)+rem\n",
        "    temp=temp//10\n",
        "if a==rev:\n",
        "    print(\"palindrome\")\n",
        "else:\n",
        "    print(\"not a plaindrome\")"
      ]
    },
    {
      "cell_type": "code",
      "execution_count": null,
      "id": "1942dc8f",
      "metadata": {
        "id": "1942dc8f",
        "outputId": "6bb2c301-c21d-4907-da5c-1f60cc9e160d"
      },
      "outputs": [
        {
          "name": "stdout",
          "output_type": "stream",
          "text": [
            "enter number of terms u want to find plandrome for10\n",
            "0 1\n",
            "1\n",
            "2\n",
            "3\n",
            "5\n",
            "8\n",
            "13\n",
            "21\n",
            "34\n",
            "55\n",
            "completion of fibonanci\n"
          ]
        }
      ],
      "source": [
        "a=0;b=1;n=int(input(\"enter number of terms u want to find plandrome for\"))\n",
        "print(a,b)\n",
        "for i in range(1,n):\n",
        "    nextnum=a+b \n",
        "    print(nextnum)\n",
        "    a=b \n",
        "    b=nextnum\n",
        "    i=i+1\n",
        "print(\"completion of fibonanci\")"
      ]
    },
    {
      "cell_type": "markdown",
      "id": "4a1ac88e",
      "metadata": {
        "id": "4a1ac88e"
      },
      "source": [
        "## Lists\n"
      ]
    },
    {
      "cell_type": "code",
      "execution_count": null,
      "id": "4887ec54",
      "metadata": {
        "id": "4887ec54",
        "outputId": "155e6769-5d7f-4554-dd38-86fcd5881a67"
      },
      "outputs": [
        {
          "name": "stdout",
          "output_type": "stream",
          "text": [
            "['apple ', 'cherry', 'melon', 'peach', 'berry']\n",
            "apple \n",
            "['apple ', 'cherry', 'melon']\n",
            "melon\n",
            "['apple ', 'cherry', 'melon', 'peach']\n",
            "['peach', 'berry']\n",
            "['cherry', 'melon', 'peach', 'berry']\n"
          ]
        }
      ],
      "source": [
        "fruits =[\"apple \",\"cherry\",\"melon\",\"peach\",\"berry\"]\n",
        "print(fruits)\n",
        "print(fruits[0])#it is used to print index\n",
        "print(fruits[0:3])#intial index and range is a given number \n",
        "print(fruits[-3])\n",
        "print(fruits[:4])#if the imdex is not given it act as zero\n",
        "print(fruits[3:5])\n",
        "print(fruits[1:])"
      ]
    },
    {
      "cell_type": "code",
      "execution_count": null,
      "id": "f309c1da",
      "metadata": {
        "id": "f309c1da",
        "outputId": "03012701-adf7-4864-a724-9f199982356b"
      },
      "outputs": [
        {
          "name": "stdout",
          "output_type": "stream",
          "text": [
            "['apple ', 'cherry', 'melon', 'peach', 'berry']\n",
            "5\n",
            "['apple ', 'cherry', 'melon', 'peach', 'berry', 'drangon fruit']\n"
          ]
        }
      ],
      "source": [
        "fruits =[\"apple \",\"cherry\",\"melon\",\"peach\",\"berry\"]\n",
        "print(fruits)\n",
        "print(len(fruits))\n",
        "fruits.append(\"drangon fruit\")# to add elements into list \n",
        "print(fruits)"
      ]
    },
    {
      "cell_type": "code",
      "execution_count": null,
      "id": "84376e8e",
      "metadata": {
        "id": "84376e8e",
        "outputId": "53bc54f5-1746-47ad-852c-7e21bb5b6b61"
      },
      "outputs": [
        {
          "name": "stdout",
          "output_type": "stream",
          "text": [
            "['apple ', 'cherry', 'melon', 'peach', 'berry']\n",
            "5\n",
            "['apple ', 'cherry', 'melon', 'drangon fruit', 'peach', 'berry']\n",
            "6\n"
          ]
        }
      ],
      "source": [
        "fruits =[\"apple \",\"cherry\",\"melon\",\"peach\",\"berry\"]\n",
        "print(fruits)\n",
        "print(len(fruits))\n",
        "fruits.insert(3,\"drangon fruit\")# to add elements with respective to index\n",
        "print(fruits)\n",
        "print(len(fruits))"
      ]
    },
    {
      "cell_type": "code",
      "execution_count": null,
      "id": "23d05705",
      "metadata": {
        "id": "23d05705",
        "outputId": "09e9bc99-820c-4029-95f0-a96d7f0bcfd8"
      },
      "outputs": [
        {
          "name": "stdout",
          "output_type": "stream",
          "text": [
            "['apple ', 'cherry', 'melon', 'peach', 'berry', 'potato', 'onion']\n",
            "onion\n",
            "['apple ', 'melon', 'peach', 'berry', 'potato', 'onion']\n"
          ]
        }
      ],
      "source": [
        "fruits =[\"apple \",\"cherry\",\"melon\",\"peach\",\"berry\"]\n",
        "veggies=[\"potato\", \"onion\"]\n",
        "fruits.extend(veggies) # to add elemtns of the another list\n",
        "print(fruits)\n",
        "print(fruits[6])\n",
        "fruits.remove(\"cherry\")# to remove elements from the list\n",
        "print(fruits)"
      ]
    },
    {
      "cell_type": "code",
      "execution_count": null,
      "id": "cb2e29c8",
      "metadata": {
        "id": "cb2e29c8"
      },
      "outputs": [],
      "source": [
        "list = [\"apple\", \"banana\", \"cherry\"]\n",
        "list[2] = \"blackcurrant\"\n",
        "\n",
        "print(list)\n"
      ]
    },
    {
      "cell_type": "code",
      "execution_count": null,
      "id": "a487eb8d",
      "metadata": {
        "id": "a487eb8d",
        "outputId": "9c35745e-a845-44cc-9cfc-d1238d27fb16"
      },
      "outputs": [
        {
          "name": "stdout",
          "output_type": "stream",
          "text": [
            "['hp', 'dell', 'lenovo']\n",
            "enter the element name: ohhh\n",
            "['hp', 'dell', 'ohhh', 'lenovo', 'ugh']\n"
          ]
        }
      ],
      "source": [
        "k=[\"hp\",\"dell\",\"lenovo\"]\n",
        "print(k)\n",
        "a=input(\"enter the element name: \")\n",
        "k.insert(2,a)\n",
        "k.append(\"ugh\")\n",
        "print(k)"
      ]
    },
    {
      "cell_type": "code",
      "execution_count": null,
      "id": "77f0cba5",
      "metadata": {
        "id": "77f0cba5",
        "outputId": "33540d55-2f1f-4069-8e33-b1ebbf1053c9"
      },
      "outputs": [
        {
          "name": "stdout",
          "output_type": "stream",
          "text": [
            "[1, 'kiran', True, 5j]\n",
            "[1, 2, 4, 5]\n",
            "[2, 3, 4]\n",
            "[True, 5j]\n",
            "[5j]\n",
            "[]\n"
          ]
        }
      ],
      "source": [
        "mix=[1,\"kiran\",bool(1),0+5j]\n",
        "k=[1,2,4,5]\n",
        "s=[2,3,4]\n",
        "print(mix)\n",
        "print(k)\n",
        "print(s)\n",
        "mix.pop(0)# pop is used to remove the element by the list\n",
        "mix.remove(\"kiran\")# remove to use to delete certain element\n",
        "print(mix)\n",
        "del mix[0] # del is used to delete the element in the list if the index is mentioned it delte the index value in the list \n",
        "print (mix)\n",
        "del k  # del without given index will delete whole list \n",
        "s.clear()\n",
        "print(s)\n",
        "\n",
        "\n"
      ]
    },
    {
      "cell_type": "code",
      "execution_count": null,
      "id": "e94a522f",
      "metadata": {
        "id": "e94a522f",
        "outputId": "2c43b932-94ba-4e9f-8641-c2b2f4400f07"
      },
      "outputs": [
        {
          "name": "stdout",
          "output_type": "stream",
          "text": [
            "[1, 2, 3, 4, 5, 6, 7]\n",
            "[7, 6, 5, 4, 3, 2, 1]\n",
            "['a', 'i', 'k', 'n', 'r']\n",
            "['r', 'n', 'k', 'i', 'a']\n"
          ]
        }
      ],
      "source": [
        "num=[1,5,3,7,2,4,6]\n",
        "num.sort()#it sorts according to order\n",
        "print(num)\n",
        "num.sort(reverse=True) # reverse=True is used to reverse the list ie: descending order \n",
        "print(num)\n",
        "pp=[\"k\",\"i\",\"r\",\"a\",\"n\"]\n",
        "pp.sort()\n",
        "print(pp)\n",
        "pp.sort(reverse=True)#it also sort alph according to dictionary order\n",
        "print(pp)"
      ]
    },
    {
      "cell_type": "code",
      "execution_count": null,
      "id": "eeb0b1c2",
      "metadata": {
        "id": "eeb0b1c2",
        "outputId": "f7ff8185-b541-4562-da84-ed20a6f38123"
      },
      "outputs": [
        {
          "name": "stdout",
          "output_type": "stream",
          "text": [
            "('a', 'b', 'c')\n"
          ]
        }
      ],
      "source": [
        "t=(\"a\",\"b\",\"c\")# tuple doesn't allow addition of elements\n",
        "print(t)"
      ]
    },
    {
      "cell_type": "code",
      "execution_count": null,
      "id": "f144f6ba",
      "metadata": {
        "id": "f144f6ba",
        "outputId": "37b29f82-9d72-4a14-f989-f3beebd0e12a"
      },
      "outputs": [
        {
          "name": "stdout",
          "output_type": "stream",
          "text": [
            "2\n",
            "6\n"
          ]
        }
      ],
      "source": [
        "a=[1,2,3,6,7]\n",
        "for i in range (len(a)):\n",
        "    if a[i]%2==0:\n",
        "          print(a[i])"
      ]
    },
    {
      "cell_type": "code",
      "execution_count": null,
      "id": "c10ca0df",
      "metadata": {
        "id": "c10ca0df",
        "outputId": "e23cba20-7062-44df-c29a-d46ab674fb97"
      },
      "outputs": [
        {
          "name": "stdout",
          "output_type": "stream",
          "text": [
            "enter the numbers: 10\n"
          ]
        },
        {
          "ename": "IndexError",
          "evalue": "list assignment index out of range",
          "output_type": "error",
          "traceback": [
            "\u001b[1;31m---------------------------------------------------------------------------\u001b[0m",
            "\u001b[1;31mIndexError\u001b[0m                                Traceback (most recent call last)",
            "\u001b[1;32m~\\AppData\\Local\\Temp/ipykernel_1828/1138880033.py\u001b[0m in \u001b[0;36m<module>\u001b[1;34m\u001b[0m\n\u001b[0;32m      1\u001b[0m \u001b[0ma\u001b[0m\u001b[1;33m=\u001b[0m\u001b[1;33m[\u001b[0m\u001b[1;33m]\u001b[0m\u001b[1;33m\u001b[0m\u001b[1;33m\u001b[0m\u001b[0m\n\u001b[0;32m      2\u001b[0m \u001b[1;32mfor\u001b[0m \u001b[0mi\u001b[0m \u001b[1;32min\u001b[0m \u001b[0mrange\u001b[0m\u001b[1;33m(\u001b[0m\u001b[1;36m1\u001b[0m\u001b[1;33m,\u001b[0m\u001b[0mn\u001b[0m\u001b[1;33m)\u001b[0m\u001b[1;33m:\u001b[0m\u001b[1;33m\u001b[0m\u001b[1;33m\u001b[0m\u001b[0m\n\u001b[1;32m----> 3\u001b[1;33m     \u001b[0ma\u001b[0m\u001b[1;33m[\u001b[0m\u001b[0mi\u001b[0m\u001b[1;33m]\u001b[0m\u001b[1;33m=\u001b[0m\u001b[0mint\u001b[0m\u001b[1;33m(\u001b[0m\u001b[0minput\u001b[0m\u001b[1;33m(\u001b[0m\u001b[1;34m\"enter the numbers: \"\u001b[0m\u001b[1;33m)\u001b[0m\u001b[1;33m)\u001b[0m\u001b[1;33m\u001b[0m\u001b[1;33m\u001b[0m\u001b[0m\n\u001b[0m\u001b[0;32m      4\u001b[0m     \u001b[1;32mwhile\u001b[0m \u001b[0mlen\u001b[0m\u001b[1;33m(\u001b[0m\u001b[0ma\u001b[0m\u001b[1;33m)\u001b[0m\u001b[1;33m<\u001b[0m\u001b[1;36m10\u001b[0m\u001b[1;33m:\u001b[0m\u001b[1;33m\u001b[0m\u001b[1;33m\u001b[0m\u001b[0m\n\u001b[0;32m      5\u001b[0m         \u001b[0mprint\u001b[0m\u001b[1;33m(\u001b[0m\u001b[0ma\u001b[0m\u001b[1;33m[\u001b[0m\u001b[0mi\u001b[0m\u001b[1;33m]\u001b[0m\u001b[1;33m)\u001b[0m\u001b[1;33m\u001b[0m\u001b[1;33m\u001b[0m\u001b[0m\n",
            "\u001b[1;31mIndexError\u001b[0m: list assignment index out of range"
          ]
        }
      ],
      "source": [
        "a=[]\n",
        "for i in range(1,n):\n",
        "    a[i]=int(input(\"enter the numbers: \"))\n",
        "    while len(a)<10:\n",
        "        print(a[i])\n",
        "        "
      ]
    },
    {
      "cell_type": "code",
      "execution_count": null,
      "id": "7cfaee5f",
      "metadata": {
        "id": "7cfaee5f",
        "outputId": "cd5b50ae-f755-482e-8e1d-e488d5b72139"
      },
      "outputs": [
        {
          "name": "stdout",
          "output_type": "stream",
          "text": [
            "enter the number4\n",
            "2.0\n"
          ]
        }
      ],
      "source": [
        "import math \n",
        "a=int(input(\"enter the number\"))\n",
        "b=math.sqrt(a)\n",
        "print(b)"
      ]
    },
    {
      "cell_type": "code",
      "execution_count": null,
      "id": "58727fd2",
      "metadata": {
        "id": "58727fd2",
        "outputId": "516ade45-7238-4ad3-d798-70ba1519ab3e"
      },
      "outputs": [
        {
          "name": "stdout",
          "output_type": "stream",
          "text": [
            "5\n"
          ]
        }
      ],
      "source": [
        "a=int(5);b=int(3);c=int(2)\n",
        "if a>b and a>c:\n",
        "    print(5)\n",
        "elif b>c and b>a:\n",
        "    print(3)\n",
        "else:\n",
        "    print(2)\n",
        "        "
      ]
    },
    {
      "cell_type": "code",
      "execution_count": null,
      "id": "9a2417c4",
      "metadata": {
        "id": "9a2417c4",
        "outputId": "3ea3b0dd-c087-4a1d-ad1b-70308101a1c2"
      },
      "outputs": [
        {
          "name": "stdout",
          "output_type": "stream",
          "text": [
            "Result = 3 2\n"
          ]
        }
      ],
      "source": [
        "a=int(2);b=int(3)\n",
        "temp=a\n",
        "a=b\n",
        "b=temp\n",
        "print(\"Result =\",a,b)\n"
      ]
    },
    {
      "cell_type": "code",
      "execution_count": null,
      "id": "92a5ab06",
      "metadata": {
        "id": "92a5ab06",
        "outputId": "d9c0b9f8-bbb4-438b-8652-492574126002"
      },
      "outputs": [
        {
          "name": "stdout",
          "output_type": "stream",
          "text": [
            "['Red', 'Orange', 'Yellow', 'Black', 'Green']\n"
          ]
        }
      ],
      "source": [
        "Rainbow=['Red','Orange','Yellow','Green']\n",
        "Rainbow.insert(3,'Black')\n",
        "print(Rainbow)"
      ]
    },
    {
      "cell_type": "code",
      "execution_count": null,
      "id": "6625644a",
      "metadata": {
        "id": "6625644a",
        "outputId": "c906ddfe-ee01-4e6b-cfe2-28a232740de8"
      },
      "outputs": [
        {
          "name": "stdout",
          "output_type": "stream",
          "text": [
            "1\n",
            "2\n",
            "3\n",
            "7\n",
            "8\n"
          ]
        }
      ],
      "source": [
        "a=[1,7,3,8,2]\n",
        "a.sort()\n",
        "for x in a:\n",
        "    print(x)"
      ]
    },
    {
      "cell_type": "code",
      "execution_count": null,
      "id": "f443215d",
      "metadata": {
        "id": "f443215d",
        "outputId": "9d828e5a-96a8-431f-a518-5a45cb9e478a"
      },
      "outputs": [
        {
          "name": "stdout",
          "output_type": "stream",
          "text": [
            "['123a500', '5a9874']\n"
          ]
        }
      ],
      "source": [
        "list = [\"123a500\", \"0b02222\", \"5a9874\", \"7c8924\", \"8d79654\"]\n",
        "newlist = []\n",
        "\n",
        "for x in list:\n",
        "    if \"a\" in x:\n",
        "        newlist.append(x)\n",
        "\n",
        "print(newlist)\n"
      ]
    },
    {
      "cell_type": "markdown",
      "id": "5b91e735",
      "metadata": {
        "id": "5b91e735"
      },
      "source": [
        "# STRING"
      ]
    },
    {
      "cell_type": "code",
      "execution_count": null,
      "id": "0dc6db04",
      "metadata": {
        "id": "0dc6db04",
        "outputId": "e1d30714-7913-4c57-bc73-de0777e6425a"
      },
      "outputs": [
        {
          "name": "stdout",
          "output_type": "stream",
          "text": [
            "kiran\n",
            "i\n",
            "o\n",
            "5\n"
          ]
        }
      ],
      "source": [
        "a=\"kiran\"\n",
        "print(a)\n",
        "print(a[1])\n",
        "b=\"hello\"\n",
        "print(b[4])\n",
        "print(len(b))"
      ]
    },
    {
      "cell_type": "code",
      "execution_count": null,
      "id": "d6f4b0cf",
      "metadata": {
        "id": "d6f4b0cf",
        "outputId": "00fb7353-a93d-480d-e0de-713bf7c3ddbd"
      },
      "outputs": [
        {
          "name": "stdout",
          "output_type": "stream",
          "text": [
            "True\n",
            "False\n",
            "False\n"
          ]
        }
      ],
      "source": [
        "a=\"hello retard your life is miserable if you're reading this\"\n",
        "print(\"this\" in a)\n",
        "print(\"xz\" in a)\n",
        "print(\"hello\" not in a)"
      ]
    },
    {
      "cell_type": "markdown",
      "id": "df8766c6",
      "metadata": {
        "id": "df8766c6"
      },
      "source": [
        "## slicing"
      ]
    },
    {
      "cell_type": "code",
      "execution_count": null,
      "id": "4443adcb",
      "metadata": {
        "id": "4443adcb",
        "outputId": "ba08789f-bd6b-4a14-9896-e01ac8464180"
      },
      "outputs": [
        {
          "name": "stdout",
          "output_type": "stream",
          "text": [
            "el\n"
          ]
        }
      ],
      "source": [
        "a=\"hello retard your life is miserable if you're reading this\"\n",
        "print(a[1:3])"
      ]
    },
    {
      "cell_type": "markdown",
      "id": "4fe23377",
      "metadata": {
        "id": "4fe23377"
      },
      "source": [
        "## modifing string"
      ]
    },
    {
      "cell_type": "code",
      "execution_count": null,
      "id": "a463bf5f",
      "metadata": {
        "id": "a463bf5f",
        "outputId": "befeb293-50f6-429f-98ba-4b4803fb0b82"
      },
      "outputs": [
        {
          "name": "stdout",
          "output_type": "stream",
          "text": [
            "HELLO RETARD YOUR LIFE IS MISERABLE IF YOU'RE READING THIS\n",
            "retard\n"
          ]
        }
      ],
      "source": [
        "a=\"hello retard your life is miserable if you're reading this\"\n",
        "print(a.upper())\n",
        "b=\"RETARD\"\n",
        "print(b.lower())"
      ]
    },
    {
      "cell_type": "code",
      "execution_count": null,
      "id": "d8d27a44",
      "metadata": {
        "id": "d8d27a44",
        "outputId": "7e708ce3-4152-42b9-fc8c-3f580b906abb"
      },
      "outputs": [
        {
          "name": "stdout",
          "output_type": "stream",
          "text": [
            "your life is miserable\n"
          ]
        }
      ],
      "source": [
        "a=\"    your life is miserable\"\n",
        "print(a.strip())## removes the space at starting"
      ]
    },
    {
      "cell_type": "code",
      "execution_count": null,
      "id": "a291ca85",
      "metadata": {
        "id": "a291ca85",
        "outputId": "64ef5609-02a5-416b-838e-d77b5cdb6db6"
      },
      "outputs": [
        {
          "name": "stdout",
          "output_type": "stream",
          "text": [
            "your life is miserable\n"
          ]
        }
      ],
      "source": [
        "a=\"your life is Life\"\n",
        "print(a.replace(\"Life\",\"miserable\"))## replace the variable we want to change"
      ]
    },
    {
      "cell_type": "code",
      "execution_count": null,
      "id": "7a25b5f9",
      "metadata": {
        "id": "7a25b5f9",
        "outputId": "ee28048a-f538-489e-a67e-cedd0576eda9"
      },
      "outputs": [
        {
          "name": "stdout",
          "output_type": "stream",
          "text": [
            "['your', 'life', 'is', 'miserable']\n"
          ]
        }
      ],
      "source": [
        "a=\" your life is miserable\"\n",
        "print(a.split())## splits the elements"
      ]
    },
    {
      "cell_type": "code",
      "execution_count": null,
      "id": "bf74b8c6",
      "metadata": {
        "id": "bf74b8c6",
        "outputId": "c299fb94-1aba-47c3-d8f9-b0de66bb9e25"
      },
      "outputs": [
        {
          "name": "stdout",
          "output_type": "stream",
          "text": [
            "yourlifeismiserable\n",
            "your life is miserable\n"
          ]
        }
      ],
      "source": [
        "a=\"your\"\n",
        "b=\"life\"\n",
        "c=\"is\"\n",
        "d=\"miserable\"\n",
        "k=a+b+c+d\n",
        "m=a+\" \"+b+\" \"+c+\" \"+d\n",
        "print(k)\n",
        "print(m)\n"
      ]
    },
    {
      "cell_type": "code",
      "execution_count": null,
      "id": "51446621",
      "metadata": {
        "id": "51446621",
        "outputId": "96721078-34fc-40bf-f361-b7d7797e200e"
      },
      "outputs": [
        {
          "name": "stdout",
          "output_type": "stream",
          "text": [
            "your life is miserable, and you'll die at 21\n"
          ]
        }
      ],
      "source": [
        "age=21\n",
        "txt=\"your life is miserable, and you'll die at {}\"\n",
        "print(txt.format(age))## the format is used to convert integers"
      ]
    },
    {
      "cell_type": "code",
      "execution_count": null,
      "id": "61bab29d",
      "metadata": {
        "id": "61bab29d",
        "outputId": "ed9c5a91-b392-4f48-b159-c7d22fd06dfd"
      },
      "outputs": [
        {
          "name": "stdout",
          "output_type": "stream",
          "text": [
            "your life is miserable you get paid 1000kk, and you'll die at 21\n"
          ]
        }
      ],
      "source": [
        "age=21\n",
        "earn=\"1000k\"\n",
        "txt=\"your life is miserable you get paid {1}, and you'll die at {0}\"\n",
        "print(txt.format(age,earn))"
      ]
    },
    {
      "cell_type": "code",
      "execution_count": null,
      "id": "7c246589",
      "metadata": {
        "id": "7c246589",
        "outputId": "629c8b2e-9de2-464b-a8a2-29e55f4c7a8f"
      },
      "outputs": [
        {
          "name": "stdout",
          "output_type": "stream",
          "text": [
            "your life is \"miserable\" retard\n",
            "you're a retard\n"
          ]
        }
      ],
      "source": [
        "txt=\"your life is \\\"miserable\\\" retard\"\n",
        "a='you\\'re a retard'\n",
        "b=\n",
        "print(txt)##\\txt\\ is used to seperate\n",
        "print(a)"
      ]
    },
    {
      "cell_type": "code",
      "execution_count": null,
      "id": "dbe95023",
      "metadata": {
        "id": "dbe95023",
        "outputId": "0f0ea376-9968-41e6-f1e6-68db186a9966"
      },
      "outputs": [
        {
          "name": "stdout",
          "output_type": "stream",
          "text": [
            "your life is  \btrash\n",
            "your life is\n",
            "trash\n",
            "your life is\ttrash\n"
          ]
        }
      ],
      "source": [
        "a=\"your life is  \\btrash\"\n",
        "b=\"your life is\\ntrash\"\n",
        "c=\"your life is\\ttrash\"\n",
        "print(a)\n",
        "print(b)\n",
        "print(c)"
      ]
    },
    {
      "cell_type": "code",
      "execution_count": null,
      "id": "8e92b82e",
      "metadata": {
        "id": "8e92b82e",
        "outputId": "eae28871-552c-4d7a-e558-651a0529d51f"
      },
      "outputs": [
        {
          "name": "stdout",
          "output_type": "stream",
          "text": [
            "Retard\n",
            "retard\n",
            "  Retard  \n",
            "3\n",
            "True\n"
          ]
        }
      ],
      "source": [
        "a=\"retard\"\n",
        "b=\"Retard\"\n",
        "c=\"retard is a retard you retard\"\n",
        "print(a.capitalize())\n",
        "print(b.casefold())\n",
        "print(b.center(10))\n",
        "print(c.count(\"retard\"))\n",
        "print(c.endswith(\"retard\"))\n",
        "\n"
      ]
    },
    {
      "cell_type": "code",
      "execution_count": null,
      "id": "5c17a865",
      "metadata": {
        "id": "5c17a865"
      },
      "outputs": [],
      "source": [
        ""
      ]
    }
  ],
  "metadata": {
    "kernelspec": {
      "display_name": "Python 3 (ipykernel)",
      "language": "python",
      "name": "python3"
    },
    "language_info": {
      "codemirror_mode": {
        "name": "ipython",
        "version": 3
      },
      "file_extension": ".py",
      "mimetype": "text/x-python",
      "name": "python",
      "nbconvert_exporter": "python",
      "pygments_lexer": "ipython3",
      "version": "3.9.7"
    },
    "colab": {
      "name": "Python (1012).ipynb",
      "provenance": [],
      "include_colab_link": true
    }
  },
  "nbformat": 4,
  "nbformat_minor": 5
}