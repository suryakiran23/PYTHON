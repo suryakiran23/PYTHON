{
  "cells": [
    {
      "cell_type": "markdown",
      "metadata": {
        "id": "view-in-github",
        "colab_type": "text"
      },
      "source": [
        "<a href=\"https://colab.research.google.com/github/suryakiran23/PYTHON/blob/main/Python_(1012).ipynb\" target=\"_parent\"><img src=\"https://colab.research.google.com/assets/colab-badge.svg\" alt=\"Open In Colab\"/></a>"
      ]
    },
    {
      "cell_type": "markdown",
      "id": "0fb4d8f2",
      "metadata": {
        "id": "0fb4d8f2"
      },
      "source": [
        "## Avg of three numbers"
      ]
    },
    {
      "cell_type": "code",
      "execution_count": null,
      "id": "cc0b37b8",
      "metadata": {
        "id": "cc0b37b8",
        "outputId": "c7d7d330-fea0-4f29-efc5-124cf1afba24"
      },
      "outputs": [
        {
          "name": "stdout",
          "output_type": "stream",
          "text": [
            "20.0\n",
            "<class 'float'>\n"
          ]
        }
      ],
      "source": [
        "a=10;b=20;c=30\n",
        "d=(a+b+c)/3\n",
        "print(d)\n",
        "print(type(d))\n"
      ]
    },
    {
      "cell_type": "markdown",
      "id": "751af435",
      "metadata": {
        "id": "751af435"
      },
      "source": [
        "## Multi of two numbers"
      ]
    },
    {
      "cell_type": "code",
      "execution_count": null,
      "id": "9a9de076",
      "metadata": {
        "id": "9a9de076",
        "outputId": "b9f3b56b-cbe6-4b06-f9a4-e29155efc326"
      },
      "outputs": [
        {
          "name": "stdout",
          "output_type": "stream",
          "text": [
            "<class 'int'>\n",
            "multi of the given two numbers:  200\n"
          ]
        }
      ],
      "source": [
        "a=10;b=20\n",
        "mult=a*b\n",
        "print(type\n",
        "    (mult))\n",
        "print(\"multi of the given two numbers: \",mult)"
      ]
    },
    {
      "cell_type": "markdown",
      "id": "056ba211",
      "metadata": {
        "id": "056ba211"
      },
      "source": [
        "## dynamic addition of two numbers\n"
      ]
    },
    {
      "cell_type": "code",
      "execution_count": null,
      "id": "27dabfa1",
      "metadata": {
        "id": "27dabfa1",
        "outputId": "172ca8a3-a04d-4723-c082-a01d4aecc013"
      },
      "outputs": [
        {
          "name": "stdout",
          "output_type": "stream",
          "text": [
            "ENTER A NUMBER2\n",
            "enter the second number3\n",
            "the sum of two number:  5\n"
          ]
        }
      ],
      "source": [
        "a=int(input( \"ENTER A NUMBER\"))\n",
        "b=int(input(\"enter the second number\"))\n",
        "c=a+b\n",
        "print(\"the sum of two number: \",c)"
      ]
    },
    {
      "cell_type": "code",
      "execution_count": null,
      "id": "33518d19",
      "metadata": {
        "id": "33518d19",
        "outputId": "e72d022e-6224-47a6-9677-757490509ad9"
      },
      "outputs": [
        {
          "name": "stdout",
          "output_type": "stream",
          "text": [
            "ENTER A NUMBER2\n",
            "enter the second number3\n",
            "kiran\n",
            "<class 'str'>\n",
            "the sum of two number:  5\n"
          ]
        }
      ],
      "source": [
        "a=int(input( \"ENTER A NUMBER\"));b=int(input(\"enter the second number\"))\n",
        "c=a+b\n",
        "d=\"ki\";e=\"ran\"\n",
        "f=d+e\n",
        "print(f)\n",
        "print(type(f))\n",
        "print(\"the sum of two number: \",c)"
      ]
    },
    {
      "cell_type": "markdown",
      "id": "b9869a1f",
      "metadata": {
        "id": "b9869a1f"
      },
      "source": [
        "## coversion of data types"
      ]
    },
    {
      "cell_type": "markdown",
      "id": "e15f5c5d",
      "metadata": {
        "id": "e15f5c5d"
      },
      "source": [
        "### covert int to float"
      ]
    },
    {
      "cell_type": "code",
      "execution_count": null,
      "id": "87a10ff0",
      "metadata": {
        "id": "87a10ff0",
        "outputId": "d89f44fa-333b-4a00-8440-0de6f2e565ab"
      },
      "outputs": [
        {
          "name": "stdout",
          "output_type": "stream",
          "text": [
            "10.0\n",
            "<class 'float'>\n"
          ]
        }
      ],
      "source": [
        "a=10;b=float(a)\n",
        "print(b)\n",
        "print(type(b))"
      ]
    },
    {
      "cell_type": "markdown",
      "id": "49118fc9",
      "metadata": {
        "id": "49118fc9"
      },
      "source": [
        "### covert float to int"
      ]
    },
    {
      "cell_type": "code",
      "execution_count": null,
      "id": "6b51b68f",
      "metadata": {
        "id": "6b51b68f",
        "outputId": "669fa223-3853-483c-99fd-32cc0c612b46"
      },
      "outputs": [
        {
          "name": "stdout",
          "output_type": "stream",
          "text": [
            "10\n",
            "<class 'int'>\n"
          ]
        }
      ],
      "source": [
        "a=10.0;b=int(a)\n",
        "print(b)\n",
        "print(type(b))"
      ]
    },
    {
      "cell_type": "code",
      "execution_count": null,
      "id": "6c0bf14b",
      "metadata": {
        "id": "6c0bf14b",
        "outputId": "b397f8f5-8ad1-48a8-8266-9d88c309516d"
      },
      "outputs": [
        {
          "name": "stdout",
          "output_type": "stream",
          "text": [
            "10 <class 'int'>\n",
            "10.0 <class 'float'>\n"
          ]
        }
      ],
      "source": [
        "a=10.0;b=int(a)\n",
        "print(b,type(b))\n",
        "c=float(b)\n",
        "print(c,type(c))"
      ]
    },
    {
      "cell_type": "markdown",
      "id": "58b836dc",
      "metadata": {
        "id": "58b836dc"
      },
      "source": [
        "## covert int to str (strn to int isn't possible with alphabet)\n"
      ]
    },
    {
      "cell_type": "code",
      "execution_count": null,
      "id": "686b5fd6",
      "metadata": {
        "id": "686b5fd6",
        "outputId": "abff482d-0c1c-4eb6-cf44-02406b2adef0"
      },
      "outputs": [
        {
          "name": "stdout",
          "output_type": "stream",
          "text": [
            "10 <class 'str'>\n",
            "10 <class 'int'>\n"
          ]
        }
      ],
      "source": [
        "#strn to int isn't possible with alphabet\n",
        "a=10;b=str(a)\n",
        "print(b,type(b))\n",
        "c=int(b)\n",
        "print(c,type(c))"
      ]
    },
    {
      "cell_type": "markdown",
      "id": "0ce75177",
      "metadata": {
        "id": "0ce75177"
      },
      "source": [
        "## boolean function"
      ]
    },
    {
      "cell_type": "code",
      "execution_count": null,
      "id": "37c6ee07",
      "metadata": {
        "id": "37c6ee07",
        "outputId": "4a4e148d-e4a5-48d5-b66e-c1673130b812"
      },
      "outputs": [
        {
          "name": "stdout",
          "output_type": "stream",
          "text": [
            "True\n",
            "<class 'int'>\n",
            "True\n",
            "<class 'float'>\n"
          ]
        }
      ],
      "source": [
        "a=10;b=float(a)\n",
        "print(bool(a));print (type(a))\n",
        "print(bool(b));print(type(b))"
      ]
    },
    {
      "cell_type": "code",
      "execution_count": null,
      "id": "6f9fee1a",
      "metadata": {
        "id": "6f9fee1a",
        "outputId": "2e4bff1f-1f9e-4919-ede1-03afbae66531"
      },
      "outputs": [
        {
          "name": "stdout",
          "output_type": "stream",
          "text": [
            "enter num to check boolean\n",
            "enter num 1: 2\n",
            "enter num2: 3\n",
            "check boolean\n",
            "True True <class 'int'> <class 'float'>\n"
          ]
        }
      ],
      "source": [
        "print(\"enter num to check boolean\");a=int(input(\"enter num 1: \"));b=float(input(\"enter num2: \" ))\n",
        "print(\"check boolean\")\n",
        "print(bool(a),bool(b),type(a),type(b))"
      ]
    },
    {
      "cell_type": "code",
      "execution_count": null,
      "id": "c9cb60bf",
      "metadata": {
        "id": "c9cb60bf",
        "outputId": "015435f7-3c4e-46b7-d6d7-f0ff10155bd6"
      },
      "outputs": [
        {
          "name": "stdout",
          "output_type": "stream",
          "text": [
            "False <class 'bool'>\n",
            "0\n"
          ]
        }
      ],
      "source": [
        "a=10;b=15\n",
        "c=a>b\n",
        "print(bool(c),type(c))\n",
        "print(int(c))"
      ]
    },
    {
      "cell_type": "code",
      "execution_count": null,
      "id": "9575bf1a",
      "metadata": {
        "id": "9575bf1a",
        "outputId": "8c12266d-3216-4aa3-aba5-6603b5f3bb46"
      },
      "outputs": [
        {
          "name": "stdout",
          "output_type": "stream",
          "text": [
            "True False <class 'bool'> <class 'bool'>\n"
          ]
        }
      ],
      "source": [
        "a=10;b=5\n",
        "c=a>b;d=b>a;\n",
        "print((c),(d),type(c),type(d))"
      ]
    },
    {
      "cell_type": "code",
      "execution_count": null,
      "id": "7c803907",
      "metadata": {
        "id": "7c803907",
        "outputId": "07eceeb9-54ec-4a5e-95d4-309863a1b34a"
      },
      "outputs": [
        {
          "name": "stdout",
          "output_type": "stream",
          "text": [
            "True <class 'bool'>\n",
            "1 <class 'bool'>\n"
          ]
        }
      ],
      "source": [
        "a=bool(10)\n",
        "print((a),type(a))\n",
        "print(int(a),type(a))"
      ]
    },
    {
      "cell_type": "markdown",
      "id": "104069fd",
      "metadata": {
        "id": "104069fd"
      },
      "source": [
        "## complex\n"
      ]
    },
    {
      "cell_type": "code",
      "execution_count": null,
      "id": "910d82a7",
      "metadata": {
        "id": "910d82a7",
        "outputId": "f75e727a-ed4a-49d5-87e3-259db6ef650c"
      },
      "outputs": [
        {
          "name": "stdout",
          "output_type": "stream",
          "text": [
            "(5+0j)\n"
          ]
        }
      ],
      "source": [
        "a=10\n",
        "print(complex(b))"
      ]
    },
    {
      "cell_type": "code",
      "execution_count": null,
      "id": "163b2c03",
      "metadata": {
        "id": "163b2c03",
        "outputId": "3c8abbe8-17ac-47c0-932b-618cca2aecf8"
      },
      "outputs": [
        {
          "name": "stdout",
          "output_type": "stream",
          "text": [
            "True (23+0j) 23.0\n"
          ]
        }
      ],
      "source": [
        "a=23\n",
        "print(bool(a),complex(a),float(a))"
      ]
    },
    {
      "cell_type": "code",
      "execution_count": null,
      "id": "b0836b52",
      "metadata": {
        "id": "b0836b52",
        "outputId": "c1ee4788-e52e-4e0f-bfb4-8ab38ebd2859"
      },
      "outputs": [
        {
          "name": "stdout",
          "output_type": "stream",
          "text": [
            "<class 'complex'>\n"
          ]
        },
        {
          "ename": "TypeError",
          "evalue": "can't convert complex to int",
          "output_type": "error",
          "traceback": [
            "\u001b[1;31m---------------------------------------------------------------------------\u001b[0m",
            "\u001b[1;31mTypeError\u001b[0m                                 Traceback (most recent call last)",
            "\u001b[1;32m~\\AppData\\Local\\Temp/ipykernel_10780/3750108827.py\u001b[0m in \u001b[0;36m<module>\u001b[1;34m\u001b[0m\n\u001b[0;32m      1\u001b[0m \u001b[0ma\u001b[0m\u001b[1;33m=\u001b[0m\u001b[1;36m23\u001b[0m\u001b[1;33m+\u001b[0m\u001b[1;36m2j\u001b[0m\u001b[1;33m\u001b[0m\u001b[1;33m\u001b[0m\u001b[0m\n\u001b[0;32m      2\u001b[0m \u001b[0mprint\u001b[0m\u001b[1;33m(\u001b[0m\u001b[0mtype\u001b[0m\u001b[1;33m(\u001b[0m\u001b[0ma\u001b[0m\u001b[1;33m)\u001b[0m\u001b[1;33m)\u001b[0m\u001b[1;33m\u001b[0m\u001b[1;33m\u001b[0m\u001b[0m\n\u001b[1;32m----> 3\u001b[1;33m \u001b[0mprint\u001b[0m\u001b[1;33m(\u001b[0m\u001b[0mint\u001b[0m\u001b[1;33m(\u001b[0m\u001b[0ma\u001b[0m\u001b[1;33m)\u001b[0m\u001b[1;33m,\u001b[0m\u001b[0mtype\u001b[0m\u001b[1;33m(\u001b[0m\u001b[0ma\u001b[0m\u001b[1;33m)\u001b[0m\u001b[1;33m)\u001b[0m\u001b[1;33m\u001b[0m\u001b[1;33m\u001b[0m\u001b[0m\n\u001b[0m",
            "\u001b[1;31mTypeError\u001b[0m: can't convert complex to int"
          ]
        }
      ],
      "source": [
        "a=23+2j\n",
        "print(type(a))\n",
        "print(int(a),type(a))"
      ]
    },
    {
      "cell_type": "code",
      "execution_count": null,
      "id": "10155708",
      "metadata": {
        "id": "10155708",
        "outputId": "bfffb134-b8b9-4e40-ed20-263884b3f62b"
      },
      "outputs": [
        {
          "name": "stdout",
          "output_type": "stream",
          "text": [
            "<class 'complex'>\n",
            "(23+2j) <class 'complex'>\n"
          ]
        }
      ],
      "source": [
        "a=23+2j\n",
        "print(type(a))\n",
        "print(str(a),type(a))"
      ]
    },
    {
      "cell_type": "code",
      "execution_count": null,
      "id": "5da13c4c",
      "metadata": {
        "id": "5da13c4c",
        "outputId": "25b4766a-40bb-4f95-aa22-bc9ce0b010e1"
      },
      "outputs": [
        {
          "name": "stdout",
          "output_type": "stream",
          "text": [
            "<class 'complex'>\n"
          ]
        },
        {
          "ename": "TypeError",
          "evalue": "can't convert complex to float",
          "output_type": "error",
          "traceback": [
            "\u001b[1;31m---------------------------------------------------------------------------\u001b[0m",
            "\u001b[1;31mTypeError\u001b[0m                                 Traceback (most recent call last)",
            "\u001b[1;32m~\\AppData\\Local\\Temp/ipykernel_10780/2850350656.py\u001b[0m in \u001b[0;36m<module>\u001b[1;34m\u001b[0m\n\u001b[0;32m      1\u001b[0m \u001b[0ma\u001b[0m\u001b[1;33m=\u001b[0m\u001b[1;36m23\u001b[0m\u001b[1;33m+\u001b[0m\u001b[1;36m2j\u001b[0m\u001b[1;33m\u001b[0m\u001b[1;33m\u001b[0m\u001b[0m\n\u001b[0;32m      2\u001b[0m \u001b[0mprint\u001b[0m\u001b[1;33m(\u001b[0m\u001b[0mtype\u001b[0m\u001b[1;33m(\u001b[0m\u001b[0ma\u001b[0m\u001b[1;33m)\u001b[0m\u001b[1;33m)\u001b[0m\u001b[1;33m\u001b[0m\u001b[1;33m\u001b[0m\u001b[0m\n\u001b[1;32m----> 3\u001b[1;33m \u001b[0mprint\u001b[0m\u001b[1;33m(\u001b[0m\u001b[0mfloat\u001b[0m\u001b[1;33m(\u001b[0m\u001b[0ma\u001b[0m\u001b[1;33m)\u001b[0m\u001b[1;33m,\u001b[0m\u001b[0mtype\u001b[0m\u001b[1;33m(\u001b[0m\u001b[0ma\u001b[0m\u001b[1;33m)\u001b[0m\u001b[1;33m)\u001b[0m\u001b[1;33m\u001b[0m\u001b[1;33m\u001b[0m\u001b[0m\n\u001b[0m",
            "\u001b[1;31mTypeError\u001b[0m: can't convert complex to float"
          ]
        }
      ],
      "source": [
        "a=23+2j\n",
        "print(type(a))\n",
        "print(float(a),type(a))"
      ]
    },
    {
      "cell_type": "markdown",
      "id": "2c55a2c0",
      "metadata": {
        "id": "2c55a2c0"
      },
      "source": [
        "## PYTHON control statements \n"
      ]
    },
    {
      "cell_type": "markdown",
      "id": "3d71d49b",
      "metadata": {
        "id": "3d71d49b"
      },
      "source": [
        "## IF ELSE"
      ]
    },
    {
      "cell_type": "code",
      "execution_count": null,
      "id": "cacc4684",
      "metadata": {
        "id": "cacc4684"
      },
      "outputs": [],
      "source": [
        "a=18\n",
        "if a>18: ###indentation is necessary \n",
        "       print(\"you're eligiable for voting\")### the code should be started below the indenenation"
      ]
    },
    {
      "cell_type": "code",
      "execution_count": null,
      "id": "eebb9d20",
      "metadata": {
        "id": "eebb9d20",
        "outputId": "d81e074a-0525-4695-9a12-31eb6ea28f75"
      },
      "outputs": [
        {
          "name": "stdout",
          "output_type": "stream",
          "text": [
            "enter the age21\n",
            "eligible for voting\n"
          ]
        }
      ],
      "source": [
        "a=int(input(\"enter the age\"))\n",
        "if a>18:\n",
        "    print(\"eligible for voting\")\n",
        "else:\n",
        "       print(\"not eligigble\")\n"
      ]
    },
    {
      "cell_type": "code",
      "execution_count": null,
      "id": "ba4e0c5d",
      "metadata": {
        "id": "ba4e0c5d",
        "outputId": "9b37f027-0bb6-4c3d-d82a-a419b9a3ae6a"
      },
      "outputs": [
        {
          "name": "stdout",
          "output_type": "stream",
          "text": [
            "enter the age18\n",
            "just eligible\n"
          ]
        }
      ],
      "source": [
        "a=int(input(\"enter the age\"))\n",
        "if a>18:\n",
        "    print(\"eligible for voting\")\n",
        "elif a==18:\n",
        "    print(\"just eligible\")\n",
        "else:\n",
        "       print(\"not eligigble\")\n"
      ]
    },
    {
      "cell_type": "code",
      "execution_count": null,
      "id": "6efa0053",
      "metadata": {
        "id": "6efa0053",
        "outputId": "8723a6a1-ee69-41d3-c195-7930fe776df7"
      },
      "outputs": [
        {
          "name": "stdout",
          "output_type": "stream",
          "text": [
            "enter the number2\n",
            "enter number two3\n",
            "enter the third number9\n",
            "c is max\n"
          ]
        }
      ],
      "source": [
        "a=int(input(\"enter the number\"));b=int(input(\"enter number two\"));c=int(input(\"enter the third number\"))\n",
        "if a>b and a>c:\n",
        "    print(\"a is max\")\n",
        "elif b>a and b>c :\n",
        "    print(\"b is max\")\n",
        "else :\n",
        "    print(\"c is max\")\n",
        "    "
      ]
    },
    {
      "cell_type": "code",
      "execution_count": null,
      "id": "99c26d37",
      "metadata": {
        "id": "99c26d37",
        "outputId": "72d8e63b-dc16-4cd5-ad0f-b3b1b7d2fdc0"
      },
      "outputs": [
        {
          "name": "stdout",
          "output_type": "stream",
          "text": [
            "enter the number2\n",
            "enter number two3\n",
            "enter the third number6\n",
            "enter the forth number9\n",
            "enter the five number4\n",
            "d is max\n"
          ]
        }
      ],
      "source": [
        "a=int(input(\"enter the number: \"));b=int(input(\"enter number two: \"));c=int(input(\"enter the third number\"));d=int(input(\"enter the forth number\"));e=int(input(\"enter the five number\"))\n",
        "if a>b and a>c and a>d and a>e:\n",
        "    print(\"a is max\")\n",
        "elif b>a and b>c and b>d and b>e:\n",
        "    print(\"b is max\")\n",
        "elif c>a and c>b and c>d and c>e:       \n",
        "    print(\"c is max\")\n",
        "elif d>a and d>b and d>c and d>e:       \n",
        "    print(\"d is max\")\n",
        "else:    \n",
        "    print(\"e is max\")"
      ]
    },
    {
      "cell_type": "code",
      "execution_count": null,
      "id": "9452a7ab",
      "metadata": {
        "id": "9452a7ab",
        "outputId": "67fe0363-a725-42b3-bfdc-e89ab8645608"
      },
      "outputs": [
        {
          "name": "stdout",
          "output_type": "stream",
          "text": [
            "enter the marks of subjects: 6\n",
            "enter the marks of subjects: : 3\n",
            "enter the marks of subjects: 3\n",
            "enter the marks of subjects: 3\n",
            "enter the marks of the subject3\n",
            "a is max\n"
          ]
        }
      ],
      "source": [
        "a=int(input(\"enter the marks of subjects: \"));b=int(input(\"enter the marks of subjects: : \"));c=int(input(\"enter the marks of subjects: \"));d=int(input(\"enter the marks of subjects: \"));e=int(input(\"enter the marks of the subject\"))\n",
        "if a>b and a>c and a>d and a>e:\n",
        "    print(\"a is max\")\n",
        "elif b>a and b>c and b>d and b>e:\n",
        "    print(\"b is max\")\n",
        "elif c>a and c>b and c>d and c>e:       \n",
        "    print(\"c is max\")\n",
        "elif d>a and d>b and d>c and d>e:       \n",
        "    print(\"d is max\")\n",
        "else:    \n",
        "    print(\"e is max\")"
      ]
    },
    {
      "cell_type": "code",
      "execution_count": null,
      "id": "7110a6c9",
      "metadata": {
        "id": "7110a6c9",
        "outputId": "185425f9-1505-4466-82a3-6a194c95b7ca"
      },
      "outputs": [
        {
          "name": "stdout",
          "output_type": "stream",
          "text": [
            "enter the number9\n",
            "enter the max number18\n",
            "9\n",
            "10\n",
            "11\n",
            "12\n",
            "13\n",
            "14\n",
            "15\n",
            "16\n",
            "17\n"
          ]
        }
      ],
      "source": [
        "a=int(input(\"enter the number\"));b=int(input(\"enter the max number\"))\n",
        "for i in range (a,b):\n",
        "    print (i)\n",
        "        "
      ]
    },
    {
      "cell_type": "code",
      "execution_count": null,
      "id": "3696a901",
      "metadata": {
        "id": "3696a901",
        "outputId": "413986f1-c4f7-4ba8-872d-9ba2abc1fd2d"
      },
      "outputs": [
        {
          "name": "stdout",
          "output_type": "stream",
          "text": [
            "enter the number2\n",
            "enter the max number100\n",
            "even number  2\n",
            "even number  4\n",
            "even number  6\n",
            "even number  8\n",
            "even number  10\n",
            "even number  12\n",
            "even number  14\n",
            "even number  16\n",
            "even number  18\n",
            "even number  20\n",
            "even number  22\n",
            "even number  24\n",
            "even number  26\n",
            "even number  28\n",
            "even number  30\n",
            "even number  32\n",
            "even number  34\n",
            "even number  36\n",
            "even number  38\n",
            "even number  40\n",
            "even number  42\n",
            "even number  44\n",
            "even number  46\n",
            "even number  48\n",
            "even number  50\n",
            "even number  52\n",
            "even number  54\n",
            "even number  56\n",
            "even number  58\n",
            "even number  60\n",
            "even number  62\n",
            "even number  64\n",
            "even number  66\n",
            "even number  68\n",
            "even number  70\n",
            "even number  72\n",
            "even number  74\n",
            "even number  76\n",
            "even number  78\n",
            "even number  80\n",
            "even number  82\n",
            "even number  84\n",
            "even number  86\n",
            "even number  88\n",
            "even number  90\n",
            "even number  92\n",
            "even number  94\n",
            "even number  96\n",
            "even number  98\n",
            "odd number  98\n"
          ]
        }
      ],
      "source": [
        "a=int(input(\"enter the number\"));b=int(input(\"enter the max number\"))\n",
        "for i in range (a,b):\n",
        "    if i%2==0:\n",
        "        print(\"even number \",i)\n",
        "else:\n",
        "    print (\"odd number \",i)\n",
        "        "
      ]
    },
    {
      "cell_type": "markdown",
      "id": "1171686a",
      "metadata": {
        "id": "1171686a"
      },
      "source": [
        "## Multi tables\n"
      ]
    },
    {
      "cell_type": "code",
      "execution_count": null,
      "id": "8d90960b",
      "metadata": {
        "id": "8d90960b",
        "outputId": "7d0f1432-cf11-439a-8912-d02ba0481bea"
      },
      "outputs": [
        {
          "name": "stdout",
          "output_type": "stream",
          "text": [
            "enter the number0\n",
            "enter the max number10\n",
            "even number  0\n",
            "even number  2\n",
            "even number  4\n",
            "even number  6\n",
            "even number  8\n",
            "odd number  0\n",
            "odd number  3\n",
            "odd number  6\n",
            "odd number  9\n"
          ]
        }
      ],
      "source": [
        "a=int(input(\"enter the number\"));b=int(input(\"enter the max number\"))\n",
        "for i in range (a,b,2):\n",
        "\n",
        "        print(\"even number \",i)\n",
        "for j in range (a,b,3):\n",
        "\n",
        "    print (\"odd number \",j)\n",
        "        "
      ]
    },
    {
      "cell_type": "code",
      "execution_count": null,
      "id": "99da0c52",
      "metadata": {
        "id": "99da0c52",
        "outputId": "3deafbcc-c770-4637-a781-8b504becc3d2"
      },
      "outputs": [
        {
          "name": "stdout",
          "output_type": "stream",
          "text": [
            "Enter the number to begin with 5\n",
            "enter the max number 9\n",
            "5\n",
            "6\n",
            "7\n",
            "8\n"
          ]
        }
      ],
      "source": [
        "a=int(input(\"Enter the number to begin with \"));b=int(input(\"enter the max number \"))\n",
        "for i in range (a,b):\n",
        "     print(i)"
      ]
    },
    {
      "cell_type": "markdown",
      "id": "e43379f7",
      "metadata": {
        "id": "e43379f7"
      },
      "source": [
        "## Module 2 programs in python\n",
        "\n",
        "\n"
      ]
    },
    {
      "cell_type": "code",
      "execution_count": null,
      "id": "82a1621f",
      "metadata": {
        "id": "82a1621f",
        "outputId": "52ba6c0b-19c3-4d75-82cb-82db1a5117f5"
      },
      "outputs": [
        {
          "name": "stdout",
          "output_type": "stream",
          "text": [
            "enter the max number 10\n",
            "enter the first number1\n",
            "55\n"
          ]
        }
      ],
      "source": [
        "a=int(input(\"enter the max number \"));b=int(input(\"enter the first number\"))\n",
        "sum=0\n",
        "while b<=a:\n",
        "    sum=sum+b\n",
        "    b=b+1\n",
        "print(sum)"
      ]
    },
    {
      "cell_type": "code",
      "execution_count": null,
      "id": "6f01d0ff",
      "metadata": {
        "id": "6f01d0ff",
        "outputId": "4381c811-565d-4550-ad9c-9ededa88afa9"
      },
      "outputs": [
        {
          "name": "stdout",
          "output_type": "stream",
          "text": [
            "enter the first side 5\n",
            "enter the second side5\n",
            "enter the third side5\n",
            "equalilater triangle\n"
          ]
        }
      ],
      "source": [
        "a=int(input(\"enter the first side \"));b=int(input(\"enter the second side\"));c=int(input(\"enter the third side\"))\n",
        "\n",
        "if a==b and a==c and c==a:\n",
        "    \n",
        "    print(\"equalilater triangle\")\n",
        "elif a==b or a==c or  c==a:\n",
        "    \n",
        "    print(\"isoscles trinagle \")\n",
        "else:\n",
        "    print(\"scalen triangle\")\n",
        "    "
      ]
    },
    {
      "cell_type": "code",
      "execution_count": null,
      "id": "f5ef7dbe",
      "metadata": {
        "id": "f5ef7dbe",
        "outputId": "99b9ddfb-b134-4024-9fd1-703e46fa71b3"
      },
      "outputs": [
        {
          "name": "stdout",
          "output_type": "stream",
          "text": [
            "enter the year 2022\n",
            "not a leap year\n"
          ]
        }
      ],
      "source": [
        "a=int(input(\"enter the year \"))\n",
        "\n",
        "if a%400==0:\n",
        "    print(\"it is a leap year\")\n",
        "elif a%100==0:\n",
        "    print(\"not a leap year \")\n",
        "elif a%4==0:\n",
        "    print(\"it is a leap year\")\n",
        "else:\n",
        "    print(\"not a leap year\")\n",
        "    "
      ]
    },
    {
      "cell_type": "code",
      "execution_count": null,
      "id": "9c5dd844",
      "metadata": {
        "id": "9c5dd844",
        "outputId": "3d7a3666-39e6-4aaf-9035-1eec52d64f6b"
      },
      "outputs": [
        {
          "name": "stdout",
          "output_type": "stream",
          "text": [
            "enter the number5\n",
            "enter number two2\n",
            "enter the third number1\n",
            "c is min\n"
          ]
        }
      ],
      "source": [
        "a=int(input(\"enter the number\"));b=int(input(\"enter number two\"));c=int(input(\"enter the third number\"))\n",
        "if a<b and a<c:\n",
        "    print(\"a is min\")\n",
        "elif b<a and b<c :\n",
        "    print(\"b is min\")\n",
        "else :\n",
        "    print(\"c is min\")\n",
        "    "
      ]
    },
    {
      "cell_type": "code",
      "execution_count": null,
      "id": "4372d056",
      "metadata": {
        "id": "4372d056",
        "outputId": "be7896cd-6071-4ad3-9bee-1144321ad45a"
      },
      "outputs": [
        {
          "name": "stdout",
          "output_type": "stream",
          "text": [
            "enter the  number55\n",
            "the number is divisible by both 5 and 11\n"
          ]
        }
      ],
      "source": [
        "a=int(input(\"enter the  number\"));\n",
        "if a%5==0 and a%11==0:\n",
        "    print(\"the number is divisible by both 5 and 11\")\n",
        "elif a%5==0:\n",
        "    print(\"The number is divisible by 5\")\n",
        "elif a%11==0 :\n",
        "    print(\"The number is divisible by 11\")\n",
        "else :\n",
        "    print(\"The number is not divisible by both\")\n",
        "     \n",
        " \n",
        "  \n"
      ]
    },
    {
      "cell_type": "code",
      "execution_count": null,
      "id": "3e9b2f5e",
      "metadata": {
        "id": "3e9b2f5e",
        "outputId": "07cf8cdc-a194-4ffe-fcf2-dc48336874db"
      },
      "outputs": [
        {
          "name": "stdout",
          "output_type": "stream",
          "text": [
            "enter the number to find factorial for 5\n",
            "120\n"
          ]
        }
      ],
      "source": [
        "a=int(input(\"enter the number to find factorial for \"))\n",
        "fact=1\n",
        "for i in range (1,a+1):\n",
        "    fact=fact*i\n",
        "print(fact)\n"
      ]
    },
    {
      "cell_type": "code",
      "execution_count": null,
      "id": "8a566016",
      "metadata": {
        "id": "8a566016",
        "outputId": "9998e7a5-9095-433d-cdc9-01f903235b66"
      },
      "outputs": [
        {
          "name": "stdout",
          "output_type": "stream",
          "text": [
            "enter the number you want to find palindrome for1212\n",
            "not a plaindrome\n"
          ]
        }
      ],
      "source": [
        "a=int(input(\"enter the number you want to find palindrome for\"))\n",
        "rev=0\n",
        "temp=a\n",
        "while temp>0:\n",
        "    rem=temp%10\n",
        "    rev=(rev*10)+rem\n",
        "    temp=temp//10\n",
        "if a==rev:\n",
        "    print(\"palindrome\")\n",
        "else:\n",
        "    print(\"not a plaindrome\")"
      ]
    },
    {
      "cell_type": "code",
      "execution_count": null,
      "id": "1942dc8f",
      "metadata": {
        "id": "1942dc8f",
        "outputId": "762c7d0f-8050-44db-a759-0df3a5e8ad47"
      },
      "outputs": [
        {
          "name": "stdout",
          "output_type": "stream",
          "text": [
            "enter number of terms u want to find plandrome for10\n",
            "0 1\n",
            "1\n",
            "2\n",
            "3\n",
            "5\n",
            "8\n",
            "13\n",
            "21\n",
            "34\n",
            "55\n",
            "completion of fibonanci\n"
          ]
        }
      ],
      "source": [
        "a=0;b=1;n=int(input(\"enter number of terms u want to find plandrome for\"))\n",
        "print(a,b)\n",
        "for i in range(1,n):\n",
        "    nextnum=a+b \n",
        "    print(nextnum)\n",
        "    a=b \n",
        "    b=nextnum\n",
        "    i=i+1\n",
        "print(\"completion of fibonanci\")"
      ]
    },
    {
      "cell_type": "markdown",
      "id": "4a1ac88e",
      "metadata": {
        "id": "4a1ac88e"
      },
      "source": [
        "## Lists\n"
      ]
    },
    {
      "cell_type": "code",
      "execution_count": null,
      "id": "4887ec54",
      "metadata": {
        "id": "4887ec54",
        "outputId": "373b4538-b115-4636-b281-4f430d0aadde"
      },
      "outputs": [
        {
          "name": "stdout",
          "output_type": "stream",
          "text": [
            "['apple ', 'cherry', 'melon', 'peach', 'berry']\n",
            "apple \n",
            "['apple ', 'cherry', 'melon']\n",
            "melon\n",
            "['apple ', 'cherry', 'melon', 'peach']\n",
            "['peach', 'berry']\n",
            "['cherry', 'melon', 'peach', 'berry']\n"
          ]
        }
      ],
      "source": [
        "fruits =[\"apple \",\"cherry\",\"melon\",\"peach\",\"berry\"]\n",
        "print(fruits)\n",
        "print(fruits[0])#it is used to print index\n",
        "print(fruits[0:3])#intial index and range is a given number \n",
        "print(fruits[-3])\n",
        "print(fruits[:4])#if the imdex is not given it act as zero\n",
        "print(fruits[3:5])\n",
        "print(fruits[1:])"
      ]
    },
    {
      "cell_type": "code",
      "execution_count": null,
      "id": "f309c1da",
      "metadata": {
        "id": "f309c1da",
        "outputId": "7791d90f-adb5-4357-948e-9598cbb969e8"
      },
      "outputs": [
        {
          "name": "stdout",
          "output_type": "stream",
          "text": [
            "['apple ', 'cherry', 'melon', 'peach', 'berry']\n",
            "5\n",
            "['apple ', 'cherry', 'melon', 'peach', 'berry', 'drangon fruit']\n"
          ]
        }
      ],
      "source": [
        "fruits =[\"apple \",\"cherry\",\"melon\",\"peach\",\"berry\"]\n",
        "print(fruits)\n",
        "print(len(fruits))\n",
        "fruits.append(\"drangon fruit\")# to add elements into list \n",
        "print(fruits)"
      ]
    },
    {
      "cell_type": "code",
      "execution_count": null,
      "id": "84376e8e",
      "metadata": {
        "id": "84376e8e",
        "outputId": "da82285f-130d-453f-a746-84660dfa400a"
      },
      "outputs": [
        {
          "name": "stdout",
          "output_type": "stream",
          "text": [
            "['apple ', 'cherry', 'melon', 'peach', 'berry']\n",
            "5\n",
            "['apple ', 'cherry', 'melon', 'drangon fruit', 'peach', 'berry']\n",
            "6\n"
          ]
        }
      ],
      "source": [
        "fruits =[\"apple \",\"cherry\",\"melon\",\"peach\",\"berry\"]\n",
        "print(fruits)\n",
        "print(len(fruits))\n",
        "fruits.insert(3,\"drangon fruit\")# to add elements with respective to index\n",
        "print(fruits)\n",
        "print(len(fruits))"
      ]
    },
    {
      "cell_type": "code",
      "execution_count": null,
      "id": "23d05705",
      "metadata": {
        "id": "23d05705",
        "outputId": "278ebf2e-580e-4f93-f6ba-ba33b74f1738"
      },
      "outputs": [
        {
          "name": "stdout",
          "output_type": "stream",
          "text": [
            "['apple ', 'cherry', 'melon', 'peach', 'berry', 'potato', 'onion']\n",
            "onion\n",
            "['apple ', 'melon', 'peach', 'berry', 'potato', 'onion']\n"
          ]
        }
      ],
      "source": [
        "fruits =[\"apple \",\"cherry\",\"melon\",\"peach\",\"berry\"]\n",
        "veggies=[\"potato\", \"onion\"]\n",
        "fruits.extend(veggies) # to add elemtns of the another list\n",
        "print(fruits)\n",
        "print(fruits[6])\n",
        "fruits.remove(\"cherry\")# to remove elements from the list\n",
        "print(fruits)"
      ]
    },
    {
      "cell_type": "code",
      "execution_count": null,
      "id": "cb2e29c8",
      "metadata": {
        "id": "cb2e29c8"
      },
      "outputs": [],
      "source": [
        "list = [\"apple\", \"banana\", \"cherry\"]\n",
        "list[2] = \"blackcurrant\"\n",
        "\n",
        "print(list)\n"
      ]
    },
    {
      "cell_type": "code",
      "execution_count": null,
      "id": "a487eb8d",
      "metadata": {
        "id": "a487eb8d",
        "outputId": "d9c2afcf-810a-4ec4-8e67-0b7766475f9d"
      },
      "outputs": [
        {
          "name": "stdout",
          "output_type": "stream",
          "text": [
            "['hp', 'dell', 'lenovo']\n",
            "enter the element name: ohhh\n",
            "['hp', 'dell', 'ohhh', 'lenovo', 'ugh']\n"
          ]
        }
      ],
      "source": [
        "k=[\"hp\",\"dell\",\"lenovo\"]\n",
        "print(k)\n",
        "a=input(\"enter the element name: \")\n",
        "k.insert(2,a)\n",
        "k.append(\"ugh\")\n",
        "print(k)"
      ]
    },
    {
      "cell_type": "code",
      "execution_count": null,
      "id": "77f0cba5",
      "metadata": {
        "id": "77f0cba5",
        "outputId": "fe5673f0-b4db-4e17-b880-8a052586df93"
      },
      "outputs": [
        {
          "name": "stdout",
          "output_type": "stream",
          "text": [
            "[1, 'kiran', True, 5j]\n",
            "[1, 2, 4, 5]\n",
            "[2, 3, 4]\n",
            "[True, 5j]\n",
            "[5j]\n",
            "[]\n"
          ]
        }
      ],
      "source": [
        "mix=[1,\"kiran\",bool(1),0+5j]\n",
        "k=[1,2,4,5]\n",
        "s=[2,3,4]\n",
        "print(mix)\n",
        "print(k)\n",
        "print(s)\n",
        "mix.pop(0)# pop is used to remove the element by the list\n",
        "mix.remove(\"kiran\")# remove to use to delete certain element\n",
        "print(mix)\n",
        "del mix[0] # del is used to delete the element in the list if the index is mentioned it delte the index value in the list \n",
        "print (mix)\n",
        "del k  # del without given index will delete whole list \n",
        "s.clear()\n",
        "print(s)\n",
        "\n",
        "\n"
      ]
    },
    {
      "cell_type": "code",
      "execution_count": null,
      "id": "e94a522f",
      "metadata": {
        "id": "e94a522f",
        "outputId": "d68648a5-f3a3-49b9-e327-3aa51f5f8d36"
      },
      "outputs": [
        {
          "name": "stdout",
          "output_type": "stream",
          "text": [
            "[1, 2, 3, 4, 5, 6, 7]\n",
            "[7, 6, 5, 4, 3, 2, 1]\n",
            "['a', 'i', 'k', 'n', 'r']\n",
            "['r', 'n', 'k', 'i', 'a']\n"
          ]
        }
      ],
      "source": [
        "num=[1,5,3,7,2,4,6]\n",
        "num.sort()#it sorts according to order\n",
        "print(num)\n",
        "num.sort(reverse=True) # reverse=True is used to reverse the list ie: descending order \n",
        "print(num)\n",
        "pp=[\"k\",\"i\",\"r\",\"a\",\"n\"]\n",
        "pp.sort()\n",
        "print(pp)\n",
        "pp.sort(reverse=True)#it also sort alph according to dictionary order\n",
        "print(pp)"
      ]
    },
    {
      "cell_type": "code",
      "execution_count": null,
      "id": "eeb0b1c2",
      "metadata": {
        "id": "eeb0b1c2",
        "outputId": "ed6a67e6-965d-4859-fbd7-31a11bb58267"
      },
      "outputs": [
        {
          "name": "stdout",
          "output_type": "stream",
          "text": [
            "('a', 'b', 'c')\n"
          ]
        }
      ],
      "source": [
        "t=(\"a\",\"b\",\"c\")# tuple doesn't allow addition of elements\n",
        "print(t)"
      ]
    },
    {
      "cell_type": "code",
      "execution_count": null,
      "id": "f144f6ba",
      "metadata": {
        "id": "f144f6ba",
        "outputId": "31fec70f-f941-4448-8313-60cc63573f16"
      },
      "outputs": [
        {
          "name": "stdout",
          "output_type": "stream",
          "text": [
            "2\n",
            "6\n"
          ]
        }
      ],
      "source": [
        "a=[1,2,3,6,7]\n",
        "for i in range (len(a)):\n",
        "    if a[i]%2==0:\n",
        "          print(a[i])"
      ]
    },
    {
      "cell_type": "code",
      "execution_count": null,
      "id": "c10ca0df",
      "metadata": {
        "id": "c10ca0df",
        "outputId": "f92befc5-da74-4c5c-bd1f-41dfeade6fae"
      },
      "outputs": [
        {
          "name": "stdout",
          "output_type": "stream",
          "text": [
            "enter the numbers: 10\n"
          ]
        },
        {
          "ename": "IndexError",
          "evalue": "list assignment index out of range",
          "output_type": "error",
          "traceback": [
            "\u001b[1;31m---------------------------------------------------------------------------\u001b[0m",
            "\u001b[1;31mIndexError\u001b[0m                                Traceback (most recent call last)",
            "\u001b[1;32m~\\AppData\\Local\\Temp/ipykernel_1828/1138880033.py\u001b[0m in \u001b[0;36m<module>\u001b[1;34m\u001b[0m\n\u001b[0;32m      1\u001b[0m \u001b[0ma\u001b[0m\u001b[1;33m=\u001b[0m\u001b[1;33m[\u001b[0m\u001b[1;33m]\u001b[0m\u001b[1;33m\u001b[0m\u001b[1;33m\u001b[0m\u001b[0m\n\u001b[0;32m      2\u001b[0m \u001b[1;32mfor\u001b[0m \u001b[0mi\u001b[0m \u001b[1;32min\u001b[0m \u001b[0mrange\u001b[0m\u001b[1;33m(\u001b[0m\u001b[1;36m1\u001b[0m\u001b[1;33m,\u001b[0m\u001b[0mn\u001b[0m\u001b[1;33m)\u001b[0m\u001b[1;33m:\u001b[0m\u001b[1;33m\u001b[0m\u001b[1;33m\u001b[0m\u001b[0m\n\u001b[1;32m----> 3\u001b[1;33m     \u001b[0ma\u001b[0m\u001b[1;33m[\u001b[0m\u001b[0mi\u001b[0m\u001b[1;33m]\u001b[0m\u001b[1;33m=\u001b[0m\u001b[0mint\u001b[0m\u001b[1;33m(\u001b[0m\u001b[0minput\u001b[0m\u001b[1;33m(\u001b[0m\u001b[1;34m\"enter the numbers: \"\u001b[0m\u001b[1;33m)\u001b[0m\u001b[1;33m)\u001b[0m\u001b[1;33m\u001b[0m\u001b[1;33m\u001b[0m\u001b[0m\n\u001b[0m\u001b[0;32m      4\u001b[0m     \u001b[1;32mwhile\u001b[0m \u001b[0mlen\u001b[0m\u001b[1;33m(\u001b[0m\u001b[0ma\u001b[0m\u001b[1;33m)\u001b[0m\u001b[1;33m<\u001b[0m\u001b[1;36m10\u001b[0m\u001b[1;33m:\u001b[0m\u001b[1;33m\u001b[0m\u001b[1;33m\u001b[0m\u001b[0m\n\u001b[0;32m      5\u001b[0m         \u001b[0mprint\u001b[0m\u001b[1;33m(\u001b[0m\u001b[0ma\u001b[0m\u001b[1;33m[\u001b[0m\u001b[0mi\u001b[0m\u001b[1;33m]\u001b[0m\u001b[1;33m)\u001b[0m\u001b[1;33m\u001b[0m\u001b[1;33m\u001b[0m\u001b[0m\n",
            "\u001b[1;31mIndexError\u001b[0m: list assignment index out of range"
          ]
        }
      ],
      "source": [
        "a=[]\n",
        "for i in range(1,n):\n",
        "    a[i]=int(input(\"enter the numbers: \"))\n",
        "    while len(a)<10:\n",
        "        print(a[i])\n",
        "        "
      ]
    },
    {
      "cell_type": "code",
      "execution_count": null,
      "id": "7cfaee5f",
      "metadata": {
        "id": "7cfaee5f",
        "outputId": "c09393e0-37ee-43ca-c688-7b36c483bd9a"
      },
      "outputs": [
        {
          "name": "stdout",
          "output_type": "stream",
          "text": [
            "enter the number4\n",
            "2.0\n"
          ]
        }
      ],
      "source": [
        "import math \n",
        "a=int(input(\"enter the number\"))\n",
        "b=math.sqrt(a)\n",
        "print(b)"
      ]
    },
    {
      "cell_type": "code",
      "execution_count": null,
      "id": "58727fd2",
      "metadata": {
        "id": "58727fd2",
        "outputId": "7a088d0a-3ebb-47f0-cb31-07d3e8f28a2f"
      },
      "outputs": [
        {
          "name": "stdout",
          "output_type": "stream",
          "text": [
            "5\n"
          ]
        }
      ],
      "source": [
        "a=int(5);b=int(3);c=int(2)\n",
        "if a>b and a>c:\n",
        "    print(5)\n",
        "elif b>c and b>a:\n",
        "    print(3)\n",
        "else:\n",
        "    print(2)\n",
        "        "
      ]
    },
    {
      "cell_type": "code",
      "execution_count": null,
      "id": "9a2417c4",
      "metadata": {
        "id": "9a2417c4",
        "outputId": "fb0e0559-b0f2-4e1c-848e-1ad4b64d6c14"
      },
      "outputs": [
        {
          "name": "stdout",
          "output_type": "stream",
          "text": [
            "Result = 3 2\n"
          ]
        }
      ],
      "source": [
        "a=int(2);b=int(3)\n",
        "temp=a\n",
        "a=b\n",
        "b=temp\n",
        "print(\"Result =\",a,b)\n"
      ]
    },
    {
      "cell_type": "code",
      "execution_count": null,
      "id": "92a5ab06",
      "metadata": {
        "id": "92a5ab06",
        "outputId": "c18a0807-3430-45e8-d16c-609d2ab30171"
      },
      "outputs": [
        {
          "name": "stdout",
          "output_type": "stream",
          "text": [
            "['Red', 'Orange', 'Yellow', 'Black', 'Green']\n"
          ]
        }
      ],
      "source": [
        "Rainbow=['Red','Orange','Yellow','Green']\n",
        "Rainbow.insert(3,'Black')\n",
        "print(Rainbow)"
      ]
    },
    {
      "cell_type": "code",
      "execution_count": null,
      "id": "6625644a",
      "metadata": {
        "id": "6625644a",
        "outputId": "6ccd58d3-1adc-4a68-c006-85b89d379b43"
      },
      "outputs": [
        {
          "name": "stdout",
          "output_type": "stream",
          "text": [
            "1\n",
            "2\n",
            "3\n",
            "7\n",
            "8\n"
          ]
        }
      ],
      "source": [
        "a=[1,7,3,8,2]\n",
        "a.sort()\n",
        "for x in a:\n",
        "    print(x)"
      ]
    },
    {
      "cell_type": "code",
      "execution_count": null,
      "id": "f443215d",
      "metadata": {
        "id": "f443215d",
        "outputId": "85159558-1d09-4f16-fbaf-567229ad406c"
      },
      "outputs": [
        {
          "name": "stdout",
          "output_type": "stream",
          "text": [
            "['123a500', '5a9874']\n"
          ]
        }
      ],
      "source": [
        "list = [\"123a500\", \"0b02222\", \"5a9874\", \"7c8924\", \"8d79654\"]\n",
        "newlist = []\n",
        "\n",
        "for x in list:\n",
        "    if \"a\" in x:\n",
        "        newlist.append(x)\n",
        "\n",
        "print(newlist)\n"
      ]
    },
    {
      "cell_type": "markdown",
      "id": "5b91e735",
      "metadata": {
        "id": "5b91e735"
      },
      "source": [
        "# STRING"
      ]
    },
    {
      "cell_type": "code",
      "execution_count": null,
      "id": "0dc6db04",
      "metadata": {
        "id": "0dc6db04",
        "outputId": "dd263624-916a-465d-beca-397aa1d7344b"
      },
      "outputs": [
        {
          "name": "stdout",
          "output_type": "stream",
          "text": [
            "kiran\n",
            "i\n",
            "o\n",
            "5\n"
          ]
        }
      ],
      "source": [
        "a=\"kiran\"\n",
        "print(a)\n",
        "print(a[1])\n",
        "b=\"hello\"\n",
        "print(b[4])\n",
        "print(len(b))"
      ]
    },
    {
      "cell_type": "code",
      "execution_count": null,
      "id": "d6f4b0cf",
      "metadata": {
        "id": "d6f4b0cf",
        "outputId": "7154bff7-7a5e-48d5-abba-ef1ccb75656d"
      },
      "outputs": [
        {
          "name": "stdout",
          "output_type": "stream",
          "text": [
            "True\n",
            "False\n",
            "False\n"
          ]
        }
      ],
      "source": [
        "a=\"hello retard your life is miserable if you're reading this\"\n",
        "print(\"this\" in a)\n",
        "print(\"xz\" in a)\n",
        "print(\"hello\" not in a)"
      ]
    },
    {
      "cell_type": "markdown",
      "id": "df8766c6",
      "metadata": {
        "id": "df8766c6"
      },
      "source": [
        "## slicing"
      ]
    },
    {
      "cell_type": "code",
      "execution_count": null,
      "id": "4443adcb",
      "metadata": {
        "id": "4443adcb",
        "outputId": "791a9b64-dd68-4891-e817-e1e3b49e3fd2"
      },
      "outputs": [
        {
          "name": "stdout",
          "output_type": "stream",
          "text": [
            "el\n"
          ]
        }
      ],
      "source": [
        "a=\"hello retard your life is miserable if you're reading this\"\n",
        "print(a[1:3])"
      ]
    },
    {
      "cell_type": "markdown",
      "id": "4fe23377",
      "metadata": {
        "id": "4fe23377"
      },
      "source": [
        "## modifing string"
      ]
    },
    {
      "cell_type": "code",
      "execution_count": null,
      "id": "a463bf5f",
      "metadata": {
        "id": "a463bf5f",
        "outputId": "839ae6d6-b3d7-4a6b-f319-546197455ee6"
      },
      "outputs": [
        {
          "name": "stdout",
          "output_type": "stream",
          "text": [
            "HELLO RETARD YOUR LIFE IS MISERABLE IF YOU'RE READING THIS\n",
            "retard\n"
          ]
        }
      ],
      "source": [
        "a=\"hello retard your life is miserable if you're reading this\"\n",
        "print(a.upper())\n",
        "b=\"RETARD\"\n",
        "print(b.lower())"
      ]
    },
    {
      "cell_type": "code",
      "execution_count": null,
      "id": "d8d27a44",
      "metadata": {
        "id": "d8d27a44",
        "outputId": "77c29b8b-5a98-43f7-a929-29287606d301"
      },
      "outputs": [
        {
          "name": "stdout",
          "output_type": "stream",
          "text": [
            "your life is miserable\n"
          ]
        }
      ],
      "source": [
        "a=\"    your life is miserable\"\n",
        "print(a.strip())## removes the space at starting"
      ]
    },
    {
      "cell_type": "code",
      "execution_count": null,
      "id": "a291ca85",
      "metadata": {
        "id": "a291ca85",
        "outputId": "15f2ac08-2ef7-43b5-d512-0f4ae2729804"
      },
      "outputs": [
        {
          "name": "stdout",
          "output_type": "stream",
          "text": [
            "your life is miserable\n"
          ]
        }
      ],
      "source": [
        "a=\"your life is Life\"\n",
        "print(a.replace(\"Life\",\"miserable\"))## replace the variable we want to change"
      ]
    },
    {
      "cell_type": "code",
      "execution_count": null,
      "id": "7a25b5f9",
      "metadata": {
        "id": "7a25b5f9",
        "outputId": "82882d17-6214-454b-9d99-fdbe455d1add"
      },
      "outputs": [
        {
          "name": "stdout",
          "output_type": "stream",
          "text": [
            "['your', 'life', 'is', 'miserable']\n"
          ]
        }
      ],
      "source": [
        "a=\" your life is miserable\"\n",
        "print(a.split())## splits the elements"
      ]
    },
    {
      "cell_type": "code",
      "execution_count": null,
      "id": "bf74b8c6",
      "metadata": {
        "id": "bf74b8c6",
        "outputId": "2318feac-6a87-4f7d-e748-2108092f2316"
      },
      "outputs": [
        {
          "name": "stdout",
          "output_type": "stream",
          "text": [
            "yourlifeismiserable\n",
            "your life is miserable\n"
          ]
        }
      ],
      "source": [
        "a=\"your\"\n",
        "b=\"life\"\n",
        "c=\"is\"\n",
        "d=\"miserable\"\n",
        "k=a+b+c+d\n",
        "m=a+\" \"+b+\" \"+c+\" \"+d\n",
        "print(k)\n",
        "print(m)\n"
      ]
    },
    {
      "cell_type": "code",
      "execution_count": null,
      "id": "51446621",
      "metadata": {
        "id": "51446621",
        "outputId": "71285d29-ad13-40e7-c891-1e4a410a1b3d"
      },
      "outputs": [
        {
          "name": "stdout",
          "output_type": "stream",
          "text": [
            "your life is miserable, and you'll die at 21\n"
          ]
        }
      ],
      "source": [
        "age=21\n",
        "txt=\"your life is miserable, and you'll die at {}\"\n",
        "print(txt.format(age))## the format is used to convert integers"
      ]
    },
    {
      "cell_type": "code",
      "execution_count": null,
      "id": "61bab29d",
      "metadata": {
        "id": "61bab29d",
        "outputId": "c29571ef-157a-4eba-ac32-e7120e7cabd8"
      },
      "outputs": [
        {
          "name": "stdout",
          "output_type": "stream",
          "text": [
            "your life is miserable you get paid 1000kk, and you'll die at 21\n"
          ]
        }
      ],
      "source": [
        "age=21\n",
        "earn=\"1000k\"\n",
        "txt=\"your life is miserable you get paid {1}, and you'll die at {0}\"\n",
        "print(txt.format(age,earn))"
      ]
    },
    {
      "cell_type": "code",
      "execution_count": null,
      "id": "7c246589",
      "metadata": {
        "id": "7c246589",
        "outputId": "3b198841-0e40-4fac-8caa-7b0bf9b49011"
      },
      "outputs": [
        {
          "name": "stdout",
          "output_type": "stream",
          "text": [
            "your life is \"miserable\" retard\n",
            "you're a retard\n"
          ]
        }
      ],
      "source": [
        "txt=\"your life is \\\"miserable\\\" retard\"\n",
        "a='you\\'re a retard'\n",
        "b=\n",
        "print(txt)##\\txt\\ is used to seperate\n",
        "print(a)"
      ]
    },
    {
      "cell_type": "code",
      "execution_count": null,
      "id": "dbe95023",
      "metadata": {
        "id": "dbe95023",
        "outputId": "dde90188-2a0f-4744-f120-a5753ab27be3"
      },
      "outputs": [
        {
          "name": "stdout",
          "output_type": "stream",
          "text": [
            "your life is  \btrash\n",
            "your life is\n",
            "trash\n",
            "your life is\ttrash\n"
          ]
        }
      ],
      "source": [
        "a=\"your life is  \\btrash\"\n",
        "b=\"your life is\\ntrash\"\n",
        "c=\"your life is\\ttrash\"\n",
        "print(a)\n",
        "print(b)\n",
        "print(c)"
      ]
    },
    {
      "cell_type": "code",
      "execution_count": null,
      "id": "50f4a2de",
      "metadata": {
        "id": "50f4a2de"
      },
      "outputs": [],
      "source": [
        "a=\"retard\"\n",
        "b=\"Retard\"\n",
        "c=\"retard is a retard you retard\"\n",
        "print(a.capitalize())\n",
        "print(b.casefold())\n",
        "print(b.center(10))\n",
        "print(c.count(\"retard\"))\n",
        "print(c.endswith(\"retard\"))\n",
        "print(c.)\n"
      ]
    },
    {
      "cell_type": "markdown",
      "id": "4752c658",
      "metadata": {
        "id": "4752c658"
      },
      "source": [
        "1.)cd (filename)/\n",
        "   ls               # it shows complete projects in projects\n",
        "2.)cd foldername/   # it goes to the coressponding\n",
        "   ls               # it shows the list of files inside the folder \n",
        "3.)cat filename.py\n",
        "   go to console and click run\n",
        "   \n",
        "   \n",
        "* when your doing programs in txt files save the format with .txt\n",
        "* echo \"kiran\" >filename.txt\n",
        "* cat filename.txt\n"
      ]
    },
    {
      "cell_type": "markdown",
      "id": "398c3fd2",
      "metadata": {
        "id": "398c3fd2"
      },
      "source": [
        "## module-1\n"
      ]
    },
    {
      "cell_type": "code",
      "execution_count": null,
      "id": "a52f83af",
      "metadata": {
        "id": "a52f83af",
        "outputId": "f477af48-23fd-4d27-9cf7-685737c26f1b"
      },
      "outputs": [
        {
          "name": "stdout",
          "output_type": "stream",
          "text": [
            "Enter something : oooooo\n",
            "You entered oooooo\n"
          ]
        }
      ],
      "source": [
        "variable = input('Enter something : ')\n",
        "print('You entered '+variable)"
      ]
    },
    {
      "cell_type": "code",
      "execution_count": null,
      "id": "1a5f516e",
      "metadata": {
        "id": "1a5f516e",
        "outputId": "d41b3743-ad9e-487c-a158-44ace901e10e"
      },
      "outputs": [
        {
          "name": "stdout",
          "output_type": "stream",
          "text": [
            "Enter an integer : 555\n",
            "Type of the variable taken is  <class 'int'>\n",
            "You entered 555\n",
            "You entered 555\n",
            "You entered 555\n"
          ]
        }
      ],
      "source": [
        "variable = int(input(\"Enter an integer : \")) #int to make sure that we are getting integer input.\n",
        "print('Type of the variable taken is ',type(variable))\n",
        "print('You entered '+str(variable)) # Here we are changing variable back into str to add with string.\n",
        "print(f'You entered {variable}') # formatted string\n",
        "print('You entered',variable)\n",
        "#If we enter value of any other datatype,ValueError occurs."
      ]
    },
    {
      "cell_type": "code",
      "execution_count": null,
      "id": "693e7d00",
      "metadata": {
        "id": "693e7d00",
        "outputId": "19f9aa4c-2528-429d-bf15-f52ff408a90e"
      },
      "outputs": [
        {
          "name": "stdout",
          "output_type": "stream",
          "text": [
            "Number: 1234\n",
            "String: string\n",
            "Float: 12.34\n",
            "Boolean: True\n",
            "Complex: (1-4j)\n",
            "Float (again) : 1e+101\n"
          ]
        }
      ],
      "source": [
        "a1 = 1234\n",
        "a2 = 'string'\n",
        "a3 = 12.34\n",
        "a4 = True\n",
        "a5 = -4j+1\n",
        "a6 = 10e100  #type is float\n",
        "print('Number: {}\\nString: {}\\nFloat: {}\\nBoolean: {}\\nComplex: {}\\nFloat (again) : {}'.format(a1,a2,a3,a4,a5,a6))"
      ]
    },
    {
      "cell_type": "code",
      "execution_count": null,
      "id": "b10c7c02",
      "metadata": {
        "id": "b10c7c02",
        "outputId": "8d321272-79e5-4729-a6ac-d9e794d60625"
      },
      "outputs": [
        {
          "name": "stdout",
          "output_type": "stream",
          "text": [
            "enter the number you want to find palindrome for555444441122\n",
            "not a plaindrome\n"
          ]
        }
      ],
      "source": [
        "a=int(input(\"enter the number you want to find palindrome for\"))\n",
        "rev=0\n",
        "temp=a\n",
        "while temp>0:\n",
        "    rem=temp%10\n",
        "    rev=(rev*10)+rem\n",
        "    temp=temp//10\n",
        "if a==rev:\n",
        "    print(\"palindrome\")\n",
        "else:\n",
        "    print(\"not a plaindrome\")"
      ]
    },
    {
      "cell_type": "code",
      "execution_count": null,
      "id": "cdb3fe3e",
      "metadata": {
        "id": "cdb3fe3e",
        "outputId": "087b23c6-1254-46c7-cc78-a0eeac8d8240"
      },
      "outputs": [
        {
          "name": "stdout",
          "output_type": "stream",
          "text": [
            "enter the number145\n",
            "145\n",
            "yes it is strong number\n"
          ]
        }
      ],
      "source": [
        "#strong number\n",
        "a=int(input(\"enter the number\"))\n",
        "sum=0\n",
        "temp=a\n",
        "while temp>0:\n",
        "    fact=1\n",
        "    i=1\n",
        "    rem=temp%10\n",
        "    while i<=rem: \n",
        "        fact=fact*i\n",
        "        i=i+1\n",
        "    sum=sum+fact \n",
        "    temp=temp//10\n",
        "print(sum)\n",
        "if a==sum:\n",
        "    print(\"yes it is strong number\")\n",
        "else:\n",
        "    print(\"no\")"
      ]
    },
    {
      "cell_type": "code",
      "execution_count": null,
      "id": "5bc37993",
      "metadata": {
        "id": "5bc37993",
        "outputId": "a6e38e13-f6cf-4412-ff5a-400e1ed206f0"
      },
      "outputs": [
        {
          "name": "stdout",
          "output_type": "stream",
          "text": [
            "enter the number6\n",
            "perfect number\n"
          ]
        }
      ],
      "source": [
        "a=int(input(\"enter the number\"))\n",
        "sum=0\n",
        "for i in range (1,a):\n",
        "    if a%i==0:\n",
        "        sum=sum+i\n",
        "if sum==a:\n",
        "        print(\"perfect number\")\n",
        "else:\n",
        "        print(\"not a perfect number\")"
      ]
    },
    {
      "cell_type": "code",
      "execution_count": null,
      "id": "fe55d0dc",
      "metadata": {
        "id": "fe55d0dc",
        "outputId": "328ab48a-7f7e-416d-d3ca-0a96cf91057e"
      },
      "outputs": [
        {
          "name": "stdout",
          "output_type": "stream",
          "text": [
            "enter the number1\n"
          ]
        }
      ],
      "source": [
        "a=int(input(\"enter the number\"))\n",
        "#importing math module\n",
        "import math"
      ]
    },
    {
      "cell_type": "code",
      "execution_count": null,
      "id": "1877aabb",
      "metadata": {
        "id": "1877aabb",
        "outputId": "18e1bb03-8050-4ee5-b2d2-0cca2197214e"
      },
      "outputs": [
        {
          "name": "stdout",
          "output_type": "stream",
          "text": [
            "enter the number4\n",
            "124\n",
            "123\n",
            "81.0\n",
            "9.0\n",
            "5.66\n",
            "1.0\n",
            "2\n",
            "-99\n"
          ]
        }
      ],
      "source": [
        "a=int(input(\"enter the number\"))\n",
        "#importing math module\n",
        "import math\n",
        "#using math.ceil\n",
        "sample_num=123.456\n",
        "print(math.ceil(sample_num))\n",
        "#using math.floor\n",
        "sample_num=123.456\n",
        "print (math.floor(sample_num))\n",
        "#using math.pow\n",
        "print(math.pow(9,2))\n",
        "#using math.sqrt\n",
        "print (math.sqrt(81))\n",
        "print (math.fabs(5.66))\n",
        "print (math.fmod(10,3))\n",
        "print(math.trunc(2.77))\n",
        "print(math.trunc(-99.29))\n",
        "\n"
      ]
    },
    {
      "cell_type": "code",
      "execution_count": null,
      "id": "8b34d53d",
      "metadata": {
        "id": "8b34d53d",
        "outputId": "e8996a8a-911b-4704-ae00-0811e4fb6f5c"
      },
      "outputs": [
        {
          "name": "stdout",
          "output_type": "stream",
          "text": [
            "enter the principal amount6000\n",
            "enter the intrest amount13\n",
            "amount of years3\n",
            "1 yr interst si is  780\n",
            "1 yr interst ci is  6779.999999999999\n",
            "2 yr interst si is  1560\n",
            "2 yr interst ci is  7661.399999999998\n",
            "3 yr interst si is  2340\n",
            "3 yr interst ci is  8657.381999999998\n",
            "4 yr interst si is  3120\n",
            "4 yr interst ci is  9782.841659999996\n",
            "5 yr interst si is  3900\n",
            "5 yr interst ci is  11054.611075799994\n",
            "6 yr interst si is  4680\n",
            "6 yr interst ci is  12491.710515653993\n",
            "7 yr interst si is  5460\n",
            "7 yr interst ci is  14115.632882689011\n"
          ]
        }
      ],
      "source": [
        "p=int(input(\"enter the principal amount\"))\n",
        "r=int(input(\"enter the intrest amount\"))\n",
        "t=int(input(\"amount of years\"))\n",
        "for i in range(1,t+1):\n",
        "    si=(p*i*r)//100\n",
        "    print(i,\"yr interst si is \",si)\n",
        "    ci=p*(math.pow(1+r/100,i))\n",
        "    print(i,\"yr interst ci is \",ci)"
      ]
    },
    {
      "cell_type": "markdown",
      "id": "719ffd01",
      "metadata": {
        "id": "719ffd01"
      },
      "source": [
        "# TUPLE\n"
      ]
    },
    {
      "cell_type": "code",
      "execution_count": null,
      "id": "7930c4f3",
      "metadata": {
        "id": "7930c4f3",
        "outputId": "6eaecef3-3b2e-4d03-a9c1-6aabb08b0059"
      },
      "outputs": [
        {
          "name": "stdout",
          "output_type": "stream",
          "text": [
            "['hello', 'dead', 'bye', 'apple']\n"
          ]
        }
      ],
      "source": [
        "a=(\"hi\",\"hello\",\"apple\")\n",
        "b=list(a)\n",
        "b.append(\"bye\")\n",
        "b.insert(1,\"dead\")\n",
        "b.remove(\"hi\")\n",
        "b.sort(reverse=True)\n",
        "print(b)"
      ]
    },
    {
      "cell_type": "code",
      "execution_count": null,
      "id": "833b711e",
      "metadata": {
        "id": "833b711e",
        "outputId": "ce7d10f5-b27d-4bc9-bb65-a62f94a6a41d"
      },
      "outputs": [
        {
          "name": "stdout",
          "output_type": "stream",
          "text": [
            "('apple',)\n",
            "('apple', 'die')\n"
          ]
        }
      ],
      "source": [
        "a=(\"apple\",)## used to create a tuple variable\n",
        "print(a)\n",
        "b=(\"die\",)\n",
        "c=a+b\n",
        "print(c)"
      ]
    },
    {
      "cell_type": "code",
      "execution_count": null,
      "id": "4ae99327",
      "metadata": {
        "id": "4ae99327",
        "outputId": "ff0661b8-a274-4687-b51b-566d0ffdcefa"
      },
      "outputs": [
        {
          "name": "stdout",
          "output_type": "stream",
          "text": [
            "die hi bye\n"
          ]
        }
      ],
      "source": [
        "a=(\"hi\",\"bye\",\"die\")\n",
        "(wolf,fox,deer)=a\n",
        "print(deer,wolf,fox)"
      ]
    },
    {
      "cell_type": "code",
      "execution_count": null,
      "id": "f0bb8673",
      "metadata": {
        "id": "f0bb8673",
        "outputId": "e927a0a8-784d-4155-e6b8-213066298e2c"
      },
      "outputs": [
        {
          "name": "stdout",
          "output_type": "stream",
          "text": [
            "hi\n",
            "bye die\n",
            "hell\n"
          ]
        }
      ],
      "source": [
        "a=(\"hi\",\"bye\",\"die\",\"hell\")\n",
        "(jin,*skkkk,kikk)=a\n",
        "print(jin)\n",
        "print(*skkkk)\n",
        "print(kikk)\n"
      ]
    },
    {
      "cell_type": "code",
      "execution_count": null,
      "id": "d0d9f7a1",
      "metadata": {
        "id": "d0d9f7a1",
        "outputId": "996dd4c2-f5f4-45e5-88e7-cb3eb77d71d5"
      },
      "outputs": [
        {
          "name": "stdout",
          "output_type": "stream",
          "text": [
            "1=\"addition\",2=\"subtraction\",3=\"multiplication\",4=\"division\"\n",
            "enter any number upto 44\n",
            "0.6666666666666666\n"
          ]
        }
      ],
      "source": [
        "a=2\n",
        "b=3\n",
        "print('1=\"addition\",2=\"subtraction\",3=\"multiplication\",4=\"division\"')\n",
        "c=int(input(\"enter any number upto 4\"))\n",
        "if c==1:\n",
        "     print(a+b)\n",
        "elif c==2:\n",
        "    print(a-b)\n",
        "elif c==3:\n",
        "    print(a*b)\n",
        "elif c==4:\n",
        "    print(a/b)\n",
        "else:\n",
        "    print(invalid)"
      ]
    },
    {
      "cell_type": "code",
      "execution_count": null,
      "id": "c8af8af7",
      "metadata": {
        "id": "c8af8af7",
        "outputId": "6d316800-1990-42a2-afd1-644dfb60bbab"
      },
      "outputs": [
        {
          "name": "stdout",
          "output_type": "stream",
          "text": [
            "Enter 1st number: 15\n",
            "Enter 2nd number: 5\n",
            "GCD is 10\n"
          ]
        }
      ],
      "source": [
        "#Compute GCD of two given numbers.\n",
        "num1 = int(input(\"Enter 1st number: \"))\n",
        "num2 = int(input(\"Enter 2nd number: \"))\n",
        "gcd=i\n",
        "while (i <= num1 and i <= num2):\n",
        "  if(num1 % i == 0 and num2 % i == 0):\n",
        "   \n",
        "   i=i + 1\n",
        "print(\"GCD is\",gcd)\n"
      ]
    },
    {
      "cell_type": "markdown",
      "id": "624e843f",
      "metadata": {
        "id": "624e843f"
      },
      "source": [
        "# sets\n"
      ]
    },
    {
      "cell_type": "code",
      "execution_count": null,
      "id": "cc065551",
      "metadata": {
        "id": "cc065551",
        "outputId": "44236b85-5bf2-48d1-b678-7165be6e8661"
      },
      "outputs": [
        {
          "name": "stdout",
          "output_type": "stream",
          "text": [
            "{1, 2, 3, 4, 5}\n"
          ]
        }
      ],
      "source": [
        "a={1,2,3,4,4,4,3,3,5}##duplicates are not allowed in sets\n",
        "print(a)"
      ]
    },
    {
      "cell_type": "code",
      "execution_count": null,
      "id": "c947f8e8",
      "metadata": {
        "id": "c947f8e8",
        "outputId": "73b4c4b6-de99-4388-d6f5-a67cd56f5f7e"
      },
      "outputs": [
        {
          "name": "stdout",
          "output_type": "stream",
          "text": [
            "<class 'set'> 6\n"
          ]
        }
      ],
      "source": [
        "a={1,2,3,4,4,4,5,5,5,6}\n",
        "print(type(a),len(a))"
      ]
    },
    {
      "cell_type": "code",
      "execution_count": null,
      "id": "cba98440",
      "metadata": {
        "id": "cba98440",
        "outputId": "f1906a73-e0a8-4f44-d057-bd7ac3f82f3c"
      },
      "outputs": [
        {
          "name": "stdout",
          "output_type": "stream",
          "text": [
            "1\n",
            "2\n",
            "3\n",
            "4\n",
            "5\n"
          ]
        }
      ],
      "source": [
        "a={1,2,3,4,5,5,5}\n",
        "for x in a:\n",
        "    print(x)"
      ]
    },
    {
      "cell_type": "code",
      "execution_count": null,
      "id": "2728d46c",
      "metadata": {
        "id": "2728d46c",
        "outputId": "9aaad968-1dd8-4880-aa5e-ed4e0632fbf1"
      },
      "outputs": [
        {
          "name": "stdout",
          "output_type": "stream",
          "text": [
            "{1, 2, 3, 4, 5, 99}\n"
          ]
        }
      ],
      "source": [
        "a={1,2,3,4,5,5,5}\n",
        "a.add(99)### used for addition of elements\n",
        "print(a)"
      ]
    },
    {
      "cell_type": "code",
      "execution_count": null,
      "id": "8f028cee",
      "metadata": {
        "id": "8f028cee",
        "outputId": "79966d7d-90a3-4efd-9e03-066c50a2a353"
      },
      "outputs": [
        {
          "name": "stdout",
          "output_type": "stream",
          "text": [
            "{'a', 'number', 'wrong', 'thats', 'sike'}\n"
          ]
        }
      ],
      "source": [
        "a={\"sike\",\"thats\"}\n",
        "b={\"a\",\"wrong\"}\n",
        "c={\"number\"}\n",
        "a.update(b)## update is udes to join the lists\n",
        "a.update(c)\n",
        "print(a)"
      ]
    },
    {
      "cell_type": "code",
      "execution_count": null,
      "id": "78ff765a",
      "metadata": {
        "id": "78ff765a",
        "outputId": "42fd5afb-7033-4f06-af4c-f2a817786013"
      },
      "outputs": [
        {
          "name": "stdout",
          "output_type": "stream",
          "text": [
            "{1, 2, 3, 4, 5}\n",
            "1\n",
            "set()\n"
          ]
        }
      ],
      "source": [
        "a={1,2,3,4,5,6,6,6}\n",
        "a.remove(6)### remove will raise error if its not present\n",
        "a.discard(7)### discard will not rasie a error if its not present\n",
        "print(a)\n",
        "b=a.pop()### this removes element and stores in b\n",
        "print(b)\n",
        "a.clear()###this clear the set\n",
        "print(a)\n",
        "del a### this deleted the set \n"
      ]
    },
    {
      "cell_type": "code",
      "execution_count": null,
      "id": "40094f8a",
      "metadata": {
        "id": "40094f8a",
        "outputId": "101eeb44-5e04-4435-8427-8d6a42b7e483"
      },
      "outputs": [
        {
          "name": "stdout",
          "output_type": "stream",
          "text": [
            "{1, 2, 3, 4, 5, 6, 'b', 'd', 'a', 'c'}\n",
            "{1, 2, 3, 4, 5}\n"
          ]
        }
      ],
      "source": [
        "a={1,2,3,4,5,5,5,5,5,5,5,5,5,5,5,5,5,5,5,5,5,5,5,5,5,5,5,5}\n",
        "b={\"a\",\"b\",\"c\",\"d\",1,6}\n",
        "c=a.union(b)### combines all the elements\n",
        "print(c)\n",
        "a.intersection(b) ### only shows the common element\n",
        "print(a)"
      ]
    },
    {
      "cell_type": "code",
      "execution_count": null,
      "id": "04976203",
      "metadata": {
        "id": "04976203",
        "outputId": "d34685c0-243b-4255-99bc-b501c2f6cf3d"
      },
      "outputs": [
        {
          "name": "stdout",
          "output_type": "stream",
          "text": [
            "{1, 2, 3, 4}\n"
          ]
        }
      ],
      "source": [
        "a={1,2,3,4,4,4,4,4,4,4,4}\n",
        "b=a.copy() ### copys the elemens of the set\n",
        "print(b)"
      ]
    },
    {
      "cell_type": "code",
      "execution_count": null,
      "id": "be1c0cc7",
      "metadata": {
        "id": "be1c0cc7",
        "outputId": "ccc2faba-cd96-4685-d358-703078e00f33"
      },
      "outputs": [
        {
          "name": "stdout",
          "output_type": "stream",
          "text": [
            "False\n",
            "False\n",
            "False\n"
          ]
        }
      ],
      "source": [
        "a={1,2,3,4,5,5,5,5,6,6,6,6}\n",
        "b={1,3,6,8,9}\n",
        "print(a.isdisjoint(b))\n",
        "print(b.issubset(a))\n",
        "print(a.issuperset(b))"
      ]
    },
    {
      "cell_type": "code",
      "execution_count": null,
      "id": "561ec00f",
      "metadata": {
        "id": "561ec00f",
        "outputId": "d1050f29-1dfb-4454-823b-aeecf82670ed"
      },
      "outputs": [
        {
          "name": "stdout",
          "output_type": "stream",
          "text": [
            "{'ooooo', 'bye', 'f', 'skkskks'}\n"
          ]
        }
      ],
      "source": [
        "a= {\"hi\", \"skkskks\", \"ooooo\"}\n",
        "b = {\"bye\",\"f\", \"hi\"}\n",
        "\n",
        "c = a.symmetric_difference(b) \n",
        "\n",
        "print(c)\n"
      ]
    },
    {
      "cell_type": "markdown",
      "id": "a9f5e695",
      "metadata": {
        "id": "a9f5e695"
      },
      "source": [
        "# Dictionary"
      ]
    },
    {
      "cell_type": "code",
      "execution_count": null,
      "id": "7914c9a0",
      "metadata": {
        "id": "7914c9a0",
        "outputId": "8faa2055-7f64-4200-afb7-77b1b2e0a5b5"
      },
      "outputs": [
        {
          "name": "stdout",
          "output_type": "stream",
          "text": [
            "{'team': 'mercedes amg ', 'model': 'w13', 'electric': False, 'year': 2022}\n",
            "<class 'dict'>\n"
          ]
        }
      ],
      "source": [
        "a ={\n",
        "  \"team\": \"mercedes amg \", ###format for buliding the sets\n",
        "  \"model\": \"w13\",\n",
        "  \"electric\": False,\n",
        "  \"year\": 2022\n",
        "}\n",
        "print(a)\n",
        "print(type(a))\n"
      ]
    },
    {
      "cell_type": "code",
      "execution_count": null,
      "id": "290f816c",
      "metadata": {
        "id": "290f816c",
        "outputId": "b3177852-0e48-48a1-d897-a9975fd4ef27"
      },
      "outputs": [
        {
          "name": "stdout",
          "output_type": "stream",
          "text": [
            "mercedes amg \n",
            "w13\n",
            "3\n"
          ]
        }
      ],
      "source": [
        "a={\n",
        "  \"team\": \"mercedes amg \", ###format for buliding the sets\n",
        "  \"model\": \"w13\",\n",
        "  \"year\": 2022\n",
        "}\n",
        "print(a[\"team\"])\n",
        "print(a[\"model\"])\n",
        "print(len(a))  ### shows the len of the dic"
      ]
    },
    {
      "cell_type": "code",
      "execution_count": null,
      "id": "b5187ee7",
      "metadata": {
        "id": "b5187ee7",
        "outputId": "15f7febd-ccd4-4a75-c4bb-fab79239e390"
      },
      "outputs": [
        {
          "name": "stdout",
          "output_type": "stream",
          "text": [
            "mercedes amg  w13\n"
          ]
        }
      ],
      "source": [
        "a={\n",
        "  \"team\": \"mercedes amg \", ###format for buliding the sets\n",
        "  \"model\": \"w13\",\n",
        "  \"year\": 2022\n",
        "}\n",
        "b=a[\"team\"]\n",
        "c=a.get(\"model\")\n",
        "print(b,c)"
      ]
    },
    {
      "cell_type": "code",
      "execution_count": null,
      "id": "968e20c9",
      "metadata": {
        "id": "968e20c9",
        "outputId": "22f330cf-b8fb-4d32-9d32-700f737d4cb8"
      },
      "outputs": [
        {
          "name": "stdout",
          "output_type": "stream",
          "text": [
            "dict_keys(['team', 'model', 'year'])\n",
            "{'team': 'mercedes amg ', 'model': 'w13', 'year': 2022, 'drivers': 'lewis,russel'}\n"
          ]
        }
      ],
      "source": [
        "a={\n",
        "  \"team\": \"mercedes amg \", ###format for buliding the sets\n",
        "  \"model\": \"w13\",\n",
        "  \"year\": 2022\n",
        "}\n",
        "print(a.keys()) ### THIS IS THE KEYS function used to display all the key words\n",
        "a[\"drivers\"]=\"lewis,russel\"\n",
        "print(a)"
      ]
    },
    {
      "cell_type": "code",
      "execution_count": null,
      "id": "ac929cf4",
      "metadata": {
        "id": "ac929cf4",
        "outputId": "6af46231-adf5-425b-dffa-c3024559de26"
      },
      "outputs": [
        {
          "name": "stdout",
          "output_type": "stream",
          "text": [
            "dict_values(['mercedes amg ', 'w13', 2022])\n",
            "{'team': 'mercedes amg ', 'model': 'w13', 'year': 2021}\n"
          ]
        }
      ],
      "source": [
        "a={\n",
        "  \"team\": \"mercedes amg \", ###format for buliding the sets\n",
        "  \"model\": \"w13\",\n",
        "  \"year\": 2022\n",
        "}\n",
        "print(a.values())\n",
        "a[\"year\"]=2021 \n",
        "print(a)"
      ]
    },
    {
      "cell_type": "code",
      "execution_count": null,
      "id": "106d0097",
      "metadata": {
        "id": "106d0097",
        "outputId": "455dd387-1567-44da-890e-7e6eac6d91aa"
      },
      "outputs": [
        {
          "name": "stdout",
          "output_type": "stream",
          "text": [
            "okay\n"
          ]
        }
      ],
      "source": [
        "a={\n",
        "  \"team\": \"mercedes amg \",\n",
        "  \"model\": \"w13\",\n",
        "  \"year\": 2022\n",
        "}\n",
        "if \"team\" in a:\n",
        "       print(\"okay\")"
      ]
    },
    {
      "cell_type": "code",
      "execution_count": null,
      "id": "c545b86f",
      "metadata": {
        "id": "c545b86f",
        "outputId": "d4f13e18-a28f-4cb9-d0cd-ffe372f571d6"
      },
      "outputs": [
        {
          "name": "stdout",
          "output_type": "stream",
          "text": [
            "{'team': 'mercedes amg ', 'model': 'w13', 'year': 2022, 'driver': 'lewis'}\n",
            "{'team': 'mercedes amg ', 'model': 'w13', 'year': 2022, 'driver': 'lewis', 'age': 37}\n"
          ]
        }
      ],
      "source": [
        "a={\n",
        "  \"team\": \"mercedes amg \",\n",
        "  \"model\": \"w13\",\n",
        "  \"year\": 2022\n",
        "}\n",
        "a.update({\"driver\":\"lewis\"}) ### it is used to update the list\n",
        "print(a)\n",
        "a.update ({\"age\":37}) ### it is also used to update the list \n",
        "print(a)"
      ]
    },
    {
      "cell_type": "code",
      "execution_count": null,
      "id": "96f5aedb",
      "metadata": {
        "id": "96f5aedb",
        "outputId": "c5291d3b-6f4a-4643-813c-5bc5fd1e94fe"
      },
      "outputs": [
        {
          "name": "stdout",
          "output_type": "stream",
          "text": [
            "{'team': 'mercedes amg ', 'model': 'w13'}\n"
          ]
        }
      ],
      "source": [
        "a={\n",
        "  \"team\": \"mercedes amg \",\n",
        "  \"model\": \"w13\",\n",
        "  \"year\": 2022\n",
        "}\n",
        "a.pop(\"year\") ### this is used to remove the elements from the sets\n",
        "print(a)"
      ]
    },
    {
      "cell_type": "code",
      "execution_count": null,
      "id": "d0cef17e",
      "metadata": {
        "id": "d0cef17e",
        "outputId": "b6f8e0b9-9394-4b8d-f13e-6fcfc7167490"
      },
      "outputs": [
        {
          "name": "stdout",
          "output_type": "stream",
          "text": [
            "('team', 'mercedes amg ')\n",
            "('model', 'w13')\n",
            "('year', 2022)\n"
          ]
        }
      ],
      "source": [
        "a={\n",
        "  \"team\": \"mercedes amg \",\n",
        "  \"model\": \"w13\",\n",
        "  \"year\": 2022\n",
        "}\n",
        "for x in a.items():\n",
        "    print(x)"
      ]
    },
    {
      "cell_type": "code",
      "execution_count": null,
      "id": "356bacb8",
      "metadata": {
        "id": "356bacb8",
        "outputId": "c62b1b10-ac5e-4fcb-d495-7aa18e386b5d"
      },
      "outputs": [
        {
          "name": "stdout",
          "output_type": "stream",
          "text": [
            "team\n",
            "model\n",
            "year\n"
          ]
        }
      ],
      "source": [
        "a={\n",
        "  \"team\": \"mercedes amg \",\n",
        "  \"model\": \"w13\",\n",
        "  \"year\": 2022\n",
        "}\n",
        "for x in a.keys():\n",
        "    print(x)"
      ]
    },
    {
      "cell_type": "code",
      "execution_count": null,
      "id": "8a253f27",
      "metadata": {
        "id": "8a253f27",
        "outputId": "f644ed14-adf4-47a8-aec9-ae554bb9df6c"
      },
      "outputs": [
        {
          "name": "stdout",
          "output_type": "stream",
          "text": [
            "{'team': 'mercedes amg ', 'model': 'w13', 'year': 2022}\n"
          ]
        }
      ],
      "source": [
        "a={\n",
        "  \"team\": \"mercedes amg \",\n",
        "  \"model\": \"w13\",\n",
        "  \"year\": 2022\n",
        "}\n",
        "b=dict(a)\n",
        "print(b)"
      ]
    },
    {
      "cell_type": "code",
      "execution_count": null,
      "id": "88db4b33",
      "metadata": {
        "id": "88db4b33",
        "outputId": "a26b71ee-2c7d-48a9-edd1-26b3ac8d72cd"
      },
      "outputs": [
        {
          "name": "stdout",
          "output_type": "stream",
          "text": [
            "{'team': 'mercedes amg ', 'model': 'w13', 'year': 2022}\n"
          ]
        }
      ],
      "source": [
        "a={\n",
        "  \"team\": \"mercedes amg \",\n",
        "  \"model\": \"w13\",\n",
        "  \"year\": 2022\n",
        "}\n",
        "b=a.copy()\n",
        "print(b)"
      ]
    },
    {
      "cell_type": "code",
      "execution_count": null,
      "id": "9a60e0ea",
      "metadata": {
        "id": "9a60e0ea",
        "outputId": "a45ecaf2-33b4-46af-8efb-122de329f6f7"
      },
      "outputs": [
        {
          "name": "stdout",
          "output_type": "stream",
          "text": [
            "{'paddock1': {'team': 'mercedes amg ', 'model': 'w13', 'year': 2022}, 'paddock2': {'team': 'red bull ', 'model': 'rb11', 'year': 2021}, 'paddock3': {'team': 'ferrari ', 'model': 'sf', 'year': 2020}}\n"
          ]
        }
      ],
      "source": [
        "f1={\n",
        "  \"paddock1\" :{  \n",
        "  \"team\": \"mercedes amg \",\n",
        "  \"model\": \"w13\",\n",
        "  \"year\": 2022\n",
        "  },\n",
        "    \n",
        "\"paddock2\":{\n",
        "   \n",
        "  \"team\": \"red bull \",\n",
        "  \"model\": \"rb11\",\n",
        "  \"year\": 2021\n",
        "},\n",
        "\"paddock3\":{\n",
        " \n",
        "  \"team\": \"ferrari \",\n",
        "  \"model\": \"sf\",\n",
        "  \"year\": 2020\n",
        "}\n",
        "}    \n",
        "print(f1)\n",
        "\n",
        "\n",
        "  \n"
      ]
    },
    {
      "cell_type": "code",
      "execution_count": null,
      "id": "81aa3efd",
      "metadata": {
        "id": "81aa3efd",
        "outputId": "80837eeb-d1a5-4872-fccf-ef8263f07700"
      },
      "outputs": [
        {
          "name": "stdout",
          "output_type": "stream",
          "text": [
            "lewis\n"
          ]
        }
      ],
      "source": [
        "a={\n",
        "  \"team\": \"mercedes amg \",\n",
        "  \"model\": \"w13\",\n",
        "  \"year\": 2022\n",
        "}\n",
        "x=a.setdefault(\"driver\",\"lewis\")\n",
        "print(x)"
      ]
    },
    {
      "cell_type": "code",
      "execution_count": null,
      "id": "24341533",
      "metadata": {
        "id": "24341533",
        "outputId": "03df3c0a-4826-459e-f196-9d2bfa74c302"
      },
      "outputs": [
        {
          "name": "stdout",
          "output_type": "stream",
          "text": [
            "{'Black', 'Yellow'}\n"
          ]
        }
      ],
      "source": [
        "set1 = {\"Yellow\", \"Orange\", \"Black\"}\n",
        "set2 = {\"Orange\", \"Blue\", \"Pink\"}\n",
        "\n",
        "set1.difference_update(set2)\n",
        "print(set1)"
      ]
    },
    {
      "cell_type": "code",
      "execution_count": null,
      "id": "40e4a94a",
      "metadata": {
        "id": "40e4a94a",
        "outputId": "3afc5654-ba5a-4216-f0d8-b4b4a0fe834d"
      },
      "outputs": [
        {
          "ename": "SyntaxError",
          "evalue": "invalid syntax (Temp/ipykernel_5800/4142306853.py, line 2)",
          "output_type": "error",
          "traceback": [
            "\u001b[1;36m  File \u001b[1;32m\"C:\\Users\\CSE22004\\AppData\\Local\\Temp/ipykernel_5800/4142306853.py\"\u001b[1;36m, line \u001b[1;32m2\u001b[0m\n\u001b[1;33m    Output :\u001b[0m\n\u001b[1;37m            ^\u001b[0m\n\u001b[1;31mSyntaxError\u001b[0m\u001b[1;31m:\u001b[0m invalid syntax\n"
          ]
        }
      ],
      "source": [
        "a = \"    Hello World \"\n",
        "Output :\n",
        "a = \" Hello World \""
      ]
    },
    {
      "cell_type": "code",
      "execution_count": null,
      "id": "6e15a4b6",
      "metadata": {
        "id": "6e15a4b6",
        "outputId": "252e9d0c-951e-416b-8b0a-e6242f76c870"
      },
      "outputs": [
        {
          "ename": "TypeError",
          "evalue": "'set' object does not support item deletion",
          "output_type": "error",
          "traceback": [
            "\u001b[1;31m---------------------------------------------------------------------------\u001b[0m",
            "\u001b[1;31mTypeError\u001b[0m                                 Traceback (most recent call last)",
            "\u001b[1;32m~\\AppData\\Local\\Temp/ipykernel_1640/3174307539.py\u001b[0m in \u001b[0;36m<module>\u001b[1;34m\u001b[0m\n\u001b[0;32m      1\u001b[0m \u001b[0msampleSet\u001b[0m \u001b[1;33m=\u001b[0m \u001b[1;33m{\u001b[0m\u001b[1;34m\"Yellow\"\u001b[0m\u001b[1;33m,\u001b[0m \u001b[1;34m\"Orange\"\u001b[0m\u001b[1;33m,\u001b[0m \u001b[1;34m\"Black\"\u001b[0m\u001b[1;33m}\u001b[0m\u001b[1;33m\u001b[0m\u001b[1;33m\u001b[0m\u001b[0m\n\u001b[1;32m----> 2\u001b[1;33m \u001b[1;32mdel\u001b[0m \u001b[0msampleSet\u001b[0m \u001b[1;33m[\u001b[0m\u001b[1;34m\"Orange\"\u001b[0m\u001b[1;33m]\u001b[0m\u001b[1;33m\u001b[0m\u001b[1;33m\u001b[0m\u001b[0m\n\u001b[0m",
            "\u001b[1;31mTypeError\u001b[0m: 'set' object does not support item deletion"
          ]
        }
      ],
      "source": [
        "sampleSet = {\"Yellow\", \"Orange\", \"Black\"}\n",
        "del sampleSet [\"Orange\"]"
      ]
    },
    {
      "cell_type": "code",
      "execution_count": null,
      "id": "b2e32feb",
      "metadata": {
        "id": "b2e32feb",
        "outputId": "ab2551d1-387d-4cec-9a09-add8d69e5c8d"
      },
      "outputs": [
        {
          "name": "stdout",
          "output_type": "stream",
          "text": [
            "format\n"
          ]
        }
      ],
      "source": [
        "a=\"information\"\n",
        "print(a[2:8])"
      ]
    },
    {
      "cell_type": "markdown",
      "id": "cbafd602",
      "metadata": {
        "id": "cbafd602"
      },
      "source": [
        "# Functions\n",
        "\n"
      ]
    },
    {
      "cell_type": "code",
      "execution_count": null,
      "id": "890f6049",
      "metadata": {
        "id": "890f6049",
        "outputId": "ce5c406f-752f-49f6-d06e-4772fb4019f0"
      },
      "outputs": [
        {
          "name": "stdout",
          "output_type": "stream",
          "text": [
            "hello\n"
          ]
        }
      ],
      "source": [
        "def kiran():\n",
        "    print(\"hello\")\n",
        "kiran()"
      ]
    },
    {
      "cell_type": "code",
      "execution_count": null,
      "id": "b7907c43",
      "metadata": {
        "id": "b7907c43",
        "outputId": "7342cdd6-e3f7-420d-a699-9b4c121b3c48"
      },
      "outputs": [
        {
          "name": "stdout",
          "output_type": "stream",
          "text": [
            "mentally retarded\n",
            "physically retarded\n",
            "your retarded\n"
          ]
        }
      ],
      "source": [
        "def kiran(hi):\n",
        "    print( hi +\" \"+\"retarded\")\n",
        "kiran(\"mentally\")\n",
        "kiran(\"physically\")\n",
        "kiran(\"your\")"
      ]
    },
    {
      "cell_type": "code",
      "execution_count": null,
      "id": "be96fbe7",
      "metadata": {
        "id": "be96fbe7",
        "outputId": "19f7e6c3-92f6-4355-d275-a277d5123acc"
      },
      "outputs": [
        {
          "name": "stdout",
          "output_type": "stream",
          "text": [
            "hello 23\n",
            "yeet 13\n"
          ]
        }
      ],
      "source": [
        "def kiran(hi,bye):\n",
        "    print(hi,bye)\n",
        "kiran(\"hello\",23)\n",
        "kiran(\"yeet\",13)\n"
      ]
    },
    {
      "cell_type": "code",
      "execution_count": null,
      "id": "38587982",
      "metadata": {
        "id": "38587982",
        "outputId": "dcd52348-2261-42b9-b64c-21b8968eefc0"
      },
      "outputs": [
        {
          "name": "stdout",
          "output_type": "stream",
          "text": [
            ":/ hi\n"
          ]
        }
      ],
      "source": [
        "def kiran(*f):\n",
        "    print(\":/\"+\" \"+f[0])\n",
        "kiran(\"hi\",\"bye\",\"1\",\"23\")#only strings are accepted not int"
      ]
    },
    {
      "cell_type": "code",
      "execution_count": null,
      "id": "6a4a3061",
      "metadata": {
        "id": "6a4a3061",
        "outputId": "a95aca8c-8e36-4776-efab-3b2a11f3424b"
      },
      "outputs": [
        {
          "name": "stdout",
          "output_type": "stream",
          "text": [
            "2\n"
          ]
        }
      ],
      "source": [
        "def kiran(hi,hello,bye):\n",
        "    print(bye)\n",
        "kiran(hi=\"F\",hello=3,bye=2) "
      ]
    },
    {
      "cell_type": "code",
      "execution_count": null,
      "id": "39a85796",
      "metadata": {
        "id": "39a85796",
        "outputId": "41ee91ce-de59-4c70-f6d2-d136633c2bdf"
      },
      "outputs": [
        {
          "name": "stdout",
          "output_type": "stream",
          "text": [
            "h2\n",
            "3 2\n"
          ]
        }
      ],
      "source": [
        "def kiran(**sksk):\n",
        "    print(\"h\" + sksk[\"bye\"])\n",
        "kiran(hi=\"F\",hello=\"3\",bye=\"2\")     \n",
        "\n",
        "def kiran(**sksk):\n",
        "    print(3,sksk[\"bye\"])\n",
        "kiran(hi=\"F\",hello=3,bye=2)     "
      ]
    },
    {
      "cell_type": "code",
      "execution_count": null,
      "id": "7f6d2299",
      "metadata": {
        "id": "7f6d2299",
        "outputId": "58370a97-baa7-4cb1-96f1-fc6901583c83"
      },
      "outputs": [
        {
          "ename": "TypeError",
          "evalue": "can only concatenate str (not \"int\") to str",
          "output_type": "error",
          "traceback": [
            "\u001b[1;31m---------------------------------------------------------------------------\u001b[0m",
            "\u001b[1;31mTypeError\u001b[0m                                 Traceback (most recent call last)",
            "\u001b[1;32m~\\AppData\\Local\\Temp/ipykernel_1640/778526278.py\u001b[0m in \u001b[0;36m<module>\u001b[1;34m\u001b[0m\n\u001b[0;32m      1\u001b[0m \u001b[1;32mdef\u001b[0m \u001b[0mkiran\u001b[0m\u001b[1;33m(\u001b[0m\u001b[1;33m**\u001b[0m\u001b[0msksk\u001b[0m\u001b[1;33m)\u001b[0m\u001b[1;33m:\u001b[0m\u001b[1;33m\u001b[0m\u001b[1;33m\u001b[0m\u001b[0m\n\u001b[0;32m      2\u001b[0m     \u001b[0mprint\u001b[0m\u001b[1;33m(\u001b[0m\u001b[1;34m\"h\"\u001b[0m \u001b[1;33m+\u001b[0m \u001b[0msksk\u001b[0m\u001b[1;33m[\u001b[0m\u001b[1;34m\"bye\"\u001b[0m\u001b[1;33m]\u001b[0m\u001b[1;33m)\u001b[0m\u001b[1;33m\u001b[0m\u001b[1;33m\u001b[0m\u001b[0m\n\u001b[1;32m----> 3\u001b[1;33m \u001b[0mkiran\u001b[0m\u001b[1;33m(\u001b[0m\u001b[0mhi\u001b[0m\u001b[1;33m=\u001b[0m\u001b[1;34m\"F\"\u001b[0m\u001b[1;33m,\u001b[0m\u001b[0mhello\u001b[0m\u001b[1;33m=\u001b[0m\u001b[1;36m3\u001b[0m\u001b[1;33m,\u001b[0m\u001b[0mbye\u001b[0m\u001b[1;33m=\u001b[0m\u001b[1;36m2\u001b[0m\u001b[1;33m)\u001b[0m  \u001b[1;31m## we can't get a output when str declared in print and int other\u001b[0m\u001b[1;33m\u001b[0m\u001b[1;33m\u001b[0m\u001b[0m\n\u001b[0m",
            "\u001b[1;32m~\\AppData\\Local\\Temp/ipykernel_1640/778526278.py\u001b[0m in \u001b[0;36mkiran\u001b[1;34m(**sksk)\u001b[0m\n\u001b[0;32m      1\u001b[0m \u001b[1;32mdef\u001b[0m \u001b[0mkiran\u001b[0m\u001b[1;33m(\u001b[0m\u001b[1;33m**\u001b[0m\u001b[0msksk\u001b[0m\u001b[1;33m)\u001b[0m\u001b[1;33m:\u001b[0m\u001b[1;33m\u001b[0m\u001b[1;33m\u001b[0m\u001b[0m\n\u001b[1;32m----> 2\u001b[1;33m     \u001b[0mprint\u001b[0m\u001b[1;33m(\u001b[0m\u001b[1;34m\"h\"\u001b[0m \u001b[1;33m+\u001b[0m \u001b[0msksk\u001b[0m\u001b[1;33m[\u001b[0m\u001b[1;34m\"bye\"\u001b[0m\u001b[1;33m]\u001b[0m\u001b[1;33m)\u001b[0m\u001b[1;33m\u001b[0m\u001b[1;33m\u001b[0m\u001b[0m\n\u001b[0m\u001b[0;32m      3\u001b[0m \u001b[0mkiran\u001b[0m\u001b[1;33m(\u001b[0m\u001b[0mhi\u001b[0m\u001b[1;33m=\u001b[0m\u001b[1;34m\"F\"\u001b[0m\u001b[1;33m,\u001b[0m\u001b[0mhello\u001b[0m\u001b[1;33m=\u001b[0m\u001b[1;36m3\u001b[0m\u001b[1;33m,\u001b[0m\u001b[0mbye\u001b[0m\u001b[1;33m=\u001b[0m\u001b[1;36m2\u001b[0m\u001b[1;33m)\u001b[0m  \u001b[1;31m## we can't get a output when str declared in print and int other\u001b[0m\u001b[1;33m\u001b[0m\u001b[1;33m\u001b[0m\u001b[0m\n",
            "\u001b[1;31mTypeError\u001b[0m: can only concatenate str (not \"int\") to str"
          ]
        }
      ],
      "source": [
        "def kiran(**sksk):\n",
        "    print(\"h\" + sksk[\"bye\"])\n",
        "kiran(hi=\"F\",hello=3,bye=2)  ## we can't get a output when str declared in print and int other   "
      ]
    },
    {
      "cell_type": "code",
      "execution_count": null,
      "id": "351dc829",
      "metadata": {
        "id": "351dc829",
        "outputId": "f8c18218-baa9-4fdd-be9f-8d09c6060fc7"
      },
      "outputs": [
        {
          "name": "stdout",
          "output_type": "stream",
          "text": [
            "bye\n",
            "yeet\n",
            "sike\n"
          ]
        }
      ],
      "source": [
        "def kiran (hi=\"bye\"):\n",
        "    print(hi)\n",
        "kiran()\n",
        "kiran(\"yeet\")\n",
        "kiran(\"sike\")\n"
      ]
    },
    {
      "cell_type": "code",
      "execution_count": null,
      "id": "ea78f760",
      "metadata": {
        "id": "ea78f760",
        "outputId": "1119ad99-962d-40b9-9cc6-ca943fb08230"
      },
      "outputs": [
        {
          "name": "stdout",
          "output_type": "stream",
          "text": [
            "bye\n",
            "yeet\n"
          ]
        }
      ],
      "source": [
        "def kiran(HI):\n",
        "    for k in HI:\n",
        "        print(k)\n",
        "HI=[\"bye\",\"yeet\"]\n",
        "kiran(HI)"
      ]
    },
    {
      "cell_type": "code",
      "execution_count": null,
      "id": "5f706c5f",
      "metadata": {
        "id": "5f706c5f",
        "outputId": "7ac7c50e-a116-4629-e0dc-1567901763a5"
      },
      "outputs": [
        {
          "name": "stdout",
          "output_type": "stream",
          "text": [
            "4\n",
            "5\n",
            "-2\n",
            "hi\n"
          ]
        }
      ],
      "source": [
        "def sum(s,k):\n",
        "    return s+k\n",
        "print(sum(1,3))\n",
        "print(sum(2,3))\n",
        "\n",
        "def sum(s,k):\n",
        "    return s-k\n",
        "print(sum(1,3))\n",
        "\n",
        "def k(s):\n",
        "    return s\n",
        "print(k(\"hi\"))"
      ]
    },
    {
      "cell_type": "code",
      "execution_count": null,
      "id": "c0a07a9d",
      "metadata": {
        "id": "c0a07a9d",
        "outputId": "2146c89a-bd13-404b-da4d-9db4026510c5"
      },
      "outputs": [
        {
          "name": "stdout",
          "output_type": "stream",
          "text": [
            "the lower values 5\n",
            "higher values 2\n"
          ]
        }
      ],
      "source": [
        "def kou(a):\n",
        "    u=0;l=0\n",
        "    for x in a :\n",
        "        \n",
        "        if x.isupper():\n",
        "            u=u+1\n",
        "            \n",
        "        else:\n",
        "            l=l+1\n",
        "    print(\"the lower values\",l)\n",
        "    print(\"higher values\",u)\n",
        "kou(\"KousHik\")"
      ]
    },
    {
      "cell_type": "markdown",
      "id": "921f8825",
      "metadata": {
        "id": "921f8825"
      },
      "source": [
        "# Module-2"
      ]
    },
    {
      "cell_type": "code",
      "execution_count": null,
      "id": "2250a64d",
      "metadata": {
        "id": "2250a64d",
        "outputId": "635b0451-a566-4dd1-d797-830022ade2ff"
      },
      "outputs": [
        {
          "name": "stdout",
          "output_type": "stream",
          "text": [
            "the string of length 2 is 2\n"
          ]
        }
      ],
      "source": [
        "a=['abc', 'xyz', 'aba', '1221']\n",
        "c=0\n",
        "for x in a :\n",
        "    if len(x)>=2:\n",
        "        if x[0]==x[-1]:\n",
        "            c=c+1\n",
        "print(\"the string of length 2 is\",c)"
      ]
    },
    {
      "cell_type": "code",
      "execution_count": null,
      "id": "b30fd4db",
      "metadata": {
        "id": "b30fd4db",
        "outputId": "fc5641c4-3373-4797-b206-733b082c7b99"
      },
      "outputs": [
        {
          "name": "stdout",
          "output_type": "stream",
          "text": [
            "enter the value of n: 5\n",
            "enter the value of r: 100\n",
            "1.2858123457505603e-156\n"
          ]
        }
      ],
      "source": [
        "def ncr(n,r):\n",
        "    return fact(n)/(fact(r)*fact(n-r))\n",
        "def fact(n):\n",
        "    fact=1\n",
        "    for i in range(1,n+1):\n",
        "        fact=fact*i\n",
        "    return fact\n",
        "a=int(input(\"enter the value of n: \"))\n",
        "b=int(input(\"enter the value of r: \"))\n",
        "print(ncr(a,b))"
      ]
    },
    {
      "cell_type": "code",
      "execution_count": null,
      "id": "399a371c",
      "metadata": {
        "id": "399a371c",
        "outputId": "48dcec12-9670-4230-b949-5011ee5b2cc5"
      },
      "outputs": [
        {
          "name": "stdout",
          "output_type": "stream",
          "text": [
            "enter the range6\n",
            "{0: 0, 1: 1, 2: 4, 3: 9, 4: 16, 5: 25, 6: 36}\n",
            "6\n",
            "0\n"
          ]
        }
      ],
      "source": [
        "a=dict()\n",
        "b=int(input(\"enter the range\"))\n",
        "for x in range(b+1):\n",
        "    a[x]=x*x\n",
        "print(a)"
      ]
    },
    {
      "cell_type": "code",
      "execution_count": null,
      "id": "572fe894",
      "metadata": {
        "id": "572fe894",
        "outputId": "27df9700-56d1-4792-ec0a-cb079b955131"
      },
      "outputs": [
        {
          "name": "stdout",
          "output_type": "stream",
          "text": [
            "6 1\n"
          ]
        }
      ],
      "source": [
        "a={\n",
        "    1,2,4,5,6\n",
        "}\n",
        "print(max(a),min(a))"
      ]
    },
    {
      "cell_type": "code",
      "execution_count": null,
      "id": "55baa7ad",
      "metadata": {
        "id": "55baa7ad",
        "outputId": "4eb3c128-be1a-48b1-8f6e-b32c62c170ce"
      },
      "outputs": [
        {
          "name": "stdout",
          "output_type": "stream",
          "text": [
            "['hi', 'hello']\n",
            " he\n"
          ]
        }
      ],
      "source": [
        "a=\"hi hello\"\n",
        "print(a.split())\n",
        "print(a[2:5])"
      ]
    },
    {
      "cell_type": "code",
      "execution_count": null,
      "id": "627baeaf",
      "metadata": {
        "id": "627baeaf",
        "outputId": "89ac6f63-47a9-4fd1-b231-04f1fdf215a1"
      },
      "outputs": [
        {
          "name": "stdout",
          "output_type": "stream",
          "text": [
            "koushikabckiran\n"
          ]
        }
      ],
      "source": [
        "\n",
        "print(\"koushik\",end='abc')\n",
        "print(\"kiran\")"
      ]
    },
    {
      "cell_type": "code",
      "execution_count": null,
      "id": "9079028d",
      "metadata": {
        "id": "9079028d",
        "outputId": "e562e60e-bb2d-45e8-cfea-c5ab54968fab"
      },
      "outputs": [
        {
          "name": "stdout",
          "output_type": "stream",
          "text": [
            "enter the commandroll\n",
            "3\n",
            "6\n",
            "5\n",
            "3\n",
            "2\n",
            "6\n"
          ]
        }
      ],
      "source": [
        "import random\n",
        "a=input(\"enter the command\")\n",
        "if \"roll\"==a:\n",
        "    for x in range(6):\n",
        "        a=random.randint(1,6)\n",
        "        print(a)"
      ]
    },
    {
      "cell_type": "code",
      "execution_count": null,
      "id": "ae00249b",
      "metadata": {
        "id": "ae00249b",
        "outputId": "d9c11535-3f1a-43d8-a881-6334a7bd011c"
      },
      "outputs": [
        {
          "name": "stdout",
          "output_type": "stream",
          "text": [
            "enter thr first number: 5\n",
            "enter the second number: 2\n",
            "product is:  10\n"
          ]
        }
      ],
      "source": [
        "def product(s,k):\n",
        "    if(s<k):\n",
        "        return product(k,s)\n",
        "    elif(k!=0):\n",
        "        return(s+product(s,k-1))\n",
        "    else:\n",
        "        return 0\n",
        "s=int(input(\"enter thr first number: \"))\n",
        "k=int(input(\"enter the second number: \"))\n",
        "print(\"product is: \",product(s,k))"
      ]
    },
    {
      "cell_type": "code",
      "execution_count": null,
      "id": "22d16f8d",
      "metadata": {
        "id": "22d16f8d",
        "outputId": "2a52b278-df3e-4446-edda-c84255348b80"
      },
      "outputs": [
        {
          "name": "stdout",
          "output_type": "stream",
          "text": [
            "enter number of terms: 6\n",
            "fibo\n",
            "0\n",
            "1\n",
            "1\n",
            "2\n",
            "3\n",
            "5\n"
          ]
        }
      ],
      "source": [
        "def fibo(n):\n",
        "    if n<=1:\n",
        "        return n\n",
        "    else:\n",
        "        return(fibo(n-1)+(fibo(n-2)))\n",
        "nterms = int(input(\"enter number of terms: \"))\n",
        "if nterms<=0:\n",
        "               print(\"enter any postive values: \")\n",
        "else:\n",
        "    print(\"fibo\")\n",
        "for i in range(nterms):\n",
        "            print(fibo(i))\n",
        "               "
      ]
    },
    {
      "cell_type": "code",
      "execution_count": null,
      "id": "46faabc9",
      "metadata": {
        "id": "46faabc9",
        "outputId": "ebfa0d9a-c37d-4873-af8a-a72ac725cf78"
      },
      "outputs": [
        {
          "name": "stdout",
          "output_type": "stream",
          "text": [
            "enter the amount of number's5\n",
            "{1: 1, 2: 4, 3: 9, 4: 16, 5: 25}\n"
          ]
        }
      ],
      "source": [
        "b=int(input(\"enter the amount of number's\"))\n",
        "a=dict()\n",
        "for x in range(1,b+1):\n",
        "    a[x]=x*x\n",
        "print(a)"
      ]
    },
    {
      "cell_type": "code",
      "execution_count": null,
      "id": "aa38db47",
      "metadata": {
        "id": "aa38db47",
        "outputId": "2fb6f5b8-134a-4ed5-df47-d29a8cf538b6"
      },
      "outputs": [
        {
          "name": "stdout",
          "output_type": "stream",
          "text": [
            "['hi,bye,hello']\n",
            ",by\n"
          ]
        }
      ],
      "source": [
        "a=\"hi,bye,hello\"\n",
        "print(a.split())\n",
        "print(a[2:5])"
      ]
    },
    {
      "cell_type": "code",
      "execution_count": null,
      "id": "ede10b2b",
      "metadata": {
        "id": "ede10b2b",
        "outputId": "89d014e7-2d1f-49be-a7cf-6573d919f1a6"
      },
      "outputs": [
        {
          "name": "stdout",
          "output_type": "stream",
          "text": [
            "4 2\n"
          ]
        }
      ],
      "source": [
        "a=[1,2,3,4,5]\n",
        "a.sort(reverse=True)\n",
        "print(a[1],a[-2])"
      ]
    },
    {
      "cell_type": "code",
      "execution_count": null,
      "id": "571c415e",
      "metadata": {
        "id": "571c415e",
        "outputId": "b8cbe50d-ca56-4990-b168-fd5198e85376"
      },
      "outputs": [
        {
          "name": "stdout",
          "output_type": "stream",
          "text": [
            "['Green', 'White', 'Black', 'Yellow']\n"
          ]
        }
      ],
      "source": [
        "list= ['Red', 'Green', 'White', 'Black', 'Pink', 'Yellow'] \n",
        "list.pop(0)\n",
        "list.pop(3)\n",
        "list.pop()\n",
        "print(list)"
      ]
    },
    {
      "cell_type": "markdown",
      "id": "d8cdefab",
      "metadata": {
        "id": "d8cdefab"
      },
      "source": [
        "### assignment\n"
      ]
    },
    {
      "cell_type": "code",
      "execution_count": null,
      "id": "bbf92c23",
      "metadata": {
        "id": "bbf92c23",
        "outputId": "c58dacf9-bd00-4b4b-e0cd-369aacd33248"
      },
      "outputs": [
        {
          "name": "stdout",
          "output_type": "stream",
          "text": [
            "Hi\n",
            "Okay\n",
            "End\n"
          ]
        }
      ],
      "source": [
        "a=\"hi okay end\"\n",
        "for x in a.split():\n",
        "  print(x.capitalize())"
      ]
    },
    {
      "cell_type": "code",
      "execution_count": null,
      "id": "4905d963",
      "metadata": {
        "id": "4905d963",
        "outputId": "4da2e720-b79d-45f9-d04c-8932b8d156d0"
      },
      "outputs": [
        {
          "name": "stdout",
          "output_type": "stream",
          "text": [
            "hi\n",
            "okay\n"
          ]
        }
      ],
      "source": [
        "a=\"hi okay bye emo\"\n",
        "b=[2,4,6,8,10,12,14,16,18,20]\n",
        "for x in a.split():\n",
        "  if len(x) in b:\n",
        "    print (x)"
      ]
    },
    {
      "cell_type": "code",
      "execution_count": null,
      "id": "cb78310e",
      "metadata": {
        "id": "cb78310e",
        "outputId": "7e3e34e2-5277-41ca-9a10-9c3eca0b288f"
      },
      "outputs": [
        {
          "name": "stdout",
          "output_type": "stream",
          "text": [
            "enter number8\n",
            "true\n"
          ]
        }
      ],
      "source": [
        "f1=0;f2=1\n",
        "a=[0,1]\n",
        "for i in range (100):\n",
        "  next=f1+f2\n",
        "  f1=f2\n",
        "  f2=next \n",
        "  a.append(next)\n",
        "fin=int(input(\"enter number\"))\n",
        "if fin in a:\n",
        "  print(\"true\")\n",
        "else:\n",
        "  print(\"false\")"
      ]
    },
    {
      "cell_type": "code",
      "execution_count": null,
      "id": "841fafc6",
      "metadata": {
        "id": "841fafc6",
        "outputId": "4a9827c2-960e-4bfc-994a-88b8bd685acd"
      },
      "outputs": [
        {
          "name": "stdout",
          "output_type": "stream",
          "text": [
            "enter the number: 13\n",
            "enter correct choice\n"
          ]
        }
      ],
      "source": [
        "a=int(input(\"enter the number: \"))\n",
        "b=[4,6,9,11]\n",
        "if a==2:\n",
        "  print(\"28/29\")\n",
        "elif a in b:\n",
        "  print(\"30\")\n",
        "elif a>=13or a<1:\n",
        "  print(\"enter correct choice\")\n",
        "else:\n",
        "  print(\"31\")"
      ]
    },
    {
      "cell_type": "code",
      "execution_count": null,
      "id": "b7a2656c",
      "metadata": {
        "id": "b7a2656c",
        "outputId": "1eada438-be31-4657-8e0e-dd3ee32e6b08"
      },
      "outputs": [
        {
          "name": "stdout",
          "output_type": "stream",
          "text": [
            "29\n",
            "31\n",
            "37\n",
            "41\n",
            "43\n",
            "47\n"
          ]
        }
      ],
      "source": [
        "def prime():\n",
        "  for i in range(25,50):\n",
        "          c=0\n",
        "          for x in range(1,i+1):\n",
        "           \n",
        "           if i%x==0:\n",
        "             c=c+1\n",
        "          if c<=2:\n",
        "            print(i)\n",
        "prime()  "
      ]
    },
    {
      "cell_type": "code",
      "execution_count": null,
      "id": "ba3f8fbe",
      "metadata": {
        "id": "ba3f8fbe",
        "outputId": "9ec82154-0c09-4ace-fccf-92d62e87c9d5"
      },
      "outputs": [
        {
          "name": "stdout",
          "output_type": "stream",
          "text": [
            "enter the number15\n",
            "enter the last number12\n",
            "15\n",
            "14\n",
            "13\n",
            "12\n"
          ]
        }
      ],
      "source": [
        "a=int(input(\"enter the number\"))\n",
        "b=int(input(\"enter the last number\"))\n",
        "if a>b:\n",
        "  for x in range(a,b-1,-1):\n",
        "    print(x)\n",
        "else:\n",
        "  for x in range(a,b+1):\n",
        "    print(x)"
      ]
    },
    {
      "cell_type": "code",
      "execution_count": null,
      "id": "96e38e33",
      "metadata": {
        "id": "96e38e33",
        "outputId": "7b366578-f29a-4951-9180-b4777bf6e1c6"
      },
      "outputs": [
        {
          "name": "stdout",
          "output_type": "stream",
          "text": [
            "enter list of intergers: [1556,12,6958]\n",
            "1556126958\n"
          ]
        }
      ],
      "source": [
        "a=eval(input(\"enter list of intergers: \"))\n",
        "b=\"\"\n",
        "for i in a :\n",
        "  b+=str(i)\n",
        "print(b)"
      ]
    },
    {
      "cell_type": "code",
      "execution_count": null,
      "id": "6cbd751f",
      "metadata": {
        "id": "6cbd751f",
        "outputId": "f5818eb6-2e20-40b4-8dca-c1809be011a1"
      },
      "outputs": [
        {
          "name": "stdout",
          "output_type": "stream",
          "text": [
            "121123145\n"
          ]
        }
      ],
      "source": [
        "a=[121,123,145]\n",
        "b=\"\"\n",
        "for x in a:\n",
        "    b=b+str(x)\n",
        "print(b)"
      ]
    },
    {
      "cell_type": "code",
      "execution_count": null,
      "id": "982310b0",
      "metadata": {
        "id": "982310b0",
        "outputId": "13a041f5-d002-4afe-c180-dfe277aaef7a"
      },
      "outputs": [
        {
          "name": "stdout",
          "output_type": "stream",
          "text": [
            "enter the number you want to find palindrome for5\n",
            "palindrome\n"
          ]
        }
      ],
      "source": [
        "  ## 6)check a given string is a pallindrome or not\n",
        "a=int(input(\"enter the number you want to find palindrome for\"))\n",
        "rev=0\n",
        "temp=a\n",
        "while temp>0:\n",
        "    rem=temp%10\n",
        "    rev=(rev*10)+rem\n",
        "    temp=temp//10\n",
        "if a==rev:\n",
        "    print(\"palindrome\")\n",
        "else:\n",
        "    print(\"not a plaindrome\")"
      ]
    },
    {
      "cell_type": "code",
      "execution_count": null,
      "id": "5edbdcc2",
      "metadata": {
        "id": "5edbdcc2",
        "outputId": "19d4ddfe-c60d-4b8c-d5cd-065e30bc9eab"
      },
      "outputs": [
        {
          "name": "stdout",
          "output_type": "stream",
          "text": [
            "enter the number58\n",
            "not a perfect number\n"
          ]
        }
      ],
      "source": [
        "## 5)check a given number is perfect number are not\n",
        "a=int(input(\"enter the number\"))\n",
        "sum=0\n",
        "for i in range (1,a):\n",
        "    if a%i==0:\n",
        "        sum=sum+i\n",
        "if sum==a:\n",
        "        print(\"perfect number\")\n",
        "else:\n",
        "        print(\"not a perfect number\")"
      ]
    },
    {
      "cell_type": "code",
      "execution_count": null,
      "id": "3ba338f0",
      "metadata": {
        "id": "3ba338f0",
        "outputId": "da828332-47bd-439d-dcb0-99c2c180e9db"
      },
      "outputs": [
        {
          "name": "stdout",
          "output_type": "stream",
          "text": [
            "enter the number9\n",
            "enter number two6\n",
            "enter the third number5\n",
            "a is max\n"
          ]
        }
      ],
      "source": [
        "##15)program to print greatest of three numbers\n",
        "a=int(input(\"enter the number\"));b=int(input(\"enter number two\"));c=int(input(\"enter the third number\"))\n",
        "if a>b and a>c:\n",
        "    print(\"a is max\")\n",
        "elif b>a and b>c :\n",
        "    print(\"b is max\")\n",
        "else :\n",
        "    print(\"c is max\")"
      ]
    },
    {
      "cell_type": "code",
      "execution_count": null,
      "id": "2176c56f",
      "metadata": {
        "id": "2176c56f",
        "outputId": "1dcc54dc-d1bd-407e-dc5b-63b908043e86"
      },
      "outputs": [
        {
          "name": "stdout",
          "output_type": "stream",
          "text": [
            "enter the number6\n",
            "enter the last number1\n",
            "6\n",
            "5\n",
            "4\n",
            "3\n",
            "2\n",
            "1\n"
          ]
        }
      ],
      "source": [
        "##14)given wo integers a and b.if a <b ,print all numbers between in ascending order.if a>b print all numbers between in decending order\n",
        "a=int(input(\"enter the number\"))\n",
        "b=int(input(\"enter the last number\"))\n",
        "if a>b:\n",
        "  for x in range(a,b-1,-1):\n",
        "    print(x)\n",
        "else:\n",
        "  for x in range(a,b+1):\n",
        "    print(x)"
      ]
    },
    {
      "cell_type": "code",
      "execution_count": null,
      "id": "865a9503",
      "metadata": {
        "id": "865a9503",
        "outputId": "31319352-3f1a-499f-b163-cc56e5f0782e"
      },
      "outputs": [
        {
          "name": "stdout",
          "output_type": "stream",
          "text": [
            "mark of the student 1 \n",
            "enter the subject marks: 66\n",
            "enter the subject marks: 46\n",
            "enter the subject marks: 55\n",
            "enter the subject marks: 54\n",
            "enter the subject marks: 55\n",
            "FAIL\n"
          ]
        }
      ],
      "source": [
        "## 3)take five subjects from the user and display the grade of the student,if average is 90-100(o),80-89(a+),70-79(a)...\n",
        "print(\"mark of the student 1 \")\n",
        "s1=int(input(\"enter the subject marks: \"))\n",
        "s2=int(input(\"enter the subject marks: \"))\n",
        "s3=int(input(\"enter the subject marks: \"))\n",
        "s4=int(input(\"enter the subject marks: \"))\n",
        "s5=int(input(\"enter the subject marks: \"))\n",
        "total=s1+s2+s3+s4+s5\n",
        "if total>90 and total<100:\n",
        "    print(\"o GRADE\")\n",
        "elif total>80 and total<89:\n",
        "    print(\"a+ GRADE\")\n",
        "elif total>70 and total<79:\n",
        "    print(\"a GRADE\")\n",
        "elif total>60 and total<69:\n",
        "    print(\"b GRADE\")\n",
        "else:\n",
        "    print(\"FAIL\")"
      ]
    },
    {
      "cell_type": "code",
      "execution_count": null,
      "id": "395c2fa6",
      "metadata": {
        "id": "395c2fa6",
        "outputId": "520ea4f9-5602-4c54-945a-ac41e5ae16c4"
      },
      "outputs": [
        {
          "name": "stdout",
          "output_type": "stream",
          "text": [
            "Enter first number:5\n",
            "Enter second number:3\n",
            "GCD is: \n",
            "1\n"
          ]
        }
      ],
      "source": [
        "##7)find the gcd of two numbers with and without recursion(5,3=1)\n",
        "##with recursion \n",
        "def gcd(a,b):\n",
        "    if(b==0):\n",
        "        return a\n",
        "    else:\n",
        "        return gcd(b,a%b)\n",
        "a=int(input(\"Enter first number:\"))\n",
        "b=int(input(\"Enter second number:\"))\n",
        "GCD=gcd(a,b)\n",
        "print(\"GCD is: \")\n",
        "print(GCD)\n",
        "\n"
      ]
    },
    {
      "cell_type": "code",
      "execution_count": null,
      "id": "9808ba19",
      "metadata": {
        "id": "9808ba19",
        "outputId": "5da16b91-cc2e-4276-e326-9b481964c21a"
      },
      "outputs": [
        {
          "name": "stdout",
          "output_type": "stream",
          "text": [
            "Enter 1st number: 5\n",
            "Enter 2nd number: 3\n",
            "GCD is 1\n"
          ]
        }
      ],
      "source": [
        "##without recursion\n",
        "num1 = int(input(\"Enter 1st number: \"))\n",
        "num2 = int(input(\"Enter 2nd number: \"))\n",
        "gcd=1\n",
        "while (i <= num1 and i <= num2):\n",
        "  if(num1 % i == 0 and num2 % i == 0):\n",
        "    gcd = i\n",
        "  i = i + 1\n",
        "print(\"GCD is\",gcd)"
      ]
    },
    {
      "cell_type": "code",
      "execution_count": null,
      "id": "3966c35d",
      "metadata": {
        "id": "3966c35d",
        "outputId": "9acf989a-d1f1-4915-f8d7-b5a0c2def20d"
      },
      "outputs": [
        {
          "name": "stdout",
          "output_type": "stream",
          "text": [
            "14.0\n"
          ]
        }
      ],
      "source": [
        "##10)write a program to calculate the sum of squares given by user(123=14)\n",
        "\n",
        "import math\n",
        "a=[1,2,3]\n",
        "sum=0\n",
        "for x in a:\n",
        "    sum=sum+math.pow(x,2)\n",
        "print(sum)    \n",
        "    "
      ]
    },
    {
      "cell_type": "code",
      "execution_count": null,
      "id": "7be4bca4",
      "metadata": {
        "id": "7be4bca4",
        "outputId": "2565a14e-40db-4ac4-ea8f-cf51770972f1"
      },
      "outputs": [
        {
          "name": "stdout",
          "output_type": "stream",
          "text": [
            "Enter a number:23456\n",
            "12\n"
          ]
        }
      ],
      "source": [
        "##8)print sum of even digits in a given number\n",
        "n = int(input(\"Enter a number:\"))\n",
        "\n",
        "a= 0\n",
        "\n",
        "while n > 0:\n",
        "    i = n % 10\n",
        "    if i % 2 == 0:\n",
        "        a = a + i\n",
        "    n=n//10\n",
        "print(a)\n"
      ]
    },
    {
      "cell_type": "code",
      "execution_count": null,
      "id": "d9ae731a",
      "metadata": {
        "id": "d9ae731a",
        "outputId": "92307def-8314-4c12-f234-f20a367ce57f"
      },
      "outputs": [
        {
          "name": "stdout",
          "output_type": "stream",
          "text": [
            "vowels 5\n",
            "consonents 10\n"
          ]
        }
      ],
      "source": [
        "a=\"gitamuniversity\"\n",
        "b=[\"i\",\"a\",\"e\",\"o\",\"U\"]\n",
        "v=0\n",
        "c=0\n",
        "for x in a:\n",
        "    if x in b:\n",
        "        v=v+1\n",
        "    else:\n",
        "        c=c+1\n",
        "print(\"vowels\",v)\n",
        "print(\"consonents\",c)\n"
      ]
    },
    {
      "cell_type": "code",
      "execution_count": null,
      "id": "d96ae48a",
      "metadata": {
        "id": "d96ae48a",
        "outputId": "67309aef-61ba-495f-8026-f17f6feef652"
      },
      "outputs": [
        {
          "name": "stdout",
          "output_type": "stream",
          "text": [
            "This\n",
            "is\n",
            "python\n"
          ]
        }
      ],
      "source": [
        "a=\"This is a python class\"\n",
        "b=[2,4,6,8,10,12,14,16,18,20]\n",
        "for x in a.split():\n",
        "  if len(x) in b:\n",
        "    print (x)\n",
        "    "
      ]
    },
    {
      "cell_type": "markdown",
      "id": "99392a05",
      "metadata": {
        "id": "99392a05"
      },
      "source": [
        "### Files"
      ]
    },
    {
      "cell_type": "code",
      "execution_count": null,
      "id": "83c87e07",
      "metadata": {
        "id": "83c87e07",
        "outputId": "02f68534-497b-4fb2-eba6-089ae9ec7d5d"
      },
      "outputs": [
        {
          "name": "stdout",
          "output_type": "stream",
          "text": [
            "hi\n"
          ]
        }
      ],
      "source": [
        "k=open(\"kiran\",\"w\")\n",
        "k.write(\"hi\")\n",
        "k.close()\n",
        "k=open(\"kiran\",\"r\")\n",
        "print(k.read())"
      ]
    },
    {
      "cell_type": "code",
      "execution_count": null,
      "id": "b4f64196",
      "metadata": {
        "id": "b4f64196",
        "outputId": "6ebd77f8-4ecf-40c7-d780-9d552eed4fa6"
      },
      "outputs": [
        {
          "name": "stdout",
          "output_type": "stream",
          "text": [
            "hey there \n",
            "\n",
            " hi\n"
          ]
        }
      ],
      "source": [
        "f=open(\"kiran\",\"w\")\n",
        "f.write(\"hey there \\n hi\")\n",
        "f.close()\n",
        "f=open(\"kiran\",\"r\")\n",
        "print(f.readline())\n",
        "print(f.readline())\n",
        "f.close()"
      ]
    },
    {
      "cell_type": "code",
      "execution_count": null,
      "id": "de19c1b4",
      "metadata": {
        "id": "de19c1b4",
        "outputId": "9b0cb49d-5591-4ad4-8ea6-d441a07d6d4c"
      },
      "outputs": [
        {
          "name": "stdout",
          "output_type": "stream",
          "text": [
            "okay\n"
          ]
        }
      ],
      "source": [
        "f=open(\"kiran.txt\",\"r\")\n",
        "print(f.read())\n",
        "f.close()\n"
      ]
    },
    {
      "cell_type": "code",
      "execution_count": null,
      "id": "8f37b095",
      "metadata": {
        "id": "8f37b095",
        "outputId": "7ac9edac-9213-4e03-bef2-f9cf9e421200"
      },
      "outputs": [
        {
          "name": "stdout",
          "output_type": "stream",
          "text": [
            "true\n"
          ]
        }
      ],
      "source": [
        "import os\n",
        "if os.path.exists(\"kiran.txt\"):\n",
        "    #os.remove(\"kiran.txt\")\n",
        "    print(\"true\")\n",
        "else:\n",
        "    print(\"false\")"
      ]
    },
    {
      "cell_type": "code",
      "execution_count": null,
      "id": "df755d8a",
      "metadata": {
        "id": "df755d8a",
        "outputId": "730e76eb-e9ec-44bf-96c5-a66d2e4118f5"
      },
      "outputs": [
        {
          "name": "stdout",
          "output_type": "stream",
          "text": [
            "hey there \n",
            "\n",
            " hi\n"
          ]
        }
      ],
      "source": [
        "f=open(\"kiran\",\"r\")\n",
        "print(f.readline())\n",
        "print(f.readline())\n",
        "f.close()"
      ]
    },
    {
      "cell_type": "code",
      "execution_count": null,
      "id": "1de55119",
      "metadata": {
        "id": "1de55119"
      },
      "outputs": [],
      "source": [
        "import os\n",
        "os.rmdir(\"C:\\\\Users\\CSE22004\\Documents\\Python Scripts\")"
      ]
    },
    {
      "cell_type": "code",
      "execution_count": null,
      "id": "de25b42c",
      "metadata": {
        "id": "de25b42c",
        "outputId": "7eb357b0-e7ba-40e4-826c-c562a8efd7cf"
      },
      "outputs": [
        {
          "name": "stdout",
          "output_type": "stream",
          "text": [
            "false\n"
          ]
        }
      ],
      "source": [
        "import os \n",
        "if os.path.exists(\"koushik.txt\"):\n",
        "    print(\"true\")\n",
        "else:\n",
        "    print(\"false\")"
      ]
    },
    {
      "cell_type": "code",
      "execution_count": null,
      "id": "14a32659",
      "metadata": {
        "id": "14a32659",
        "outputId": "6e5d2404-e2b7-402a-9257-c53304986cff"
      },
      "outputs": [
        {
          "name": "stdout",
          "output_type": "stream",
          "text": [
            "bitchesss\n"
          ]
        }
      ],
      "source": [
        "f=open(\"C:\\\\Users\\CSE22004\\Desktop\\okay\\koushik.txt\",\"r\")\n",
        "print(f.read())\n",
        "f.close()\n"
      ]
    },
    {
      "cell_type": "code",
      "execution_count": null,
      "id": "2a28e4d3",
      "metadata": {
        "id": "2a28e4d3",
        "outputId": "70c42ece-5838-4323-e6c3-e6d6f95cfb35"
      },
      "outputs": [
        {
          "name": "stdout",
          "output_type": "stream",
          "text": [
            "true\n"
          ]
        }
      ],
      "source": [
        "import os\n",
        "if os.path.exists(\"C:\\\\Users\\CSE22004\\Desktop\\okay\\koushik.txt\"):\n",
        "    os.remove(\"C:\\\\Users\\CSE22004\\Desktop\\okay\\koushik.txt\")\n",
        "    print(\"true\")\n",
        "else:\n",
        "    print(\"false\")"
      ]
    },
    {
      "cell_type": "code",
      "execution_count": null,
      "id": "62f241cc",
      "metadata": {
        "id": "62f241cc",
        "outputId": "4b3e3a05-3922-43ec-c677-41ceff8d5a59"
      },
      "outputs": [
        {
          "ename": "FileNotFoundError",
          "evalue": "[WinError 2] The system cannot find the file specified: 'C:\\\\Users\\\\CSE22004\\\\Desktop\\\\okay'",
          "output_type": "error",
          "traceback": [
            "\u001b[1;31m---------------------------------------------------------------------------\u001b[0m",
            "\u001b[1;31mFileNotFoundError\u001b[0m                         Traceback (most recent call last)",
            "\u001b[1;32m~\\AppData\\Local\\Temp/ipykernel_1944/978988631.py\u001b[0m in \u001b[0;36m<module>\u001b[1;34m\u001b[0m\n\u001b[0;32m      1\u001b[0m \u001b[1;32mimport\u001b[0m \u001b[0mos\u001b[0m\u001b[1;33m\u001b[0m\u001b[1;33m\u001b[0m\u001b[0m\n\u001b[0;32m      2\u001b[0m \u001b[1;33m\u001b[0m\u001b[0m\n\u001b[1;32m----> 3\u001b[1;33m \u001b[0mos\u001b[0m\u001b[1;33m.\u001b[0m\u001b[0mrmdir\u001b[0m\u001b[1;33m(\u001b[0m\u001b[1;34m\"C:\\\\Users\\CSE22004\\Desktop\\okay\"\u001b[0m\u001b[1;33m)\u001b[0m\u001b[1;33m\u001b[0m\u001b[1;33m\u001b[0m\u001b[0m\n\u001b[0m",
            "\u001b[1;31mFileNotFoundError\u001b[0m: [WinError 2] The system cannot find the file specified: 'C:\\\\Users\\\\CSE22004\\\\Desktop\\\\okay'"
          ]
        }
      ],
      "source": [
        "import os\n",
        "\n",
        "os.rmdir(\"C:\\\\Users\\CSE22004\\Desktop\\okay\")"
      ]
    },
    {
      "cell_type": "markdown",
      "id": "79a51020",
      "metadata": {
        "id": "79a51020"
      },
      "source": [
        "## Module-3"
      ]
    },
    {
      "cell_type": "code",
      "execution_count": null,
      "id": "4543eed0",
      "metadata": {
        "id": "4543eed0",
        "outputId": "24b93a4c-b339-4525-ac39-52fb4b3cf112"
      },
      "outputs": [
        {
          "name": "stdout",
          "output_type": "stream",
          "text": [
            "hi\n"
          ]
        }
      ],
      "source": [
        "k=open(\"kiran\",\"w\")\n",
        "k.write(\"hi\")\n",
        "k.close()\n",
        "k=open(\"kiran\",\"r\")\n",
        "print(k.read())\n",
        "##f=open(\"location\\\\filename\",\"r\")\n",
        "#print(f.read())"
      ]
    },
    {
      "cell_type": "code",
      "execution_count": null,
      "id": "c625309b",
      "metadata": {
        "id": "c625309b",
        "outputId": "bdd4640e-4b1b-4d2e-8d44-64ec28473d36"
      },
      "outputs": [
        {
          "name": "stdout",
          "output_type": "stream",
          "text": [
            "hi\n"
          ]
        }
      ],
      "source": [
        "k=open(\"kiran\",\"w\")\n",
        "k.write(\"hi\")\n",
        "k.close()\n",
        "k=open(\"kiran\",\"r\")\n",
        "print(k.readline())\n",
        "k.close()"
      ]
    },
    {
      "cell_type": "code",
      "execution_count": null,
      "id": "72796055",
      "metadata": {
        "id": "72796055",
        "outputId": "f213d69e-4d75-4a33-a834-ab866ada1cc4"
      },
      "outputs": [
        {
          "name": "stdout",
          "output_type": "stream",
          "text": [
            "hi\n",
            "hi b\n"
          ]
        }
      ],
      "source": [
        "k=open(\"kiran\",\"w\")\n",
        "k.write(\"hi\")\n",
        "k.close()\n",
        "k=open(\"kiran\",\"r\")\n",
        "print(k.readline())\n",
        "k.close()\n",
        "k=open(\"kiran\",\"a\")##append\n",
        "k.write(\" bye\")\n",
        "k.close()\n",
        "k=open(\"kiran\",\"r\")\n",
        "print(k.read(4))"
      ]
    },
    {
      "cell_type": "code",
      "execution_count": null,
      "id": "288513ee",
      "metadata": {
        "id": "288513ee",
        "outputId": "d069f493-5838-4d0e-efcd-5980897efb46"
      },
      "outputs": [
        {
          "name": "stdout",
          "output_type": "stream",
          "text": [
            "5\n"
          ]
        }
      ],
      "source": [
        "k=open(\"hi.txt\",\"w\")\n",
        "k.write(\"sksksksksk\")\n",
        "k=open(\"hi.txt\",\"r\")\n",
        "a=0\n",
        "for x in k.read():\n",
        "    if \"s\"==x:\n",
        "        a=a+1\n",
        "print(a)        \n",
        "    "
      ]
    },
    {
      "cell_type": "code",
      "execution_count": null,
      "id": "0b79e80b",
      "metadata": {
        "id": "0b79e80b",
        "outputId": "cb4bd138-0780-4d3c-e758-bdf9836e80c1"
      },
      "outputs": [
        {
          "name": "stdout",
          "output_type": "stream",
          "text": [
            "['k', 'i', 'r', 'a', 'n']\n",
            "\n"
          ]
        }
      ],
      "source": [
        "k=open(\"hii.txt\",\"w\")\n",
        "k.write(\"k i r a n\")\n",
        "k.close()\n",
        "k=open(\"hii.txt\",\"r\")\n",
        "c=0\n",
        "b=\"\"\n",
        "print(k.read().split())\n",
        "for x in k.read().split():\n",
        "    b=b+(x)\n",
        "print(b)    "
      ]
    },
    {
      "cell_type": "code",
      "execution_count": null,
      "id": "120cda6e",
      "metadata": {
        "id": "120cda6e",
        "outputId": "dc31444b-affc-4b23-d895-5df0636efec5"
      },
      "outputs": [
        {
          "name": "stdout",
          "output_type": "stream",
          "text": [
            "okay\n"
          ]
        }
      ],
      "source": [
        "k=open(\"hiii.txt\",\"w\")\n",
        "k.write(\"okay\")\n",
        "k=open(\"hiii.txt\",\"r\")\n",
        "a=k.read()\n",
        "k.close()\n",
        "s=open(\"hiii.txt\",\"w\")\n",
        "s.write(a)\n",
        "p=open(\"hiii.txt\",\"r\")\n",
        "print(p.read())\n",
        "s.close()\n",
        "#m=open(\"hiii.txt\",\"r\")"
      ]
    },
    {
      "cell_type": "code",
      "execution_count": null,
      "id": "e11a1f12",
      "metadata": {
        "id": "e11a1f12"
      },
      "outputs": [],
      "source": [
        ""
      ]
    }
  ],
  "metadata": {
    "kernelspec": {
      "display_name": "Python 3 (ipykernel)",
      "language": "python",
      "name": "python3"
    },
    "language_info": {
      "codemirror_mode": {
        "name": "ipython",
        "version": 3
      },
      "file_extension": ".py",
      "mimetype": "text/x-python",
      "name": "python",
      "nbconvert_exporter": "python",
      "pygments_lexer": "ipython3",
      "version": "3.9.7"
    },
    "colab": {
      "name": "Python (1012).ipynb",
      "provenance": [],
      "include_colab_link": true
    }
  },
  "nbformat": 4,
  "nbformat_minor": 5
}