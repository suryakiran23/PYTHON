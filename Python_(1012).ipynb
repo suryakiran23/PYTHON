{
  "cells": [
    {
      "cell_type": "markdown",
      "metadata": {
        "id": "view-in-github",
        "colab_type": "text"
      },
      "source": [
        "<a href=\"https://colab.research.google.com/github/suryakiran23/PYTHON/blob/main/Python_(1012).ipynb\" target=\"_parent\"><img src=\"https://colab.research.google.com/assets/colab-badge.svg\" alt=\"Open In Colab\"/></a>"
      ]
    },
    {
      "cell_type": "markdown",
      "id": "0fb4d8f2",
      "metadata": {
        "id": "0fb4d8f2"
      },
      "source": [
        "## Avg of three numbers"
      ]
    },
    {
      "cell_type": "code",
      "execution_count": null,
      "id": "cc0b37b8",
      "metadata": {
        "id": "cc0b37b8",
        "outputId": "e072521e-b918-4574-fde4-6ae58cccce84"
      },
      "outputs": [
        {
          "name": "stdout",
          "output_type": "stream",
          "text": [
            "20.0\n",
            "<class 'float'>\n"
          ]
        }
      ],
      "source": [
        "a=10;b=20;c=30\n",
        "d=(a+b+c)/3\n",
        "print(d)\n",
        "print(type(d))\n"
      ]
    },
    {
      "cell_type": "markdown",
      "id": "751af435",
      "metadata": {
        "id": "751af435"
      },
      "source": [
        "## Multi of two numbers"
      ]
    },
    {
      "cell_type": "code",
      "execution_count": null,
      "id": "9a9de076",
      "metadata": {
        "id": "9a9de076",
        "outputId": "8fdbba8b-90ae-4348-cb43-99248c24a763"
      },
      "outputs": [
        {
          "name": "stdout",
          "output_type": "stream",
          "text": [
            "<class 'int'>\n",
            "multi of the given two numbers:  200\n"
          ]
        }
      ],
      "source": [
        "a=10;b=20\n",
        "mult=a*b\n",
        "print(type\n",
        "    (mult))\n",
        "print(\"multi of the given two numbers: \",mult)"
      ]
    },
    {
      "cell_type": "markdown",
      "id": "056ba211",
      "metadata": {
        "id": "056ba211"
      },
      "source": [
        "## dynamic addition of two numbers\n"
      ]
    },
    {
      "cell_type": "code",
      "execution_count": null,
      "id": "27dabfa1",
      "metadata": {
        "id": "27dabfa1",
        "outputId": "da92ebc6-fc4e-43cb-9365-f3f9526e79a3"
      },
      "outputs": [
        {
          "name": "stdout",
          "output_type": "stream",
          "text": [
            "ENTER A NUMBER2\n",
            "enter the second number3\n",
            "the sum of two number:  5\n"
          ]
        }
      ],
      "source": [
        "a=int(input( \"ENTER A NUMBER\"))\n",
        "b=int(input(\"enter the second number\"))\n",
        "c=a+b\n",
        "print(\"the sum of two number: \",c)"
      ]
    },
    {
      "cell_type": "code",
      "execution_count": null,
      "id": "33518d19",
      "metadata": {
        "id": "33518d19",
        "outputId": "efd750f0-7062-4e78-e678-887b7a1d52b5"
      },
      "outputs": [
        {
          "name": "stdout",
          "output_type": "stream",
          "text": [
            "ENTER A NUMBER2\n",
            "enter the second number3\n",
            "kiran\n",
            "<class 'str'>\n",
            "the sum of two number:  5\n"
          ]
        }
      ],
      "source": [
        "a=int(input( \"ENTER A NUMBER\"));b=int(input(\"enter the second number\"))\n",
        "c=a+b\n",
        "d=\"ki\";e=\"ran\"\n",
        "f=d+e\n",
        "print(f)\n",
        "print(type(f))\n",
        "print(\"the sum of two number: \",c)"
      ]
    },
    {
      "cell_type": "markdown",
      "id": "b9869a1f",
      "metadata": {
        "id": "b9869a1f"
      },
      "source": [
        "## coversion of data types"
      ]
    },
    {
      "cell_type": "markdown",
      "id": "e15f5c5d",
      "metadata": {
        "id": "e15f5c5d"
      },
      "source": [
        "### covert int to float"
      ]
    },
    {
      "cell_type": "code",
      "execution_count": null,
      "id": "87a10ff0",
      "metadata": {
        "id": "87a10ff0",
        "outputId": "c6f1f7c3-0a58-4bc7-941c-06d29604c0e8"
      },
      "outputs": [
        {
          "name": "stdout",
          "output_type": "stream",
          "text": [
            "10.0\n",
            "<class 'float'>\n"
          ]
        }
      ],
      "source": [
        "a=10;b=float(a)\n",
        "print(b)\n",
        "print(type(b))"
      ]
    },
    {
      "cell_type": "markdown",
      "id": "49118fc9",
      "metadata": {
        "id": "49118fc9"
      },
      "source": [
        "### covert float to int"
      ]
    },
    {
      "cell_type": "code",
      "execution_count": null,
      "id": "6b51b68f",
      "metadata": {
        "id": "6b51b68f",
        "outputId": "083241c0-a0d3-46ec-9c88-4567d94fca13"
      },
      "outputs": [
        {
          "name": "stdout",
          "output_type": "stream",
          "text": [
            "10\n",
            "<class 'int'>\n"
          ]
        }
      ],
      "source": [
        "a=10.0;b=int(a)\n",
        "print(b)\n",
        "print(type(b))"
      ]
    },
    {
      "cell_type": "code",
      "execution_count": null,
      "id": "6c0bf14b",
      "metadata": {
        "id": "6c0bf14b",
        "outputId": "44da5f66-0b84-417f-c517-8d02768904c4"
      },
      "outputs": [
        {
          "name": "stdout",
          "output_type": "stream",
          "text": [
            "10 <class 'int'>\n",
            "10.0 <class 'float'>\n"
          ]
        }
      ],
      "source": [
        "a=10.0;b=int(a)\n",
        "print(b,type(b))\n",
        "c=float(b)\n",
        "print(c,type(c))"
      ]
    },
    {
      "cell_type": "markdown",
      "id": "58b836dc",
      "metadata": {
        "id": "58b836dc"
      },
      "source": [
        "## covert int to str (strn to int isn't possible with alphabet)\n"
      ]
    },
    {
      "cell_type": "code",
      "execution_count": null,
      "id": "686b5fd6",
      "metadata": {
        "id": "686b5fd6",
        "outputId": "cfbc0b79-e496-4fd5-e2e4-14267daaf118"
      },
      "outputs": [
        {
          "name": "stdout",
          "output_type": "stream",
          "text": [
            "10 <class 'str'>\n",
            "10 <class 'int'>\n"
          ]
        }
      ],
      "source": [
        "#strn to int isn't possible with alphabet\n",
        "a=10;b=str(a)\n",
        "print(b,type(b))\n",
        "c=int(b)\n",
        "print(c,type(c))"
      ]
    },
    {
      "cell_type": "markdown",
      "id": "0ce75177",
      "metadata": {
        "id": "0ce75177"
      },
      "source": [
        "## boolean function"
      ]
    },
    {
      "cell_type": "code",
      "execution_count": null,
      "id": "37c6ee07",
      "metadata": {
        "id": "37c6ee07",
        "outputId": "ba46522e-8030-4831-9612-d52ef94422d2"
      },
      "outputs": [
        {
          "name": "stdout",
          "output_type": "stream",
          "text": [
            "True\n",
            "<class 'int'>\n",
            "True\n",
            "<class 'float'>\n"
          ]
        }
      ],
      "source": [
        "a=10;b=float(a)\n",
        "print(bool(a));print (type(a))\n",
        "print(bool(b));print(type(b))"
      ]
    },
    {
      "cell_type": "code",
      "execution_count": null,
      "id": "6f9fee1a",
      "metadata": {
        "id": "6f9fee1a",
        "outputId": "095c2bca-1a3e-483c-a2e4-1d210f35284a"
      },
      "outputs": [
        {
          "name": "stdout",
          "output_type": "stream",
          "text": [
            "enter num to check boolean\n",
            "enter num 1: 2\n",
            "enter num2: 3\n",
            "check boolean\n",
            "True True <class 'int'> <class 'float'>\n"
          ]
        }
      ],
      "source": [
        "print(\"enter num to check boolean\");a=int(input(\"enter num 1: \"));b=float(input(\"enter num2: \" ))\n",
        "print(\"check boolean\")\n",
        "print(bool(a),bool(b),type(a),type(b))"
      ]
    },
    {
      "cell_type": "code",
      "execution_count": null,
      "id": "c9cb60bf",
      "metadata": {
        "id": "c9cb60bf",
        "outputId": "5cd55622-3638-456a-d633-8af1f05a3707"
      },
      "outputs": [
        {
          "name": "stdout",
          "output_type": "stream",
          "text": [
            "False <class 'bool'>\n",
            "0\n"
          ]
        }
      ],
      "source": [
        "a=10;b=15\n",
        "c=a>b\n",
        "print(bool(c),type(c))\n",
        "print(int(c))"
      ]
    },
    {
      "cell_type": "code",
      "execution_count": null,
      "id": "9575bf1a",
      "metadata": {
        "id": "9575bf1a",
        "outputId": "82e2a5ff-36e6-471a-ec7b-048f14f333c7"
      },
      "outputs": [
        {
          "name": "stdout",
          "output_type": "stream",
          "text": [
            "True False <class 'bool'> <class 'bool'>\n"
          ]
        }
      ],
      "source": [
        "a=10;b=5\n",
        "c=a>b;d=b>a;\n",
        "print((c),(d),type(c),type(d))"
      ]
    },
    {
      "cell_type": "code",
      "execution_count": null,
      "id": "7c803907",
      "metadata": {
        "id": "7c803907",
        "outputId": "078d5e8a-1c0a-4138-f94e-8929d2d4fdcd"
      },
      "outputs": [
        {
          "name": "stdout",
          "output_type": "stream",
          "text": [
            "True <class 'bool'>\n",
            "1 <class 'bool'>\n"
          ]
        }
      ],
      "source": [
        "a=bool(10)\n",
        "print((a),type(a))\n",
        "print(int(a),type(a))"
      ]
    },
    {
      "cell_type": "markdown",
      "id": "104069fd",
      "metadata": {
        "id": "104069fd"
      },
      "source": [
        "## complex\n"
      ]
    },
    {
      "cell_type": "code",
      "execution_count": null,
      "id": "910d82a7",
      "metadata": {
        "id": "910d82a7",
        "outputId": "1d8658ca-5ae3-405e-e761-c31a7934241e"
      },
      "outputs": [
        {
          "name": "stdout",
          "output_type": "stream",
          "text": [
            "(5+0j)\n"
          ]
        }
      ],
      "source": [
        "a=10\n",
        "print(complex(b))"
      ]
    },
    {
      "cell_type": "code",
      "execution_count": null,
      "id": "163b2c03",
      "metadata": {
        "id": "163b2c03",
        "outputId": "9f2aeae8-f623-4026-c986-19f369c7f5cb"
      },
      "outputs": [
        {
          "name": "stdout",
          "output_type": "stream",
          "text": [
            "True (23+0j) 23.0\n"
          ]
        }
      ],
      "source": [
        "a=23\n",
        "print(bool(a),complex(a),float(a))"
      ]
    },
    {
      "cell_type": "code",
      "execution_count": null,
      "id": "b0836b52",
      "metadata": {
        "id": "b0836b52",
        "outputId": "8346c2e2-e35e-4c14-ed54-0c763c115d62"
      },
      "outputs": [
        {
          "name": "stdout",
          "output_type": "stream",
          "text": [
            "<class 'complex'>\n"
          ]
        },
        {
          "ename": "TypeError",
          "evalue": "can't convert complex to int",
          "output_type": "error",
          "traceback": [
            "\u001b[1;31m---------------------------------------------------------------------------\u001b[0m",
            "\u001b[1;31mTypeError\u001b[0m                                 Traceback (most recent call last)",
            "\u001b[1;32m~\\AppData\\Local\\Temp/ipykernel_10780/3750108827.py\u001b[0m in \u001b[0;36m<module>\u001b[1;34m\u001b[0m\n\u001b[0;32m      1\u001b[0m \u001b[0ma\u001b[0m\u001b[1;33m=\u001b[0m\u001b[1;36m23\u001b[0m\u001b[1;33m+\u001b[0m\u001b[1;36m2j\u001b[0m\u001b[1;33m\u001b[0m\u001b[1;33m\u001b[0m\u001b[0m\n\u001b[0;32m      2\u001b[0m \u001b[0mprint\u001b[0m\u001b[1;33m(\u001b[0m\u001b[0mtype\u001b[0m\u001b[1;33m(\u001b[0m\u001b[0ma\u001b[0m\u001b[1;33m)\u001b[0m\u001b[1;33m)\u001b[0m\u001b[1;33m\u001b[0m\u001b[1;33m\u001b[0m\u001b[0m\n\u001b[1;32m----> 3\u001b[1;33m \u001b[0mprint\u001b[0m\u001b[1;33m(\u001b[0m\u001b[0mint\u001b[0m\u001b[1;33m(\u001b[0m\u001b[0ma\u001b[0m\u001b[1;33m)\u001b[0m\u001b[1;33m,\u001b[0m\u001b[0mtype\u001b[0m\u001b[1;33m(\u001b[0m\u001b[0ma\u001b[0m\u001b[1;33m)\u001b[0m\u001b[1;33m)\u001b[0m\u001b[1;33m\u001b[0m\u001b[1;33m\u001b[0m\u001b[0m\n\u001b[0m",
            "\u001b[1;31mTypeError\u001b[0m: can't convert complex to int"
          ]
        }
      ],
      "source": [
        "a=23+2j\n",
        "print(type(a))\n",
        "print(int(a),type(a))"
      ]
    },
    {
      "cell_type": "code",
      "execution_count": null,
      "id": "10155708",
      "metadata": {
        "id": "10155708",
        "outputId": "c5c10bcb-bea1-4103-d38c-4818d277dbc1"
      },
      "outputs": [
        {
          "name": "stdout",
          "output_type": "stream",
          "text": [
            "<class 'complex'>\n",
            "(23+2j) <class 'complex'>\n"
          ]
        }
      ],
      "source": [
        "a=23+2j\n",
        "print(type(a))\n",
        "print(str(a),type(a))"
      ]
    },
    {
      "cell_type": "code",
      "execution_count": null,
      "id": "5da13c4c",
      "metadata": {
        "id": "5da13c4c",
        "outputId": "5610213b-e646-4c79-bf21-a9b98614bb9d"
      },
      "outputs": [
        {
          "name": "stdout",
          "output_type": "stream",
          "text": [
            "<class 'complex'>\n"
          ]
        },
        {
          "ename": "TypeError",
          "evalue": "can't convert complex to float",
          "output_type": "error",
          "traceback": [
            "\u001b[1;31m---------------------------------------------------------------------------\u001b[0m",
            "\u001b[1;31mTypeError\u001b[0m                                 Traceback (most recent call last)",
            "\u001b[1;32m~\\AppData\\Local\\Temp/ipykernel_10780/2850350656.py\u001b[0m in \u001b[0;36m<module>\u001b[1;34m\u001b[0m\n\u001b[0;32m      1\u001b[0m \u001b[0ma\u001b[0m\u001b[1;33m=\u001b[0m\u001b[1;36m23\u001b[0m\u001b[1;33m+\u001b[0m\u001b[1;36m2j\u001b[0m\u001b[1;33m\u001b[0m\u001b[1;33m\u001b[0m\u001b[0m\n\u001b[0;32m      2\u001b[0m \u001b[0mprint\u001b[0m\u001b[1;33m(\u001b[0m\u001b[0mtype\u001b[0m\u001b[1;33m(\u001b[0m\u001b[0ma\u001b[0m\u001b[1;33m)\u001b[0m\u001b[1;33m)\u001b[0m\u001b[1;33m\u001b[0m\u001b[1;33m\u001b[0m\u001b[0m\n\u001b[1;32m----> 3\u001b[1;33m \u001b[0mprint\u001b[0m\u001b[1;33m(\u001b[0m\u001b[0mfloat\u001b[0m\u001b[1;33m(\u001b[0m\u001b[0ma\u001b[0m\u001b[1;33m)\u001b[0m\u001b[1;33m,\u001b[0m\u001b[0mtype\u001b[0m\u001b[1;33m(\u001b[0m\u001b[0ma\u001b[0m\u001b[1;33m)\u001b[0m\u001b[1;33m)\u001b[0m\u001b[1;33m\u001b[0m\u001b[1;33m\u001b[0m\u001b[0m\n\u001b[0m",
            "\u001b[1;31mTypeError\u001b[0m: can't convert complex to float"
          ]
        }
      ],
      "source": [
        "a=23+2j\n",
        "print(type(a))\n",
        "print(float(a),type(a))"
      ]
    },
    {
      "cell_type": "markdown",
      "id": "2c55a2c0",
      "metadata": {
        "id": "2c55a2c0"
      },
      "source": [
        "## PYTHON control statements \n"
      ]
    },
    {
      "cell_type": "markdown",
      "id": "3d71d49b",
      "metadata": {
        "id": "3d71d49b"
      },
      "source": [
        "## IF ELSE"
      ]
    },
    {
      "cell_type": "code",
      "execution_count": null,
      "id": "cacc4684",
      "metadata": {
        "id": "cacc4684"
      },
      "outputs": [],
      "source": [
        "a=18\n",
        "if a>18: ###indentation is necessary \n",
        "       print(\"you're eligiable for voting\")### the code should be started below the indenenation"
      ]
    },
    {
      "cell_type": "code",
      "execution_count": null,
      "id": "eebb9d20",
      "metadata": {
        "id": "eebb9d20",
        "outputId": "3d4b2973-5d55-47e7-bcec-79672d2d5c53"
      },
      "outputs": [
        {
          "name": "stdout",
          "output_type": "stream",
          "text": [
            "enter the age21\n",
            "eligible for voting\n"
          ]
        }
      ],
      "source": [
        "a=int(input(\"enter the age\"))\n",
        "if a>18:\n",
        "    print(\"eligible for voting\")\n",
        "else:\n",
        "       print(\"not eligigble\")\n"
      ]
    },
    {
      "cell_type": "code",
      "execution_count": null,
      "id": "ba4e0c5d",
      "metadata": {
        "id": "ba4e0c5d",
        "outputId": "d60cd6ce-7639-4484-d60f-985aec33ff46"
      },
      "outputs": [
        {
          "name": "stdout",
          "output_type": "stream",
          "text": [
            "enter the age18\n",
            "just eligible\n"
          ]
        }
      ],
      "source": [
        "a=int(input(\"enter the age\"))\n",
        "if a>18:\n",
        "    print(\"eligible for voting\")\n",
        "elif a==18:\n",
        "    print(\"just eligible\")\n",
        "else:\n",
        "       print(\"not eligigble\")\n"
      ]
    },
    {
      "cell_type": "code",
      "execution_count": null,
      "id": "6efa0053",
      "metadata": {
        "id": "6efa0053",
        "outputId": "95971fd1-cf78-49e8-ec1a-70d4df7cf218"
      },
      "outputs": [
        {
          "name": "stdout",
          "output_type": "stream",
          "text": [
            "enter the number2\n",
            "enter number two3\n",
            "enter the third number9\n",
            "c is max\n"
          ]
        }
      ],
      "source": [
        "a=int(input(\"enter the number\"));b=int(input(\"enter number two\"));c=int(input(\"enter the third number\"))\n",
        "if a>b and a>c:\n",
        "    print(\"a is max\")\n",
        "elif b>a and b>c :\n",
        "    print(\"b is max\")\n",
        "else :\n",
        "    print(\"c is max\")\n",
        "    "
      ]
    },
    {
      "cell_type": "code",
      "execution_count": null,
      "id": "99c26d37",
      "metadata": {
        "id": "99c26d37",
        "outputId": "07b33e6c-f146-47ef-b04e-f8c59a9502b3"
      },
      "outputs": [
        {
          "name": "stdout",
          "output_type": "stream",
          "text": [
            "enter the number2\n",
            "enter number two3\n",
            "enter the third number6\n",
            "enter the forth number9\n",
            "enter the five number4\n",
            "d is max\n"
          ]
        }
      ],
      "source": [
        "a=int(input(\"enter the number: \"));b=int(input(\"enter number two: \"));c=int(input(\"enter the third number\"));d=int(input(\"enter the forth number\"));e=int(input(\"enter the five number\"))\n",
        "if a>b and a>c and a>d and a>e:\n",
        "    print(\"a is max\")\n",
        "elif b>a and b>c and b>d and b>e:\n",
        "    print(\"b is max\")\n",
        "elif c>a and c>b and c>d and c>e:       \n",
        "    print(\"c is max\")\n",
        "elif d>a and d>b and d>c and d>e:       \n",
        "    print(\"d is max\")\n",
        "else:    \n",
        "    print(\"e is max\")"
      ]
    },
    {
      "cell_type": "code",
      "execution_count": null,
      "id": "9452a7ab",
      "metadata": {
        "id": "9452a7ab",
        "outputId": "696a4fb9-3f69-4b6c-ceb9-0c3147f59ea8"
      },
      "outputs": [
        {
          "name": "stdout",
          "output_type": "stream",
          "text": [
            "enter the marks of subjects: 6\n",
            "enter the marks of subjects: : 3\n",
            "enter the marks of subjects: 3\n",
            "enter the marks of subjects: 3\n",
            "enter the marks of the subject3\n",
            "a is max\n"
          ]
        }
      ],
      "source": [
        "a=int(input(\"enter the marks of subjects: \"));b=int(input(\"enter the marks of subjects: : \"));c=int(input(\"enter the marks of subjects: \"));d=int(input(\"enter the marks of subjects: \"));e=int(input(\"enter the marks of the subject\"))\n",
        "if a>b and a>c and a>d and a>e:\n",
        "    print(\"a is max\")\n",
        "elif b>a and b>c and b>d and b>e:\n",
        "    print(\"b is max\")\n",
        "elif c>a and c>b and c>d and c>e:       \n",
        "    print(\"c is max\")\n",
        "elif d>a and d>b and d>c and d>e:       \n",
        "    print(\"d is max\")\n",
        "else:    \n",
        "    print(\"e is max\")"
      ]
    },
    {
      "cell_type": "code",
      "execution_count": null,
      "id": "7110a6c9",
      "metadata": {
        "id": "7110a6c9",
        "outputId": "201645eb-f870-463b-fbc2-91a449324664"
      },
      "outputs": [
        {
          "name": "stdout",
          "output_type": "stream",
          "text": [
            "enter the number9\n",
            "enter the max number18\n",
            "9\n",
            "10\n",
            "11\n",
            "12\n",
            "13\n",
            "14\n",
            "15\n",
            "16\n",
            "17\n"
          ]
        }
      ],
      "source": [
        "a=int(input(\"enter the number\"));b=int(input(\"enter the max number\"))\n",
        "for i in range (a,b):\n",
        "    print (i)\n",
        "        "
      ]
    },
    {
      "cell_type": "code",
      "execution_count": null,
      "id": "3696a901",
      "metadata": {
        "id": "3696a901",
        "outputId": "3256f064-362a-47c3-c130-be94f8064cb4"
      },
      "outputs": [
        {
          "name": "stdout",
          "output_type": "stream",
          "text": [
            "enter the number2\n",
            "enter the max number100\n",
            "even number  2\n",
            "even number  4\n",
            "even number  6\n",
            "even number  8\n",
            "even number  10\n",
            "even number  12\n",
            "even number  14\n",
            "even number  16\n",
            "even number  18\n",
            "even number  20\n",
            "even number  22\n",
            "even number  24\n",
            "even number  26\n",
            "even number  28\n",
            "even number  30\n",
            "even number  32\n",
            "even number  34\n",
            "even number  36\n",
            "even number  38\n",
            "even number  40\n",
            "even number  42\n",
            "even number  44\n",
            "even number  46\n",
            "even number  48\n",
            "even number  50\n",
            "even number  52\n",
            "even number  54\n",
            "even number  56\n",
            "even number  58\n",
            "even number  60\n",
            "even number  62\n",
            "even number  64\n",
            "even number  66\n",
            "even number  68\n",
            "even number  70\n",
            "even number  72\n",
            "even number  74\n",
            "even number  76\n",
            "even number  78\n",
            "even number  80\n",
            "even number  82\n",
            "even number  84\n",
            "even number  86\n",
            "even number  88\n",
            "even number  90\n",
            "even number  92\n",
            "even number  94\n",
            "even number  96\n",
            "even number  98\n",
            "odd number  98\n"
          ]
        }
      ],
      "source": [
        "a=int(input(\"enter the number\"));b=int(input(\"enter the max number\"))\n",
        "for i in range (a,b):\n",
        "    if i%2==0:\n",
        "        print(\"even number \",i)\n",
        "else:\n",
        "    print (\"odd number \",i)\n",
        "        "
      ]
    },
    {
      "cell_type": "markdown",
      "id": "1171686a",
      "metadata": {
        "id": "1171686a"
      },
      "source": [
        "## Multi tables\n"
      ]
    },
    {
      "cell_type": "code",
      "execution_count": null,
      "id": "8d90960b",
      "metadata": {
        "id": "8d90960b",
        "outputId": "6bc5cb75-4dec-466e-a26c-82a21d9b4104"
      },
      "outputs": [
        {
          "name": "stdout",
          "output_type": "stream",
          "text": [
            "enter the number0\n",
            "enter the max number10\n",
            "even number  0\n",
            "even number  2\n",
            "even number  4\n",
            "even number  6\n",
            "even number  8\n",
            "odd number  0\n",
            "odd number  3\n",
            "odd number  6\n",
            "odd number  9\n"
          ]
        }
      ],
      "source": [
        "a=int(input(\"enter the number\"));b=int(input(\"enter the max number\"))\n",
        "for i in range (a,b,2):\n",
        "\n",
        "        print(\"even number \",i)\n",
        "for j in range (a,b,3):\n",
        "\n",
        "    print (\"odd number \",j)\n",
        "        "
      ]
    },
    {
      "cell_type": "code",
      "execution_count": null,
      "id": "99da0c52",
      "metadata": {
        "id": "99da0c52",
        "outputId": "b09f9416-3564-4504-9edb-98d0cf296e91"
      },
      "outputs": [
        {
          "name": "stdout",
          "output_type": "stream",
          "text": [
            "Enter the number to begin with 5\n",
            "enter the max number 9\n",
            "5\n",
            "6\n",
            "7\n",
            "8\n"
          ]
        }
      ],
      "source": [
        "a=int(input(\"Enter the number to begin with \"));b=int(input(\"enter the max number \"))\n",
        "for i in range (a,b):\n",
        "     print(i)"
      ]
    },
    {
      "cell_type": "markdown",
      "id": "e43379f7",
      "metadata": {
        "id": "e43379f7"
      },
      "source": [
        "## Module 2 programs in python\n",
        "\n",
        "\n"
      ]
    },
    {
      "cell_type": "code",
      "execution_count": null,
      "id": "82a1621f",
      "metadata": {
        "id": "82a1621f",
        "outputId": "aa0170d3-5683-4e6c-8f7c-7cdfa0e448cf"
      },
      "outputs": [
        {
          "name": "stdout",
          "output_type": "stream",
          "text": [
            "enter the max number 10\n",
            "enter the first number1\n",
            "55\n"
          ]
        }
      ],
      "source": [
        "a=int(input(\"enter the max number \"));b=int(input(\"enter the first number\"))\n",
        "sum=0\n",
        "while b<=a:\n",
        "    sum=sum+b\n",
        "    b=b+1\n",
        "print(sum)"
      ]
    },
    {
      "cell_type": "code",
      "execution_count": null,
      "id": "6f01d0ff",
      "metadata": {
        "id": "6f01d0ff",
        "outputId": "e5f344b0-35d1-437d-ebe7-350a5976999e"
      },
      "outputs": [
        {
          "name": "stdout",
          "output_type": "stream",
          "text": [
            "enter the first side 5\n",
            "enter the second side5\n",
            "enter the third side5\n",
            "equalilater triangle\n"
          ]
        }
      ],
      "source": [
        "a=int(input(\"enter the first side \"));b=int(input(\"enter the second side\"));c=int(input(\"enter the third side\"))\n",
        "\n",
        "if a==b and a==c and c==a:\n",
        "    \n",
        "    print(\"equalilater triangle\")\n",
        "elif a==b or a==c or  c==a:\n",
        "    \n",
        "    print(\"isoscles trinagle \")\n",
        "else:\n",
        "    print(\"scalen triangle\")\n",
        "    "
      ]
    },
    {
      "cell_type": "code",
      "execution_count": null,
      "id": "f5ef7dbe",
      "metadata": {
        "id": "f5ef7dbe",
        "outputId": "2472abf0-1cdc-4c46-8cb9-1ce0af3acfd3"
      },
      "outputs": [
        {
          "name": "stdout",
          "output_type": "stream",
          "text": [
            "enter the year 2022\n",
            "not a leap year\n"
          ]
        }
      ],
      "source": [
        "a=int(input(\"enter the year \"))\n",
        "\n",
        "if a%400==0:\n",
        "    print(\"it is a leap year\")\n",
        "elif a%100==0:\n",
        "    print(\"not a leap year \")\n",
        "elif a%4==0:\n",
        "    print(\"it is a leap year\")\n",
        "else:\n",
        "    print(\"not a leap year\")\n",
        "    "
      ]
    },
    {
      "cell_type": "code",
      "execution_count": null,
      "id": "9c5dd844",
      "metadata": {
        "id": "9c5dd844",
        "outputId": "5e9cdfff-de63-4e7a-f226-1eea946792a8"
      },
      "outputs": [
        {
          "name": "stdout",
          "output_type": "stream",
          "text": [
            "enter the number5\n",
            "enter number two2\n",
            "enter the third number1\n",
            "c is min\n"
          ]
        }
      ],
      "source": [
        "a=int(input(\"enter the number\"));b=int(input(\"enter number two\"));c=int(input(\"enter the third number\"))\n",
        "if a<b and a<c:\n",
        "    print(\"a is min\")\n",
        "elif b<a and b<c :\n",
        "    print(\"b is min\")\n",
        "else :\n",
        "    print(\"c is min\")\n",
        "    "
      ]
    },
    {
      "cell_type": "code",
      "execution_count": null,
      "id": "4372d056",
      "metadata": {
        "id": "4372d056",
        "outputId": "12087512-ebcf-4f73-a9b4-12a6c3185081"
      },
      "outputs": [
        {
          "name": "stdout",
          "output_type": "stream",
          "text": [
            "enter the  number55\n",
            "the number is divisible by both 5 and 11\n"
          ]
        }
      ],
      "source": [
        "a=int(input(\"enter the  number\"));\n",
        "if a%5==0 and a%11==0:\n",
        "    print(\"the number is divisible by both 5 and 11\")\n",
        "elif a%5==0:\n",
        "    print(\"The number is divisible by 5\")\n",
        "elif a%11==0 :\n",
        "    print(\"The number is divisible by 11\")\n",
        "else :\n",
        "    print(\"The number is not divisible by both\")\n",
        "     \n",
        " \n",
        "  \n"
      ]
    },
    {
      "cell_type": "code",
      "execution_count": null,
      "id": "3e9b2f5e",
      "metadata": {
        "id": "3e9b2f5e",
        "outputId": "15f4b53e-3371-440a-b3a4-f62469add549"
      },
      "outputs": [
        {
          "name": "stdout",
          "output_type": "stream",
          "text": [
            "enter the number to find factorial for 5\n",
            "120\n"
          ]
        }
      ],
      "source": [
        "a=int(input(\"enter the number to find factorial for \"))\n",
        "fact=1\n",
        "for i in range (1,a+1):\n",
        "    fact=fact*i\n",
        "print(fact)\n"
      ]
    },
    {
      "cell_type": "code",
      "execution_count": 3,
      "id": "8a566016",
      "metadata": {
        "colab": {
          "base_uri": "https://localhost:8080/"
        },
        "id": "8a566016",
        "outputId": "ba0fcd07-78bf-46e2-b103-68badf0a76f2"
      },
      "outputs": [
        {
          "output_type": "stream",
          "name": "stdout",
          "text": [
            "enter the number you want to find palindrome for1221\n",
            "palindrome\n"
          ]
        }
      ],
      "source": [
        "a=int(input(\"enter the number you want to find palindrome for\"))\n",
        "rev=0\n",
        "temp=a\n",
        "while temp>0:\n",
        "    rem=temp%10\n",
        "    rev=(rev*10)+rem\n",
        "    temp=temp//10\n",
        "if a==rev:\n",
        "    print(\"palindrome\")\n",
        "else:\n",
        "    print(\"not a plaindrome\")"
      ]
    },
    {
      "cell_type": "code",
      "source": [
        "a=0;b=1;n=int(input(\"enter number of terms u want to find plandrome for\"))\n",
        "print(a,b)\n",
        "for i in range(1,n):\n",
        "    nextnum=a+b \n",
        "    print(nextnum)\n",
        "    a=b \n",
        "    b=nextnum\n",
        "    i=i+1\n",
        "print(\"completion of fibonanci\")"
      ],
      "metadata": {
        "colab": {
          "base_uri": "https://localhost:8080/"
        },
        "id": "yHHILh4oHZAs",
        "outputId": "b6b07130-ddf8-46a7-972c-c6f4973f8334"
      },
      "id": "yHHILh4oHZAs",
      "execution_count": 4,
      "outputs": [
        {
          "output_type": "stream",
          "name": "stdout",
          "text": [
            "enter number of terms u want to find plandrome for56\n",
            "0 1\n",
            "1\n",
            "2\n",
            "3\n",
            "5\n",
            "8\n",
            "13\n",
            "21\n",
            "34\n",
            "55\n",
            "89\n",
            "144\n",
            "233\n",
            "377\n",
            "610\n",
            "987\n",
            "1597\n",
            "2584\n",
            "4181\n",
            "6765\n",
            "10946\n",
            "17711\n",
            "28657\n",
            "46368\n",
            "75025\n",
            "121393\n",
            "196418\n",
            "317811\n",
            "514229\n",
            "832040\n",
            "1346269\n",
            "2178309\n",
            "3524578\n",
            "5702887\n",
            "9227465\n",
            "14930352\n",
            "24157817\n",
            "39088169\n",
            "63245986\n",
            "102334155\n",
            "165580141\n",
            "267914296\n",
            "433494437\n",
            "701408733\n",
            "1134903170\n",
            "1836311903\n",
            "2971215073\n",
            "4807526976\n",
            "7778742049\n",
            "12586269025\n",
            "20365011074\n",
            "32951280099\n",
            "53316291173\n",
            "86267571272\n",
            "139583862445\n",
            "225851433717\n",
            "completion of fibonanci\n"
          ]
        }
      ]
    },
    {
      "cell_type": "code",
      "source": [
        ""
      ],
      "metadata": {
        "id": "1E8L_qBvHg10"
      },
      "id": "1E8L_qBvHg10",
      "execution_count": null,
      "outputs": []
    }
  ],
  "metadata": {
    "kernelspec": {
      "display_name": "Python 3 (ipykernel)",
      "language": "python",
      "name": "python3"
    },
    "language_info": {
      "codemirror_mode": {
        "name": "ipython",
        "version": 3
      },
      "file_extension": ".py",
      "mimetype": "text/x-python",
      "name": "python",
      "nbconvert_exporter": "python",
      "pygments_lexer": "ipython3",
      "version": "3.9.7"
    },
    "colab": {
      "name": "Python (1012).ipynb",
      "provenance": [],
      "collapsed_sections": [
        "0ce75177",
        "104069fd",
        "2c55a2c0",
        "3d71d49b",
        "1171686a"
      ],
      "include_colab_link": true
    }
  },
  "nbformat": 4,
  "nbformat_minor": 5
}