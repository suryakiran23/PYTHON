{
  "cells": [
    {
      "cell_type": "markdown",
      "metadata": {
        "id": "view-in-github",
        "colab_type": "text"
      },
      "source": [
        "<a href=\"https://colab.research.google.com/github/suryakiran23/PYTHON/blob/main/Python_(1012).ipynb\" target=\"_parent\"><img src=\"https://colab.research.google.com/assets/colab-badge.svg\" alt=\"Open In Colab\"/></a>"
      ]
    },
    {
      "cell_type": "markdown",
      "id": "0fb4d8f2",
      "metadata": {
        "id": "0fb4d8f2"
      },
      "source": [
        "## Avg of three numbers"
      ]
    },
    {
      "cell_type": "code",
      "execution_count": null,
      "id": "cc0b37b8",
      "metadata": {
        "id": "cc0b37b8",
        "outputId": "dc6fb86f-6b66-4bf6-dcb4-51b4ad8cccb3"
      },
      "outputs": [
        {
          "name": "stdout",
          "output_type": "stream",
          "text": [
            "20.0\n",
            "<class 'float'>\n"
          ]
        }
      ],
      "source": [
        "a=10;b=20;c=30\n",
        "d=(a+b+c)/3\n",
        "print(d)\n",
        "print(type(d))\n"
      ]
    },
    {
      "cell_type": "markdown",
      "id": "751af435",
      "metadata": {
        "id": "751af435"
      },
      "source": [
        "## Multi of two numbers"
      ]
    },
    {
      "cell_type": "code",
      "execution_count": null,
      "id": "9a9de076",
      "metadata": {
        "id": "9a9de076",
        "outputId": "2ed5dccc-61ad-4dfd-86c3-76e44f239fb8"
      },
      "outputs": [
        {
          "name": "stdout",
          "output_type": "stream",
          "text": [
            "<class 'int'>\n",
            "multi of the given two numbers:  200\n"
          ]
        }
      ],
      "source": [
        "a=10;b=20\n",
        "mult=a*b\n",
        "print(type\n",
        "    (mult))\n",
        "print(\"multi of the given two numbers: \",mult)"
      ]
    },
    {
      "cell_type": "markdown",
      "id": "056ba211",
      "metadata": {
        "id": "056ba211"
      },
      "source": [
        "## dynamic addition of two numbers\n"
      ]
    },
    {
      "cell_type": "code",
      "execution_count": null,
      "id": "27dabfa1",
      "metadata": {
        "id": "27dabfa1",
        "outputId": "8292ced1-af29-49c7-f256-b18bc005e6ff"
      },
      "outputs": [
        {
          "name": "stdout",
          "output_type": "stream",
          "text": [
            "ENTER A NUMBER2\n",
            "enter the second number3\n",
            "the sum of two number:  5\n"
          ]
        }
      ],
      "source": [
        "a=int(input( \"ENTER A NUMBER\"))\n",
        "b=int(input(\"enter the second number\"))\n",
        "c=a+b\n",
        "print(\"the sum of two number: \",c)"
      ]
    },
    {
      "cell_type": "code",
      "execution_count": null,
      "id": "33518d19",
      "metadata": {
        "id": "33518d19",
        "outputId": "c562be0f-48f6-4c8a-a2b1-f72b040d11c3"
      },
      "outputs": [
        {
          "name": "stdout",
          "output_type": "stream",
          "text": [
            "ENTER A NUMBER2\n",
            "enter the second number3\n",
            "kiran\n",
            "<class 'str'>\n",
            "the sum of two number:  5\n"
          ]
        }
      ],
      "source": [
        "a=int(input( \"ENTER A NUMBER\"));b=int(input(\"enter the second number\"))\n",
        "c=a+b\n",
        "d=\"ki\";e=\"ran\"\n",
        "f=d+e\n",
        "print(f)\n",
        "print(type(f))\n",
        "print(\"the sum of two number: \",c)"
      ]
    },
    {
      "cell_type": "markdown",
      "id": "b9869a1f",
      "metadata": {
        "id": "b9869a1f"
      },
      "source": [
        "## coversion of data types"
      ]
    },
    {
      "cell_type": "markdown",
      "id": "e15f5c5d",
      "metadata": {
        "id": "e15f5c5d"
      },
      "source": [
        "### covert int to float"
      ]
    },
    {
      "cell_type": "code",
      "execution_count": null,
      "id": "87a10ff0",
      "metadata": {
        "id": "87a10ff0",
        "outputId": "a0ae115c-7ef2-464e-a03c-e2f358cb235f"
      },
      "outputs": [
        {
          "name": "stdout",
          "output_type": "stream",
          "text": [
            "10.0\n",
            "<class 'float'>\n"
          ]
        }
      ],
      "source": [
        "a=10;b=float(a)\n",
        "print(b)\n",
        "print(type(b))"
      ]
    },
    {
      "cell_type": "markdown",
      "id": "49118fc9",
      "metadata": {
        "id": "49118fc9"
      },
      "source": [
        "### covert float to int"
      ]
    },
    {
      "cell_type": "code",
      "execution_count": null,
      "id": "6b51b68f",
      "metadata": {
        "id": "6b51b68f",
        "outputId": "aa5de351-5483-425d-9b48-71be73b32c0c"
      },
      "outputs": [
        {
          "name": "stdout",
          "output_type": "stream",
          "text": [
            "10\n",
            "<class 'int'>\n"
          ]
        }
      ],
      "source": [
        "a=10.0;b=int(a)\n",
        "print(b)\n",
        "print(type(b))"
      ]
    },
    {
      "cell_type": "code",
      "execution_count": null,
      "id": "6c0bf14b",
      "metadata": {
        "id": "6c0bf14b",
        "outputId": "f814af81-6bac-4283-eba9-c537b0f9b7e7"
      },
      "outputs": [
        {
          "name": "stdout",
          "output_type": "stream",
          "text": [
            "10 <class 'int'>\n",
            "10.0 <class 'float'>\n"
          ]
        }
      ],
      "source": [
        "a=10.0;b=int(a)\n",
        "print(b,type(b))\n",
        "c=float(b)\n",
        "print(c,type(c))"
      ]
    },
    {
      "cell_type": "markdown",
      "id": "58b836dc",
      "metadata": {
        "id": "58b836dc"
      },
      "source": [
        "## covert int to str (strn to int isn't possible with alphabet)\n"
      ]
    },
    {
      "cell_type": "code",
      "execution_count": null,
      "id": "686b5fd6",
      "metadata": {
        "id": "686b5fd6",
        "outputId": "af152d1a-219e-4b75-f828-890fb222a421"
      },
      "outputs": [
        {
          "name": "stdout",
          "output_type": "stream",
          "text": [
            "10 <class 'str'>\n",
            "10 <class 'int'>\n"
          ]
        }
      ],
      "source": [
        "#strn to int isn't possible with alphabet\n",
        "a=10;b=str(a)\n",
        "print(b,type(b))\n",
        "c=int(b)\n",
        "print(c,type(c))"
      ]
    },
    {
      "cell_type": "markdown",
      "id": "0ce75177",
      "metadata": {
        "id": "0ce75177"
      },
      "source": [
        "## boolean function"
      ]
    },
    {
      "cell_type": "code",
      "execution_count": null,
      "id": "37c6ee07",
      "metadata": {
        "id": "37c6ee07",
        "outputId": "14d3d877-431b-455c-9163-e24d06a0e3cd"
      },
      "outputs": [
        {
          "name": "stdout",
          "output_type": "stream",
          "text": [
            "True\n",
            "<class 'int'>\n",
            "True\n",
            "<class 'float'>\n"
          ]
        }
      ],
      "source": [
        "a=10;b=float(a)\n",
        "print(bool(a));print (type(a))\n",
        "print(bool(b));print(type(b))"
      ]
    },
    {
      "cell_type": "code",
      "execution_count": null,
      "id": "6f9fee1a",
      "metadata": {
        "id": "6f9fee1a",
        "outputId": "2e4355a1-3171-43eb-d11e-52f021918519"
      },
      "outputs": [
        {
          "name": "stdout",
          "output_type": "stream",
          "text": [
            "enter num to check boolean\n",
            "enter num 1: 2\n",
            "enter num2: 3\n",
            "check boolean\n",
            "True True <class 'int'> <class 'float'>\n"
          ]
        }
      ],
      "source": [
        "print(\"enter num to check boolean\");a=int(input(\"enter num 1: \"));b=float(input(\"enter num2: \" ))\n",
        "print(\"check boolean\")\n",
        "print(bool(a),bool(b),type(a),type(b))"
      ]
    },
    {
      "cell_type": "code",
      "execution_count": null,
      "id": "c9cb60bf",
      "metadata": {
        "id": "c9cb60bf",
        "outputId": "afd87984-e8ee-4518-fd55-e8b491dba6ee"
      },
      "outputs": [
        {
          "name": "stdout",
          "output_type": "stream",
          "text": [
            "False <class 'bool'>\n",
            "0\n"
          ]
        }
      ],
      "source": [
        "a=10;b=15\n",
        "c=a>b\n",
        "print(bool(c),type(c))\n",
        "print(int(c))"
      ]
    },
    {
      "cell_type": "code",
      "execution_count": null,
      "id": "9575bf1a",
      "metadata": {
        "id": "9575bf1a",
        "outputId": "99d80bc5-aa4f-4021-ce77-ef134ba247f1"
      },
      "outputs": [
        {
          "name": "stdout",
          "output_type": "stream",
          "text": [
            "True False <class 'bool'> <class 'bool'>\n"
          ]
        }
      ],
      "source": [
        "a=10;b=5\n",
        "c=a>b;d=b>a;\n",
        "print((c),(d),type(c),type(d))"
      ]
    },
    {
      "cell_type": "code",
      "execution_count": null,
      "id": "7c803907",
      "metadata": {
        "id": "7c803907",
        "outputId": "b219b6c4-b6b4-4c0f-8bf5-032c545f1cd0"
      },
      "outputs": [
        {
          "name": "stdout",
          "output_type": "stream",
          "text": [
            "True <class 'bool'>\n",
            "1 <class 'bool'>\n"
          ]
        }
      ],
      "source": [
        "a=bool(10)\n",
        "print((a),type(a))\n",
        "print(int(a),type(a))"
      ]
    },
    {
      "cell_type": "markdown",
      "id": "104069fd",
      "metadata": {
        "id": "104069fd"
      },
      "source": [
        "## complex\n"
      ]
    },
    {
      "cell_type": "code",
      "execution_count": null,
      "id": "910d82a7",
      "metadata": {
        "id": "910d82a7",
        "outputId": "28e1c31b-a677-4fe6-dcb6-b4db822da939"
      },
      "outputs": [
        {
          "name": "stdout",
          "output_type": "stream",
          "text": [
            "(5+0j)\n"
          ]
        }
      ],
      "source": [
        "a=10\n",
        "print(complex(b))"
      ]
    },
    {
      "cell_type": "code",
      "execution_count": null,
      "id": "163b2c03",
      "metadata": {
        "id": "163b2c03",
        "outputId": "6c6ac383-d0ba-47c3-d32d-4624b52cb932"
      },
      "outputs": [
        {
          "name": "stdout",
          "output_type": "stream",
          "text": [
            "True (23+0j) 23.0\n"
          ]
        }
      ],
      "source": [
        "a=23\n",
        "print(bool(a),complex(a),float(a))"
      ]
    },
    {
      "cell_type": "code",
      "execution_count": null,
      "id": "b0836b52",
      "metadata": {
        "id": "b0836b52",
        "outputId": "806c15f3-d2f4-4b64-dd9b-329138114ada"
      },
      "outputs": [
        {
          "name": "stdout",
          "output_type": "stream",
          "text": [
            "<class 'complex'>\n"
          ]
        },
        {
          "ename": "TypeError",
          "evalue": "can't convert complex to int",
          "output_type": "error",
          "traceback": [
            "\u001b[1;31m---------------------------------------------------------------------------\u001b[0m",
            "\u001b[1;31mTypeError\u001b[0m                                 Traceback (most recent call last)",
            "\u001b[1;32m~\\AppData\\Local\\Temp/ipykernel_10780/3750108827.py\u001b[0m in \u001b[0;36m<module>\u001b[1;34m\u001b[0m\n\u001b[0;32m      1\u001b[0m \u001b[0ma\u001b[0m\u001b[1;33m=\u001b[0m\u001b[1;36m23\u001b[0m\u001b[1;33m+\u001b[0m\u001b[1;36m2j\u001b[0m\u001b[1;33m\u001b[0m\u001b[1;33m\u001b[0m\u001b[0m\n\u001b[0;32m      2\u001b[0m \u001b[0mprint\u001b[0m\u001b[1;33m(\u001b[0m\u001b[0mtype\u001b[0m\u001b[1;33m(\u001b[0m\u001b[0ma\u001b[0m\u001b[1;33m)\u001b[0m\u001b[1;33m)\u001b[0m\u001b[1;33m\u001b[0m\u001b[1;33m\u001b[0m\u001b[0m\n\u001b[1;32m----> 3\u001b[1;33m \u001b[0mprint\u001b[0m\u001b[1;33m(\u001b[0m\u001b[0mint\u001b[0m\u001b[1;33m(\u001b[0m\u001b[0ma\u001b[0m\u001b[1;33m)\u001b[0m\u001b[1;33m,\u001b[0m\u001b[0mtype\u001b[0m\u001b[1;33m(\u001b[0m\u001b[0ma\u001b[0m\u001b[1;33m)\u001b[0m\u001b[1;33m)\u001b[0m\u001b[1;33m\u001b[0m\u001b[1;33m\u001b[0m\u001b[0m\n\u001b[0m",
            "\u001b[1;31mTypeError\u001b[0m: can't convert complex to int"
          ]
        }
      ],
      "source": [
        "a=23+2j\n",
        "print(type(a))\n",
        "print(int(a),type(a))"
      ]
    },
    {
      "cell_type": "code",
      "execution_count": null,
      "id": "10155708",
      "metadata": {
        "id": "10155708",
        "outputId": "1b564e81-ea12-4b3a-f8ec-05c3961ca38b"
      },
      "outputs": [
        {
          "name": "stdout",
          "output_type": "stream",
          "text": [
            "<class 'complex'>\n",
            "(23+2j) <class 'complex'>\n"
          ]
        }
      ],
      "source": [
        "a=23+2j\n",
        "print(type(a))\n",
        "print(str(a),type(a))"
      ]
    },
    {
      "cell_type": "code",
      "execution_count": null,
      "id": "5da13c4c",
      "metadata": {
        "id": "5da13c4c",
        "outputId": "c209c078-1ac6-41c4-bd35-f88614d2ea52"
      },
      "outputs": [
        {
          "name": "stdout",
          "output_type": "stream",
          "text": [
            "<class 'complex'>\n"
          ]
        },
        {
          "ename": "TypeError",
          "evalue": "can't convert complex to float",
          "output_type": "error",
          "traceback": [
            "\u001b[1;31m---------------------------------------------------------------------------\u001b[0m",
            "\u001b[1;31mTypeError\u001b[0m                                 Traceback (most recent call last)",
            "\u001b[1;32m~\\AppData\\Local\\Temp/ipykernel_10780/2850350656.py\u001b[0m in \u001b[0;36m<module>\u001b[1;34m\u001b[0m\n\u001b[0;32m      1\u001b[0m \u001b[0ma\u001b[0m\u001b[1;33m=\u001b[0m\u001b[1;36m23\u001b[0m\u001b[1;33m+\u001b[0m\u001b[1;36m2j\u001b[0m\u001b[1;33m\u001b[0m\u001b[1;33m\u001b[0m\u001b[0m\n\u001b[0;32m      2\u001b[0m \u001b[0mprint\u001b[0m\u001b[1;33m(\u001b[0m\u001b[0mtype\u001b[0m\u001b[1;33m(\u001b[0m\u001b[0ma\u001b[0m\u001b[1;33m)\u001b[0m\u001b[1;33m)\u001b[0m\u001b[1;33m\u001b[0m\u001b[1;33m\u001b[0m\u001b[0m\n\u001b[1;32m----> 3\u001b[1;33m \u001b[0mprint\u001b[0m\u001b[1;33m(\u001b[0m\u001b[0mfloat\u001b[0m\u001b[1;33m(\u001b[0m\u001b[0ma\u001b[0m\u001b[1;33m)\u001b[0m\u001b[1;33m,\u001b[0m\u001b[0mtype\u001b[0m\u001b[1;33m(\u001b[0m\u001b[0ma\u001b[0m\u001b[1;33m)\u001b[0m\u001b[1;33m)\u001b[0m\u001b[1;33m\u001b[0m\u001b[1;33m\u001b[0m\u001b[0m\n\u001b[0m",
            "\u001b[1;31mTypeError\u001b[0m: can't convert complex to float"
          ]
        }
      ],
      "source": [
        "a=23+2j\n",
        "print(type(a))\n",
        "print(float(a),type(a))"
      ]
    },
    {
      "cell_type": "markdown",
      "id": "2c55a2c0",
      "metadata": {
        "id": "2c55a2c0"
      },
      "source": [
        "## PYTHON control statements \n"
      ]
    },
    {
      "cell_type": "markdown",
      "id": "3d71d49b",
      "metadata": {
        "id": "3d71d49b"
      },
      "source": [
        "## IF ELSE"
      ]
    },
    {
      "cell_type": "code",
      "execution_count": null,
      "id": "cacc4684",
      "metadata": {
        "id": "cacc4684"
      },
      "outputs": [],
      "source": [
        "a=18\n",
        "if a>18: ###indentation is necessary \n",
        "       print(\"you're eligiable for voting\")### the code should be started below the indenenation"
      ]
    },
    {
      "cell_type": "code",
      "execution_count": null,
      "id": "eebb9d20",
      "metadata": {
        "id": "eebb9d20",
        "outputId": "853a3e8b-e5ea-4040-8f7b-17e64092f553"
      },
      "outputs": [
        {
          "name": "stdout",
          "output_type": "stream",
          "text": [
            "enter the age21\n",
            "eligible for voting\n"
          ]
        }
      ],
      "source": [
        "a=int(input(\"enter the age\"))\n",
        "if a>18:\n",
        "    print(\"eligible for voting\")\n",
        "else:\n",
        "       print(\"not eligigble\")\n"
      ]
    },
    {
      "cell_type": "code",
      "execution_count": null,
      "id": "ba4e0c5d",
      "metadata": {
        "id": "ba4e0c5d",
        "outputId": "db9e152b-b30f-44b6-df3a-9bc9d11e6da7"
      },
      "outputs": [
        {
          "name": "stdout",
          "output_type": "stream",
          "text": [
            "enter the age18\n",
            "just eligible\n"
          ]
        }
      ],
      "source": [
        "a=int(input(\"enter the age\"))\n",
        "if a>18:\n",
        "    print(\"eligible for voting\")\n",
        "elif a==18:\n",
        "    print(\"just eligible\")\n",
        "else:\n",
        "       print(\"not eligigble\")\n"
      ]
    },
    {
      "cell_type": "code",
      "execution_count": null,
      "id": "6efa0053",
      "metadata": {
        "id": "6efa0053",
        "outputId": "61c1ff35-cfbf-4257-c2e0-dd53a420dfc4"
      },
      "outputs": [
        {
          "name": "stdout",
          "output_type": "stream",
          "text": [
            "enter the number2\n",
            "enter number two3\n",
            "enter the third number9\n",
            "c is max\n"
          ]
        }
      ],
      "source": [
        "a=int(input(\"enter the number\"));b=int(input(\"enter number two\"));c=int(input(\"enter the third number\"))\n",
        "if a>b and a>c:\n",
        "    print(\"a is max\")\n",
        "elif b>a and b>c :\n",
        "    print(\"b is max\")\n",
        "else :\n",
        "    print(\"c is max\")\n",
        "    "
      ]
    },
    {
      "cell_type": "code",
      "execution_count": null,
      "id": "99c26d37",
      "metadata": {
        "id": "99c26d37",
        "outputId": "42428169-52d3-4a47-ff91-001269410da0"
      },
      "outputs": [
        {
          "name": "stdout",
          "output_type": "stream",
          "text": [
            "enter the number2\n",
            "enter number two3\n",
            "enter the third number6\n",
            "enter the forth number9\n",
            "enter the five number4\n",
            "d is max\n"
          ]
        }
      ],
      "source": [
        "a=int(input(\"enter the number: \"));b=int(input(\"enter number two: \"));c=int(input(\"enter the third number\"));d=int(input(\"enter the forth number\"));e=int(input(\"enter the five number\"))\n",
        "if a>b and a>c and a>d and a>e:\n",
        "    print(\"a is max\")\n",
        "elif b>a and b>c and b>d and b>e:\n",
        "    print(\"b is max\")\n",
        "elif c>a and c>b and c>d and c>e:       \n",
        "    print(\"c is max\")\n",
        "elif d>a and d>b and d>c and d>e:       \n",
        "    print(\"d is max\")\n",
        "else:    \n",
        "    print(\"e is max\")"
      ]
    },
    {
      "cell_type": "code",
      "execution_count": null,
      "id": "9452a7ab",
      "metadata": {
        "id": "9452a7ab",
        "outputId": "f68b950e-5a42-4894-ec17-85c83b37d7d3"
      },
      "outputs": [
        {
          "name": "stdout",
          "output_type": "stream",
          "text": [
            "enter the marks of subjects: 6\n",
            "enter the marks of subjects: : 3\n",
            "enter the marks of subjects: 3\n",
            "enter the marks of subjects: 3\n",
            "enter the marks of the subject3\n",
            "a is max\n"
          ]
        }
      ],
      "source": [
        "a=int(input(\"enter the marks of subjects: \"));b=int(input(\"enter the marks of subjects: : \"));c=int(input(\"enter the marks of subjects: \"));d=int(input(\"enter the marks of subjects: \"));e=int(input(\"enter the marks of the subject\"))\n",
        "if a>b and a>c and a>d and a>e:\n",
        "    print(\"a is max\")\n",
        "elif b>a and b>c and b>d and b>e:\n",
        "    print(\"b is max\")\n",
        "elif c>a and c>b and c>d and c>e:       \n",
        "    print(\"c is max\")\n",
        "elif d>a and d>b and d>c and d>e:       \n",
        "    print(\"d is max\")\n",
        "else:    \n",
        "    print(\"e is max\")"
      ]
    },
    {
      "cell_type": "code",
      "execution_count": null,
      "id": "7110a6c9",
      "metadata": {
        "id": "7110a6c9",
        "outputId": "5a2bba6e-9432-4ec4-fd40-398e56675e70"
      },
      "outputs": [
        {
          "name": "stdout",
          "output_type": "stream",
          "text": [
            "enter the number9\n",
            "enter the max number18\n",
            "9\n",
            "10\n",
            "11\n",
            "12\n",
            "13\n",
            "14\n",
            "15\n",
            "16\n",
            "17\n"
          ]
        }
      ],
      "source": [
        "a=int(input(\"enter the number\"));b=int(input(\"enter the max number\"))\n",
        "for i in range (a,b):\n",
        "    print (i)\n",
        "        "
      ]
    },
    {
      "cell_type": "code",
      "execution_count": null,
      "id": "3696a901",
      "metadata": {
        "id": "3696a901",
        "outputId": "ddeaeb71-022a-484d-bce6-0b78b5aa87f2"
      },
      "outputs": [
        {
          "name": "stdout",
          "output_type": "stream",
          "text": [
            "enter the number2\n",
            "enter the max number100\n",
            "even number  2\n",
            "even number  4\n",
            "even number  6\n",
            "even number  8\n",
            "even number  10\n",
            "even number  12\n",
            "even number  14\n",
            "even number  16\n",
            "even number  18\n",
            "even number  20\n",
            "even number  22\n",
            "even number  24\n",
            "even number  26\n",
            "even number  28\n",
            "even number  30\n",
            "even number  32\n",
            "even number  34\n",
            "even number  36\n",
            "even number  38\n",
            "even number  40\n",
            "even number  42\n",
            "even number  44\n",
            "even number  46\n",
            "even number  48\n",
            "even number  50\n",
            "even number  52\n",
            "even number  54\n",
            "even number  56\n",
            "even number  58\n",
            "even number  60\n",
            "even number  62\n",
            "even number  64\n",
            "even number  66\n",
            "even number  68\n",
            "even number  70\n",
            "even number  72\n",
            "even number  74\n",
            "even number  76\n",
            "even number  78\n",
            "even number  80\n",
            "even number  82\n",
            "even number  84\n",
            "even number  86\n",
            "even number  88\n",
            "even number  90\n",
            "even number  92\n",
            "even number  94\n",
            "even number  96\n",
            "even number  98\n",
            "odd number  98\n"
          ]
        }
      ],
      "source": [
        "a=int(input(\"enter the number\"));b=int(input(\"enter the max number\"))\n",
        "for i in range (a,b):\n",
        "    if i%2==0:\n",
        "        print(\"even number \",i)\n",
        "else:\n",
        "    print (\"odd number \",i)\n",
        "        "
      ]
    },
    {
      "cell_type": "markdown",
      "id": "1171686a",
      "metadata": {
        "id": "1171686a"
      },
      "source": [
        "## Multi tables\n"
      ]
    },
    {
      "cell_type": "code",
      "execution_count": null,
      "id": "8d90960b",
      "metadata": {
        "id": "8d90960b",
        "outputId": "9b0d6531-49f9-4b3e-a734-e3f8df2da42b"
      },
      "outputs": [
        {
          "name": "stdout",
          "output_type": "stream",
          "text": [
            "enter the number0\n",
            "enter the max number10\n",
            "even number  0\n",
            "even number  2\n",
            "even number  4\n",
            "even number  6\n",
            "even number  8\n",
            "odd number  0\n",
            "odd number  3\n",
            "odd number  6\n",
            "odd number  9\n"
          ]
        }
      ],
      "source": [
        "a=int(input(\"enter the number\"));b=int(input(\"enter the max number\"))\n",
        "for i in range (a,b,2):\n",
        "\n",
        "        print(\"even number \",i)\n",
        "for j in range (a,b,3):\n",
        "\n",
        "    print (\"odd number \",j)\n",
        "        "
      ]
    },
    {
      "cell_type": "code",
      "execution_count": null,
      "id": "99da0c52",
      "metadata": {
        "id": "99da0c52",
        "outputId": "8777458d-0f29-46e9-dd1c-a3dace0ad01d"
      },
      "outputs": [
        {
          "name": "stdout",
          "output_type": "stream",
          "text": [
            "Enter the number to begin with 5\n",
            "enter the max number 9\n",
            "5\n",
            "6\n",
            "7\n",
            "8\n"
          ]
        }
      ],
      "source": [
        "a=int(input(\"Enter the number to begin with \"));b=int(input(\"enter the max number \"))\n",
        "for i in range (a,b):\n",
        "     print(i)"
      ]
    },
    {
      "cell_type": "markdown",
      "id": "e43379f7",
      "metadata": {
        "id": "e43379f7"
      },
      "source": [
        "## Module 2 programs in python\n",
        "\n",
        "\n"
      ]
    },
    {
      "cell_type": "code",
      "execution_count": null,
      "id": "82a1621f",
      "metadata": {
        "id": "82a1621f",
        "outputId": "302e04a7-328f-4dde-faee-746c87a0bc71"
      },
      "outputs": [
        {
          "name": "stdout",
          "output_type": "stream",
          "text": [
            "enter the max number 10\n",
            "enter the first number1\n",
            "55\n"
          ]
        }
      ],
      "source": [
        "a=int(input(\"enter the max number \"));b=int(input(\"enter the first number\"))\n",
        "sum=0\n",
        "while b<=a:\n",
        "    sum=sum+b\n",
        "    b=b+1\n",
        "print(sum)"
      ]
    },
    {
      "cell_type": "code",
      "execution_count": null,
      "id": "6f01d0ff",
      "metadata": {
        "id": "6f01d0ff",
        "outputId": "7502efb2-81b0-47b3-f7d6-420b18b7f1be"
      },
      "outputs": [
        {
          "name": "stdout",
          "output_type": "stream",
          "text": [
            "enter the first side 5\n",
            "enter the second side5\n",
            "enter the third side5\n",
            "equalilater triangle\n"
          ]
        }
      ],
      "source": [
        "a=int(input(\"enter the first side \"));b=int(input(\"enter the second side\"));c=int(input(\"enter the third side\"))\n",
        "\n",
        "if a==b and a==c and c==a:\n",
        "    \n",
        "    print(\"equalilater triangle\")\n",
        "elif a==b or a==c or  c==a:\n",
        "    \n",
        "    print(\"isoscles trinagle \")\n",
        "else:\n",
        "    print(\"scalen triangle\")\n",
        "    "
      ]
    },
    {
      "cell_type": "code",
      "execution_count": null,
      "id": "f5ef7dbe",
      "metadata": {
        "id": "f5ef7dbe",
        "outputId": "01e5be06-1c0a-47a9-91cf-60d3085471ec"
      },
      "outputs": [
        {
          "name": "stdout",
          "output_type": "stream",
          "text": [
            "enter the year 2022\n",
            "not a leap year\n"
          ]
        }
      ],
      "source": [
        "a=int(input(\"enter the year \"))\n",
        "\n",
        "if a%400==0:\n",
        "    print(\"it is a leap year\")\n",
        "elif a%100==0:\n",
        "    print(\"not a leap year \")\n",
        "elif a%4==0:\n",
        "    print(\"it is a leap year\")\n",
        "else:\n",
        "    print(\"not a leap year\")\n",
        "    "
      ]
    },
    {
      "cell_type": "code",
      "execution_count": null,
      "id": "9c5dd844",
      "metadata": {
        "id": "9c5dd844",
        "outputId": "a0143ed8-97e4-4289-8dfd-b9379af545e9"
      },
      "outputs": [
        {
          "name": "stdout",
          "output_type": "stream",
          "text": [
            "enter the number5\n",
            "enter number two2\n",
            "enter the third number1\n",
            "c is min\n"
          ]
        }
      ],
      "source": [
        "a=int(input(\"enter the number\"));b=int(input(\"enter number two\"));c=int(input(\"enter the third number\"))\n",
        "if a<b and a<c:\n",
        "    print(\"a is min\")\n",
        "elif b<a and b<c :\n",
        "    print(\"b is min\")\n",
        "else :\n",
        "    print(\"c is min\")\n",
        "    "
      ]
    },
    {
      "cell_type": "code",
      "execution_count": null,
      "id": "4372d056",
      "metadata": {
        "id": "4372d056",
        "outputId": "0d9d28d5-83fd-4e8f-b207-54f31fd2e15b"
      },
      "outputs": [
        {
          "name": "stdout",
          "output_type": "stream",
          "text": [
            "enter the  number55\n",
            "the number is divisible by both 5 and 11\n"
          ]
        }
      ],
      "source": [
        "a=int(input(\"enter the  number\"));\n",
        "if a%5==0 and a%11==0:\n",
        "    print(\"the number is divisible by both 5 and 11\")\n",
        "elif a%5==0:\n",
        "    print(\"The number is divisible by 5\")\n",
        "elif a%11==0 :\n",
        "    print(\"The number is divisible by 11\")\n",
        "else :\n",
        "    print(\"The number is not divisible by both\")\n",
        "     \n",
        " \n",
        "  \n"
      ]
    },
    {
      "cell_type": "code",
      "execution_count": null,
      "id": "3e9b2f5e",
      "metadata": {
        "id": "3e9b2f5e",
        "outputId": "3ebbd131-c0dc-4f26-f0ce-20d8e22fa945"
      },
      "outputs": [
        {
          "name": "stdout",
          "output_type": "stream",
          "text": [
            "enter the number to find factorial for 5\n",
            "120\n"
          ]
        }
      ],
      "source": [
        "a=int(input(\"enter the number to find factorial for \"))\n",
        "fact=1\n",
        "for i in range (1,a+1):\n",
        "    fact=fact*i\n",
        "print(fact)\n"
      ]
    },
    {
      "cell_type": "code",
      "execution_count": null,
      "id": "8a566016",
      "metadata": {
        "id": "8a566016",
        "outputId": "b45fb74e-d1e3-4bde-bb11-c79d2b5b9231"
      },
      "outputs": [
        {
          "name": "stdout",
          "output_type": "stream",
          "text": [
            "enter the number you want to find palindrome for1212\n",
            "not a plaindrome\n"
          ]
        }
      ],
      "source": [
        "a=int(input(\"enter the number you want to find palindrome for\"))\n",
        "rev=0\n",
        "temp=a\n",
        "while temp>0:\n",
        "    rem=temp%10\n",
        "    rev=(rev*10)+rem\n",
        "    temp=temp//10\n",
        "if a==rev:\n",
        "    print(\"palindrome\")\n",
        "else:\n",
        "    print(\"not a plaindrome\")"
      ]
    },
    {
      "cell_type": "code",
      "execution_count": null,
      "id": "1942dc8f",
      "metadata": {
        "id": "1942dc8f",
        "outputId": "335fa3f8-22d2-4c1c-e89e-d645b7e6fabf"
      },
      "outputs": [
        {
          "name": "stdout",
          "output_type": "stream",
          "text": [
            "enter number of terms u want to find plandrome for10\n",
            "0 1\n",
            "1\n",
            "2\n",
            "3\n",
            "5\n",
            "8\n",
            "13\n",
            "21\n",
            "34\n",
            "55\n",
            "completion of fibonanci\n"
          ]
        }
      ],
      "source": [
        "a=0;b=1;n=int(input(\"enter number of terms u want to find plandrome for\"))\n",
        "print(a,b)\n",
        "for i in range(1,n):\n",
        "    nextnum=a+b \n",
        "    print(nextnum)\n",
        "    a=b \n",
        "    b=nextnum\n",
        "    i=i+1\n",
        "print(\"completion of fibonanci\")"
      ]
    },
    {
      "cell_type": "markdown",
      "id": "4a1ac88e",
      "metadata": {
        "id": "4a1ac88e"
      },
      "source": [
        "## Lists\n"
      ]
    },
    {
      "cell_type": "code",
      "execution_count": null,
      "id": "4887ec54",
      "metadata": {
        "id": "4887ec54",
        "outputId": "be051d54-ddc1-434c-a8c7-2abff7769e58"
      },
      "outputs": [
        {
          "name": "stdout",
          "output_type": "stream",
          "text": [
            "['apple ', 'cherry', 'melon', 'peach', 'berry']\n",
            "apple \n",
            "['apple ', 'cherry', 'melon']\n",
            "melon\n",
            "['apple ', 'cherry', 'melon', 'peach']\n",
            "['peach', 'berry']\n",
            "['cherry', 'melon', 'peach', 'berry']\n"
          ]
        }
      ],
      "source": [
        "fruits =[\"apple \",\"cherry\",\"melon\",\"peach\",\"berry\"]\n",
        "print(fruits)\n",
        "print(fruits[0])#it is used to print index\n",
        "print(fruits[0:3])#intial index and range is a given number \n",
        "print(fruits[-3])\n",
        "print(fruits[:4])#if the imdex is not given it act as zero\n",
        "print(fruits[3:5])\n",
        "print(fruits[1:])"
      ]
    },
    {
      "cell_type": "code",
      "execution_count": null,
      "id": "f309c1da",
      "metadata": {
        "id": "f309c1da",
        "outputId": "11c2ebb8-c722-43b2-dc08-4d6376918668"
      },
      "outputs": [
        {
          "name": "stdout",
          "output_type": "stream",
          "text": [
            "['apple ', 'cherry', 'melon', 'peach', 'berry']\n",
            "5\n",
            "['apple ', 'cherry', 'melon', 'peach', 'berry', 'drangon fruit']\n"
          ]
        }
      ],
      "source": [
        "fruits =[\"apple \",\"cherry\",\"melon\",\"peach\",\"berry\"]\n",
        "print(fruits)\n",
        "print(len(fruits))\n",
        "fruits.append(\"drangon fruit\")# to add elements into list \n",
        "print(fruits)"
      ]
    },
    {
      "cell_type": "code",
      "execution_count": null,
      "id": "84376e8e",
      "metadata": {
        "id": "84376e8e",
        "outputId": "b5d32057-7936-4ceb-86f2-d9e5fb8694da"
      },
      "outputs": [
        {
          "name": "stdout",
          "output_type": "stream",
          "text": [
            "['apple ', 'cherry', 'melon', 'peach', 'berry']\n",
            "5\n",
            "['apple ', 'cherry', 'melon', 'drangon fruit', 'peach', 'berry']\n",
            "6\n"
          ]
        }
      ],
      "source": [
        "fruits =[\"apple \",\"cherry\",\"melon\",\"peach\",\"berry\"]\n",
        "print(fruits)\n",
        "print(len(fruits))\n",
        "fruits.insert(3,\"drangon fruit\")# to add elements with respective to index\n",
        "print(fruits)\n",
        "print(len(fruits))"
      ]
    },
    {
      "cell_type": "code",
      "execution_count": null,
      "id": "23d05705",
      "metadata": {
        "id": "23d05705",
        "outputId": "fdce171d-6a52-477f-a1d5-4f78ad8d5e5f"
      },
      "outputs": [
        {
          "name": "stdout",
          "output_type": "stream",
          "text": [
            "['apple ', 'cherry', 'melon', 'peach', 'berry', 'potato', 'onion']\n",
            "onion\n",
            "['apple ', 'melon', 'peach', 'berry', 'potato', 'onion']\n"
          ]
        }
      ],
      "source": [
        "fruits =[\"apple \",\"cherry\",\"melon\",\"peach\",\"berry\"]\n",
        "veggies=[\"potato\", \"onion\"]\n",
        "fruits.extend(veggies) # to add elemtns of the another list\n",
        "print(fruits)\n",
        "print(fruits[6])\n",
        "fruits.remove(\"cherry\")# to remove elements from the list\n",
        "print(fruits)"
      ]
    },
    {
      "cell_type": "code",
      "execution_count": null,
      "id": "cb2e29c8",
      "metadata": {
        "id": "cb2e29c8"
      },
      "outputs": [],
      "source": [
        "list = [\"apple\", \"banana\", \"cherry\"]\n",
        "list[2] = \"blackcurrant\"\n",
        "\n",
        "print(list)\n"
      ]
    },
    {
      "cell_type": "code",
      "execution_count": null,
      "id": "a487eb8d",
      "metadata": {
        "id": "a487eb8d",
        "outputId": "ad94ab30-0ff2-49a3-86b4-4ca21b9ae9d0"
      },
      "outputs": [
        {
          "name": "stdout",
          "output_type": "stream",
          "text": [
            "['hp', 'dell', 'lenovo']\n",
            "enter the element name: ohhh\n",
            "['hp', 'dell', 'ohhh', 'lenovo', 'ugh']\n"
          ]
        }
      ],
      "source": [
        "k=[\"hp\",\"dell\",\"lenovo\"]\n",
        "print(k)\n",
        "a=input(\"enter the element name: \")\n",
        "k.insert(2,a)\n",
        "k.append(\"ugh\")\n",
        "print(k)"
      ]
    },
    {
      "cell_type": "code",
      "execution_count": null,
      "id": "77f0cba5",
      "metadata": {
        "id": "77f0cba5",
        "outputId": "9f1178a1-1197-4988-8a2d-b9e0caab9018"
      },
      "outputs": [
        {
          "name": "stdout",
          "output_type": "stream",
          "text": [
            "[1, 'kiran', True, 5j]\n",
            "[1, 2, 4, 5]\n",
            "[2, 3, 4]\n",
            "[True, 5j]\n",
            "[5j]\n",
            "[]\n"
          ]
        }
      ],
      "source": [
        "mix=[1,\"kiran\",bool(1),0+5j]\n",
        "k=[1,2,4,5]\n",
        "s=[2,3,4]\n",
        "print(mix)\n",
        "print(k)\n",
        "print(s)\n",
        "mix.pop(0)# pop is used to remove the element by the list\n",
        "mix.remove(\"kiran\")# remove to use to delete certain element\n",
        "print(mix)\n",
        "del mix[0] # del is used to delete the element in the list if the index is mentioned it delte the index value in the list \n",
        "print (mix)\n",
        "del k  # del without given index will delete whole list \n",
        "s.clear()\n",
        "print(s)\n",
        "\n",
        "\n"
      ]
    },
    {
      "cell_type": "code",
      "execution_count": null,
      "id": "e94a522f",
      "metadata": {
        "id": "e94a522f",
        "outputId": "7a421872-aa65-4ad0-b95b-2b673fdb304d"
      },
      "outputs": [
        {
          "name": "stdout",
          "output_type": "stream",
          "text": [
            "[1, 2, 3, 4, 5, 6, 7]\n",
            "[7, 6, 5, 4, 3, 2, 1]\n",
            "['a', 'i', 'k', 'n', 'r']\n",
            "['r', 'n', 'k', 'i', 'a']\n"
          ]
        }
      ],
      "source": [
        "num=[1,5,3,7,2,4,6]\n",
        "num.sort()#it sorts according to order\n",
        "print(num)\n",
        "num.sort(reverse=True) # reverse=True is used to reverse the list ie: descending order \n",
        "print(num)\n",
        "pp=[\"k\",\"i\",\"r\",\"a\",\"n\"]\n",
        "pp.sort()\n",
        "print(pp)\n",
        "pp.sort(reverse=True)#it also sort alph according to dictionary order\n",
        "print(pp)"
      ]
    },
    {
      "cell_type": "code",
      "execution_count": null,
      "id": "eeb0b1c2",
      "metadata": {
        "id": "eeb0b1c2",
        "outputId": "a2bce33f-30f4-494f-bddb-e567e392d21a"
      },
      "outputs": [
        {
          "name": "stdout",
          "output_type": "stream",
          "text": [
            "('a', 'b', 'c')\n"
          ]
        }
      ],
      "source": [
        "t=(\"a\",\"b\",\"c\")# tuple doesn't allow addition of elements\n",
        "print(t)"
      ]
    },
    {
      "cell_type": "code",
      "execution_count": null,
      "id": "f144f6ba",
      "metadata": {
        "id": "f144f6ba",
        "outputId": "823c5c40-3477-4950-9f9c-23ddb40be993"
      },
      "outputs": [
        {
          "name": "stdout",
          "output_type": "stream",
          "text": [
            "2\n",
            "6\n"
          ]
        }
      ],
      "source": [
        "a=[1,2,3,6,7]\n",
        "for i in range (len(a)):\n",
        "    if a[i]%2==0:\n",
        "          print(a[i])"
      ]
    },
    {
      "cell_type": "code",
      "execution_count": null,
      "id": "c10ca0df",
      "metadata": {
        "id": "c10ca0df",
        "outputId": "3398650c-07d3-410d-c18c-136e1c6beaf4"
      },
      "outputs": [
        {
          "name": "stdout",
          "output_type": "stream",
          "text": [
            "enter the numbers: 10\n"
          ]
        },
        {
          "ename": "IndexError",
          "evalue": "list assignment index out of range",
          "output_type": "error",
          "traceback": [
            "\u001b[1;31m---------------------------------------------------------------------------\u001b[0m",
            "\u001b[1;31mIndexError\u001b[0m                                Traceback (most recent call last)",
            "\u001b[1;32m~\\AppData\\Local\\Temp/ipykernel_1828/1138880033.py\u001b[0m in \u001b[0;36m<module>\u001b[1;34m\u001b[0m\n\u001b[0;32m      1\u001b[0m \u001b[0ma\u001b[0m\u001b[1;33m=\u001b[0m\u001b[1;33m[\u001b[0m\u001b[1;33m]\u001b[0m\u001b[1;33m\u001b[0m\u001b[1;33m\u001b[0m\u001b[0m\n\u001b[0;32m      2\u001b[0m \u001b[1;32mfor\u001b[0m \u001b[0mi\u001b[0m \u001b[1;32min\u001b[0m \u001b[0mrange\u001b[0m\u001b[1;33m(\u001b[0m\u001b[1;36m1\u001b[0m\u001b[1;33m,\u001b[0m\u001b[0mn\u001b[0m\u001b[1;33m)\u001b[0m\u001b[1;33m:\u001b[0m\u001b[1;33m\u001b[0m\u001b[1;33m\u001b[0m\u001b[0m\n\u001b[1;32m----> 3\u001b[1;33m     \u001b[0ma\u001b[0m\u001b[1;33m[\u001b[0m\u001b[0mi\u001b[0m\u001b[1;33m]\u001b[0m\u001b[1;33m=\u001b[0m\u001b[0mint\u001b[0m\u001b[1;33m(\u001b[0m\u001b[0minput\u001b[0m\u001b[1;33m(\u001b[0m\u001b[1;34m\"enter the numbers: \"\u001b[0m\u001b[1;33m)\u001b[0m\u001b[1;33m)\u001b[0m\u001b[1;33m\u001b[0m\u001b[1;33m\u001b[0m\u001b[0m\n\u001b[0m\u001b[0;32m      4\u001b[0m     \u001b[1;32mwhile\u001b[0m \u001b[0mlen\u001b[0m\u001b[1;33m(\u001b[0m\u001b[0ma\u001b[0m\u001b[1;33m)\u001b[0m\u001b[1;33m<\u001b[0m\u001b[1;36m10\u001b[0m\u001b[1;33m:\u001b[0m\u001b[1;33m\u001b[0m\u001b[1;33m\u001b[0m\u001b[0m\n\u001b[0;32m      5\u001b[0m         \u001b[0mprint\u001b[0m\u001b[1;33m(\u001b[0m\u001b[0ma\u001b[0m\u001b[1;33m[\u001b[0m\u001b[0mi\u001b[0m\u001b[1;33m]\u001b[0m\u001b[1;33m)\u001b[0m\u001b[1;33m\u001b[0m\u001b[1;33m\u001b[0m\u001b[0m\n",
            "\u001b[1;31mIndexError\u001b[0m: list assignment index out of range"
          ]
        }
      ],
      "source": [
        "a=[]\n",
        "for i in range(1,n):\n",
        "    a[i]=int(input(\"enter the numbers: \"))\n",
        "    while len(a)<10:\n",
        "        print(a[i])\n",
        "        "
      ]
    },
    {
      "cell_type": "code",
      "execution_count": null,
      "id": "7cfaee5f",
      "metadata": {
        "id": "7cfaee5f",
        "outputId": "2a76df25-107a-4ee5-c0bf-889ce9a1e5f5"
      },
      "outputs": [
        {
          "name": "stdout",
          "output_type": "stream",
          "text": [
            "enter the number4\n",
            "2.0\n"
          ]
        }
      ],
      "source": [
        "import math \n",
        "a=int(input(\"enter the number\"))\n",
        "b=math.sqrt(a)\n",
        "print(b)"
      ]
    },
    {
      "cell_type": "code",
      "execution_count": null,
      "id": "58727fd2",
      "metadata": {
        "id": "58727fd2",
        "outputId": "dee0bdb7-f30a-499d-de89-d044121f35d0"
      },
      "outputs": [
        {
          "name": "stdout",
          "output_type": "stream",
          "text": [
            "5\n"
          ]
        }
      ],
      "source": [
        "a=int(5);b=int(3);c=int(2)\n",
        "if a>b and a>c:\n",
        "    print(5)\n",
        "elif b>c and b>a:\n",
        "    print(3)\n",
        "else:\n",
        "    print(2)\n",
        "        "
      ]
    },
    {
      "cell_type": "code",
      "execution_count": null,
      "id": "9a2417c4",
      "metadata": {
        "id": "9a2417c4",
        "outputId": "70348a02-23f8-4d2c-de65-4585992741cf"
      },
      "outputs": [
        {
          "name": "stdout",
          "output_type": "stream",
          "text": [
            "Result = 3 2\n"
          ]
        }
      ],
      "source": [
        "a=int(2);b=int(3)\n",
        "temp=a\n",
        "a=b\n",
        "b=temp\n",
        "print(\"Result =\",a,b)\n"
      ]
    },
    {
      "cell_type": "code",
      "execution_count": null,
      "id": "92a5ab06",
      "metadata": {
        "id": "92a5ab06",
        "outputId": "656e1126-b290-44b9-9072-c820813da85c"
      },
      "outputs": [
        {
          "name": "stdout",
          "output_type": "stream",
          "text": [
            "['Red', 'Orange', 'Yellow', 'Black', 'Green']\n"
          ]
        }
      ],
      "source": [
        "Rainbow=['Red','Orange','Yellow','Green']\n",
        "Rainbow.insert(3,'Black')\n",
        "print(Rainbow)"
      ]
    },
    {
      "cell_type": "code",
      "execution_count": null,
      "id": "6625644a",
      "metadata": {
        "id": "6625644a",
        "outputId": "1e578e76-97c9-4291-af15-47d85d28d37f"
      },
      "outputs": [
        {
          "name": "stdout",
          "output_type": "stream",
          "text": [
            "1\n",
            "2\n",
            "3\n",
            "7\n",
            "8\n"
          ]
        }
      ],
      "source": [
        "a=[1,7,3,8,2]\n",
        "a.sort()\n",
        "for x in a:\n",
        "    print(x)"
      ]
    },
    {
      "cell_type": "code",
      "execution_count": null,
      "id": "f443215d",
      "metadata": {
        "id": "f443215d",
        "outputId": "4f149ecc-e67f-449c-881c-5b596a53f4a1"
      },
      "outputs": [
        {
          "name": "stdout",
          "output_type": "stream",
          "text": [
            "['123a500', '5a9874']\n"
          ]
        }
      ],
      "source": [
        "list = [\"123a500\", \"0b02222\", \"5a9874\", \"7c8924\", \"8d79654\"]\n",
        "newlist = []\n",
        "\n",
        "for x in list:\n",
        "    if \"a\" in x:\n",
        "        newlist.append(x)\n",
        "\n",
        "print(newlist)\n"
      ]
    },
    {
      "cell_type": "markdown",
      "id": "5b91e735",
      "metadata": {
        "id": "5b91e735"
      },
      "source": [
        "# STRING"
      ]
    },
    {
      "cell_type": "code",
      "execution_count": null,
      "id": "0dc6db04",
      "metadata": {
        "id": "0dc6db04",
        "outputId": "ecff037e-ed28-427f-d524-af775acacbeb"
      },
      "outputs": [
        {
          "name": "stdout",
          "output_type": "stream",
          "text": [
            "kiran\n",
            "i\n",
            "o\n",
            "5\n"
          ]
        }
      ],
      "source": [
        "a=\"kiran\"\n",
        "print(a)\n",
        "print(a[1])\n",
        "b=\"hello\"\n",
        "print(b[4])\n",
        "print(len(b))"
      ]
    },
    {
      "cell_type": "code",
      "execution_count": null,
      "id": "d6f4b0cf",
      "metadata": {
        "id": "d6f4b0cf",
        "outputId": "4f758a70-b97d-43fe-9265-7d86fb4ab53b"
      },
      "outputs": [
        {
          "name": "stdout",
          "output_type": "stream",
          "text": [
            "True\n",
            "False\n",
            "False\n"
          ]
        }
      ],
      "source": [
        "a=\"hello retard your life is miserable if you're reading this\"\n",
        "print(\"this\" in a)\n",
        "print(\"xz\" in a)\n",
        "print(\"hello\" not in a)"
      ]
    },
    {
      "cell_type": "markdown",
      "id": "df8766c6",
      "metadata": {
        "id": "df8766c6"
      },
      "source": [
        "## slicing"
      ]
    },
    {
      "cell_type": "code",
      "execution_count": null,
      "id": "4443adcb",
      "metadata": {
        "id": "4443adcb",
        "outputId": "4bdfd54b-2c1a-47f2-e4cd-b262e56131a7"
      },
      "outputs": [
        {
          "name": "stdout",
          "output_type": "stream",
          "text": [
            "el\n"
          ]
        }
      ],
      "source": [
        "a=\"hello retard your life is miserable if you're reading this\"\n",
        "print(a[1:3])"
      ]
    },
    {
      "cell_type": "markdown",
      "id": "4fe23377",
      "metadata": {
        "id": "4fe23377"
      },
      "source": [
        "## modifing string"
      ]
    },
    {
      "cell_type": "code",
      "execution_count": null,
      "id": "a463bf5f",
      "metadata": {
        "id": "a463bf5f",
        "outputId": "1546492c-2d6f-4c6c-cac0-ef500937a1a3"
      },
      "outputs": [
        {
          "name": "stdout",
          "output_type": "stream",
          "text": [
            "HELLO RETARD YOUR LIFE IS MISERABLE IF YOU'RE READING THIS\n",
            "retard\n"
          ]
        }
      ],
      "source": [
        "a=\"hello retard your life is miserable if you're reading this\"\n",
        "print(a.upper())\n",
        "b=\"RETARD\"\n",
        "print(b.lower())"
      ]
    },
    {
      "cell_type": "code",
      "execution_count": null,
      "id": "d8d27a44",
      "metadata": {
        "id": "d8d27a44",
        "outputId": "58e0d4e1-14ef-4ba7-b21e-42f7075d352d"
      },
      "outputs": [
        {
          "name": "stdout",
          "output_type": "stream",
          "text": [
            "your life is miserable\n"
          ]
        }
      ],
      "source": [
        "a=\"    your life is miserable\"\n",
        "print(a.strip())## removes the space at starting"
      ]
    },
    {
      "cell_type": "code",
      "execution_count": null,
      "id": "a291ca85",
      "metadata": {
        "id": "a291ca85",
        "outputId": "3238258b-9222-40c2-dc13-b3566fe2de6f"
      },
      "outputs": [
        {
          "name": "stdout",
          "output_type": "stream",
          "text": [
            "your life is miserable\n"
          ]
        }
      ],
      "source": [
        "a=\"your life is Life\"\n",
        "print(a.replace(\"Life\",\"miserable\"))## replace the variable we want to change"
      ]
    },
    {
      "cell_type": "code",
      "execution_count": null,
      "id": "7a25b5f9",
      "metadata": {
        "id": "7a25b5f9",
        "outputId": "3dc93df6-775e-4562-840e-9bc5f2ce3d88"
      },
      "outputs": [
        {
          "name": "stdout",
          "output_type": "stream",
          "text": [
            "['your', 'life', 'is', 'miserable']\n"
          ]
        }
      ],
      "source": [
        "a=\" your life is miserable\"\n",
        "print(a.split())## splits the elements"
      ]
    },
    {
      "cell_type": "code",
      "execution_count": null,
      "id": "bf74b8c6",
      "metadata": {
        "id": "bf74b8c6",
        "outputId": "d719d609-1342-42c1-d31f-51e35f3de13b"
      },
      "outputs": [
        {
          "name": "stdout",
          "output_type": "stream",
          "text": [
            "yourlifeismiserable\n",
            "your life is miserable\n"
          ]
        }
      ],
      "source": [
        "a=\"your\"\n",
        "b=\"life\"\n",
        "c=\"is\"\n",
        "d=\"miserable\"\n",
        "k=a+b+c+d\n",
        "m=a+\" \"+b+\" \"+c+\" \"+d\n",
        "print(k)\n",
        "print(m)\n"
      ]
    },
    {
      "cell_type": "code",
      "execution_count": null,
      "id": "51446621",
      "metadata": {
        "id": "51446621",
        "outputId": "d8b86488-aade-4fa0-b588-069666274328"
      },
      "outputs": [
        {
          "name": "stdout",
          "output_type": "stream",
          "text": [
            "your life is miserable, and you'll die at 21\n"
          ]
        }
      ],
      "source": [
        "age=21\n",
        "txt=\"your life is miserable, and you'll die at {}\"\n",
        "print(txt.format(age))## the format is used to convert integers"
      ]
    },
    {
      "cell_type": "code",
      "execution_count": null,
      "id": "61bab29d",
      "metadata": {
        "id": "61bab29d",
        "outputId": "28f6c0e8-8ae0-46e9-bfe4-27056a4dab49"
      },
      "outputs": [
        {
          "name": "stdout",
          "output_type": "stream",
          "text": [
            "your life is miserable you get paid 1000kk, and you'll die at 21\n"
          ]
        }
      ],
      "source": [
        "age=21\n",
        "earn=\"1000k\"\n",
        "txt=\"your life is miserable you get paid {1}, and you'll die at {0}\"\n",
        "print(txt.format(age,earn))"
      ]
    },
    {
      "cell_type": "code",
      "execution_count": null,
      "id": "7c246589",
      "metadata": {
        "id": "7c246589",
        "outputId": "49dc5478-2815-45c2-a70d-d2ae44a4e4cc"
      },
      "outputs": [
        {
          "name": "stdout",
          "output_type": "stream",
          "text": [
            "your life is \"miserable\" retard\n",
            "you're a retard\n"
          ]
        }
      ],
      "source": [
        "txt=\"your life is \\\"miserable\\\" retard\"\n",
        "a='you\\'re a retard'\n",
        "b=\n",
        "print(txt)##\\txt\\ is used to seperate\n",
        "print(a)"
      ]
    },
    {
      "cell_type": "code",
      "execution_count": null,
      "id": "dbe95023",
      "metadata": {
        "id": "dbe95023",
        "outputId": "207f5435-6a3a-4f17-9031-d99b0ece1dd1"
      },
      "outputs": [
        {
          "name": "stdout",
          "output_type": "stream",
          "text": [
            "your life is  \btrash\n",
            "your life is\n",
            "trash\n",
            "your life is\ttrash\n"
          ]
        }
      ],
      "source": [
        "a=\"your life is  \\btrash\"\n",
        "b=\"your life is\\ntrash\"\n",
        "c=\"your life is\\ttrash\"\n",
        "print(a)\n",
        "print(b)\n",
        "print(c)"
      ]
    },
    {
      "cell_type": "code",
      "execution_count": null,
      "id": "50f4a2de",
      "metadata": {
        "id": "50f4a2de"
      },
      "outputs": [],
      "source": [
        "a=\"retard\"\n",
        "b=\"Retard\"\n",
        "c=\"retard is a retard you retard\"\n",
        "print(a.capitalize())\n",
        "print(b.casefold())\n",
        "print(b.center(10))\n",
        "print(c.count(\"retard\"))\n",
        "print(c.endswith(\"retard\"))\n",
        "print(c.)\n"
      ]
    },
    {
      "cell_type": "markdown",
      "id": "4752c658",
      "metadata": {
        "id": "4752c658"
      },
      "source": [
        "1.)cd (filename)/\n",
        "   ls               # it shows complete projects in projects\n",
        "2.)cd foldername/   # it goes to the coressponding\n",
        "   ls               # it shows the list of files inside the folder \n",
        "3.)cat filename.py\n",
        "   go to console and click run\n",
        "   \n",
        "   \n",
        "* when your doing programs in txt files save the format with .txt\n",
        "* echo \"kiran\" >filename.txt\n",
        "* cat filename.txt\n"
      ]
    },
    {
      "cell_type": "markdown",
      "id": "398c3fd2",
      "metadata": {
        "id": "398c3fd2"
      },
      "source": [
        "## module-1\n"
      ]
    },
    {
      "cell_type": "code",
      "execution_count": null,
      "id": "a52f83af",
      "metadata": {
        "id": "a52f83af",
        "outputId": "a8d7aa23-c810-45d8-fefd-4dc027654a19"
      },
      "outputs": [
        {
          "name": "stdout",
          "output_type": "stream",
          "text": [
            "Enter something : oooooo\n",
            "You entered oooooo\n"
          ]
        }
      ],
      "source": [
        "variable = input('Enter something : ')\n",
        "print('You entered '+variable)"
      ]
    },
    {
      "cell_type": "code",
      "execution_count": null,
      "id": "1a5f516e",
      "metadata": {
        "id": "1a5f516e",
        "outputId": "efa47ac5-91ee-4c80-a851-47ced79960e9"
      },
      "outputs": [
        {
          "name": "stdout",
          "output_type": "stream",
          "text": [
            "Enter an integer : 555\n",
            "Type of the variable taken is  <class 'int'>\n",
            "You entered 555\n",
            "You entered 555\n",
            "You entered 555\n"
          ]
        }
      ],
      "source": [
        "variable = int(input(\"Enter an integer : \")) #int to make sure that we are getting integer input.\n",
        "print('Type of the variable taken is ',type(variable))\n",
        "print('You entered '+str(variable)) # Here we are changing variable back into str to add with string.\n",
        "print(f'You entered {variable}') # formatted string\n",
        "print('You entered',variable)\n",
        "#If we enter value of any other datatype,ValueError occurs."
      ]
    },
    {
      "cell_type": "code",
      "execution_count": null,
      "id": "693e7d00",
      "metadata": {
        "id": "693e7d00",
        "outputId": "607879b6-ce12-4487-fdee-79f1315bf912"
      },
      "outputs": [
        {
          "name": "stdout",
          "output_type": "stream",
          "text": [
            "Number: 1234\n",
            "String: string\n",
            "Float: 12.34\n",
            "Boolean: True\n",
            "Complex: (1-4j)\n",
            "Float (again) : 1e+101\n"
          ]
        }
      ],
      "source": [
        "a1 = 1234\n",
        "a2 = 'string'\n",
        "a3 = 12.34\n",
        "a4 = True\n",
        "a5 = -4j+1\n",
        "a6 = 10e100  #type is float\n",
        "print('Number: {}\\nString: {}\\nFloat: {}\\nBoolean: {}\\nComplex: {}\\nFloat (again) : {}'.format(a1,a2,a3,a4,a5,a6))"
      ]
    },
    {
      "cell_type": "code",
      "execution_count": null,
      "id": "b10c7c02",
      "metadata": {
        "id": "b10c7c02",
        "outputId": "3bed4254-ee86-47f0-c3bc-896f12806740"
      },
      "outputs": [
        {
          "name": "stdout",
          "output_type": "stream",
          "text": [
            "enter the number you want to find palindrome for555444441122\n",
            "not a plaindrome\n"
          ]
        }
      ],
      "source": [
        "a=int(input(\"enter the number you want to find palindrome for\"))\n",
        "rev=0\n",
        "temp=a\n",
        "while temp>0:\n",
        "    rem=temp%10\n",
        "    rev=(rev*10)+rem\n",
        "    temp=temp//10\n",
        "if a==rev:\n",
        "    print(\"palindrome\")\n",
        "else:\n",
        "    print(\"not a plaindrome\")"
      ]
    },
    {
      "cell_type": "code",
      "execution_count": null,
      "id": "cdb3fe3e",
      "metadata": {
        "id": "cdb3fe3e",
        "outputId": "e2fb0362-f191-4216-d92d-2fb24e6f6b9e"
      },
      "outputs": [
        {
          "name": "stdout",
          "output_type": "stream",
          "text": [
            "enter the number145\n",
            "145\n",
            "yes it is strong number\n"
          ]
        }
      ],
      "source": [
        "#strong number\n",
        "a=int(input(\"enter the number\"))\n",
        "sum=0\n",
        "temp=a\n",
        "while temp>0:\n",
        "    fact=1\n",
        "    i=1\n",
        "    rem=temp%10\n",
        "    while i<=rem: \n",
        "        fact=fact*i\n",
        "        i=i+1\n",
        "    sum=sum+fact \n",
        "    temp=temp//10\n",
        "print(sum)\n",
        "if a==sum:\n",
        "    print(\"yes it is strong number\")\n",
        "else:\n",
        "    print(\"no\")"
      ]
    },
    {
      "cell_type": "code",
      "execution_count": null,
      "id": "5bc37993",
      "metadata": {
        "id": "5bc37993",
        "outputId": "1e0b62b2-470a-425b-800a-86aeae6b8e04"
      },
      "outputs": [
        {
          "name": "stdout",
          "output_type": "stream",
          "text": [
            "enter the number6\n",
            "perfect number\n"
          ]
        }
      ],
      "source": [
        "a=int(input(\"enter the number\"))\n",
        "sum=0\n",
        "for i in range (1,a):\n",
        "    if a%i==0:\n",
        "        sum=sum+i\n",
        "if sum==a:\n",
        "        print(\"perfect number\")\n",
        "else:\n",
        "        print(\"not a perfect number\")"
      ]
    },
    {
      "cell_type": "code",
      "execution_count": null,
      "id": "fe55d0dc",
      "metadata": {
        "id": "fe55d0dc",
        "outputId": "31d17e20-08b4-4f97-bc4d-3a0336afd458"
      },
      "outputs": [
        {
          "name": "stdout",
          "output_type": "stream",
          "text": [
            "enter the number1\n"
          ]
        }
      ],
      "source": [
        "a=int(input(\"enter the number\"))\n",
        "#importing math module\n",
        "import math"
      ]
    },
    {
      "cell_type": "code",
      "execution_count": null,
      "id": "1877aabb",
      "metadata": {
        "id": "1877aabb",
        "outputId": "dc9ffad5-39f2-4d45-ff58-17edeacf1edd"
      },
      "outputs": [
        {
          "name": "stdout",
          "output_type": "stream",
          "text": [
            "enter the number4\n",
            "124\n",
            "123\n",
            "81.0\n",
            "9.0\n",
            "5.66\n",
            "1.0\n",
            "2\n",
            "-99\n"
          ]
        }
      ],
      "source": [
        "a=int(input(\"enter the number\"))\n",
        "#importing math module\n",
        "import math\n",
        "#using math.ceil\n",
        "sample_num=123.456\n",
        "print(math.ceil(sample_num))\n",
        "#using math.floor\n",
        "sample_num=123.456\n",
        "print (math.floor(sample_num))\n",
        "#using math.pow\n",
        "print(math.pow(9,2))\n",
        "#using math.sqrt\n",
        "print (math.sqrt(81))\n",
        "print (math.fabs(5.66))\n",
        "print (math.fmod(10,3))\n",
        "print(math.trunc(2.77))\n",
        "print(math.trunc(-99.29))\n",
        "\n"
      ]
    },
    {
      "cell_type": "code",
      "execution_count": null,
      "id": "8b34d53d",
      "metadata": {
        "id": "8b34d53d",
        "outputId": "056c8373-23be-440e-ba33-7fbea8161ea4"
      },
      "outputs": [
        {
          "name": "stdout",
          "output_type": "stream",
          "text": [
            "enter the principal amount6000\n",
            "enter the intrest amount13\n",
            "amount of years3\n",
            "1 yr interst si is  780\n",
            "1 yr interst ci is  6779.999999999999\n",
            "2 yr interst si is  1560\n",
            "2 yr interst ci is  7661.399999999998\n",
            "3 yr interst si is  2340\n",
            "3 yr interst ci is  8657.381999999998\n",
            "4 yr interst si is  3120\n",
            "4 yr interst ci is  9782.841659999996\n",
            "5 yr interst si is  3900\n",
            "5 yr interst ci is  11054.611075799994\n",
            "6 yr interst si is  4680\n",
            "6 yr interst ci is  12491.710515653993\n",
            "7 yr interst si is  5460\n",
            "7 yr interst ci is  14115.632882689011\n"
          ]
        }
      ],
      "source": [
        "p=int(input(\"enter the principal amount\"))\n",
        "r=int(input(\"enter the intrest amount\"))\n",
        "t=int(input(\"amount of years\"))\n",
        "for i in range(1,t+1):\n",
        "    si=(p*i*r)//100\n",
        "    print(i,\"yr interst si is \",si)\n",
        "    ci=p*(math.pow(1+r/100,i))\n",
        "    print(i,\"yr interst ci is \",ci)"
      ]
    },
    {
      "cell_type": "markdown",
      "id": "719ffd01",
      "metadata": {
        "id": "719ffd01"
      },
      "source": [
        "# TUPLE\n"
      ]
    },
    {
      "cell_type": "code",
      "execution_count": null,
      "id": "7930c4f3",
      "metadata": {
        "id": "7930c4f3",
        "outputId": "d9694fb4-ba6c-464d-e6d1-af45fabe717f"
      },
      "outputs": [
        {
          "name": "stdout",
          "output_type": "stream",
          "text": [
            "['hello', 'dead', 'bye', 'apple']\n"
          ]
        }
      ],
      "source": [
        "a=(\"hi\",\"hello\",\"apple\")\n",
        "b=list(a)\n",
        "b.append(\"bye\")\n",
        "b.insert(1,\"dead\")\n",
        "b.remove(\"hi\")\n",
        "b.sort(reverse=True)\n",
        "print(b)"
      ]
    },
    {
      "cell_type": "code",
      "execution_count": null,
      "id": "833b711e",
      "metadata": {
        "id": "833b711e",
        "outputId": "0e275530-4a9d-4e30-90cd-32b68f2cc36c"
      },
      "outputs": [
        {
          "name": "stdout",
          "output_type": "stream",
          "text": [
            "('apple',)\n",
            "('apple', 'die')\n"
          ]
        }
      ],
      "source": [
        "a=(\"apple\",)## used to create a tuple variable\n",
        "print(a)\n",
        "b=(\"die\",)\n",
        "c=a+b\n",
        "print(c)"
      ]
    },
    {
      "cell_type": "code",
      "execution_count": null,
      "id": "4ae99327",
      "metadata": {
        "id": "4ae99327",
        "outputId": "7052b885-5861-412d-b263-aa8e18b70819"
      },
      "outputs": [
        {
          "name": "stdout",
          "output_type": "stream",
          "text": [
            "die hi bye\n"
          ]
        }
      ],
      "source": [
        "a=(\"hi\",\"bye\",\"die\")\n",
        "(wolf,fox,deer)=a\n",
        "print(deer,wolf,fox)"
      ]
    },
    {
      "cell_type": "code",
      "execution_count": null,
      "id": "f0bb8673",
      "metadata": {
        "id": "f0bb8673",
        "outputId": "3a036462-eb71-4e05-c6fc-73b042790c4b"
      },
      "outputs": [
        {
          "name": "stdout",
          "output_type": "stream",
          "text": [
            "hi\n",
            "bye die\n",
            "hell\n"
          ]
        }
      ],
      "source": [
        "a=(\"hi\",\"bye\",\"die\",\"hell\")\n",
        "(jin,*skkkk,kikk)=a\n",
        "print(jin)\n",
        "print(*skkkk)\n",
        "print(kikk)\n"
      ]
    },
    {
      "cell_type": "code",
      "execution_count": null,
      "id": "d0d9f7a1",
      "metadata": {
        "id": "d0d9f7a1",
        "outputId": "4208d969-a8b3-4545-8505-d146f2da8b42"
      },
      "outputs": [
        {
          "name": "stdout",
          "output_type": "stream",
          "text": [
            "1=\"addition\",2=\"subtraction\",3=\"multiplication\",4=\"division\"\n",
            "enter any number upto 44\n",
            "0.6666666666666666\n"
          ]
        }
      ],
      "source": [
        "a=2\n",
        "b=3\n",
        "print('1=\"addition\",2=\"subtraction\",3=\"multiplication\",4=\"division\"')\n",
        "c=int(input(\"enter any number upto 4\"))\n",
        "if c==1:\n",
        "     print(a+b)\n",
        "elif c==2:\n",
        "    print(a-b)\n",
        "elif c==3:\n",
        "    print(a*b)\n",
        "elif c==4:\n",
        "    print(a/b)\n",
        "else:\n",
        "    print(invalid)"
      ]
    },
    {
      "cell_type": "code",
      "execution_count": null,
      "id": "c8af8af7",
      "metadata": {
        "id": "c8af8af7",
        "outputId": "127dc294-665d-4bdd-9f62-6b9869c9eab9"
      },
      "outputs": [
        {
          "name": "stdout",
          "output_type": "stream",
          "text": [
            "Enter 1st number: 15\n",
            "Enter 2nd number: 5\n",
            "GCD is 10\n"
          ]
        }
      ],
      "source": [
        "#Compute GCD of two given numbers.\n",
        "num1 = int(input(\"Enter 1st number: \"))\n",
        "num2 = int(input(\"Enter 2nd number: \"))\n",
        "gcd=i\n",
        "while (i <= num1 and i <= num2):\n",
        "  if(num1 % i == 0 and num2 % i == 0):\n",
        "   \n",
        "   i=i + 1\n",
        "print(\"GCD is\",gcd)\n"
      ]
    },
    {
      "cell_type": "markdown",
      "id": "624e843f",
      "metadata": {
        "id": "624e843f"
      },
      "source": [
        "# sets\n"
      ]
    },
    {
      "cell_type": "code",
      "execution_count": null,
      "id": "cc065551",
      "metadata": {
        "id": "cc065551",
        "outputId": "28ce4fba-f8d5-4806-fe60-c8eda7a1a5bf"
      },
      "outputs": [
        {
          "name": "stdout",
          "output_type": "stream",
          "text": [
            "{1, 2, 3, 4, 5}\n"
          ]
        }
      ],
      "source": [
        "a={1,2,3,4,4,4,3,3,5}##duplicates are not allowed in sets\n",
        "print(a)"
      ]
    },
    {
      "cell_type": "code",
      "execution_count": null,
      "id": "c947f8e8",
      "metadata": {
        "id": "c947f8e8",
        "outputId": "7500a8a2-0fba-41ea-d391-6d6c61e1e0b8"
      },
      "outputs": [
        {
          "name": "stdout",
          "output_type": "stream",
          "text": [
            "<class 'set'> 6\n"
          ]
        }
      ],
      "source": [
        "a={1,2,3,4,4,4,5,5,5,6}\n",
        "print(type(a),len(a))"
      ]
    },
    {
      "cell_type": "code",
      "execution_count": null,
      "id": "cba98440",
      "metadata": {
        "id": "cba98440",
        "outputId": "e992ab3b-8485-4340-a6ca-e6f88119deb5"
      },
      "outputs": [
        {
          "name": "stdout",
          "output_type": "stream",
          "text": [
            "1\n",
            "2\n",
            "3\n",
            "4\n",
            "5\n"
          ]
        }
      ],
      "source": [
        "a={1,2,3,4,5,5,5}\n",
        "for x in a:\n",
        "    print(x)"
      ]
    },
    {
      "cell_type": "code",
      "execution_count": null,
      "id": "2728d46c",
      "metadata": {
        "id": "2728d46c",
        "outputId": "e7cf75a2-66d7-4881-fdce-79afc215488a"
      },
      "outputs": [
        {
          "name": "stdout",
          "output_type": "stream",
          "text": [
            "{1, 2, 3, 4, 5, 99}\n"
          ]
        }
      ],
      "source": [
        "a={1,2,3,4,5,5,5}\n",
        "a.add(99)### used for addition of elements\n",
        "print(a)"
      ]
    },
    {
      "cell_type": "code",
      "execution_count": null,
      "id": "8f028cee",
      "metadata": {
        "id": "8f028cee",
        "outputId": "a0dbc02e-d8c3-4086-e93f-9ab0798a0652"
      },
      "outputs": [
        {
          "name": "stdout",
          "output_type": "stream",
          "text": [
            "{'a', 'number', 'wrong', 'thats', 'sike'}\n"
          ]
        }
      ],
      "source": [
        "a={\"sike\",\"thats\"}\n",
        "b={\"a\",\"wrong\"}\n",
        "c={\"number\"}\n",
        "a.update(b)## update is udes to join the lists\n",
        "a.update(c)\n",
        "print(a)"
      ]
    },
    {
      "cell_type": "code",
      "execution_count": null,
      "id": "78ff765a",
      "metadata": {
        "id": "78ff765a",
        "outputId": "27c088c8-926c-495f-821b-0b18be90335c"
      },
      "outputs": [
        {
          "name": "stdout",
          "output_type": "stream",
          "text": [
            "{1, 2, 3, 4, 5}\n",
            "1\n",
            "set()\n"
          ]
        }
      ],
      "source": [
        "a={1,2,3,4,5,6,6,6}\n",
        "a.remove(6)### remove will raise error if its not present\n",
        "a.discard(7)### discard will not rasie a error if its not present\n",
        "print(a)\n",
        "b=a.pop()### this removes element and stores in b\n",
        "print(b)\n",
        "a.clear()###this clear the set\n",
        "print(a)\n",
        "del a### this deleted the set \n"
      ]
    },
    {
      "cell_type": "code",
      "execution_count": null,
      "id": "40094f8a",
      "metadata": {
        "id": "40094f8a",
        "outputId": "90d436cf-db43-4ea6-bb03-e883075a2532"
      },
      "outputs": [
        {
          "name": "stdout",
          "output_type": "stream",
          "text": [
            "{1, 2, 3, 4, 5, 6, 'b', 'd', 'a', 'c'}\n",
            "{1, 2, 3, 4, 5}\n"
          ]
        }
      ],
      "source": [
        "a={1,2,3,4,5,5,5,5,5,5,5,5,5,5,5,5,5,5,5,5,5,5,5,5,5,5,5,5}\n",
        "b={\"a\",\"b\",\"c\",\"d\",1,6}\n",
        "c=a.union(b)### combines all the elements\n",
        "print(c)\n",
        "a.intersection(b) ### only shows the common element\n",
        "print(a)"
      ]
    },
    {
      "cell_type": "code",
      "execution_count": null,
      "id": "04976203",
      "metadata": {
        "id": "04976203",
        "outputId": "ef0c78d9-efe9-43c5-e490-26b61f06492b"
      },
      "outputs": [
        {
          "name": "stdout",
          "output_type": "stream",
          "text": [
            "{1, 2, 3, 4}\n"
          ]
        }
      ],
      "source": [
        "a={1,2,3,4,4,4,4,4,4,4,4}\n",
        "b=a.copy() ### copys the elemens of the set\n",
        "print(b)"
      ]
    },
    {
      "cell_type": "code",
      "execution_count": null,
      "id": "be1c0cc7",
      "metadata": {
        "id": "be1c0cc7",
        "outputId": "786f9675-6baa-498e-cedc-d4b815f4f311"
      },
      "outputs": [
        {
          "name": "stdout",
          "output_type": "stream",
          "text": [
            "False\n",
            "False\n",
            "False\n"
          ]
        }
      ],
      "source": [
        "a={1,2,3,4,5,5,5,5,6,6,6,6}\n",
        "b={1,3,6,8,9}\n",
        "print(a.isdisjoint(b))\n",
        "print(b.issubset(a))\n",
        "print(a.issuperset(b))"
      ]
    },
    {
      "cell_type": "code",
      "execution_count": null,
      "id": "561ec00f",
      "metadata": {
        "id": "561ec00f",
        "outputId": "f05b8de1-2db0-461b-98c9-7ae55b6005ac"
      },
      "outputs": [
        {
          "name": "stdout",
          "output_type": "stream",
          "text": [
            "{'ooooo', 'bye', 'f', 'skkskks'}\n"
          ]
        }
      ],
      "source": [
        "a= {\"hi\", \"skkskks\", \"ooooo\"}\n",
        "b = {\"bye\",\"f\", \"hi\"}\n",
        "\n",
        "c = a.symmetric_difference(b) \n",
        "\n",
        "print(c)\n"
      ]
    },
    {
      "cell_type": "markdown",
      "id": "a9f5e695",
      "metadata": {
        "id": "a9f5e695"
      },
      "source": [
        "# Dictionary"
      ]
    },
    {
      "cell_type": "code",
      "execution_count": null,
      "id": "7914c9a0",
      "metadata": {
        "id": "7914c9a0",
        "outputId": "f7b43dd7-7dbb-404d-8d0f-54e4dbe851c0"
      },
      "outputs": [
        {
          "name": "stdout",
          "output_type": "stream",
          "text": [
            "{'team': 'mercedes amg ', 'model': 'w13', 'electric': False, 'year': 2022}\n",
            "<class 'dict'>\n"
          ]
        }
      ],
      "source": [
        "a ={\n",
        "  \"team\": \"mercedes amg \", ###format for buliding the sets\n",
        "  \"model\": \"w13\",\n",
        "  \"electric\": False,\n",
        "  \"year\": 2022\n",
        "}\n",
        "print(a)\n",
        "print(type(a))\n"
      ]
    },
    {
      "cell_type": "code",
      "execution_count": null,
      "id": "290f816c",
      "metadata": {
        "id": "290f816c",
        "outputId": "9a981e6b-239b-4b28-9c7b-ac884b9186a1"
      },
      "outputs": [
        {
          "name": "stdout",
          "output_type": "stream",
          "text": [
            "mercedes amg \n",
            "w13\n",
            "3\n"
          ]
        }
      ],
      "source": [
        "a={\n",
        "  \"team\": \"mercedes amg \", ###format for buliding the sets\n",
        "  \"model\": \"w13\",\n",
        "  \"year\": 2022\n",
        "}\n",
        "print(a[\"team\"])\n",
        "print(a[\"model\"])\n",
        "print(len(a))  ### shows the len of the dic"
      ]
    },
    {
      "cell_type": "code",
      "execution_count": null,
      "id": "b5187ee7",
      "metadata": {
        "id": "b5187ee7",
        "outputId": "04af6232-b98b-4cd5-e918-e7ac3068ec13"
      },
      "outputs": [
        {
          "name": "stdout",
          "output_type": "stream",
          "text": [
            "mercedes amg  w13\n"
          ]
        }
      ],
      "source": [
        "a={\n",
        "  \"team\": \"mercedes amg \", ###format for buliding the sets\n",
        "  \"model\": \"w13\",\n",
        "  \"year\": 2022\n",
        "}\n",
        "b=a[\"team\"]\n",
        "c=a.get(\"model\")\n",
        "print(b,c)"
      ]
    },
    {
      "cell_type": "code",
      "execution_count": null,
      "id": "968e20c9",
      "metadata": {
        "id": "968e20c9",
        "outputId": "91ff799e-9f42-450b-b036-47e0d400ebdf"
      },
      "outputs": [
        {
          "name": "stdout",
          "output_type": "stream",
          "text": [
            "dict_keys(['team', 'model', 'year'])\n",
            "{'team': 'mercedes amg ', 'model': 'w13', 'year': 2022, 'drivers': 'lewis,russel'}\n"
          ]
        }
      ],
      "source": [
        "a={\n",
        "  \"team\": \"mercedes amg \", ###format for buliding the sets\n",
        "  \"model\": \"w13\",\n",
        "  \"year\": 2022\n",
        "}\n",
        "print(a.keys()) ### THIS IS THE KEYS function used to display all the key words\n",
        "a[\"drivers\"]=\"lewis,russel\"\n",
        "print(a)"
      ]
    },
    {
      "cell_type": "code",
      "execution_count": null,
      "id": "ac929cf4",
      "metadata": {
        "id": "ac929cf4",
        "outputId": "558d7077-a6bb-4397-aa69-6879332eaa02"
      },
      "outputs": [
        {
          "name": "stdout",
          "output_type": "stream",
          "text": [
            "dict_values(['mercedes amg ', 'w13', 2022])\n",
            "{'team': 'mercedes amg ', 'model': 'w13', 'year': 2021}\n"
          ]
        }
      ],
      "source": [
        "a={\n",
        "  \"team\": \"mercedes amg \", ###format for buliding the sets\n",
        "  \"model\": \"w13\",\n",
        "  \"year\": 2022\n",
        "}\n",
        "print(a.values())\n",
        "a[\"year\"]=2021 \n",
        "print(a)"
      ]
    },
    {
      "cell_type": "code",
      "execution_count": null,
      "id": "106d0097",
      "metadata": {
        "id": "106d0097",
        "outputId": "b5993608-1014-4026-d90b-3c9949a5f6a4"
      },
      "outputs": [
        {
          "name": "stdout",
          "output_type": "stream",
          "text": [
            "okay\n"
          ]
        }
      ],
      "source": [
        "a={\n",
        "  \"team\": \"mercedes amg \",\n",
        "  \"model\": \"w13\",\n",
        "  \"year\": 2022\n",
        "}\n",
        "if \"team\" in a:\n",
        "       print(\"okay\")"
      ]
    },
    {
      "cell_type": "code",
      "execution_count": null,
      "id": "c545b86f",
      "metadata": {
        "id": "c545b86f",
        "outputId": "023a5d44-306a-495d-8cd4-5ac536ef1ab7"
      },
      "outputs": [
        {
          "name": "stdout",
          "output_type": "stream",
          "text": [
            "{'team': 'mercedes amg ', 'model': 'w13', 'year': 2022, 'driver': 'lewis'}\n",
            "{'team': 'mercedes amg ', 'model': 'w13', 'year': 2022, 'driver': 'lewis', 'age': 37}\n"
          ]
        }
      ],
      "source": [
        "a={\n",
        "  \"team\": \"mercedes amg \",\n",
        "  \"model\": \"w13\",\n",
        "  \"year\": 2022\n",
        "}\n",
        "a.update({\"driver\":\"lewis\"}) ### it is used to update the list\n",
        "print(a)\n",
        "a.update ({\"age\":37}) ### it is also used to update the list \n",
        "print(a)"
      ]
    },
    {
      "cell_type": "code",
      "execution_count": null,
      "id": "96f5aedb",
      "metadata": {
        "id": "96f5aedb",
        "outputId": "2f22c588-9c34-4673-ebd3-78b677650c45"
      },
      "outputs": [
        {
          "name": "stdout",
          "output_type": "stream",
          "text": [
            "{'team': 'mercedes amg ', 'model': 'w13'}\n"
          ]
        }
      ],
      "source": [
        "a={\n",
        "  \"team\": \"mercedes amg \",\n",
        "  \"model\": \"w13\",\n",
        "  \"year\": 2022\n",
        "}\n",
        "a.pop(\"year\") ### this is used to remove the elements from the sets\n",
        "print(a)"
      ]
    },
    {
      "cell_type": "code",
      "execution_count": null,
      "id": "d0cef17e",
      "metadata": {
        "id": "d0cef17e",
        "outputId": "8a7dad78-f872-43af-db0d-b5ffeba7af24"
      },
      "outputs": [
        {
          "name": "stdout",
          "output_type": "stream",
          "text": [
            "('team', 'mercedes amg ')\n",
            "('model', 'w13')\n",
            "('year', 2022)\n"
          ]
        }
      ],
      "source": [
        "a={\n",
        "  \"team\": \"mercedes amg \",\n",
        "  \"model\": \"w13\",\n",
        "  \"year\": 2022\n",
        "}\n",
        "for x in a.items():\n",
        "    print(x)"
      ]
    },
    {
      "cell_type": "code",
      "execution_count": null,
      "id": "356bacb8",
      "metadata": {
        "id": "356bacb8",
        "outputId": "0ea3c539-abfe-47e5-f90b-3e88eb790090"
      },
      "outputs": [
        {
          "name": "stdout",
          "output_type": "stream",
          "text": [
            "team\n",
            "model\n",
            "year\n"
          ]
        }
      ],
      "source": [
        "a={\n",
        "  \"team\": \"mercedes amg \",\n",
        "  \"model\": \"w13\",\n",
        "  \"year\": 2022\n",
        "}\n",
        "for x in a.keys():\n",
        "    print(x)"
      ]
    },
    {
      "cell_type": "code",
      "execution_count": null,
      "id": "8a253f27",
      "metadata": {
        "id": "8a253f27",
        "outputId": "4a7b456c-69d9-4713-a1ae-10f3dacf146f"
      },
      "outputs": [
        {
          "name": "stdout",
          "output_type": "stream",
          "text": [
            "{'team': 'mercedes amg ', 'model': 'w13', 'year': 2022}\n"
          ]
        }
      ],
      "source": [
        "a={\n",
        "  \"team\": \"mercedes amg \",\n",
        "  \"model\": \"w13\",\n",
        "  \"year\": 2022\n",
        "}\n",
        "b=dict(a)\n",
        "print(b)"
      ]
    },
    {
      "cell_type": "code",
      "execution_count": null,
      "id": "88db4b33",
      "metadata": {
        "id": "88db4b33",
        "outputId": "57481bc6-a576-4009-b83e-1b92a2604ef3"
      },
      "outputs": [
        {
          "name": "stdout",
          "output_type": "stream",
          "text": [
            "{'team': 'mercedes amg ', 'model': 'w13', 'year': 2022}\n"
          ]
        }
      ],
      "source": [
        "a={\n",
        "  \"team\": \"mercedes amg \",\n",
        "  \"model\": \"w13\",\n",
        "  \"year\": 2022\n",
        "}\n",
        "b=a.copy()\n",
        "print(b)"
      ]
    },
    {
      "cell_type": "code",
      "execution_count": null,
      "id": "9a60e0ea",
      "metadata": {
        "id": "9a60e0ea",
        "outputId": "8c2bfa94-d26d-46c1-ddb2-d9c61924bdc3"
      },
      "outputs": [
        {
          "name": "stdout",
          "output_type": "stream",
          "text": [
            "{'paddock1': {'team': 'mercedes amg ', 'model': 'w13', 'year': 2022}, 'paddock2': {'team': 'red bull ', 'model': 'rb11', 'year': 2021}, 'paddock3': {'team': 'ferrari ', 'model': 'sf', 'year': 2020}}\n"
          ]
        }
      ],
      "source": [
        "f1={\n",
        "  \"paddock1\" :{  \n",
        "  \"team\": \"mercedes amg \",\n",
        "  \"model\": \"w13\",\n",
        "  \"year\": 2022\n",
        "  },\n",
        "    \n",
        "\"paddock2\":{\n",
        "   \n",
        "  \"team\": \"red bull \",\n",
        "  \"model\": \"rb11\",\n",
        "  \"year\": 2021\n",
        "},\n",
        "\"paddock3\":{\n",
        " \n",
        "  \"team\": \"ferrari \",\n",
        "  \"model\": \"sf\",\n",
        "  \"year\": 2020\n",
        "}\n",
        "}    \n",
        "print(f1)\n",
        "\n",
        "\n",
        "  \n"
      ]
    },
    {
      "cell_type": "code",
      "execution_count": null,
      "id": "81aa3efd",
      "metadata": {
        "id": "81aa3efd",
        "outputId": "a047450a-5189-4d53-8f80-a0fcb19d5fbe"
      },
      "outputs": [
        {
          "name": "stdout",
          "output_type": "stream",
          "text": [
            "lewis\n"
          ]
        }
      ],
      "source": [
        "a={\n",
        "  \"team\": \"mercedes amg \",\n",
        "  \"model\": \"w13\",\n",
        "  \"year\": 2022\n",
        "}\n",
        "x=a.setdefault(\"driver\",\"lewis\")\n",
        "print(x)"
      ]
    },
    {
      "cell_type": "code",
      "execution_count": null,
      "id": "24341533",
      "metadata": {
        "id": "24341533",
        "outputId": "ae816cd6-ea3a-494b-e90b-91131b6c30a2"
      },
      "outputs": [
        {
          "name": "stdout",
          "output_type": "stream",
          "text": [
            "{'Black', 'Yellow'}\n"
          ]
        }
      ],
      "source": [
        "set1 = {\"Yellow\", \"Orange\", \"Black\"}\n",
        "set2 = {\"Orange\", \"Blue\", \"Pink\"}\n",
        "\n",
        "set1.difference_update(set2)\n",
        "print(set1)"
      ]
    },
    {
      "cell_type": "code",
      "execution_count": null,
      "id": "40e4a94a",
      "metadata": {
        "id": "40e4a94a",
        "outputId": "67ce4ef0-eb64-437e-8d48-57f0810ad553"
      },
      "outputs": [
        {
          "ename": "SyntaxError",
          "evalue": "invalid syntax (Temp/ipykernel_5800/4142306853.py, line 2)",
          "output_type": "error",
          "traceback": [
            "\u001b[1;36m  File \u001b[1;32m\"C:\\Users\\CSE22004\\AppData\\Local\\Temp/ipykernel_5800/4142306853.py\"\u001b[1;36m, line \u001b[1;32m2\u001b[0m\n\u001b[1;33m    Output :\u001b[0m\n\u001b[1;37m            ^\u001b[0m\n\u001b[1;31mSyntaxError\u001b[0m\u001b[1;31m:\u001b[0m invalid syntax\n"
          ]
        }
      ],
      "source": [
        "a = \"    Hello World \"\n",
        "Output :\n",
        "a = \" Hello World \""
      ]
    },
    {
      "cell_type": "code",
      "execution_count": null,
      "id": "6e15a4b6",
      "metadata": {
        "id": "6e15a4b6",
        "outputId": "bcb198fc-3936-4f73-8229-42750ad73f99"
      },
      "outputs": [
        {
          "ename": "TypeError",
          "evalue": "'set' object does not support item deletion",
          "output_type": "error",
          "traceback": [
            "\u001b[1;31m---------------------------------------------------------------------------\u001b[0m",
            "\u001b[1;31mTypeError\u001b[0m                                 Traceback (most recent call last)",
            "\u001b[1;32m~\\AppData\\Local\\Temp/ipykernel_1640/3174307539.py\u001b[0m in \u001b[0;36m<module>\u001b[1;34m\u001b[0m\n\u001b[0;32m      1\u001b[0m \u001b[0msampleSet\u001b[0m \u001b[1;33m=\u001b[0m \u001b[1;33m{\u001b[0m\u001b[1;34m\"Yellow\"\u001b[0m\u001b[1;33m,\u001b[0m \u001b[1;34m\"Orange\"\u001b[0m\u001b[1;33m,\u001b[0m \u001b[1;34m\"Black\"\u001b[0m\u001b[1;33m}\u001b[0m\u001b[1;33m\u001b[0m\u001b[1;33m\u001b[0m\u001b[0m\n\u001b[1;32m----> 2\u001b[1;33m \u001b[1;32mdel\u001b[0m \u001b[0msampleSet\u001b[0m \u001b[1;33m[\u001b[0m\u001b[1;34m\"Orange\"\u001b[0m\u001b[1;33m]\u001b[0m\u001b[1;33m\u001b[0m\u001b[1;33m\u001b[0m\u001b[0m\n\u001b[0m",
            "\u001b[1;31mTypeError\u001b[0m: 'set' object does not support item deletion"
          ]
        }
      ],
      "source": [
        "sampleSet = {\"Yellow\", \"Orange\", \"Black\"}\n",
        "del sampleSet [\"Orange\"]"
      ]
    },
    {
      "cell_type": "code",
      "execution_count": null,
      "id": "b2e32feb",
      "metadata": {
        "id": "b2e32feb",
        "outputId": "55f5ce13-5518-4b03-f0c9-216f623c2e34"
      },
      "outputs": [
        {
          "name": "stdout",
          "output_type": "stream",
          "text": [
            "format\n"
          ]
        }
      ],
      "source": [
        "a=\"information\"\n",
        "print(a[2:8])"
      ]
    },
    {
      "cell_type": "markdown",
      "id": "cbafd602",
      "metadata": {
        "id": "cbafd602"
      },
      "source": [
        "# Functions\n",
        "\n"
      ]
    },
    {
      "cell_type": "code",
      "execution_count": null,
      "id": "890f6049",
      "metadata": {
        "id": "890f6049",
        "outputId": "712645c4-e82d-4b7a-d35c-b09b9aebcdd6"
      },
      "outputs": [
        {
          "name": "stdout",
          "output_type": "stream",
          "text": [
            "hello\n"
          ]
        }
      ],
      "source": [
        "def kiran():\n",
        "    print(\"hello\")\n",
        "kiran()"
      ]
    },
    {
      "cell_type": "code",
      "execution_count": null,
      "id": "b7907c43",
      "metadata": {
        "id": "b7907c43",
        "outputId": "54203547-2e37-4e11-ef96-206597b8cf32"
      },
      "outputs": [
        {
          "name": "stdout",
          "output_type": "stream",
          "text": [
            "mentally retarded\n",
            "physically retarded\n",
            "your retarded\n"
          ]
        }
      ],
      "source": [
        "def kiran(hi):\n",
        "    print( hi +\" \"+\"retarded\")\n",
        "kiran(\"mentally\")\n",
        "kiran(\"physically\")\n",
        "kiran(\"your\")"
      ]
    },
    {
      "cell_type": "code",
      "execution_count": null,
      "id": "be96fbe7",
      "metadata": {
        "id": "be96fbe7",
        "outputId": "1b27c5a8-7c69-448e-a4a3-afd16f273eb2"
      },
      "outputs": [
        {
          "name": "stdout",
          "output_type": "stream",
          "text": [
            "hello 23\n",
            "yeet 13\n"
          ]
        }
      ],
      "source": [
        "def kiran(hi,bye):\n",
        "    print(hi,bye)\n",
        "kiran(\"hello\",23)\n",
        "kiran(\"yeet\",13)\n"
      ]
    },
    {
      "cell_type": "code",
      "execution_count": null,
      "id": "38587982",
      "metadata": {
        "id": "38587982",
        "outputId": "3b5c2d0b-01d2-43d3-b2c4-1f8a942707ff"
      },
      "outputs": [
        {
          "name": "stdout",
          "output_type": "stream",
          "text": [
            ":/ hi\n"
          ]
        }
      ],
      "source": [
        "def kiran(*f):\n",
        "    print(\":/\"+\" \"+f[0])\n",
        "kiran(\"hi\",\"bye\",\"1\",\"23\")#only strings are accepted not int"
      ]
    },
    {
      "cell_type": "code",
      "execution_count": null,
      "id": "6a4a3061",
      "metadata": {
        "id": "6a4a3061",
        "outputId": "adf64ee3-e590-4967-d881-095bed6b696c"
      },
      "outputs": [
        {
          "name": "stdout",
          "output_type": "stream",
          "text": [
            "2\n"
          ]
        }
      ],
      "source": [
        "def kiran(hi,hello,bye):\n",
        "    print(bye)\n",
        "kiran(hi=\"F\",hello=3,bye=2) "
      ]
    },
    {
      "cell_type": "code",
      "execution_count": null,
      "id": "39a85796",
      "metadata": {
        "id": "39a85796",
        "outputId": "3007c197-773d-4dca-89fd-681fe79f2cb7"
      },
      "outputs": [
        {
          "name": "stdout",
          "output_type": "stream",
          "text": [
            "h2\n",
            "3 2\n"
          ]
        }
      ],
      "source": [
        "def kiran(**sksk):\n",
        "    print(\"h\" + sksk[\"bye\"])\n",
        "kiran(hi=\"F\",hello=\"3\",bye=\"2\")     \n",
        "\n",
        "def kiran(**sksk):\n",
        "    print(3,sksk[\"bye\"])\n",
        "kiran(hi=\"F\",hello=3,bye=2)     "
      ]
    },
    {
      "cell_type": "code",
      "execution_count": null,
      "id": "7f6d2299",
      "metadata": {
        "id": "7f6d2299",
        "outputId": "fdcf6094-092d-461e-e2cb-70010aee1b86"
      },
      "outputs": [
        {
          "ename": "TypeError",
          "evalue": "can only concatenate str (not \"int\") to str",
          "output_type": "error",
          "traceback": [
            "\u001b[1;31m---------------------------------------------------------------------------\u001b[0m",
            "\u001b[1;31mTypeError\u001b[0m                                 Traceback (most recent call last)",
            "\u001b[1;32m~\\AppData\\Local\\Temp/ipykernel_1640/778526278.py\u001b[0m in \u001b[0;36m<module>\u001b[1;34m\u001b[0m\n\u001b[0;32m      1\u001b[0m \u001b[1;32mdef\u001b[0m \u001b[0mkiran\u001b[0m\u001b[1;33m(\u001b[0m\u001b[1;33m**\u001b[0m\u001b[0msksk\u001b[0m\u001b[1;33m)\u001b[0m\u001b[1;33m:\u001b[0m\u001b[1;33m\u001b[0m\u001b[1;33m\u001b[0m\u001b[0m\n\u001b[0;32m      2\u001b[0m     \u001b[0mprint\u001b[0m\u001b[1;33m(\u001b[0m\u001b[1;34m\"h\"\u001b[0m \u001b[1;33m+\u001b[0m \u001b[0msksk\u001b[0m\u001b[1;33m[\u001b[0m\u001b[1;34m\"bye\"\u001b[0m\u001b[1;33m]\u001b[0m\u001b[1;33m)\u001b[0m\u001b[1;33m\u001b[0m\u001b[1;33m\u001b[0m\u001b[0m\n\u001b[1;32m----> 3\u001b[1;33m \u001b[0mkiran\u001b[0m\u001b[1;33m(\u001b[0m\u001b[0mhi\u001b[0m\u001b[1;33m=\u001b[0m\u001b[1;34m\"F\"\u001b[0m\u001b[1;33m,\u001b[0m\u001b[0mhello\u001b[0m\u001b[1;33m=\u001b[0m\u001b[1;36m3\u001b[0m\u001b[1;33m,\u001b[0m\u001b[0mbye\u001b[0m\u001b[1;33m=\u001b[0m\u001b[1;36m2\u001b[0m\u001b[1;33m)\u001b[0m  \u001b[1;31m## we can't get a output when str declared in print and int other\u001b[0m\u001b[1;33m\u001b[0m\u001b[1;33m\u001b[0m\u001b[0m\n\u001b[0m",
            "\u001b[1;32m~\\AppData\\Local\\Temp/ipykernel_1640/778526278.py\u001b[0m in \u001b[0;36mkiran\u001b[1;34m(**sksk)\u001b[0m\n\u001b[0;32m      1\u001b[0m \u001b[1;32mdef\u001b[0m \u001b[0mkiran\u001b[0m\u001b[1;33m(\u001b[0m\u001b[1;33m**\u001b[0m\u001b[0msksk\u001b[0m\u001b[1;33m)\u001b[0m\u001b[1;33m:\u001b[0m\u001b[1;33m\u001b[0m\u001b[1;33m\u001b[0m\u001b[0m\n\u001b[1;32m----> 2\u001b[1;33m     \u001b[0mprint\u001b[0m\u001b[1;33m(\u001b[0m\u001b[1;34m\"h\"\u001b[0m \u001b[1;33m+\u001b[0m \u001b[0msksk\u001b[0m\u001b[1;33m[\u001b[0m\u001b[1;34m\"bye\"\u001b[0m\u001b[1;33m]\u001b[0m\u001b[1;33m)\u001b[0m\u001b[1;33m\u001b[0m\u001b[1;33m\u001b[0m\u001b[0m\n\u001b[0m\u001b[0;32m      3\u001b[0m \u001b[0mkiran\u001b[0m\u001b[1;33m(\u001b[0m\u001b[0mhi\u001b[0m\u001b[1;33m=\u001b[0m\u001b[1;34m\"F\"\u001b[0m\u001b[1;33m,\u001b[0m\u001b[0mhello\u001b[0m\u001b[1;33m=\u001b[0m\u001b[1;36m3\u001b[0m\u001b[1;33m,\u001b[0m\u001b[0mbye\u001b[0m\u001b[1;33m=\u001b[0m\u001b[1;36m2\u001b[0m\u001b[1;33m)\u001b[0m  \u001b[1;31m## we can't get a output when str declared in print and int other\u001b[0m\u001b[1;33m\u001b[0m\u001b[1;33m\u001b[0m\u001b[0m\n",
            "\u001b[1;31mTypeError\u001b[0m: can only concatenate str (not \"int\") to str"
          ]
        }
      ],
      "source": [
        "def kiran(**sksk):\n",
        "    print(\"h\" + sksk[\"bye\"])\n",
        "kiran(hi=\"F\",hello=3,bye=2)  ## we can't get a output when str declared in print and int other   "
      ]
    },
    {
      "cell_type": "code",
      "execution_count": null,
      "id": "351dc829",
      "metadata": {
        "id": "351dc829",
        "outputId": "5ded3d16-f541-4096-cd75-7cd9824917ba"
      },
      "outputs": [
        {
          "name": "stdout",
          "output_type": "stream",
          "text": [
            "bye\n",
            "yeet\n",
            "sike\n"
          ]
        }
      ],
      "source": [
        "def kiran (hi=\"bye\"):\n",
        "    print(hi)\n",
        "kiran()\n",
        "kiran(\"yeet\")\n",
        "kiran(\"sike\")\n"
      ]
    },
    {
      "cell_type": "code",
      "execution_count": null,
      "id": "ea78f760",
      "metadata": {
        "id": "ea78f760",
        "outputId": "c96a14dc-349c-43d6-facf-7a20083740ed"
      },
      "outputs": [
        {
          "name": "stdout",
          "output_type": "stream",
          "text": [
            "bye\n",
            "yeet\n"
          ]
        }
      ],
      "source": [
        "def kiran(HI):\n",
        "    for k in HI:\n",
        "        print(k)\n",
        "HI=[\"bye\",\"yeet\"]\n",
        "kiran(HI)"
      ]
    },
    {
      "cell_type": "code",
      "execution_count": null,
      "id": "5f706c5f",
      "metadata": {
        "id": "5f706c5f",
        "outputId": "d1dde6b8-ec3a-4528-9113-0ddbc8788f13"
      },
      "outputs": [
        {
          "name": "stdout",
          "output_type": "stream",
          "text": [
            "4\n",
            "5\n",
            "-2\n",
            "hi\n"
          ]
        }
      ],
      "source": [
        "def sum(s,k):\n",
        "    return s+k\n",
        "print(sum(1,3))\n",
        "print(sum(2,3))\n",
        "\n",
        "def sum(s,k):\n",
        "    return s-k\n",
        "print(sum(1,3))\n",
        "\n",
        "def k(s):\n",
        "    return s\n",
        "print(k(\"hi\"))"
      ]
    },
    {
      "cell_type": "code",
      "execution_count": null,
      "id": "c0a07a9d",
      "metadata": {
        "id": "c0a07a9d",
        "outputId": "e9cc0e62-a02e-469d-b069-cf058b27eedf"
      },
      "outputs": [
        {
          "name": "stdout",
          "output_type": "stream",
          "text": [
            "the lower values 5\n",
            "higher values 2\n"
          ]
        }
      ],
      "source": [
        "def kou(a):\n",
        "    u=0;l=0\n",
        "    for x in a :\n",
        "        \n",
        "        if x.isupper():\n",
        "            u=u+1\n",
        "            \n",
        "        else:\n",
        "            l=l+1\n",
        "    print(\"the lower values\",l)\n",
        "    print(\"higher values\",u)\n",
        "kou(\"KousHik\")"
      ]
    },
    {
      "cell_type": "markdown",
      "id": "921f8825",
      "metadata": {
        "id": "921f8825"
      },
      "source": [
        "# Module-2"
      ]
    },
    {
      "cell_type": "code",
      "execution_count": null,
      "id": "2250a64d",
      "metadata": {
        "id": "2250a64d",
        "outputId": "13ff6e25-f34d-4437-fde4-d18ef0fcb191"
      },
      "outputs": [
        {
          "name": "stdout",
          "output_type": "stream",
          "text": [
            "the string of length 2 is 2\n"
          ]
        }
      ],
      "source": [
        "a=['abc', 'xyz', 'aba', '1221']\n",
        "c=0\n",
        "for x in a :\n",
        "    if len(x)>=2:\n",
        "        if x[0]==x[-1]:\n",
        "            c=c+1\n",
        "print(\"the string of length 2 is\",c)"
      ]
    },
    {
      "cell_type": "code",
      "execution_count": null,
      "id": "b30fd4db",
      "metadata": {
        "id": "b30fd4db",
        "outputId": "ce65f536-02fb-4124-b472-a75d6e3a6e9c"
      },
      "outputs": [
        {
          "name": "stdout",
          "output_type": "stream",
          "text": [
            "enter the value of n: 5\n",
            "enter the value of r: 100\n",
            "1.2858123457505603e-156\n"
          ]
        }
      ],
      "source": [
        "def ncr(n,r):\n",
        "    return fact(n)/(fact(r)*fact(n-r))\n",
        "def fact(n):\n",
        "    fact=1\n",
        "    for i in range(1,n+1):\n",
        "        fact=fact*i\n",
        "    return fact\n",
        "a=int(input(\"enter the value of n: \"))\n",
        "b=int(input(\"enter the value of r: \"))\n",
        "print(ncr(a,b))"
      ]
    },
    {
      "cell_type": "code",
      "execution_count": null,
      "id": "399a371c",
      "metadata": {
        "id": "399a371c",
        "outputId": "4e28cf1e-08f6-4ad1-bed8-79c57730a2a6"
      },
      "outputs": [
        {
          "name": "stdout",
          "output_type": "stream",
          "text": [
            "enter the range6\n",
            "{0: 0, 1: 1, 2: 4, 3: 9, 4: 16, 5: 25, 6: 36}\n",
            "6\n",
            "0\n"
          ]
        }
      ],
      "source": [
        "a=dict()\n",
        "b=int(input(\"enter the range\"))\n",
        "for x in range(b+1):\n",
        "    a[x]=x*x\n",
        "print(a)"
      ]
    },
    {
      "cell_type": "code",
      "execution_count": null,
      "id": "572fe894",
      "metadata": {
        "id": "572fe894",
        "outputId": "efb67383-0964-4040-a1d5-0ab8eee495d1"
      },
      "outputs": [
        {
          "name": "stdout",
          "output_type": "stream",
          "text": [
            "6 1\n"
          ]
        }
      ],
      "source": [
        "a={\n",
        "    1,2,4,5,6\n",
        "}\n",
        "print(max(a),min(a))"
      ]
    },
    {
      "cell_type": "code",
      "execution_count": null,
      "id": "55baa7ad",
      "metadata": {
        "id": "55baa7ad",
        "outputId": "b83c1135-9c4d-4a94-bbff-5707a7770774"
      },
      "outputs": [
        {
          "name": "stdout",
          "output_type": "stream",
          "text": [
            "['hi', 'hello']\n",
            " he\n"
          ]
        }
      ],
      "source": [
        "a=\"hi hello\"\n",
        "print(a.split())\n",
        "print(a[2:5])"
      ]
    },
    {
      "cell_type": "code",
      "execution_count": null,
      "id": "627baeaf",
      "metadata": {
        "id": "627baeaf",
        "outputId": "e670af5b-b76a-41d1-fbc2-c3bae9ba05e4"
      },
      "outputs": [
        {
          "name": "stdout",
          "output_type": "stream",
          "text": [
            "koushikabckiran\n"
          ]
        }
      ],
      "source": [
        "\n",
        "print(\"koushik\",end='abc')\n",
        "print(\"kiran\")"
      ]
    },
    {
      "cell_type": "code",
      "execution_count": null,
      "id": "9079028d",
      "metadata": {
        "id": "9079028d",
        "outputId": "064c7549-61d4-4237-aae3-78813d86e0af"
      },
      "outputs": [
        {
          "name": "stdout",
          "output_type": "stream",
          "text": [
            "enter the commandroll\n",
            "3\n",
            "6\n",
            "5\n",
            "3\n",
            "2\n",
            "6\n"
          ]
        }
      ],
      "source": [
        "import random\n",
        "a=input(\"enter the command\")\n",
        "if \"roll\"==a:\n",
        "    for x in range(6):\n",
        "        a=random.randint(1,6)\n",
        "        print(a)"
      ]
    },
    {
      "cell_type": "code",
      "execution_count": null,
      "id": "ae00249b",
      "metadata": {
        "id": "ae00249b",
        "outputId": "0c775dea-83a1-4af7-b792-c535bdba674d"
      },
      "outputs": [
        {
          "name": "stdout",
          "output_type": "stream",
          "text": [
            "enter thr first number: 5\n",
            "enter the second number: 2\n",
            "product is:  10\n"
          ]
        }
      ],
      "source": [
        "def product(s,k):\n",
        "    if(s<k):\n",
        "        return product(k,s)\n",
        "    elif(k!=0):\n",
        "        return(s+product(s,k-1))\n",
        "    else:\n",
        "        return 0\n",
        "s=int(input(\"enter thr first number: \"))\n",
        "k=int(input(\"enter the second number: \"))\n",
        "print(\"product is: \",product(s,k))"
      ]
    },
    {
      "cell_type": "code",
      "execution_count": null,
      "id": "22d16f8d",
      "metadata": {
        "id": "22d16f8d",
        "outputId": "dd02de68-a967-4a9d-de7f-85dafa5361e8"
      },
      "outputs": [
        {
          "name": "stdout",
          "output_type": "stream",
          "text": [
            "enter number of terms: 6\n",
            "fibo\n",
            "0\n",
            "1\n",
            "1\n",
            "2\n",
            "3\n",
            "5\n"
          ]
        }
      ],
      "source": [
        "def fibo(n):\n",
        "    if n<=1:\n",
        "        return n\n",
        "    else:\n",
        "        return(fibo(n-1)+(fibo(n-2)))\n",
        "nterms = int(input(\"enter number of terms: \"))\n",
        "if nterms<=0:\n",
        "               print(\"enter any postive values: \")\n",
        "else:\n",
        "    print(\"fibo\")\n",
        "for i in range(nterms):\n",
        "            print(fibo(i))\n",
        "               "
      ]
    },
    {
      "cell_type": "code",
      "execution_count": null,
      "id": "46faabc9",
      "metadata": {
        "id": "46faabc9",
        "outputId": "84c9980e-60e7-4dc4-ac2d-7ef69914aea0"
      },
      "outputs": [
        {
          "name": "stdout",
          "output_type": "stream",
          "text": [
            "enter the amount of number's5\n",
            "{1: 1, 2: 4, 3: 9, 4: 16, 5: 25}\n"
          ]
        }
      ],
      "source": [
        "b=int(input(\"enter the amount of number's\"))\n",
        "a=dict()\n",
        "for x in range(1,b+1):\n",
        "    a[x]=x*x\n",
        "print(a)"
      ]
    },
    {
      "cell_type": "code",
      "execution_count": null,
      "id": "aa38db47",
      "metadata": {
        "id": "aa38db47",
        "outputId": "383930d4-493b-4b4c-b4a7-a3ed9514116c"
      },
      "outputs": [
        {
          "name": "stdout",
          "output_type": "stream",
          "text": [
            "['hi,bye,hello']\n",
            ",by\n"
          ]
        }
      ],
      "source": [
        "a=\"hi,bye,hello\"\n",
        "print(a.split())\n",
        "print(a[2:5])"
      ]
    },
    {
      "cell_type": "code",
      "execution_count": null,
      "id": "ede10b2b",
      "metadata": {
        "id": "ede10b2b",
        "outputId": "1227f4a2-6bbf-43c6-81de-5885b60f4bb5"
      },
      "outputs": [
        {
          "name": "stdout",
          "output_type": "stream",
          "text": [
            "4 2\n"
          ]
        }
      ],
      "source": [
        "a=[1,2,3,4,5]\n",
        "a.sort(reverse=True)\n",
        "print(a[1],a[-2])"
      ]
    },
    {
      "cell_type": "code",
      "execution_count": null,
      "id": "571c415e",
      "metadata": {
        "id": "571c415e",
        "outputId": "11d4f50d-6ff9-43b6-d673-f1c9b0e01416"
      },
      "outputs": [
        {
          "name": "stdout",
          "output_type": "stream",
          "text": [
            "['Green', 'White', 'Black', 'Yellow']\n"
          ]
        }
      ],
      "source": [
        "list= ['Red', 'Green', 'White', 'Black', 'Pink', 'Yellow'] \n",
        "list.pop(0)\n",
        "list.pop(3)\n",
        "list.pop()\n",
        "print(list)"
      ]
    },
    {
      "cell_type": "markdown",
      "id": "d8cdefab",
      "metadata": {
        "id": "d8cdefab"
      },
      "source": [
        "### assignment\n"
      ]
    },
    {
      "cell_type": "code",
      "execution_count": null,
      "id": "bbf92c23",
      "metadata": {
        "id": "bbf92c23",
        "outputId": "ff8cd09a-aa53-43d8-f213-5a3c44b96894"
      },
      "outputs": [
        {
          "name": "stdout",
          "output_type": "stream",
          "text": [
            "Hi\n",
            "Okay\n",
            "End\n"
          ]
        }
      ],
      "source": [
        "a=\"hi okay end\"\n",
        "for x in a.split():\n",
        "  print(x.capitalize())"
      ]
    },
    {
      "cell_type": "code",
      "execution_count": null,
      "id": "4905d963",
      "metadata": {
        "id": "4905d963",
        "outputId": "86c6ae74-2aa2-41dd-9a72-04d776d31191"
      },
      "outputs": [
        {
          "name": "stdout",
          "output_type": "stream",
          "text": [
            "hi\n",
            "okay\n"
          ]
        }
      ],
      "source": [
        "a=\"hi okay bye emo\"\n",
        "b=[2,4,6,8,10,12,14,16,18,20]\n",
        "for x in a.split():\n",
        "  if len(x) in b:\n",
        "    print (x)"
      ]
    },
    {
      "cell_type": "code",
      "execution_count": null,
      "id": "cb78310e",
      "metadata": {
        "id": "cb78310e",
        "outputId": "2d7a367a-1eaa-48a6-b509-261f08a65fdc"
      },
      "outputs": [
        {
          "name": "stdout",
          "output_type": "stream",
          "text": [
            "enter number8\n",
            "true\n"
          ]
        }
      ],
      "source": [
        "f1=0;f2=1\n",
        "a=[0,1]\n",
        "for i in range (100):\n",
        "  next=f1+f2\n",
        "  f1=f2\n",
        "  f2=next \n",
        "  a.append(next)\n",
        "fin=int(input(\"enter number\"))\n",
        "if fin in a:\n",
        "  print(\"true\")\n",
        "else:\n",
        "  print(\"false\")"
      ]
    },
    {
      "cell_type": "code",
      "execution_count": null,
      "id": "841fafc6",
      "metadata": {
        "id": "841fafc6",
        "outputId": "1ac56eb4-adf8-42f6-b21a-be70d6724952"
      },
      "outputs": [
        {
          "name": "stdout",
          "output_type": "stream",
          "text": [
            "enter the number: 13\n",
            "enter correct choice\n"
          ]
        }
      ],
      "source": [
        "a=int(input(\"enter the number: \"))\n",
        "b=[4,6,9,11]\n",
        "if a==2:\n",
        "  print(\"28/29\")\n",
        "elif a in b:\n",
        "  print(\"30\")\n",
        "elif a>=13or a<1:\n",
        "  print(\"enter correct choice\")\n",
        "else:\n",
        "  print(\"31\")"
      ]
    },
    {
      "cell_type": "code",
      "execution_count": null,
      "id": "b7a2656c",
      "metadata": {
        "id": "b7a2656c",
        "outputId": "7cfce8e5-79e6-44c7-a7f9-352f68b0ba7d"
      },
      "outputs": [
        {
          "name": "stdout",
          "output_type": "stream",
          "text": [
            "29\n",
            "31\n",
            "37\n",
            "41\n",
            "43\n",
            "47\n"
          ]
        }
      ],
      "source": [
        "def prime():\n",
        "  for i in range(25,50):\n",
        "          c=0\n",
        "          for x in range(1,i+1):\n",
        "           \n",
        "           if i%x==0:\n",
        "             c=c+1\n",
        "          if c<=2:\n",
        "            print(i)\n",
        "prime()  "
      ]
    },
    {
      "cell_type": "code",
      "execution_count": null,
      "id": "ba3f8fbe",
      "metadata": {
        "id": "ba3f8fbe",
        "outputId": "2f7c33e9-f078-407f-ccc2-a15188ae8e29"
      },
      "outputs": [
        {
          "name": "stdout",
          "output_type": "stream",
          "text": [
            "enter the number15\n",
            "enter the last number12\n",
            "15\n",
            "14\n",
            "13\n",
            "12\n"
          ]
        }
      ],
      "source": [
        "a=int(input(\"enter the number\"))\n",
        "b=int(input(\"enter the last number\"))\n",
        "if a>b:\n",
        "  for x in range(a,b-1,-1):\n",
        "    print(x)\n",
        "else:\n",
        "  for x in range(a,b+1):\n",
        "    print(x)"
      ]
    },
    {
      "cell_type": "code",
      "execution_count": null,
      "id": "96e38e33",
      "metadata": {
        "id": "96e38e33",
        "outputId": "728da856-5161-4aad-f9db-bf989c1deadb"
      },
      "outputs": [
        {
          "name": "stdout",
          "output_type": "stream",
          "text": [
            "enter list of intergers: [1556,12,6958]\n",
            "1556126958\n"
          ]
        }
      ],
      "source": [
        "a=eval(input(\"enter list of intergers: \"))\n",
        "b=\"\"\n",
        "for i in a :\n",
        "  b+=str(i)\n",
        "print(b)"
      ]
    },
    {
      "cell_type": "code",
      "execution_count": null,
      "id": "6cbd751f",
      "metadata": {
        "id": "6cbd751f",
        "outputId": "0e206e0c-ee17-4751-af98-d1f364c77cc1"
      },
      "outputs": [
        {
          "name": "stdout",
          "output_type": "stream",
          "text": [
            "121123145\n"
          ]
        }
      ],
      "source": [
        "a=[121,123,145]\n",
        "b=\"\"\n",
        "for x in a:\n",
        "    b=b+str(x)\n",
        "print(b)"
      ]
    },
    {
      "cell_type": "code",
      "execution_count": null,
      "id": "982310b0",
      "metadata": {
        "id": "982310b0",
        "outputId": "94cfaa7a-784d-4535-d42f-beeeccf48792"
      },
      "outputs": [
        {
          "name": "stdout",
          "output_type": "stream",
          "text": [
            "enter the number you want to find palindrome for5\n",
            "palindrome\n"
          ]
        }
      ],
      "source": [
        "  ## 6)check a given string is a pallindrome or not\n",
        "a=int(input(\"enter the number you want to find palindrome for\"))\n",
        "rev=0\n",
        "temp=a\n",
        "while temp>0:\n",
        "    rem=temp%10\n",
        "    rev=(rev*10)+rem\n",
        "    temp=temp//10\n",
        "if a==rev:\n",
        "    print(\"palindrome\")\n",
        "else:\n",
        "    print(\"not a plaindrome\")"
      ]
    },
    {
      "cell_type": "code",
      "execution_count": null,
      "id": "5edbdcc2",
      "metadata": {
        "id": "5edbdcc2",
        "outputId": "8bd26644-f060-4fae-c4a5-712e598608a2"
      },
      "outputs": [
        {
          "name": "stdout",
          "output_type": "stream",
          "text": [
            "enter the number58\n",
            "not a perfect number\n"
          ]
        }
      ],
      "source": [
        "## 5)check a given number is perfect number are not\n",
        "a=int(input(\"enter the number\"))\n",
        "sum=0\n",
        "for i in range (1,a):\n",
        "    if a%i==0:\n",
        "        sum=sum+i\n",
        "if sum==a:\n",
        "        print(\"perfect number\")\n",
        "else:\n",
        "        print(\"not a perfect number\")"
      ]
    },
    {
      "cell_type": "code",
      "execution_count": null,
      "id": "3ba338f0",
      "metadata": {
        "id": "3ba338f0",
        "outputId": "30416c5e-bf9f-4fe0-f51a-cb5ec5dff120"
      },
      "outputs": [
        {
          "name": "stdout",
          "output_type": "stream",
          "text": [
            "enter the number9\n",
            "enter number two6\n",
            "enter the third number5\n",
            "a is max\n"
          ]
        }
      ],
      "source": [
        "##15)program to print greatest of three numbers\n",
        "a=int(input(\"enter the number\"));b=int(input(\"enter number two\"));c=int(input(\"enter the third number\"))\n",
        "if a>b and a>c:\n",
        "    print(\"a is max\")\n",
        "elif b>a and b>c :\n",
        "    print(\"b is max\")\n",
        "else :\n",
        "    print(\"c is max\")"
      ]
    },
    {
      "cell_type": "code",
      "execution_count": null,
      "id": "2176c56f",
      "metadata": {
        "id": "2176c56f",
        "outputId": "14fd0838-01fa-4a71-b78a-e89cc9b7b7e9"
      },
      "outputs": [
        {
          "name": "stdout",
          "output_type": "stream",
          "text": [
            "enter the number6\n",
            "enter the last number1\n",
            "6\n",
            "5\n",
            "4\n",
            "3\n",
            "2\n",
            "1\n"
          ]
        }
      ],
      "source": [
        "##14)given wo integers a and b.if a <b ,print all numbers between in ascending order.if a>b print all numbers between in decending order\n",
        "a=int(input(\"enter the number\"))\n",
        "b=int(input(\"enter the last number\"))\n",
        "if a>b:\n",
        "  for x in range(a,b-1,-1):\n",
        "    print(x)\n",
        "else:\n",
        "  for x in range(a,b+1):\n",
        "    print(x)"
      ]
    },
    {
      "cell_type": "code",
      "execution_count": null,
      "id": "865a9503",
      "metadata": {
        "id": "865a9503",
        "outputId": "5187ea1d-c820-4f24-cbc0-83ce996689c9"
      },
      "outputs": [
        {
          "name": "stdout",
          "output_type": "stream",
          "text": [
            "mark of the student 1 \n",
            "enter the subject marks: 66\n",
            "enter the subject marks: 46\n",
            "enter the subject marks: 55\n",
            "enter the subject marks: 54\n",
            "enter the subject marks: 55\n",
            "FAIL\n"
          ]
        }
      ],
      "source": [
        "## 3)take five subjects from the user and display the grade of the student,if average is 90-100(o),80-89(a+),70-79(a)...\n",
        "print(\"mark of the student 1 \")\n",
        "s1=int(input(\"enter the subject marks: \"))\n",
        "s2=int(input(\"enter the subject marks: \"))\n",
        "s3=int(input(\"enter the subject marks: \"))\n",
        "s4=int(input(\"enter the subject marks: \"))\n",
        "s5=int(input(\"enter the subject marks: \"))\n",
        "total=s1+s2+s3+s4+s5\n",
        "if total>90 and total<100:\n",
        "    print(\"o GRADE\")\n",
        "elif total>80 and total<89:\n",
        "    print(\"a+ GRADE\")\n",
        "elif total>70 and total<79:\n",
        "    print(\"a GRADE\")\n",
        "elif total>60 and total<69:\n",
        "    print(\"b GRADE\")\n",
        "else:\n",
        "    print(\"FAIL\")"
      ]
    },
    {
      "cell_type": "code",
      "execution_count": null,
      "id": "395c2fa6",
      "metadata": {
        "id": "395c2fa6",
        "outputId": "df309793-4cbc-42d9-d23f-704ca1a95a3d"
      },
      "outputs": [
        {
          "name": "stdout",
          "output_type": "stream",
          "text": [
            "Enter first number:5\n",
            "Enter second number:3\n",
            "GCD is: \n",
            "1\n"
          ]
        }
      ],
      "source": [
        "##7)find the gcd of two numbers with and without recursion(5,3=1)\n",
        "##with recursion \n",
        "def gcd(a,b):\n",
        "    if(b==0):\n",
        "        return a\n",
        "    else:\n",
        "        return gcd(b,a%b)\n",
        "a=int(input(\"Enter first number:\"))\n",
        "b=int(input(\"Enter second number:\"))\n",
        "GCD=gcd(a,b)\n",
        "print(\"GCD is: \")\n",
        "print(GCD)\n",
        "\n"
      ]
    },
    {
      "cell_type": "code",
      "execution_count": null,
      "id": "9808ba19",
      "metadata": {
        "id": "9808ba19",
        "outputId": "25a2e129-436c-4660-9766-97005341846c"
      },
      "outputs": [
        {
          "name": "stdout",
          "output_type": "stream",
          "text": [
            "Enter 1st number: 5\n",
            "Enter 2nd number: 3\n",
            "GCD is 1\n"
          ]
        }
      ],
      "source": [
        "##without recursion\n",
        "num1 = int(input(\"Enter 1st number: \"))\n",
        "num2 = int(input(\"Enter 2nd number: \"))\n",
        "gcd=1\n",
        "while (i <= num1 and i <= num2):\n",
        "  if(num1 % i == 0 and num2 % i == 0):\n",
        "    gcd = i\n",
        "  i = i + 1\n",
        "print(\"GCD is\",gcd)"
      ]
    },
    {
      "cell_type": "code",
      "execution_count": null,
      "id": "3966c35d",
      "metadata": {
        "id": "3966c35d",
        "outputId": "c2000a91-8fb6-453d-9d69-63b190b05473"
      },
      "outputs": [
        {
          "name": "stdout",
          "output_type": "stream",
          "text": [
            "14.0\n"
          ]
        }
      ],
      "source": [
        "##10)write a program to calculate the sum of squares given by user(123=14)\n",
        "\n",
        "import math\n",
        "a=[1,2,3]\n",
        "sum=0\n",
        "for x in a:\n",
        "    sum=sum+math.pow(x,2)\n",
        "print(sum)    \n",
        "    "
      ]
    },
    {
      "cell_type": "code",
      "execution_count": null,
      "id": "7be4bca4",
      "metadata": {
        "id": "7be4bca4",
        "outputId": "f529e9c6-a29d-4811-dc20-82bf5d7132c2"
      },
      "outputs": [
        {
          "name": "stdout",
          "output_type": "stream",
          "text": [
            "Enter a number:23456\n",
            "12\n"
          ]
        }
      ],
      "source": [
        "##8)print sum of even digits in a given number\n",
        "n = int(input(\"Enter a number:\"))\n",
        "\n",
        "a= 0\n",
        "\n",
        "while n > 0:\n",
        "    i = n % 10\n",
        "    if i % 2 == 0:\n",
        "        a = a + i\n",
        "    n=n//10\n",
        "print(a)\n"
      ]
    },
    {
      "cell_type": "code",
      "execution_count": null,
      "id": "d9ae731a",
      "metadata": {
        "id": "d9ae731a",
        "outputId": "f7c2fecc-b600-4cf1-b75a-916c2fdea97b"
      },
      "outputs": [
        {
          "name": "stdout",
          "output_type": "stream",
          "text": [
            "vowels 5\n",
            "consonents 10\n"
          ]
        }
      ],
      "source": [
        "a=\"gitamuniversity\"\n",
        "b=[\"i\",\"a\",\"e\",\"o\",\"U\"]\n",
        "v=0\n",
        "c=0\n",
        "for x in a:\n",
        "    if x in b:\n",
        "        v=v+1\n",
        "    else:\n",
        "        c=c+1\n",
        "print(\"vowels\",v)\n",
        "print(\"consonents\",c)\n"
      ]
    },
    {
      "cell_type": "code",
      "execution_count": null,
      "id": "d96ae48a",
      "metadata": {
        "id": "d96ae48a",
        "outputId": "ff04a7b5-01c9-4baf-ed91-e77f2fde8b7a"
      },
      "outputs": [
        {
          "name": "stdout",
          "output_type": "stream",
          "text": [
            "This\n",
            "is\n",
            "python\n"
          ]
        }
      ],
      "source": [
        "a=\"This is a python class\"\n",
        "b=[2,4,6,8,10,12,14,16,18,20]\n",
        "for x in a.split():\n",
        "  if len(x) in b:\n",
        "    print (x)\n",
        "    "
      ]
    },
    {
      "cell_type": "markdown",
      "id": "99392a05",
      "metadata": {
        "id": "99392a05"
      },
      "source": [
        "### Files"
      ]
    },
    {
      "cell_type": "code",
      "execution_count": null,
      "id": "83c87e07",
      "metadata": {
        "id": "83c87e07",
        "outputId": "012d6c0d-c97d-4326-aaa8-d1804b4b38a9"
      },
      "outputs": [
        {
          "name": "stdout",
          "output_type": "stream",
          "text": [
            "hi\n"
          ]
        }
      ],
      "source": [
        "k=open(\"kiran\",\"w\")\n",
        "k.write(\"hi\")\n",
        "k.close()\n",
        "k=open(\"kiran\",\"r\")\n",
        "print(k.read())"
      ]
    },
    {
      "cell_type": "code",
      "execution_count": null,
      "id": "b4f64196",
      "metadata": {
        "id": "b4f64196",
        "outputId": "1b8ae843-1b48-4914-c6b4-6a81a76ae508"
      },
      "outputs": [
        {
          "name": "stdout",
          "output_type": "stream",
          "text": [
            "hey there \n",
            "\n",
            " hi\n"
          ]
        }
      ],
      "source": [
        "f=open(\"kiran\",\"w\")\n",
        "f.write(\"hey there \\n hi\")\n",
        "f.close()\n",
        "f=open(\"kiran\",\"r\")\n",
        "print(f.readline())\n",
        "print(f.readline())\n",
        "f.close()"
      ]
    },
    {
      "cell_type": "code",
      "execution_count": null,
      "id": "de19c1b4",
      "metadata": {
        "id": "de19c1b4",
        "outputId": "18a1fb14-a569-44b0-e1b4-c21137ab7257"
      },
      "outputs": [
        {
          "name": "stdout",
          "output_type": "stream",
          "text": [
            "okay\n"
          ]
        }
      ],
      "source": [
        "f=open(\"kiran.txt\",\"r\")\n",
        "print(f.read())\n",
        "f.close()\n"
      ]
    },
    {
      "cell_type": "code",
      "execution_count": null,
      "id": "8f37b095",
      "metadata": {
        "id": "8f37b095",
        "outputId": "100fdb53-106e-4fb1-d474-d47b5fb4920d"
      },
      "outputs": [
        {
          "name": "stdout",
          "output_type": "stream",
          "text": [
            "true\n"
          ]
        }
      ],
      "source": [
        "import os\n",
        "if os.path.exists(\"kiran.txt\"):\n",
        "    #os.remove(\"kiran.txt\")\n",
        "    print(\"true\")\n",
        "else:\n",
        "    print(\"false\")"
      ]
    },
    {
      "cell_type": "code",
      "execution_count": null,
      "id": "df755d8a",
      "metadata": {
        "id": "df755d8a",
        "outputId": "0858ffb2-5a69-4a23-df1f-0187b9848aee"
      },
      "outputs": [
        {
          "name": "stdout",
          "output_type": "stream",
          "text": [
            "hey there \n",
            "\n",
            " hi\n"
          ]
        }
      ],
      "source": [
        "f=open(\"kiran\",\"r\")\n",
        "print(f.readline())\n",
        "print(f.readline())\n",
        "f.close()"
      ]
    },
    {
      "cell_type": "code",
      "execution_count": null,
      "id": "1de55119",
      "metadata": {
        "id": "1de55119"
      },
      "outputs": [],
      "source": [
        "import os\n",
        "os.rmdir(\"C:\\\\Users\\CSE22004\\Documents\\Python Scripts\")"
      ]
    },
    {
      "cell_type": "code",
      "execution_count": null,
      "id": "de25b42c",
      "metadata": {
        "id": "de25b42c",
        "outputId": "7ff9c275-7d18-46bc-d275-ed021b3e067a"
      },
      "outputs": [
        {
          "name": "stdout",
          "output_type": "stream",
          "text": [
            "false\n"
          ]
        }
      ],
      "source": [
        "import os \n",
        "if os.path.exists(\"koushik.txt\"):\n",
        "    print(\"true\")\n",
        "else:\n",
        "    print(\"false\")"
      ]
    },
    {
      "cell_type": "code",
      "execution_count": null,
      "id": "14a32659",
      "metadata": {
        "id": "14a32659",
        "outputId": "734b95df-66bc-42be-e19d-af4f34b83371"
      },
      "outputs": [
        {
          "name": "stdout",
          "output_type": "stream",
          "text": [
            "bitchesss\n"
          ]
        }
      ],
      "source": [
        "f=open(\"C:\\\\Users\\CSE22004\\Desktop\\okay\\koushik.txt\",\"r\")\n",
        "print(f.read())\n",
        "f.close()\n"
      ]
    },
    {
      "cell_type": "code",
      "execution_count": null,
      "id": "2a28e4d3",
      "metadata": {
        "id": "2a28e4d3",
        "outputId": "79d3b3cc-c979-41e2-8068-cf2d78b948fc"
      },
      "outputs": [
        {
          "name": "stdout",
          "output_type": "stream",
          "text": [
            "true\n"
          ]
        }
      ],
      "source": [
        "import os\n",
        "if os.path.exists(\"C:\\\\Users\\CSE22004\\Desktop\\okay\\koushik.txt\"):\n",
        "    os.remove(\"C:\\\\Users\\CSE22004\\Desktop\\okay\\koushik.txt\")\n",
        "    print(\"true\")\n",
        "else:\n",
        "    print(\"false\")"
      ]
    },
    {
      "cell_type": "code",
      "execution_count": null,
      "id": "62f241cc",
      "metadata": {
        "id": "62f241cc",
        "outputId": "ffa8ba1f-636f-41fe-cb33-836111be3245"
      },
      "outputs": [
        {
          "ename": "FileNotFoundError",
          "evalue": "[WinError 2] The system cannot find the file specified: 'C:\\\\Users\\\\CSE22004\\\\Desktop\\\\okay'",
          "output_type": "error",
          "traceback": [
            "\u001b[1;31m---------------------------------------------------------------------------\u001b[0m",
            "\u001b[1;31mFileNotFoundError\u001b[0m                         Traceback (most recent call last)",
            "\u001b[1;32m~\\AppData\\Local\\Temp/ipykernel_1944/978988631.py\u001b[0m in \u001b[0;36m<module>\u001b[1;34m\u001b[0m\n\u001b[0;32m      1\u001b[0m \u001b[1;32mimport\u001b[0m \u001b[0mos\u001b[0m\u001b[1;33m\u001b[0m\u001b[1;33m\u001b[0m\u001b[0m\n\u001b[0;32m      2\u001b[0m \u001b[1;33m\u001b[0m\u001b[0m\n\u001b[1;32m----> 3\u001b[1;33m \u001b[0mos\u001b[0m\u001b[1;33m.\u001b[0m\u001b[0mrmdir\u001b[0m\u001b[1;33m(\u001b[0m\u001b[1;34m\"C:\\\\Users\\CSE22004\\Desktop\\okay\"\u001b[0m\u001b[1;33m)\u001b[0m\u001b[1;33m\u001b[0m\u001b[1;33m\u001b[0m\u001b[0m\n\u001b[0m",
            "\u001b[1;31mFileNotFoundError\u001b[0m: [WinError 2] The system cannot find the file specified: 'C:\\\\Users\\\\CSE22004\\\\Desktop\\\\okay'"
          ]
        }
      ],
      "source": [
        "import os\n",
        "\n",
        "os.rmdir(\"C:\\\\Users\\CSE22004\\Desktop\\okay\")"
      ]
    },
    {
      "cell_type": "markdown",
      "id": "79a51020",
      "metadata": {
        "id": "79a51020"
      },
      "source": [
        "## Module-3"
      ]
    },
    {
      "cell_type": "code",
      "execution_count": null,
      "id": "4543eed0",
      "metadata": {
        "id": "4543eed0",
        "outputId": "8b90d84c-da1d-4940-ac52-eab3df19afcc"
      },
      "outputs": [
        {
          "name": "stdout",
          "output_type": "stream",
          "text": [
            "hi\n"
          ]
        }
      ],
      "source": [
        "k=open(\"kiran\",\"w\")\n",
        "k.write(\"hi\")\n",
        "k.close()\n",
        "k=open(\"kiran\",\"r\")\n",
        "print(k.read())\n",
        "##f=open(\"location\\\\filename\",\"r\")\n",
        "#print(f.read())"
      ]
    },
    {
      "cell_type": "code",
      "execution_count": null,
      "id": "c625309b",
      "metadata": {
        "id": "c625309b",
        "outputId": "67b577b5-6f4d-444d-cfb2-2d9cd81c0b52"
      },
      "outputs": [
        {
          "name": "stdout",
          "output_type": "stream",
          "text": [
            "hi\n"
          ]
        }
      ],
      "source": [
        "k=open(\"kiran\",\"w\")\n",
        "k.write(\"hi\")\n",
        "k.close()\n",
        "k=open(\"kiran\",\"r\")\n",
        "print(k.readline())\n",
        "k.close()"
      ]
    },
    {
      "cell_type": "code",
      "execution_count": null,
      "id": "72796055",
      "metadata": {
        "id": "72796055",
        "outputId": "aed09025-14b1-408b-8f8d-979b86707c76"
      },
      "outputs": [
        {
          "name": "stdout",
          "output_type": "stream",
          "text": [
            "hi\n",
            "hi b\n"
          ]
        }
      ],
      "source": [
        "k=open(\"kiran\",\"w\")\n",
        "k.write(\"hi\")\n",
        "k.close()\n",
        "k=open(\"kiran\",\"r\")\n",
        "print(k.readline())\n",
        "k.close()\n",
        "k=open(\"kiran\",\"a\")##append\n",
        "k.write(\" bye\")\n",
        "k.close()\n",
        "k=open(\"kiran\",\"r\")\n",
        "print(k.read(4))"
      ]
    },
    {
      "cell_type": "code",
      "execution_count": null,
      "id": "288513ee",
      "metadata": {
        "id": "288513ee",
        "outputId": "bd7c0a6a-5878-49f4-9b4b-d2d65480277c"
      },
      "outputs": [
        {
          "name": "stdout",
          "output_type": "stream",
          "text": [
            "5\n"
          ]
        }
      ],
      "source": [
        "k=open(\"hi.txt\",\"w\")\n",
        "k.write(\"sksksksksk\")\n",
        "k=open(\"hi.txt\",\"r\")\n",
        "a=0\n",
        "for x in k.read():\n",
        "    if \"s\"==x:\n",
        "        a=a+1\n",
        "print(a)        \n",
        "    "
      ]
    },
    {
      "cell_type": "code",
      "execution_count": null,
      "id": "0b79e80b",
      "metadata": {
        "id": "0b79e80b",
        "outputId": "679dbe53-5155-4bae-f734-ec34e6db79ca"
      },
      "outputs": [
        {
          "name": "stdout",
          "output_type": "stream",
          "text": [
            "['k', 'i', 'r', 'a', 'n']\n",
            "\n"
          ]
        }
      ],
      "source": [
        "k=open(\"hii.txt\",\"w\")\n",
        "k.write(\"k i r a n\")\n",
        "k.close()\n",
        "k=open(\"hii.txt\",\"r\")\n",
        "c=0\n",
        "b=\"\"\n",
        "print(k.read().split())\n",
        "for x in k.read().split():\n",
        "    b=b+(x)\n",
        "print(b)    "
      ]
    },
    {
      "cell_type": "code",
      "execution_count": null,
      "id": "120cda6e",
      "metadata": {
        "id": "120cda6e",
        "outputId": "1e03d372-c84a-4be0-eb85-3a6e871ba962"
      },
      "outputs": [
        {
          "name": "stdout",
          "output_type": "stream",
          "text": [
            "\n"
          ]
        }
      ],
      "source": [
        "k=open(\"hiii.txt\",\"w\")\n",
        "k.write(\"okay\")\n",
        "k=open(\"hiii.txt\",\"r\")\n",
        "a=k.read()\n",
        "k.close()\n",
        "s=open(\"hiii.txt\",\"w\")\n",
        "s.write(a)\n",
        "p=open(\"hiii.txt\",\"r\")\n",
        "print(p.read())\n",
        "s.close()\n",
        "#m=open(\"hiii.txt\",\"r\")\n"
      ]
    },
    {
      "cell_type": "code",
      "execution_count": null,
      "id": "754926a6",
      "metadata": {
        "id": "754926a6",
        "outputId": "86c617e6-fb2c-401c-8592-7d555ad9d07d"
      },
      "outputs": [
        {
          "name": "stdout",
          "output_type": "stream",
          "text": [
            "abc\n"
          ]
        }
      ],
      "source": [
        "x=[\"a\",\"b\",\"c\"]\n",
        "b=\"\"\n",
        "for x in x:\n",
        "     b=b+(x)\n",
        "print(b)"
      ]
    },
    {
      "cell_type": "code",
      "execution_count": null,
      "id": "450595bc",
      "metadata": {
        "id": "450595bc",
        "outputId": "c0571ba3-5cb7-47a1-9ab9-573b60127f23"
      },
      "outputs": [
        {
          "name": "stdout",
          "output_type": "stream",
          "text": [
            "['acb', 'cbd']\n"
          ]
        }
      ],
      "source": [
        "s=\"acb cbd\"\n",
        "a=s.split().copy()\n",
        "print(a)"
      ]
    },
    {
      "cell_type": "code",
      "execution_count": null,
      "id": "3d934be6",
      "metadata": {
        "id": "3d934be6",
        "outputId": "1952c854-42b7-48b6-c3f5-4f1973d38469"
      },
      "outputs": [
        {
          "name": "stdout",
          "output_type": "stream",
          "text": [
            "2\n",
            "4\n"
          ]
        }
      ],
      "source": [
        "f=open(\"koushik.txt\",\"w\")\n",
        "f.write(\"12345\")\n",
        "f.close()\n",
        "f=open(\"koushik.txt\",\"r\")\n",
        "b=[]\n",
        "for x in f.read():\n",
        "    b.append(int(x))\n",
        "for x in b:\n",
        "    if x%2==0:\n",
        "        print(x)"
      ]
    },
    {
      "cell_type": "code",
      "execution_count": null,
      "id": "952be8fc",
      "metadata": {
        "id": "952be8fc",
        "outputId": "b8a8cd57-fdfc-4acd-e25c-430766069aff"
      },
      "outputs": [
        {
          "name": "stdout",
          "output_type": "stream",
          "text": [
            "   s no.     name  age grade\n",
            "0    1.0    kiran   19     a\n",
            "1    2.0  koushik   18     b\n",
            "2    3.0     mani   17     c\n",
            "3    NaN        x   16     d\n",
            "4    5.0        y   15     f\n"
          ]
        }
      ],
      "source": [
        "import pandas as pd\n",
        "b=pd.read_csv(\"C:\\\\Users\\CSE22004\\Desktop\\\\demo.csv\")\n",
        "print(b.to_string())"
      ]
    },
    {
      "cell_type": "code",
      "execution_count": null,
      "id": "57c87c67",
      "metadata": {
        "id": "57c87c67",
        "outputId": "8a0b9234-0b46-42c5-c342-0fc3d83b791e"
      },
      "outputs": [
        {
          "name": "stdout",
          "output_type": "stream",
          "text": [
            "   s no.  name  age grade\n",
            "2    3.0  mani   17     c\n",
            "4    5.0     y   15     f\n"
          ]
        }
      ],
      "source": [
        "\n",
        "import pandas as pd\n",
        "a=pd.read_csv(\"C:\\\\Users\\CSE22004\\Desktop\\\\demo.csv\")\n",
        "b=pd.DataFrame(a)\n",
        "print(b.loc[[2,4]])"
      ]
    },
    {
      "cell_type": "code",
      "execution_count": null,
      "id": "fec8e5da",
      "metadata": {
        "id": "fec8e5da",
        "outputId": "d18c57c9-65f3-4318-9d96-6a0528cca39b"
      },
      "outputs": [
        {
          "name": "stdout",
          "output_type": "stream",
          "text": [
            "1    18\n",
            "Name: age, dtype: int64\n"
          ]
        }
      ],
      "source": [
        "import pandas as pd\n",
        "a=pd.read_csv(\"C:\\\\Users\\CSE22004\\Desktop\\\\demo.csv\")\n",
        "b=pd.DataFrame(a)\n",
        "print(b.loc[[1]] [\"age\"])"
      ]
    },
    {
      "cell_type": "code",
      "execution_count": null,
      "id": "3bcf40f4",
      "metadata": {
        "id": "3bcf40f4",
        "outputId": "543ed51d-3f5e-447e-9866-d730222c4cc5"
      },
      "outputs": [
        {
          "name": "stdout",
          "output_type": "stream",
          "text": [
            "   s no.     name  age grade\n",
            "0    1.0    kiran   19     a\n",
            "1    2.0  koushik   18     b\n"
          ]
        }
      ],
      "source": [
        "import pandas as pd\n",
        "a=pd.read_csv(\"C:\\\\Users\\CSE22004\\Desktop\\\\demo.csv\")\n",
        "b=pd.DataFrame(a)\n",
        "print(b.loc[(b[\"age\"]==18) | (b[\"age\"]==19)])"
      ]
    },
    {
      "cell_type": "code",
      "execution_count": null,
      "id": "dcb15442",
      "metadata": {
        "id": "dcb15442",
        "outputId": "2108394e-4cbb-44fb-e6d5-725f9fade443"
      },
      "outputs": [
        {
          "name": "stdout",
          "output_type": "stream",
          "text": [
            "3 14 77\n"
          ]
        }
      ],
      "source": [
        "f=open(\"C:\\\\Users\\CSE22004\\Desktop\\\\module.txt\",\"r\")\n",
        "lines=0\n",
        "words=0\n",
        "letters=0\n",
        "for x in f.readlines():\n",
        "    lines=lines+1\n",
        "    words=words+len(x.split())\n",
        "    letters=letters+len(x.strip(\"\\n\"))\n",
        "print(lines,words,letters)"
      ]
    },
    {
      "cell_type": "code",
      "execution_count": null,
      "id": "e5adca78",
      "metadata": {
        "id": "e5adca78",
        "outputId": "ef9abe55-6108-4078-d453-8596a61e6adf"
      },
      "outputs": [
        {
          "name": "stdout",
          "output_type": "stream",
          "text": [
            "lines 3\n",
            "words 14\n",
            "letters 79\n"
          ]
        }
      ],
      "source": [
        "f=open(\"C:\\\\Users\\CSE22004\\Desktop\\\\module.txt\",\"r\")\n",
        "lines=0\n",
        "words=0\n",
        "letters=0\n",
        "for x in f.readlines():\n",
        "    lines=lines+1\n",
        "    words=words+len(x.split())\n",
        "    letters=letters+len(x.strip(\"r\"))\n",
        "print(\"lines\",lines)\n",
        "print(\"words\",words)\n",
        "print(\"letters\",letters)"
      ]
    },
    {
      "cell_type": "code",
      "execution_count": null,
      "id": "e397a6b0",
      "metadata": {
        "id": "e397a6b0",
        "outputId": "b07723be-362d-463b-bc08-a38610df187a"
      },
      "outputs": [
        {
          "name": "stdout",
          "output_type": "stream",
          "text": [
            "24\n",
            "135\n"
          ]
        }
      ],
      "source": [
        "f=open(\"koushik.txt\",\"w\")\n",
        "f.write(\"12345\")\n",
        "f.close()\n",
        "p=open(\"demo1\",\"w\")\n",
        "y=open(\"demo2\",\"w\")\n",
        "f=open(\"koushik.txt\",\"r\")\n",
        "b=[]\n",
        "for x in f.read():\n",
        "    b.append(int(x))\n",
        "for x in b:\n",
        "    if x%2==0:\n",
        "        p.write(str(x))\n",
        "    else:\n",
        "        y.write(str(x))\n",
        "p.close()\n",
        "y.close()\n",
        "p=open(\"demo1\",\"r\")\n",
        "y=open(\"demo2\",\"r\")\n",
        "print(p.read())\n",
        "print(y.read())"
      ]
    },
    {
      "cell_type": "markdown",
      "id": "00a66824",
      "metadata": {
        "id": "00a66824"
      },
      "source": [
        "## kaggle website\n",
        "## google scholar; ilovepdf;filehippo;softsonic;smallpdf;ui path studio\n",
        "## %temp%;temp;mrt"
      ]
    },
    {
      "cell_type": "markdown",
      "id": "d04bb90c",
      "metadata": {
        "id": "d04bb90c"
      },
      "source": [
        "## pandas\n"
      ]
    },
    {
      "cell_type": "code",
      "execution_count": null,
      "id": "a373fa88",
      "metadata": {
        "id": "a373fa88",
        "outputId": "3e7638bc-a63d-4a9f-d15f-f0296834400e"
      },
      "outputs": [
        {
          "name": "stdout",
          "output_type": "stream",
          "text": [
            "  team  positions\n",
            "0  BWT          1\n",
            "1  AMG          2\n",
            "2   RB          3\n"
          ]
        }
      ],
      "source": [
        "import pandas as pd\n",
        "a={\n",
        "    'team':['BWT','AMG','RB'],\n",
        "    'positions':[1,2,3]\n",
        "}\n",
        "b= pd.DataFrame(a)\n",
        "print(b)"
      ]
    },
    {
      "cell_type": "code",
      "execution_count": null,
      "id": "04936671",
      "metadata": {
        "id": "04936671",
        "outputId": "e3489e81-3eb5-4fa5-83b7-a3ecbf37e7a9"
      },
      "outputs": [
        {
          "name": "stdout",
          "output_type": "stream",
          "text": [
            "1.3.4\n"
          ]
        }
      ],
      "source": [
        "import pandas as pd\n",
        "print(pd.__version__)"
      ]
    },
    {
      "cell_type": "code",
      "execution_count": null,
      "id": "6f20621c",
      "metadata": {
        "id": "6f20621c",
        "outputId": "6851ce96-8d8f-45a8-9ad2-969cda5d319c"
      },
      "outputs": [
        {
          "data": {
            "text/plain": [
              "'1.3.4'"
            ]
          },
          "execution_count": 2,
          "metadata": {},
          "output_type": "execute_result"
        }
      ],
      "source": [
        "import pandas \n",
        "pandas.__version__"
      ]
    },
    {
      "cell_type": "code",
      "execution_count": null,
      "id": "55a2b06a",
      "metadata": {
        "id": "55a2b06a",
        "outputId": "7083ded1-02b1-45b8-f0d7-770547bf8745"
      },
      "outputs": [
        {
          "name": "stdout",
          "output_type": "stream",
          "text": [
            "0    1\n",
            "1    2\n",
            "2    3\n",
            "3    4\n",
            "4    5\n",
            "dtype: int64\n"
          ]
        }
      ],
      "source": [
        "import pandas as pd\n",
        "a=[1,2,3,4,5]\n",
        "b=pd.Series(a)\n",
        "print(b)"
      ]
    },
    {
      "cell_type": "code",
      "execution_count": null,
      "id": "22b41730",
      "metadata": {
        "id": "22b41730",
        "outputId": "94c6d510-8ce0-4686-d0ff-8057e905aaee"
      },
      "outputs": [
        {
          "name": "stdout",
          "output_type": "stream",
          "text": [
            "2\n"
          ]
        }
      ],
      "source": [
        "import pandas as pd\n",
        "a=[1,2,3,4,5]\n",
        "b=pd.Series(a)\n",
        "print(b[1])"
      ]
    },
    {
      "cell_type": "code",
      "execution_count": null,
      "id": "8102fda0",
      "metadata": {
        "id": "8102fda0",
        "outputId": "849e39a9-1222-49d7-976d-97a989a4c679"
      },
      "outputs": [
        {
          "name": "stdout",
          "output_type": "stream",
          "text": [
            "a    1\n",
            "b    2\n",
            "c    3\n",
            "d    4\n",
            "e    5\n",
            "dtype: int64\n"
          ]
        }
      ],
      "source": [
        "import pandas as pd\n",
        "a=[1,2,3,4,5]\n",
        "b=pd.Series(a,index=[\"a\",\"b\",\"c\",\"d\",\"e\"])\n",
        "print(b)"
      ]
    },
    {
      "cell_type": "code",
      "execution_count": null,
      "id": "8fade784",
      "metadata": {
        "id": "8fade784",
        "outputId": "708439b8-1a3a-4500-9860-70252dd74934"
      },
      "outputs": [
        {
          "name": "stdout",
          "output_type": "stream",
          "text": [
            "      name  age\n",
            "x  koushik   18\n",
            "y    kiran   19\n",
            "z      xyz   20\n"
          ]
        }
      ],
      "source": [
        "import pandas as pd\n",
        "a={\n",
        "\"name\":[\"koushik\",\"kiran\",\"xyz\"],\n",
        "\"age\":[18,19,20]\n",
        "}\n",
        "b=pd.DataFrame(a,index=[\"x\",\"y\",\"z\"])\n",
        "print(b)"
      ]
    },
    {
      "cell_type": "code",
      "execution_count": null,
      "id": "766e3156",
      "metadata": {
        "id": "766e3156",
        "outputId": "32aa0f81-5a31-4635-f295-ecd1828715b6"
      },
      "outputs": [
        {
          "name": "stdout",
          "output_type": "stream",
          "text": [
            "      name  age\n",
            "0  koushik   18\n",
            "1    kiran   19\n",
            "2      xyz   20\n",
            "name    koushik\n",
            "age          18\n",
            "Name: 0, dtype: object\n"
          ]
        }
      ],
      "source": [
        "import pandas as pd\n",
        "a={\n",
        "\"name\":[\"koushik\",\"kiran\",\"xyz\"],\n",
        "\"age\":[18,19,20]\n",
        "}\n",
        "b=pd.DataFrame(a)\n",
        "print(b)\n",
        "print(b.loc[0])"
      ]
    },
    {
      "cell_type": "code",
      "execution_count": null,
      "id": "180dc0eb",
      "metadata": {
        "id": "180dc0eb",
        "outputId": "8f5d9111-ba83-4752-feb7-59aa52b47d3a"
      },
      "outputs": [
        {
          "name": "stdout",
          "output_type": "stream",
          "text": [
            "      name  age\n",
            "0  koushik   18\n",
            "1    kiran   19\n"
          ]
        }
      ],
      "source": [
        "import pandas as pd\n",
        "a={\n",
        "\"name\":[\"koushik\",\"kiran\",\"xyz\"],\n",
        "\"age\":[18,19,20]\n",
        "}\n",
        "b=pd.DataFrame(a)\n",
        "print(b.loc[[0,1]])### double brackets"
      ]
    },
    {
      "cell_type": "code",
      "execution_count": null,
      "id": "c4a10844",
      "metadata": {
        "id": "c4a10844",
        "outputId": "1ec3c836-8c57-4e71-9e8a-ce59b328afe3"
      },
      "outputs": [
        {
          "ename": "TypeError",
          "evalue": "write() argument must be str, not DataFrame",
          "output_type": "error",
          "traceback": [
            "\u001b[1;31m---------------------------------------------------------------------------\u001b[0m",
            "\u001b[1;31mTypeError\u001b[0m                                 Traceback (most recent call last)",
            "\u001b[1;32m~\\AppData\\Local\\Temp/ipykernel_10388/1188043477.py\u001b[0m in \u001b[0;36m<module>\u001b[1;34m\u001b[0m\n\u001b[0;32m      6\u001b[0m \u001b[0mb\u001b[0m\u001b[1;33m=\u001b[0m\u001b[0mpd\u001b[0m\u001b[1;33m.\u001b[0m\u001b[0mDataFrame\u001b[0m\u001b[1;33m(\u001b[0m\u001b[0ma\u001b[0m\u001b[1;33m)\u001b[0m\u001b[1;33m\u001b[0m\u001b[1;33m\u001b[0m\u001b[0m\n\u001b[0;32m      7\u001b[0m \u001b[0mf\u001b[0m\u001b[1;33m=\u001b[0m\u001b[0mopen\u001b[0m\u001b[1;33m(\u001b[0m\u001b[1;34m\"koushik.csv\"\u001b[0m\u001b[1;33m,\u001b[0m\u001b[1;34m\"w\"\u001b[0m\u001b[1;33m)\u001b[0m\u001b[1;33m\u001b[0m\u001b[1;33m\u001b[0m\u001b[0m\n\u001b[1;32m----> 8\u001b[1;33m \u001b[0mf\u001b[0m\u001b[1;33m.\u001b[0m\u001b[0mwrite\u001b[0m\u001b[1;33m(\u001b[0m\u001b[0mb\u001b[0m\u001b[1;33m)\u001b[0m\u001b[1;33m\u001b[0m\u001b[1;33m\u001b[0m\u001b[0m\n\u001b[0m\u001b[0;32m      9\u001b[0m \u001b[0mf\u001b[0m\u001b[1;33m.\u001b[0m\u001b[0mclose\u001b[0m\u001b[1;33m(\u001b[0m\u001b[1;33m)\u001b[0m\u001b[1;33m\u001b[0m\u001b[1;33m\u001b[0m\u001b[0m\n\u001b[0;32m     10\u001b[0m \u001b[0mf\u001b[0m\u001b[1;33m=\u001b[0m\u001b[0mopen\u001b[0m\u001b[1;33m(\u001b[0m\u001b[1;34m\"koushik.csv\"\u001b[0m\u001b[1;33m,\u001b[0m\u001b[1;34m\"r\"\u001b[0m\u001b[1;33m)\u001b[0m\u001b[1;33m\u001b[0m\u001b[1;33m\u001b[0m\u001b[0m\n",
            "\u001b[1;31mTypeError\u001b[0m: write() argument must be str, not DataFrame"
          ]
        }
      ],
      "source": [
        "import pandas as pd\n",
        "a={\n",
        "\"name\":[\"koushik\",\"kiran\",\"xyz\"],\n",
        "\"age\":[18,19,20]\n",
        "}\n",
        "b=pd.DataFrame(a)\n",
        "f=open(\"koushik.csv\",\"w\")\n",
        "f.write(b)\n",
        "f.close()\n",
        "f=open(\"koushik.csv\",\"r\")\n",
        "print(f.read())\n",
        "#error"
      ]
    },
    {
      "cell_type": "code",
      "execution_count": null,
      "id": "0b50ef5d",
      "metadata": {
        "id": "0b50ef5d",
        "outputId": "58a416e9-4e13-4d9b-df68-c884fcdba7b2"
      },
      "outputs": [
        {
          "name": "stdout",
          "output_type": "stream",
          "text": [
            "   s no.   name  age\n",
            "0      1  kiran   18\n"
          ]
        }
      ],
      "source": [
        "import pandas as pd\n",
        "b=pd.read_csv(\"C:\\\\Users\\CSE22004\\Desktop\\\\demo.csv\")\n",
        "print(b)#to string prints entire data frame\n",
        "#print(b)#this may not print entire data frame if it is too large"
      ]
    },
    {
      "cell_type": "code",
      "execution_count": null,
      "id": "0c098cb3",
      "metadata": {
        "id": "0c098cb3",
        "outputId": "1e9145ab-dbf0-4c1e-ead8-db27d71406df"
      },
      "outputs": [
        {
          "name": "stdout",
          "output_type": "stream",
          "text": [
            "60\n",
            "1000\n"
          ]
        }
      ],
      "source": [
        "import pandas as pd\n",
        "print(pd.options.display.max_rows)\n",
        "pd.options.display.max_rows=1000\n",
        "print(pd.options.display.max_rows)"
      ]
    },
    {
      "cell_type": "code",
      "execution_count": null,
      "id": "6c4f0d49",
      "metadata": {
        "id": "6c4f0d49",
        "outputId": "13df18d8-d025-4f68-a86c-4a0b29fca1a7"
      },
      "outputs": [
        {
          "name": "stdout",
          "output_type": "stream",
          "text": [
            "      name  age\n",
            "1  koushik   18\n",
            "2        x   19\n",
            "3        y   20\n",
            "4        z   21\n",
            "      name  age\n",
            "1  koushik   18\n",
            "2        x   19\n",
            "3        y   20\n",
            "4        z   21\n",
            "1000\n"
          ]
        }
      ],
      "source": [
        "import pandas as pd\n",
        "a={\n",
        "    \"name\":[\"koushik\",\"x\",\"y\",\"z\"],\n",
        "    \"age\":[18,19,20,21]\n",
        "}\n",
        "b=pd.DataFrame(a,index=[1,2,3,4])\n",
        "print(b.head(5))#heads display the starting rows of a file\n",
        "print(b.tail(5))\n",
        "print(pd.options.display.max_rows)"
      ]
    },
    {
      "cell_type": "code",
      "execution_count": null,
      "id": "a1441d4c",
      "metadata": {
        "id": "a1441d4c",
        "outputId": "1a8b09c5-3096-43c2-9b30-6e3ea7ddb3c5"
      },
      "outputs": [
        {
          "name": "stdout",
          "output_type": "stream",
          "text": [
            "name     z\n",
            "age     21\n",
            "Name: 4, dtype: object\n",
            "3\n"
          ]
        }
      ],
      "source": [
        "import pandas as pd \n",
        "a={\n",
        "    \"name\":[\"koushik\",\"x\",\"y\",\"z\"],\n",
        "    \"age\":[18,19,20,21]\n",
        "}\n",
        "b=pd.DataFrame(a,index=[1,2,3,4])\n",
        "print(b.loc[4])\n",
        "b=[2,3,4,5]\n",
        "c=pd.Series(b,index=[\"x\",\"y\",\"z\",\"a\"])\n",
        "print(c[\"y\"])"
      ]
    },
    {
      "cell_type": "code",
      "execution_count": null,
      "id": "8d59bbcf",
      "metadata": {
        "id": "8d59bbcf",
        "outputId": "82f25dd9-47b9-4a19-d0df-62d37e18ec2e"
      },
      "outputs": [
        {
          "name": "stdout",
          "output_type": "stream",
          "text": [
            "<class 'pandas.core.frame.DataFrame'>\n",
            "RangeIndex: 4 entries, 0 to 3\n",
            "Data columns (total 2 columns):\n",
            " #   Column  Non-Null Count  Dtype \n",
            "---  ------  --------------  ----- \n",
            " 0   name    4 non-null      object\n",
            " 1   age     4 non-null      int64 \n",
            "dtypes: int64(1), object(1)\n",
            "memory usage: 192.0+ bytes\n",
            "None\n"
          ]
        }
      ],
      "source": [
        "import pandas as pd \n",
        "a={\n",
        "    \"name\":[\"koushik\",\"x\",\"y\",\"z\"],\n",
        "    \"age\":[18,19,20,21]\n",
        "}\n",
        "b=pd.DataFrame(a)\n",
        "print(b.info())"
      ]
    },
    {
      "cell_type": "code",
      "execution_count": null,
      "id": "5542ef53",
      "metadata": {
        "id": "5542ef53",
        "outputId": "4ccf4a78-600d-4c58-cdb4-e992da12c42f"
      },
      "outputs": [
        {
          "name": "stdout",
          "output_type": "stream",
          "text": [
            "   name\n",
            "2  mani\n",
            "3     x\n",
            "4     y\n",
            "   name\n",
            "2  mani\n",
            "3     x\n",
            "4     y\n"
          ]
        }
      ],
      "source": [
        "import pandas as pd\n",
        "a=pd.read_csv(\"C:\\\\Users\\CSE22004\\Desktop\\\\demo.csv\")\n",
        "print(a.loc[2:5,[\"name\"]])#by using location \n",
        "print(a[2:5] [[\"name\"]])#normal call"
      ]
    },
    {
      "cell_type": "code",
      "execution_count": null,
      "id": "4b4209f4",
      "metadata": {
        "id": "4b4209f4",
        "outputId": "9bbae842-1788-4ec5-bdfa-506fc28f0006"
      },
      "outputs": [
        {
          "name": "stdout",
          "output_type": "stream",
          "text": [
            "   s no.   name  age\n",
            "0      1  kiran   19\n"
          ]
        }
      ],
      "source": [
        "import pandas as pd\n",
        "a=pd.read_csv(\"C:\\\\Users\\CSE22004\\Desktop\\\\demo.csv\")\n",
        "print(a.loc[a[\"age\"]==19])\n"
      ]
    },
    {
      "cell_type": "code",
      "execution_count": null,
      "id": "0a70b590",
      "metadata": {
        "id": "0a70b590",
        "outputId": "9e84f9f4-0264-415e-9c30-e70cc299ad86"
      },
      "outputs": [
        {
          "name": "stdout",
          "output_type": "stream",
          "text": [
            "[   s no.     name  age\n",
            "0      1    kiran   19\n",
            "1      2  koushik   18]\n"
          ]
        }
      ],
      "source": [
        "import pandas as pd\n",
        "a=pd.read_csv(\"C:\\\\Users\\CSE22004\\Desktop\\\\demo.csv\")\n",
        "print([a.loc[(a[\"age\"]==18) | (a[\"age\"]==19)]])"
      ]
    },
    {
      "cell_type": "code",
      "execution_count": null,
      "id": "7bd03834",
      "metadata": {
        "id": "7bd03834",
        "outputId": "3f66baa7-fcb2-4a48-a638-ab88ccbf0e72"
      },
      "outputs": [
        {
          "name": "stdout",
          "output_type": "stream",
          "text": [
            "   s no.   name  age grade\n",
            "0      1  kiran   19     a\n",
            "2      3   mani   17     c\n"
          ]
        }
      ],
      "source": [
        "import pandas as pd\n",
        "a=pd.read_csv(\"C:\\\\Users\\CSE22004\\Desktop\\\\demo.csv\")\n",
        "print(a.loc[a[\"grade\"].isin([\"a\",\"c\"])])#is used to recognize char "
      ]
    },
    {
      "cell_type": "code",
      "execution_count": null,
      "id": "176a3497",
      "metadata": {
        "id": "176a3497",
        "outputId": "bd4bbea1-5d8f-4fb1-c2a0-09af82e7586b"
      },
      "outputs": [
        {
          "name": "stdout",
          "output_type": "stream",
          "text": [
            "   s no.     name  age grade\n",
            "0    1.0    kiran   19     a\n",
            "1    2.0  koushik   18     b\n",
            "2    3.0     mani   17     c\n",
            "4    5.0        y   15     f\n"
          ]
        }
      ],
      "source": [
        "import pandas as pd\n",
        "a=pd.read_csv(\"C:\\\\Users\\CSE22004\\Desktop\\\\demo.csv\")\n",
        "b=a.dropna()#is used to remove null values\n",
        "print(b.to_string())"
      ]
    },
    {
      "cell_type": "code",
      "execution_count": null,
      "id": "01d5c88a",
      "metadata": {
        "id": "01d5c88a",
        "outputId": "35a63b4b-7f22-4a44-e104-17f27ef0230a"
      },
      "outputs": [
        {
          "name": "stdout",
          "output_type": "stream",
          "text": [
            "   s no.     name  age grade\n",
            "0    1.0    kiran   19     a\n",
            "1    2.0  koushik   18     b\n",
            "2    3.0     mani   17     c\n",
            "3    9.0        x   16     d\n",
            "4    5.0        y   15     f\n"
          ]
        }
      ],
      "source": [
        "import pandas as pd\n",
        "a=pd.read_csv(\"C:\\\\Users\\CSE22004\\Desktop\\\\demo.csv\")\n",
        "a.fillna(9,inplace=True)\n",
        "print(a)"
      ]
    },
    {
      "cell_type": "code",
      "execution_count": null,
      "id": "62a84a16",
      "metadata": {
        "id": "62a84a16",
        "outputId": "a3a432fc-e035-4e34-ad96-60dddfa8fdd4"
      },
      "outputs": [
        {
          "name": "stdout",
          "output_type": "stream",
          "text": [
            "   s no.     name  age grade\n",
            "0    1.0    kiran   19     a\n",
            "1    2.0  koushik   18     b\n",
            "2    3.0     mani   17     c\n",
            "3    NaN        x   16     d\n",
            "4    5.0        y   15     f\n"
          ]
        }
      ],
      "source": [
        "import pandas as pd\n",
        "b=pd.read_csv(\"C:\\\\Users\\CSE22004\\Desktop\\\\demo.csv\")\n",
        "print(b.to_string())#to string prints entire data frame\n",
        "#print(b)#this may not print entire data frame if it is too large"
      ]
    },
    {
      "cell_type": "code",
      "execution_count": null,
      "id": "30b86bd0",
      "metadata": {
        "id": "30b86bd0",
        "outputId": "a2ed1a08-9626-4785-85b1-34e6600dc311"
      },
      "outputs": [
        {
          "name": "stdout",
          "output_type": "stream",
          "text": [
            "30\n"
          ]
        }
      ],
      "source": [
        "z=lambda a,b,c:a*b*c\n",
        "print(z(2,3,5))\n"
      ]
    },
    {
      "cell_type": "code",
      "execution_count": null,
      "id": "62e67f90",
      "metadata": {
        "id": "62e67f90",
        "outputId": "8c144c9f-ca82-4992-80f8-a398a438127d"
      },
      "outputs": [
        {
          "name": "stdout",
          "output_type": "stream",
          "text": [
            "       name  age gender        dob address having passport  having license\n",
            "0     kiran   19      m  03-Jun-03    vskp              yes            yes\n",
            "1   koushik   18      m  10-Jun-03    vskp               no            yes\n",
            "2      mani   17      m  11-Jun-03     hyd              yes             no\n",
            "3         x   16      f  12-Jun-03     rjy               no             no\n",
            "4         y   15      f  13-Jun-03     kkd               no             no\n",
            "5         z   14      f  14-Jun-03     blr               no             no\n",
            "6       heh   13      m  15-Jun-03     vzm               no             no\n",
            "7       yep   18      f  16-Jun-03     skl              yes            yes\n",
            "8       uhh   16      f  17-Jun-03   delhi              yes             no\n",
            "9       yuh   19      f  18-Jun-03  indore              yes            yes\n",
            "10     okay   20      f  19-Jun-03    vskp              yes            yes\n",
            "11      bye   13      m  20-Jun-03     kkd               no             no\n",
            "12      err   14      m  21-Jun-03     vzm               no             no\n",
            "13       ah   16      f  22-Jun-03     blr              yes             no\n",
            "14      ugh   16      m  23-Jun-03     hyd              yes             no\n",
            "15        k   18      m  24-Jun-03     kkd              yes            yes\n",
            "16     sksk   19      f  25-Jun-03     hyd              yes            yes\n",
            "17    hello   17      m  26-Jun-03     hyd               no             no\n",
            "18      bye   18      f  27-Jun-03     blr              yes            yes\n",
            "19       hi   15      m  28-Jun-03   delhi               no             no\n"
          ]
        }
      ],
      "source": [
        "import pandas as pd \n",
        "a=pd.read_csv(\"C:\\\\Users\\CSE22004\\Documents\\python VU21CSEN0101012\\\\passport.csv\")\n",
        "b=pd.DataFrame(a)\n",
        "print(b)"
      ]
    },
    {
      "cell_type": "code",
      "execution_count": null,
      "id": "f4cdfae7",
      "metadata": {
        "id": "f4cdfae7",
        "outputId": "37ea83a8-9dbb-4a7f-f00b-404fb4b44640"
      },
      "outputs": [
        {
          "name": "stdout",
          "output_type": "stream",
          "text": [
            "       name  age gender        dob address having passport  having license\n",
            "0     kiran   19      m  03-Jun-03    vskp              yes            yes\n",
            "1   koushik   18      m  10-Jun-03    vskp               no            yes\n",
            "2      mani   17      m  11-Jun-03     hyd              yes             no\n",
            "3         x   16      f  12-Jun-03     rjy               no             no\n",
            "4         y   15      f  13-Jun-03     kkd               no             no\n",
            "5         z   14      f  14-Jun-03     blr               no             no\n",
            "6       heh   13      m  15-Jun-03     vzm               no             no\n",
            "7       yep   18      f  16-Jun-03     skl              yes            yes\n",
            "8       uhh   16      f  17-Jun-03   delhi              yes             no\n",
            "9       yuh   19      f  18-Jun-03  indore              yes            yes\n",
            "10     okay   20      f  19-Jun-03    vskp              yes            yes\n",
            "11      bye   13      m  20-Jun-03     kkd               no             no\n",
            "12      err   14      m  21-Jun-03     vzm               no             no\n",
            "13       ah   16      f  22-Jun-03     blr              yes             no\n",
            "14      ugh   16      m  23-Jun-03     hyd              yes             no\n",
            "15        k   18      m  24-Jun-03     kkd              yes            yes\n",
            "16     sksk   19      f  25-Jun-03     hyd              yes            yes\n",
            "17    hello   17      m  26-Jun-03     hyd               no             no\n",
            "18       hi   15      m  28-Jun-03   delhi               no             no\n"
          ]
        }
      ],
      "source": [
        "import pandas as pd \n",
        "a=pd.read_csv(\"C:\\\\Users\\CSE22004\\Documents\\python VU21CSEN0101012\\\\passport.csv\")\n",
        "b=a.drop_duplicates(subset='name',ignore_index=True) ##,keep='last/first'/False ,ignore_index=True\n",
        "print(b)"
      ]
    },
    {
      "cell_type": "code",
      "execution_count": null,
      "id": "2c948813",
      "metadata": {
        "id": "2c948813"
      },
      "outputs": [],
      "source": [
        ""
      ]
    }
  ],
  "metadata": {
    "kernelspec": {
      "display_name": "Python 3 (ipykernel)",
      "language": "python",
      "name": "python3"
    },
    "language_info": {
      "codemirror_mode": {
        "name": "ipython",
        "version": 3
      },
      "file_extension": ".py",
      "mimetype": "text/x-python",
      "name": "python",
      "nbconvert_exporter": "python",
      "pygments_lexer": "ipython3",
      "version": "3.9.7"
    },
    "colab": {
      "name": "Python (1012).ipynb",
      "provenance": [],
      "include_colab_link": true
    }
  },
  "nbformat": 4,
  "nbformat_minor": 5
}