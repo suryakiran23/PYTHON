{
  "cells": [
    {
      "cell_type": "markdown",
      "metadata": {
        "id": "view-in-github",
        "colab_type": "text"
      },
      "source": [
        "<a href=\"https://colab.research.google.com/github/suryakiran23/PYTHON/blob/main/Python_(1012).ipynb\" target=\"_parent\"><img src=\"https://colab.research.google.com/assets/colab-badge.svg\" alt=\"Open In Colab\"/></a>"
      ]
    },
    {
      "cell_type": "markdown",
      "id": "0fb4d8f2",
      "metadata": {
        "id": "0fb4d8f2"
      },
      "source": [
        "## Avg of three numbers"
      ]
    },
    {
      "cell_type": "code",
      "execution_count": null,
      "id": "cc0b37b8",
      "metadata": {
        "id": "cc0b37b8",
        "outputId": "63c389d9-63a3-4dd1-d04a-5df8ccc3fc00"
      },
      "outputs": [
        {
          "name": "stdout",
          "output_type": "stream",
          "text": [
            "20.0\n",
            "<class 'float'>\n"
          ]
        }
      ],
      "source": [
        "a=10;b=20;c=30\n",
        "d=(a+b+c)/3\n",
        "print(d)\n",
        "print(type(d))\n"
      ]
    },
    {
      "cell_type": "markdown",
      "id": "751af435",
      "metadata": {
        "id": "751af435"
      },
      "source": [
        "## Multi of two numbers"
      ]
    },
    {
      "cell_type": "code",
      "execution_count": null,
      "id": "9a9de076",
      "metadata": {
        "id": "9a9de076",
        "outputId": "a259ef56-e8dc-4116-8edf-16fc223947e5"
      },
      "outputs": [
        {
          "name": "stdout",
          "output_type": "stream",
          "text": [
            "<class 'int'>\n",
            "multi of the given two numbers:  200\n"
          ]
        }
      ],
      "source": [
        "a=10;b=20\n",
        "mult=a*b\n",
        "print(type\n",
        "    (mult))\n",
        "print(\"multi of the given two numbers: \",mult)"
      ]
    },
    {
      "cell_type": "markdown",
      "id": "056ba211",
      "metadata": {
        "id": "056ba211"
      },
      "source": [
        "## dynamic addition of two numbers\n"
      ]
    },
    {
      "cell_type": "code",
      "execution_count": null,
      "id": "27dabfa1",
      "metadata": {
        "id": "27dabfa1",
        "outputId": "ce69ca3d-13e6-4365-f707-06066bab3e38"
      },
      "outputs": [
        {
          "name": "stdout",
          "output_type": "stream",
          "text": [
            "ENTER A NUMBER2\n",
            "enter the second number3\n",
            "the sum of two number:  5\n"
          ]
        }
      ],
      "source": [
        "a=int(input( \"ENTER A NUMBER\"))\n",
        "b=int(input(\"enter the second number\"))\n",
        "c=a+b\n",
        "print(\"the sum of two number: \",c)"
      ]
    },
    {
      "cell_type": "code",
      "execution_count": null,
      "id": "33518d19",
      "metadata": {
        "id": "33518d19",
        "outputId": "85fd4640-9100-4ee4-a21a-1568ad56b6bb"
      },
      "outputs": [
        {
          "name": "stdout",
          "output_type": "stream",
          "text": [
            "ENTER A NUMBER2\n",
            "enter the second number3\n",
            "kiran\n",
            "<class 'str'>\n",
            "the sum of two number:  5\n"
          ]
        }
      ],
      "source": [
        "a=int(input( \"ENTER A NUMBER\"));b=int(input(\"enter the second number\"))\n",
        "c=a+b\n",
        "d=\"ki\";e=\"ran\"\n",
        "f=d+e\n",
        "print(f)\n",
        "print(type(f))\n",
        "print(\"the sum of two number: \",c)"
      ]
    },
    {
      "cell_type": "markdown",
      "id": "b9869a1f",
      "metadata": {
        "id": "b9869a1f"
      },
      "source": [
        "## coversion of data types"
      ]
    },
    {
      "cell_type": "markdown",
      "id": "e15f5c5d",
      "metadata": {
        "id": "e15f5c5d"
      },
      "source": [
        "### covert int to float"
      ]
    },
    {
      "cell_type": "code",
      "execution_count": null,
      "id": "87a10ff0",
      "metadata": {
        "id": "87a10ff0",
        "outputId": "626d84bc-ab4c-4f31-c740-390d1df66e1d"
      },
      "outputs": [
        {
          "name": "stdout",
          "output_type": "stream",
          "text": [
            "10.0\n",
            "<class 'float'>\n"
          ]
        }
      ],
      "source": [
        "a=10;b=float(a)\n",
        "print(b)\n",
        "print(type(b))"
      ]
    },
    {
      "cell_type": "markdown",
      "id": "49118fc9",
      "metadata": {
        "id": "49118fc9"
      },
      "source": [
        "### covert float to int"
      ]
    },
    {
      "cell_type": "code",
      "execution_count": null,
      "id": "6b51b68f",
      "metadata": {
        "id": "6b51b68f",
        "outputId": "ea39aa01-c62f-4b7a-e285-fab2c9ed6fed"
      },
      "outputs": [
        {
          "name": "stdout",
          "output_type": "stream",
          "text": [
            "10\n",
            "<class 'int'>\n"
          ]
        }
      ],
      "source": [
        "a=10.0;b=int(a)\n",
        "print(b)\n",
        "print(type(b))"
      ]
    },
    {
      "cell_type": "code",
      "execution_count": null,
      "id": "6c0bf14b",
      "metadata": {
        "id": "6c0bf14b",
        "outputId": "4df82ccd-3d2b-437c-c0f4-8a5fdec29e16"
      },
      "outputs": [
        {
          "name": "stdout",
          "output_type": "stream",
          "text": [
            "10 <class 'int'>\n",
            "10.0 <class 'float'>\n"
          ]
        }
      ],
      "source": [
        "a=10.0;b=int(a)\n",
        "print(b,type(b))\n",
        "c=float(b)\n",
        "print(c,type(c))"
      ]
    },
    {
      "cell_type": "markdown",
      "id": "58b836dc",
      "metadata": {
        "id": "58b836dc"
      },
      "source": [
        "## covert int to str (strn to int isn't possible with alphabet)\n"
      ]
    },
    {
      "cell_type": "code",
      "execution_count": null,
      "id": "686b5fd6",
      "metadata": {
        "id": "686b5fd6",
        "outputId": "947953aa-a0d5-47e2-cfc1-3362a58653ca"
      },
      "outputs": [
        {
          "name": "stdout",
          "output_type": "stream",
          "text": [
            "10 <class 'str'>\n",
            "10 <class 'int'>\n"
          ]
        }
      ],
      "source": [
        "#strn to int isn't possible with alphabet\n",
        "a=10;b=str(a)\n",
        "print(b,type(b))\n",
        "c=int(b)\n",
        "print(c,type(c))"
      ]
    },
    {
      "cell_type": "markdown",
      "id": "0ce75177",
      "metadata": {
        "id": "0ce75177"
      },
      "source": [
        "## boolean function"
      ]
    },
    {
      "cell_type": "code",
      "execution_count": null,
      "id": "37c6ee07",
      "metadata": {
        "id": "37c6ee07",
        "outputId": "649e6e5a-68cf-490b-c01d-e9372846271e"
      },
      "outputs": [
        {
          "name": "stdout",
          "output_type": "stream",
          "text": [
            "True\n",
            "<class 'int'>\n",
            "True\n",
            "<class 'float'>\n"
          ]
        }
      ],
      "source": [
        "a=10;b=float(a)\n",
        "print(bool(a));print (type(a))\n",
        "print(bool(b));print(type(b))"
      ]
    },
    {
      "cell_type": "code",
      "execution_count": null,
      "id": "6f9fee1a",
      "metadata": {
        "id": "6f9fee1a",
        "outputId": "5657bd21-04f1-496f-9b24-4cf7025401b9"
      },
      "outputs": [
        {
          "name": "stdout",
          "output_type": "stream",
          "text": [
            "enter num to check boolean\n",
            "enter num 1: 2\n",
            "enter num2: 3\n",
            "check boolean\n",
            "True True <class 'int'> <class 'float'>\n"
          ]
        }
      ],
      "source": [
        "print(\"enter num to check boolean\");a=int(input(\"enter num 1: \"));b=float(input(\"enter num2: \" ))\n",
        "print(\"check boolean\")\n",
        "print(bool(a),bool(b),type(a),type(b))"
      ]
    },
    {
      "cell_type": "code",
      "execution_count": null,
      "id": "c9cb60bf",
      "metadata": {
        "id": "c9cb60bf",
        "outputId": "ff008686-572a-468f-8e7d-5d77fb3e5d79"
      },
      "outputs": [
        {
          "name": "stdout",
          "output_type": "stream",
          "text": [
            "False <class 'bool'>\n",
            "0\n"
          ]
        }
      ],
      "source": [
        "a=10;b=15\n",
        "c=a>b\n",
        "print(bool(c),type(c))\n",
        "print(int(c))"
      ]
    },
    {
      "cell_type": "code",
      "execution_count": null,
      "id": "9575bf1a",
      "metadata": {
        "id": "9575bf1a",
        "outputId": "b86f93e3-933c-4ec5-d5c1-bb5af00b868b"
      },
      "outputs": [
        {
          "name": "stdout",
          "output_type": "stream",
          "text": [
            "True False <class 'bool'> <class 'bool'>\n"
          ]
        }
      ],
      "source": [
        "a=10;b=5\n",
        "c=a>b;d=b>a;\n",
        "print((c),(d),type(c),type(d))"
      ]
    },
    {
      "cell_type": "code",
      "execution_count": null,
      "id": "7c803907",
      "metadata": {
        "id": "7c803907",
        "outputId": "6a6e0694-d272-4662-bb44-cd96861ba50a"
      },
      "outputs": [
        {
          "name": "stdout",
          "output_type": "stream",
          "text": [
            "True <class 'bool'>\n",
            "1 <class 'bool'>\n"
          ]
        }
      ],
      "source": [
        "a=bool(10)\n",
        "print((a),type(a))\n",
        "print(int(a),type(a))"
      ]
    },
    {
      "cell_type": "markdown",
      "id": "104069fd",
      "metadata": {
        "id": "104069fd"
      },
      "source": [
        "## complex\n"
      ]
    },
    {
      "cell_type": "code",
      "execution_count": null,
      "id": "910d82a7",
      "metadata": {
        "id": "910d82a7",
        "outputId": "92f3db08-5e0f-43b1-b78a-dd205afef885"
      },
      "outputs": [
        {
          "name": "stdout",
          "output_type": "stream",
          "text": [
            "(5+0j)\n"
          ]
        }
      ],
      "source": [
        "a=10\n",
        "print(complex(b))"
      ]
    },
    {
      "cell_type": "code",
      "execution_count": null,
      "id": "163b2c03",
      "metadata": {
        "id": "163b2c03",
        "outputId": "9a499182-a64f-4ffd-c9b5-3abbcb7b5fb9"
      },
      "outputs": [
        {
          "name": "stdout",
          "output_type": "stream",
          "text": [
            "True (23+0j) 23.0\n"
          ]
        }
      ],
      "source": [
        "a=23\n",
        "print(bool(a),complex(a),float(a))"
      ]
    },
    {
      "cell_type": "code",
      "execution_count": null,
      "id": "b0836b52",
      "metadata": {
        "id": "b0836b52",
        "outputId": "f654d5ff-6ffb-4767-9d5e-265f2b8a55e9"
      },
      "outputs": [
        {
          "name": "stdout",
          "output_type": "stream",
          "text": [
            "<class 'complex'>\n"
          ]
        },
        {
          "ename": "TypeError",
          "evalue": "can't convert complex to int",
          "output_type": "error",
          "traceback": [
            "\u001b[1;31m---------------------------------------------------------------------------\u001b[0m",
            "\u001b[1;31mTypeError\u001b[0m                                 Traceback (most recent call last)",
            "\u001b[1;32m~\\AppData\\Local\\Temp/ipykernel_10780/3750108827.py\u001b[0m in \u001b[0;36m<module>\u001b[1;34m\u001b[0m\n\u001b[0;32m      1\u001b[0m \u001b[0ma\u001b[0m\u001b[1;33m=\u001b[0m\u001b[1;36m23\u001b[0m\u001b[1;33m+\u001b[0m\u001b[1;36m2j\u001b[0m\u001b[1;33m\u001b[0m\u001b[1;33m\u001b[0m\u001b[0m\n\u001b[0;32m      2\u001b[0m \u001b[0mprint\u001b[0m\u001b[1;33m(\u001b[0m\u001b[0mtype\u001b[0m\u001b[1;33m(\u001b[0m\u001b[0ma\u001b[0m\u001b[1;33m)\u001b[0m\u001b[1;33m)\u001b[0m\u001b[1;33m\u001b[0m\u001b[1;33m\u001b[0m\u001b[0m\n\u001b[1;32m----> 3\u001b[1;33m \u001b[0mprint\u001b[0m\u001b[1;33m(\u001b[0m\u001b[0mint\u001b[0m\u001b[1;33m(\u001b[0m\u001b[0ma\u001b[0m\u001b[1;33m)\u001b[0m\u001b[1;33m,\u001b[0m\u001b[0mtype\u001b[0m\u001b[1;33m(\u001b[0m\u001b[0ma\u001b[0m\u001b[1;33m)\u001b[0m\u001b[1;33m)\u001b[0m\u001b[1;33m\u001b[0m\u001b[1;33m\u001b[0m\u001b[0m\n\u001b[0m",
            "\u001b[1;31mTypeError\u001b[0m: can't convert complex to int"
          ]
        }
      ],
      "source": [
        "a=23+2j\n",
        "print(type(a))\n",
        "print(int(a),type(a))"
      ]
    },
    {
      "cell_type": "code",
      "execution_count": null,
      "id": "10155708",
      "metadata": {
        "id": "10155708",
        "outputId": "bcc4afa2-9147-4cd6-8deb-f003cbedacb3"
      },
      "outputs": [
        {
          "name": "stdout",
          "output_type": "stream",
          "text": [
            "<class 'complex'>\n",
            "(23+2j) <class 'complex'>\n"
          ]
        }
      ],
      "source": [
        "a=23+2j\n",
        "print(type(a))\n",
        "print(str(a),type(a))"
      ]
    },
    {
      "cell_type": "code",
      "execution_count": null,
      "id": "5da13c4c",
      "metadata": {
        "id": "5da13c4c",
        "outputId": "42b3de1e-7455-4dd4-9772-fcdd4df40e66"
      },
      "outputs": [
        {
          "name": "stdout",
          "output_type": "stream",
          "text": [
            "<class 'complex'>\n"
          ]
        },
        {
          "ename": "TypeError",
          "evalue": "can't convert complex to float",
          "output_type": "error",
          "traceback": [
            "\u001b[1;31m---------------------------------------------------------------------------\u001b[0m",
            "\u001b[1;31mTypeError\u001b[0m                                 Traceback (most recent call last)",
            "\u001b[1;32m~\\AppData\\Local\\Temp/ipykernel_10780/2850350656.py\u001b[0m in \u001b[0;36m<module>\u001b[1;34m\u001b[0m\n\u001b[0;32m      1\u001b[0m \u001b[0ma\u001b[0m\u001b[1;33m=\u001b[0m\u001b[1;36m23\u001b[0m\u001b[1;33m+\u001b[0m\u001b[1;36m2j\u001b[0m\u001b[1;33m\u001b[0m\u001b[1;33m\u001b[0m\u001b[0m\n\u001b[0;32m      2\u001b[0m \u001b[0mprint\u001b[0m\u001b[1;33m(\u001b[0m\u001b[0mtype\u001b[0m\u001b[1;33m(\u001b[0m\u001b[0ma\u001b[0m\u001b[1;33m)\u001b[0m\u001b[1;33m)\u001b[0m\u001b[1;33m\u001b[0m\u001b[1;33m\u001b[0m\u001b[0m\n\u001b[1;32m----> 3\u001b[1;33m \u001b[0mprint\u001b[0m\u001b[1;33m(\u001b[0m\u001b[0mfloat\u001b[0m\u001b[1;33m(\u001b[0m\u001b[0ma\u001b[0m\u001b[1;33m)\u001b[0m\u001b[1;33m,\u001b[0m\u001b[0mtype\u001b[0m\u001b[1;33m(\u001b[0m\u001b[0ma\u001b[0m\u001b[1;33m)\u001b[0m\u001b[1;33m)\u001b[0m\u001b[1;33m\u001b[0m\u001b[1;33m\u001b[0m\u001b[0m\n\u001b[0m",
            "\u001b[1;31mTypeError\u001b[0m: can't convert complex to float"
          ]
        }
      ],
      "source": [
        "a=23+2j\n",
        "print(type(a))\n",
        "print(float(a),type(a))"
      ]
    },
    {
      "cell_type": "markdown",
      "id": "2c55a2c0",
      "metadata": {
        "id": "2c55a2c0"
      },
      "source": [
        "## PYTHON control statements \n"
      ]
    },
    {
      "cell_type": "markdown",
      "id": "3d71d49b",
      "metadata": {
        "id": "3d71d49b"
      },
      "source": [
        "## IF ELSE"
      ]
    },
    {
      "cell_type": "code",
      "execution_count": null,
      "id": "cacc4684",
      "metadata": {
        "id": "cacc4684"
      },
      "outputs": [],
      "source": [
        "a=18\n",
        "if a>18: ###indentation is necessary \n",
        "       print(\"you're eligiable for voting\")### the code should be started below the indenenation"
      ]
    },
    {
      "cell_type": "code",
      "execution_count": null,
      "id": "eebb9d20",
      "metadata": {
        "id": "eebb9d20",
        "outputId": "0ea53ac2-0666-41a2-a484-adae73d04c0c"
      },
      "outputs": [
        {
          "name": "stdout",
          "output_type": "stream",
          "text": [
            "enter the age21\n",
            "eligible for voting\n"
          ]
        }
      ],
      "source": [
        "a=int(input(\"enter the age\"))\n",
        "if a>18:\n",
        "    print(\"eligible for voting\")\n",
        "else:\n",
        "       print(\"not eligigble\")\n"
      ]
    },
    {
      "cell_type": "code",
      "execution_count": null,
      "id": "ba4e0c5d",
      "metadata": {
        "id": "ba4e0c5d",
        "outputId": "8606e219-7b20-454b-bd3d-939b2724db35"
      },
      "outputs": [
        {
          "name": "stdout",
          "output_type": "stream",
          "text": [
            "enter the age18\n",
            "just eligible\n"
          ]
        }
      ],
      "source": [
        "a=int(input(\"enter the age\"))\n",
        "if a>18:\n",
        "    print(\"eligible for voting\")\n",
        "elif a==18:\n",
        "    print(\"just eligible\")\n",
        "else:\n",
        "       print(\"not eligigble\")\n"
      ]
    },
    {
      "cell_type": "code",
      "execution_count": null,
      "id": "6efa0053",
      "metadata": {
        "id": "6efa0053",
        "outputId": "796c3164-3fc5-4731-8eb1-65375fe94f8b"
      },
      "outputs": [
        {
          "name": "stdout",
          "output_type": "stream",
          "text": [
            "enter the number2\n",
            "enter number two3\n",
            "enter the third number9\n",
            "c is max\n"
          ]
        }
      ],
      "source": [
        "a=int(input(\"enter the number\"));b=int(input(\"enter number two\"));c=int(input(\"enter the third number\"))\n",
        "if a>b and a>c:\n",
        "    print(\"a is max\")\n",
        "elif b>a and b>c :\n",
        "    print(\"b is max\")\n",
        "else :\n",
        "    print(\"c is max\")\n",
        "    "
      ]
    },
    {
      "cell_type": "code",
      "execution_count": null,
      "id": "99c26d37",
      "metadata": {
        "id": "99c26d37",
        "outputId": "8d984492-11b9-41e3-8fda-02329f7f3722"
      },
      "outputs": [
        {
          "name": "stdout",
          "output_type": "stream",
          "text": [
            "enter the number2\n",
            "enter number two3\n",
            "enter the third number6\n",
            "enter the forth number9\n",
            "enter the five number4\n",
            "d is max\n"
          ]
        }
      ],
      "source": [
        "a=int(input(\"enter the number: \"));b=int(input(\"enter number two: \"));c=int(input(\"enter the third number\"));d=int(input(\"enter the forth number\"));e=int(input(\"enter the five number\"))\n",
        "if a>b and a>c and a>d and a>e:\n",
        "    print(\"a is max\")\n",
        "elif b>a and b>c and b>d and b>e:\n",
        "    print(\"b is max\")\n",
        "elif c>a and c>b and c>d and c>e:       \n",
        "    print(\"c is max\")\n",
        "elif d>a and d>b and d>c and d>e:       \n",
        "    print(\"d is max\")\n",
        "else:    \n",
        "    print(\"e is max\")"
      ]
    },
    {
      "cell_type": "code",
      "execution_count": null,
      "id": "9452a7ab",
      "metadata": {
        "id": "9452a7ab",
        "outputId": "2c5f9bee-d91b-4586-9784-1869438e8183"
      },
      "outputs": [
        {
          "name": "stdout",
          "output_type": "stream",
          "text": [
            "enter the marks of subjects: 6\n",
            "enter the marks of subjects: : 3\n",
            "enter the marks of subjects: 3\n",
            "enter the marks of subjects: 3\n",
            "enter the marks of the subject3\n",
            "a is max\n"
          ]
        }
      ],
      "source": [
        "a=int(input(\"enter the marks of subjects: \"));b=int(input(\"enter the marks of subjects: : \"));c=int(input(\"enter the marks of subjects: \"));d=int(input(\"enter the marks of subjects: \"));e=int(input(\"enter the marks of the subject\"))\n",
        "if a>b and a>c and a>d and a>e:\n",
        "    print(\"a is max\")\n",
        "elif b>a and b>c and b>d and b>e:\n",
        "    print(\"b is max\")\n",
        "elif c>a and c>b and c>d and c>e:       \n",
        "    print(\"c is max\")\n",
        "elif d>a and d>b and d>c and d>e:       \n",
        "    print(\"d is max\")\n",
        "else:    \n",
        "    print(\"e is max\")"
      ]
    },
    {
      "cell_type": "code",
      "execution_count": null,
      "id": "7110a6c9",
      "metadata": {
        "id": "7110a6c9",
        "outputId": "de2e552a-74d1-43d4-dff6-bc266ebac1b3"
      },
      "outputs": [
        {
          "name": "stdout",
          "output_type": "stream",
          "text": [
            "enter the number9\n",
            "enter the max number18\n",
            "9\n",
            "10\n",
            "11\n",
            "12\n",
            "13\n",
            "14\n",
            "15\n",
            "16\n",
            "17\n"
          ]
        }
      ],
      "source": [
        "a=int(input(\"enter the number\"));b=int(input(\"enter the max number\"))\n",
        "for i in range (a,b):\n",
        "    print (i)\n",
        "        "
      ]
    },
    {
      "cell_type": "code",
      "execution_count": null,
      "id": "3696a901",
      "metadata": {
        "id": "3696a901",
        "outputId": "84068f0f-f666-4f34-8bcf-427385e5868d"
      },
      "outputs": [
        {
          "name": "stdout",
          "output_type": "stream",
          "text": [
            "enter the number2\n",
            "enter the max number100\n",
            "even number  2\n",
            "even number  4\n",
            "even number  6\n",
            "even number  8\n",
            "even number  10\n",
            "even number  12\n",
            "even number  14\n",
            "even number  16\n",
            "even number  18\n",
            "even number  20\n",
            "even number  22\n",
            "even number  24\n",
            "even number  26\n",
            "even number  28\n",
            "even number  30\n",
            "even number  32\n",
            "even number  34\n",
            "even number  36\n",
            "even number  38\n",
            "even number  40\n",
            "even number  42\n",
            "even number  44\n",
            "even number  46\n",
            "even number  48\n",
            "even number  50\n",
            "even number  52\n",
            "even number  54\n",
            "even number  56\n",
            "even number  58\n",
            "even number  60\n",
            "even number  62\n",
            "even number  64\n",
            "even number  66\n",
            "even number  68\n",
            "even number  70\n",
            "even number  72\n",
            "even number  74\n",
            "even number  76\n",
            "even number  78\n",
            "even number  80\n",
            "even number  82\n",
            "even number  84\n",
            "even number  86\n",
            "even number  88\n",
            "even number  90\n",
            "even number  92\n",
            "even number  94\n",
            "even number  96\n",
            "even number  98\n",
            "odd number  98\n"
          ]
        }
      ],
      "source": [
        "a=int(input(\"enter the number\"));b=int(input(\"enter the max number\"))\n",
        "for i in range (a,b):\n",
        "    if i%2==0:\n",
        "        print(\"even number \",i)\n",
        "else:\n",
        "    print (\"odd number \",i)\n",
        "        "
      ]
    },
    {
      "cell_type": "markdown",
      "id": "1171686a",
      "metadata": {
        "id": "1171686a"
      },
      "source": [
        "## Multi tables\n"
      ]
    },
    {
      "cell_type": "code",
      "execution_count": null,
      "id": "8d90960b",
      "metadata": {
        "id": "8d90960b",
        "outputId": "6f378dac-4694-4cb6-f31f-34397da738a5"
      },
      "outputs": [
        {
          "name": "stdout",
          "output_type": "stream",
          "text": [
            "enter the number0\n",
            "enter the max number10\n",
            "even number  0\n",
            "even number  2\n",
            "even number  4\n",
            "even number  6\n",
            "even number  8\n",
            "odd number  0\n",
            "odd number  3\n",
            "odd number  6\n",
            "odd number  9\n"
          ]
        }
      ],
      "source": [
        "a=int(input(\"enter the number\"));b=int(input(\"enter the max number\"))\n",
        "for i in range (a,b,2):\n",
        "\n",
        "        print(\"even number \",i)\n",
        "for j in range (a,b,3):\n",
        "\n",
        "    print (\"odd number \",j)\n",
        "        "
      ]
    },
    {
      "cell_type": "code",
      "execution_count": null,
      "id": "99da0c52",
      "metadata": {
        "id": "99da0c52",
        "outputId": "1dccac65-ae40-43b2-e183-388a86d844eb"
      },
      "outputs": [
        {
          "name": "stdout",
          "output_type": "stream",
          "text": [
            "Enter the number to begin with 5\n",
            "enter the max number 9\n",
            "5\n",
            "6\n",
            "7\n",
            "8\n"
          ]
        }
      ],
      "source": [
        "a=int(input(\"Enter the number to begin with \"));b=int(input(\"enter the max number \"))\n",
        "for i in range (a,b):\n",
        "     print(i)"
      ]
    },
    {
      "cell_type": "markdown",
      "id": "e43379f7",
      "metadata": {
        "id": "e43379f7"
      },
      "source": [
        "## Module 2 programs in python\n",
        "\n",
        "\n"
      ]
    },
    {
      "cell_type": "code",
      "execution_count": null,
      "id": "82a1621f",
      "metadata": {
        "id": "82a1621f",
        "outputId": "90ebaccd-9726-4ce0-e278-e3a647bf870d"
      },
      "outputs": [
        {
          "name": "stdout",
          "output_type": "stream",
          "text": [
            "enter the max number 10\n",
            "enter the first number1\n",
            "55\n"
          ]
        }
      ],
      "source": [
        "a=int(input(\"enter the max number \"));b=int(input(\"enter the first number\"))\n",
        "sum=0\n",
        "while b<=a:\n",
        "    sum=sum+b\n",
        "    b=b+1\n",
        "print(sum)"
      ]
    },
    {
      "cell_type": "code",
      "execution_count": null,
      "id": "6f01d0ff",
      "metadata": {
        "id": "6f01d0ff",
        "outputId": "6209fd81-8fe4-4e0f-c77e-88eb540cf0ed"
      },
      "outputs": [
        {
          "name": "stdout",
          "output_type": "stream",
          "text": [
            "enter the first side 5\n",
            "enter the second side5\n",
            "enter the third side5\n",
            "equalilater triangle\n"
          ]
        }
      ],
      "source": [
        "a=int(input(\"enter the first side \"));b=int(input(\"enter the second side\"));c=int(input(\"enter the third side\"))\n",
        "\n",
        "if a==b and a==c and c==a:\n",
        "    \n",
        "    print(\"equalilater triangle\")\n",
        "elif a==b or a==c or  c==a:\n",
        "    \n",
        "    print(\"isoscles trinagle \")\n",
        "else:\n",
        "    print(\"scalen triangle\")\n",
        "    "
      ]
    },
    {
      "cell_type": "code",
      "execution_count": null,
      "id": "f5ef7dbe",
      "metadata": {
        "id": "f5ef7dbe",
        "outputId": "c424ee2f-4818-448f-f35f-cd92b2bd3538"
      },
      "outputs": [
        {
          "name": "stdout",
          "output_type": "stream",
          "text": [
            "enter the year 2022\n",
            "not a leap year\n"
          ]
        }
      ],
      "source": [
        "a=int(input(\"enter the year \"))\n",
        "\n",
        "if a%400==0:\n",
        "    print(\"it is a leap year\")\n",
        "elif a%100==0:\n",
        "    print(\"not a leap year \")\n",
        "elif a%4==0:\n",
        "    print(\"it is a leap year\")\n",
        "else:\n",
        "    print(\"not a leap year\")\n",
        "    "
      ]
    },
    {
      "cell_type": "code",
      "execution_count": null,
      "id": "9c5dd844",
      "metadata": {
        "id": "9c5dd844",
        "outputId": "63c91c4c-7643-4fa9-d5be-f3ff2d1990ea"
      },
      "outputs": [
        {
          "name": "stdout",
          "output_type": "stream",
          "text": [
            "enter the number5\n",
            "enter number two2\n",
            "enter the third number1\n",
            "c is min\n"
          ]
        }
      ],
      "source": [
        "a=int(input(\"enter the number\"));b=int(input(\"enter number two\"));c=int(input(\"enter the third number\"))\n",
        "if a<b and a<c:\n",
        "    print(\"a is min\")\n",
        "elif b<a and b<c :\n",
        "    print(\"b is min\")\n",
        "else :\n",
        "    print(\"c is min\")\n",
        "    "
      ]
    },
    {
      "cell_type": "code",
      "execution_count": null,
      "id": "4372d056",
      "metadata": {
        "id": "4372d056",
        "outputId": "64dcfccf-5a14-4ea0-946f-da6557205e66"
      },
      "outputs": [
        {
          "name": "stdout",
          "output_type": "stream",
          "text": [
            "enter the  number55\n",
            "the number is divisible by both 5 and 11\n"
          ]
        }
      ],
      "source": [
        "a=int(input(\"enter the  number\"));\n",
        "if a%5==0 and a%11==0:\n",
        "    print(\"the number is divisible by both 5 and 11\")\n",
        "elif a%5==0:\n",
        "    print(\"The number is divisible by 5\")\n",
        "elif a%11==0 :\n",
        "    print(\"The number is divisible by 11\")\n",
        "else :\n",
        "    print(\"The number is not divisible by both\")\n",
        "     \n",
        " \n",
        "  \n"
      ]
    },
    {
      "cell_type": "code",
      "execution_count": null,
      "id": "3e9b2f5e",
      "metadata": {
        "id": "3e9b2f5e",
        "outputId": "37ddf956-e6f6-4f8d-fd77-3704d2d60384"
      },
      "outputs": [
        {
          "name": "stdout",
          "output_type": "stream",
          "text": [
            "enter the number to find factorial for 5\n",
            "120\n"
          ]
        }
      ],
      "source": [
        "a=int(input(\"enter the number to find factorial for \"))\n",
        "fact=1\n",
        "for i in range (1,a+1):\n",
        "    fact=fact*i\n",
        "print(fact)\n"
      ]
    },
    {
      "cell_type": "code",
      "execution_count": null,
      "id": "8a566016",
      "metadata": {
        "id": "8a566016",
        "outputId": "d18cbe93-f59a-4da4-b55e-7aa728bf30a0"
      },
      "outputs": [
        {
          "name": "stdout",
          "output_type": "stream",
          "text": [
            "enter the number you want to find palindrome for1212\n",
            "not a plaindrome\n"
          ]
        }
      ],
      "source": [
        "a=int(input(\"enter the number you want to find palindrome for\"))\n",
        "rev=0\n",
        "temp=a\n",
        "while temp>0:\n",
        "    rem=temp%10\n",
        "    rev=(rev*10)+rem\n",
        "    temp=temp//10\n",
        "if a==rev:\n",
        "    print(\"palindrome\")\n",
        "else:\n",
        "    print(\"not a plaindrome\")"
      ]
    },
    {
      "cell_type": "code",
      "execution_count": null,
      "id": "1942dc8f",
      "metadata": {
        "id": "1942dc8f",
        "outputId": "d2e8cec7-d5b9-4fd5-dea2-72a4f40f2ac6"
      },
      "outputs": [
        {
          "name": "stdout",
          "output_type": "stream",
          "text": [
            "enter number of terms u want to find plandrome for10\n",
            "0 1\n",
            "1\n",
            "2\n",
            "3\n",
            "5\n",
            "8\n",
            "13\n",
            "21\n",
            "34\n",
            "55\n",
            "completion of fibonanci\n"
          ]
        }
      ],
      "source": [
        "a=0;b=1;n=int(input(\"enter number of terms u want to find plandrome for\"))\n",
        "print(a,b)\n",
        "for i in range(1,n):\n",
        "    nextnum=a+b \n",
        "    print(nextnum)\n",
        "    a=b \n",
        "    b=nextnum\n",
        "    i=i+1\n",
        "print(\"completion of fibonanci\")"
      ]
    },
    {
      "cell_type": "markdown",
      "id": "4a1ac88e",
      "metadata": {
        "id": "4a1ac88e"
      },
      "source": [
        "## Lists\n"
      ]
    },
    {
      "cell_type": "code",
      "execution_count": null,
      "id": "4887ec54",
      "metadata": {
        "id": "4887ec54",
        "outputId": "9331bd32-2c8c-4968-a1b1-4fecaf73dea1"
      },
      "outputs": [
        {
          "name": "stdout",
          "output_type": "stream",
          "text": [
            "['apple ', 'cherry', 'melon', 'peach', 'berry']\n",
            "apple \n",
            "['apple ', 'cherry', 'melon']\n",
            "melon\n",
            "['apple ', 'cherry', 'melon', 'peach']\n",
            "['peach', 'berry']\n",
            "['cherry', 'melon', 'peach', 'berry']\n"
          ]
        }
      ],
      "source": [
        "fruits =[\"apple \",\"cherry\",\"melon\",\"peach\",\"berry\"]\n",
        "print(fruits)\n",
        "print(fruits[0])#it is used to print index\n",
        "print(fruits[0:3])#intial index and range is a given number \n",
        "print(fruits[-3])\n",
        "print(fruits[:4])#if the imdex is not given it act as zero\n",
        "print(fruits[3:5])\n",
        "print(fruits[1:])"
      ]
    },
    {
      "cell_type": "code",
      "execution_count": null,
      "id": "f309c1da",
      "metadata": {
        "id": "f309c1da",
        "outputId": "7c09bb44-ac28-4dc1-9ccf-bef92b0e5c60"
      },
      "outputs": [
        {
          "name": "stdout",
          "output_type": "stream",
          "text": [
            "['apple ', 'cherry', 'melon', 'peach', 'berry']\n",
            "5\n",
            "['apple ', 'cherry', 'melon', 'peach', 'berry', 'drangon fruit']\n"
          ]
        }
      ],
      "source": [
        "fruits =[\"apple \",\"cherry\",\"melon\",\"peach\",\"berry\"]\n",
        "print(fruits)\n",
        "print(len(fruits))\n",
        "fruits.append(\"drangon fruit\")# to add elements into list \n",
        "print(fruits)"
      ]
    },
    {
      "cell_type": "code",
      "execution_count": null,
      "id": "84376e8e",
      "metadata": {
        "id": "84376e8e",
        "outputId": "f76489a2-27a2-4d2e-bec3-da4605b4f0f4"
      },
      "outputs": [
        {
          "name": "stdout",
          "output_type": "stream",
          "text": [
            "['apple ', 'cherry', 'melon', 'peach', 'berry']\n",
            "5\n",
            "['apple ', 'cherry', 'melon', 'drangon fruit', 'peach', 'berry']\n",
            "6\n"
          ]
        }
      ],
      "source": [
        "fruits =[\"apple \",\"cherry\",\"melon\",\"peach\",\"berry\"]\n",
        "print(fruits)\n",
        "print(len(fruits))\n",
        "fruits.insert(3,\"drangon fruit\")# to add elements with respective to index\n",
        "print(fruits)\n",
        "print(len(fruits))"
      ]
    },
    {
      "cell_type": "code",
      "execution_count": null,
      "id": "23d05705",
      "metadata": {
        "id": "23d05705",
        "outputId": "0a5cd7ab-ec07-45ca-8e5f-ad94122f1220"
      },
      "outputs": [
        {
          "name": "stdout",
          "output_type": "stream",
          "text": [
            "['apple ', 'cherry', 'melon', 'peach', 'berry', 'potato', 'onion']\n",
            "onion\n",
            "['apple ', 'melon', 'peach', 'berry', 'potato', 'onion']\n"
          ]
        }
      ],
      "source": [
        "fruits =[\"apple \",\"cherry\",\"melon\",\"peach\",\"berry\"]\n",
        "veggies=[\"potato\", \"onion\"]\n",
        "fruits.extend(veggies) # to add elemtns of the another list\n",
        "print(fruits)\n",
        "print(fruits[6])\n",
        "fruits.remove(\"cherry\")# to remove elements from the list\n",
        "print(fruits)"
      ]
    },
    {
      "cell_type": "code",
      "execution_count": null,
      "id": "cb2e29c8",
      "metadata": {
        "id": "cb2e29c8"
      },
      "outputs": [],
      "source": [
        "list = [\"apple\", \"banana\", \"cherry\"]\n",
        "list[2] = \"blackcurrant\"\n",
        "\n",
        "print(list)\n"
      ]
    },
    {
      "cell_type": "code",
      "execution_count": null,
      "id": "a487eb8d",
      "metadata": {
        "id": "a487eb8d",
        "outputId": "c217cddf-48c3-41f0-ddc4-b799c91a9474"
      },
      "outputs": [
        {
          "name": "stdout",
          "output_type": "stream",
          "text": [
            "['hp', 'dell', 'lenovo']\n",
            "enter the element name: ohhh\n",
            "['hp', 'dell', 'ohhh', 'lenovo', 'ugh']\n"
          ]
        }
      ],
      "source": [
        "k=[\"hp\",\"dell\",\"lenovo\"]\n",
        "print(k)\n",
        "a=input(\"enter the element name: \")\n",
        "k.insert(2,a)\n",
        "k.append(\"ugh\")\n",
        "print(k)"
      ]
    },
    {
      "cell_type": "code",
      "execution_count": null,
      "id": "77f0cba5",
      "metadata": {
        "id": "77f0cba5",
        "outputId": "f446f269-2b28-44e4-966c-0651903989fa"
      },
      "outputs": [
        {
          "name": "stdout",
          "output_type": "stream",
          "text": [
            "[1, 'kiran', True, 5j]\n",
            "[1, 2, 4, 5]\n",
            "[2, 3, 4]\n",
            "[True, 5j]\n",
            "[5j]\n",
            "[]\n"
          ]
        }
      ],
      "source": [
        "mix=[1,\"kiran\",bool(1),0+5j]\n",
        "k=[1,2,4,5]\n",
        "s=[2,3,4]\n",
        "print(mix)\n",
        "print(k)\n",
        "print(s)\n",
        "mix.pop(0)# pop is used to remove the element by the list\n",
        "mix.remove(\"kiran\")# remove to use to delete certain element\n",
        "print(mix)\n",
        "del mix[0] # del is used to delete the element in the list if the index is mentioned it delte the index value in the list \n",
        "print (mix)\n",
        "del k  # del without given index will delete whole list \n",
        "s.clear()\n",
        "print(s)\n",
        "\n",
        "\n"
      ]
    },
    {
      "cell_type": "code",
      "execution_count": null,
      "id": "e94a522f",
      "metadata": {
        "id": "e94a522f",
        "outputId": "22e5cbc9-99be-43ba-aef8-bb764e0d2b87"
      },
      "outputs": [
        {
          "name": "stdout",
          "output_type": "stream",
          "text": [
            "[1, 2, 3, 4, 5, 6, 7]\n",
            "[7, 6, 5, 4, 3, 2, 1]\n",
            "['a', 'i', 'k', 'n', 'r']\n",
            "['r', 'n', 'k', 'i', 'a']\n"
          ]
        }
      ],
      "source": [
        "num=[1,5,3,7,2,4,6]\n",
        "num.sort()#it sorts according to order\n",
        "print(num)\n",
        "num.sort(reverse=True) # reverse=True is used to reverse the list ie: descending order \n",
        "print(num)\n",
        "pp=[\"k\",\"i\",\"r\",\"a\",\"n\"]\n",
        "pp.sort()\n",
        "print(pp)\n",
        "pp.sort(reverse=True)#it also sort alph according to dictionary order\n",
        "print(pp)"
      ]
    },
    {
      "cell_type": "code",
      "execution_count": null,
      "id": "eeb0b1c2",
      "metadata": {
        "id": "eeb0b1c2",
        "outputId": "0c5276ed-b79d-4f42-dffc-d03ffdb49718"
      },
      "outputs": [
        {
          "name": "stdout",
          "output_type": "stream",
          "text": [
            "('a', 'b', 'c')\n"
          ]
        }
      ],
      "source": [
        "t=(\"a\",\"b\",\"c\")# tuple doesn't allow addition of elements\n",
        "print(t)"
      ]
    },
    {
      "cell_type": "code",
      "execution_count": null,
      "id": "f144f6ba",
      "metadata": {
        "id": "f144f6ba",
        "outputId": "95b52c28-8af8-455d-cae5-fd57c24f4871"
      },
      "outputs": [
        {
          "name": "stdout",
          "output_type": "stream",
          "text": [
            "2\n",
            "6\n"
          ]
        }
      ],
      "source": [
        "a=[1,2,3,6,7]\n",
        "for i in range (len(a)):\n",
        "    if a[i]%2==0:\n",
        "          print(a[i])"
      ]
    },
    {
      "cell_type": "code",
      "execution_count": null,
      "id": "c10ca0df",
      "metadata": {
        "id": "c10ca0df",
        "outputId": "17b4907b-988a-4f63-9531-9fc4ef243495"
      },
      "outputs": [
        {
          "name": "stdout",
          "output_type": "stream",
          "text": [
            "enter the numbers: 10\n"
          ]
        },
        {
          "ename": "IndexError",
          "evalue": "list assignment index out of range",
          "output_type": "error",
          "traceback": [
            "\u001b[1;31m---------------------------------------------------------------------------\u001b[0m",
            "\u001b[1;31mIndexError\u001b[0m                                Traceback (most recent call last)",
            "\u001b[1;32m~\\AppData\\Local\\Temp/ipykernel_1828/1138880033.py\u001b[0m in \u001b[0;36m<module>\u001b[1;34m\u001b[0m\n\u001b[0;32m      1\u001b[0m \u001b[0ma\u001b[0m\u001b[1;33m=\u001b[0m\u001b[1;33m[\u001b[0m\u001b[1;33m]\u001b[0m\u001b[1;33m\u001b[0m\u001b[1;33m\u001b[0m\u001b[0m\n\u001b[0;32m      2\u001b[0m \u001b[1;32mfor\u001b[0m \u001b[0mi\u001b[0m \u001b[1;32min\u001b[0m \u001b[0mrange\u001b[0m\u001b[1;33m(\u001b[0m\u001b[1;36m1\u001b[0m\u001b[1;33m,\u001b[0m\u001b[0mn\u001b[0m\u001b[1;33m)\u001b[0m\u001b[1;33m:\u001b[0m\u001b[1;33m\u001b[0m\u001b[1;33m\u001b[0m\u001b[0m\n\u001b[1;32m----> 3\u001b[1;33m     \u001b[0ma\u001b[0m\u001b[1;33m[\u001b[0m\u001b[0mi\u001b[0m\u001b[1;33m]\u001b[0m\u001b[1;33m=\u001b[0m\u001b[0mint\u001b[0m\u001b[1;33m(\u001b[0m\u001b[0minput\u001b[0m\u001b[1;33m(\u001b[0m\u001b[1;34m\"enter the numbers: \"\u001b[0m\u001b[1;33m)\u001b[0m\u001b[1;33m)\u001b[0m\u001b[1;33m\u001b[0m\u001b[1;33m\u001b[0m\u001b[0m\n\u001b[0m\u001b[0;32m      4\u001b[0m     \u001b[1;32mwhile\u001b[0m \u001b[0mlen\u001b[0m\u001b[1;33m(\u001b[0m\u001b[0ma\u001b[0m\u001b[1;33m)\u001b[0m\u001b[1;33m<\u001b[0m\u001b[1;36m10\u001b[0m\u001b[1;33m:\u001b[0m\u001b[1;33m\u001b[0m\u001b[1;33m\u001b[0m\u001b[0m\n\u001b[0;32m      5\u001b[0m         \u001b[0mprint\u001b[0m\u001b[1;33m(\u001b[0m\u001b[0ma\u001b[0m\u001b[1;33m[\u001b[0m\u001b[0mi\u001b[0m\u001b[1;33m]\u001b[0m\u001b[1;33m)\u001b[0m\u001b[1;33m\u001b[0m\u001b[1;33m\u001b[0m\u001b[0m\n",
            "\u001b[1;31mIndexError\u001b[0m: list assignment index out of range"
          ]
        }
      ],
      "source": [
        "a=[]\n",
        "for i in range(1,n):\n",
        "    a[i]=int(input(\"enter the numbers: \"))\n",
        "    while len(a)<10:\n",
        "        print(a[i])\n",
        "        "
      ]
    },
    {
      "cell_type": "code",
      "execution_count": null,
      "id": "7cfaee5f",
      "metadata": {
        "id": "7cfaee5f",
        "outputId": "686e02eb-e15a-4da9-a67b-5ff55c3d464f"
      },
      "outputs": [
        {
          "name": "stdout",
          "output_type": "stream",
          "text": [
            "enter the number4\n",
            "2.0\n"
          ]
        }
      ],
      "source": [
        "import math \n",
        "a=int(input(\"enter the number\"))\n",
        "b=math.sqrt(a)\n",
        "print(b)"
      ]
    },
    {
      "cell_type": "code",
      "execution_count": null,
      "id": "58727fd2",
      "metadata": {
        "id": "58727fd2",
        "outputId": "c2f2ff99-a7c9-4906-93a9-8549b705a162"
      },
      "outputs": [
        {
          "name": "stdout",
          "output_type": "stream",
          "text": [
            "5\n"
          ]
        }
      ],
      "source": [
        "a=int(5);b=int(3);c=int(2)\n",
        "if a>b and a>c:\n",
        "    print(5)\n",
        "elif b>c and b>a:\n",
        "    print(3)\n",
        "else:\n",
        "    print(2)\n",
        "        "
      ]
    },
    {
      "cell_type": "code",
      "execution_count": null,
      "id": "9a2417c4",
      "metadata": {
        "id": "9a2417c4",
        "outputId": "48b38815-a3cf-4e15-841f-3cbaead66f27"
      },
      "outputs": [
        {
          "name": "stdout",
          "output_type": "stream",
          "text": [
            "Result = 3 2\n"
          ]
        }
      ],
      "source": [
        "a=int(2);b=int(3)\n",
        "temp=a\n",
        "a=b\n",
        "b=temp\n",
        "print(\"Result =\",a,b)\n"
      ]
    },
    {
      "cell_type": "code",
      "execution_count": null,
      "id": "92a5ab06",
      "metadata": {
        "id": "92a5ab06",
        "outputId": "98e63be5-ffc2-4694-e919-bdcaf8d5b99a"
      },
      "outputs": [
        {
          "name": "stdout",
          "output_type": "stream",
          "text": [
            "['Red', 'Orange', 'Yellow', 'Black', 'Green']\n"
          ]
        }
      ],
      "source": [
        "Rainbow=['Red','Orange','Yellow','Green']\n",
        "Rainbow.insert(3,'Black')\n",
        "print(Rainbow)"
      ]
    },
    {
      "cell_type": "code",
      "execution_count": null,
      "id": "6625644a",
      "metadata": {
        "id": "6625644a",
        "outputId": "f2312e98-ea9c-44d4-f7fb-7f4faf245ff7"
      },
      "outputs": [
        {
          "name": "stdout",
          "output_type": "stream",
          "text": [
            "1\n",
            "2\n",
            "3\n",
            "7\n",
            "8\n"
          ]
        }
      ],
      "source": [
        "a=[1,7,3,8,2]\n",
        "a.sort()\n",
        "for x in a:\n",
        "    print(x)"
      ]
    },
    {
      "cell_type": "code",
      "execution_count": null,
      "id": "f443215d",
      "metadata": {
        "id": "f443215d",
        "outputId": "86638986-5c09-4b7e-a30e-5ad50abd12f0"
      },
      "outputs": [
        {
          "name": "stdout",
          "output_type": "stream",
          "text": [
            "['123a500', '5a9874']\n"
          ]
        }
      ],
      "source": [
        "list = [\"123a500\", \"0b02222\", \"5a9874\", \"7c8924\", \"8d79654\"]\n",
        "newlist = []\n",
        "\n",
        "for x in list:\n",
        "    if \"a\" in x:\n",
        "        newlist.append(x)\n",
        "\n",
        "print(newlist)\n"
      ]
    },
    {
      "cell_type": "markdown",
      "id": "5b91e735",
      "metadata": {
        "id": "5b91e735"
      },
      "source": [
        "# STRING"
      ]
    },
    {
      "cell_type": "code",
      "execution_count": null,
      "id": "0dc6db04",
      "metadata": {
        "id": "0dc6db04",
        "outputId": "ffb707fc-692b-49ed-f511-d6cc346a479b"
      },
      "outputs": [
        {
          "name": "stdout",
          "output_type": "stream",
          "text": [
            "kiran\n",
            "i\n",
            "o\n",
            "5\n"
          ]
        }
      ],
      "source": [
        "a=\"kiran\"\n",
        "print(a)\n",
        "print(a[1])\n",
        "b=\"hello\"\n",
        "print(b[4])\n",
        "print(len(b))"
      ]
    },
    {
      "cell_type": "code",
      "execution_count": null,
      "id": "d6f4b0cf",
      "metadata": {
        "id": "d6f4b0cf",
        "outputId": "71e168de-666f-452a-bdcb-c8f562924bfc"
      },
      "outputs": [
        {
          "name": "stdout",
          "output_type": "stream",
          "text": [
            "True\n",
            "False\n",
            "False\n"
          ]
        }
      ],
      "source": [
        "a=\"hello retard your life is miserable if you're reading this\"\n",
        "print(\"this\" in a)\n",
        "print(\"xz\" in a)\n",
        "print(\"hello\" not in a)"
      ]
    },
    {
      "cell_type": "markdown",
      "id": "df8766c6",
      "metadata": {
        "id": "df8766c6"
      },
      "source": [
        "## slicing"
      ]
    },
    {
      "cell_type": "code",
      "execution_count": null,
      "id": "4443adcb",
      "metadata": {
        "id": "4443adcb",
        "outputId": "d3dd8edc-44b8-4a48-9f9d-635b69013eb5"
      },
      "outputs": [
        {
          "name": "stdout",
          "output_type": "stream",
          "text": [
            "el\n"
          ]
        }
      ],
      "source": [
        "a=\"hello retard your life is miserable if you're reading this\"\n",
        "print(a[1:3])"
      ]
    },
    {
      "cell_type": "markdown",
      "id": "4fe23377",
      "metadata": {
        "id": "4fe23377"
      },
      "source": [
        "## modifing string"
      ]
    },
    {
      "cell_type": "code",
      "execution_count": null,
      "id": "a463bf5f",
      "metadata": {
        "id": "a463bf5f",
        "outputId": "de690661-0a9b-4a38-805f-c6b89d0b707b"
      },
      "outputs": [
        {
          "name": "stdout",
          "output_type": "stream",
          "text": [
            "HELLO RETARD YOUR LIFE IS MISERABLE IF YOU'RE READING THIS\n",
            "retard\n"
          ]
        }
      ],
      "source": [
        "a=\"hello retard your life is miserable if you're reading this\"\n",
        "print(a.upper())\n",
        "b=\"RETARD\"\n",
        "print(b.lower())"
      ]
    },
    {
      "cell_type": "code",
      "execution_count": null,
      "id": "d8d27a44",
      "metadata": {
        "id": "d8d27a44",
        "outputId": "e9a3f678-726f-442f-b3e1-3e9f2a1b3925"
      },
      "outputs": [
        {
          "name": "stdout",
          "output_type": "stream",
          "text": [
            "your life is miserable\n"
          ]
        }
      ],
      "source": [
        "a=\"    your life is miserable\"\n",
        "print(a.strip())## removes the space at starting"
      ]
    },
    {
      "cell_type": "code",
      "execution_count": null,
      "id": "a291ca85",
      "metadata": {
        "id": "a291ca85",
        "outputId": "af6de2f4-69dc-4249-eac2-39f062bbe577"
      },
      "outputs": [
        {
          "name": "stdout",
          "output_type": "stream",
          "text": [
            "your life is miserable\n"
          ]
        }
      ],
      "source": [
        "a=\"your life is Life\"\n",
        "print(a.replace(\"Life\",\"miserable\"))## replace the variable we want to change"
      ]
    },
    {
      "cell_type": "code",
      "execution_count": null,
      "id": "7a25b5f9",
      "metadata": {
        "id": "7a25b5f9",
        "outputId": "71d9c38f-dcbd-40e2-e083-647c2b726cd4"
      },
      "outputs": [
        {
          "name": "stdout",
          "output_type": "stream",
          "text": [
            "['your', 'life', 'is', 'miserable']\n"
          ]
        }
      ],
      "source": [
        "a=\" your life is miserable\"\n",
        "print(a.split())## splits the elements"
      ]
    },
    {
      "cell_type": "code",
      "execution_count": null,
      "id": "bf74b8c6",
      "metadata": {
        "id": "bf74b8c6",
        "outputId": "18d18356-2208-4375-fcab-f3e42166621a"
      },
      "outputs": [
        {
          "name": "stdout",
          "output_type": "stream",
          "text": [
            "yourlifeismiserable\n",
            "your life is miserable\n"
          ]
        }
      ],
      "source": [
        "a=\"your\"\n",
        "b=\"life\"\n",
        "c=\"is\"\n",
        "d=\"miserable\"\n",
        "k=a+b+c+d\n",
        "m=a+\" \"+b+\" \"+c+\" \"+d\n",
        "print(k)\n",
        "print(m)\n"
      ]
    },
    {
      "cell_type": "code",
      "execution_count": null,
      "id": "51446621",
      "metadata": {
        "id": "51446621",
        "outputId": "2c1689d4-6b38-4e32-c779-3804ef1539c8"
      },
      "outputs": [
        {
          "name": "stdout",
          "output_type": "stream",
          "text": [
            "your life is miserable, and you'll die at 21\n"
          ]
        }
      ],
      "source": [
        "age=21\n",
        "txt=\"your life is miserable, and you'll die at {}\"\n",
        "print(txt.format(age))## the format is used to convert integers"
      ]
    },
    {
      "cell_type": "code",
      "execution_count": null,
      "id": "61bab29d",
      "metadata": {
        "id": "61bab29d",
        "outputId": "c29130b3-d5f3-4aee-edbb-9366e406d180"
      },
      "outputs": [
        {
          "name": "stdout",
          "output_type": "stream",
          "text": [
            "your life is miserable you get paid 1000kk, and you'll die at 21\n"
          ]
        }
      ],
      "source": [
        "age=21\n",
        "earn=\"1000k\"\n",
        "txt=\"your life is miserable you get paid {1}, and you'll die at {0}\"\n",
        "print(txt.format(age,earn))"
      ]
    },
    {
      "cell_type": "code",
      "execution_count": null,
      "id": "7c246589",
      "metadata": {
        "id": "7c246589",
        "outputId": "2bb30b3a-536a-4b70-9f56-ad2dfa05bfa4"
      },
      "outputs": [
        {
          "name": "stdout",
          "output_type": "stream",
          "text": [
            "your life is \"miserable\" retard\n",
            "you're a retard\n"
          ]
        }
      ],
      "source": [
        "txt=\"your life is \\\"miserable\\\" retard\"\n",
        "a='you\\'re a retard'\n",
        "b=\n",
        "print(txt)##\\txt\\ is used to seperate\n",
        "print(a)"
      ]
    },
    {
      "cell_type": "code",
      "execution_count": null,
      "id": "dbe95023",
      "metadata": {
        "id": "dbe95023",
        "outputId": "bd29f4c1-b868-47b5-e57e-2e6e2ed19473"
      },
      "outputs": [
        {
          "name": "stdout",
          "output_type": "stream",
          "text": [
            "your life is  \btrash\n",
            "your life is\n",
            "trash\n",
            "your life is\ttrash\n"
          ]
        }
      ],
      "source": [
        "a=\"your life is  \\btrash\"\n",
        "b=\"your life is\\ntrash\"\n",
        "c=\"your life is\\ttrash\"\n",
        "print(a)\n",
        "print(b)\n",
        "print(c)"
      ]
    },
    {
      "cell_type": "code",
      "execution_count": null,
      "id": "50f4a2de",
      "metadata": {
        "id": "50f4a2de"
      },
      "outputs": [],
      "source": [
        "a=\"retard\"\n",
        "b=\"Retard\"\n",
        "c=\"retard is a retard you retard\"\n",
        "print(a.capitalize())\n",
        "print(b.casefold())\n",
        "print(b.center(10))\n",
        "print(c.count(\"retard\"))\n",
        "print(c.endswith(\"retard\"))\n",
        "print(c.)\n"
      ]
    },
    {
      "cell_type": "markdown",
      "id": "4752c658",
      "metadata": {
        "id": "4752c658"
      },
      "source": [
        "1.)cd (filename)/\n",
        "   ls               # it shows complete projects in projects\n",
        "2.)cd foldername/   # it goes to the coressponding\n",
        "   ls               # it shows the list of files inside the folder \n",
        "3.)cat filename.py\n",
        "   go to console and click run\n",
        "   \n",
        "   \n",
        "* when your doing programs in txt files save the format with .txt\n",
        "* echo \"kiran\" >filename.txt\n",
        "* cat filename.txt\n"
      ]
    },
    {
      "cell_type": "markdown",
      "id": "398c3fd2",
      "metadata": {
        "id": "398c3fd2"
      },
      "source": [
        "## module-1\n"
      ]
    },
    {
      "cell_type": "code",
      "execution_count": null,
      "id": "a52f83af",
      "metadata": {
        "id": "a52f83af",
        "outputId": "71033e88-84a1-4fe4-901d-75a5f9c98626"
      },
      "outputs": [
        {
          "name": "stdout",
          "output_type": "stream",
          "text": [
            "Enter something : oooooo\n",
            "You entered oooooo\n"
          ]
        }
      ],
      "source": [
        "variable = input('Enter something : ')\n",
        "print('You entered '+variable)"
      ]
    },
    {
      "cell_type": "code",
      "execution_count": null,
      "id": "1a5f516e",
      "metadata": {
        "id": "1a5f516e",
        "outputId": "6108649e-52bc-4529-d9fc-efbd2b094015"
      },
      "outputs": [
        {
          "name": "stdout",
          "output_type": "stream",
          "text": [
            "Enter an integer : 555\n",
            "Type of the variable taken is  <class 'int'>\n",
            "You entered 555\n",
            "You entered 555\n",
            "You entered 555\n"
          ]
        }
      ],
      "source": [
        "variable = int(input(\"Enter an integer : \")) #int to make sure that we are getting integer input.\n",
        "print('Type of the variable taken is ',type(variable))\n",
        "print('You entered '+str(variable)) # Here we are changing variable back into str to add with string.\n",
        "print(f'You entered {variable}') # formatted string\n",
        "print('You entered',variable)\n",
        "#If we enter value of any other datatype,ValueError occurs."
      ]
    },
    {
      "cell_type": "code",
      "execution_count": null,
      "id": "693e7d00",
      "metadata": {
        "id": "693e7d00",
        "outputId": "6eeb7c33-ff38-457a-c9e1-9fe36dacc7b8"
      },
      "outputs": [
        {
          "name": "stdout",
          "output_type": "stream",
          "text": [
            "Number: 1234\n",
            "String: string\n",
            "Float: 12.34\n",
            "Boolean: True\n",
            "Complex: (1-4j)\n",
            "Float (again) : 1e+101\n"
          ]
        }
      ],
      "source": [
        "a1 = 1234\n",
        "a2 = 'string'\n",
        "a3 = 12.34\n",
        "a4 = True\n",
        "a5 = -4j+1\n",
        "a6 = 10e100  #type is float\n",
        "print('Number: {}\\nString: {}\\nFloat: {}\\nBoolean: {}\\nComplex: {}\\nFloat (again) : {}'.format(a1,a2,a3,a4,a5,a6))"
      ]
    },
    {
      "cell_type": "code",
      "execution_count": null,
      "id": "b10c7c02",
      "metadata": {
        "id": "b10c7c02",
        "outputId": "91009e32-e219-46f0-f69a-899ca467bb54"
      },
      "outputs": [
        {
          "name": "stdout",
          "output_type": "stream",
          "text": [
            "enter the number you want to find palindrome for555444441122\n",
            "not a plaindrome\n"
          ]
        }
      ],
      "source": [
        "a=int(input(\"enter the number you want to find palindrome for\"))\n",
        "rev=0\n",
        "temp=a\n",
        "while temp>0:\n",
        "    rem=temp%10\n",
        "    rev=(rev*10)+rem\n",
        "    temp=temp//10\n",
        "if a==rev:\n",
        "    print(\"palindrome\")\n",
        "else:\n",
        "    print(\"not a plaindrome\")"
      ]
    },
    {
      "cell_type": "code",
      "execution_count": null,
      "id": "cdb3fe3e",
      "metadata": {
        "id": "cdb3fe3e",
        "outputId": "fbeebbc9-8c3a-4209-f03d-1057c224d0d9"
      },
      "outputs": [
        {
          "name": "stdout",
          "output_type": "stream",
          "text": [
            "enter the number145\n",
            "145\n",
            "yes it is strong number\n"
          ]
        }
      ],
      "source": [
        "#strong number\n",
        "a=int(input(\"enter the number\"))\n",
        "sum=0\n",
        "temp=a\n",
        "while temp>0:\n",
        "    fact=1\n",
        "    i=1\n",
        "    rem=temp%10\n",
        "    while i<=rem: \n",
        "        fact=fact*i\n",
        "        i=i+1\n",
        "    sum=sum+fact \n",
        "    temp=temp//10\n",
        "print(sum)\n",
        "if a==sum:\n",
        "    print(\"yes it is strong number\")\n",
        "else:\n",
        "    print(\"no\")"
      ]
    },
    {
      "cell_type": "code",
      "execution_count": null,
      "id": "5bc37993",
      "metadata": {
        "id": "5bc37993",
        "outputId": "1c83cadc-8e2f-4ed3-f0ec-c11c82b16b3b"
      },
      "outputs": [
        {
          "name": "stdout",
          "output_type": "stream",
          "text": [
            "enter the number6\n",
            "perfect number\n"
          ]
        }
      ],
      "source": [
        "a=int(input(\"enter the number\"))\n",
        "sum=0\n",
        "for i in range (1,a):\n",
        "    if a%i==0:\n",
        "        sum=sum+i\n",
        "if sum==a:\n",
        "        print(\"perfect number\")\n",
        "else:\n",
        "        print(\"not a perfect number\")"
      ]
    },
    {
      "cell_type": "code",
      "execution_count": null,
      "id": "fe55d0dc",
      "metadata": {
        "id": "fe55d0dc",
        "outputId": "4feed609-6e78-4077-978d-80240ca4407a"
      },
      "outputs": [
        {
          "name": "stdout",
          "output_type": "stream",
          "text": [
            "enter the number1\n"
          ]
        }
      ],
      "source": [
        "a=int(input(\"enter the number\"))\n",
        "#importing math module\n",
        "import math"
      ]
    },
    {
      "cell_type": "code",
      "execution_count": null,
      "id": "1877aabb",
      "metadata": {
        "id": "1877aabb",
        "outputId": "d3d0ea0a-f44b-4ff0-e654-187b145f40d7"
      },
      "outputs": [
        {
          "name": "stdout",
          "output_type": "stream",
          "text": [
            "enter the number4\n",
            "124\n",
            "123\n",
            "81.0\n",
            "9.0\n",
            "5.66\n",
            "1.0\n",
            "2\n",
            "-99\n"
          ]
        }
      ],
      "source": [
        "a=int(input(\"enter the number\"))\n",
        "#importing math module\n",
        "import math\n",
        "#using math.ceil\n",
        "sample_num=123.456\n",
        "print(math.ceil(sample_num))\n",
        "#using math.floor\n",
        "sample_num=123.456\n",
        "print (math.floor(sample_num))\n",
        "#using math.pow\n",
        "print(math.pow(9,2))\n",
        "#using math.sqrt\n",
        "print (math.sqrt(81))\n",
        "print (math.fabs(5.66))\n",
        "print (math.fmod(10,3))\n",
        "print(math.trunc(2.77))\n",
        "print(math.trunc(-99.29))\n",
        "\n"
      ]
    },
    {
      "cell_type": "code",
      "execution_count": null,
      "id": "8b34d53d",
      "metadata": {
        "id": "8b34d53d",
        "outputId": "5fc76edc-af81-451e-ebc8-2a15f9b155f5"
      },
      "outputs": [
        {
          "name": "stdout",
          "output_type": "stream",
          "text": [
            "enter the principal amount6000\n",
            "enter the intrest amount13\n",
            "amount of years3\n",
            "1 yr interst si is  780\n",
            "1 yr interst ci is  6779.999999999999\n",
            "2 yr interst si is  1560\n",
            "2 yr interst ci is  7661.399999999998\n",
            "3 yr interst si is  2340\n",
            "3 yr interst ci is  8657.381999999998\n",
            "4 yr interst si is  3120\n",
            "4 yr interst ci is  9782.841659999996\n",
            "5 yr interst si is  3900\n",
            "5 yr interst ci is  11054.611075799994\n",
            "6 yr interst si is  4680\n",
            "6 yr interst ci is  12491.710515653993\n",
            "7 yr interst si is  5460\n",
            "7 yr interst ci is  14115.632882689011\n"
          ]
        }
      ],
      "source": [
        "p=int(input(\"enter the principal amount\"))\n",
        "r=int(input(\"enter the intrest amount\"))\n",
        "t=int(input(\"amount of years\"))\n",
        "for i in range(1,t+1):\n",
        "    si=(p*i*r)//100\n",
        "    print(i,\"yr interst si is \",si)\n",
        "    ci=p*(math.pow(1+r/100,i))\n",
        "    print(i,\"yr interst ci is \",ci)"
      ]
    },
    {
      "cell_type": "markdown",
      "id": "719ffd01",
      "metadata": {
        "id": "719ffd01"
      },
      "source": [
        "# TUPLE\n"
      ]
    },
    {
      "cell_type": "code",
      "execution_count": null,
      "id": "7930c4f3",
      "metadata": {
        "id": "7930c4f3",
        "outputId": "7863b279-15e7-40f4-f4a0-2ab1803c23a7"
      },
      "outputs": [
        {
          "name": "stdout",
          "output_type": "stream",
          "text": [
            "['hello', 'dead', 'bye', 'apple']\n"
          ]
        }
      ],
      "source": [
        "a=(\"hi\",\"hello\",\"apple\")\n",
        "b=list(a)\n",
        "b.append(\"bye\")\n",
        "b.insert(1,\"dead\")\n",
        "b.remove(\"hi\")\n",
        "b.sort(reverse=True)\n",
        "print(b)"
      ]
    },
    {
      "cell_type": "code",
      "execution_count": null,
      "id": "833b711e",
      "metadata": {
        "id": "833b711e",
        "outputId": "683a5e38-3f86-4f0b-d7d8-5b2652dfa7e4"
      },
      "outputs": [
        {
          "name": "stdout",
          "output_type": "stream",
          "text": [
            "('apple',)\n",
            "('apple', 'die')\n"
          ]
        }
      ],
      "source": [
        "a=(\"apple\",)## used to create a tuple variable\n",
        "print(a)\n",
        "b=(\"die\",)\n",
        "c=a+b\n",
        "print(c)"
      ]
    },
    {
      "cell_type": "code",
      "execution_count": null,
      "id": "4ae99327",
      "metadata": {
        "id": "4ae99327",
        "outputId": "31ccd7cb-24e8-4a86-ced1-b4951c30f030"
      },
      "outputs": [
        {
          "name": "stdout",
          "output_type": "stream",
          "text": [
            "die hi bye\n"
          ]
        }
      ],
      "source": [
        "a=(\"hi\",\"bye\",\"die\")\n",
        "(wolf,fox,deer)=a\n",
        "print(deer,wolf,fox)"
      ]
    },
    {
      "cell_type": "code",
      "execution_count": null,
      "id": "f0bb8673",
      "metadata": {
        "id": "f0bb8673",
        "outputId": "b0d4bc3e-8e2a-4234-ae9d-a1b27fbfa134"
      },
      "outputs": [
        {
          "name": "stdout",
          "output_type": "stream",
          "text": [
            "hi\n",
            "bye die\n",
            "hell\n"
          ]
        }
      ],
      "source": [
        "a=(\"hi\",\"bye\",\"die\",\"hell\")\n",
        "(jin,*skkkk,kikk)=a\n",
        "print(jin)\n",
        "print(*skkkk)\n",
        "print(kikk)\n"
      ]
    },
    {
      "cell_type": "code",
      "execution_count": null,
      "id": "d0d9f7a1",
      "metadata": {
        "id": "d0d9f7a1",
        "outputId": "90fd45d1-3a76-4d6c-b165-3b347d51bbf7"
      },
      "outputs": [
        {
          "name": "stdout",
          "output_type": "stream",
          "text": [
            "1=\"addition\",2=\"subtraction\",3=\"multiplication\",4=\"division\"\n",
            "enter any number upto 44\n",
            "0.6666666666666666\n"
          ]
        }
      ],
      "source": [
        "a=2\n",
        "b=3\n",
        "print('1=\"addition\",2=\"subtraction\",3=\"multiplication\",4=\"division\"')\n",
        "c=int(input(\"enter any number upto 4\"))\n",
        "if c==1:\n",
        "     print(a+b)\n",
        "elif c==2:\n",
        "    print(a-b)\n",
        "elif c==3:\n",
        "    print(a*b)\n",
        "elif c==4:\n",
        "    print(a/b)\n",
        "else:\n",
        "    print(invalid)"
      ]
    },
    {
      "cell_type": "code",
      "execution_count": null,
      "id": "c8af8af7",
      "metadata": {
        "id": "c8af8af7",
        "outputId": "6c15c4fb-7b78-4f41-8043-7bf6b5eebcf0"
      },
      "outputs": [
        {
          "name": "stdout",
          "output_type": "stream",
          "text": [
            "Enter 1st number: 15\n",
            "Enter 2nd number: 5\n",
            "GCD is 10\n"
          ]
        }
      ],
      "source": [
        "#Compute GCD of two given numbers.\n",
        "num1 = int(input(\"Enter 1st number: \"))\n",
        "num2 = int(input(\"Enter 2nd number: \"))\n",
        "gcd=i\n",
        "while (i <= num1 and i <= num2):\n",
        "  if(num1 % i == 0 and num2 % i == 0):\n",
        "   \n",
        "   i=i + 1\n",
        "print(\"GCD is\",gcd)\n"
      ]
    },
    {
      "cell_type": "markdown",
      "id": "624e843f",
      "metadata": {
        "id": "624e843f"
      },
      "source": [
        "# sets\n"
      ]
    },
    {
      "cell_type": "code",
      "execution_count": null,
      "id": "cc065551",
      "metadata": {
        "id": "cc065551",
        "outputId": "dad08b33-d08f-4d88-d478-2b9ae31b4142"
      },
      "outputs": [
        {
          "name": "stdout",
          "output_type": "stream",
          "text": [
            "{1, 2, 3, 4, 5}\n"
          ]
        }
      ],
      "source": [
        "a={1,2,3,4,4,4,3,3,5}##duplicates are not allowed in sets\n",
        "print(a)"
      ]
    },
    {
      "cell_type": "code",
      "execution_count": null,
      "id": "c947f8e8",
      "metadata": {
        "id": "c947f8e8",
        "outputId": "86260b74-ba73-4f44-e2b0-9624839e22ac"
      },
      "outputs": [
        {
          "name": "stdout",
          "output_type": "stream",
          "text": [
            "<class 'set'> 6\n"
          ]
        }
      ],
      "source": [
        "a={1,2,3,4,4,4,5,5,5,6}\n",
        "print(type(a),len(a))"
      ]
    },
    {
      "cell_type": "code",
      "execution_count": null,
      "id": "cba98440",
      "metadata": {
        "id": "cba98440",
        "outputId": "bae7176f-5e31-4500-a289-c79f47a944c3"
      },
      "outputs": [
        {
          "name": "stdout",
          "output_type": "stream",
          "text": [
            "1\n",
            "2\n",
            "3\n",
            "4\n",
            "5\n"
          ]
        }
      ],
      "source": [
        "a={1,2,3,4,5,5,5}\n",
        "for x in a:\n",
        "    print(x)"
      ]
    },
    {
      "cell_type": "code",
      "execution_count": null,
      "id": "2728d46c",
      "metadata": {
        "id": "2728d46c",
        "outputId": "04f728a2-0080-43fc-ad83-9755cc5a56c6"
      },
      "outputs": [
        {
          "name": "stdout",
          "output_type": "stream",
          "text": [
            "{1, 2, 3, 4, 5, 99}\n"
          ]
        }
      ],
      "source": [
        "a={1,2,3,4,5,5,5}\n",
        "a.add(99)### used for addition of elements\n",
        "print(a)"
      ]
    },
    {
      "cell_type": "code",
      "execution_count": null,
      "id": "8f028cee",
      "metadata": {
        "id": "8f028cee",
        "outputId": "1a9d5cfe-25ed-4413-d948-6bb1d69304fd"
      },
      "outputs": [
        {
          "name": "stdout",
          "output_type": "stream",
          "text": [
            "{'a', 'number', 'wrong', 'thats', 'sike'}\n"
          ]
        }
      ],
      "source": [
        "a={\"sike\",\"thats\"}\n",
        "b={\"a\",\"wrong\"}\n",
        "c={\"number\"}\n",
        "a.update(b)## update is udes to join the lists\n",
        "a.update(c)\n",
        "print(a)"
      ]
    },
    {
      "cell_type": "code",
      "execution_count": null,
      "id": "78ff765a",
      "metadata": {
        "id": "78ff765a",
        "outputId": "356754f7-b2b7-4bd0-e1cd-4e6027557f10"
      },
      "outputs": [
        {
          "name": "stdout",
          "output_type": "stream",
          "text": [
            "{1, 2, 3, 4, 5}\n",
            "1\n",
            "set()\n"
          ]
        }
      ],
      "source": [
        "a={1,2,3,4,5,6,6,6}\n",
        "a.remove(6)### remove will raise error if its not present\n",
        "a.discard(7)### discard will not rasie a error if its not present\n",
        "print(a)\n",
        "b=a.pop()### this removes element and stores in b\n",
        "print(b)\n",
        "a.clear()###this clear the set\n",
        "print(a)\n",
        "del a### this deleted the set \n"
      ]
    },
    {
      "cell_type": "code",
      "execution_count": null,
      "id": "40094f8a",
      "metadata": {
        "id": "40094f8a",
        "outputId": "0517f7d5-c2b2-4bec-f064-0c4f36f2c611"
      },
      "outputs": [
        {
          "name": "stdout",
          "output_type": "stream",
          "text": [
            "{1, 2, 3, 4, 5, 6, 'b', 'd', 'a', 'c'}\n",
            "{1, 2, 3, 4, 5}\n"
          ]
        }
      ],
      "source": [
        "a={1,2,3,4,5,5,5,5,5,5,5,5,5,5,5,5,5,5,5,5,5,5,5,5,5,5,5,5}\n",
        "b={\"a\",\"b\",\"c\",\"d\",1,6}\n",
        "c=a.union(b)### combines all the elements\n",
        "print(c)\n",
        "a.intersection(b) ### only shows the common element\n",
        "print(a)"
      ]
    },
    {
      "cell_type": "code",
      "execution_count": null,
      "id": "04976203",
      "metadata": {
        "id": "04976203",
        "outputId": "e99b2d14-4605-4080-f3bd-19814647f944"
      },
      "outputs": [
        {
          "name": "stdout",
          "output_type": "stream",
          "text": [
            "{1, 2, 3, 4}\n"
          ]
        }
      ],
      "source": [
        "a={1,2,3,4,4,4,4,4,4,4,4}\n",
        "b=a.copy() ### copys the elemens of the set\n",
        "print(b)"
      ]
    },
    {
      "cell_type": "code",
      "execution_count": null,
      "id": "be1c0cc7",
      "metadata": {
        "id": "be1c0cc7",
        "outputId": "93945207-8d61-4bb4-f09e-072905b4d28c"
      },
      "outputs": [
        {
          "name": "stdout",
          "output_type": "stream",
          "text": [
            "False\n",
            "False\n",
            "False\n"
          ]
        }
      ],
      "source": [
        "a={1,2,3,4,5,5,5,5,6,6,6,6}\n",
        "b={1,3,6,8,9}\n",
        "print(a.isdisjoint(b))\n",
        "print(b.issubset(a))\n",
        "print(a.issuperset(b))"
      ]
    },
    {
      "cell_type": "code",
      "execution_count": null,
      "id": "561ec00f",
      "metadata": {
        "id": "561ec00f",
        "outputId": "915e9860-5956-4792-c65b-7175486a7179"
      },
      "outputs": [
        {
          "name": "stdout",
          "output_type": "stream",
          "text": [
            "{'ooooo', 'bye', 'f', 'skkskks'}\n"
          ]
        }
      ],
      "source": [
        "a= {\"hi\", \"skkskks\", \"ooooo\"}\n",
        "b = {\"bye\",\"f\", \"hi\"}\n",
        "\n",
        "c = a.symmetric_difference(b) \n",
        "\n",
        "print(c)\n"
      ]
    },
    {
      "cell_type": "markdown",
      "id": "a9f5e695",
      "metadata": {
        "id": "a9f5e695"
      },
      "source": [
        "# Dictionary"
      ]
    },
    {
      "cell_type": "code",
      "execution_count": null,
      "id": "7914c9a0",
      "metadata": {
        "id": "7914c9a0",
        "outputId": "f4ef9b09-c6e3-48c7-9c55-60631b390f80"
      },
      "outputs": [
        {
          "name": "stdout",
          "output_type": "stream",
          "text": [
            "{'team': 'mercedes amg ', 'model': 'w13', 'electric': False, 'year': 2022}\n",
            "<class 'dict'>\n"
          ]
        }
      ],
      "source": [
        "a ={\n",
        "  \"team\": \"mercedes amg \", ###format for buliding the sets\n",
        "  \"model\": \"w13\",\n",
        "  \"electric\": False,\n",
        "  \"year\": 2022\n",
        "}\n",
        "print(a)\n",
        "print(type(a))\n"
      ]
    },
    {
      "cell_type": "code",
      "execution_count": null,
      "id": "290f816c",
      "metadata": {
        "id": "290f816c",
        "outputId": "99e51e5d-67c5-4fbc-e69f-b9354331a2de"
      },
      "outputs": [
        {
          "name": "stdout",
          "output_type": "stream",
          "text": [
            "mercedes amg \n",
            "w13\n",
            "3\n"
          ]
        }
      ],
      "source": [
        "a={\n",
        "  \"team\": \"mercedes amg \", ###format for buliding the sets\n",
        "  \"model\": \"w13\",\n",
        "  \"year\": 2022\n",
        "}\n",
        "print(a[\"team\"])\n",
        "print(a[\"model\"])\n",
        "print(len(a))  ### shows the len of the dic"
      ]
    },
    {
      "cell_type": "code",
      "execution_count": null,
      "id": "b5187ee7",
      "metadata": {
        "id": "b5187ee7",
        "outputId": "d15a7d3d-8e54-4286-a913-be657d4dff56"
      },
      "outputs": [
        {
          "name": "stdout",
          "output_type": "stream",
          "text": [
            "mercedes amg  w13\n"
          ]
        }
      ],
      "source": [
        "a={\n",
        "  \"team\": \"mercedes amg \", ###format for buliding the sets\n",
        "  \"model\": \"w13\",\n",
        "  \"year\": 2022\n",
        "}\n",
        "b=a[\"team\"]\n",
        "c=a.get(\"model\")\n",
        "print(b,c)"
      ]
    },
    {
      "cell_type": "code",
      "execution_count": null,
      "id": "968e20c9",
      "metadata": {
        "id": "968e20c9",
        "outputId": "04dd6363-b034-4965-ef51-f9dc4920d557"
      },
      "outputs": [
        {
          "name": "stdout",
          "output_type": "stream",
          "text": [
            "dict_keys(['team', 'model', 'year'])\n",
            "{'team': 'mercedes amg ', 'model': 'w13', 'year': 2022, 'drivers': 'lewis,russel'}\n"
          ]
        }
      ],
      "source": [
        "a={\n",
        "  \"team\": \"mercedes amg \", ###format for buliding the sets\n",
        "  \"model\": \"w13\",\n",
        "  \"year\": 2022\n",
        "}\n",
        "print(a.keys()) ### THIS IS THE KEYS function used to display all the key words\n",
        "a[\"drivers\"]=\"lewis,russel\"\n",
        "print(a)"
      ]
    },
    {
      "cell_type": "code",
      "execution_count": null,
      "id": "ac929cf4",
      "metadata": {
        "id": "ac929cf4",
        "outputId": "fcfe2717-ed36-49c7-e435-63ea6e0e9592"
      },
      "outputs": [
        {
          "name": "stdout",
          "output_type": "stream",
          "text": [
            "dict_values(['mercedes amg ', 'w13', 2022])\n",
            "{'team': 'mercedes amg ', 'model': 'w13', 'year': 2021}\n"
          ]
        }
      ],
      "source": [
        "a={\n",
        "  \"team\": \"mercedes amg \", ###format for buliding the sets\n",
        "  \"model\": \"w13\",\n",
        "  \"year\": 2022\n",
        "}\n",
        "print(a.values())\n",
        "a[\"year\"]=2021 \n",
        "print(a)"
      ]
    },
    {
      "cell_type": "code",
      "execution_count": null,
      "id": "106d0097",
      "metadata": {
        "id": "106d0097",
        "outputId": "021e1fd8-4091-469c-9902-1045c2d7140b"
      },
      "outputs": [
        {
          "name": "stdout",
          "output_type": "stream",
          "text": [
            "okay\n"
          ]
        }
      ],
      "source": [
        "a={\n",
        "  \"team\": \"mercedes amg \",\n",
        "  \"model\": \"w13\",\n",
        "  \"year\": 2022\n",
        "}\n",
        "if \"team\" in a:\n",
        "       print(\"okay\")"
      ]
    },
    {
      "cell_type": "code",
      "execution_count": null,
      "id": "c545b86f",
      "metadata": {
        "id": "c545b86f",
        "outputId": "d52d0e80-cf43-470a-fb4f-299d334ca0ea"
      },
      "outputs": [
        {
          "name": "stdout",
          "output_type": "stream",
          "text": [
            "{'team': 'mercedes amg ', 'model': 'w13', 'year': 2022, 'driver': 'lewis'}\n",
            "{'team': 'mercedes amg ', 'model': 'w13', 'year': 2022, 'driver': 'lewis', 'age': 37}\n"
          ]
        }
      ],
      "source": [
        "a={\n",
        "  \"team\": \"mercedes amg \",\n",
        "  \"model\": \"w13\",\n",
        "  \"year\": 2022\n",
        "}\n",
        "a.update({\"driver\":\"lewis\"}) ### it is used to update the list\n",
        "print(a)\n",
        "a.update ({\"age\":37}) ### it is also used to update the list \n",
        "print(a)"
      ]
    },
    {
      "cell_type": "code",
      "execution_count": null,
      "id": "96f5aedb",
      "metadata": {
        "id": "96f5aedb",
        "outputId": "fafe58dc-5154-4627-e9ac-246d4d27329a"
      },
      "outputs": [
        {
          "name": "stdout",
          "output_type": "stream",
          "text": [
            "{'team': 'mercedes amg ', 'model': 'w13'}\n"
          ]
        }
      ],
      "source": [
        "a={\n",
        "  \"team\": \"mercedes amg \",\n",
        "  \"model\": \"w13\",\n",
        "  \"year\": 2022\n",
        "}\n",
        "a.pop(\"year\") ### this is used to remove the elements from the sets\n",
        "print(a)"
      ]
    },
    {
      "cell_type": "code",
      "execution_count": null,
      "id": "d0cef17e",
      "metadata": {
        "id": "d0cef17e",
        "outputId": "5d64cd32-dbaf-4dd5-98bb-dd79501bd3b2"
      },
      "outputs": [
        {
          "name": "stdout",
          "output_type": "stream",
          "text": [
            "('team', 'mercedes amg ')\n",
            "('model', 'w13')\n",
            "('year', 2022)\n"
          ]
        }
      ],
      "source": [
        "a={\n",
        "  \"team\": \"mercedes amg \",\n",
        "  \"model\": \"w13\",\n",
        "  \"year\": 2022\n",
        "}\n",
        "for x in a.items():\n",
        "    print(x)"
      ]
    },
    {
      "cell_type": "code",
      "execution_count": null,
      "id": "356bacb8",
      "metadata": {
        "id": "356bacb8",
        "outputId": "a3d352ac-4a0b-4c97-859e-1d4c07994682"
      },
      "outputs": [
        {
          "name": "stdout",
          "output_type": "stream",
          "text": [
            "team\n",
            "model\n",
            "year\n"
          ]
        }
      ],
      "source": [
        "a={\n",
        "  \"team\": \"mercedes amg \",\n",
        "  \"model\": \"w13\",\n",
        "  \"year\": 2022\n",
        "}\n",
        "for x in a.keys():\n",
        "    print(x)"
      ]
    },
    {
      "cell_type": "code",
      "execution_count": null,
      "id": "8a253f27",
      "metadata": {
        "id": "8a253f27",
        "outputId": "ddeadb5c-3ce5-47c9-f6c0-90d0f27b975e"
      },
      "outputs": [
        {
          "name": "stdout",
          "output_type": "stream",
          "text": [
            "{'team': 'mercedes amg ', 'model': 'w13', 'year': 2022}\n"
          ]
        }
      ],
      "source": [
        "a={\n",
        "  \"team\": \"mercedes amg \",\n",
        "  \"model\": \"w13\",\n",
        "  \"year\": 2022\n",
        "}\n",
        "b=dict(a)\n",
        "print(b)"
      ]
    },
    {
      "cell_type": "code",
      "execution_count": null,
      "id": "88db4b33",
      "metadata": {
        "id": "88db4b33",
        "outputId": "d895a4df-53b8-49aa-c3d1-aec1a1cbe7d9"
      },
      "outputs": [
        {
          "name": "stdout",
          "output_type": "stream",
          "text": [
            "{'team': 'mercedes amg ', 'model': 'w13', 'year': 2022}\n"
          ]
        }
      ],
      "source": [
        "a={\n",
        "  \"team\": \"mercedes amg \",\n",
        "  \"model\": \"w13\",\n",
        "  \"year\": 2022\n",
        "}\n",
        "b=a.copy()\n",
        "print(b)"
      ]
    },
    {
      "cell_type": "code",
      "execution_count": null,
      "id": "9a60e0ea",
      "metadata": {
        "id": "9a60e0ea",
        "outputId": "0ea6c813-be7c-4a90-dfc2-bdf24be77eb3"
      },
      "outputs": [
        {
          "name": "stdout",
          "output_type": "stream",
          "text": [
            "{'paddock1': {'team': 'mercedes amg ', 'model': 'w13', 'year': 2022}, 'paddock2': {'team': 'red bull ', 'model': 'rb11', 'year': 2021}, 'paddock3': {'team': 'ferrari ', 'model': 'sf', 'year': 2020}}\n"
          ]
        }
      ],
      "source": [
        "f1={\n",
        "  \"paddock1\" :{  \n",
        "  \"team\": \"mercedes amg \",\n",
        "  \"model\": \"w13\",\n",
        "  \"year\": 2022\n",
        "  },\n",
        "    \n",
        "\"paddock2\":{\n",
        "   \n",
        "  \"team\": \"red bull \",\n",
        "  \"model\": \"rb11\",\n",
        "  \"year\": 2021\n",
        "},\n",
        "\"paddock3\":{\n",
        " \n",
        "  \"team\": \"ferrari \",\n",
        "  \"model\": \"sf\",\n",
        "  \"year\": 2020\n",
        "}\n",
        "}    \n",
        "print(f1)\n",
        "\n",
        "\n",
        "  \n"
      ]
    },
    {
      "cell_type": "code",
      "execution_count": null,
      "id": "81aa3efd",
      "metadata": {
        "id": "81aa3efd",
        "outputId": "16f3a10c-e0f5-4ed1-adb3-99246243503c"
      },
      "outputs": [
        {
          "name": "stdout",
          "output_type": "stream",
          "text": [
            "lewis\n"
          ]
        }
      ],
      "source": [
        "a={\n",
        "  \"team\": \"mercedes amg \",\n",
        "  \"model\": \"w13\",\n",
        "  \"year\": 2022\n",
        "}\n",
        "x=a.setdefault(\"driver\",\"lewis\")\n",
        "print(x)"
      ]
    },
    {
      "cell_type": "code",
      "execution_count": null,
      "id": "24341533",
      "metadata": {
        "id": "24341533",
        "outputId": "3f88193f-4835-48e4-ee6f-e60e8e32fa64"
      },
      "outputs": [
        {
          "name": "stdout",
          "output_type": "stream",
          "text": [
            "{'Black', 'Yellow'}\n"
          ]
        }
      ],
      "source": [
        "set1 = {\"Yellow\", \"Orange\", \"Black\"}\n",
        "set2 = {\"Orange\", \"Blue\", \"Pink\"}\n",
        "\n",
        "set1.difference_update(set2)\n",
        "print(set1)"
      ]
    },
    {
      "cell_type": "code",
      "execution_count": null,
      "id": "40e4a94a",
      "metadata": {
        "id": "40e4a94a",
        "outputId": "9295f77b-0b09-47d5-db7a-18fc9d7026a3"
      },
      "outputs": [
        {
          "ename": "SyntaxError",
          "evalue": "invalid syntax (Temp/ipykernel_5800/4142306853.py, line 2)",
          "output_type": "error",
          "traceback": [
            "\u001b[1;36m  File \u001b[1;32m\"C:\\Users\\CSE22004\\AppData\\Local\\Temp/ipykernel_5800/4142306853.py\"\u001b[1;36m, line \u001b[1;32m2\u001b[0m\n\u001b[1;33m    Output :\u001b[0m\n\u001b[1;37m            ^\u001b[0m\n\u001b[1;31mSyntaxError\u001b[0m\u001b[1;31m:\u001b[0m invalid syntax\n"
          ]
        }
      ],
      "source": [
        "a = \"    Hello World \"\n",
        "Output :\n",
        "a = \" Hello World \""
      ]
    },
    {
      "cell_type": "code",
      "execution_count": null,
      "id": "6e15a4b6",
      "metadata": {
        "id": "6e15a4b6",
        "outputId": "edd11298-aed2-4b54-ca80-808cda4d6362"
      },
      "outputs": [
        {
          "ename": "TypeError",
          "evalue": "'set' object does not support item deletion",
          "output_type": "error",
          "traceback": [
            "\u001b[1;31m---------------------------------------------------------------------------\u001b[0m",
            "\u001b[1;31mTypeError\u001b[0m                                 Traceback (most recent call last)",
            "\u001b[1;32m~\\AppData\\Local\\Temp/ipykernel_1640/3174307539.py\u001b[0m in \u001b[0;36m<module>\u001b[1;34m\u001b[0m\n\u001b[0;32m      1\u001b[0m \u001b[0msampleSet\u001b[0m \u001b[1;33m=\u001b[0m \u001b[1;33m{\u001b[0m\u001b[1;34m\"Yellow\"\u001b[0m\u001b[1;33m,\u001b[0m \u001b[1;34m\"Orange\"\u001b[0m\u001b[1;33m,\u001b[0m \u001b[1;34m\"Black\"\u001b[0m\u001b[1;33m}\u001b[0m\u001b[1;33m\u001b[0m\u001b[1;33m\u001b[0m\u001b[0m\n\u001b[1;32m----> 2\u001b[1;33m \u001b[1;32mdel\u001b[0m \u001b[0msampleSet\u001b[0m \u001b[1;33m[\u001b[0m\u001b[1;34m\"Orange\"\u001b[0m\u001b[1;33m]\u001b[0m\u001b[1;33m\u001b[0m\u001b[1;33m\u001b[0m\u001b[0m\n\u001b[0m",
            "\u001b[1;31mTypeError\u001b[0m: 'set' object does not support item deletion"
          ]
        }
      ],
      "source": [
        "sampleSet = {\"Yellow\", \"Orange\", \"Black\"}\n",
        "del sampleSet [\"Orange\"]"
      ]
    },
    {
      "cell_type": "code",
      "execution_count": null,
      "id": "b2e32feb",
      "metadata": {
        "id": "b2e32feb",
        "outputId": "a4405e29-7f20-4950-8198-b4af7bab21a6"
      },
      "outputs": [
        {
          "name": "stdout",
          "output_type": "stream",
          "text": [
            "format\n"
          ]
        }
      ],
      "source": [
        "a=\"information\"\n",
        "print(a[2:8])"
      ]
    },
    {
      "cell_type": "markdown",
      "id": "cbafd602",
      "metadata": {
        "id": "cbafd602"
      },
      "source": [
        "# Functions\n",
        "\n"
      ]
    },
    {
      "cell_type": "code",
      "execution_count": null,
      "id": "890f6049",
      "metadata": {
        "id": "890f6049",
        "outputId": "1076fbde-3354-49bb-eb1a-95e01c211a57"
      },
      "outputs": [
        {
          "name": "stdout",
          "output_type": "stream",
          "text": [
            "hello\n"
          ]
        }
      ],
      "source": [
        "def kiran():\n",
        "    print(\"hello\")\n",
        "kiran()"
      ]
    },
    {
      "cell_type": "code",
      "execution_count": null,
      "id": "b7907c43",
      "metadata": {
        "id": "b7907c43",
        "outputId": "45186247-059b-44fe-9e1e-1cc507551e82"
      },
      "outputs": [
        {
          "name": "stdout",
          "output_type": "stream",
          "text": [
            "mentally retarded\n",
            "physically retarded\n",
            "your retarded\n"
          ]
        }
      ],
      "source": [
        "def kiran(hi):\n",
        "    print( hi +\" \"+\"retarded\")\n",
        "kiran(\"mentally\")\n",
        "kiran(\"physically\")\n",
        "kiran(\"your\")"
      ]
    },
    {
      "cell_type": "code",
      "execution_count": null,
      "id": "be96fbe7",
      "metadata": {
        "id": "be96fbe7",
        "outputId": "399fa232-3eec-48e3-a4fe-531341a1fccc"
      },
      "outputs": [
        {
          "name": "stdout",
          "output_type": "stream",
          "text": [
            "hello 23\n",
            "yeet 13\n"
          ]
        }
      ],
      "source": [
        "def kiran(hi,bye):\n",
        "    print(hi,bye)\n",
        "kiran(\"hello\",23)\n",
        "kiran(\"yeet\",13)\n"
      ]
    },
    {
      "cell_type": "code",
      "execution_count": null,
      "id": "38587982",
      "metadata": {
        "id": "38587982",
        "outputId": "d1d34095-cba4-44fb-f875-7d5ee0e863ad"
      },
      "outputs": [
        {
          "name": "stdout",
          "output_type": "stream",
          "text": [
            ":/ hi\n"
          ]
        }
      ],
      "source": [
        "def kiran(*f):\n",
        "    print(\":/\"+\" \"+f[0])\n",
        "kiran(\"hi\",\"bye\",\"1\",\"23\")#only strings are accepted not int"
      ]
    },
    {
      "cell_type": "code",
      "execution_count": null,
      "id": "6a4a3061",
      "metadata": {
        "id": "6a4a3061",
        "outputId": "3a0bed69-8e0a-4b22-e1ee-70d9599c0229"
      },
      "outputs": [
        {
          "name": "stdout",
          "output_type": "stream",
          "text": [
            "2\n"
          ]
        }
      ],
      "source": [
        "def kiran(hi,hello,bye):\n",
        "    print(bye)\n",
        "kiran(hi=\"F\",hello=3,bye=2) "
      ]
    },
    {
      "cell_type": "code",
      "execution_count": null,
      "id": "39a85796",
      "metadata": {
        "id": "39a85796",
        "outputId": "fc8a33e9-2881-45a3-8836-f9dd71fbe2ca"
      },
      "outputs": [
        {
          "name": "stdout",
          "output_type": "stream",
          "text": [
            "h2\n",
            "3 2\n"
          ]
        }
      ],
      "source": [
        "def kiran(**sksk):\n",
        "    print(\"h\" + sksk[\"bye\"])\n",
        "kiran(hi=\"F\",hello=\"3\",bye=\"2\")     \n",
        "\n",
        "def kiran(**sksk):\n",
        "    print(3,sksk[\"bye\"])\n",
        "kiran(hi=\"F\",hello=3,bye=2)     "
      ]
    },
    {
      "cell_type": "code",
      "execution_count": null,
      "id": "7f6d2299",
      "metadata": {
        "id": "7f6d2299",
        "outputId": "f3cf2971-48f4-4188-8477-86c529df2168"
      },
      "outputs": [
        {
          "ename": "TypeError",
          "evalue": "can only concatenate str (not \"int\") to str",
          "output_type": "error",
          "traceback": [
            "\u001b[1;31m---------------------------------------------------------------------------\u001b[0m",
            "\u001b[1;31mTypeError\u001b[0m                                 Traceback (most recent call last)",
            "\u001b[1;32m~\\AppData\\Local\\Temp/ipykernel_1640/778526278.py\u001b[0m in \u001b[0;36m<module>\u001b[1;34m\u001b[0m\n\u001b[0;32m      1\u001b[0m \u001b[1;32mdef\u001b[0m \u001b[0mkiran\u001b[0m\u001b[1;33m(\u001b[0m\u001b[1;33m**\u001b[0m\u001b[0msksk\u001b[0m\u001b[1;33m)\u001b[0m\u001b[1;33m:\u001b[0m\u001b[1;33m\u001b[0m\u001b[1;33m\u001b[0m\u001b[0m\n\u001b[0;32m      2\u001b[0m     \u001b[0mprint\u001b[0m\u001b[1;33m(\u001b[0m\u001b[1;34m\"h\"\u001b[0m \u001b[1;33m+\u001b[0m \u001b[0msksk\u001b[0m\u001b[1;33m[\u001b[0m\u001b[1;34m\"bye\"\u001b[0m\u001b[1;33m]\u001b[0m\u001b[1;33m)\u001b[0m\u001b[1;33m\u001b[0m\u001b[1;33m\u001b[0m\u001b[0m\n\u001b[1;32m----> 3\u001b[1;33m \u001b[0mkiran\u001b[0m\u001b[1;33m(\u001b[0m\u001b[0mhi\u001b[0m\u001b[1;33m=\u001b[0m\u001b[1;34m\"F\"\u001b[0m\u001b[1;33m,\u001b[0m\u001b[0mhello\u001b[0m\u001b[1;33m=\u001b[0m\u001b[1;36m3\u001b[0m\u001b[1;33m,\u001b[0m\u001b[0mbye\u001b[0m\u001b[1;33m=\u001b[0m\u001b[1;36m2\u001b[0m\u001b[1;33m)\u001b[0m  \u001b[1;31m## we can't get a output when str declared in print and int other\u001b[0m\u001b[1;33m\u001b[0m\u001b[1;33m\u001b[0m\u001b[0m\n\u001b[0m",
            "\u001b[1;32m~\\AppData\\Local\\Temp/ipykernel_1640/778526278.py\u001b[0m in \u001b[0;36mkiran\u001b[1;34m(**sksk)\u001b[0m\n\u001b[0;32m      1\u001b[0m \u001b[1;32mdef\u001b[0m \u001b[0mkiran\u001b[0m\u001b[1;33m(\u001b[0m\u001b[1;33m**\u001b[0m\u001b[0msksk\u001b[0m\u001b[1;33m)\u001b[0m\u001b[1;33m:\u001b[0m\u001b[1;33m\u001b[0m\u001b[1;33m\u001b[0m\u001b[0m\n\u001b[1;32m----> 2\u001b[1;33m     \u001b[0mprint\u001b[0m\u001b[1;33m(\u001b[0m\u001b[1;34m\"h\"\u001b[0m \u001b[1;33m+\u001b[0m \u001b[0msksk\u001b[0m\u001b[1;33m[\u001b[0m\u001b[1;34m\"bye\"\u001b[0m\u001b[1;33m]\u001b[0m\u001b[1;33m)\u001b[0m\u001b[1;33m\u001b[0m\u001b[1;33m\u001b[0m\u001b[0m\n\u001b[0m\u001b[0;32m      3\u001b[0m \u001b[0mkiran\u001b[0m\u001b[1;33m(\u001b[0m\u001b[0mhi\u001b[0m\u001b[1;33m=\u001b[0m\u001b[1;34m\"F\"\u001b[0m\u001b[1;33m,\u001b[0m\u001b[0mhello\u001b[0m\u001b[1;33m=\u001b[0m\u001b[1;36m3\u001b[0m\u001b[1;33m,\u001b[0m\u001b[0mbye\u001b[0m\u001b[1;33m=\u001b[0m\u001b[1;36m2\u001b[0m\u001b[1;33m)\u001b[0m  \u001b[1;31m## we can't get a output when str declared in print and int other\u001b[0m\u001b[1;33m\u001b[0m\u001b[1;33m\u001b[0m\u001b[0m\n",
            "\u001b[1;31mTypeError\u001b[0m: can only concatenate str (not \"int\") to str"
          ]
        }
      ],
      "source": [
        "def kiran(**sksk):\n",
        "    print(\"h\" + sksk[\"bye\"])\n",
        "kiran(hi=\"F\",hello=3,bye=2)  ## we can't get a output when str declared in print and int other   "
      ]
    },
    {
      "cell_type": "code",
      "execution_count": null,
      "id": "351dc829",
      "metadata": {
        "id": "351dc829",
        "outputId": "b9682455-5f35-4d0e-f5cd-2898f976ee7c"
      },
      "outputs": [
        {
          "name": "stdout",
          "output_type": "stream",
          "text": [
            "bye\n",
            "yeet\n",
            "sike\n"
          ]
        }
      ],
      "source": [
        "def kiran (hi=\"bye\"):\n",
        "    print(hi)\n",
        "kiran()\n",
        "kiran(\"yeet\")\n",
        "kiran(\"sike\")\n"
      ]
    },
    {
      "cell_type": "code",
      "execution_count": null,
      "id": "ea78f760",
      "metadata": {
        "id": "ea78f760",
        "outputId": "16d7b9d1-cfc4-4921-fcc1-8d7b1d5ea30d"
      },
      "outputs": [
        {
          "name": "stdout",
          "output_type": "stream",
          "text": [
            "bye\n",
            "yeet\n"
          ]
        }
      ],
      "source": [
        "def kiran(HI):\n",
        "    for k in HI:\n",
        "        print(k)\n",
        "HI=[\"bye\",\"yeet\"]\n",
        "kiran(HI)"
      ]
    },
    {
      "cell_type": "code",
      "execution_count": null,
      "id": "5f706c5f",
      "metadata": {
        "id": "5f706c5f",
        "outputId": "78f8a8e5-257f-404d-a1c3-1de5686041b5"
      },
      "outputs": [
        {
          "name": "stdout",
          "output_type": "stream",
          "text": [
            "4\n",
            "5\n",
            "-2\n",
            "hi\n"
          ]
        }
      ],
      "source": [
        "def sum(s,k):\n",
        "    return s+k\n",
        "print(sum(1,3))\n",
        "print(sum(2,3))\n",
        "\n",
        "def sum(s,k):\n",
        "    return s-k\n",
        "print(sum(1,3))\n",
        "\n",
        "def k(s):\n",
        "    return s\n",
        "print(k(\"hi\"))"
      ]
    },
    {
      "cell_type": "code",
      "execution_count": null,
      "id": "c0a07a9d",
      "metadata": {
        "id": "c0a07a9d",
        "outputId": "acdfeff5-ddca-45d4-82ee-d2b0ebf5810f"
      },
      "outputs": [
        {
          "name": "stdout",
          "output_type": "stream",
          "text": [
            "the lower values 5\n",
            "higher values 2\n"
          ]
        }
      ],
      "source": [
        "def kou(a):\n",
        "    u=0;l=0\n",
        "    for x in a :\n",
        "        \n",
        "        if x.isupper():\n",
        "            u=u+1\n",
        "            \n",
        "        else:\n",
        "            l=l+1\n",
        "    print(\"the lower values\",l)\n",
        "    print(\"higher values\",u)\n",
        "kou(\"KousHik\")"
      ]
    },
    {
      "cell_type": "markdown",
      "id": "921f8825",
      "metadata": {
        "id": "921f8825"
      },
      "source": [
        "# Module-2"
      ]
    },
    {
      "cell_type": "code",
      "execution_count": null,
      "id": "2250a64d",
      "metadata": {
        "id": "2250a64d",
        "outputId": "f5e04db3-4686-4048-8cdd-5483cb94426c"
      },
      "outputs": [
        {
          "name": "stdout",
          "output_type": "stream",
          "text": [
            "the string of length 2 is 2\n"
          ]
        }
      ],
      "source": [
        "a=['abc', 'xyz', 'aba', '1221']\n",
        "c=0\n",
        "for x in a :\n",
        "    if len(x)>=2:\n",
        "        if x[0]==x[-1]:\n",
        "            c=c+1\n",
        "print(\"the string of length 2 is\",c)"
      ]
    },
    {
      "cell_type": "code",
      "execution_count": null,
      "id": "b30fd4db",
      "metadata": {
        "id": "b30fd4db",
        "outputId": "ba0ec25d-deff-46c5-fc63-271ceb449ace"
      },
      "outputs": [
        {
          "name": "stdout",
          "output_type": "stream",
          "text": [
            "enter the value of n: 5\n",
            "enter the value of r: 100\n",
            "1.2858123457505603e-156\n"
          ]
        }
      ],
      "source": [
        "def ncr(n,r):\n",
        "    return fact(n)/(fact(r)*fact(n-r))\n",
        "def fact(n):\n",
        "    fact=1\n",
        "    for i in range(1,n+1):\n",
        "        fact=fact*i\n",
        "    return fact\n",
        "a=int(input(\"enter the value of n: \"))\n",
        "b=int(input(\"enter the value of r: \"))\n",
        "print(ncr(a,b))"
      ]
    },
    {
      "cell_type": "code",
      "execution_count": null,
      "id": "399a371c",
      "metadata": {
        "id": "399a371c",
        "outputId": "6c330438-4328-49f6-878f-12602eb46385"
      },
      "outputs": [
        {
          "name": "stdout",
          "output_type": "stream",
          "text": [
            "enter the range6\n",
            "{0: 0, 1: 1, 2: 4, 3: 9, 4: 16, 5: 25, 6: 36}\n",
            "6\n",
            "0\n"
          ]
        }
      ],
      "source": [
        "a=dict()\n",
        "b=int(input(\"enter the range\"))\n",
        "for x in range(b+1):\n",
        "    a[x]=x*x\n",
        "print(a)"
      ]
    },
    {
      "cell_type": "code",
      "execution_count": null,
      "id": "572fe894",
      "metadata": {
        "id": "572fe894",
        "outputId": "98dd8ef2-76b3-47f1-d81b-948fb925bd05"
      },
      "outputs": [
        {
          "name": "stdout",
          "output_type": "stream",
          "text": [
            "6 1\n"
          ]
        }
      ],
      "source": [
        "a={\n",
        "    1,2,4,5,6\n",
        "}\n",
        "print(max(a),min(a))"
      ]
    },
    {
      "cell_type": "code",
      "execution_count": null,
      "id": "55baa7ad",
      "metadata": {
        "id": "55baa7ad",
        "outputId": "3bb103d7-365e-4efa-d83c-8a48c26c97b0"
      },
      "outputs": [
        {
          "name": "stdout",
          "output_type": "stream",
          "text": [
            "['hi', 'hello']\n",
            " he\n"
          ]
        }
      ],
      "source": [
        "a=\"hi hello\"\n",
        "print(a.split())\n",
        "print(a[2:5])"
      ]
    },
    {
      "cell_type": "code",
      "execution_count": null,
      "id": "627baeaf",
      "metadata": {
        "id": "627baeaf",
        "outputId": "0a2e43af-f8a2-4bed-b898-4f70fbce5aec"
      },
      "outputs": [
        {
          "name": "stdout",
          "output_type": "stream",
          "text": [
            "koushikabckiran\n"
          ]
        }
      ],
      "source": [
        "\n",
        "print(\"koushik\",end='abc')\n",
        "print(\"kiran\")"
      ]
    },
    {
      "cell_type": "code",
      "execution_count": null,
      "id": "9079028d",
      "metadata": {
        "id": "9079028d",
        "outputId": "01488f4a-62d9-4973-a75b-cc5635f5c181"
      },
      "outputs": [
        {
          "name": "stdout",
          "output_type": "stream",
          "text": [
            "enter the commandroll\n",
            "3\n",
            "6\n",
            "5\n",
            "3\n",
            "2\n",
            "6\n"
          ]
        }
      ],
      "source": [
        "import random\n",
        "a=input(\"enter the command\")\n",
        "if \"roll\"==a:\n",
        "    for x in range(6):\n",
        "        a=random.randint(1,6)\n",
        "        print(a)"
      ]
    },
    {
      "cell_type": "code",
      "execution_count": null,
      "id": "ae00249b",
      "metadata": {
        "id": "ae00249b",
        "outputId": "509d4177-caee-4a8c-9b9d-3c16c0019ef2"
      },
      "outputs": [
        {
          "name": "stdout",
          "output_type": "stream",
          "text": [
            "enter thr first number: 5\n",
            "enter the second number: 2\n",
            "product is:  10\n"
          ]
        }
      ],
      "source": [
        "def product(s,k):\n",
        "    if(s<k):\n",
        "        return product(k,s)\n",
        "    elif(k!=0):\n",
        "        return(s+product(s,k-1))\n",
        "    else:\n",
        "        return 0\n",
        "s=int(input(\"enter thr first number: \"))\n",
        "k=int(input(\"enter the second number: \"))\n",
        "print(\"product is: \",product(s,k))"
      ]
    },
    {
      "cell_type": "code",
      "execution_count": null,
      "id": "22d16f8d",
      "metadata": {
        "id": "22d16f8d",
        "outputId": "d9f0e46f-4a69-4cf2-e05e-8e2898a07db9"
      },
      "outputs": [
        {
          "name": "stdout",
          "output_type": "stream",
          "text": [
            "enter number of terms: 6\n",
            "fibo\n",
            "0\n",
            "1\n",
            "1\n",
            "2\n",
            "3\n",
            "5\n"
          ]
        }
      ],
      "source": [
        "def fibo(n):\n",
        "    if n<=1:\n",
        "        return n\n",
        "    else:\n",
        "        return(fibo(n-1)+(fibo(n-2)))\n",
        "nterms = int(input(\"enter number of terms: \"))\n",
        "if nterms<=0:\n",
        "               print(\"enter any postive values: \")\n",
        "else:\n",
        "    print(\"fibo\")\n",
        "for i in range(nterms):\n",
        "            print(fibo(i))\n",
        "               "
      ]
    },
    {
      "cell_type": "code",
      "execution_count": null,
      "id": "46faabc9",
      "metadata": {
        "id": "46faabc9",
        "outputId": "19b39227-1b8d-4f0b-b203-3c803cb320bc"
      },
      "outputs": [
        {
          "name": "stdout",
          "output_type": "stream",
          "text": [
            "enter the amount of number's5\n",
            "{1: 1, 2: 4, 3: 9, 4: 16, 5: 25}\n"
          ]
        }
      ],
      "source": [
        "b=int(input(\"enter the amount of number's\"))\n",
        "a=dict()\n",
        "for x in range(1,b+1):\n",
        "    a[x]=x*x\n",
        "print(a)"
      ]
    },
    {
      "cell_type": "code",
      "execution_count": null,
      "id": "aa38db47",
      "metadata": {
        "id": "aa38db47",
        "outputId": "894b583b-655f-4390-9165-5826b9cfd2fa"
      },
      "outputs": [
        {
          "name": "stdout",
          "output_type": "stream",
          "text": [
            "['hi,bye,hello']\n",
            ",by\n"
          ]
        }
      ],
      "source": [
        "a=\"hi,bye,hello\"\n",
        "print(a.split())\n",
        "print(a[2:5])"
      ]
    },
    {
      "cell_type": "code",
      "execution_count": null,
      "id": "ede10b2b",
      "metadata": {
        "id": "ede10b2b",
        "outputId": "5fe1bf4c-d468-4f37-f3b2-f7572a54b503"
      },
      "outputs": [
        {
          "name": "stdout",
          "output_type": "stream",
          "text": [
            "4 2\n"
          ]
        }
      ],
      "source": [
        "a=[1,2,3,4,5]\n",
        "a.sort(reverse=True)\n",
        "print(a[1],a[-2])"
      ]
    },
    {
      "cell_type": "code",
      "execution_count": null,
      "id": "571c415e",
      "metadata": {
        "id": "571c415e",
        "outputId": "6589e98c-7c1a-4810-da1b-a979959efbe2"
      },
      "outputs": [
        {
          "name": "stdout",
          "output_type": "stream",
          "text": [
            "['Green', 'White', 'Black', 'Yellow']\n"
          ]
        }
      ],
      "source": [
        "list= ['Red', 'Green', 'White', 'Black', 'Pink', 'Yellow'] \n",
        "list.pop(0)\n",
        "list.pop(3)\n",
        "list.pop()\n",
        "print(list)"
      ]
    },
    {
      "cell_type": "markdown",
      "id": "d8cdefab",
      "metadata": {
        "id": "d8cdefab"
      },
      "source": [
        "### assignment\n"
      ]
    },
    {
      "cell_type": "code",
      "execution_count": null,
      "id": "bbf92c23",
      "metadata": {
        "id": "bbf92c23",
        "outputId": "693c7064-7519-4a40-9780-7ee83fbffb11"
      },
      "outputs": [
        {
          "name": "stdout",
          "output_type": "stream",
          "text": [
            "Hi\n",
            "Okay\n",
            "End\n"
          ]
        }
      ],
      "source": [
        "a=\"hi okay end\"\n",
        "for x in a.split():\n",
        "  print(x.capitalize())"
      ]
    },
    {
      "cell_type": "code",
      "execution_count": null,
      "id": "4905d963",
      "metadata": {
        "id": "4905d963",
        "outputId": "65634e3b-7196-43c6-ae98-9e3339fbcbee"
      },
      "outputs": [
        {
          "name": "stdout",
          "output_type": "stream",
          "text": [
            "hi\n",
            "okay\n"
          ]
        }
      ],
      "source": [
        "a=\"hi okay bye emo\"\n",
        "b=[2,4,6,8,10,12,14,16,18,20]\n",
        "for x in a.split():\n",
        "  if len(x) in b:\n",
        "    print (x)"
      ]
    },
    {
      "cell_type": "code",
      "execution_count": null,
      "id": "cb78310e",
      "metadata": {
        "id": "cb78310e",
        "outputId": "7fa4ce3a-e5b4-4e3f-b6ed-ac76642fcb3e"
      },
      "outputs": [
        {
          "name": "stdout",
          "output_type": "stream",
          "text": [
            "enter number8\n",
            "true\n"
          ]
        }
      ],
      "source": [
        "f1=0;f2=1\n",
        "a=[0,1]\n",
        "for i in range (100):\n",
        "  next=f1+f2\n",
        "  f1=f2\n",
        "  f2=next \n",
        "  a.append(next)\n",
        "fin=int(input(\"enter number\"))\n",
        "if fin in a:\n",
        "  print(\"true\")\n",
        "else:\n",
        "  print(\"false\")"
      ]
    },
    {
      "cell_type": "code",
      "execution_count": null,
      "id": "841fafc6",
      "metadata": {
        "id": "841fafc6",
        "outputId": "30d9f01b-7e97-47e7-afd3-606a5366729a"
      },
      "outputs": [
        {
          "name": "stdout",
          "output_type": "stream",
          "text": [
            "enter the number: 13\n",
            "enter correct choice\n"
          ]
        }
      ],
      "source": [
        "a=int(input(\"enter the number: \"))\n",
        "b=[4,6,9,11]\n",
        "if a==2:\n",
        "  print(\"28/29\")\n",
        "elif a in b:\n",
        "  print(\"30\")\n",
        "elif a>=13or a<1:\n",
        "  print(\"enter correct choice\")\n",
        "else:\n",
        "  print(\"31\")"
      ]
    },
    {
      "cell_type": "code",
      "execution_count": null,
      "id": "b7a2656c",
      "metadata": {
        "id": "b7a2656c",
        "outputId": "94905068-0d32-45e2-cb9f-20bf373e2921"
      },
      "outputs": [
        {
          "name": "stdout",
          "output_type": "stream",
          "text": [
            "29\n",
            "31\n",
            "37\n",
            "41\n",
            "43\n",
            "47\n"
          ]
        }
      ],
      "source": [
        "def prime():\n",
        "  for i in range(25,50):\n",
        "          c=0\n",
        "          for x in range(1,i+1):\n",
        "           \n",
        "           if i%x==0:\n",
        "             c=c+1\n",
        "          if c<=2:\n",
        "            print(i)\n",
        "prime()  "
      ]
    },
    {
      "cell_type": "code",
      "execution_count": null,
      "id": "ba3f8fbe",
      "metadata": {
        "id": "ba3f8fbe",
        "outputId": "500e385b-9576-4db6-ce2a-7011b85a4319"
      },
      "outputs": [
        {
          "name": "stdout",
          "output_type": "stream",
          "text": [
            "enter the number15\n",
            "enter the last number12\n",
            "15\n",
            "14\n",
            "13\n",
            "12\n"
          ]
        }
      ],
      "source": [
        "a=int(input(\"enter the number\"))\n",
        "b=int(input(\"enter the last number\"))\n",
        "if a>b:\n",
        "  for x in range(a,b-1,-1):\n",
        "    print(x)\n",
        "else:\n",
        "  for x in range(a,b+1):\n",
        "    print(x)"
      ]
    },
    {
      "cell_type": "code",
      "execution_count": null,
      "id": "96e38e33",
      "metadata": {
        "id": "96e38e33",
        "outputId": "5dfb3759-fcb6-416b-bf70-400024c80e47"
      },
      "outputs": [
        {
          "name": "stdout",
          "output_type": "stream",
          "text": [
            "enter list of intergers: [1556,12,6958]\n",
            "1556126958\n"
          ]
        }
      ],
      "source": [
        "a=eval(input(\"enter list of intergers: \"))\n",
        "b=\"\"\n",
        "for i in a :\n",
        "  b+=str(i)\n",
        "print(b)"
      ]
    },
    {
      "cell_type": "code",
      "execution_count": null,
      "id": "6cbd751f",
      "metadata": {
        "id": "6cbd751f",
        "outputId": "ccc1d6a7-8544-4986-9177-127784c48a5f"
      },
      "outputs": [
        {
          "name": "stdout",
          "output_type": "stream",
          "text": [
            "121123145\n"
          ]
        }
      ],
      "source": [
        "a=[121,123,145]\n",
        "b=\"\"\n",
        "for x in a:\n",
        "    b=b+str(x)\n",
        "print(b)"
      ]
    },
    {
      "cell_type": "code",
      "execution_count": null,
      "id": "982310b0",
      "metadata": {
        "id": "982310b0",
        "outputId": "c36e6526-60db-4b7a-a50c-2a2c42edbffc"
      },
      "outputs": [
        {
          "name": "stdout",
          "output_type": "stream",
          "text": [
            "enter the number you want to find palindrome for5\n",
            "palindrome\n"
          ]
        }
      ],
      "source": [
        "  ## 6)check a given string is a pallindrome or not\n",
        "a=int(input(\"enter the number you want to find palindrome for\"))\n",
        "rev=0\n",
        "temp=a\n",
        "while temp>0:\n",
        "    rem=temp%10\n",
        "    rev=(rev*10)+rem\n",
        "    temp=temp//10\n",
        "if a==rev:\n",
        "    print(\"palindrome\")\n",
        "else:\n",
        "    print(\"not a plaindrome\")"
      ]
    },
    {
      "cell_type": "code",
      "execution_count": null,
      "id": "5edbdcc2",
      "metadata": {
        "id": "5edbdcc2",
        "outputId": "c2f08c23-fe74-4d99-cf98-e7ee216a8f39"
      },
      "outputs": [
        {
          "name": "stdout",
          "output_type": "stream",
          "text": [
            "enter the number58\n",
            "not a perfect number\n"
          ]
        }
      ],
      "source": [
        "## 5)check a given number is perfect number are not\n",
        "a=int(input(\"enter the number\"))\n",
        "sum=0\n",
        "for i in range (1,a):\n",
        "    if a%i==0:\n",
        "        sum=sum+i\n",
        "if sum==a:\n",
        "        print(\"perfect number\")\n",
        "else:\n",
        "        print(\"not a perfect number\")"
      ]
    },
    {
      "cell_type": "code",
      "execution_count": null,
      "id": "3ba338f0",
      "metadata": {
        "id": "3ba338f0",
        "outputId": "2d270ac8-df3b-4695-fcfb-b23ed34b1524"
      },
      "outputs": [
        {
          "name": "stdout",
          "output_type": "stream",
          "text": [
            "enter the number9\n",
            "enter number two6\n",
            "enter the third number5\n",
            "a is max\n"
          ]
        }
      ],
      "source": [
        "##15)program to print greatest of three numbers\n",
        "a=int(input(\"enter the number\"));b=int(input(\"enter number two\"));c=int(input(\"enter the third number\"))\n",
        "if a>b and a>c:\n",
        "    print(\"a is max\")\n",
        "elif b>a and b>c :\n",
        "    print(\"b is max\")\n",
        "else :\n",
        "    print(\"c is max\")"
      ]
    },
    {
      "cell_type": "code",
      "execution_count": null,
      "id": "2176c56f",
      "metadata": {
        "id": "2176c56f",
        "outputId": "2fdf1cfc-e2ec-41a4-e13b-b85fff0a0aac"
      },
      "outputs": [
        {
          "name": "stdout",
          "output_type": "stream",
          "text": [
            "enter the number6\n",
            "enter the last number1\n",
            "6\n",
            "5\n",
            "4\n",
            "3\n",
            "2\n",
            "1\n"
          ]
        }
      ],
      "source": [
        "##14)given wo integers a and b.if a <b ,print all numbers between in ascending order.if a>b print all numbers between in decending order\n",
        "a=int(input(\"enter the number\"))\n",
        "b=int(input(\"enter the last number\"))\n",
        "if a>b:\n",
        "  for x in range(a,b-1,-1):\n",
        "    print(x)\n",
        "else:\n",
        "  for x in range(a,b+1):\n",
        "    print(x)"
      ]
    },
    {
      "cell_type": "code",
      "execution_count": null,
      "id": "865a9503",
      "metadata": {
        "id": "865a9503",
        "outputId": "fa58e594-32d3-48e1-eed1-472d578894a9"
      },
      "outputs": [
        {
          "name": "stdout",
          "output_type": "stream",
          "text": [
            "mark of the student 1 \n",
            "enter the subject marks: 66\n",
            "enter the subject marks: 46\n",
            "enter the subject marks: 55\n",
            "enter the subject marks: 54\n",
            "enter the subject marks: 55\n",
            "FAIL\n"
          ]
        }
      ],
      "source": [
        "## 3)take five subjects from the user and display the grade of the student,if average is 90-100(o),80-89(a+),70-79(a)...\n",
        "print(\"mark of the student 1 \")\n",
        "s1=int(input(\"enter the subject marks: \"))\n",
        "s2=int(input(\"enter the subject marks: \"))\n",
        "s3=int(input(\"enter the subject marks: \"))\n",
        "s4=int(input(\"enter the subject marks: \"))\n",
        "s5=int(input(\"enter the subject marks: \"))\n",
        "total=s1+s2+s3+s4+s5\n",
        "if total>90 and total<100:\n",
        "    print(\"o GRADE\")\n",
        "elif total>80 and total<89:\n",
        "    print(\"a+ GRADE\")\n",
        "elif total>70 and total<79:\n",
        "    print(\"a GRADE\")\n",
        "elif total>60 and total<69:\n",
        "    print(\"b GRADE\")\n",
        "else:\n",
        "    print(\"FAIL\")"
      ]
    },
    {
      "cell_type": "code",
      "execution_count": null,
      "id": "395c2fa6",
      "metadata": {
        "id": "395c2fa6",
        "outputId": "3ec69384-b44d-4d26-aed4-f4ca41bd4b3c"
      },
      "outputs": [
        {
          "name": "stdout",
          "output_type": "stream",
          "text": [
            "Enter first number:5\n",
            "Enter second number:3\n",
            "GCD is: \n",
            "1\n"
          ]
        }
      ],
      "source": [
        "##7)find the gcd of two numbers with and without recursion(5,3=1)\n",
        "##with recursion \n",
        "def gcd(a,b):\n",
        "    if(b==0):\n",
        "        return a\n",
        "    else:\n",
        "        return gcd(b,a%b)\n",
        "a=int(input(\"Enter first number:\"))\n",
        "b=int(input(\"Enter second number:\"))\n",
        "GCD=gcd(a,b)\n",
        "print(\"GCD is: \")\n",
        "print(GCD)\n",
        "\n"
      ]
    },
    {
      "cell_type": "code",
      "execution_count": null,
      "id": "9808ba19",
      "metadata": {
        "id": "9808ba19",
        "outputId": "31754126-a463-4a87-eac9-52ddf9fd8f69"
      },
      "outputs": [
        {
          "name": "stdout",
          "output_type": "stream",
          "text": [
            "Enter 1st number: 5\n",
            "Enter 2nd number: 3\n",
            "GCD is 1\n"
          ]
        }
      ],
      "source": [
        "##without recursion\n",
        "num1 = int(input(\"Enter 1st number: \"))\n",
        "num2 = int(input(\"Enter 2nd number: \"))\n",
        "gcd=1\n",
        "while (i <= num1 and i <= num2):\n",
        "  if(num1 % i == 0 and num2 % i == 0):\n",
        "    gcd = i\n",
        "  i = i + 1\n",
        "print(\"GCD is\",gcd)"
      ]
    },
    {
      "cell_type": "code",
      "execution_count": null,
      "id": "3966c35d",
      "metadata": {
        "id": "3966c35d",
        "outputId": "9bbeb0c6-22a2-4e6f-e82a-02c375838033"
      },
      "outputs": [
        {
          "name": "stdout",
          "output_type": "stream",
          "text": [
            "14.0\n"
          ]
        }
      ],
      "source": [
        "##10)write a program to calculate the sum of squares given by user(123=14)\n",
        "\n",
        "import math\n",
        "a=[1,2,3]\n",
        "sum=0\n",
        "for x in a:\n",
        "    sum=sum+math.pow(x,2)\n",
        "print(sum)    \n",
        "    "
      ]
    },
    {
      "cell_type": "code",
      "execution_count": null,
      "id": "7be4bca4",
      "metadata": {
        "id": "7be4bca4",
        "outputId": "90def277-502e-44fe-87bd-8c85a683135f"
      },
      "outputs": [
        {
          "name": "stdout",
          "output_type": "stream",
          "text": [
            "Enter a number:23456\n",
            "12\n"
          ]
        }
      ],
      "source": [
        "##8)print sum of even digits in a given number\n",
        "n = int(input(\"Enter a number:\"))\n",
        "\n",
        "a= 0\n",
        "\n",
        "while n > 0:\n",
        "    i = n % 10\n",
        "    if i % 2 == 0:\n",
        "        a = a + i\n",
        "    n=n//10\n",
        "print(a)\n"
      ]
    },
    {
      "cell_type": "code",
      "execution_count": null,
      "id": "d9ae731a",
      "metadata": {
        "id": "d9ae731a",
        "outputId": "cc46853f-dc65-4e1c-b307-2cf0fb4108b4"
      },
      "outputs": [
        {
          "name": "stdout",
          "output_type": "stream",
          "text": [
            "vowels 5\n",
            "consonents 10\n"
          ]
        }
      ],
      "source": [
        "a=\"gitamuniversity\"\n",
        "b=[\"i\",\"a\",\"e\",\"o\",\"U\"]\n",
        "v=0\n",
        "c=0\n",
        "for x in a:\n",
        "    if x in b:\n",
        "        v=v+1\n",
        "    else:\n",
        "        c=c+1\n",
        "print(\"vowels\",v)\n",
        "print(\"consonents\",c)\n"
      ]
    },
    {
      "cell_type": "code",
      "execution_count": null,
      "id": "d96ae48a",
      "metadata": {
        "id": "d96ae48a",
        "outputId": "bbbcb7fe-d446-4cef-a623-200a8a4dd097"
      },
      "outputs": [
        {
          "name": "stdout",
          "output_type": "stream",
          "text": [
            "This\n",
            "is\n",
            "python\n"
          ]
        }
      ],
      "source": [
        "a=\"This is a python class\"\n",
        "b=[2,4,6,8,10,12,14,16,18,20]\n",
        "for x in a.split():\n",
        "  if len(x) in b:\n",
        "    print (x)\n",
        "    "
      ]
    },
    {
      "cell_type": "markdown",
      "id": "99392a05",
      "metadata": {
        "id": "99392a05"
      },
      "source": [
        "### Files"
      ]
    },
    {
      "cell_type": "code",
      "execution_count": null,
      "id": "83c87e07",
      "metadata": {
        "id": "83c87e07",
        "outputId": "a401145f-6c99-49c1-f34d-bc5b0113da4f"
      },
      "outputs": [
        {
          "name": "stdout",
          "output_type": "stream",
          "text": [
            "hi\n"
          ]
        }
      ],
      "source": [
        "k=open(\"kiran\",\"w\")\n",
        "k.write(\"hi\")\n",
        "k.close()\n",
        "k=open(\"kiran\",\"r\")\n",
        "print(k.read())"
      ]
    },
    {
      "cell_type": "code",
      "execution_count": null,
      "id": "b4f64196",
      "metadata": {
        "id": "b4f64196",
        "outputId": "8457ace7-5564-4ab7-ff4f-bedf1cfc8338"
      },
      "outputs": [
        {
          "name": "stdout",
          "output_type": "stream",
          "text": [
            "hey there \n",
            "\n",
            " hi\n"
          ]
        }
      ],
      "source": [
        "f=open(\"kiran\",\"w\")\n",
        "f.write(\"hey there \\n hi\")\n",
        "f.close()\n",
        "f=open(\"kiran\",\"r\")\n",
        "print(f.readline())\n",
        "print(f.readline())\n",
        "f.close()"
      ]
    },
    {
      "cell_type": "code",
      "execution_count": null,
      "id": "de19c1b4",
      "metadata": {
        "id": "de19c1b4",
        "outputId": "66f7878a-0246-4980-b877-4f1a8a2a0f69"
      },
      "outputs": [
        {
          "name": "stdout",
          "output_type": "stream",
          "text": [
            "okay\n"
          ]
        }
      ],
      "source": [
        "f=open(\"kiran.txt\",\"r\")\n",
        "print(f.read())\n",
        "f.close()\n"
      ]
    },
    {
      "cell_type": "code",
      "execution_count": null,
      "id": "8f37b095",
      "metadata": {
        "id": "8f37b095",
        "outputId": "2c5b8a60-934c-48b7-b0b9-e7530ebc3063"
      },
      "outputs": [
        {
          "name": "stdout",
          "output_type": "stream",
          "text": [
            "true\n"
          ]
        }
      ],
      "source": [
        "import os\n",
        "if os.path.exists(\"kiran.txt\"):\n",
        "    #os.remove(\"kiran.txt\")\n",
        "    print(\"true\")\n",
        "else:\n",
        "    print(\"false\")"
      ]
    },
    {
      "cell_type": "code",
      "execution_count": null,
      "id": "df755d8a",
      "metadata": {
        "id": "df755d8a",
        "outputId": "c430655c-cb98-4e90-eba1-ecc19753a285"
      },
      "outputs": [
        {
          "name": "stdout",
          "output_type": "stream",
          "text": [
            "hey there \n",
            "\n",
            " hi\n"
          ]
        }
      ],
      "source": [
        "f=open(\"kiran\",\"r\")\n",
        "print(f.readline())\n",
        "print(f.readline())\n",
        "f.close()"
      ]
    },
    {
      "cell_type": "code",
      "execution_count": null,
      "id": "1de55119",
      "metadata": {
        "id": "1de55119"
      },
      "outputs": [],
      "source": [
        "import os\n",
        "os.rmdir(\"C:\\\\Users\\CSE22004\\Documents\\Python Scripts\")"
      ]
    },
    {
      "cell_type": "code",
      "execution_count": null,
      "id": "de25b42c",
      "metadata": {
        "id": "de25b42c",
        "outputId": "e02326ab-402a-4e08-8538-f52bf0440e53"
      },
      "outputs": [
        {
          "name": "stdout",
          "output_type": "stream",
          "text": [
            "false\n"
          ]
        }
      ],
      "source": [
        "import os \n",
        "if os.path.exists(\"koushik.txt\"):\n",
        "    print(\"true\")\n",
        "else:\n",
        "    print(\"false\")"
      ]
    },
    {
      "cell_type": "code",
      "execution_count": null,
      "id": "14a32659",
      "metadata": {
        "id": "14a32659",
        "outputId": "3d9eac1e-3d9e-4461-9401-bbf6e3c9f8fa"
      },
      "outputs": [
        {
          "name": "stdout",
          "output_type": "stream",
          "text": [
            "bitchesss\n"
          ]
        }
      ],
      "source": [
        "f=open(\"C:\\\\Users\\CSE22004\\Desktop\\okay\\koushik.txt\",\"r\")\n",
        "print(f.read())\n",
        "f.close()\n"
      ]
    },
    {
      "cell_type": "code",
      "execution_count": null,
      "id": "2a28e4d3",
      "metadata": {
        "id": "2a28e4d3",
        "outputId": "523e54c1-a06c-4124-cc58-9f4903ca653f"
      },
      "outputs": [
        {
          "name": "stdout",
          "output_type": "stream",
          "text": [
            "true\n"
          ]
        }
      ],
      "source": [
        "import os\n",
        "if os.path.exists(\"C:\\\\Users\\CSE22004\\Desktop\\okay\\koushik.txt\"):\n",
        "    os.remove(\"C:\\\\Users\\CSE22004\\Desktop\\okay\\koushik.txt\")\n",
        "    print(\"true\")\n",
        "else:\n",
        "    print(\"false\")"
      ]
    },
    {
      "cell_type": "code",
      "execution_count": null,
      "id": "62f241cc",
      "metadata": {
        "id": "62f241cc",
        "outputId": "ac40201a-5d55-4754-8d5f-db2544bf1755"
      },
      "outputs": [
        {
          "ename": "FileNotFoundError",
          "evalue": "[WinError 2] The system cannot find the file specified: 'C:\\\\Users\\\\CSE22004\\\\Desktop\\\\okay'",
          "output_type": "error",
          "traceback": [
            "\u001b[1;31m---------------------------------------------------------------------------\u001b[0m",
            "\u001b[1;31mFileNotFoundError\u001b[0m                         Traceback (most recent call last)",
            "\u001b[1;32m~\\AppData\\Local\\Temp/ipykernel_1944/978988631.py\u001b[0m in \u001b[0;36m<module>\u001b[1;34m\u001b[0m\n\u001b[0;32m      1\u001b[0m \u001b[1;32mimport\u001b[0m \u001b[0mos\u001b[0m\u001b[1;33m\u001b[0m\u001b[1;33m\u001b[0m\u001b[0m\n\u001b[0;32m      2\u001b[0m \u001b[1;33m\u001b[0m\u001b[0m\n\u001b[1;32m----> 3\u001b[1;33m \u001b[0mos\u001b[0m\u001b[1;33m.\u001b[0m\u001b[0mrmdir\u001b[0m\u001b[1;33m(\u001b[0m\u001b[1;34m\"C:\\\\Users\\CSE22004\\Desktop\\okay\"\u001b[0m\u001b[1;33m)\u001b[0m\u001b[1;33m\u001b[0m\u001b[1;33m\u001b[0m\u001b[0m\n\u001b[0m",
            "\u001b[1;31mFileNotFoundError\u001b[0m: [WinError 2] The system cannot find the file specified: 'C:\\\\Users\\\\CSE22004\\\\Desktop\\\\okay'"
          ]
        }
      ],
      "source": [
        "import os\n",
        "\n",
        "os.rmdir(\"C:\\\\Users\\CSE22004\\Desktop\\okay\")"
      ]
    },
    {
      "cell_type": "markdown",
      "id": "79a51020",
      "metadata": {
        "id": "79a51020"
      },
      "source": [
        "## Module-3"
      ]
    },
    {
      "cell_type": "code",
      "execution_count": null,
      "id": "4543eed0",
      "metadata": {
        "id": "4543eed0",
        "outputId": "0fe3c248-b348-42d6-893e-7ca5df2b64ac"
      },
      "outputs": [
        {
          "name": "stdout",
          "output_type": "stream",
          "text": [
            "hi\n"
          ]
        }
      ],
      "source": [
        "k=open(\"kiran\",\"w\")\n",
        "k.write(\"hi\")\n",
        "k.close()\n",
        "k=open(\"kiran\",\"r\")\n",
        "print(k.read())\n",
        "##f=open(\"location\\\\filename\",\"r\")\n",
        "#print(f.read())"
      ]
    },
    {
      "cell_type": "code",
      "execution_count": null,
      "id": "c625309b",
      "metadata": {
        "id": "c625309b",
        "outputId": "52028d37-cd69-4d68-c05c-96995a019744"
      },
      "outputs": [
        {
          "name": "stdout",
          "output_type": "stream",
          "text": [
            "hi\n"
          ]
        }
      ],
      "source": [
        "k=open(\"kiran\",\"w\")\n",
        "k.write(\"hi\")\n",
        "k.close()\n",
        "k=open(\"kiran\",\"r\")\n",
        "print(k.readline())\n",
        "k.close()"
      ]
    },
    {
      "cell_type": "code",
      "execution_count": null,
      "id": "72796055",
      "metadata": {
        "id": "72796055",
        "outputId": "09212124-3526-40da-8458-2f04b0f12b71"
      },
      "outputs": [
        {
          "name": "stdout",
          "output_type": "stream",
          "text": [
            "hi\n",
            "hi b\n"
          ]
        }
      ],
      "source": [
        "k=open(\"kiran\",\"w\")\n",
        "k.write(\"hi\")\n",
        "k.close()\n",
        "k=open(\"kiran\",\"r\")\n",
        "print(k.readline())\n",
        "k.close()\n",
        "k=open(\"kiran\",\"a\")##append\n",
        "k.write(\" bye\")\n",
        "k.close()\n",
        "k=open(\"kiran\",\"r\")\n",
        "print(k.read(4))"
      ]
    },
    {
      "cell_type": "code",
      "execution_count": null,
      "id": "288513ee",
      "metadata": {
        "id": "288513ee",
        "outputId": "56697ab8-78c0-461a-8779-44461fece399"
      },
      "outputs": [
        {
          "name": "stdout",
          "output_type": "stream",
          "text": [
            "5\n"
          ]
        }
      ],
      "source": [
        "k=open(\"hi.txt\",\"w\")\n",
        "k.write(\"sksksksksk\")\n",
        "k=open(\"hi.txt\",\"r\")\n",
        "a=0\n",
        "for x in k.read():\n",
        "    if \"s\"==x:\n",
        "        a=a+1\n",
        "print(a)        \n",
        "    "
      ]
    },
    {
      "cell_type": "code",
      "execution_count": null,
      "id": "0b79e80b",
      "metadata": {
        "id": "0b79e80b",
        "outputId": "589b2352-88f3-4667-d6fb-2a222076ca2f"
      },
      "outputs": [
        {
          "name": "stdout",
          "output_type": "stream",
          "text": [
            "['k', 'i', 'r', 'a', 'n']\n",
            "\n"
          ]
        }
      ],
      "source": [
        "k=open(\"hii.txt\",\"w\")\n",
        "k.write(\"k i r a n\")\n",
        "k.close()\n",
        "k=open(\"hii.txt\",\"r\")\n",
        "c=0\n",
        "b=\"\"\n",
        "print(k.read().split())\n",
        "for x in k.read().split():\n",
        "    b=b+(x)\n",
        "print(b)    "
      ]
    },
    {
      "cell_type": "code",
      "execution_count": null,
      "id": "120cda6e",
      "metadata": {
        "id": "120cda6e",
        "outputId": "172a3188-5242-4154-d448-f326128b1d6f"
      },
      "outputs": [
        {
          "name": "stdout",
          "output_type": "stream",
          "text": [
            "\n"
          ]
        }
      ],
      "source": [
        "k=open(\"hiii.txt\",\"w\")\n",
        "k.write(\"okay\")\n",
        "k=open(\"hiii.txt\",\"r\")\n",
        "a=k.read()\n",
        "k.close()\n",
        "s=open(\"hiii.txt\",\"w\")\n",
        "s.write(a)\n",
        "p=open(\"hiii.txt\",\"r\")\n",
        "print(p.read())\n",
        "s.close()\n",
        "#m=open(\"hiii.txt\",\"r\")\n"
      ]
    },
    {
      "cell_type": "code",
      "execution_count": null,
      "id": "754926a6",
      "metadata": {
        "id": "754926a6",
        "outputId": "6a81aa6a-a760-4b38-8884-e169f7a3e907"
      },
      "outputs": [
        {
          "name": "stdout",
          "output_type": "stream",
          "text": [
            "abc\n"
          ]
        }
      ],
      "source": [
        "x=[\"a\",\"b\",\"c\"]\n",
        "b=\"\"\n",
        "for x in x:\n",
        "     b=b+(x)\n",
        "print(b)"
      ]
    },
    {
      "cell_type": "code",
      "execution_count": null,
      "id": "450595bc",
      "metadata": {
        "id": "450595bc",
        "outputId": "85d4edd7-21e7-495d-cc33-e53a7c090c7c"
      },
      "outputs": [
        {
          "name": "stdout",
          "output_type": "stream",
          "text": [
            "['acb', 'cbd']\n"
          ]
        }
      ],
      "source": [
        "s=\"acb cbd\"\n",
        "a=s.split().copy()\n",
        "print(a)"
      ]
    },
    {
      "cell_type": "code",
      "execution_count": null,
      "id": "3d934be6",
      "metadata": {
        "id": "3d934be6",
        "outputId": "ed1378f2-965c-4cea-e4f1-4b5de89bc400"
      },
      "outputs": [
        {
          "name": "stdout",
          "output_type": "stream",
          "text": [
            "2\n",
            "4\n"
          ]
        }
      ],
      "source": [
        "f=open(\"koushik.txt\",\"w\")\n",
        "f.write(\"12345\")\n",
        "f.close()\n",
        "f=open(\"koushik.txt\",\"r\")\n",
        "b=[]\n",
        "for x in f.read():\n",
        "    b.append(int(x))\n",
        "for x in b:\n",
        "    if x%2==0:\n",
        "        print(x)"
      ]
    },
    {
      "cell_type": "code",
      "execution_count": null,
      "id": "952be8fc",
      "metadata": {
        "id": "952be8fc",
        "outputId": "20d380f2-5032-45d2-8789-6b1e821189d0"
      },
      "outputs": [
        {
          "name": "stdout",
          "output_type": "stream",
          "text": [
            "   s no.     name  age grade\n",
            "0    1.0    kiran   19     a\n",
            "1    2.0  koushik   18     b\n",
            "2    3.0     mani   17     c\n",
            "3    NaN        x   16     d\n",
            "4    5.0        y   15     f\n"
          ]
        }
      ],
      "source": [
        "import pandas as pd\n",
        "b=pd.read_csv(\"C:\\\\Users\\CSE22004\\Desktop\\\\demo.csv\")\n",
        "print(b.to_string())"
      ]
    },
    {
      "cell_type": "code",
      "execution_count": null,
      "id": "57c87c67",
      "metadata": {
        "id": "57c87c67",
        "outputId": "967863eb-3cd0-4969-fd48-f46ff74613ab"
      },
      "outputs": [
        {
          "name": "stdout",
          "output_type": "stream",
          "text": [
            "   s no.  name  age grade\n",
            "2    3.0  mani   17     c\n",
            "4    5.0     y   15     f\n"
          ]
        }
      ],
      "source": [
        "\n",
        "import pandas as pd\n",
        "a=pd.read_csv(\"C:\\\\Users\\CSE22004\\Desktop\\\\demo.csv\")\n",
        "b=pd.DataFrame(a)\n",
        "print(b.loc[[2,4]])"
      ]
    },
    {
      "cell_type": "code",
      "execution_count": null,
      "id": "fec8e5da",
      "metadata": {
        "id": "fec8e5da",
        "outputId": "e62f21e2-b8fc-4bb1-a3d4-29b5d56964c0"
      },
      "outputs": [
        {
          "name": "stdout",
          "output_type": "stream",
          "text": [
            "1    18\n",
            "Name: age, dtype: int64\n"
          ]
        }
      ],
      "source": [
        "import pandas as pd\n",
        "a=pd.read_csv(\"C:\\\\Users\\CSE22004\\Desktop\\\\demo.csv\")\n",
        "b=pd.DataFrame(a)\n",
        "print(b.loc[[1]] [\"age\"])"
      ]
    },
    {
      "cell_type": "code",
      "execution_count": null,
      "id": "3bcf40f4",
      "metadata": {
        "id": "3bcf40f4",
        "outputId": "bb8e6e7e-e8fd-4671-a3cb-33d44667811d"
      },
      "outputs": [
        {
          "name": "stdout",
          "output_type": "stream",
          "text": [
            "   s no.     name  age grade\n",
            "0    1.0    kiran   19     a\n",
            "1    2.0  koushik   18     b\n"
          ]
        }
      ],
      "source": [
        "import pandas as pd\n",
        "a=pd.read_csv(\"C:\\\\Users\\CSE22004\\Desktop\\\\demo.csv\")\n",
        "b=pd.DataFrame(a)\n",
        "print(b.loc[(b[\"age\"]==18) | (b[\"age\"]==19)])"
      ]
    },
    {
      "cell_type": "code",
      "execution_count": null,
      "id": "dcb15442",
      "metadata": {
        "id": "dcb15442",
        "outputId": "644f5f6c-d2f7-4615-f614-4f75012baeee"
      },
      "outputs": [
        {
          "name": "stdout",
          "output_type": "stream",
          "text": [
            "3 14 77\n"
          ]
        }
      ],
      "source": [
        "f=open(\"C:\\\\Users\\CSE22004\\Desktop\\\\module.txt\",\"r\")\n",
        "lines=0\n",
        "words=0\n",
        "letters=0\n",
        "for x in f.readlines():\n",
        "    lines=lines+1\n",
        "    words=words+len(x.split())\n",
        "    letters=letters+len(x.strip(\"\\n\"))\n",
        "print(lines,words,letters)"
      ]
    },
    {
      "cell_type": "code",
      "execution_count": null,
      "id": "e5adca78",
      "metadata": {
        "id": "e5adca78",
        "outputId": "312ba41c-4f56-4d79-ed69-6caf94f2133b"
      },
      "outputs": [
        {
          "name": "stdout",
          "output_type": "stream",
          "text": [
            "lines 3\n",
            "words 14\n",
            "letters 79\n"
          ]
        }
      ],
      "source": [
        "f=open(\"C:\\\\Users\\CSE22004\\Desktop\\\\module.txt\",\"r\")\n",
        "lines=0\n",
        "words=0\n",
        "letters=0\n",
        "for x in f.readlines():\n",
        "    lines=lines+1\n",
        "    words=words+len(x.split())\n",
        "    letters=letters+len(x.strip(\"r\"))\n",
        "print(\"lines\",lines)\n",
        "print(\"words\",words)\n",
        "print(\"letters\",letters)"
      ]
    },
    {
      "cell_type": "code",
      "execution_count": null,
      "id": "e397a6b0",
      "metadata": {
        "id": "e397a6b0",
        "outputId": "6b0018e2-5865-4005-b3c0-d8ecc8e086bc"
      },
      "outputs": [
        {
          "name": "stdout",
          "output_type": "stream",
          "text": [
            "24\n",
            "135\n"
          ]
        }
      ],
      "source": [
        "f=open(\"koushik.txt\",\"w\")\n",
        "f.write(\"12345\")\n",
        "f.close()\n",
        "p=open(\"demo1\",\"w\")\n",
        "y=open(\"demo2\",\"w\")\n",
        "f=open(\"koushik.txt\",\"r\")\n",
        "b=[]\n",
        "for x in f.read():\n",
        "    b.append(int(x))\n",
        "for x in b:\n",
        "    if x%2==0:\n",
        "        p.write(str(x))\n",
        "    else:\n",
        "        y.write(str(x))\n",
        "p.close()\n",
        "y.close()\n",
        "p=open(\"demo1\",\"r\")\n",
        "y=open(\"demo2\",\"r\")\n",
        "print(p.read())\n",
        "print(y.read())"
      ]
    },
    {
      "cell_type": "markdown",
      "id": "00a66824",
      "metadata": {
        "id": "00a66824"
      },
      "source": [
        "## kaggle website\n",
        "## google scholar; ilovepdf;filehippo;softsonic;smallpdf;ui path studio\n",
        "## %temp%;temp;mrt"
      ]
    },
    {
      "cell_type": "markdown",
      "id": "d04bb90c",
      "metadata": {
        "id": "d04bb90c"
      },
      "source": [
        "## pandas\n"
      ]
    },
    {
      "cell_type": "code",
      "execution_count": null,
      "id": "a373fa88",
      "metadata": {
        "id": "a373fa88",
        "outputId": "b7c7dc7c-0414-4262-8034-f3e51e67ddbf"
      },
      "outputs": [
        {
          "name": "stdout",
          "output_type": "stream",
          "text": [
            "  team  positions\n",
            "0  BWT          1\n",
            "1  AMG          2\n",
            "2   RB          3\n"
          ]
        }
      ],
      "source": [
        "import pandas as pd\n",
        "a={\n",
        "    'team':['BWT','AMG','RB'],\n",
        "    'positions':[1,2,3]\n",
        "}\n",
        "b= pd.DataFrame(a)\n",
        "print(b)"
      ]
    },
    {
      "cell_type": "code",
      "execution_count": null,
      "id": "04936671",
      "metadata": {
        "id": "04936671",
        "outputId": "7b274ded-9361-444f-c597-90ee3fdbea6c"
      },
      "outputs": [
        {
          "name": "stdout",
          "output_type": "stream",
          "text": [
            "1.3.4\n"
          ]
        }
      ],
      "source": [
        "import pandas as pd\n",
        "print(pd.__version__)"
      ]
    },
    {
      "cell_type": "code",
      "execution_count": null,
      "id": "6f20621c",
      "metadata": {
        "id": "6f20621c",
        "outputId": "9b8da073-665b-41b6-8fb9-33d86a083b40"
      },
      "outputs": [
        {
          "data": {
            "text/plain": [
              "'1.3.4'"
            ]
          },
          "execution_count": 1,
          "metadata": {},
          "output_type": "execute_result"
        }
      ],
      "source": [
        "import pandas \n",
        "pandas.__version__"
      ]
    },
    {
      "cell_type": "code",
      "execution_count": null,
      "id": "55a2b06a",
      "metadata": {
        "id": "55a2b06a",
        "outputId": "3b83fa28-786a-4b3a-ee68-90681175fde6"
      },
      "outputs": [
        {
          "name": "stdout",
          "output_type": "stream",
          "text": [
            "0    1\n",
            "1    2\n",
            "2    3\n",
            "3    4\n",
            "4    5\n",
            "dtype: int64\n"
          ]
        }
      ],
      "source": [
        "import pandas as pd\n",
        "a=[1,2,3,4,5]\n",
        "b=pd.Series(a)\n",
        "print(b)"
      ]
    },
    {
      "cell_type": "code",
      "execution_count": null,
      "id": "22b41730",
      "metadata": {
        "id": "22b41730",
        "outputId": "eccd6c71-6559-4826-93ee-f0e325805c74"
      },
      "outputs": [
        {
          "name": "stdout",
          "output_type": "stream",
          "text": [
            "2\n"
          ]
        }
      ],
      "source": [
        "import pandas as pd\n",
        "a=[1,2,3,4,5]\n",
        "b=pd.Series(a)\n",
        "print(b[1])"
      ]
    },
    {
      "cell_type": "code",
      "execution_count": null,
      "id": "8102fda0",
      "metadata": {
        "id": "8102fda0",
        "outputId": "fdee312f-c00d-4a04-e86f-82d3a63f3a97"
      },
      "outputs": [
        {
          "name": "stdout",
          "output_type": "stream",
          "text": [
            "a    1\n",
            "b    2\n",
            "c    3\n",
            "d    4\n",
            "e    5\n",
            "dtype: int64\n"
          ]
        }
      ],
      "source": [
        "import pandas as pd\n",
        "a=[1,2,3,4,5]\n",
        "b=pd.Series(a,index=[\"a\",\"b\",\"c\",\"d\",\"e\"])\n",
        "print(b)"
      ]
    },
    {
      "cell_type": "code",
      "execution_count": null,
      "id": "8fade784",
      "metadata": {
        "id": "8fade784",
        "outputId": "537e01ab-5989-4401-ab8a-d8850e3bb876"
      },
      "outputs": [
        {
          "name": "stdout",
          "output_type": "stream",
          "text": [
            "      name  age\n",
            "x  koushik   18\n",
            "y    kiran   19\n",
            "z      xyz   20\n"
          ]
        }
      ],
      "source": [
        "import pandas as pd\n",
        "a={\n",
        "\"name\":[\"koushik\",\"kiran\",\"xyz\"],\n",
        "\"age\":[18,19,20]\n",
        "}\n",
        "b=pd.DataFrame(a,index=[\"x\",\"y\",\"z\"])\n",
        "print(b)"
      ]
    },
    {
      "cell_type": "code",
      "execution_count": null,
      "id": "766e3156",
      "metadata": {
        "id": "766e3156",
        "outputId": "8fb25451-4907-4c97-83a0-3db6d2044f52"
      },
      "outputs": [
        {
          "name": "stdout",
          "output_type": "stream",
          "text": [
            "      name  age\n",
            "0  koushik   18\n",
            "1    kiran   19\n",
            "2      xyz   20\n",
            "name    koushik\n",
            "age          18\n",
            "Name: 0, dtype: object\n"
          ]
        }
      ],
      "source": [
        "import pandas as pd\n",
        "a={\n",
        "\"name\":[\"koushik\",\"kiran\",\"xyz\"],\n",
        "\"age\":[18,19,20]\n",
        "}\n",
        "b=pd.DataFrame(a)\n",
        "print(b)\n",
        "print(b.loc[0])"
      ]
    },
    {
      "cell_type": "code",
      "execution_count": null,
      "id": "180dc0eb",
      "metadata": {
        "id": "180dc0eb",
        "outputId": "df57a5c5-aa2b-47c9-b363-f5a4a3256418"
      },
      "outputs": [
        {
          "name": "stdout",
          "output_type": "stream",
          "text": [
            "      name  age\n",
            "0  koushik   18\n",
            "1    kiran   19\n"
          ]
        }
      ],
      "source": [
        "import pandas as pd\n",
        "a={\n",
        "\"name\":[\"koushik\",\"kiran\",\"xyz\"],\n",
        "\"age\":[18,19,20]\n",
        "}\n",
        "b=pd.DataFrame(a)\n",
        "print(b.loc[[0,1]])### double brackets"
      ]
    },
    {
      "cell_type": "code",
      "execution_count": null,
      "id": "c4a10844",
      "metadata": {
        "id": "c4a10844",
        "outputId": "7946790b-9a30-45e2-9c65-dbda75af1ec1"
      },
      "outputs": [
        {
          "ename": "TypeError",
          "evalue": "write() argument must be str, not DataFrame",
          "output_type": "error",
          "traceback": [
            "\u001b[1;31m---------------------------------------------------------------------------\u001b[0m",
            "\u001b[1;31mTypeError\u001b[0m                                 Traceback (most recent call last)",
            "\u001b[1;32m~\\AppData\\Local\\Temp/ipykernel_7524/3200810581.py\u001b[0m in \u001b[0;36m<module>\u001b[1;34m\u001b[0m\n\u001b[0;32m      6\u001b[0m \u001b[0mb\u001b[0m\u001b[1;33m=\u001b[0m\u001b[0mpd\u001b[0m\u001b[1;33m.\u001b[0m\u001b[0mDataFrame\u001b[0m\u001b[1;33m(\u001b[0m\u001b[0ma\u001b[0m\u001b[1;33m)\u001b[0m\u001b[1;33m\u001b[0m\u001b[1;33m\u001b[0m\u001b[0m\n\u001b[0;32m      7\u001b[0m \u001b[0mf\u001b[0m\u001b[1;33m=\u001b[0m\u001b[0mopen\u001b[0m\u001b[1;33m(\u001b[0m\u001b[1;34m\"koushik.csv\"\u001b[0m\u001b[1;33m,\u001b[0m\u001b[1;34m\"w\"\u001b[0m\u001b[1;33m)\u001b[0m\u001b[1;33m\u001b[0m\u001b[1;33m\u001b[0m\u001b[0m\n\u001b[1;32m----> 8\u001b[1;33m \u001b[0mf\u001b[0m\u001b[1;33m.\u001b[0m\u001b[0mwrite\u001b[0m\u001b[1;33m(\u001b[0m\u001b[0mb\u001b[0m\u001b[1;33m)\u001b[0m\u001b[1;33m\u001b[0m\u001b[1;33m\u001b[0m\u001b[0m\n\u001b[0m\u001b[0;32m      9\u001b[0m \u001b[0mf\u001b[0m\u001b[1;33m.\u001b[0m\u001b[0mclose\u001b[0m\u001b[1;33m(\u001b[0m\u001b[1;33m)\u001b[0m\u001b[1;33m\u001b[0m\u001b[1;33m\u001b[0m\u001b[0m\n\u001b[0;32m     10\u001b[0m \u001b[0mf\u001b[0m\u001b[1;33m=\u001b[0m\u001b[0mopen\u001b[0m\u001b[1;33m(\u001b[0m\u001b[1;34m\"koushik.csv\"\u001b[0m\u001b[1;33m,\u001b[0m\u001b[1;34m\"r\"\u001b[0m\u001b[1;33m)\u001b[0m\u001b[1;33m\u001b[0m\u001b[1;33m\u001b[0m\u001b[0m\n",
            "\u001b[1;31mTypeError\u001b[0m: write() argument must be str, not DataFrame"
          ]
        }
      ],
      "source": [
        "import pandas as pd\n",
        "a={\n",
        "\"name\":[\"koushik\",\"kiran\",\"xyz\"],\n",
        "\"age\":[18,19,20]\n",
        "}\n",
        "b=pd.DataFrame(a)\n",
        "f=open(\"koushik.csv\",\"w\")\n",
        "f.write(b)\n",
        "f.close()\n",
        "f=open(\"koushik.csv\",\"r\")\n",
        "print(f.read())\n",
        "#error"
      ]
    },
    {
      "cell_type": "code",
      "execution_count": null,
      "id": "0b50ef5d",
      "metadata": {
        "id": "0b50ef5d",
        "outputId": "fbcf57e0-57ac-4ba0-b735-12c0341fdf35"
      },
      "outputs": [
        {
          "name": "stdout",
          "output_type": "stream",
          "text": [
            "   s no.   name  age\n",
            "0      1  kiran   18\n"
          ]
        }
      ],
      "source": [
        "import pandas as pd\n",
        "b=pd.read_csv(\"C:\\\\Users\\CSE22004\\Desktop\\\\demo.csv\")\n",
        "print(b)#to string prints entire data frame\n",
        "#print(b)#this may not print entire data frame if it is too large"
      ]
    },
    {
      "cell_type": "code",
      "execution_count": null,
      "id": "0c098cb3",
      "metadata": {
        "id": "0c098cb3",
        "outputId": "2b312a9e-08b2-4c61-d96a-cddfe6fecbaf"
      },
      "outputs": [
        {
          "name": "stdout",
          "output_type": "stream",
          "text": [
            "60\n",
            "1000\n"
          ]
        }
      ],
      "source": [
        "import pandas as pd\n",
        "print(pd.options.display.max_rows)\n",
        "pd.options.display.max_rows=1000\n",
        "print(pd.options.display.max_rows)"
      ]
    },
    {
      "cell_type": "code",
      "execution_count": null,
      "id": "6c4f0d49",
      "metadata": {
        "id": "6c4f0d49",
        "outputId": "d559eaaf-a8ba-41ee-9b95-e24248f8145e"
      },
      "outputs": [
        {
          "name": "stdout",
          "output_type": "stream",
          "text": [
            "      name  age\n",
            "1  koushik   18\n",
            "2        x   19\n",
            "3        y   20\n",
            "4        z   21\n",
            "      name  age\n",
            "1  koushik   18\n",
            "2        x   19\n",
            "3        y   20\n",
            "4        z   21\n",
            "1000\n"
          ]
        }
      ],
      "source": [
        "import pandas as pd\n",
        "a={\n",
        "    \"name\":[\"koushik\",\"x\",\"y\",\"z\"],\n",
        "    \"age\":[18,19,20,21]\n",
        "}\n",
        "b=pd.DataFrame(a,index=[1,2,3,4])\n",
        "print(b.head(5))#heads display the starting rows of a file\n",
        "print(b.tail(5))\n",
        "print(pd.options.display.max_rows)"
      ]
    },
    {
      "cell_type": "code",
      "execution_count": null,
      "id": "a1441d4c",
      "metadata": {
        "id": "a1441d4c",
        "outputId": "28a936bb-ba6a-4a19-c684-f7c6ce10bd02"
      },
      "outputs": [
        {
          "name": "stdout",
          "output_type": "stream",
          "text": [
            "name     z\n",
            "age     21\n",
            "Name: 4, dtype: object\n",
            "3\n"
          ]
        }
      ],
      "source": [
        "import pandas as pd \n",
        "a={\n",
        "    \"name\":[\"koushik\",\"x\",\"y\",\"z\"],\n",
        "    \"age\":[18,19,20,21]\n",
        "}\n",
        "b=pd.DataFrame(a,index=[1,2,3,4])\n",
        "print(b.loc[4])\n",
        "b=[2,3,4,5]\n",
        "c=pd.Series(b,index=[\"x\",\"y\",\"z\",\"a\"])\n",
        "print(c[\"y\"])"
      ]
    },
    {
      "cell_type": "code",
      "execution_count": null,
      "id": "8d59bbcf",
      "metadata": {
        "id": "8d59bbcf",
        "outputId": "f997b683-c7d4-4e72-a5bc-57b8034bb084"
      },
      "outputs": [
        {
          "name": "stdout",
          "output_type": "stream",
          "text": [
            "<class 'pandas.core.frame.DataFrame'>\n",
            "RangeIndex: 4 entries, 0 to 3\n",
            "Data columns (total 2 columns):\n",
            " #   Column  Non-Null Count  Dtype \n",
            "---  ------  --------------  ----- \n",
            " 0   name    4 non-null      object\n",
            " 1   age     4 non-null      int64 \n",
            "dtypes: int64(1), object(1)\n",
            "memory usage: 192.0+ bytes\n",
            "None\n"
          ]
        }
      ],
      "source": [
        "import pandas as pd \n",
        "a={\n",
        "    \"name\":[\"koushik\",\"x\",\"y\",\"z\"],\n",
        "    \"age\":[18,19,20,21]\n",
        "}\n",
        "b=pd.DataFrame(a)\n",
        "print(b.info())"
      ]
    },
    {
      "cell_type": "code",
      "execution_count": null,
      "id": "5542ef53",
      "metadata": {
        "id": "5542ef53",
        "outputId": "23a2865b-ae2d-4bf4-f534-de9fc9b533db"
      },
      "outputs": [
        {
          "name": "stdout",
          "output_type": "stream",
          "text": [
            "   name\n",
            "2  mani\n",
            "3     x\n",
            "4     y\n",
            "   name\n",
            "2  mani\n",
            "3     x\n",
            "4     y\n"
          ]
        }
      ],
      "source": [
        "import pandas as pd\n",
        "a=pd.read_csv(\"C:\\\\Users\\CSE22004\\Desktop\\\\demo.csv\")\n",
        "print(a.loc[2:5,[\"name\"]])#by using location \n",
        "print(a[2:5] [[\"name\"]])#normal call"
      ]
    },
    {
      "cell_type": "code",
      "execution_count": null,
      "id": "4b4209f4",
      "metadata": {
        "id": "4b4209f4",
        "outputId": "e3878a8a-e23f-4b4e-c3e8-a35bf6108094"
      },
      "outputs": [
        {
          "name": "stdout",
          "output_type": "stream",
          "text": [
            "   s no.   name  age\n",
            "0      1  kiran   19\n"
          ]
        }
      ],
      "source": [
        "import pandas as pd\n",
        "a=pd.read_csv(\"C:\\\\Users\\CSE22004\\Desktop\\\\demo.csv\")\n",
        "print(a.loc[a[\"age\"]==19])\n"
      ]
    },
    {
      "cell_type": "code",
      "execution_count": null,
      "id": "0a70b590",
      "metadata": {
        "id": "0a70b590",
        "outputId": "017a23c0-d344-445f-d56f-f488c461f58d"
      },
      "outputs": [
        {
          "name": "stdout",
          "output_type": "stream",
          "text": [
            "[   s no.     name  age\n",
            "0      1    kiran   19\n",
            "1      2  koushik   18]\n"
          ]
        }
      ],
      "source": [
        "import pandas as pd\n",
        "a=pd.read_csv(\"C:\\\\Users\\CSE22004\\Desktop\\\\demo.csv\")\n",
        "print([a.loc[(a[\"age\"]==18) | (a[\"age\"]==19)]])"
      ]
    },
    {
      "cell_type": "code",
      "execution_count": null,
      "id": "7bd03834",
      "metadata": {
        "id": "7bd03834",
        "outputId": "a3db7338-54e1-4811-d761-0ef8db9e283d"
      },
      "outputs": [
        {
          "name": "stdout",
          "output_type": "stream",
          "text": [
            "   s no.   name  age grade\n",
            "0      1  kiran   19     a\n",
            "2      3   mani   17     c\n"
          ]
        }
      ],
      "source": [
        "import pandas as pd\n",
        "a=pd.read_csv(\"C:\\\\Users\\CSE22004\\Desktop\\\\demo.csv\")\n",
        "print(a.loc[a[\"grade\"].isin([\"a\",\"c\"])])#is used to recognize char "
      ]
    },
    {
      "cell_type": "code",
      "execution_count": null,
      "id": "176a3497",
      "metadata": {
        "id": "176a3497",
        "outputId": "05f7d9a9-df6e-4b09-99e9-f8de62f4dd0b"
      },
      "outputs": [
        {
          "name": "stdout",
          "output_type": "stream",
          "text": [
            "   s no.     name  age grade\n",
            "0    1.0    kiran   19     a\n",
            "1    2.0  koushik   18     b\n",
            "2    3.0     mani   17     c\n",
            "4    5.0        y   15     f\n"
          ]
        }
      ],
      "source": [
        "import pandas as pd\n",
        "a=pd.read_csv(\"C:\\\\Users\\CSE22004\\Desktop\\\\demo.csv\")\n",
        "b=a.dropna()#is used to remove null values\n",
        "print(b.to_string())"
      ]
    },
    {
      "cell_type": "code",
      "execution_count": null,
      "id": "01d5c88a",
      "metadata": {
        "id": "01d5c88a",
        "outputId": "ce4f549f-10e9-4634-cf15-f65806c0e242"
      },
      "outputs": [
        {
          "name": "stdout",
          "output_type": "stream",
          "text": [
            "   s no.     name  age grade\n",
            "0    1.0    kiran   19     a\n",
            "1    2.0  koushik   18     b\n",
            "2    3.0     mani   17     c\n",
            "3    9.0        x   16     d\n",
            "4    5.0        y   15     f\n"
          ]
        }
      ],
      "source": [
        "import pandas as pd\n",
        "a=pd.read_csv(\"C:\\\\Users\\CSE22004\\Desktop\\\\demo.csv\")\n",
        "a.fillna(9,inplace=True)\n",
        "print(a)"
      ]
    },
    {
      "cell_type": "code",
      "execution_count": null,
      "id": "62a84a16",
      "metadata": {
        "id": "62a84a16",
        "outputId": "de5086e3-6b0d-453c-a8bb-ae2e04403a86"
      },
      "outputs": [
        {
          "name": "stdout",
          "output_type": "stream",
          "text": [
            "   s no.     name  age grade\n",
            "0    1.0    kiran   19     a\n",
            "1    2.0  koushik   18     b\n",
            "2    3.0     mani   17     c\n",
            "3    NaN        x   16     d\n",
            "4    5.0        y   15     f\n"
          ]
        }
      ],
      "source": [
        "import pandas as pd\n",
        "b=pd.read_csv(\"C:\\\\Users\\CSE22004\\Desktop\\\\demo.csv\")\n",
        "print(b.to_string())#to string prints entire data frame\n",
        "#print(b)#this may not print entire data frame if it is too large"
      ]
    },
    {
      "cell_type": "code",
      "execution_count": null,
      "id": "30b86bd0",
      "metadata": {
        "id": "30b86bd0",
        "outputId": "2f628a5c-1c15-41f3-b3a4-8917d50732ae"
      },
      "outputs": [
        {
          "name": "stdout",
          "output_type": "stream",
          "text": [
            "30\n"
          ]
        }
      ],
      "source": [
        "z=lambda a,b,c:a*b*c\n",
        "print(z(2,3,5))\n"
      ]
    },
    {
      "cell_type": "code",
      "execution_count": null,
      "id": "46187828",
      "metadata": {
        "id": "46187828",
        "outputId": "37499a1b-e2db-4562-8a93-a03dcd06006e"
      },
      "outputs": [
        {
          "name": "stdout",
          "output_type": "stream",
          "text": [
            "       name  age gender        dob address having passport  having license\n",
            "0     kiran   19      m  03-Jun-03    vskp              yes            yes\n",
            "1   koushik   18      m  10-Jun-03    vskp               no            yes\n",
            "2      mani   17      m  11-Jun-03     hyd              yes             no\n",
            "3         x   16      f  12-Jun-03     rjy               no             no\n",
            "4         y   15      f  13-Jun-03     kkd               no             no\n",
            "5         z   14      f  14-Jun-03     blr               no             no\n",
            "6       heh   13      m  15-Jun-03     vzm               no             no\n",
            "7       yep   18      f  16-Jun-03     skl              yes            yes\n",
            "8       uhh   16      f  17-Jun-03   delhi              yes             no\n",
            "9       yuh   19      f  18-Jun-03  indore              yes            yes\n",
            "10     okay   20      f  19-Jun-03    vskp              yes            yes\n",
            "11      bye   13      m  20-Jun-03     kkd               no             no\n",
            "12      err   14      m  21-Jun-03     vzm               no             no\n",
            "13       ah   16      f  22-Jun-03     blr              yes             no\n",
            "14      ugh   16      m  23-Jun-03     hyd              yes             no\n",
            "15        k   18      m  24-Jun-03     kkd              yes            yes\n",
            "16     sksk   19      f  25-Jun-03     hyd              yes            yes\n",
            "17    hello   17      m  26-Jun-03     hyd               no             no\n",
            "18      bye   18      f  27-Jun-03     blr              yes            yes\n",
            "19       hi   15      m  28-Jun-03   delhi               no             no\n"
          ]
        }
      ],
      "source": [
        "import pandas as pd \n",
        "a=pd.read_csv(\"C:\\\\Users\\CSE22004\\Documents\\python VU21CSEN0101012\\\\passport.csv\")\n",
        "b=pd.DataFrame(a)\n",
        "print(b)"
      ]
    },
    {
      "cell_type": "code",
      "execution_count": null,
      "id": "25fd6022",
      "metadata": {
        "id": "25fd6022",
        "outputId": "fe8ab5f3-a552-4070-a20c-6e62a3d25067"
      },
      "outputs": [
        {
          "name": "stdout",
          "output_type": "stream",
          "text": [
            "       name  age gender        dob address having passport  having license\n",
            "0     kiran   19      m  03-Jun-03    vskp              yes            yes\n",
            "1   koushik   18      m  10-Jun-03    vskp               no            yes\n",
            "2      mani   17      m  11-Jun-03     hyd              yes             no\n",
            "3         x   16      f  12-Jun-03     rjy               no             no\n",
            "4         y   15      f  13-Jun-03     kkd               no             no\n",
            "5         z   14      f  14-Jun-03     blr               no             no\n",
            "6       heh   13      m  15-Jun-03     vzm               no             no\n",
            "7       yep   18      f  16-Jun-03     skl              yes            yes\n",
            "8       uhh   16      f  17-Jun-03   delhi              yes             no\n",
            "9       yuh   19      f  18-Jun-03  indore              yes            yes\n",
            "10     okay   20      f  19-Jun-03    vskp              yes            yes\n",
            "11      bye   13      m  20-Jun-03     kkd               no             no\n",
            "12      err   14      m  21-Jun-03     vzm               no             no\n",
            "13       ah   16      f  22-Jun-03     blr              yes             no\n",
            "14      ugh   16      m  23-Jun-03     hyd              yes             no\n",
            "15        k   18      m  24-Jun-03     kkd              yes            yes\n",
            "16     sksk   19      f  25-Jun-03     hyd              yes            yes\n",
            "17    hello   17      m  26-Jun-03     hyd               no             no\n",
            "18       hi   15      m  28-Jun-03   delhi               no             no\n"
          ]
        }
      ],
      "source": [
        "import pandas as pd \n",
        "a=pd.read_csv(\"C:\\\\Users\\CSE22004\\Documents\\python VU21CSEN0101012\\\\passport.csv\")\n",
        "b=a.drop_duplicates(subset='name',ignore_index=True) ##,keep='last/first'/False ,ignore_index=True\n",
        "print(b)"
      ]
    },
    {
      "cell_type": "code",
      "execution_count": null,
      "id": "b700c576",
      "metadata": {
        "id": "b700c576",
        "outputId": "c6d83e73-84af-4bed-a9b3-c5bc3a64956b"
      },
      "outputs": [
        {
          "name": "stdout",
          "output_type": "stream",
          "text": [
            "       name  age gender        dob address having passport  having license\n",
            "0     kiran   19      m  03-Jun-03    vskp              yes            yes\n",
            "1   koushik   18      m  10-Jun-03    vskp               no            yes\n",
            "2      mani   17      m  11-Jun-03     hyd              yes             no\n",
            "3         x   16      f  12-Jun-03     rjy               no             no\n",
            "4         y   15      f  13-Jun-03     kkd               no             no\n",
            "5         z   14      f  14-Jun-03     blr               no             no\n",
            "6       heh   13      m  15-Jun-03     vzm               no             no\n",
            "7       yep   18      f  16-Jun-03     skl              yes            yes\n",
            "8       uhh   16      f  17-Jun-03   delhi              yes             no\n",
            "9       yuh   19      f  18-Jun-03  indore              yes            yes\n",
            "10     okay   20      f  19-Jun-03    vskp              yes            yes\n",
            "11      bye   13      m  20-Jun-03     kkd               no             no\n",
            "12      err   14      m  21-Jun-03     vzm               no             no\n",
            "13       ah   16      f  22-Jun-03     blr              yes             no\n",
            "14      ugh   16      m  23-Jun-03     hyd              yes             no\n",
            "15        k   18      m  24-Jun-03     kkd              yes            yes\n",
            "16     sksk   19      f  25-Jun-03     hyd              yes            yes\n",
            "17    hello   17      m  26-Jun-03     hyd               no             no\n",
            "18      bye   18      f  27-Jun-03     blr              yes            yes\n",
            "19       hi   15      m  28-Jun-03   delhi               no             no\n"
          ]
        }
      ],
      "source": [
        "import pandas as pd \n",
        "a=pd.read_csv(\"C:\\\\Users\\CSE22004\\Documents\\python VU21CSEN0101012\\\\passport.csv\")\n",
        "b=a.drop_duplicates(inplace=False) ##,keep='last/first'/False ,ignore_index=True\n",
        "print(b)"
      ]
    },
    {
      "cell_type": "code",
      "execution_count": null,
      "id": "6a672649",
      "metadata": {
        "id": "6a672649",
        "outputId": "df432b5b-cd32-4db0-d432-c7514f1f3248"
      },
      "outputs": [
        {
          "name": "stdout",
          "output_type": "stream",
          "text": [
            "     age\n",
            "min   13\n",
            "max   20\n"
          ]
        }
      ],
      "source": [
        "import pandas as pd \n",
        "a=pd.read_csv(\"C:\\\\Users\\CSE22004\\Documents\\python VU21CSEN0101012\\\\passport.csv\")\n",
        "b=pd.DataFrame(a)\n",
        "c=a.aggregate({\"age\":[\"min\",\"max\"]})\n",
        "print(c)"
      ]
    },
    {
      "cell_type": "code",
      "execution_count": null,
      "id": "ef7bfa29",
      "metadata": {
        "id": "ef7bfa29",
        "outputId": "95c2e9e3-e95a-431a-af21-676712c7a357"
      },
      "outputs": [
        {
          "name": "stdout",
          "output_type": "stream",
          "text": [
            "     age\n",
            "min   13\n",
            "max   20\n",
            "        age\n",
            "mean  16.55\n",
            "               mobile\n",
            "average  9.660551e+09\n"
          ]
        }
      ],
      "source": [
        "import pandas as pd \n",
        "a=pd.read_csv(\"C:\\\\Users\\CSE22004\\Documents\\python VU21CSEN0101012\\\\passport.csv\")\n",
        "b=pd.DataFrame(a)\n",
        "c=a.aggregate({\"age\":[\"min\",\"max\"]})\n",
        "print(c)\n",
        "print(a.aggregate({\"age\":[\"mean\"]}))\n",
        "print(a.aggregate({\"mobile\":[\"average\"]}))"
      ]
    },
    {
      "cell_type": "code",
      "execution_count": null,
      "id": "0d44643b",
      "metadata": {
        "id": "0d44643b",
        "outputId": "8d27b528-9891-4bd5-de11-1cf9ee31493d"
      },
      "outputs": [
        {
          "name": "stdout",
          "output_type": "stream",
          "text": [
            "         mobile\n",
            "min  5815266355\n",
            "max  9985312396\n"
          ]
        }
      ],
      "source": [
        "import pandas as pd \n",
        "a=pd.read_csv(\"C:\\\\Users\\CSE22004\\Documents\\python VU21CSEN0101012\\\\passport.csv\")\n",
        "b=pd.DataFrame(a)\n",
        "c=a.aggregate({\"mobile\":[\"min\",\"max\"]})\n",
        "print(c)"
      ]
    },
    {
      "cell_type": "code",
      "execution_count": null,
      "id": "60ac280d",
      "metadata": {
        "id": "60ac280d",
        "outputId": "3a865933-87c9-4e30-a45a-923733948931"
      },
      "outputs": [
        {
          "data": {
            "text/html": [
              "<div>\n",
              "<style scoped>\n",
              "    .dataframe tbody tr th:only-of-type {\n",
              "        vertical-align: middle;\n",
              "    }\n",
              "\n",
              "    .dataframe tbody tr th {\n",
              "        vertical-align: top;\n",
              "    }\n",
              "\n",
              "    .dataframe thead th {\n",
              "        text-align: right;\n",
              "    }\n",
              "</style>\n",
              "<table border=\"1\" class=\"dataframe\">\n",
              "  <thead>\n",
              "    <tr style=\"text-align: right;\">\n",
              "      <th></th>\n",
              "      <th>name</th>\n",
              "      <th>gender</th>\n",
              "      <th>dob</th>\n",
              "      <th>address</th>\n",
              "      <th>having passport</th>\n",
              "      <th>having license</th>\n",
              "      <th>mobile</th>\n",
              "    </tr>\n",
              "    <tr>\n",
              "      <th>age</th>\n",
              "      <th></th>\n",
              "      <th></th>\n",
              "      <th></th>\n",
              "      <th></th>\n",
              "      <th></th>\n",
              "      <th></th>\n",
              "      <th></th>\n",
              "    </tr>\n",
              "  </thead>\n",
              "  <tbody>\n",
              "    <tr>\n",
              "      <th>13</th>\n",
              "      <td>heh</td>\n",
              "      <td>m</td>\n",
              "      <td>15-Jun-03</td>\n",
              "      <td>vzm</td>\n",
              "      <td>no</td>\n",
              "      <td>no</td>\n",
              "      <td>9985312396</td>\n",
              "    </tr>\n",
              "    <tr>\n",
              "      <th>14</th>\n",
              "      <td>z</td>\n",
              "      <td>f</td>\n",
              "      <td>14-Jun-03</td>\n",
              "      <td>blr</td>\n",
              "      <td>no</td>\n",
              "      <td>no</td>\n",
              "      <td>9985312396</td>\n",
              "    </tr>\n",
              "    <tr>\n",
              "      <th>15</th>\n",
              "      <td>y</td>\n",
              "      <td>f</td>\n",
              "      <td>13-Jun-03</td>\n",
              "      <td>kkd</td>\n",
              "      <td>no</td>\n",
              "      <td>no</td>\n",
              "      <td>9969321258</td>\n",
              "    </tr>\n",
              "    <tr>\n",
              "      <th>16</th>\n",
              "      <td>x</td>\n",
              "      <td>f</td>\n",
              "      <td>12-Jun-03</td>\n",
              "      <td>rjy</td>\n",
              "      <td>no</td>\n",
              "      <td>no</td>\n",
              "      <td>8831164652</td>\n",
              "    </tr>\n",
              "    <tr>\n",
              "      <th>17</th>\n",
              "      <td>mani</td>\n",
              "      <td>m</td>\n",
              "      <td>11-Jun-03</td>\n",
              "      <td>hyd</td>\n",
              "      <td>yes</td>\n",
              "      <td>no</td>\n",
              "      <td>9985312396</td>\n",
              "    </tr>\n",
              "    <tr>\n",
              "      <th>18</th>\n",
              "      <td>koushik</td>\n",
              "      <td>m</td>\n",
              "      <td>10-Jun-03</td>\n",
              "      <td>vskp</td>\n",
              "      <td>no</td>\n",
              "      <td>yes</td>\n",
              "      <td>9985312396</td>\n",
              "    </tr>\n",
              "    <tr>\n",
              "      <th>19</th>\n",
              "      <td>kiran</td>\n",
              "      <td>m</td>\n",
              "      <td>03-Jun-03</td>\n",
              "      <td>vskp</td>\n",
              "      <td>yes</td>\n",
              "      <td>yes</td>\n",
              "      <td>9985312396</td>\n",
              "    </tr>\n",
              "    <tr>\n",
              "      <th>20</th>\n",
              "      <td>okay</td>\n",
              "      <td>f</td>\n",
              "      <td>19-Jun-03</td>\n",
              "      <td>vskp</td>\n",
              "      <td>yes</td>\n",
              "      <td>yes</td>\n",
              "      <td>5815266355</td>\n",
              "    </tr>\n",
              "  </tbody>\n",
              "</table>\n",
              "</div>"
            ],
            "text/plain": [
              "        name gender        dob address having passport  having license  \\\n",
              "age                                                                      \n",
              "13       heh      m  15-Jun-03     vzm               no             no   \n",
              "14         z      f  14-Jun-03     blr               no             no   \n",
              "15         y      f  13-Jun-03     kkd               no             no   \n",
              "16         x      f  12-Jun-03     rjy               no             no   \n",
              "17      mani      m  11-Jun-03     hyd              yes             no   \n",
              "18   koushik      m  10-Jun-03    vskp               no            yes   \n",
              "19     kiran      m  03-Jun-03    vskp              yes            yes   \n",
              "20      okay      f  19-Jun-03    vskp              yes            yes   \n",
              "\n",
              "         mobile  \n",
              "age              \n",
              "13   9985312396  \n",
              "14   9985312396  \n",
              "15   9969321258  \n",
              "16   8831164652  \n",
              "17   9985312396  \n",
              "18   9985312396  \n",
              "19   9985312396  \n",
              "20   5815266355  "
            ]
          },
          "execution_count": 28,
          "metadata": {},
          "output_type": "execute_result"
        }
      ],
      "source": [
        "import pandas as pd \n",
        "a=pd.read_csv(\"C:\\\\Users\\CSE22004\\Documents\\python VU21CSEN0101012\\\\passport.csv\")\n",
        "b=a.groupby(\"age\")\n",
        "b.first()"
      ]
    },
    {
      "cell_type": "code",
      "execution_count": null,
      "id": "a1d43557",
      "metadata": {
        "id": "a1d43557",
        "outputId": "23f62c35-a686-40f5-db63-1ff7b73c57be"
      },
      "outputs": [
        {
          "name": "stdout",
          "output_type": "stream",
          "text": [
            "1.0\n"
          ]
        }
      ],
      "source": [
        " a=\"25/25\" \n",
        "if \"+\" in a:\n",
        "    b=a.replace(\"+\",\" \") \n",
        "elif \"-\" in a: \n",
        "    b=a.replace(\"-\",\" \") \n",
        "elif \"*\" in a: \n",
        "    b=a.replace(\"*\",\" \") \n",
        "elif \"/\" in a:\n",
        "    b=a.replace(\"/\",\" \") \n",
        "c=[] \n",
        "fact=1 \n",
        "sub=0 \n",
        "div=0 \n",
        "for x in b.split(): \n",
        "    c.append(int(x)) \n",
        "if \"+\" in a: \n",
        "    print(sum(c)) \n",
        "elif \"-\" in a:\n",
        "    for x in range(len(c)-1): \n",
        "        sub=sub+(c[x]-c[x+1]) \n",
        "    print(sub) \n",
        "elif \"*\" in a: \n",
        "    for x in c: \n",
        "        fact=fact+x \n",
        "    print(fact) \n",
        "elif \"/\" in a: \n",
        "    for x in range(len(c)-1): \n",
        "        div=div+(c[x]/c[x+1]) \n",
        "    print(div)"
      ]
    },
    {
      "cell_type": "code",
      "execution_count": null,
      "id": "c4132d92",
      "metadata": {
        "id": "c4132d92",
        "outputId": "b45910e9-1a84-4094-bbb6-6ee543cd88e8"
      },
      "outputs": [
        {
          "name": "stdout",
          "output_type": "stream",
          "text": [
            "['Karnataka->Bangalore', 'Telangana->Hyderabad']\n"
          ]
        }
      ],
      "source": [
        "d1 = {\"Karnataka\": \"Bangalore\", \"Telangana\" : \"Hyderabad\" } \n",
        "b=[] \n",
        "c=\"\" \n",
        "for x in d1: \n",
        "    c=c+str(x)+\"->\"+str(d1[x])+\" \" \n",
        "for x in c.split(): \n",
        "    b.append(x) \n",
        "print(b)"
      ]
    },
    {
      "cell_type": "code",
      "execution_count": null,
      "id": "ed0121cd",
      "metadata": {
        "id": "ed0121cd",
        "outputId": "5fb61097-8934-4fee-96cb-c18374b1ed89"
      },
      "outputs": [
        {
          "name": "stdout",
          "output_type": "stream",
          "text": [
            "{'B1': {'110065001': 'Ram', '110065002': 'Lakshman'}, 'B2': {'120065001': 'Bharat', '120065002': 'Satrugna'}, 'B3': {'130065001': 'Dhasaradh', '130065002': 'Babu'}}\n"
          ]
        }
      ],
      "source": [
        "classroom={\n",
        "\"B1\":{\"110065001\": \"Ram\", \"110065002\" : \"Lakshman\"},\n",
        "\"B2\":{\"120065001\": \"Bharat\", \"120065002\" : \"Satrugna\"},\n",
        "\"B3\":{\"130065001\": \"Dhasaradh\", \"130065002\" : \"Babu\"}\n",
        "}\n",
        "print(classroom)"
      ]
    },
    {
      "cell_type": "markdown",
      "source": [
        "##matplotlib"
      ],
      "metadata": {
        "id": "bEls2-qNyHTD"
      },
      "id": "bEls2-qNyHTD"
    },
    {
      "cell_type": "code",
      "execution_count": 1,
      "id": "4c49df2f",
      "metadata": {
        "colab": {
          "base_uri": "https://localhost:8080/",
          "height": 265
        },
        "id": "4c49df2f",
        "outputId": "efaa5306-8a15-4472-ac0f-50e69f373f43"
      },
      "outputs": [
        {
          "output_type": "display_data",
          "data": {
            "text/plain": [
              "<Figure size 432x288 with 1 Axes>"
            ],
            "image/png": "[encoded data removed]"
          },
          "metadata": {
            "needs_background": "light"
          }
        }
      ],
      "source": [
        "import matplotlib.pyplot as mp\n",
        "import numpy as np\n",
        "x = np.array([0,10])\n",
        "y=np.array([20,0])\n",
        "mp.plot(x,y)\n",
        "mp.show()"
      ]
    },
    {
      "cell_type": "code",
      "source": [
        "import matplotlib.pyplot as mp\n",
        "import numpy as np\n",
        "x=np.array([\"che\",\"emors\",\"it pro\",\"cse\",\"several variable\",\"single variable\",\"workshop\",\"venture develop\"])\n",
        "y=np.array([88,78,95,65,78,69,95,78])\n",
        "mp.plot(x,y)\n",
        "#mp.plot(x,y,\"o\")\n",
        "mp.show()"
      ],
      "metadata": {
        "colab": {
          "base_uri": "https://localhost:8080/",
          "height": 265
        },
        "id": "tfX6Cc-TySNc",
        "outputId": "72bbe73c-e572-44d3-f680-64fdc8ca7022"
      },
      "id": "tfX6Cc-TySNc",
      "execution_count": 2,
      "outputs": [
        {
          "output_type": "display_data",
          "data": {
            "text/plain": [
              "<Figure size 432x288 with 1 Axes>"
            ],
            "image/png": "[encoded data removed]"
          },
          "metadata": {
            "needs_background": "light"
          }
        }
      ]
    },
    {
      "cell_type": "code",
      "source": [
        "import matplotlib.pyplot as mp\n",
        "import numpy as np\n",
        "x=np.array([\"che\",\"emors\",\"it pro\",\"cse\",\"several variable\",\"single variable\",\"workshop\",\"venture develop\"])\n",
        "y=np.array([88,78,95,65,78,69,95,78])\n",
        "mp.bar(x,y)\n",
        "mp.show()"
      ],
      "metadata": {
        "colab": {
          "base_uri": "https://localhost:8080/",
          "height": 265
        },
        "id": "y3USFqtDyU0r",
        "outputId": "c76c0277-c394-4349-f4f8-35a7b5b7ddcf"
      },
      "id": "y3USFqtDyU0r",
      "execution_count": 3,
      "outputs": [
        {
          "output_type": "display_data",
          "data": {
            "text/plain": [
              "<Figure size 432x288 with 1 Axes>"
            ],
            "image/png": "[encoded data removed]"
          },
          "metadata": {
            "needs_background": "light"
          }
        }
      ]
    },
    {
      "cell_type": "code",
      "source": [
        "import matplotlib.pyplot as mp\n",
        "import numpy as np\n",
        "x=np.array([\"che\",\"emors\",\"it pro\",\"cse\",\"several variable\",\"single variable\",\"workshop\",\"venture develop\"])\n",
        "y=np.array([88,78,95,65,78,69,95,78])\n",
        "mp.plot(x,y,marker=\"+\")\n",
        "#mp.plot(x,y,\"o\")\n",
        "mp.show()"
      ],
      "metadata": {
        "colab": {
          "base_uri": "https://localhost:8080/",
          "height": 265
        },
        "id": "gYln9DqTyWv9",
        "outputId": "5bc595b9-6ce6-4881-cb20-6fa92865a40b"
      },
      "id": "gYln9DqTyWv9",
      "execution_count": 4,
      "outputs": [
        {
          "output_type": "display_data",
          "data": {
            "text/plain": [
              "<Figure size 432x288 with 1 Axes>"
            ],
            "image/png": "[encoded data removed]"
          },
          "metadata": {
            "needs_background": "light"
          }
        }
      ]
    },
    {
      "cell_type": "code",
      "source": [
        "import matplotlib.pyplot as mp\n",
        "import numpy as np\n",
        "x=np.array([\"che\",\"emors\",\"it pro\",\"cse\",\"several variable\",\"single variable\",\"workshop\",\"venture develop\"])\n",
        "y=np.array([88,78,95,65,78,69,95,78])\n",
        "mp.plot(x,y,marker=\"*\",ls=\"dashed\")\n",
        "#mp.plot(x,y,\"o\")\n",
        "mp.show()"
      ],
      "metadata": {
        "colab": {
          "base_uri": "https://localhost:8080/",
          "height": 265
        },
        "id": "Ggc74Mu4yYr9",
        "outputId": "3ff7d7b0-99d9-4b2c-998f-9dde0978393c"
      },
      "id": "Ggc74Mu4yYr9",
      "execution_count": 5,
      "outputs": [
        {
          "output_type": "display_data",
          "data": {
            "text/plain": [
              "<Figure size 432x288 with 1 Axes>"
            ],
            "image/png": "[encoded data removed]"
          },
          "metadata": {
            "needs_background": "light"
          }
        }
      ]
    },
    {
      "cell_type": "code",
      "source": [
        "import matplotlib.pyplot as mp\n",
        "import numpy as np\n",
        "x=np.array([\"che\",\"emors\",\"it pro\",\"cse\",\"several variable\",\"single variable\",\"workshop\",\"venture develop\"])\n",
        "y=np.array([88,78,95,65,78,69,95,78])\n",
        "mp.pie(y,labels=x)\n",
        "mp.show()"
      ],
      "metadata": {
        "colab": {
          "base_uri": "https://localhost:8080/",
          "height": 248
        },
        "id": "w4mLWPyyybQt",
        "outputId": "a3070db9-1761-45da-d696-ccecfe48c009"
      },
      "id": "w4mLWPyyybQt",
      "execution_count": 6,
      "outputs": [
        {
          "output_type": "display_data",
          "data": {
            "text/plain": [
              "<Figure size 432x288 with 1 Axes>"
            ],
            "image/png": "[encoded data removed]"
          },
          "metadata": {}
        }
      ]
    },
    {
      "cell_type": "code",
      "source": [
        "import matplotlib.pyplot as mp \n",
        "import numpy as np \n",
        "x=np.array([\"koushik\",\"kiran\",\"deekshit\"]) \n",
        "y=([18,19,20]) \n",
        "mp.plot(x,y,marker=\"*\",ls=\"dashed\",color=\"red\") \n",
        "mp.show()"
      ],
      "metadata": {
        "colab": {
          "base_uri": "https://localhost:8080/",
          "height": 265
        },
        "id": "fCqDqP-5ydlt",
        "outputId": "01b8e4b7-4de9-447d-fa97-df2572cebc73"
      },
      "id": "fCqDqP-5ydlt",
      "execution_count": 16,
      "outputs": [
        {
          "output_type": "display_data",
          "data": {
            "text/plain": [
              "<Figure size 432x288 with 1 Axes>"
            ],
            "image/png": "[encoded data removed]"
          },
          "metadata": {
            "needs_background": "light"
          }
        }
      ]
    },
    {
      "cell_type": "code",
      "source": [
        "import matplotlib.pyplot as mp \n",
        "import numpy as np \n",
        "x=np.array([\"koushik\",\"kiran\",\"deekshit\"]) \n",
        "y=([18,19,20]) \n",
        "mp.plot(x,y,marker=\"*\",ls=\"dashed\",color=\"red\",ms=15,mec=\"g\",mfc=\"k\") \n",
        "mp.show()"
      ],
      "metadata": {
        "colab": {
          "base_uri": "https://localhost:8080/",
          "height": 265
        },
        "id": "8C6c4ulo6KKu",
        "outputId": "1bae9d5d-fe2f-4fc4-ee9a-9300e587086e"
      },
      "id": "8C6c4ulo6KKu",
      "execution_count": 22,
      "outputs": [
        {
          "output_type": "display_data",
          "data": {
            "text/plain": [
              "<Figure size 432x288 with 1 Axes>"
            ],
            "image/png": "[encoded data removed]"
          },
          "metadata": {
            "needs_background": "light"
          }
        }
      ]
    },
    {
      "cell_type": "code",
      "source": [
        ""
      ],
      "metadata": {
        "id": "9XLrjnvw7yGu"
      },
      "id": "9XLrjnvw7yGu",
      "execution_count": null,
      "outputs": []
    }
  ],
  "metadata": {
    "kernelspec": {
      "display_name": "Python 3 (ipykernel)",
      "language": "python",
      "name": "python3"
    },
    "language_info": {
      "codemirror_mode": {
        "name": "ipython",
        "version": 3
      },
      "file_extension": ".py",
      "mimetype": "text/x-python",
      "name": "python",
      "nbconvert_exporter": "python",
      "pygments_lexer": "ipython3",
      "version": "3.9.7"
    },
    "colab": {
      "name": "Python (1012).ipynb",
      "provenance": [],
      "collapsed_sections": [
        "0ce75177",
        "104069fd",
        "2c55a2c0",
        "3d71d49b",
        "1171686a",
        "e43379f7",
        "4a1ac88e",
        "5b91e735",
        "df8766c6",
        "4fe23377",
        "398c3fd2",
        "719ffd01",
        "624e843f",
        "a9f5e695",
        "cbafd602",
        "d8cdefab",
        "99392a05",
        "79a51020",
        "00a66824"
      ],
      "include_colab_link": true
    }
  },
  "nbformat": 4,
  "nbformat_minor": 5
}