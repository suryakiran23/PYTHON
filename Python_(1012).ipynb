{
  "cells": [
    {
      "cell_type": "markdown",
      "metadata": {
        "id": "view-in-github",
        "colab_type": "text"
      },
      "source": [
        "<a href=\"https://colab.research.google.com/github/suryakiran23/PYTHON/blob/main/Python_(1012).ipynb\" target=\"_parent\"><img src=\"https://colab.research.google.com/assets/colab-badge.svg\" alt=\"Open In Colab\"/></a>"
      ]
    },
    {
      "cell_type": "markdown",
      "id": "0fb4d8f2",
      "metadata": {
        "id": "0fb4d8f2"
      },
      "source": [
        "## Avg of three numbers"
      ]
    },
    {
      "cell_type": "code",
      "execution_count": null,
      "id": "cc0b37b8",
      "metadata": {
        "id": "cc0b37b8",
        "outputId": "2bffa8db-497d-4a5d-b3ec-398fcd17e9b6"
      },
      "outputs": [
        {
          "name": "stdout",
          "output_type": "stream",
          "text": [
            "20.0\n",
            "<class 'float'>\n"
          ]
        }
      ],
      "source": [
        "a=10;b=20;c=30\n",
        "d=(a+b+c)/3\n",
        "print(d)\n",
        "print(type(d))\n"
      ]
    },
    {
      "cell_type": "markdown",
      "id": "751af435",
      "metadata": {
        "id": "751af435"
      },
      "source": [
        "## Multi of two numbers"
      ]
    },
    {
      "cell_type": "code",
      "execution_count": null,
      "id": "9a9de076",
      "metadata": {
        "id": "9a9de076",
        "outputId": "47770aca-6d7f-46aa-9d96-480eb54ba18f"
      },
      "outputs": [
        {
          "name": "stdout",
          "output_type": "stream",
          "text": [
            "<class 'int'>\n",
            "multi of the given two numbers:  200\n"
          ]
        }
      ],
      "source": [
        "a=10;b=20\n",
        "mult=a*b\n",
        "print(type\n",
        "    (mult))\n",
        "print(\"multi of the given two numbers: \",mult)"
      ]
    },
    {
      "cell_type": "markdown",
      "id": "056ba211",
      "metadata": {
        "id": "056ba211"
      },
      "source": [
        "## dynamic addition of two numbers\n"
      ]
    },
    {
      "cell_type": "code",
      "execution_count": null,
      "id": "27dabfa1",
      "metadata": {
        "id": "27dabfa1",
        "outputId": "168a70ff-9602-4c21-ffb0-5eea93a3e798"
      },
      "outputs": [
        {
          "name": "stdout",
          "output_type": "stream",
          "text": [
            "ENTER A NUMBER2\n",
            "enter the second number3\n",
            "the sum of two number:  5\n"
          ]
        }
      ],
      "source": [
        "a=int(input( \"ENTER A NUMBER\"))\n",
        "b=int(input(\"enter the second number\"))\n",
        "c=a+b\n",
        "print(\"the sum of two number: \",c)"
      ]
    },
    {
      "cell_type": "code",
      "execution_count": null,
      "id": "33518d19",
      "metadata": {
        "id": "33518d19",
        "outputId": "54e30d69-62b0-45ab-f02d-2883842e9cf6"
      },
      "outputs": [
        {
          "name": "stdout",
          "output_type": "stream",
          "text": [
            "ENTER A NUMBER2\n",
            "enter the second number3\n",
            "kiran\n",
            "<class 'str'>\n",
            "the sum of two number:  5\n"
          ]
        }
      ],
      "source": [
        "a=int(input( \"ENTER A NUMBER\"));b=int(input(\"enter the second number\"))\n",
        "c=a+b\n",
        "d=\"ki\";e=\"ran\"\n",
        "f=d+e\n",
        "print(f)\n",
        "print(type(f))\n",
        "print(\"the sum of two number: \",c)"
      ]
    },
    {
      "cell_type": "markdown",
      "id": "b9869a1f",
      "metadata": {
        "id": "b9869a1f"
      },
      "source": [
        "## coversion of data types"
      ]
    },
    {
      "cell_type": "markdown",
      "id": "e15f5c5d",
      "metadata": {
        "id": "e15f5c5d"
      },
      "source": [
        "### covert int to float"
      ]
    },
    {
      "cell_type": "code",
      "execution_count": null,
      "id": "87a10ff0",
      "metadata": {
        "id": "87a10ff0",
        "outputId": "39b4447c-8457-47fe-a4d4-acb116d3c5cc"
      },
      "outputs": [
        {
          "name": "stdout",
          "output_type": "stream",
          "text": [
            "10.0\n",
            "<class 'float'>\n"
          ]
        }
      ],
      "source": [
        "a=10;b=float(a)\n",
        "print(b)\n",
        "print(type(b))"
      ]
    },
    {
      "cell_type": "markdown",
      "id": "49118fc9",
      "metadata": {
        "id": "49118fc9"
      },
      "source": [
        "### covert float to int"
      ]
    },
    {
      "cell_type": "code",
      "execution_count": null,
      "id": "6b51b68f",
      "metadata": {
        "id": "6b51b68f",
        "outputId": "0f16e476-d5c5-480e-cf24-55ebe23cae58"
      },
      "outputs": [
        {
          "name": "stdout",
          "output_type": "stream",
          "text": [
            "10\n",
            "<class 'int'>\n"
          ]
        }
      ],
      "source": [
        "a=10.0;b=int(a)\n",
        "print(b)\n",
        "print(type(b))"
      ]
    },
    {
      "cell_type": "code",
      "execution_count": null,
      "id": "6c0bf14b",
      "metadata": {
        "id": "6c0bf14b",
        "outputId": "4e76166f-3d99-4648-f262-64f647e8455f"
      },
      "outputs": [
        {
          "name": "stdout",
          "output_type": "stream",
          "text": [
            "10 <class 'int'>\n",
            "10.0 <class 'float'>\n"
          ]
        }
      ],
      "source": [
        "a=10.0;b=int(a)\n",
        "print(b,type(b))\n",
        "c=float(b)\n",
        "print(c,type(c))"
      ]
    },
    {
      "cell_type": "markdown",
      "id": "58b836dc",
      "metadata": {
        "id": "58b836dc"
      },
      "source": [
        "## covert int to str (strn to int isn't possible with alphabet)\n"
      ]
    },
    {
      "cell_type": "code",
      "execution_count": null,
      "id": "686b5fd6",
      "metadata": {
        "id": "686b5fd6",
        "outputId": "ffca0f7a-17a4-4c52-fb20-ecd1cfd0190e"
      },
      "outputs": [
        {
          "name": "stdout",
          "output_type": "stream",
          "text": [
            "10 <class 'str'>\n",
            "10 <class 'int'>\n"
          ]
        }
      ],
      "source": [
        "#strn to int isn't possible with alphabet\n",
        "a=10;b=str(a)\n",
        "print(b,type(b))\n",
        "c=int(b)\n",
        "print(c,type(c))"
      ]
    },
    {
      "cell_type": "markdown",
      "id": "0ce75177",
      "metadata": {
        "id": "0ce75177"
      },
      "source": [
        "## boolean function"
      ]
    },
    {
      "cell_type": "code",
      "execution_count": null,
      "id": "37c6ee07",
      "metadata": {
        "id": "37c6ee07",
        "outputId": "f00d6fff-38ff-4bb8-e3c2-3847b757d81e"
      },
      "outputs": [
        {
          "name": "stdout",
          "output_type": "stream",
          "text": [
            "True\n",
            "<class 'int'>\n",
            "True\n",
            "<class 'float'>\n"
          ]
        }
      ],
      "source": [
        "a=10;b=float(a)\n",
        "print(bool(a));print (type(a))\n",
        "print(bool(b));print(type(b))"
      ]
    },
    {
      "cell_type": "code",
      "execution_count": null,
      "id": "6f9fee1a",
      "metadata": {
        "id": "6f9fee1a",
        "outputId": "80cc2e8a-d850-4953-ff57-c998b1bb28a4"
      },
      "outputs": [
        {
          "name": "stdout",
          "output_type": "stream",
          "text": [
            "enter num to check boolean\n",
            "enter num 1: 2\n",
            "enter num2: 3\n",
            "check boolean\n",
            "True True <class 'int'> <class 'float'>\n"
          ]
        }
      ],
      "source": [
        "print(\"enter num to check boolean\");a=int(input(\"enter num 1: \"));b=float(input(\"enter num2: \" ))\n",
        "print(\"check boolean\")\n",
        "print(bool(a),bool(b),type(a),type(b))"
      ]
    },
    {
      "cell_type": "code",
      "execution_count": null,
      "id": "c9cb60bf",
      "metadata": {
        "id": "c9cb60bf",
        "outputId": "37cc1ed8-3576-4bcc-d9bb-fb31b81cd48a"
      },
      "outputs": [
        {
          "name": "stdout",
          "output_type": "stream",
          "text": [
            "False <class 'bool'>\n",
            "0\n"
          ]
        }
      ],
      "source": [
        "a=10;b=15\n",
        "c=a>b\n",
        "print(bool(c),type(c))\n",
        "print(int(c))"
      ]
    },
    {
      "cell_type": "code",
      "execution_count": null,
      "id": "9575bf1a",
      "metadata": {
        "id": "9575bf1a",
        "outputId": "3d2fab9b-8912-42fd-a9b4-1f14b03da225"
      },
      "outputs": [
        {
          "name": "stdout",
          "output_type": "stream",
          "text": [
            "True False <class 'bool'> <class 'bool'>\n"
          ]
        }
      ],
      "source": [
        "a=10;b=5\n",
        "c=a>b;d=b>a;\n",
        "print((c),(d),type(c),type(d))"
      ]
    },
    {
      "cell_type": "code",
      "execution_count": null,
      "id": "7c803907",
      "metadata": {
        "id": "7c803907",
        "outputId": "1ef5d111-6a62-427e-d919-92930ae43bf3"
      },
      "outputs": [
        {
          "name": "stdout",
          "output_type": "stream",
          "text": [
            "True <class 'bool'>\n",
            "1 <class 'bool'>\n"
          ]
        }
      ],
      "source": [
        "a=bool(10)\n",
        "print((a),type(a))\n",
        "print(int(a),type(a))"
      ]
    },
    {
      "cell_type": "markdown",
      "id": "104069fd",
      "metadata": {
        "id": "104069fd"
      },
      "source": [
        "## complex\n"
      ]
    },
    {
      "cell_type": "code",
      "execution_count": null,
      "id": "910d82a7",
      "metadata": {
        "id": "910d82a7",
        "outputId": "97e8c7ce-053e-4eed-9cae-7f544981f8e5"
      },
      "outputs": [
        {
          "name": "stdout",
          "output_type": "stream",
          "text": [
            "(5+0j)\n"
          ]
        }
      ],
      "source": [
        "a=10\n",
        "print(complex(b))"
      ]
    },
    {
      "cell_type": "code",
      "execution_count": null,
      "id": "163b2c03",
      "metadata": {
        "id": "163b2c03",
        "outputId": "1a4951ea-9ee5-4285-fd8b-d924f575784d"
      },
      "outputs": [
        {
          "name": "stdout",
          "output_type": "stream",
          "text": [
            "True (23+0j) 23.0\n"
          ]
        }
      ],
      "source": [
        "a=23\n",
        "print(bool(a),complex(a),float(a))"
      ]
    },
    {
      "cell_type": "code",
      "execution_count": null,
      "id": "b0836b52",
      "metadata": {
        "id": "b0836b52",
        "outputId": "ad75a13b-84d6-4698-b411-07bd4e557f59"
      },
      "outputs": [
        {
          "name": "stdout",
          "output_type": "stream",
          "text": [
            "<class 'complex'>\n"
          ]
        },
        {
          "ename": "TypeError",
          "evalue": "can't convert complex to int",
          "output_type": "error",
          "traceback": [
            "\u001b[1;31m---------------------------------------------------------------------------\u001b[0m",
            "\u001b[1;31mTypeError\u001b[0m                                 Traceback (most recent call last)",
            "\u001b[1;32m~\\AppData\\Local\\Temp/ipykernel_10780/3750108827.py\u001b[0m in \u001b[0;36m<module>\u001b[1;34m\u001b[0m\n\u001b[0;32m      1\u001b[0m \u001b[0ma\u001b[0m\u001b[1;33m=\u001b[0m\u001b[1;36m23\u001b[0m\u001b[1;33m+\u001b[0m\u001b[1;36m2j\u001b[0m\u001b[1;33m\u001b[0m\u001b[1;33m\u001b[0m\u001b[0m\n\u001b[0;32m      2\u001b[0m \u001b[0mprint\u001b[0m\u001b[1;33m(\u001b[0m\u001b[0mtype\u001b[0m\u001b[1;33m(\u001b[0m\u001b[0ma\u001b[0m\u001b[1;33m)\u001b[0m\u001b[1;33m)\u001b[0m\u001b[1;33m\u001b[0m\u001b[1;33m\u001b[0m\u001b[0m\n\u001b[1;32m----> 3\u001b[1;33m \u001b[0mprint\u001b[0m\u001b[1;33m(\u001b[0m\u001b[0mint\u001b[0m\u001b[1;33m(\u001b[0m\u001b[0ma\u001b[0m\u001b[1;33m)\u001b[0m\u001b[1;33m,\u001b[0m\u001b[0mtype\u001b[0m\u001b[1;33m(\u001b[0m\u001b[0ma\u001b[0m\u001b[1;33m)\u001b[0m\u001b[1;33m)\u001b[0m\u001b[1;33m\u001b[0m\u001b[1;33m\u001b[0m\u001b[0m\n\u001b[0m",
            "\u001b[1;31mTypeError\u001b[0m: can't convert complex to int"
          ]
        }
      ],
      "source": [
        "a=23+2j\n",
        "print(type(a))\n",
        "print(int(a),type(a))"
      ]
    },
    {
      "cell_type": "code",
      "execution_count": null,
      "id": "10155708",
      "metadata": {
        "id": "10155708",
        "outputId": "8a363c7e-8bab-46ab-d069-dbf0f77d104d"
      },
      "outputs": [
        {
          "name": "stdout",
          "output_type": "stream",
          "text": [
            "<class 'complex'>\n",
            "(23+2j) <class 'complex'>\n"
          ]
        }
      ],
      "source": [
        "a=23+2j\n",
        "print(type(a))\n",
        "print(str(a),type(a))"
      ]
    },
    {
      "cell_type": "code",
      "execution_count": null,
      "id": "5da13c4c",
      "metadata": {
        "id": "5da13c4c",
        "outputId": "ade3f28f-dd27-4827-9a1f-890b86671b2e"
      },
      "outputs": [
        {
          "name": "stdout",
          "output_type": "stream",
          "text": [
            "<class 'complex'>\n"
          ]
        },
        {
          "ename": "TypeError",
          "evalue": "can't convert complex to float",
          "output_type": "error",
          "traceback": [
            "\u001b[1;31m---------------------------------------------------------------------------\u001b[0m",
            "\u001b[1;31mTypeError\u001b[0m                                 Traceback (most recent call last)",
            "\u001b[1;32m~\\AppData\\Local\\Temp/ipykernel_10780/2850350656.py\u001b[0m in \u001b[0;36m<module>\u001b[1;34m\u001b[0m\n\u001b[0;32m      1\u001b[0m \u001b[0ma\u001b[0m\u001b[1;33m=\u001b[0m\u001b[1;36m23\u001b[0m\u001b[1;33m+\u001b[0m\u001b[1;36m2j\u001b[0m\u001b[1;33m\u001b[0m\u001b[1;33m\u001b[0m\u001b[0m\n\u001b[0;32m      2\u001b[0m \u001b[0mprint\u001b[0m\u001b[1;33m(\u001b[0m\u001b[0mtype\u001b[0m\u001b[1;33m(\u001b[0m\u001b[0ma\u001b[0m\u001b[1;33m)\u001b[0m\u001b[1;33m)\u001b[0m\u001b[1;33m\u001b[0m\u001b[1;33m\u001b[0m\u001b[0m\n\u001b[1;32m----> 3\u001b[1;33m \u001b[0mprint\u001b[0m\u001b[1;33m(\u001b[0m\u001b[0mfloat\u001b[0m\u001b[1;33m(\u001b[0m\u001b[0ma\u001b[0m\u001b[1;33m)\u001b[0m\u001b[1;33m,\u001b[0m\u001b[0mtype\u001b[0m\u001b[1;33m(\u001b[0m\u001b[0ma\u001b[0m\u001b[1;33m)\u001b[0m\u001b[1;33m)\u001b[0m\u001b[1;33m\u001b[0m\u001b[1;33m\u001b[0m\u001b[0m\n\u001b[0m",
            "\u001b[1;31mTypeError\u001b[0m: can't convert complex to float"
          ]
        }
      ],
      "source": [
        "a=23+2j\n",
        "print(type(a))\n",
        "print(float(a),type(a))"
      ]
    },
    {
      "cell_type": "markdown",
      "id": "2c55a2c0",
      "metadata": {
        "id": "2c55a2c0"
      },
      "source": [
        "## PYTHON control statements \n"
      ]
    },
    {
      "cell_type": "markdown",
      "id": "3d71d49b",
      "metadata": {
        "id": "3d71d49b"
      },
      "source": [
        "## IF ELSE"
      ]
    },
    {
      "cell_type": "code",
      "execution_count": null,
      "id": "cacc4684",
      "metadata": {
        "id": "cacc4684"
      },
      "outputs": [],
      "source": [
        "a=18\n",
        "if a>18: ###indentation is necessary \n",
        "       print(\"you're eligiable for voting\")### the code should be started below the indenenation"
      ]
    },
    {
      "cell_type": "code",
      "execution_count": null,
      "id": "eebb9d20",
      "metadata": {
        "id": "eebb9d20",
        "outputId": "59639b8c-fdd5-4eb9-973e-0f34d82171eb"
      },
      "outputs": [
        {
          "name": "stdout",
          "output_type": "stream",
          "text": [
            "enter the age21\n",
            "eligible for voting\n"
          ]
        }
      ],
      "source": [
        "a=int(input(\"enter the age\"))\n",
        "if a>18:\n",
        "    print(\"eligible for voting\")\n",
        "else:\n",
        "       print(\"not eligigble\")\n"
      ]
    },
    {
      "cell_type": "code",
      "execution_count": null,
      "id": "ba4e0c5d",
      "metadata": {
        "id": "ba4e0c5d",
        "outputId": "c5b5b15a-9ef5-4370-a7cb-f8ce1aa72c02"
      },
      "outputs": [
        {
          "name": "stdout",
          "output_type": "stream",
          "text": [
            "enter the age18\n",
            "just eligible\n"
          ]
        }
      ],
      "source": [
        "a=int(input(\"enter the age\"))\n",
        "if a>18:\n",
        "    print(\"eligible for voting\")\n",
        "elif a==18:\n",
        "    print(\"just eligible\")\n",
        "else:\n",
        "       print(\"not eligigble\")\n"
      ]
    },
    {
      "cell_type": "code",
      "execution_count": null,
      "id": "6efa0053",
      "metadata": {
        "id": "6efa0053",
        "outputId": "37ecb144-b090-49ca-d017-411be45898a2"
      },
      "outputs": [
        {
          "name": "stdout",
          "output_type": "stream",
          "text": [
            "enter the number2\n",
            "enter number two3\n",
            "enter the third number9\n",
            "c is max\n"
          ]
        }
      ],
      "source": [
        "a=int(input(\"enter the number\"));b=int(input(\"enter number two\"));c=int(input(\"enter the third number\"))\n",
        "if a>b and a>c:\n",
        "    print(\"a is max\")\n",
        "elif b>a and b>c :\n",
        "    print(\"b is max\")\n",
        "else :\n",
        "    print(\"c is max\")\n",
        "    "
      ]
    },
    {
      "cell_type": "code",
      "execution_count": null,
      "id": "99c26d37",
      "metadata": {
        "id": "99c26d37",
        "outputId": "d14e8e39-ce5e-46c0-b8d3-fc459e4a499d"
      },
      "outputs": [
        {
          "name": "stdout",
          "output_type": "stream",
          "text": [
            "enter the number2\n",
            "enter number two3\n",
            "enter the third number6\n",
            "enter the forth number9\n",
            "enter the five number4\n",
            "d is max\n"
          ]
        }
      ],
      "source": [
        "a=int(input(\"enter the number: \"));b=int(input(\"enter number two: \"));c=int(input(\"enter the third number\"));d=int(input(\"enter the forth number\"));e=int(input(\"enter the five number\"))\n",
        "if a>b and a>c and a>d and a>e:\n",
        "    print(\"a is max\")\n",
        "elif b>a and b>c and b>d and b>e:\n",
        "    print(\"b is max\")\n",
        "elif c>a and c>b and c>d and c>e:       \n",
        "    print(\"c is max\")\n",
        "elif d>a and d>b and d>c and d>e:       \n",
        "    print(\"d is max\")\n",
        "else:    \n",
        "    print(\"e is max\")"
      ]
    },
    {
      "cell_type": "code",
      "execution_count": null,
      "id": "9452a7ab",
      "metadata": {
        "id": "9452a7ab",
        "outputId": "ee078d3a-b094-4a68-d0fa-235b7efd202f"
      },
      "outputs": [
        {
          "name": "stdout",
          "output_type": "stream",
          "text": [
            "enter the marks of subjects: 6\n",
            "enter the marks of subjects: : 3\n",
            "enter the marks of subjects: 3\n",
            "enter the marks of subjects: 3\n",
            "enter the marks of the subject3\n",
            "a is max\n"
          ]
        }
      ],
      "source": [
        "a=int(input(\"enter the marks of subjects: \"));b=int(input(\"enter the marks of subjects: : \"));c=int(input(\"enter the marks of subjects: \"));d=int(input(\"enter the marks of subjects: \"));e=int(input(\"enter the marks of the subject\"))\n",
        "if a>b and a>c and a>d and a>e:\n",
        "    print(\"a is max\")\n",
        "elif b>a and b>c and b>d and b>e:\n",
        "    print(\"b is max\")\n",
        "elif c>a and c>b and c>d and c>e:       \n",
        "    print(\"c is max\")\n",
        "elif d>a and d>b and d>c and d>e:       \n",
        "    print(\"d is max\")\n",
        "else:    \n",
        "    print(\"e is max\")"
      ]
    },
    {
      "cell_type": "code",
      "execution_count": null,
      "id": "7110a6c9",
      "metadata": {
        "id": "7110a6c9",
        "outputId": "2a9143ea-8e04-4a9c-df46-652599698dd8"
      },
      "outputs": [
        {
          "name": "stdout",
          "output_type": "stream",
          "text": [
            "enter the number9\n",
            "enter the max number18\n",
            "9\n",
            "10\n",
            "11\n",
            "12\n",
            "13\n",
            "14\n",
            "15\n",
            "16\n",
            "17\n"
          ]
        }
      ],
      "source": [
        "a=int(input(\"enter the number\"));b=int(input(\"enter the max number\"))\n",
        "for i in range (a,b):\n",
        "    print (i)\n",
        "        "
      ]
    },
    {
      "cell_type": "code",
      "execution_count": null,
      "id": "3696a901",
      "metadata": {
        "id": "3696a901",
        "outputId": "ed71881c-3246-4308-f0bc-8bb7ca75b373"
      },
      "outputs": [
        {
          "name": "stdout",
          "output_type": "stream",
          "text": [
            "enter the number2\n",
            "enter the max number100\n",
            "even number  2\n",
            "even number  4\n",
            "even number  6\n",
            "even number  8\n",
            "even number  10\n",
            "even number  12\n",
            "even number  14\n",
            "even number  16\n",
            "even number  18\n",
            "even number  20\n",
            "even number  22\n",
            "even number  24\n",
            "even number  26\n",
            "even number  28\n",
            "even number  30\n",
            "even number  32\n",
            "even number  34\n",
            "even number  36\n",
            "even number  38\n",
            "even number  40\n",
            "even number  42\n",
            "even number  44\n",
            "even number  46\n",
            "even number  48\n",
            "even number  50\n",
            "even number  52\n",
            "even number  54\n",
            "even number  56\n",
            "even number  58\n",
            "even number  60\n",
            "even number  62\n",
            "even number  64\n",
            "even number  66\n",
            "even number  68\n",
            "even number  70\n",
            "even number  72\n",
            "even number  74\n",
            "even number  76\n",
            "even number  78\n",
            "even number  80\n",
            "even number  82\n",
            "even number  84\n",
            "even number  86\n",
            "even number  88\n",
            "even number  90\n",
            "even number  92\n",
            "even number  94\n",
            "even number  96\n",
            "even number  98\n",
            "odd number  98\n"
          ]
        }
      ],
      "source": [
        "a=int(input(\"enter the number\"));b=int(input(\"enter the max number\"))\n",
        "for i in range (a,b):\n",
        "    if i%2==0:\n",
        "        print(\"even number \",i)\n",
        "else:\n",
        "    print (\"odd number \",i)\n",
        "        "
      ]
    },
    {
      "cell_type": "markdown",
      "id": "1171686a",
      "metadata": {
        "id": "1171686a"
      },
      "source": [
        "## Multi tables\n"
      ]
    },
    {
      "cell_type": "code",
      "execution_count": null,
      "id": "8d90960b",
      "metadata": {
        "id": "8d90960b",
        "outputId": "1587afe7-d375-4fb0-9ca9-70274c6b2122"
      },
      "outputs": [
        {
          "name": "stdout",
          "output_type": "stream",
          "text": [
            "enter the number0\n",
            "enter the max number10\n",
            "even number  0\n",
            "even number  2\n",
            "even number  4\n",
            "even number  6\n",
            "even number  8\n",
            "odd number  0\n",
            "odd number  3\n",
            "odd number  6\n",
            "odd number  9\n"
          ]
        }
      ],
      "source": [
        "a=int(input(\"enter the number\"));b=int(input(\"enter the max number\"))\n",
        "for i in range (a,b,2):\n",
        "\n",
        "        print(\"even number \",i)\n",
        "for j in range (a,b,3):\n",
        "\n",
        "    print (\"odd number \",j)\n",
        "        "
      ]
    },
    {
      "cell_type": "code",
      "execution_count": null,
      "id": "99da0c52",
      "metadata": {
        "id": "99da0c52",
        "outputId": "2d9e05b1-2b7d-416b-b008-ea851cccbb57"
      },
      "outputs": [
        {
          "name": "stdout",
          "output_type": "stream",
          "text": [
            "Enter the number to begin with 5\n",
            "enter the max number 9\n",
            "5\n",
            "6\n",
            "7\n",
            "8\n"
          ]
        }
      ],
      "source": [
        "a=int(input(\"Enter the number to begin with \"));b=int(input(\"enter the max number \"))\n",
        "for i in range (a,b):\n",
        "     print(i)"
      ]
    },
    {
      "cell_type": "markdown",
      "id": "e43379f7",
      "metadata": {
        "id": "e43379f7"
      },
      "source": [
        "## Module 2 programs in python\n",
        "\n",
        "\n"
      ]
    },
    {
      "cell_type": "code",
      "execution_count": null,
      "id": "82a1621f",
      "metadata": {
        "id": "82a1621f",
        "outputId": "32dc96d6-a0b7-4ef9-973f-c8c9f7584e9c"
      },
      "outputs": [
        {
          "name": "stdout",
          "output_type": "stream",
          "text": [
            "enter the max number 10\n",
            "enter the first number1\n",
            "55\n"
          ]
        }
      ],
      "source": [
        "a=int(input(\"enter the max number \"));b=int(input(\"enter the first number\"))\n",
        "sum=0\n",
        "while b<=a:\n",
        "    sum=sum+b\n",
        "    b=b+1\n",
        "print(sum)"
      ]
    },
    {
      "cell_type": "code",
      "execution_count": null,
      "id": "6f01d0ff",
      "metadata": {
        "id": "6f01d0ff",
        "outputId": "6c5024dd-2a11-4815-d2ba-3f271da3e53e"
      },
      "outputs": [
        {
          "name": "stdout",
          "output_type": "stream",
          "text": [
            "enter the first side 5\n",
            "enter the second side5\n",
            "enter the third side5\n",
            "equalilater triangle\n"
          ]
        }
      ],
      "source": [
        "a=int(input(\"enter the first side \"));b=int(input(\"enter the second side\"));c=int(input(\"enter the third side\"))\n",
        "\n",
        "if a==b and a==c and c==a:\n",
        "    \n",
        "    print(\"equalilater triangle\")\n",
        "elif a==b or a==c or  c==a:\n",
        "    \n",
        "    print(\"isoscles trinagle \")\n",
        "else:\n",
        "    print(\"scalen triangle\")\n",
        "    "
      ]
    },
    {
      "cell_type": "code",
      "execution_count": null,
      "id": "f5ef7dbe",
      "metadata": {
        "id": "f5ef7dbe",
        "outputId": "96b2d19e-0338-447f-f4f6-08f99de0baaa"
      },
      "outputs": [
        {
          "name": "stdout",
          "output_type": "stream",
          "text": [
            "enter the year 2022\n",
            "not a leap year\n"
          ]
        }
      ],
      "source": [
        "a=int(input(\"enter the year \"))\n",
        "\n",
        "if a%400==0:\n",
        "    print(\"it is a leap year\")\n",
        "elif a%100==0:\n",
        "    print(\"not a leap year \")\n",
        "elif a%4==0:\n",
        "    print(\"it is a leap year\")\n",
        "else:\n",
        "    print(\"not a leap year\")\n",
        "    "
      ]
    },
    {
      "cell_type": "code",
      "execution_count": null,
      "id": "9c5dd844",
      "metadata": {
        "id": "9c5dd844",
        "outputId": "8e7b1743-af72-425e-bde6-aae505ab1734"
      },
      "outputs": [
        {
          "name": "stdout",
          "output_type": "stream",
          "text": [
            "enter the number5\n",
            "enter number two2\n",
            "enter the third number1\n",
            "c is min\n"
          ]
        }
      ],
      "source": [
        "a=int(input(\"enter the number\"));b=int(input(\"enter number two\"));c=int(input(\"enter the third number\"))\n",
        "if a<b and a<c:\n",
        "    print(\"a is min\")\n",
        "elif b<a and b<c :\n",
        "    print(\"b is min\")\n",
        "else :\n",
        "    print(\"c is min\")\n",
        "    "
      ]
    },
    {
      "cell_type": "code",
      "execution_count": null,
      "id": "4372d056",
      "metadata": {
        "id": "4372d056",
        "outputId": "8cf384f6-96fd-4f77-f96a-2065fe928b43"
      },
      "outputs": [
        {
          "name": "stdout",
          "output_type": "stream",
          "text": [
            "enter the  number55\n",
            "the number is divisible by both 5 and 11\n"
          ]
        }
      ],
      "source": [
        "a=int(input(\"enter the  number\"));\n",
        "if a%5==0 and a%11==0:\n",
        "    print(\"the number is divisible by both 5 and 11\")\n",
        "elif a%5==0:\n",
        "    print(\"The number is divisible by 5\")\n",
        "elif a%11==0 :\n",
        "    print(\"The number is divisible by 11\")\n",
        "else :\n",
        "    print(\"The number is not divisible by both\")\n",
        "     \n",
        " \n",
        "  \n"
      ]
    },
    {
      "cell_type": "code",
      "execution_count": null,
      "id": "3e9b2f5e",
      "metadata": {
        "id": "3e9b2f5e",
        "outputId": "da8a3c56-3cef-4f30-8d22-59f1d7f93951"
      },
      "outputs": [
        {
          "name": "stdout",
          "output_type": "stream",
          "text": [
            "enter the number to find factorial for 5\n",
            "120\n"
          ]
        }
      ],
      "source": [
        "a=int(input(\"enter the number to find factorial for \"))\n",
        "fact=1\n",
        "for i in range (1,a+1):\n",
        "    fact=fact*i\n",
        "print(fact)\n"
      ]
    },
    {
      "cell_type": "code",
      "execution_count": null,
      "id": "8a566016",
      "metadata": {
        "id": "8a566016",
        "outputId": "67fc9bed-7d05-46c9-fd14-5fe9b05d8ac8"
      },
      "outputs": [
        {
          "name": "stdout",
          "output_type": "stream",
          "text": [
            "enter the number 122221\n",
            "not a palindrome\n"
          ]
        }
      ],
      "source": [
        "a=int(input(\"enter the number \"))\n",
        "reverse=0\n",
        "temp=a\n",
        "while temp>0:\n",
        "    remainder=temp%10\n",
        "    reverse=(reverse*10)+remainder\n",
        "    temp=temp/10\n",
        "if reverse==a:\n",
        "    print(\"palindrome\")\n",
        "else:\n",
        "          print(\"not a palindrome\")"
      ]
    }
  ],
  "metadata": {
    "kernelspec": {
      "display_name": "Python 3 (ipykernel)",
      "language": "python",
      "name": "python3"
    },
    "language_info": {
      "codemirror_mode": {
        "name": "ipython",
        "version": 3
      },
      "file_extension": ".py",
      "mimetype": "text/x-python",
      "name": "python",
      "nbconvert_exporter": "python",
      "pygments_lexer": "ipython3",
      "version": "3.9.7"
    },
    "colab": {
      "name": "Python (1012).ipynb",
      "provenance": [],
      "include_colab_link": true
    }
  },
  "nbformat": 4,
  "nbformat_minor": 5
}