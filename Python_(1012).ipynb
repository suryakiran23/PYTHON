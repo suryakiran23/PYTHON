{
  "cells": [
    {
      "cell_type": "markdown",
      "metadata": {
        "id": "view-in-github",
        "colab_type": "text"
      },
      "source": [
        "<a href=\"https://colab.research.google.com/github/suryakiran23/PYTHON/blob/main/Python_(1012).ipynb\" target=\"_parent\"><img src=\"https://colab.research.google.com/assets/colab-badge.svg\" alt=\"Open In Colab\"/></a>"
      ]
    },
    {
      "cell_type": "markdown",
      "id": "0fb4d8f2",
      "metadata": {
        "id": "0fb4d8f2"
      },
      "source": [
        "## Avg of three numbers"
      ]
    },
    {
      "cell_type": "code",
      "execution_count": null,
      "id": "cc0b37b8",
      "metadata": {
        "id": "cc0b37b8",
        "outputId": "edfd444b-78f0-4d07-e5dc-ed6d7212fada"
      },
      "outputs": [
        {
          "name": "stdout",
          "output_type": "stream",
          "text": [
            "20.0\n",
            "<class 'float'>\n"
          ]
        }
      ],
      "source": [
        "a=10;b=20;c=30\n",
        "d=(a+b+c)/3\n",
        "print(d)\n",
        "print(type(d))\n"
      ]
    },
    {
      "cell_type": "markdown",
      "id": "751af435",
      "metadata": {
        "id": "751af435"
      },
      "source": [
        "## Multi of two numbers"
      ]
    },
    {
      "cell_type": "code",
      "execution_count": null,
      "id": "9a9de076",
      "metadata": {
        "id": "9a9de076",
        "outputId": "f1f78a5e-0795-455e-f3f1-df01abfb4e8f"
      },
      "outputs": [
        {
          "name": "stdout",
          "output_type": "stream",
          "text": [
            "<class 'int'>\n",
            "multi of the given two numbers:  200\n"
          ]
        }
      ],
      "source": [
        "a=10;b=20\n",
        "mult=a*b\n",
        "print(type\n",
        "    (mult))\n",
        "print(\"multi of the given two numbers: \",mult)"
      ]
    },
    {
      "cell_type": "markdown",
      "id": "056ba211",
      "metadata": {
        "id": "056ba211"
      },
      "source": [
        "## dynamic addition of two numbers\n"
      ]
    },
    {
      "cell_type": "code",
      "execution_count": null,
      "id": "27dabfa1",
      "metadata": {
        "id": "27dabfa1",
        "outputId": "71be9c79-e24d-4c03-caf5-b9184b34ce40"
      },
      "outputs": [
        {
          "name": "stdout",
          "output_type": "stream",
          "text": [
            "ENTER A NUMBER2\n",
            "enter the second number3\n",
            "the sum of two number:  5\n"
          ]
        }
      ],
      "source": [
        "a=int(input( \"ENTER A NUMBER\"))\n",
        "b=int(input(\"enter the second number\"))\n",
        "c=a+b\n",
        "print(\"the sum of two number: \",c)"
      ]
    },
    {
      "cell_type": "code",
      "execution_count": null,
      "id": "33518d19",
      "metadata": {
        "id": "33518d19",
        "outputId": "3ae2e6ab-0808-45da-96e2-75b5020f3ec8"
      },
      "outputs": [
        {
          "name": "stdout",
          "output_type": "stream",
          "text": [
            "ENTER A NUMBER2\n",
            "enter the second number3\n",
            "kiran\n",
            "<class 'str'>\n",
            "the sum of two number:  5\n"
          ]
        }
      ],
      "source": [
        "a=int(input( \"ENTER A NUMBER\"));b=int(input(\"enter the second number\"))\n",
        "c=a+b\n",
        "d=\"ki\";e=\"ran\"\n",
        "f=d+e\n",
        "print(f)\n",
        "print(type(f))\n",
        "print(\"the sum of two number: \",c)"
      ]
    },
    {
      "cell_type": "markdown",
      "id": "b9869a1f",
      "metadata": {
        "id": "b9869a1f"
      },
      "source": [
        "## coversion of data types"
      ]
    },
    {
      "cell_type": "markdown",
      "id": "e15f5c5d",
      "metadata": {
        "id": "e15f5c5d"
      },
      "source": [
        "### covert int to float"
      ]
    },
    {
      "cell_type": "code",
      "execution_count": null,
      "id": "87a10ff0",
      "metadata": {
        "id": "87a10ff0",
        "outputId": "24d33849-f052-435d-ad17-26c09b265d18"
      },
      "outputs": [
        {
          "name": "stdout",
          "output_type": "stream",
          "text": [
            "10.0\n",
            "<class 'float'>\n"
          ]
        }
      ],
      "source": [
        "a=10;b=float(a)\n",
        "print(b)\n",
        "print(type(b))"
      ]
    },
    {
      "cell_type": "markdown",
      "id": "49118fc9",
      "metadata": {
        "id": "49118fc9"
      },
      "source": [
        "### covert float to int"
      ]
    },
    {
      "cell_type": "code",
      "execution_count": null,
      "id": "6b51b68f",
      "metadata": {
        "id": "6b51b68f",
        "outputId": "a61cd3f2-e4e9-48a0-9b94-92d7388ba196"
      },
      "outputs": [
        {
          "name": "stdout",
          "output_type": "stream",
          "text": [
            "10\n",
            "<class 'int'>\n"
          ]
        }
      ],
      "source": [
        "a=10.0;b=int(a)\n",
        "print(b)\n",
        "print(type(b))"
      ]
    },
    {
      "cell_type": "code",
      "execution_count": null,
      "id": "6c0bf14b",
      "metadata": {
        "id": "6c0bf14b",
        "outputId": "3e68db86-0ff8-4535-ca8e-7d915b55adfd"
      },
      "outputs": [
        {
          "name": "stdout",
          "output_type": "stream",
          "text": [
            "10 <class 'int'>\n",
            "10.0 <class 'float'>\n"
          ]
        }
      ],
      "source": [
        "a=10.0;b=int(a)\n",
        "print(b,type(b))\n",
        "c=float(b)\n",
        "print(c,type(c))"
      ]
    },
    {
      "cell_type": "markdown",
      "id": "58b836dc",
      "metadata": {
        "id": "58b836dc"
      },
      "source": [
        "## covert int to str (strn to int isn't possible with alphabet)\n"
      ]
    },
    {
      "cell_type": "code",
      "execution_count": null,
      "id": "686b5fd6",
      "metadata": {
        "id": "686b5fd6",
        "outputId": "1ba4470a-3d1f-483d-ddd0-3b6b9eb762ac"
      },
      "outputs": [
        {
          "name": "stdout",
          "output_type": "stream",
          "text": [
            "10 <class 'str'>\n",
            "10 <class 'int'>\n"
          ]
        }
      ],
      "source": [
        "#strn to int isn't possible with alphabet\n",
        "a=10;b=str(a)\n",
        "print(b,type(b))\n",
        "c=int(b)\n",
        "print(c,type(c))"
      ]
    },
    {
      "cell_type": "markdown",
      "id": "0ce75177",
      "metadata": {
        "id": "0ce75177"
      },
      "source": [
        "## boolean function"
      ]
    },
    {
      "cell_type": "code",
      "execution_count": null,
      "id": "37c6ee07",
      "metadata": {
        "id": "37c6ee07",
        "outputId": "3389b844-ae6a-4a0a-d921-ff185b6b2150"
      },
      "outputs": [
        {
          "name": "stdout",
          "output_type": "stream",
          "text": [
            "True\n",
            "<class 'int'>\n",
            "True\n",
            "<class 'float'>\n"
          ]
        }
      ],
      "source": [
        "a=10;b=float(a)\n",
        "print(bool(a));print (type(a))\n",
        "print(bool(b));print(type(b))"
      ]
    },
    {
      "cell_type": "code",
      "execution_count": null,
      "id": "6f9fee1a",
      "metadata": {
        "id": "6f9fee1a",
        "outputId": "0f8cb7c3-1cc1-45a7-9384-a018eeaaa60f"
      },
      "outputs": [
        {
          "name": "stdout",
          "output_type": "stream",
          "text": [
            "enter num to check boolean\n",
            "enter num 1: 2\n",
            "enter num2: 3\n",
            "check boolean\n",
            "True True <class 'int'> <class 'float'>\n"
          ]
        }
      ],
      "source": [
        "print(\"enter num to check boolean\");a=int(input(\"enter num 1: \"));b=float(input(\"enter num2: \" ))\n",
        "print(\"check boolean\")\n",
        "print(bool(a),bool(b),type(a),type(b))"
      ]
    },
    {
      "cell_type": "code",
      "execution_count": null,
      "id": "c9cb60bf",
      "metadata": {
        "id": "c9cb60bf",
        "outputId": "9b954e9c-0318-4a03-e2da-8a2e4f6b3bea"
      },
      "outputs": [
        {
          "name": "stdout",
          "output_type": "stream",
          "text": [
            "False <class 'bool'>\n",
            "0\n"
          ]
        }
      ],
      "source": [
        "a=10;b=15\n",
        "c=a>b\n",
        "print(bool(c),type(c))\n",
        "print(int(c))"
      ]
    },
    {
      "cell_type": "code",
      "execution_count": null,
      "id": "9575bf1a",
      "metadata": {
        "id": "9575bf1a",
        "outputId": "9682dd00-94ae-460d-cb04-ac6f4261ab61"
      },
      "outputs": [
        {
          "name": "stdout",
          "output_type": "stream",
          "text": [
            "True False <class 'bool'> <class 'bool'>\n"
          ]
        }
      ],
      "source": [
        "a=10;b=5\n",
        "c=a>b;d=b>a;\n",
        "print((c),(d),type(c),type(d))"
      ]
    },
    {
      "cell_type": "code",
      "execution_count": null,
      "id": "7c803907",
      "metadata": {
        "id": "7c803907",
        "outputId": "2f9eeeda-0152-4a54-e371-5d3af8e22063"
      },
      "outputs": [
        {
          "name": "stdout",
          "output_type": "stream",
          "text": [
            "True <class 'bool'>\n",
            "1 <class 'bool'>\n"
          ]
        }
      ],
      "source": [
        "a=bool(10)\n",
        "print((a),type(a))\n",
        "print(int(a),type(a))"
      ]
    },
    {
      "cell_type": "markdown",
      "id": "104069fd",
      "metadata": {
        "id": "104069fd"
      },
      "source": [
        "## complex\n"
      ]
    },
    {
      "cell_type": "code",
      "execution_count": null,
      "id": "910d82a7",
      "metadata": {
        "id": "910d82a7",
        "outputId": "e3900124-bbff-4f06-efaa-1f374bdb1740"
      },
      "outputs": [
        {
          "name": "stdout",
          "output_type": "stream",
          "text": [
            "(5+0j)\n"
          ]
        }
      ],
      "source": [
        "a=10\n",
        "print(complex(b))"
      ]
    },
    {
      "cell_type": "code",
      "execution_count": null,
      "id": "163b2c03",
      "metadata": {
        "id": "163b2c03",
        "outputId": "3d78281c-085d-49b5-c9fc-10d15d0a71b9"
      },
      "outputs": [
        {
          "name": "stdout",
          "output_type": "stream",
          "text": [
            "True (23+0j) 23.0\n"
          ]
        }
      ],
      "source": [
        "a=23\n",
        "print(bool(a),complex(a),float(a))"
      ]
    },
    {
      "cell_type": "code",
      "execution_count": null,
      "id": "b0836b52",
      "metadata": {
        "id": "b0836b52",
        "outputId": "bd5110da-3828-412d-cb16-5b3ac01b8de3"
      },
      "outputs": [
        {
          "name": "stdout",
          "output_type": "stream",
          "text": [
            "<class 'complex'>\n"
          ]
        },
        {
          "ename": "TypeError",
          "evalue": "can't convert complex to int",
          "output_type": "error",
          "traceback": [
            "\u001b[1;31m---------------------------------------------------------------------------\u001b[0m",
            "\u001b[1;31mTypeError\u001b[0m                                 Traceback (most recent call last)",
            "\u001b[1;32m~\\AppData\\Local\\Temp/ipykernel_10780/3750108827.py\u001b[0m in \u001b[0;36m<module>\u001b[1;34m\u001b[0m\n\u001b[0;32m      1\u001b[0m \u001b[0ma\u001b[0m\u001b[1;33m=\u001b[0m\u001b[1;36m23\u001b[0m\u001b[1;33m+\u001b[0m\u001b[1;36m2j\u001b[0m\u001b[1;33m\u001b[0m\u001b[1;33m\u001b[0m\u001b[0m\n\u001b[0;32m      2\u001b[0m \u001b[0mprint\u001b[0m\u001b[1;33m(\u001b[0m\u001b[0mtype\u001b[0m\u001b[1;33m(\u001b[0m\u001b[0ma\u001b[0m\u001b[1;33m)\u001b[0m\u001b[1;33m)\u001b[0m\u001b[1;33m\u001b[0m\u001b[1;33m\u001b[0m\u001b[0m\n\u001b[1;32m----> 3\u001b[1;33m \u001b[0mprint\u001b[0m\u001b[1;33m(\u001b[0m\u001b[0mint\u001b[0m\u001b[1;33m(\u001b[0m\u001b[0ma\u001b[0m\u001b[1;33m)\u001b[0m\u001b[1;33m,\u001b[0m\u001b[0mtype\u001b[0m\u001b[1;33m(\u001b[0m\u001b[0ma\u001b[0m\u001b[1;33m)\u001b[0m\u001b[1;33m)\u001b[0m\u001b[1;33m\u001b[0m\u001b[1;33m\u001b[0m\u001b[0m\n\u001b[0m",
            "\u001b[1;31mTypeError\u001b[0m: can't convert complex to int"
          ]
        }
      ],
      "source": [
        "a=23+2j\n",
        "print(type(a))\n",
        "print(int(a),type(a))"
      ]
    },
    {
      "cell_type": "code",
      "execution_count": null,
      "id": "10155708",
      "metadata": {
        "id": "10155708",
        "outputId": "f1a8403c-bad8-4e4e-9678-62077691e46e"
      },
      "outputs": [
        {
          "name": "stdout",
          "output_type": "stream",
          "text": [
            "<class 'complex'>\n",
            "(23+2j) <class 'complex'>\n"
          ]
        }
      ],
      "source": [
        "a=23+2j\n",
        "print(type(a))\n",
        "print(str(a),type(a))"
      ]
    },
    {
      "cell_type": "code",
      "execution_count": null,
      "id": "5da13c4c",
      "metadata": {
        "id": "5da13c4c",
        "outputId": "05208eef-d464-4829-e273-8e0bfb981596"
      },
      "outputs": [
        {
          "name": "stdout",
          "output_type": "stream",
          "text": [
            "<class 'complex'>\n"
          ]
        },
        {
          "ename": "TypeError",
          "evalue": "can't convert complex to float",
          "output_type": "error",
          "traceback": [
            "\u001b[1;31m---------------------------------------------------------------------------\u001b[0m",
            "\u001b[1;31mTypeError\u001b[0m                                 Traceback (most recent call last)",
            "\u001b[1;32m~\\AppData\\Local\\Temp/ipykernel_10780/2850350656.py\u001b[0m in \u001b[0;36m<module>\u001b[1;34m\u001b[0m\n\u001b[0;32m      1\u001b[0m \u001b[0ma\u001b[0m\u001b[1;33m=\u001b[0m\u001b[1;36m23\u001b[0m\u001b[1;33m+\u001b[0m\u001b[1;36m2j\u001b[0m\u001b[1;33m\u001b[0m\u001b[1;33m\u001b[0m\u001b[0m\n\u001b[0;32m      2\u001b[0m \u001b[0mprint\u001b[0m\u001b[1;33m(\u001b[0m\u001b[0mtype\u001b[0m\u001b[1;33m(\u001b[0m\u001b[0ma\u001b[0m\u001b[1;33m)\u001b[0m\u001b[1;33m)\u001b[0m\u001b[1;33m\u001b[0m\u001b[1;33m\u001b[0m\u001b[0m\n\u001b[1;32m----> 3\u001b[1;33m \u001b[0mprint\u001b[0m\u001b[1;33m(\u001b[0m\u001b[0mfloat\u001b[0m\u001b[1;33m(\u001b[0m\u001b[0ma\u001b[0m\u001b[1;33m)\u001b[0m\u001b[1;33m,\u001b[0m\u001b[0mtype\u001b[0m\u001b[1;33m(\u001b[0m\u001b[0ma\u001b[0m\u001b[1;33m)\u001b[0m\u001b[1;33m)\u001b[0m\u001b[1;33m\u001b[0m\u001b[1;33m\u001b[0m\u001b[0m\n\u001b[0m",
            "\u001b[1;31mTypeError\u001b[0m: can't convert complex to float"
          ]
        }
      ],
      "source": [
        "a=23+2j\n",
        "print(type(a))\n",
        "print(float(a),type(a))"
      ]
    },
    {
      "cell_type": "markdown",
      "id": "2c55a2c0",
      "metadata": {
        "id": "2c55a2c0"
      },
      "source": [
        "## PYTHON control statements \n"
      ]
    },
    {
      "cell_type": "markdown",
      "id": "3d71d49b",
      "metadata": {
        "id": "3d71d49b"
      },
      "source": [
        "## IF ELSE"
      ]
    },
    {
      "cell_type": "code",
      "execution_count": null,
      "id": "cacc4684",
      "metadata": {
        "id": "cacc4684"
      },
      "outputs": [],
      "source": [
        "a=18\n",
        "if a>18: ###indentation is necessary \n",
        "       print(\"you're eligiable for voting\")### the code should be started below the indenenation"
      ]
    },
    {
      "cell_type": "code",
      "execution_count": null,
      "id": "eebb9d20",
      "metadata": {
        "id": "eebb9d20",
        "outputId": "4d673bdc-5b81-4b37-c1b5-ac9a86fa73a1"
      },
      "outputs": [
        {
          "name": "stdout",
          "output_type": "stream",
          "text": [
            "enter the age21\n",
            "eligible for voting\n"
          ]
        }
      ],
      "source": [
        "a=int(input(\"enter the age\"))\n",
        "if a>18:\n",
        "    print(\"eligible for voting\")\n",
        "else:\n",
        "       print(\"not eligigble\")\n"
      ]
    },
    {
      "cell_type": "code",
      "execution_count": null,
      "id": "ba4e0c5d",
      "metadata": {
        "id": "ba4e0c5d",
        "outputId": "ee0401eb-deab-4bd3-95db-df8760ba0463"
      },
      "outputs": [
        {
          "name": "stdout",
          "output_type": "stream",
          "text": [
            "enter the age18\n",
            "just eligible\n"
          ]
        }
      ],
      "source": [
        "a=int(input(\"enter the age\"))\n",
        "if a>18:\n",
        "    print(\"eligible for voting\")\n",
        "elif a==18:\n",
        "    print(\"just eligible\")\n",
        "else:\n",
        "       print(\"not eligigble\")\n"
      ]
    },
    {
      "cell_type": "code",
      "execution_count": null,
      "id": "6efa0053",
      "metadata": {
        "id": "6efa0053",
        "outputId": "6aac0dcd-ab22-4575-be02-244494a83654"
      },
      "outputs": [
        {
          "name": "stdout",
          "output_type": "stream",
          "text": [
            "enter the number2\n",
            "enter number two3\n",
            "enter the third number9\n",
            "c is max\n"
          ]
        }
      ],
      "source": [
        "a=int(input(\"enter the number\"));b=int(input(\"enter number two\"));c=int(input(\"enter the third number\"))\n",
        "if a>b and a>c:\n",
        "    print(\"a is max\")\n",
        "elif b>a and b>c :\n",
        "    print(\"b is max\")\n",
        "else :\n",
        "    print(\"c is max\")\n",
        "    "
      ]
    },
    {
      "cell_type": "code",
      "execution_count": null,
      "id": "99c26d37",
      "metadata": {
        "id": "99c26d37",
        "outputId": "a9f352e1-7972-487b-ca0c-fd0cb54fcd02"
      },
      "outputs": [
        {
          "name": "stdout",
          "output_type": "stream",
          "text": [
            "enter the number2\n",
            "enter number two3\n",
            "enter the third number6\n",
            "enter the forth number9\n",
            "enter the five number4\n",
            "d is max\n"
          ]
        }
      ],
      "source": [
        "a=int(input(\"enter the number: \"));b=int(input(\"enter number two: \"));c=int(input(\"enter the third number\"));d=int(input(\"enter the forth number\"));e=int(input(\"enter the five number\"))\n",
        "if a>b and a>c and a>d and a>e:\n",
        "    print(\"a is max\")\n",
        "elif b>a and b>c and b>d and b>e:\n",
        "    print(\"b is max\")\n",
        "elif c>a and c>b and c>d and c>e:       \n",
        "    print(\"c is max\")\n",
        "elif d>a and d>b and d>c and d>e:       \n",
        "    print(\"d is max\")\n",
        "else:    \n",
        "    print(\"e is max\")"
      ]
    },
    {
      "cell_type": "code",
      "execution_count": null,
      "id": "9452a7ab",
      "metadata": {
        "id": "9452a7ab",
        "outputId": "f91c44e9-9602-4683-8c3f-99b287560729"
      },
      "outputs": [
        {
          "name": "stdout",
          "output_type": "stream",
          "text": [
            "enter the marks of subjects: 6\n",
            "enter the marks of subjects: : 3\n",
            "enter the marks of subjects: 3\n",
            "enter the marks of subjects: 3\n",
            "enter the marks of the subject3\n",
            "a is max\n"
          ]
        }
      ],
      "source": [
        "a=int(input(\"enter the marks of subjects: \"));b=int(input(\"enter the marks of subjects: : \"));c=int(input(\"enter the marks of subjects: \"));d=int(input(\"enter the marks of subjects: \"));e=int(input(\"enter the marks of the subject\"))\n",
        "if a>b and a>c and a>d and a>e:\n",
        "    print(\"a is max\")\n",
        "elif b>a and b>c and b>d and b>e:\n",
        "    print(\"b is max\")\n",
        "elif c>a and c>b and c>d and c>e:       \n",
        "    print(\"c is max\")\n",
        "elif d>a and d>b and d>c and d>e:       \n",
        "    print(\"d is max\")\n",
        "else:    \n",
        "    print(\"e is max\")"
      ]
    },
    {
      "cell_type": "code",
      "execution_count": null,
      "id": "7110a6c9",
      "metadata": {
        "id": "7110a6c9",
        "outputId": "3a441928-9496-4725-d453-85980e6402a1"
      },
      "outputs": [
        {
          "name": "stdout",
          "output_type": "stream",
          "text": [
            "enter the number9\n",
            "enter the max number18\n",
            "9\n",
            "10\n",
            "11\n",
            "12\n",
            "13\n",
            "14\n",
            "15\n",
            "16\n",
            "17\n"
          ]
        }
      ],
      "source": [
        "a=int(input(\"enter the number\"));b=int(input(\"enter the max number\"))\n",
        "for i in range (a,b):\n",
        "    print (i)\n",
        "        "
      ]
    },
    {
      "cell_type": "code",
      "execution_count": null,
      "id": "3696a901",
      "metadata": {
        "id": "3696a901",
        "outputId": "c0eef45e-730f-4e27-c669-31292063c113"
      },
      "outputs": [
        {
          "name": "stdout",
          "output_type": "stream",
          "text": [
            "enter the number2\n",
            "enter the max number100\n",
            "even number  2\n",
            "even number  4\n",
            "even number  6\n",
            "even number  8\n",
            "even number  10\n",
            "even number  12\n",
            "even number  14\n",
            "even number  16\n",
            "even number  18\n",
            "even number  20\n",
            "even number  22\n",
            "even number  24\n",
            "even number  26\n",
            "even number  28\n",
            "even number  30\n",
            "even number  32\n",
            "even number  34\n",
            "even number  36\n",
            "even number  38\n",
            "even number  40\n",
            "even number  42\n",
            "even number  44\n",
            "even number  46\n",
            "even number  48\n",
            "even number  50\n",
            "even number  52\n",
            "even number  54\n",
            "even number  56\n",
            "even number  58\n",
            "even number  60\n",
            "even number  62\n",
            "even number  64\n",
            "even number  66\n",
            "even number  68\n",
            "even number  70\n",
            "even number  72\n",
            "even number  74\n",
            "even number  76\n",
            "even number  78\n",
            "even number  80\n",
            "even number  82\n",
            "even number  84\n",
            "even number  86\n",
            "even number  88\n",
            "even number  90\n",
            "even number  92\n",
            "even number  94\n",
            "even number  96\n",
            "even number  98\n",
            "odd number  98\n"
          ]
        }
      ],
      "source": [
        "a=int(input(\"enter the number\"));b=int(input(\"enter the max number\"))\n",
        "for i in range (a,b):\n",
        "    if i%2==0:\n",
        "        print(\"even number \",i)\n",
        "else:\n",
        "    print (\"odd number \",i)\n",
        "        "
      ]
    },
    {
      "cell_type": "markdown",
      "id": "1171686a",
      "metadata": {
        "id": "1171686a"
      },
      "source": [
        "## Multi tables\n"
      ]
    },
    {
      "cell_type": "code",
      "execution_count": null,
      "id": "8d90960b",
      "metadata": {
        "id": "8d90960b",
        "outputId": "694e6b19-da52-40d3-afff-822f16b56446"
      },
      "outputs": [
        {
          "name": "stdout",
          "output_type": "stream",
          "text": [
            "enter the number0\n",
            "enter the max number10\n",
            "even number  0\n",
            "even number  2\n",
            "even number  4\n",
            "even number  6\n",
            "even number  8\n",
            "odd number  0\n",
            "odd number  3\n",
            "odd number  6\n",
            "odd number  9\n"
          ]
        }
      ],
      "source": [
        "a=int(input(\"enter the number\"));b=int(input(\"enter the max number\"))\n",
        "for i in range (a,b,2):\n",
        "\n",
        "        print(\"even number \",i)\n",
        "for j in range (a,b,3):\n",
        "\n",
        "    print (\"odd number \",j)\n",
        "        "
      ]
    },
    {
      "cell_type": "code",
      "execution_count": null,
      "id": "99da0c52",
      "metadata": {
        "id": "99da0c52",
        "outputId": "a02b1cb7-baf5-4bf3-b49c-5da663df4279"
      },
      "outputs": [
        {
          "name": "stdout",
          "output_type": "stream",
          "text": [
            "Enter the number to begin with 5\n",
            "enter the max number 9\n",
            "5\n",
            "6\n",
            "7\n",
            "8\n"
          ]
        }
      ],
      "source": [
        "a=int(input(\"Enter the number to begin with \"));b=int(input(\"enter the max number \"))\n",
        "for i in range (a,b):\n",
        "     print(i)"
      ]
    },
    {
      "cell_type": "markdown",
      "id": "e43379f7",
      "metadata": {
        "id": "e43379f7"
      },
      "source": [
        "## Module 2 programs in python\n",
        "\n",
        "\n"
      ]
    },
    {
      "cell_type": "code",
      "execution_count": null,
      "id": "82a1621f",
      "metadata": {
        "id": "82a1621f",
        "outputId": "3523eda2-c821-4ec9-e08d-440807019f6b"
      },
      "outputs": [
        {
          "name": "stdout",
          "output_type": "stream",
          "text": [
            "enter the max number 10\n",
            "enter the first number1\n",
            "55\n"
          ]
        }
      ],
      "source": [
        "a=int(input(\"enter the max number \"));b=int(input(\"enter the first number\"))\n",
        "sum=0\n",
        "while b<=a:\n",
        "    sum=sum+b\n",
        "    b=b+1\n",
        "print(sum)"
      ]
    },
    {
      "cell_type": "code",
      "execution_count": null,
      "id": "6f01d0ff",
      "metadata": {
        "id": "6f01d0ff",
        "outputId": "811235f5-3dcb-49fd-c44a-59e9bbb74dc7"
      },
      "outputs": [
        {
          "name": "stdout",
          "output_type": "stream",
          "text": [
            "enter the first side 5\n",
            "enter the second side5\n",
            "enter the third side5\n",
            "equalilater triangle\n"
          ]
        }
      ],
      "source": [
        "a=int(input(\"enter the first side \"));b=int(input(\"enter the second side\"));c=int(input(\"enter the third side\"))\n",
        "\n",
        "if a==b and a==c and c==a:\n",
        "    \n",
        "    print(\"equalilater triangle\")\n",
        "elif a==b or a==c or  c==a:\n",
        "    \n",
        "    print(\"isoscles trinagle \")\n",
        "else:\n",
        "    print(\"scalen triangle\")\n",
        "    "
      ]
    },
    {
      "cell_type": "code",
      "execution_count": null,
      "id": "f5ef7dbe",
      "metadata": {
        "id": "f5ef7dbe",
        "outputId": "32738c38-1821-4e1e-d470-b3e87dbdf18a"
      },
      "outputs": [
        {
          "name": "stdout",
          "output_type": "stream",
          "text": [
            "enter the year 2022\n",
            "not a leap year\n"
          ]
        }
      ],
      "source": [
        "a=int(input(\"enter the year \"))\n",
        "\n",
        "if a%400==0:\n",
        "    print(\"it is a leap year\")\n",
        "elif a%100==0:\n",
        "    print(\"not a leap year \")\n",
        "elif a%4==0:\n",
        "    print(\"it is a leap year\")\n",
        "else:\n",
        "    print(\"not a leap year\")\n",
        "    "
      ]
    },
    {
      "cell_type": "code",
      "execution_count": null,
      "id": "9c5dd844",
      "metadata": {
        "id": "9c5dd844",
        "outputId": "0b2d6cf8-4fb3-4a85-b0c4-e9928f2f81c6"
      },
      "outputs": [
        {
          "name": "stdout",
          "output_type": "stream",
          "text": [
            "enter the number5\n",
            "enter number two2\n",
            "enter the third number1\n",
            "c is min\n"
          ]
        }
      ],
      "source": [
        "a=int(input(\"enter the number\"));b=int(input(\"enter number two\"));c=int(input(\"enter the third number\"))\n",
        "if a<b and a<c:\n",
        "    print(\"a is min\")\n",
        "elif b<a and b<c :\n",
        "    print(\"b is min\")\n",
        "else :\n",
        "    print(\"c is min\")\n",
        "    "
      ]
    },
    {
      "cell_type": "code",
      "execution_count": null,
      "id": "4372d056",
      "metadata": {
        "id": "4372d056",
        "outputId": "630589ab-4998-47d0-9e67-8055f5e3b0b6"
      },
      "outputs": [
        {
          "name": "stdout",
          "output_type": "stream",
          "text": [
            "enter the  number55\n",
            "the number is divisible by both 5 and 11\n"
          ]
        }
      ],
      "source": [
        "a=int(input(\"enter the  number\"));\n",
        "if a%5==0 and a%11==0:\n",
        "    print(\"the number is divisible by both 5 and 11\")\n",
        "elif a%5==0:\n",
        "    print(\"The number is divisible by 5\")\n",
        "elif a%11==0 :\n",
        "    print(\"The number is divisible by 11\")\n",
        "else :\n",
        "    print(\"The number is not divisible by both\")\n",
        "     \n",
        " \n",
        "  \n"
      ]
    },
    {
      "cell_type": "code",
      "execution_count": null,
      "id": "3e9b2f5e",
      "metadata": {
        "id": "3e9b2f5e",
        "outputId": "352797b2-c015-4dac-92b0-0cb285584c8b"
      },
      "outputs": [
        {
          "name": "stdout",
          "output_type": "stream",
          "text": [
            "enter the number to find factorial for 5\n",
            "120\n"
          ]
        }
      ],
      "source": [
        "a=int(input(\"enter the number to find factorial for \"))\n",
        "fact=1\n",
        "for i in range (1,a+1):\n",
        "    fact=fact*i\n",
        "print(fact)\n"
      ]
    },
    {
      "cell_type": "code",
      "execution_count": null,
      "id": "8a566016",
      "metadata": {
        "id": "8a566016",
        "outputId": "dff1789a-ea57-40a8-8932-1f1164f74b6a"
      },
      "outputs": [
        {
          "name": "stdout",
          "output_type": "stream",
          "text": [
            "enter the number you want to find palindrome for1212\n",
            "not a plaindrome\n"
          ]
        }
      ],
      "source": [
        "a=int(input(\"enter the number you want to find palindrome for\"))\n",
        "rev=0\n",
        "temp=a\n",
        "while temp>0:\n",
        "    rem=temp%10\n",
        "    rev=(rev*10)+rem\n",
        "    temp=temp//10\n",
        "if a==rev:\n",
        "    print(\"palindrome\")\n",
        "else:\n",
        "    print(\"not a plaindrome\")"
      ]
    },
    {
      "cell_type": "code",
      "execution_count": null,
      "id": "1942dc8f",
      "metadata": {
        "id": "1942dc8f",
        "outputId": "93bfbffd-9b99-471b-f38d-59090d9b839c"
      },
      "outputs": [
        {
          "name": "stdout",
          "output_type": "stream",
          "text": [
            "enter number of terms u want to find plandrome for10\n",
            "0 1\n",
            "1\n",
            "2\n",
            "3\n",
            "5\n",
            "8\n",
            "13\n",
            "21\n",
            "34\n",
            "55\n",
            "completion of fibonanci\n"
          ]
        }
      ],
      "source": [
        "a=0;b=1;n=int(input(\"enter number of terms u want to find plandrome for\"))\n",
        "print(a,b)\n",
        "for i in range(1,n):\n",
        "    nextnum=a+b \n",
        "    print(nextnum)\n",
        "    a=b \n",
        "    b=nextnum\n",
        "    i=i+1\n",
        "print(\"completion of fibonanci\")"
      ]
    },
    {
      "cell_type": "markdown",
      "id": "4a1ac88e",
      "metadata": {
        "id": "4a1ac88e"
      },
      "source": [
        "## Lists\n"
      ]
    },
    {
      "cell_type": "code",
      "execution_count": null,
      "id": "4887ec54",
      "metadata": {
        "id": "4887ec54",
        "outputId": "39bbdeb4-6285-4422-8a1e-7654bd4057e9"
      },
      "outputs": [
        {
          "name": "stdout",
          "output_type": "stream",
          "text": [
            "['apple ', 'cherry', 'melon', 'peach', 'berry']\n",
            "apple \n",
            "['apple ', 'cherry', 'melon']\n",
            "melon\n",
            "['apple ', 'cherry', 'melon', 'peach']\n",
            "['peach', 'berry']\n",
            "['cherry', 'melon', 'peach', 'berry']\n"
          ]
        }
      ],
      "source": [
        "fruits =[\"apple \",\"cherry\",\"melon\",\"peach\",\"berry\"]\n",
        "print(fruits)\n",
        "print(fruits[0])#it is used to print index\n",
        "print(fruits[0:3])#intial index and range is a given number \n",
        "print(fruits[-3])\n",
        "print(fruits[:4])#if the imdex is not given it act as zero\n",
        "print(fruits[3:5])\n",
        "print(fruits[1:])"
      ]
    },
    {
      "cell_type": "code",
      "execution_count": null,
      "id": "f309c1da",
      "metadata": {
        "id": "f309c1da",
        "outputId": "b1724653-c619-485e-8fea-7e625e1c35e9"
      },
      "outputs": [
        {
          "name": "stdout",
          "output_type": "stream",
          "text": [
            "['apple ', 'cherry', 'melon', 'peach', 'berry']\n",
            "5\n",
            "['apple ', 'cherry', 'melon', 'peach', 'berry', 'drangon fruit']\n"
          ]
        }
      ],
      "source": [
        "fruits =[\"apple \",\"cherry\",\"melon\",\"peach\",\"berry\"]\n",
        "print(fruits)\n",
        "print(len(fruits))\n",
        "fruits.append(\"drangon fruit\")# to add elements into list \n",
        "print(fruits)"
      ]
    },
    {
      "cell_type": "code",
      "execution_count": null,
      "id": "84376e8e",
      "metadata": {
        "id": "84376e8e",
        "outputId": "36831b11-8264-440b-8a3b-a69ac2fa4068"
      },
      "outputs": [
        {
          "name": "stdout",
          "output_type": "stream",
          "text": [
            "['apple ', 'cherry', 'melon', 'peach', 'berry']\n",
            "5\n",
            "['apple ', 'cherry', 'melon', 'drangon fruit', 'peach', 'berry']\n",
            "6\n"
          ]
        }
      ],
      "source": [
        "fruits =[\"apple \",\"cherry\",\"melon\",\"peach\",\"berry\"]\n",
        "print(fruits)\n",
        "print(len(fruits))\n",
        "fruits.insert(3,\"drangon fruit\")# to add elements with respective to index\n",
        "print(fruits)\n",
        "print(len(fruits))"
      ]
    },
    {
      "cell_type": "code",
      "execution_count": null,
      "id": "23d05705",
      "metadata": {
        "id": "23d05705",
        "outputId": "33c93b4b-f67b-487d-9f48-65e9555b1d4b"
      },
      "outputs": [
        {
          "name": "stdout",
          "output_type": "stream",
          "text": [
            "['apple ', 'cherry', 'melon', 'peach', 'berry', 'potato', 'onion']\n",
            "onion\n",
            "['apple ', 'melon', 'peach', 'berry', 'potato', 'onion']\n"
          ]
        }
      ],
      "source": [
        "fruits =[\"apple \",\"cherry\",\"melon\",\"peach\",\"berry\"]\n",
        "veggies=[\"potato\", \"onion\"]\n",
        "fruits.extend(veggies) # to add elemtns of the another list\n",
        "print(fruits)\n",
        "print(fruits[6])\n",
        "fruits.remove(\"cherry\")# to remove elements from the list\n",
        "print(fruits)"
      ]
    },
    {
      "cell_type": "code",
      "execution_count": null,
      "id": "cb2e29c8",
      "metadata": {
        "id": "cb2e29c8"
      },
      "outputs": [],
      "source": [
        "list = [\"apple\", \"banana\", \"cherry\"]\n",
        "list[2] = \"blackcurrant\"\n",
        "\n",
        "print(list)\n"
      ]
    },
    {
      "cell_type": "code",
      "execution_count": null,
      "id": "a487eb8d",
      "metadata": {
        "id": "a487eb8d",
        "outputId": "d1873d5f-acc6-42c0-cc0d-66952b07c2f3"
      },
      "outputs": [
        {
          "name": "stdout",
          "output_type": "stream",
          "text": [
            "['hp', 'dell', 'lenovo']\n",
            "enter the element name: ohhh\n",
            "['hp', 'dell', 'ohhh', 'lenovo', 'ugh']\n"
          ]
        }
      ],
      "source": [
        "k=[\"hp\",\"dell\",\"lenovo\"]\n",
        "print(k)\n",
        "a=input(\"enter the element name: \")\n",
        "k.insert(2,a)\n",
        "k.append(\"ugh\")\n",
        "print(k)"
      ]
    },
    {
      "cell_type": "code",
      "execution_count": null,
      "id": "77f0cba5",
      "metadata": {
        "id": "77f0cba5",
        "outputId": "51f2e71f-918b-4650-f85e-ca16c706fc28"
      },
      "outputs": [
        {
          "name": "stdout",
          "output_type": "stream",
          "text": [
            "[1, 'kiran', True, 5j]\n",
            "[1, 2, 4, 5]\n",
            "[2, 3, 4]\n",
            "[True, 5j]\n",
            "[5j]\n",
            "[]\n"
          ]
        }
      ],
      "source": [
        "mix=[1,\"kiran\",bool(1),0+5j]\n",
        "k=[1,2,4,5]\n",
        "s=[2,3,4]\n",
        "print(mix)\n",
        "print(k)\n",
        "print(s)\n",
        "mix.pop(0)# pop is used to remove the element by the list\n",
        "mix.remove(\"kiran\")# remove to use to delete certain element\n",
        "print(mix)\n",
        "del mix[0] # del is used to delete the element in the list if the index is mentioned it delte the index value in the list \n",
        "print (mix)\n",
        "del k  # del without given index will delete whole list \n",
        "s.clear()\n",
        "print(s)\n",
        "\n",
        "\n"
      ]
    },
    {
      "cell_type": "code",
      "execution_count": null,
      "id": "e94a522f",
      "metadata": {
        "id": "e94a522f",
        "outputId": "46fa4b89-1572-4337-e8a9-726484df83a4"
      },
      "outputs": [
        {
          "name": "stdout",
          "output_type": "stream",
          "text": [
            "[1, 2, 3, 4, 5, 6, 7]\n",
            "[7, 6, 5, 4, 3, 2, 1]\n",
            "['a', 'i', 'k', 'n', 'r']\n",
            "['r', 'n', 'k', 'i', 'a']\n"
          ]
        }
      ],
      "source": [
        "num=[1,5,3,7,2,4,6]\n",
        "num.sort()#it sorts according to order\n",
        "print(num)\n",
        "num.sort(reverse=True) # reverse=True is used to reverse the list ie: descending order \n",
        "print(num)\n",
        "pp=[\"k\",\"i\",\"r\",\"a\",\"n\"]\n",
        "pp.sort()\n",
        "print(pp)\n",
        "pp.sort(reverse=True)#it also sort alph according to dictionary order\n",
        "print(pp)"
      ]
    },
    {
      "cell_type": "code",
      "execution_count": null,
      "id": "eeb0b1c2",
      "metadata": {
        "id": "eeb0b1c2",
        "outputId": "b92f7709-044c-4b28-cd73-cfb0255ad5ac"
      },
      "outputs": [
        {
          "name": "stdout",
          "output_type": "stream",
          "text": [
            "('a', 'b', 'c')\n"
          ]
        }
      ],
      "source": [
        "t=(\"a\",\"b\",\"c\")# tuple doesn't allow addition of elements\n",
        "print(t)"
      ]
    },
    {
      "cell_type": "code",
      "execution_count": null,
      "id": "f144f6ba",
      "metadata": {
        "id": "f144f6ba",
        "outputId": "b62fc5cf-58a2-4c12-bfb8-ae5937142d99"
      },
      "outputs": [
        {
          "name": "stdout",
          "output_type": "stream",
          "text": [
            "2\n",
            "6\n"
          ]
        }
      ],
      "source": [
        "a=[1,2,3,6,7]\n",
        "for i in range (len(a)):\n",
        "    if a[i]%2==0:\n",
        "          print(a[i])"
      ]
    },
    {
      "cell_type": "code",
      "execution_count": null,
      "id": "c10ca0df",
      "metadata": {
        "id": "c10ca0df",
        "outputId": "3f4b9415-1079-412b-804f-84e69192b8f6"
      },
      "outputs": [
        {
          "name": "stdout",
          "output_type": "stream",
          "text": [
            "enter the numbers: 10\n"
          ]
        },
        {
          "ename": "IndexError",
          "evalue": "list assignment index out of range",
          "output_type": "error",
          "traceback": [
            "\u001b[1;31m---------------------------------------------------------------------------\u001b[0m",
            "\u001b[1;31mIndexError\u001b[0m                                Traceback (most recent call last)",
            "\u001b[1;32m~\\AppData\\Local\\Temp/ipykernel_1828/1138880033.py\u001b[0m in \u001b[0;36m<module>\u001b[1;34m\u001b[0m\n\u001b[0;32m      1\u001b[0m \u001b[0ma\u001b[0m\u001b[1;33m=\u001b[0m\u001b[1;33m[\u001b[0m\u001b[1;33m]\u001b[0m\u001b[1;33m\u001b[0m\u001b[1;33m\u001b[0m\u001b[0m\n\u001b[0;32m      2\u001b[0m \u001b[1;32mfor\u001b[0m \u001b[0mi\u001b[0m \u001b[1;32min\u001b[0m \u001b[0mrange\u001b[0m\u001b[1;33m(\u001b[0m\u001b[1;36m1\u001b[0m\u001b[1;33m,\u001b[0m\u001b[0mn\u001b[0m\u001b[1;33m)\u001b[0m\u001b[1;33m:\u001b[0m\u001b[1;33m\u001b[0m\u001b[1;33m\u001b[0m\u001b[0m\n\u001b[1;32m----> 3\u001b[1;33m     \u001b[0ma\u001b[0m\u001b[1;33m[\u001b[0m\u001b[0mi\u001b[0m\u001b[1;33m]\u001b[0m\u001b[1;33m=\u001b[0m\u001b[0mint\u001b[0m\u001b[1;33m(\u001b[0m\u001b[0minput\u001b[0m\u001b[1;33m(\u001b[0m\u001b[1;34m\"enter the numbers: \"\u001b[0m\u001b[1;33m)\u001b[0m\u001b[1;33m)\u001b[0m\u001b[1;33m\u001b[0m\u001b[1;33m\u001b[0m\u001b[0m\n\u001b[0m\u001b[0;32m      4\u001b[0m     \u001b[1;32mwhile\u001b[0m \u001b[0mlen\u001b[0m\u001b[1;33m(\u001b[0m\u001b[0ma\u001b[0m\u001b[1;33m)\u001b[0m\u001b[1;33m<\u001b[0m\u001b[1;36m10\u001b[0m\u001b[1;33m:\u001b[0m\u001b[1;33m\u001b[0m\u001b[1;33m\u001b[0m\u001b[0m\n\u001b[0;32m      5\u001b[0m         \u001b[0mprint\u001b[0m\u001b[1;33m(\u001b[0m\u001b[0ma\u001b[0m\u001b[1;33m[\u001b[0m\u001b[0mi\u001b[0m\u001b[1;33m]\u001b[0m\u001b[1;33m)\u001b[0m\u001b[1;33m\u001b[0m\u001b[1;33m\u001b[0m\u001b[0m\n",
            "\u001b[1;31mIndexError\u001b[0m: list assignment index out of range"
          ]
        }
      ],
      "source": [
        "a=[]\n",
        "for i in range(1,n):\n",
        "    a[i]=int(input(\"enter the numbers: \"))\n",
        "    while len(a)<10:\n",
        "        print(a[i])\n",
        "        "
      ]
    },
    {
      "cell_type": "code",
      "execution_count": null,
      "id": "7cfaee5f",
      "metadata": {
        "id": "7cfaee5f",
        "outputId": "4786cde5-716c-4a40-cdb9-d335a33f2cb2"
      },
      "outputs": [
        {
          "name": "stdout",
          "output_type": "stream",
          "text": [
            "enter the number4\n",
            "2.0\n"
          ]
        }
      ],
      "source": [
        "import math \n",
        "a=int(input(\"enter the number\"))\n",
        "b=math.sqrt(a)\n",
        "print(b)"
      ]
    },
    {
      "cell_type": "code",
      "execution_count": null,
      "id": "58727fd2",
      "metadata": {
        "id": "58727fd2",
        "outputId": "616f0a4a-e8ac-4726-fc9f-79af3280acb3"
      },
      "outputs": [
        {
          "name": "stdout",
          "output_type": "stream",
          "text": [
            "5\n"
          ]
        }
      ],
      "source": [
        "a=int(5);b=int(3);c=int(2)\n",
        "if a>b and a>c:\n",
        "    print(5)\n",
        "elif b>c and b>a:\n",
        "    print(3)\n",
        "else:\n",
        "    print(2)\n",
        "        "
      ]
    },
    {
      "cell_type": "code",
      "execution_count": null,
      "id": "9a2417c4",
      "metadata": {
        "id": "9a2417c4",
        "outputId": "c064b4e0-0f31-49ec-966c-93281f6cd498"
      },
      "outputs": [
        {
          "name": "stdout",
          "output_type": "stream",
          "text": [
            "Result = 3 2\n"
          ]
        }
      ],
      "source": [
        "a=int(2);b=int(3)\n",
        "temp=a\n",
        "a=b\n",
        "b=temp\n",
        "print(\"Result =\",a,b)\n"
      ]
    },
    {
      "cell_type": "code",
      "execution_count": null,
      "id": "92a5ab06",
      "metadata": {
        "id": "92a5ab06",
        "outputId": "b69b142f-e96d-49cd-fc1f-1ef0ff9bed96"
      },
      "outputs": [
        {
          "name": "stdout",
          "output_type": "stream",
          "text": [
            "['Red', 'Orange', 'Yellow', 'Black', 'Green']\n"
          ]
        }
      ],
      "source": [
        "Rainbow=['Red','Orange','Yellow','Green']\n",
        "Rainbow.insert(3,'Black')\n",
        "print(Rainbow)"
      ]
    },
    {
      "cell_type": "code",
      "execution_count": null,
      "id": "6625644a",
      "metadata": {
        "id": "6625644a",
        "outputId": "b02f58a1-7c98-4912-de39-613467e78688"
      },
      "outputs": [
        {
          "name": "stdout",
          "output_type": "stream",
          "text": [
            "1\n",
            "2\n",
            "3\n",
            "7\n",
            "8\n"
          ]
        }
      ],
      "source": [
        "a=[1,7,3,8,2]\n",
        "a.sort()\n",
        "for x in a:\n",
        "    print(x)"
      ]
    },
    {
      "cell_type": "code",
      "execution_count": null,
      "id": "f443215d",
      "metadata": {
        "id": "f443215d",
        "outputId": "697d9120-2584-4b74-c61a-531b76a1aae1"
      },
      "outputs": [
        {
          "name": "stdout",
          "output_type": "stream",
          "text": [
            "['123a500', '5a9874']\n"
          ]
        }
      ],
      "source": [
        "list = [\"123a500\", \"0b02222\", \"5a9874\", \"7c8924\", \"8d79654\"]\n",
        "newlist = []\n",
        "\n",
        "for x in list:\n",
        "    if \"a\" in x:\n",
        "        newlist.append(x)\n",
        "\n",
        "print(newlist)\n"
      ]
    },
    {
      "cell_type": "markdown",
      "id": "5b91e735",
      "metadata": {
        "id": "5b91e735"
      },
      "source": [
        "# STRING"
      ]
    },
    {
      "cell_type": "code",
      "execution_count": null,
      "id": "0dc6db04",
      "metadata": {
        "id": "0dc6db04",
        "outputId": "77ca9f8c-f417-4823-e52d-9b797c884964"
      },
      "outputs": [
        {
          "name": "stdout",
          "output_type": "stream",
          "text": [
            "kiran\n",
            "i\n",
            "o\n",
            "5\n"
          ]
        }
      ],
      "source": [
        "a=\"kiran\"\n",
        "print(a)\n",
        "print(a[1])\n",
        "b=\"hello\"\n",
        "print(b[4])\n",
        "print(len(b))"
      ]
    },
    {
      "cell_type": "code",
      "execution_count": null,
      "id": "d6f4b0cf",
      "metadata": {
        "id": "d6f4b0cf",
        "outputId": "b463bb42-39af-486a-87ff-7b55f3cb2800"
      },
      "outputs": [
        {
          "name": "stdout",
          "output_type": "stream",
          "text": [
            "True\n",
            "False\n",
            "False\n"
          ]
        }
      ],
      "source": [
        "a=\"hello retard your life is miserable if you're reading this\"\n",
        "print(\"this\" in a)\n",
        "print(\"xz\" in a)\n",
        "print(\"hello\" not in a)"
      ]
    },
    {
      "cell_type": "markdown",
      "id": "df8766c6",
      "metadata": {
        "id": "df8766c6"
      },
      "source": [
        "## slicing"
      ]
    },
    {
      "cell_type": "code",
      "execution_count": null,
      "id": "4443adcb",
      "metadata": {
        "id": "4443adcb",
        "outputId": "c5f3bf5b-0e12-482e-8107-ca13a9288666"
      },
      "outputs": [
        {
          "name": "stdout",
          "output_type": "stream",
          "text": [
            "el\n"
          ]
        }
      ],
      "source": [
        "a=\"hello retard your life is miserable if you're reading this\"\n",
        "print(a[1:3])"
      ]
    },
    {
      "cell_type": "markdown",
      "id": "4fe23377",
      "metadata": {
        "id": "4fe23377"
      },
      "source": [
        "## modifing string"
      ]
    },
    {
      "cell_type": "code",
      "execution_count": null,
      "id": "a463bf5f",
      "metadata": {
        "id": "a463bf5f",
        "outputId": "e0e8c9a5-7087-41d0-ea64-ea48b8d580fa"
      },
      "outputs": [
        {
          "name": "stdout",
          "output_type": "stream",
          "text": [
            "HELLO RETARD YOUR LIFE IS MISERABLE IF YOU'RE READING THIS\n",
            "retard\n"
          ]
        }
      ],
      "source": [
        "a=\"hello retard your life is miserable if you're reading this\"\n",
        "print(a.upper())\n",
        "b=\"RETARD\"\n",
        "print(b.lower())"
      ]
    },
    {
      "cell_type": "code",
      "execution_count": null,
      "id": "d8d27a44",
      "metadata": {
        "id": "d8d27a44",
        "outputId": "3a05223a-37d4-47f2-d866-c8450fce5dc5"
      },
      "outputs": [
        {
          "name": "stdout",
          "output_type": "stream",
          "text": [
            "your life is miserable\n"
          ]
        }
      ],
      "source": [
        "a=\"    your life is miserable\"\n",
        "print(a.strip())## removes the space at starting"
      ]
    },
    {
      "cell_type": "code",
      "execution_count": null,
      "id": "a291ca85",
      "metadata": {
        "id": "a291ca85",
        "outputId": "8f4c1de3-edd9-4b52-a89a-52bcce43e65f"
      },
      "outputs": [
        {
          "name": "stdout",
          "output_type": "stream",
          "text": [
            "your life is miserable\n"
          ]
        }
      ],
      "source": [
        "a=\"your life is Life\"\n",
        "print(a.replace(\"Life\",\"miserable\"))## replace the variable we want to change"
      ]
    },
    {
      "cell_type": "code",
      "execution_count": null,
      "id": "7a25b5f9",
      "metadata": {
        "id": "7a25b5f9",
        "outputId": "1aab9ec1-2dc0-4c4f-b53d-0243cf60faad"
      },
      "outputs": [
        {
          "name": "stdout",
          "output_type": "stream",
          "text": [
            "['your', 'life', 'is', 'miserable']\n"
          ]
        }
      ],
      "source": [
        "a=\" your life is miserable\"\n",
        "print(a.split())## splits the elements"
      ]
    },
    {
      "cell_type": "code",
      "execution_count": null,
      "id": "bf74b8c6",
      "metadata": {
        "id": "bf74b8c6",
        "outputId": "81b4e4f4-9900-45ea-b971-a08bc3467ba1"
      },
      "outputs": [
        {
          "name": "stdout",
          "output_type": "stream",
          "text": [
            "yourlifeismiserable\n",
            "your life is miserable\n"
          ]
        }
      ],
      "source": [
        "a=\"your\"\n",
        "b=\"life\"\n",
        "c=\"is\"\n",
        "d=\"miserable\"\n",
        "k=a+b+c+d\n",
        "m=a+\" \"+b+\" \"+c+\" \"+d\n",
        "print(k)\n",
        "print(m)\n"
      ]
    },
    {
      "cell_type": "code",
      "execution_count": null,
      "id": "51446621",
      "metadata": {
        "id": "51446621",
        "outputId": "7a04c01c-5641-4efa-9802-2963afead645"
      },
      "outputs": [
        {
          "name": "stdout",
          "output_type": "stream",
          "text": [
            "your life is miserable, and you'll die at 21\n"
          ]
        }
      ],
      "source": [
        "age=21\n",
        "txt=\"your life is miserable, and you'll die at {}\"\n",
        "print(txt.format(age))## the format is used to convert integers"
      ]
    },
    {
      "cell_type": "code",
      "execution_count": null,
      "id": "61bab29d",
      "metadata": {
        "id": "61bab29d",
        "outputId": "c1774752-c26d-4e9f-b5c7-2689da7ada76"
      },
      "outputs": [
        {
          "name": "stdout",
          "output_type": "stream",
          "text": [
            "your life is miserable you get paid 1000kk, and you'll die at 21\n"
          ]
        }
      ],
      "source": [
        "age=21\n",
        "earn=\"1000k\"\n",
        "txt=\"your life is miserable you get paid {1}, and you'll die at {0}\"\n",
        "print(txt.format(age,earn))"
      ]
    },
    {
      "cell_type": "code",
      "execution_count": null,
      "id": "7c246589",
      "metadata": {
        "id": "7c246589",
        "outputId": "4342de9b-28cb-4c8d-8950-c5728cf0d7bf"
      },
      "outputs": [
        {
          "name": "stdout",
          "output_type": "stream",
          "text": [
            "your life is \"miserable\" retard\n",
            "you're a retard\n"
          ]
        }
      ],
      "source": [
        "txt=\"your life is \\\"miserable\\\" retard\"\n",
        "a='you\\'re a retard'\n",
        "b=\n",
        "print(txt)##\\txt\\ is used to seperate\n",
        "print(a)"
      ]
    },
    {
      "cell_type": "code",
      "execution_count": null,
      "id": "dbe95023",
      "metadata": {
        "id": "dbe95023",
        "outputId": "2ba1f4d8-8ddd-41e9-f80c-624a8c779caf"
      },
      "outputs": [
        {
          "name": "stdout",
          "output_type": "stream",
          "text": [
            "your life is  \btrash\n",
            "your life is\n",
            "trash\n",
            "your life is\ttrash\n"
          ]
        }
      ],
      "source": [
        "a=\"your life is  \\btrash\"\n",
        "b=\"your life is\\ntrash\"\n",
        "c=\"your life is\\ttrash\"\n",
        "print(a)\n",
        "print(b)\n",
        "print(c)"
      ]
    },
    {
      "cell_type": "code",
      "execution_count": null,
      "id": "50f4a2de",
      "metadata": {
        "id": "50f4a2de"
      },
      "outputs": [],
      "source": [
        "a=\"retard\"\n",
        "b=\"Retard\"\n",
        "c=\"retard is a retard you retard\"\n",
        "print(a.capitalize())\n",
        "print(b.casefold())\n",
        "print(b.center(10))\n",
        "print(c.count(\"retard\"))\n",
        "print(c.endswith(\"retard\"))\n",
        "print(c.)\n"
      ]
    },
    {
      "cell_type": "markdown",
      "id": "4752c658",
      "metadata": {
        "id": "4752c658"
      },
      "source": [
        "1.)cd (filename)/\n",
        "   ls               # it shows complete projects in projects\n",
        "2.)cd foldername/   # it goes to the coressponding\n",
        "   ls               # it shows the list of files inside the folder \n",
        "3.)cat filename.py\n",
        "   go to console and click run\n",
        "   \n",
        "   \n",
        "* when your doing programs in txt files save the format with .txt\n",
        "* echo \"kiran\" >filename.txt\n",
        "* cat filename.txt\n"
      ]
    },
    {
      "cell_type": "markdown",
      "id": "398c3fd2",
      "metadata": {
        "id": "398c3fd2"
      },
      "source": [
        "## module-1\n"
      ]
    },
    {
      "cell_type": "code",
      "execution_count": null,
      "id": "a52f83af",
      "metadata": {
        "id": "a52f83af",
        "outputId": "88a26c2a-e3cb-4840-d6d8-c8b075925b4d"
      },
      "outputs": [
        {
          "name": "stdout",
          "output_type": "stream",
          "text": [
            "Enter something : oooooo\n",
            "You entered oooooo\n"
          ]
        }
      ],
      "source": [
        "variable = input('Enter something : ')\n",
        "print('You entered '+variable)"
      ]
    },
    {
      "cell_type": "code",
      "execution_count": null,
      "id": "1a5f516e",
      "metadata": {
        "id": "1a5f516e",
        "outputId": "c1501df7-09ad-49ee-d626-a428e33dcc1c"
      },
      "outputs": [
        {
          "name": "stdout",
          "output_type": "stream",
          "text": [
            "Enter an integer : 555\n",
            "Type of the variable taken is  <class 'int'>\n",
            "You entered 555\n",
            "You entered 555\n",
            "You entered 555\n"
          ]
        }
      ],
      "source": [
        "variable = int(input(\"Enter an integer : \")) #int to make sure that we are getting integer input.\n",
        "print('Type of the variable taken is ',type(variable))\n",
        "print('You entered '+str(variable)) # Here we are changing variable back into str to add with string.\n",
        "print(f'You entered {variable}') # formatted string\n",
        "print('You entered',variable)\n",
        "#If we enter value of any other datatype,ValueError occurs."
      ]
    },
    {
      "cell_type": "code",
      "execution_count": null,
      "id": "693e7d00",
      "metadata": {
        "id": "693e7d00",
        "outputId": "ba76185f-2337-496c-b131-395662d50499"
      },
      "outputs": [
        {
          "name": "stdout",
          "output_type": "stream",
          "text": [
            "Number: 1234\n",
            "String: string\n",
            "Float: 12.34\n",
            "Boolean: True\n",
            "Complex: (1-4j)\n",
            "Float (again) : 1e+101\n"
          ]
        }
      ],
      "source": [
        "a1 = 1234\n",
        "a2 = 'string'\n",
        "a3 = 12.34\n",
        "a4 = True\n",
        "a5 = -4j+1\n",
        "a6 = 10e100  #type is float\n",
        "print('Number: {}\\nString: {}\\nFloat: {}\\nBoolean: {}\\nComplex: {}\\nFloat (again) : {}'.format(a1,a2,a3,a4,a5,a6))"
      ]
    },
    {
      "cell_type": "code",
      "execution_count": null,
      "id": "b10c7c02",
      "metadata": {
        "id": "b10c7c02",
        "outputId": "3d1358d3-03e1-4089-f02c-e11d540ef9af"
      },
      "outputs": [
        {
          "name": "stdout",
          "output_type": "stream",
          "text": [
            "enter the number you want to find palindrome for555444441122\n",
            "not a plaindrome\n"
          ]
        }
      ],
      "source": [
        "a=int(input(\"enter the number you want to find palindrome for\"))\n",
        "rev=0\n",
        "temp=a\n",
        "while temp>0:\n",
        "    rem=temp%10\n",
        "    rev=(rev*10)+rem\n",
        "    temp=temp//10\n",
        "if a==rev:\n",
        "    print(\"palindrome\")\n",
        "else:\n",
        "    print(\"not a plaindrome\")"
      ]
    },
    {
      "cell_type": "code",
      "execution_count": null,
      "id": "cdb3fe3e",
      "metadata": {
        "id": "cdb3fe3e",
        "outputId": "408282f4-1574-4e73-dc46-dbc8e9d8cec1"
      },
      "outputs": [
        {
          "name": "stdout",
          "output_type": "stream",
          "text": [
            "enter the number145\n",
            "145\n",
            "yes it is strong number\n"
          ]
        }
      ],
      "source": [
        "#strong number\n",
        "a=int(input(\"enter the number\"))\n",
        "sum=0\n",
        "temp=a\n",
        "while temp>0:\n",
        "    fact=1\n",
        "    i=1\n",
        "    rem=temp%10\n",
        "    while i<=rem: \n",
        "        fact=fact*i\n",
        "        i=i+1\n",
        "    sum=sum+fact \n",
        "    temp=temp//10\n",
        "print(sum)\n",
        "if a==sum:\n",
        "    print(\"yes it is strong number\")\n",
        "else:\n",
        "    print(\"no\")"
      ]
    },
    {
      "cell_type": "code",
      "execution_count": null,
      "id": "5bc37993",
      "metadata": {
        "id": "5bc37993",
        "outputId": "222a2e57-48f3-4504-a888-f99c89594694"
      },
      "outputs": [
        {
          "name": "stdout",
          "output_type": "stream",
          "text": [
            "enter the number6\n",
            "perfect number\n"
          ]
        }
      ],
      "source": [
        "a=int(input(\"enter the number\"))\n",
        "sum=0\n",
        "for i in range (1,a):\n",
        "    if a%i==0:\n",
        "        sum=sum+i\n",
        "if sum==a:\n",
        "        print(\"perfect number\")\n",
        "else:\n",
        "        print(\"not a perfect number\")"
      ]
    },
    {
      "cell_type": "code",
      "execution_count": null,
      "id": "fe55d0dc",
      "metadata": {
        "id": "fe55d0dc",
        "outputId": "8fcca532-3883-4bac-d62e-7644bdfd3d27"
      },
      "outputs": [
        {
          "name": "stdout",
          "output_type": "stream",
          "text": [
            "enter the number1\n"
          ]
        }
      ],
      "source": [
        "a=int(input(\"enter the number\"))\n",
        "#importing math module\n",
        "import math"
      ]
    },
    {
      "cell_type": "code",
      "execution_count": null,
      "id": "1877aabb",
      "metadata": {
        "id": "1877aabb",
        "outputId": "a83989ae-0c17-4897-80e1-a99714f7aba0"
      },
      "outputs": [
        {
          "name": "stdout",
          "output_type": "stream",
          "text": [
            "enter the number4\n",
            "124\n",
            "123\n",
            "81.0\n",
            "9.0\n",
            "5.66\n",
            "1.0\n",
            "2\n",
            "-99\n"
          ]
        }
      ],
      "source": [
        "a=int(input(\"enter the number\"))\n",
        "#importing math module\n",
        "import math\n",
        "#using math.ceil\n",
        "sample_num=123.456\n",
        "print(math.ceil(sample_num))\n",
        "#using math.floor\n",
        "sample_num=123.456\n",
        "print (math.floor(sample_num))\n",
        "#using math.pow\n",
        "print(math.pow(9,2))\n",
        "#using math.sqrt\n",
        "print (math.sqrt(81))\n",
        "print (math.fabs(5.66))\n",
        "print (math.fmod(10,3))\n",
        "print(math.trunc(2.77))\n",
        "print(math.trunc(-99.29))\n",
        "\n"
      ]
    },
    {
      "cell_type": "code",
      "execution_count": null,
      "id": "8b34d53d",
      "metadata": {
        "id": "8b34d53d",
        "outputId": "41be6d9c-c3e3-4624-a1ed-a3df5ed9469d"
      },
      "outputs": [
        {
          "name": "stdout",
          "output_type": "stream",
          "text": [
            "enter the principal amount6000\n",
            "enter the intrest amount13\n",
            "amount of years3\n",
            "1 yr interst si is  780\n",
            "1 yr interst ci is  6779.999999999999\n",
            "2 yr interst si is  1560\n",
            "2 yr interst ci is  7661.399999999998\n",
            "3 yr interst si is  2340\n",
            "3 yr interst ci is  8657.381999999998\n",
            "4 yr interst si is  3120\n",
            "4 yr interst ci is  9782.841659999996\n",
            "5 yr interst si is  3900\n",
            "5 yr interst ci is  11054.611075799994\n",
            "6 yr interst si is  4680\n",
            "6 yr interst ci is  12491.710515653993\n",
            "7 yr interst si is  5460\n",
            "7 yr interst ci is  14115.632882689011\n"
          ]
        }
      ],
      "source": [
        "p=int(input(\"enter the principal amount\"))\n",
        "r=int(input(\"enter the intrest amount\"))\n",
        "t=int(input(\"amount of years\"))\n",
        "for i in range(1,t+1):\n",
        "    si=(p*i*r)//100\n",
        "    print(i,\"yr interst si is \",si)\n",
        "    ci=p*(math.pow(1+r/100,i))\n",
        "    print(i,\"yr interst ci is \",ci)"
      ]
    },
    {
      "cell_type": "markdown",
      "id": "719ffd01",
      "metadata": {
        "id": "719ffd01"
      },
      "source": [
        "# TUPLE\n"
      ]
    },
    {
      "cell_type": "code",
      "execution_count": null,
      "id": "7930c4f3",
      "metadata": {
        "id": "7930c4f3",
        "outputId": "6d0c2653-3861-4e67-89aa-dd083944b7ca"
      },
      "outputs": [
        {
          "name": "stdout",
          "output_type": "stream",
          "text": [
            "['hello', 'dead', 'bye', 'apple']\n"
          ]
        }
      ],
      "source": [
        "a=(\"hi\",\"hello\",\"apple\")\n",
        "b=list(a)\n",
        "b.append(\"bye\")\n",
        "b.insert(1,\"dead\")\n",
        "b.remove(\"hi\")\n",
        "b.sort(reverse=True)\n",
        "print(b)"
      ]
    },
    {
      "cell_type": "code",
      "execution_count": null,
      "id": "833b711e",
      "metadata": {
        "id": "833b711e",
        "outputId": "28aa93eb-f9d2-495d-d02c-71233c621f13"
      },
      "outputs": [
        {
          "name": "stdout",
          "output_type": "stream",
          "text": [
            "('apple',)\n",
            "('apple', 'die')\n"
          ]
        }
      ],
      "source": [
        "a=(\"apple\",)## used to create a tuple variable\n",
        "print(a)\n",
        "b=(\"die\",)\n",
        "c=a+b\n",
        "print(c)"
      ]
    },
    {
      "cell_type": "code",
      "execution_count": null,
      "id": "4ae99327",
      "metadata": {
        "id": "4ae99327",
        "outputId": "d86c7723-03eb-44a3-f36c-a5723819cf27"
      },
      "outputs": [
        {
          "name": "stdout",
          "output_type": "stream",
          "text": [
            "die hi bye\n"
          ]
        }
      ],
      "source": [
        "a=(\"hi\",\"bye\",\"die\")\n",
        "(wolf,fox,deer)=a\n",
        "print(deer,wolf,fox)"
      ]
    },
    {
      "cell_type": "code",
      "execution_count": null,
      "id": "f0bb8673",
      "metadata": {
        "id": "f0bb8673",
        "outputId": "59da9323-88b8-4d9d-ff1a-990339b026a9"
      },
      "outputs": [
        {
          "name": "stdout",
          "output_type": "stream",
          "text": [
            "hi\n",
            "bye die\n",
            "hell\n"
          ]
        }
      ],
      "source": [
        "a=(\"hi\",\"bye\",\"die\",\"hell\")\n",
        "(jin,*skkkk,kikk)=a\n",
        "print(jin)\n",
        "print(*skkkk)\n",
        "print(kikk)\n"
      ]
    },
    {
      "cell_type": "code",
      "execution_count": null,
      "id": "d0d9f7a1",
      "metadata": {
        "id": "d0d9f7a1",
        "outputId": "3a845712-8903-4a27-8058-2ffbd97d4270"
      },
      "outputs": [
        {
          "name": "stdout",
          "output_type": "stream",
          "text": [
            "1=\"addition\",2=\"subtraction\",3=\"multiplication\",4=\"division\"\n",
            "enter any number upto 44\n",
            "0.6666666666666666\n"
          ]
        }
      ],
      "source": [
        "a=2\n",
        "b=3\n",
        "print('1=\"addition\",2=\"subtraction\",3=\"multiplication\",4=\"division\"')\n",
        "c=int(input(\"enter any number upto 4\"))\n",
        "if c==1:\n",
        "     print(a+b)\n",
        "elif c==2:\n",
        "    print(a-b)\n",
        "elif c==3:\n",
        "    print(a*b)\n",
        "elif c==4:\n",
        "    print(a/b)\n",
        "else:\n",
        "    print(invalid)"
      ]
    },
    {
      "cell_type": "code",
      "execution_count": null,
      "id": "c8af8af7",
      "metadata": {
        "id": "c8af8af7",
        "outputId": "c6763485-ecb3-49b4-f57a-f6a1abc24fa7"
      },
      "outputs": [
        {
          "name": "stdout",
          "output_type": "stream",
          "text": [
            "Enter 1st number: 15\n",
            "Enter 2nd number: 5\n",
            "GCD is 10\n"
          ]
        }
      ],
      "source": [
        "#Compute GCD of two given numbers.\n",
        "num1 = int(input(\"Enter 1st number: \"))\n",
        "num2 = int(input(\"Enter 2nd number: \"))\n",
        "gcd=i\n",
        "while (i <= num1 and i <= num2):\n",
        "  if(num1 % i == 0 and num2 % i == 0):\n",
        "   \n",
        "   i=i + 1\n",
        "print(\"GCD is\",gcd)\n"
      ]
    },
    {
      "cell_type": "markdown",
      "id": "624e843f",
      "metadata": {
        "id": "624e843f"
      },
      "source": [
        "# sets\n"
      ]
    },
    {
      "cell_type": "code",
      "execution_count": null,
      "id": "cc065551",
      "metadata": {
        "id": "cc065551",
        "outputId": "734c12ee-0d95-48a7-f7d2-1cf5241a446d"
      },
      "outputs": [
        {
          "name": "stdout",
          "output_type": "stream",
          "text": [
            "{1, 2, 3, 4, 5}\n"
          ]
        }
      ],
      "source": [
        "a={1,2,3,4,4,4,3,3,5}##duplicates are not allowed in sets\n",
        "print(a)"
      ]
    },
    {
      "cell_type": "code",
      "execution_count": null,
      "id": "c947f8e8",
      "metadata": {
        "id": "c947f8e8",
        "outputId": "84309c83-f35f-494b-8905-c8487ba8f103"
      },
      "outputs": [
        {
          "name": "stdout",
          "output_type": "stream",
          "text": [
            "<class 'set'> 6\n"
          ]
        }
      ],
      "source": [
        "a={1,2,3,4,4,4,5,5,5,6}\n",
        "print(type(a),len(a))"
      ]
    },
    {
      "cell_type": "code",
      "execution_count": null,
      "id": "cba98440",
      "metadata": {
        "id": "cba98440",
        "outputId": "7c87bcb7-5aa9-40ad-9fc4-7c5d257cf9f0"
      },
      "outputs": [
        {
          "name": "stdout",
          "output_type": "stream",
          "text": [
            "1\n",
            "2\n",
            "3\n",
            "4\n",
            "5\n"
          ]
        }
      ],
      "source": [
        "a={1,2,3,4,5,5,5}\n",
        "for x in a:\n",
        "    print(x)"
      ]
    },
    {
      "cell_type": "code",
      "execution_count": null,
      "id": "2728d46c",
      "metadata": {
        "id": "2728d46c",
        "outputId": "57970ec2-e377-4cac-9d2b-7c9331ee6b55"
      },
      "outputs": [
        {
          "name": "stdout",
          "output_type": "stream",
          "text": [
            "{1, 2, 3, 4, 5, 99}\n"
          ]
        }
      ],
      "source": [
        "a={1,2,3,4,5,5,5}\n",
        "a.add(99)### used for addition of elements\n",
        "print(a)"
      ]
    },
    {
      "cell_type": "code",
      "execution_count": null,
      "id": "8f028cee",
      "metadata": {
        "id": "8f028cee",
        "outputId": "a0affb75-184c-4574-c35e-6e4821276da0"
      },
      "outputs": [
        {
          "name": "stdout",
          "output_type": "stream",
          "text": [
            "{'a', 'number', 'wrong', 'thats', 'sike'}\n"
          ]
        }
      ],
      "source": [
        "a={\"sike\",\"thats\"}\n",
        "b={\"a\",\"wrong\"}\n",
        "c={\"number\"}\n",
        "a.update(b)## update is udes to join the lists\n",
        "a.update(c)\n",
        "print(a)"
      ]
    },
    {
      "cell_type": "code",
      "execution_count": null,
      "id": "78ff765a",
      "metadata": {
        "id": "78ff765a",
        "outputId": "8c314d67-7e62-49d9-ea94-17ef14488d41"
      },
      "outputs": [
        {
          "name": "stdout",
          "output_type": "stream",
          "text": [
            "{1, 2, 3, 4, 5}\n",
            "1\n",
            "set()\n"
          ]
        }
      ],
      "source": [
        "a={1,2,3,4,5,6,6,6}\n",
        "a.remove(6)### remove will raise error if its not present\n",
        "a.discard(7)### discard will not rasie a error if its not present\n",
        "print(a)\n",
        "b=a.pop()### this removes element and stores in b\n",
        "print(b)\n",
        "a.clear()###this clear the set\n",
        "print(a)\n",
        "del a### this deleted the set \n"
      ]
    },
    {
      "cell_type": "code",
      "execution_count": null,
      "id": "40094f8a",
      "metadata": {
        "id": "40094f8a",
        "outputId": "8986777b-25bd-4320-dba9-4f2fde8fddc2"
      },
      "outputs": [
        {
          "name": "stdout",
          "output_type": "stream",
          "text": [
            "{1, 2, 3, 4, 5, 6, 'b', 'd', 'a', 'c'}\n",
            "{1, 2, 3, 4, 5}\n"
          ]
        }
      ],
      "source": [
        "a={1,2,3,4,5,5,5,5,5,5,5,5,5,5,5,5,5,5,5,5,5,5,5,5,5,5,5,5}\n",
        "b={\"a\",\"b\",\"c\",\"d\",1,6}\n",
        "c=a.union(b)### combines all the elements\n",
        "print(c)\n",
        "a.intersection(b) ### only shows the common element\n",
        "print(a)"
      ]
    },
    {
      "cell_type": "code",
      "execution_count": null,
      "id": "04976203",
      "metadata": {
        "id": "04976203",
        "outputId": "411d6001-f86b-4fc6-b9c3-b772bd0e5217"
      },
      "outputs": [
        {
          "name": "stdout",
          "output_type": "stream",
          "text": [
            "{1, 2, 3, 4}\n"
          ]
        }
      ],
      "source": [
        "a={1,2,3,4,4,4,4,4,4,4,4}\n",
        "b=a.copy() ### copys the elemens of the set\n",
        "print(b)"
      ]
    },
    {
      "cell_type": "code",
      "execution_count": null,
      "id": "be1c0cc7",
      "metadata": {
        "id": "be1c0cc7",
        "outputId": "cf218e38-3400-47af-f9ae-0e1883e13942"
      },
      "outputs": [
        {
          "name": "stdout",
          "output_type": "stream",
          "text": [
            "False\n",
            "False\n",
            "False\n"
          ]
        }
      ],
      "source": [
        "a={1,2,3,4,5,5,5,5,6,6,6,6}\n",
        "b={1,3,6,8,9}\n",
        "print(a.isdisjoint(b))\n",
        "print(b.issubset(a))\n",
        "print(a.issuperset(b))"
      ]
    },
    {
      "cell_type": "code",
      "execution_count": null,
      "id": "561ec00f",
      "metadata": {
        "id": "561ec00f",
        "outputId": "c877aa38-df56-474e-a1e5-e4241c13a84a"
      },
      "outputs": [
        {
          "name": "stdout",
          "output_type": "stream",
          "text": [
            "{'ooooo', 'bye', 'f', 'skkskks'}\n"
          ]
        }
      ],
      "source": [
        "a= {\"hi\", \"skkskks\", \"ooooo\"}\n",
        "b = {\"bye\",\"f\", \"hi\"}\n",
        "\n",
        "c = a.symmetric_difference(b) \n",
        "\n",
        "print(c)\n"
      ]
    },
    {
      "cell_type": "markdown",
      "id": "a9f5e695",
      "metadata": {
        "id": "a9f5e695"
      },
      "source": [
        "# Dictionary"
      ]
    },
    {
      "cell_type": "code",
      "execution_count": null,
      "id": "7914c9a0",
      "metadata": {
        "id": "7914c9a0",
        "outputId": "75cdc26e-3ae5-400a-a48f-0271b7c6b392"
      },
      "outputs": [
        {
          "name": "stdout",
          "output_type": "stream",
          "text": [
            "{'team': 'mercedes amg ', 'model': 'w13', 'electric': False, 'year': 2022}\n",
            "<class 'dict'>\n"
          ]
        }
      ],
      "source": [
        "a ={\n",
        "  \"team\": \"mercedes amg \", ###format for buliding the sets\n",
        "  \"model\": \"w13\",\n",
        "  \"electric\": False,\n",
        "  \"year\": 2022\n",
        "}\n",
        "print(a)\n",
        "print(type(a))\n"
      ]
    },
    {
      "cell_type": "code",
      "execution_count": null,
      "id": "290f816c",
      "metadata": {
        "id": "290f816c",
        "outputId": "a0478e51-cc59-48f2-d0b8-740469c755df"
      },
      "outputs": [
        {
          "name": "stdout",
          "output_type": "stream",
          "text": [
            "mercedes amg \n",
            "w13\n",
            "3\n"
          ]
        }
      ],
      "source": [
        "a={\n",
        "  \"team\": \"mercedes amg \", ###format for buliding the sets\n",
        "  \"model\": \"w13\",\n",
        "  \"year\": 2022\n",
        "}\n",
        "print(a[\"team\"])\n",
        "print(a[\"model\"])\n",
        "print(len(a))  ### shows the len of the dic"
      ]
    },
    {
      "cell_type": "code",
      "execution_count": null,
      "id": "b5187ee7",
      "metadata": {
        "id": "b5187ee7",
        "outputId": "4a8d1fc8-b2ba-495d-a3d9-3f47c88d871c"
      },
      "outputs": [
        {
          "name": "stdout",
          "output_type": "stream",
          "text": [
            "mercedes amg  w13\n"
          ]
        }
      ],
      "source": [
        "a={\n",
        "  \"team\": \"mercedes amg \", ###format for buliding the sets\n",
        "  \"model\": \"w13\",\n",
        "  \"year\": 2022\n",
        "}\n",
        "b=a[\"team\"]\n",
        "c=a.get(\"model\")\n",
        "print(b,c)"
      ]
    },
    {
      "cell_type": "code",
      "execution_count": null,
      "id": "968e20c9",
      "metadata": {
        "id": "968e20c9",
        "outputId": "14d83bf8-9e82-4f67-f923-c327e7a73d84"
      },
      "outputs": [
        {
          "name": "stdout",
          "output_type": "stream",
          "text": [
            "dict_keys(['team', 'model', 'year'])\n",
            "{'team': 'mercedes amg ', 'model': 'w13', 'year': 2022, 'drivers': 'lewis,russel'}\n"
          ]
        }
      ],
      "source": [
        "a={\n",
        "  \"team\": \"mercedes amg \", ###format for buliding the sets\n",
        "  \"model\": \"w13\",\n",
        "  \"year\": 2022\n",
        "}\n",
        "print(a.keys()) ### THIS IS THE KEYS function used to display all the key words\n",
        "a[\"drivers\"]=\"lewis,russel\"\n",
        "print(a)"
      ]
    },
    {
      "cell_type": "code",
      "execution_count": null,
      "id": "ac929cf4",
      "metadata": {
        "id": "ac929cf4",
        "outputId": "27e52c8f-f6d1-4239-a7a9-96465389020a"
      },
      "outputs": [
        {
          "name": "stdout",
          "output_type": "stream",
          "text": [
            "dict_values(['mercedes amg ', 'w13', 2022])\n",
            "{'team': 'mercedes amg ', 'model': 'w13', 'year': 2021}\n"
          ]
        }
      ],
      "source": [
        "a={\n",
        "  \"team\": \"mercedes amg \", ###format for buliding the sets\n",
        "  \"model\": \"w13\",\n",
        "  \"year\": 2022\n",
        "}\n",
        "print(a.values())\n",
        "a[\"year\"]=2021 \n",
        "print(a)"
      ]
    },
    {
      "cell_type": "code",
      "execution_count": null,
      "id": "106d0097",
      "metadata": {
        "id": "106d0097",
        "outputId": "ec66ed4b-b535-4ab0-9009-693a5a970fcf"
      },
      "outputs": [
        {
          "name": "stdout",
          "output_type": "stream",
          "text": [
            "okay\n"
          ]
        }
      ],
      "source": [
        "a={\n",
        "  \"team\": \"mercedes amg \",\n",
        "  \"model\": \"w13\",\n",
        "  \"year\": 2022\n",
        "}\n",
        "if \"team\" in a:\n",
        "       print(\"okay\")"
      ]
    },
    {
      "cell_type": "code",
      "execution_count": null,
      "id": "c545b86f",
      "metadata": {
        "id": "c545b86f",
        "outputId": "beab7c08-9195-405a-e8bf-0e4c54cbf56e"
      },
      "outputs": [
        {
          "name": "stdout",
          "output_type": "stream",
          "text": [
            "{'team': 'mercedes amg ', 'model': 'w13', 'year': 2022, 'driver': 'lewis'}\n",
            "{'team': 'mercedes amg ', 'model': 'w13', 'year': 2022, 'driver': 'lewis', 'age': 37}\n"
          ]
        }
      ],
      "source": [
        "a={\n",
        "  \"team\": \"mercedes amg \",\n",
        "  \"model\": \"w13\",\n",
        "  \"year\": 2022\n",
        "}\n",
        "a.update({\"driver\":\"lewis\"}) ### it is used to update the list\n",
        "print(a)\n",
        "a.update ({\"age\":37}) ### it is also used to update the list \n",
        "print(a)"
      ]
    },
    {
      "cell_type": "code",
      "execution_count": null,
      "id": "96f5aedb",
      "metadata": {
        "id": "96f5aedb",
        "outputId": "24f6e5e1-6d31-44fc-e6c0-6cc2e891760d"
      },
      "outputs": [
        {
          "name": "stdout",
          "output_type": "stream",
          "text": [
            "{'team': 'mercedes amg ', 'model': 'w13'}\n"
          ]
        }
      ],
      "source": [
        "a={\n",
        "  \"team\": \"mercedes amg \",\n",
        "  \"model\": \"w13\",\n",
        "  \"year\": 2022\n",
        "}\n",
        "a.pop(\"year\") ### this is used to remove the elements from the sets\n",
        "print(a)"
      ]
    },
    {
      "cell_type": "code",
      "execution_count": null,
      "id": "d0cef17e",
      "metadata": {
        "id": "d0cef17e",
        "outputId": "15f3dd00-e679-4bc8-ccb8-a204423c414c"
      },
      "outputs": [
        {
          "name": "stdout",
          "output_type": "stream",
          "text": [
            "('team', 'mercedes amg ')\n",
            "('model', 'w13')\n",
            "('year', 2022)\n"
          ]
        }
      ],
      "source": [
        "a={\n",
        "  \"team\": \"mercedes amg \",\n",
        "  \"model\": \"w13\",\n",
        "  \"year\": 2022\n",
        "}\n",
        "for x in a.items():\n",
        "    print(x)"
      ]
    },
    {
      "cell_type": "code",
      "execution_count": null,
      "id": "356bacb8",
      "metadata": {
        "id": "356bacb8",
        "outputId": "1c1c4c4b-daf2-4cc2-c04d-3713f875d26f"
      },
      "outputs": [
        {
          "name": "stdout",
          "output_type": "stream",
          "text": [
            "team\n",
            "model\n",
            "year\n"
          ]
        }
      ],
      "source": [
        "a={\n",
        "  \"team\": \"mercedes amg \",\n",
        "  \"model\": \"w13\",\n",
        "  \"year\": 2022\n",
        "}\n",
        "for x in a.keys():\n",
        "    print(x)"
      ]
    },
    {
      "cell_type": "code",
      "execution_count": null,
      "id": "8a253f27",
      "metadata": {
        "id": "8a253f27",
        "outputId": "df52cb79-bf9b-4010-e2da-94ccedb823e3"
      },
      "outputs": [
        {
          "name": "stdout",
          "output_type": "stream",
          "text": [
            "{'team': 'mercedes amg ', 'model': 'w13', 'year': 2022}\n"
          ]
        }
      ],
      "source": [
        "a={\n",
        "  \"team\": \"mercedes amg \",\n",
        "  \"model\": \"w13\",\n",
        "  \"year\": 2022\n",
        "}\n",
        "b=dict(a)\n",
        "print(b)"
      ]
    },
    {
      "cell_type": "code",
      "execution_count": null,
      "id": "88db4b33",
      "metadata": {
        "id": "88db4b33",
        "outputId": "e4a574f1-d567-4af2-ae81-d9b807419f78"
      },
      "outputs": [
        {
          "name": "stdout",
          "output_type": "stream",
          "text": [
            "{'team': 'mercedes amg ', 'model': 'w13', 'year': 2022}\n"
          ]
        }
      ],
      "source": [
        "a={\n",
        "  \"team\": \"mercedes amg \",\n",
        "  \"model\": \"w13\",\n",
        "  \"year\": 2022\n",
        "}\n",
        "b=a.copy()\n",
        "print(b)"
      ]
    },
    {
      "cell_type": "code",
      "execution_count": null,
      "id": "9a60e0ea",
      "metadata": {
        "id": "9a60e0ea",
        "outputId": "04944405-d279-4c9c-dab3-fccf60a5fb90"
      },
      "outputs": [
        {
          "name": "stdout",
          "output_type": "stream",
          "text": [
            "{'paddock1': {'team': 'mercedes amg ', 'model': 'w13', 'year': 2022}, 'paddock2': {'team': 'red bull ', 'model': 'rb11', 'year': 2021}, 'paddock3': {'team': 'ferrari ', 'model': 'sf', 'year': 2020}}\n"
          ]
        }
      ],
      "source": [
        "f1={\n",
        "  \"paddock1\" :{  \n",
        "  \"team\": \"mercedes amg \",\n",
        "  \"model\": \"w13\",\n",
        "  \"year\": 2022\n",
        "  },\n",
        "    \n",
        "\"paddock2\":{\n",
        "   \n",
        "  \"team\": \"red bull \",\n",
        "  \"model\": \"rb11\",\n",
        "  \"year\": 2021\n",
        "},\n",
        "\"paddock3\":{\n",
        " \n",
        "  \"team\": \"ferrari \",\n",
        "  \"model\": \"sf\",\n",
        "  \"year\": 2020\n",
        "}\n",
        "}    \n",
        "print(f1)\n",
        "\n",
        "\n",
        "  \n"
      ]
    },
    {
      "cell_type": "code",
      "execution_count": null,
      "id": "81aa3efd",
      "metadata": {
        "id": "81aa3efd",
        "outputId": "b44b2244-3e15-4ddb-a029-99d9e4915a46"
      },
      "outputs": [
        {
          "name": "stdout",
          "output_type": "stream",
          "text": [
            "lewis\n"
          ]
        }
      ],
      "source": [
        "a={\n",
        "  \"team\": \"mercedes amg \",\n",
        "  \"model\": \"w13\",\n",
        "  \"year\": 2022\n",
        "}\n",
        "x=a.setdefault(\"driver\",\"lewis\")\n",
        "print(x)"
      ]
    },
    {
      "cell_type": "code",
      "execution_count": null,
      "id": "24341533",
      "metadata": {
        "id": "24341533",
        "outputId": "74195d95-7155-4e70-bf00-5c52b69b9cac"
      },
      "outputs": [
        {
          "name": "stdout",
          "output_type": "stream",
          "text": [
            "{'Black', 'Yellow'}\n"
          ]
        }
      ],
      "source": [
        "set1 = {\"Yellow\", \"Orange\", \"Black\"}\n",
        "set2 = {\"Orange\", \"Blue\", \"Pink\"}\n",
        "\n",
        "set1.difference_update(set2)\n",
        "print(set1)"
      ]
    },
    {
      "cell_type": "code",
      "execution_count": null,
      "id": "40e4a94a",
      "metadata": {
        "id": "40e4a94a",
        "outputId": "7ec92f1b-2043-4617-8d60-d5262c947ccd"
      },
      "outputs": [
        {
          "ename": "SyntaxError",
          "evalue": "invalid syntax (Temp/ipykernel_5800/4142306853.py, line 2)",
          "output_type": "error",
          "traceback": [
            "\u001b[1;36m  File \u001b[1;32m\"C:\\Users\\CSE22004\\AppData\\Local\\Temp/ipykernel_5800/4142306853.py\"\u001b[1;36m, line \u001b[1;32m2\u001b[0m\n\u001b[1;33m    Output :\u001b[0m\n\u001b[1;37m            ^\u001b[0m\n\u001b[1;31mSyntaxError\u001b[0m\u001b[1;31m:\u001b[0m invalid syntax\n"
          ]
        }
      ],
      "source": [
        "a = \"    Hello World \"\n",
        "Output :\n",
        "a = \" Hello World \""
      ]
    },
    {
      "cell_type": "code",
      "execution_count": null,
      "id": "6e15a4b6",
      "metadata": {
        "id": "6e15a4b6",
        "outputId": "1255de15-69e4-48c2-88be-0779ca340890"
      },
      "outputs": [
        {
          "ename": "TypeError",
          "evalue": "'set' object does not support item deletion",
          "output_type": "error",
          "traceback": [
            "\u001b[1;31m---------------------------------------------------------------------------\u001b[0m",
            "\u001b[1;31mTypeError\u001b[0m                                 Traceback (most recent call last)",
            "\u001b[1;32m~\\AppData\\Local\\Temp/ipykernel_1640/3174307539.py\u001b[0m in \u001b[0;36m<module>\u001b[1;34m\u001b[0m\n\u001b[0;32m      1\u001b[0m \u001b[0msampleSet\u001b[0m \u001b[1;33m=\u001b[0m \u001b[1;33m{\u001b[0m\u001b[1;34m\"Yellow\"\u001b[0m\u001b[1;33m,\u001b[0m \u001b[1;34m\"Orange\"\u001b[0m\u001b[1;33m,\u001b[0m \u001b[1;34m\"Black\"\u001b[0m\u001b[1;33m}\u001b[0m\u001b[1;33m\u001b[0m\u001b[1;33m\u001b[0m\u001b[0m\n\u001b[1;32m----> 2\u001b[1;33m \u001b[1;32mdel\u001b[0m \u001b[0msampleSet\u001b[0m \u001b[1;33m[\u001b[0m\u001b[1;34m\"Orange\"\u001b[0m\u001b[1;33m]\u001b[0m\u001b[1;33m\u001b[0m\u001b[1;33m\u001b[0m\u001b[0m\n\u001b[0m",
            "\u001b[1;31mTypeError\u001b[0m: 'set' object does not support item deletion"
          ]
        }
      ],
      "source": [
        "sampleSet = {\"Yellow\", \"Orange\", \"Black\"}\n",
        "del sampleSet [\"Orange\"]"
      ]
    },
    {
      "cell_type": "code",
      "execution_count": null,
      "id": "b2e32feb",
      "metadata": {
        "id": "b2e32feb",
        "outputId": "ee8b7ae3-6f8b-4805-eb99-96a19b2f80de"
      },
      "outputs": [
        {
          "name": "stdout",
          "output_type": "stream",
          "text": [
            "format\n"
          ]
        }
      ],
      "source": [
        "a=\"information\"\n",
        "print(a[2:8])"
      ]
    },
    {
      "cell_type": "markdown",
      "id": "cbafd602",
      "metadata": {
        "id": "cbafd602"
      },
      "source": [
        "# Functions\n",
        "\n"
      ]
    },
    {
      "cell_type": "code",
      "execution_count": null,
      "id": "890f6049",
      "metadata": {
        "id": "890f6049",
        "outputId": "b56992e0-8fc5-4122-db2b-c47feeb331d2"
      },
      "outputs": [
        {
          "name": "stdout",
          "output_type": "stream",
          "text": [
            "hello\n"
          ]
        }
      ],
      "source": [
        "def kiran():\n",
        "    print(\"hello\")\n",
        "kiran()"
      ]
    },
    {
      "cell_type": "code",
      "execution_count": null,
      "id": "b7907c43",
      "metadata": {
        "id": "b7907c43",
        "outputId": "87bf043a-05a2-4804-ae42-bd6c08892c52"
      },
      "outputs": [
        {
          "name": "stdout",
          "output_type": "stream",
          "text": [
            "mentally retarded\n",
            "physically retarded\n",
            "your retarded\n"
          ]
        }
      ],
      "source": [
        "def kiran(hi):\n",
        "    print( hi +\" \"+\"retarded\")\n",
        "kiran(\"mentally\")\n",
        "kiran(\"physically\")\n",
        "kiran(\"your\")"
      ]
    },
    {
      "cell_type": "code",
      "execution_count": null,
      "id": "be96fbe7",
      "metadata": {
        "id": "be96fbe7",
        "outputId": "2dbfbe7e-19d6-4264-e9ff-49acc8bb5aef"
      },
      "outputs": [
        {
          "name": "stdout",
          "output_type": "stream",
          "text": [
            "hello 23\n",
            "yeet 13\n"
          ]
        }
      ],
      "source": [
        "def kiran(hi,bye):\n",
        "    print(hi,bye)\n",
        "kiran(\"hello\",23)\n",
        "kiran(\"yeet\",13)\n"
      ]
    },
    {
      "cell_type": "code",
      "execution_count": null,
      "id": "38587982",
      "metadata": {
        "id": "38587982",
        "outputId": "50aecbcd-72a0-48f1-f27a-62a93fed5a87"
      },
      "outputs": [
        {
          "name": "stdout",
          "output_type": "stream",
          "text": [
            ":/ hi\n"
          ]
        }
      ],
      "source": [
        "def kiran(*f):\n",
        "    print(\":/\"+\" \"+f[0])\n",
        "kiran(\"hi\",\"bye\",\"1\",\"23\")#only strings are accepted not int"
      ]
    },
    {
      "cell_type": "code",
      "execution_count": null,
      "id": "6a4a3061",
      "metadata": {
        "id": "6a4a3061",
        "outputId": "f2c61834-0cab-45fe-9aad-0c2faa94c2fa"
      },
      "outputs": [
        {
          "name": "stdout",
          "output_type": "stream",
          "text": [
            "2\n"
          ]
        }
      ],
      "source": [
        "def kiran(hi,hello,bye):\n",
        "    print(bye)\n",
        "kiran(hi=\"F\",hello=3,bye=2) "
      ]
    },
    {
      "cell_type": "code",
      "execution_count": null,
      "id": "39a85796",
      "metadata": {
        "id": "39a85796",
        "outputId": "3c7f645b-b431-45aa-f61a-106900271f57"
      },
      "outputs": [
        {
          "name": "stdout",
          "output_type": "stream",
          "text": [
            "h2\n",
            "3 2\n"
          ]
        }
      ],
      "source": [
        "def kiran(**sksk):\n",
        "    print(\"h\" + sksk[\"bye\"])\n",
        "kiran(hi=\"F\",hello=\"3\",bye=\"2\")     \n",
        "\n",
        "def kiran(**sksk):\n",
        "    print(3,sksk[\"bye\"])\n",
        "kiran(hi=\"F\",hello=3,bye=2)     "
      ]
    },
    {
      "cell_type": "code",
      "execution_count": null,
      "id": "7f6d2299",
      "metadata": {
        "id": "7f6d2299",
        "outputId": "2525b6e8-977a-409f-b0fa-8225f3f95a1b"
      },
      "outputs": [
        {
          "ename": "TypeError",
          "evalue": "can only concatenate str (not \"int\") to str",
          "output_type": "error",
          "traceback": [
            "\u001b[1;31m---------------------------------------------------------------------------\u001b[0m",
            "\u001b[1;31mTypeError\u001b[0m                                 Traceback (most recent call last)",
            "\u001b[1;32m~\\AppData\\Local\\Temp/ipykernel_1640/778526278.py\u001b[0m in \u001b[0;36m<module>\u001b[1;34m\u001b[0m\n\u001b[0;32m      1\u001b[0m \u001b[1;32mdef\u001b[0m \u001b[0mkiran\u001b[0m\u001b[1;33m(\u001b[0m\u001b[1;33m**\u001b[0m\u001b[0msksk\u001b[0m\u001b[1;33m)\u001b[0m\u001b[1;33m:\u001b[0m\u001b[1;33m\u001b[0m\u001b[1;33m\u001b[0m\u001b[0m\n\u001b[0;32m      2\u001b[0m     \u001b[0mprint\u001b[0m\u001b[1;33m(\u001b[0m\u001b[1;34m\"h\"\u001b[0m \u001b[1;33m+\u001b[0m \u001b[0msksk\u001b[0m\u001b[1;33m[\u001b[0m\u001b[1;34m\"bye\"\u001b[0m\u001b[1;33m]\u001b[0m\u001b[1;33m)\u001b[0m\u001b[1;33m\u001b[0m\u001b[1;33m\u001b[0m\u001b[0m\n\u001b[1;32m----> 3\u001b[1;33m \u001b[0mkiran\u001b[0m\u001b[1;33m(\u001b[0m\u001b[0mhi\u001b[0m\u001b[1;33m=\u001b[0m\u001b[1;34m\"F\"\u001b[0m\u001b[1;33m,\u001b[0m\u001b[0mhello\u001b[0m\u001b[1;33m=\u001b[0m\u001b[1;36m3\u001b[0m\u001b[1;33m,\u001b[0m\u001b[0mbye\u001b[0m\u001b[1;33m=\u001b[0m\u001b[1;36m2\u001b[0m\u001b[1;33m)\u001b[0m  \u001b[1;31m## we can't get a output when str declared in print and int other\u001b[0m\u001b[1;33m\u001b[0m\u001b[1;33m\u001b[0m\u001b[0m\n\u001b[0m",
            "\u001b[1;32m~\\AppData\\Local\\Temp/ipykernel_1640/778526278.py\u001b[0m in \u001b[0;36mkiran\u001b[1;34m(**sksk)\u001b[0m\n\u001b[0;32m      1\u001b[0m \u001b[1;32mdef\u001b[0m \u001b[0mkiran\u001b[0m\u001b[1;33m(\u001b[0m\u001b[1;33m**\u001b[0m\u001b[0msksk\u001b[0m\u001b[1;33m)\u001b[0m\u001b[1;33m:\u001b[0m\u001b[1;33m\u001b[0m\u001b[1;33m\u001b[0m\u001b[0m\n\u001b[1;32m----> 2\u001b[1;33m     \u001b[0mprint\u001b[0m\u001b[1;33m(\u001b[0m\u001b[1;34m\"h\"\u001b[0m \u001b[1;33m+\u001b[0m \u001b[0msksk\u001b[0m\u001b[1;33m[\u001b[0m\u001b[1;34m\"bye\"\u001b[0m\u001b[1;33m]\u001b[0m\u001b[1;33m)\u001b[0m\u001b[1;33m\u001b[0m\u001b[1;33m\u001b[0m\u001b[0m\n\u001b[0m\u001b[0;32m      3\u001b[0m \u001b[0mkiran\u001b[0m\u001b[1;33m(\u001b[0m\u001b[0mhi\u001b[0m\u001b[1;33m=\u001b[0m\u001b[1;34m\"F\"\u001b[0m\u001b[1;33m,\u001b[0m\u001b[0mhello\u001b[0m\u001b[1;33m=\u001b[0m\u001b[1;36m3\u001b[0m\u001b[1;33m,\u001b[0m\u001b[0mbye\u001b[0m\u001b[1;33m=\u001b[0m\u001b[1;36m2\u001b[0m\u001b[1;33m)\u001b[0m  \u001b[1;31m## we can't get a output when str declared in print and int other\u001b[0m\u001b[1;33m\u001b[0m\u001b[1;33m\u001b[0m\u001b[0m\n",
            "\u001b[1;31mTypeError\u001b[0m: can only concatenate str (not \"int\") to str"
          ]
        }
      ],
      "source": [
        "def kiran(**sksk):\n",
        "    print(\"h\" + sksk[\"bye\"])\n",
        "kiran(hi=\"F\",hello=3,bye=2)  ## we can't get a output when str declared in print and int other   "
      ]
    },
    {
      "cell_type": "code",
      "execution_count": null,
      "id": "351dc829",
      "metadata": {
        "id": "351dc829",
        "outputId": "88947dce-714c-4124-fa54-2ee233d82a19"
      },
      "outputs": [
        {
          "name": "stdout",
          "output_type": "stream",
          "text": [
            "bye\n",
            "yeet\n",
            "sike\n"
          ]
        }
      ],
      "source": [
        "def kiran (hi=\"bye\"):\n",
        "    print(hi)\n",
        "kiran()\n",
        "kiran(\"yeet\")\n",
        "kiran(\"sike\")\n"
      ]
    },
    {
      "cell_type": "code",
      "execution_count": null,
      "id": "ea78f760",
      "metadata": {
        "id": "ea78f760",
        "outputId": "35c64cae-295a-41fb-a61c-a6dd66c53003"
      },
      "outputs": [
        {
          "name": "stdout",
          "output_type": "stream",
          "text": [
            "bye\n",
            "yeet\n"
          ]
        }
      ],
      "source": [
        "def kiran(HI):\n",
        "    for k in HI:\n",
        "        print(k)\n",
        "HI=[\"bye\",\"yeet\"]\n",
        "kiran(HI)"
      ]
    },
    {
      "cell_type": "code",
      "execution_count": null,
      "id": "5f706c5f",
      "metadata": {
        "id": "5f706c5f",
        "outputId": "760aaed8-4595-4876-9edf-408779db3584"
      },
      "outputs": [
        {
          "name": "stdout",
          "output_type": "stream",
          "text": [
            "4\n",
            "5\n",
            "-2\n",
            "hi\n"
          ]
        }
      ],
      "source": [
        "def sum(s,k):\n",
        "    return s+k\n",
        "print(sum(1,3))\n",
        "print(sum(2,3))\n",
        "\n",
        "def sum(s,k):\n",
        "    return s-k\n",
        "print(sum(1,3))\n",
        "\n",
        "def k(s):\n",
        "    return s\n",
        "print(k(\"hi\"))"
      ]
    },
    {
      "cell_type": "code",
      "execution_count": null,
      "id": "c0a07a9d",
      "metadata": {
        "id": "c0a07a9d",
        "outputId": "4c74f648-f362-4805-c06d-a3d7c602b78c"
      },
      "outputs": [
        {
          "name": "stdout",
          "output_type": "stream",
          "text": [
            "the lower values 5\n",
            "higher values 2\n"
          ]
        }
      ],
      "source": [
        "def kou(a):\n",
        "    u=0;l=0\n",
        "    for x in a :\n",
        "        \n",
        "        if x.isupper():\n",
        "            u=u+1\n",
        "            \n",
        "        else:\n",
        "            l=l+1\n",
        "    print(\"the lower values\",l)\n",
        "    print(\"higher values\",u)\n",
        "kou(\"KousHik\")"
      ]
    },
    {
      "cell_type": "markdown",
      "id": "921f8825",
      "metadata": {
        "id": "921f8825"
      },
      "source": [
        "# Module-2"
      ]
    },
    {
      "cell_type": "code",
      "execution_count": null,
      "id": "2250a64d",
      "metadata": {
        "id": "2250a64d",
        "outputId": "dba45d06-211b-41f1-f447-269754d00938"
      },
      "outputs": [
        {
          "name": "stdout",
          "output_type": "stream",
          "text": [
            "the string of length 2 is 2\n"
          ]
        }
      ],
      "source": [
        "a=['abc', 'xyz', 'aba', '1221']\n",
        "c=0\n",
        "for x in a :\n",
        "    if len(x)>=2:\n",
        "        if x[0]==x[-1]:\n",
        "            c=c+1\n",
        "print(\"the string of length 2 is\",c)"
      ]
    },
    {
      "cell_type": "code",
      "execution_count": null,
      "id": "b30fd4db",
      "metadata": {
        "id": "b30fd4db",
        "outputId": "369637f2-5a1a-4432-8226-3caa1547caa4"
      },
      "outputs": [
        {
          "name": "stdout",
          "output_type": "stream",
          "text": [
            "enter the value of n: 5\n",
            "enter the value of r: 100\n",
            "1.2858123457505603e-156\n"
          ]
        }
      ],
      "source": [
        "def ncr(n,r):\n",
        "    return fact(n)/(fact(r)*fact(n-r))\n",
        "def fact(n):\n",
        "    fact=1\n",
        "    for i in range(1,n+1):\n",
        "        fact=fact*i\n",
        "    return fact\n",
        "a=int(input(\"enter the value of n: \"))\n",
        "b=int(input(\"enter the value of r: \"))\n",
        "print(ncr(a,b))"
      ]
    },
    {
      "cell_type": "code",
      "execution_count": null,
      "id": "399a371c",
      "metadata": {
        "id": "399a371c",
        "outputId": "0f8cdf39-ddeb-4f88-8fbb-69c3e334ba67"
      },
      "outputs": [
        {
          "name": "stdout",
          "output_type": "stream",
          "text": [
            "enter the range6\n",
            "{0: 0, 1: 1, 2: 4, 3: 9, 4: 16, 5: 25, 6: 36}\n",
            "6\n",
            "0\n"
          ]
        }
      ],
      "source": [
        "a=dict()\n",
        "b=int(input(\"enter the range\"))\n",
        "for x in range(b+1):\n",
        "    a[x]=x*x\n",
        "print(a)"
      ]
    },
    {
      "cell_type": "code",
      "execution_count": null,
      "id": "572fe894",
      "metadata": {
        "id": "572fe894",
        "outputId": "b6b795b5-a90d-435b-f62e-8582912e6810"
      },
      "outputs": [
        {
          "name": "stdout",
          "output_type": "stream",
          "text": [
            "6 1\n"
          ]
        }
      ],
      "source": [
        "a={\n",
        "    1,2,4,5,6\n",
        "}\n",
        "print(max(a),min(a))"
      ]
    },
    {
      "cell_type": "code",
      "execution_count": null,
      "id": "55baa7ad",
      "metadata": {
        "id": "55baa7ad",
        "outputId": "133fe96f-0225-4c9f-df53-e7244f7c1a87"
      },
      "outputs": [
        {
          "name": "stdout",
          "output_type": "stream",
          "text": [
            "['hi', 'hello']\n",
            " he\n"
          ]
        }
      ],
      "source": [
        "a=\"hi hello\"\n",
        "print(a.split())\n",
        "print(a[2:5])"
      ]
    },
    {
      "cell_type": "code",
      "execution_count": null,
      "id": "627baeaf",
      "metadata": {
        "id": "627baeaf",
        "outputId": "4cb2df89-e168-445f-8362-e5e6961d55e3"
      },
      "outputs": [
        {
          "name": "stdout",
          "output_type": "stream",
          "text": [
            "koushikabckiran\n"
          ]
        }
      ],
      "source": [
        "\n",
        "print(\"koushik\",end='abc')\n",
        "print(\"kiran\")"
      ]
    },
    {
      "cell_type": "code",
      "execution_count": null,
      "id": "9079028d",
      "metadata": {
        "id": "9079028d",
        "outputId": "201d1107-dcfe-49da-c7d9-e7aeb8faaea1"
      },
      "outputs": [
        {
          "name": "stdout",
          "output_type": "stream",
          "text": [
            "enter the commandroll\n",
            "3\n",
            "6\n",
            "5\n",
            "3\n",
            "2\n",
            "6\n"
          ]
        }
      ],
      "source": [
        "import random\n",
        "a=input(\"enter the command\")\n",
        "if \"roll\"==a:\n",
        "    for x in range(6):\n",
        "        a=random.randint(1,6)\n",
        "        print(a)"
      ]
    },
    {
      "cell_type": "code",
      "execution_count": null,
      "id": "ae00249b",
      "metadata": {
        "id": "ae00249b",
        "outputId": "fb4b9b3a-f528-4416-f710-05dd1d1133ea"
      },
      "outputs": [
        {
          "name": "stdout",
          "output_type": "stream",
          "text": [
            "enter thr first number: 5\n",
            "enter the second number: 2\n",
            "product is:  10\n"
          ]
        }
      ],
      "source": [
        "def product(s,k):\n",
        "    if(s<k):\n",
        "        return product(k,s)\n",
        "    elif(k!=0):\n",
        "        return(s+product(s,k-1))\n",
        "    else:\n",
        "        return 0\n",
        "s=int(input(\"enter thr first number: \"))\n",
        "k=int(input(\"enter the second number: \"))\n",
        "print(\"product is: \",product(s,k))"
      ]
    },
    {
      "cell_type": "code",
      "execution_count": null,
      "id": "22d16f8d",
      "metadata": {
        "id": "22d16f8d",
        "outputId": "80a9d6d1-2fab-454d-8d64-eb568e0f4373"
      },
      "outputs": [
        {
          "name": "stdout",
          "output_type": "stream",
          "text": [
            "enter number of terms: 6\n",
            "fibo\n",
            "0\n",
            "1\n",
            "1\n",
            "2\n",
            "3\n",
            "5\n"
          ]
        }
      ],
      "source": [
        "def fibo(n):\n",
        "    if n<=1:\n",
        "        return n\n",
        "    else:\n",
        "        return(fibo(n-1)+(fibo(n-2)))\n",
        "nterms = int(input(\"enter number of terms: \"))\n",
        "if nterms<=0:\n",
        "               print(\"enter any postive values: \")\n",
        "else:\n",
        "    print(\"fibo\")\n",
        "for i in range(nterms):\n",
        "            print(fibo(i))\n",
        "               "
      ]
    },
    {
      "cell_type": "code",
      "execution_count": null,
      "id": "46faabc9",
      "metadata": {
        "id": "46faabc9",
        "outputId": "b98562d7-767c-406d-a986-afd2234ddbc8"
      },
      "outputs": [
        {
          "name": "stdout",
          "output_type": "stream",
          "text": [
            "enter the amount of number's5\n",
            "{1: 1, 2: 4, 3: 9, 4: 16, 5: 25}\n"
          ]
        }
      ],
      "source": [
        "b=int(input(\"enter the amount of number's\"))\n",
        "a=dict()\n",
        "for x in range(1,b+1):\n",
        "    a[x]=x*x\n",
        "print(a)"
      ]
    },
    {
      "cell_type": "code",
      "execution_count": null,
      "id": "aa38db47",
      "metadata": {
        "id": "aa38db47",
        "outputId": "bf520370-db79-45df-e1a6-00ab4ce13205"
      },
      "outputs": [
        {
          "name": "stdout",
          "output_type": "stream",
          "text": [
            "['hi,bye,hello']\n",
            ",by\n"
          ]
        }
      ],
      "source": [
        "a=\"hi,bye,hello\"\n",
        "print(a.split())\n",
        "print(a[2:5])"
      ]
    },
    {
      "cell_type": "code",
      "execution_count": null,
      "id": "ede10b2b",
      "metadata": {
        "id": "ede10b2b",
        "outputId": "3b104901-92c7-4e87-a580-5de2c61ae244"
      },
      "outputs": [
        {
          "name": "stdout",
          "output_type": "stream",
          "text": [
            "4 2\n"
          ]
        }
      ],
      "source": [
        "a=[1,2,3,4,5]\n",
        "a.sort(reverse=True)\n",
        "print(a[1],a[-2])"
      ]
    },
    {
      "cell_type": "code",
      "execution_count": null,
      "id": "571c415e",
      "metadata": {
        "id": "571c415e",
        "outputId": "d8d24222-f78d-4f52-c533-10ce8a240da4"
      },
      "outputs": [
        {
          "name": "stdout",
          "output_type": "stream",
          "text": [
            "['Green', 'White', 'Black', 'Yellow']\n"
          ]
        }
      ],
      "source": [
        "list= ['Red', 'Green', 'White', 'Black', 'Pink', 'Yellow'] \n",
        "list.pop(0)\n",
        "list.pop(3)\n",
        "list.pop()\n",
        "print(list)"
      ]
    },
    {
      "cell_type": "code",
      "execution_count": null,
      "id": "bbf92c23",
      "metadata": {
        "id": "bbf92c23",
        "outputId": "e3e97152-362e-4dbc-adb2-6e440697aadc"
      },
      "outputs": [
        {
          "name": "stdout",
          "output_type": "stream",
          "text": [
            "Hi\n",
            "Okay\n",
            "End\n"
          ]
        }
      ],
      "source": [
        "a=\"hi okay end\"\n",
        "for x in a.split():\n",
        "  print(x.capitalize())"
      ]
    },
    {
      "cell_type": "code",
      "execution_count": null,
      "id": "1c93c6f4",
      "metadata": {
        "id": "1c93c6f4",
        "outputId": "d78d4b2f-992e-48a4-8ddc-a6f39504441d"
      },
      "outputs": [
        {
          "name": "stdout",
          "output_type": "stream",
          "text": [
            "hi\n",
            "okay\n"
          ]
        }
      ],
      "source": [
        "a=\"hi okay bye emo\"\n",
        "b=[2,4,6,8,10,12,14,16,18,20]\n",
        "for x in a.split():\n",
        "  if len(x) in b:\n",
        "    print (x)"
      ]
    },
    {
      "cell_type": "code",
      "execution_count": null,
      "id": "d88f4b21",
      "metadata": {
        "id": "d88f4b21",
        "outputId": "cc1de508-1fed-46b2-c2b0-b3f2a151b8d0"
      },
      "outputs": [
        {
          "name": "stdout",
          "output_type": "stream",
          "text": [
            "enter number8\n",
            "true\n"
          ]
        }
      ],
      "source": [
        "f1=0;f2=1\n",
        "a=[0,1]\n",
        "for i in range (100):\n",
        "  next=f1+f2\n",
        "  f1=f2\n",
        "  f2=next \n",
        "  a.append(next)\n",
        "fin=int(input(\"enter number\"))\n",
        "if fin in a:\n",
        "  print(\"true\")\n",
        "else:\n",
        "  print(\"false\")"
      ]
    },
    {
      "cell_type": "code",
      "execution_count": null,
      "id": "5932ef87",
      "metadata": {
        "id": "5932ef87",
        "outputId": "76a0fe5a-e0e9-4d16-caab-fd607fa005be"
      },
      "outputs": [
        {
          "name": "stdout",
          "output_type": "stream",
          "text": [
            "enter the number: 13\n",
            "enter correct choice\n"
          ]
        }
      ],
      "source": [
        "a=int(input(\"enter the number: \"))\n",
        "b=[4,6,9,11]\n",
        "if a==2:\n",
        "  print(\"28/29\")\n",
        "elif a in b:\n",
        "  print(\"30\")\n",
        "elif a>=13or a<1:\n",
        "  print(\"enter correct choice\")\n",
        "else:\n",
        "  print(\"31\")"
      ]
    },
    {
      "cell_type": "code",
      "execution_count": null,
      "id": "1d0e6fa1",
      "metadata": {
        "id": "1d0e6fa1",
        "outputId": "5106eaed-4829-4e54-b450-105c1b9a4d7b"
      },
      "outputs": [
        {
          "name": "stdout",
          "output_type": "stream",
          "text": [
            "29\n",
            "31\n",
            "37\n",
            "41\n",
            "43\n",
            "47\n"
          ]
        }
      ],
      "source": [
        "def prime():\n",
        "  for i in range(25,50):\n",
        "          c=0\n",
        "          for x in range(1,i+1):\n",
        "           \n",
        "           if i%x==0:\n",
        "             c=c+1\n",
        "          if c<=2:\n",
        "            print(i)\n",
        "prime()  "
      ]
    },
    {
      "cell_type": "code",
      "execution_count": 2,
      "id": "3ecdae83",
      "metadata": {
        "colab": {
          "base_uri": "https://localhost:8080/"
        },
        "id": "3ecdae83",
        "outputId": "e529f009-edb7-4024-951d-0d6a65b44817"
      },
      "outputs": [
        {
          "name": "stdout",
          "output_type": "stream",
          "text": [
            "enter the number15\n",
            "enter the last number12\n"
          ]
        }
      ],
      "source": [
        "a=int(input(\"enter the number\"))\n",
        "b=int(input(\"enter the last number\"))\n",
        "if a>b:\n",
        "  for x in range(a,b-1,-1):\n",
        "    print(x)\n",
        "else:\n",
        "  for x in range(a,b+1):\n",
        "    print(x)"
      ]
    },
    {
      "cell_type": "code",
      "execution_count": 3,
      "id": "504da452",
      "metadata": {
        "colab": {
          "base_uri": "https://localhost:8080/"
        },
        "id": "504da452",
        "outputId": "da0df74a-ecee-44da-9e56-463d7509f7f5"
      },
      "outputs": [
        {
          "output_type": "stream",
          "name": "stdout",
          "text": [
            "enter list of intergers: [123,23,69]\n",
            "1232369\n"
          ]
        }
      ],
      "source": [
        "a=eval(input(\"enter list of intergers: \"))\n",
        "b=\"\"\n",
        "for i in a :\n",
        "  b+=str(i)\n",
        "print(b)"
      ]
    }
  ],
  "metadata": {
    "kernelspec": {
      "display_name": "Python 3 (ipykernel)",
      "language": "python",
      "name": "python3"
    },
    "language_info": {
      "codemirror_mode": {
        "name": "ipython",
        "version": 3
      },
      "file_extension": ".py",
      "mimetype": "text/x-python",
      "name": "python",
      "nbconvert_exporter": "python",
      "pygments_lexer": "ipython3",
      "version": "3.9.7"
    },
    "colab": {
      "name": "Python (1012).ipynb",
      "provenance": [],
      "include_colab_link": true
    }
  },
  "nbformat": 4,
  "nbformat_minor": 5
}