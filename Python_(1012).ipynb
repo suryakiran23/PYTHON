{
  "cells": [
    {
      "cell_type": "markdown",
      "metadata": {
        "id": "view-in-github",
        "colab_type": "text"
      },
      "source": [
        "<a href=\"https://colab.research.google.com/github/suryakiran23/PYTHON/blob/main/Python_(1012).ipynb\" target=\"_parent\"><img src=\"https://colab.research.google.com/assets/colab-badge.svg\" alt=\"Open In Colab\"/></a>"
      ]
    },
    {
      "cell_type": "markdown",
      "id": "0fb4d8f2",
      "metadata": {
        "id": "0fb4d8f2"
      },
      "source": [
        "## Avg of three numbers"
      ]
    },
    {
      "cell_type": "code",
      "execution_count": null,
      "id": "cc0b37b8",
      "metadata": {
        "id": "cc0b37b8",
        "outputId": "ac555080-769d-40d4-c458-1d7816384fe7"
      },
      "outputs": [
        {
          "name": "stdout",
          "output_type": "stream",
          "text": [
            "20.0\n",
            "<class 'float'>\n"
          ]
        }
      ],
      "source": [
        "a=10;b=20;c=30\n",
        "d=(a+b+c)/3\n",
        "print(d)\n",
        "print(type(d))\n"
      ]
    },
    {
      "cell_type": "markdown",
      "id": "751af435",
      "metadata": {
        "id": "751af435"
      },
      "source": [
        "## Multi of two numbers"
      ]
    },
    {
      "cell_type": "code",
      "execution_count": null,
      "id": "9a9de076",
      "metadata": {
        "id": "9a9de076",
        "outputId": "1a3811eb-3b70-4567-ee53-65fbb794c5d8"
      },
      "outputs": [
        {
          "name": "stdout",
          "output_type": "stream",
          "text": [
            "<class 'int'>\n",
            "multi of the given two numbers:  200\n"
          ]
        }
      ],
      "source": [
        "a=10;b=20\n",
        "mult=a*b\n",
        "print(type\n",
        "    (mult))\n",
        "print(\"multi of the given two numbers: \",mult)"
      ]
    },
    {
      "cell_type": "markdown",
      "id": "056ba211",
      "metadata": {
        "id": "056ba211"
      },
      "source": [
        "## dynamic addition of two numbers\n"
      ]
    },
    {
      "cell_type": "code",
      "execution_count": null,
      "id": "27dabfa1",
      "metadata": {
        "id": "27dabfa1",
        "outputId": "814c896a-f477-4aa4-bf1b-8fb970a010aa"
      },
      "outputs": [
        {
          "name": "stdout",
          "output_type": "stream",
          "text": [
            "ENTER A NUMBER2\n",
            "enter the second number3\n",
            "the sum of two number:  5\n"
          ]
        }
      ],
      "source": [
        "a=int(input( \"ENTER A NUMBER\"))\n",
        "b=int(input(\"enter the second number\"))\n",
        "c=a+b\n",
        "print(\"the sum of two number: \",c)"
      ]
    },
    {
      "cell_type": "code",
      "execution_count": null,
      "id": "33518d19",
      "metadata": {
        "id": "33518d19",
        "outputId": "131f108f-27fd-45ef-a6bf-cb67ff1e2f0a"
      },
      "outputs": [
        {
          "name": "stdout",
          "output_type": "stream",
          "text": [
            "ENTER A NUMBER2\n",
            "enter the second number3\n",
            "kiran\n",
            "<class 'str'>\n",
            "the sum of two number:  5\n"
          ]
        }
      ],
      "source": [
        "a=int(input( \"ENTER A NUMBER\"));b=int(input(\"enter the second number\"))\n",
        "c=a+b\n",
        "d=\"ki\";e=\"ran\"\n",
        "f=d+e\n",
        "print(f)\n",
        "print(type(f))\n",
        "print(\"the sum of two number: \",c)"
      ]
    },
    {
      "cell_type": "markdown",
      "id": "b9869a1f",
      "metadata": {
        "id": "b9869a1f"
      },
      "source": [
        "## coversion of data types"
      ]
    },
    {
      "cell_type": "markdown",
      "id": "e15f5c5d",
      "metadata": {
        "id": "e15f5c5d"
      },
      "source": [
        "### covert int to float"
      ]
    },
    {
      "cell_type": "code",
      "execution_count": null,
      "id": "87a10ff0",
      "metadata": {
        "id": "87a10ff0",
        "outputId": "6e13d893-4e70-493a-fdf8-d93f7cac1138"
      },
      "outputs": [
        {
          "name": "stdout",
          "output_type": "stream",
          "text": [
            "10.0\n",
            "<class 'float'>\n"
          ]
        }
      ],
      "source": [
        "a=10;b=float(a)\n",
        "print(b)\n",
        "print(type(b))"
      ]
    },
    {
      "cell_type": "markdown",
      "id": "49118fc9",
      "metadata": {
        "id": "49118fc9"
      },
      "source": [
        "### covert float to int"
      ]
    },
    {
      "cell_type": "code",
      "execution_count": null,
      "id": "6b51b68f",
      "metadata": {
        "id": "6b51b68f",
        "outputId": "fff70e28-22fe-4fea-e4fd-d0ca06b829d6"
      },
      "outputs": [
        {
          "name": "stdout",
          "output_type": "stream",
          "text": [
            "10\n",
            "<class 'int'>\n"
          ]
        }
      ],
      "source": [
        "a=10.0;b=int(a)\n",
        "print(b)\n",
        "print(type(b))"
      ]
    },
    {
      "cell_type": "code",
      "execution_count": null,
      "id": "6c0bf14b",
      "metadata": {
        "id": "6c0bf14b",
        "outputId": "5e295e15-10a9-4b01-c1fe-5ded70693946"
      },
      "outputs": [
        {
          "name": "stdout",
          "output_type": "stream",
          "text": [
            "10 <class 'int'>\n",
            "10.0 <class 'float'>\n"
          ]
        }
      ],
      "source": [
        "a=10.0;b=int(a)\n",
        "print(b,type(b))\n",
        "c=float(b)\n",
        "print(c,type(c))"
      ]
    },
    {
      "cell_type": "markdown",
      "id": "58b836dc",
      "metadata": {
        "id": "58b836dc"
      },
      "source": [
        "## covert int to str (strn to int isn't possible with alphabet)\n"
      ]
    },
    {
      "cell_type": "code",
      "execution_count": null,
      "id": "686b5fd6",
      "metadata": {
        "id": "686b5fd6",
        "outputId": "441475e9-3d9d-4aca-a0c9-cba4f5b875cd"
      },
      "outputs": [
        {
          "name": "stdout",
          "output_type": "stream",
          "text": [
            "10 <class 'str'>\n",
            "10 <class 'int'>\n"
          ]
        }
      ],
      "source": [
        "#strn to int isn't possible with alphabet\n",
        "a=10;b=str(a)\n",
        "print(b,type(b))\n",
        "c=int(b)\n",
        "print(c,type(c))"
      ]
    },
    {
      "cell_type": "markdown",
      "id": "0ce75177",
      "metadata": {
        "id": "0ce75177"
      },
      "source": [
        "## boolean function"
      ]
    },
    {
      "cell_type": "code",
      "execution_count": null,
      "id": "37c6ee07",
      "metadata": {
        "id": "37c6ee07",
        "outputId": "46e23845-6acd-4ec7-8072-8a58838e4c21"
      },
      "outputs": [
        {
          "name": "stdout",
          "output_type": "stream",
          "text": [
            "True\n",
            "<class 'int'>\n",
            "True\n",
            "<class 'float'>\n"
          ]
        }
      ],
      "source": [
        "a=10;b=float(a)\n",
        "print(bool(a));print (type(a))\n",
        "print(bool(b));print(type(b))"
      ]
    },
    {
      "cell_type": "code",
      "execution_count": null,
      "id": "6f9fee1a",
      "metadata": {
        "id": "6f9fee1a",
        "outputId": "0241a727-408e-439e-d7d8-3460eb83efb9"
      },
      "outputs": [
        {
          "name": "stdout",
          "output_type": "stream",
          "text": [
            "enter num to check boolean\n",
            "enter num 1: 2\n",
            "enter num2: 3\n",
            "check boolean\n",
            "True True <class 'int'> <class 'float'>\n"
          ]
        }
      ],
      "source": [
        "print(\"enter num to check boolean\");a=int(input(\"enter num 1: \"));b=float(input(\"enter num2: \" ))\n",
        "print(\"check boolean\")\n",
        "print(bool(a),bool(b),type(a),type(b))"
      ]
    },
    {
      "cell_type": "code",
      "execution_count": null,
      "id": "c9cb60bf",
      "metadata": {
        "id": "c9cb60bf",
        "outputId": "057095d8-372d-4952-d3ca-81714071b4c5"
      },
      "outputs": [
        {
          "name": "stdout",
          "output_type": "stream",
          "text": [
            "False <class 'bool'>\n",
            "0\n"
          ]
        }
      ],
      "source": [
        "a=10;b=15\n",
        "c=a>b\n",
        "print(bool(c),type(c))\n",
        "print(int(c))"
      ]
    },
    {
      "cell_type": "code",
      "execution_count": null,
      "id": "9575bf1a",
      "metadata": {
        "id": "9575bf1a",
        "outputId": "f23ee297-cd2c-499c-a177-ca3cc324d85b"
      },
      "outputs": [
        {
          "name": "stdout",
          "output_type": "stream",
          "text": [
            "True False <class 'bool'> <class 'bool'>\n"
          ]
        }
      ],
      "source": [
        "a=10;b=5\n",
        "c=a>b;d=b>a;\n",
        "print((c),(d),type(c),type(d))"
      ]
    },
    {
      "cell_type": "code",
      "execution_count": null,
      "id": "7c803907",
      "metadata": {
        "id": "7c803907",
        "outputId": "1067745e-b068-4a64-b3c6-58976282e028"
      },
      "outputs": [
        {
          "name": "stdout",
          "output_type": "stream",
          "text": [
            "True <class 'bool'>\n",
            "1 <class 'bool'>\n"
          ]
        }
      ],
      "source": [
        "a=bool(10)\n",
        "print((a),type(a))\n",
        "print(int(a),type(a))"
      ]
    },
    {
      "cell_type": "markdown",
      "id": "104069fd",
      "metadata": {
        "id": "104069fd"
      },
      "source": [
        "## complex\n"
      ]
    },
    {
      "cell_type": "code",
      "execution_count": null,
      "id": "910d82a7",
      "metadata": {
        "id": "910d82a7",
        "outputId": "79a00237-aa84-4af8-e757-e388ae65c74b"
      },
      "outputs": [
        {
          "name": "stdout",
          "output_type": "stream",
          "text": [
            "(5+0j)\n"
          ]
        }
      ],
      "source": [
        "a=10\n",
        "print(complex(b))"
      ]
    },
    {
      "cell_type": "code",
      "execution_count": null,
      "id": "163b2c03",
      "metadata": {
        "id": "163b2c03",
        "outputId": "7a21329b-b3eb-47e9-ff36-75b91b5ca89c"
      },
      "outputs": [
        {
          "name": "stdout",
          "output_type": "stream",
          "text": [
            "True (23+0j) 23.0\n"
          ]
        }
      ],
      "source": [
        "a=23\n",
        "print(bool(a),complex(a),float(a))"
      ]
    },
    {
      "cell_type": "code",
      "execution_count": null,
      "id": "b0836b52",
      "metadata": {
        "id": "b0836b52",
        "outputId": "d96be309-cae9-4fb9-c3a5-d3f75e2ad30f"
      },
      "outputs": [
        {
          "name": "stdout",
          "output_type": "stream",
          "text": [
            "<class 'complex'>\n"
          ]
        },
        {
          "ename": "TypeError",
          "evalue": "can't convert complex to int",
          "output_type": "error",
          "traceback": [
            "\u001b[1;31m---------------------------------------------------------------------------\u001b[0m",
            "\u001b[1;31mTypeError\u001b[0m                                 Traceback (most recent call last)",
            "\u001b[1;32m~\\AppData\\Local\\Temp/ipykernel_10780/3750108827.py\u001b[0m in \u001b[0;36m<module>\u001b[1;34m\u001b[0m\n\u001b[0;32m      1\u001b[0m \u001b[0ma\u001b[0m\u001b[1;33m=\u001b[0m\u001b[1;36m23\u001b[0m\u001b[1;33m+\u001b[0m\u001b[1;36m2j\u001b[0m\u001b[1;33m\u001b[0m\u001b[1;33m\u001b[0m\u001b[0m\n\u001b[0;32m      2\u001b[0m \u001b[0mprint\u001b[0m\u001b[1;33m(\u001b[0m\u001b[0mtype\u001b[0m\u001b[1;33m(\u001b[0m\u001b[0ma\u001b[0m\u001b[1;33m)\u001b[0m\u001b[1;33m)\u001b[0m\u001b[1;33m\u001b[0m\u001b[1;33m\u001b[0m\u001b[0m\n\u001b[1;32m----> 3\u001b[1;33m \u001b[0mprint\u001b[0m\u001b[1;33m(\u001b[0m\u001b[0mint\u001b[0m\u001b[1;33m(\u001b[0m\u001b[0ma\u001b[0m\u001b[1;33m)\u001b[0m\u001b[1;33m,\u001b[0m\u001b[0mtype\u001b[0m\u001b[1;33m(\u001b[0m\u001b[0ma\u001b[0m\u001b[1;33m)\u001b[0m\u001b[1;33m)\u001b[0m\u001b[1;33m\u001b[0m\u001b[1;33m\u001b[0m\u001b[0m\n\u001b[0m",
            "\u001b[1;31mTypeError\u001b[0m: can't convert complex to int"
          ]
        }
      ],
      "source": [
        "a=23+2j\n",
        "print(type(a))\n",
        "print(int(a),type(a))"
      ]
    },
    {
      "cell_type": "code",
      "execution_count": null,
      "id": "10155708",
      "metadata": {
        "id": "10155708",
        "outputId": "e022140d-8a1d-4ef7-a63b-750309e2635c"
      },
      "outputs": [
        {
          "name": "stdout",
          "output_type": "stream",
          "text": [
            "<class 'complex'>\n",
            "(23+2j) <class 'complex'>\n"
          ]
        }
      ],
      "source": [
        "a=23+2j\n",
        "print(type(a))\n",
        "print(str(a),type(a))"
      ]
    },
    {
      "cell_type": "code",
      "execution_count": null,
      "id": "5da13c4c",
      "metadata": {
        "id": "5da13c4c",
        "outputId": "11dd274d-9372-4914-cbff-4535ce09e0f9"
      },
      "outputs": [
        {
          "name": "stdout",
          "output_type": "stream",
          "text": [
            "<class 'complex'>\n"
          ]
        },
        {
          "ename": "TypeError",
          "evalue": "can't convert complex to float",
          "output_type": "error",
          "traceback": [
            "\u001b[1;31m---------------------------------------------------------------------------\u001b[0m",
            "\u001b[1;31mTypeError\u001b[0m                                 Traceback (most recent call last)",
            "\u001b[1;32m~\\AppData\\Local\\Temp/ipykernel_10780/2850350656.py\u001b[0m in \u001b[0;36m<module>\u001b[1;34m\u001b[0m\n\u001b[0;32m      1\u001b[0m \u001b[0ma\u001b[0m\u001b[1;33m=\u001b[0m\u001b[1;36m23\u001b[0m\u001b[1;33m+\u001b[0m\u001b[1;36m2j\u001b[0m\u001b[1;33m\u001b[0m\u001b[1;33m\u001b[0m\u001b[0m\n\u001b[0;32m      2\u001b[0m \u001b[0mprint\u001b[0m\u001b[1;33m(\u001b[0m\u001b[0mtype\u001b[0m\u001b[1;33m(\u001b[0m\u001b[0ma\u001b[0m\u001b[1;33m)\u001b[0m\u001b[1;33m)\u001b[0m\u001b[1;33m\u001b[0m\u001b[1;33m\u001b[0m\u001b[0m\n\u001b[1;32m----> 3\u001b[1;33m \u001b[0mprint\u001b[0m\u001b[1;33m(\u001b[0m\u001b[0mfloat\u001b[0m\u001b[1;33m(\u001b[0m\u001b[0ma\u001b[0m\u001b[1;33m)\u001b[0m\u001b[1;33m,\u001b[0m\u001b[0mtype\u001b[0m\u001b[1;33m(\u001b[0m\u001b[0ma\u001b[0m\u001b[1;33m)\u001b[0m\u001b[1;33m)\u001b[0m\u001b[1;33m\u001b[0m\u001b[1;33m\u001b[0m\u001b[0m\n\u001b[0m",
            "\u001b[1;31mTypeError\u001b[0m: can't convert complex to float"
          ]
        }
      ],
      "source": [
        "a=23+2j\n",
        "print(type(a))\n",
        "print(float(a),type(a))"
      ]
    },
    {
      "cell_type": "markdown",
      "id": "2c55a2c0",
      "metadata": {
        "id": "2c55a2c0"
      },
      "source": [
        "## PYTHON control statements \n"
      ]
    },
    {
      "cell_type": "markdown",
      "id": "3d71d49b",
      "metadata": {
        "id": "3d71d49b"
      },
      "source": [
        "## IF ELSE"
      ]
    },
    {
      "cell_type": "code",
      "execution_count": null,
      "id": "cacc4684",
      "metadata": {
        "id": "cacc4684"
      },
      "outputs": [],
      "source": [
        "a=18\n",
        "if a>18: ###indentation is necessary \n",
        "       print(\"you're eligiable for voting\")### the code should be started below the indenenation"
      ]
    },
    {
      "cell_type": "code",
      "execution_count": null,
      "id": "eebb9d20",
      "metadata": {
        "id": "eebb9d20",
        "outputId": "4e5c4613-12a7-40c8-8d13-e208b7a7416a"
      },
      "outputs": [
        {
          "name": "stdout",
          "output_type": "stream",
          "text": [
            "enter the age21\n",
            "eligible for voting\n"
          ]
        }
      ],
      "source": [
        "a=int(input(\"enter the age\"))\n",
        "if a>18:\n",
        "    print(\"eligible for voting\")\n",
        "else:\n",
        "       print(\"not eligigble\")\n"
      ]
    },
    {
      "cell_type": "code",
      "execution_count": null,
      "id": "ba4e0c5d",
      "metadata": {
        "id": "ba4e0c5d",
        "outputId": "4acf960d-db25-4a7a-d7cf-439d734b70a8"
      },
      "outputs": [
        {
          "name": "stdout",
          "output_type": "stream",
          "text": [
            "enter the age18\n",
            "just eligible\n"
          ]
        }
      ],
      "source": [
        "a=int(input(\"enter the age\"))\n",
        "if a>18:\n",
        "    print(\"eligible for voting\")\n",
        "elif a==18:\n",
        "    print(\"just eligible\")\n",
        "else:\n",
        "       print(\"not eligigble\")\n"
      ]
    },
    {
      "cell_type": "code",
      "execution_count": null,
      "id": "6efa0053",
      "metadata": {
        "id": "6efa0053",
        "outputId": "afe73c45-e0e3-4c93-db54-3e9f36f74f4a"
      },
      "outputs": [
        {
          "name": "stdout",
          "output_type": "stream",
          "text": [
            "enter the number2\n",
            "enter number two3\n",
            "enter the third number9\n",
            "c is max\n"
          ]
        }
      ],
      "source": [
        "a=int(input(\"enter the number\"));b=int(input(\"enter number two\"));c=int(input(\"enter the third number\"))\n",
        "if a>b and a>c:\n",
        "    print(\"a is max\")\n",
        "elif b>a and b>c :\n",
        "    print(\"b is max\")\n",
        "else :\n",
        "    print(\"c is max\")\n",
        "    "
      ]
    },
    {
      "cell_type": "code",
      "execution_count": null,
      "id": "99c26d37",
      "metadata": {
        "id": "99c26d37",
        "outputId": "c27e3757-3678-4aea-be99-df4788da8053"
      },
      "outputs": [
        {
          "name": "stdout",
          "output_type": "stream",
          "text": [
            "enter the number2\n",
            "enter number two3\n",
            "enter the third number6\n",
            "enter the forth number9\n",
            "enter the five number4\n",
            "d is max\n"
          ]
        }
      ],
      "source": [
        "a=int(input(\"enter the number: \"));b=int(input(\"enter number two: \"));c=int(input(\"enter the third number\"));d=int(input(\"enter the forth number\"));e=int(input(\"enter the five number\"))\n",
        "if a>b and a>c and a>d and a>e:\n",
        "    print(\"a is max\")\n",
        "elif b>a and b>c and b>d and b>e:\n",
        "    print(\"b is max\")\n",
        "elif c>a and c>b and c>d and c>e:       \n",
        "    print(\"c is max\")\n",
        "elif d>a and d>b and d>c and d>e:       \n",
        "    print(\"d is max\")\n",
        "else:    \n",
        "    print(\"e is max\")"
      ]
    },
    {
      "cell_type": "code",
      "execution_count": null,
      "id": "9452a7ab",
      "metadata": {
        "id": "9452a7ab",
        "outputId": "819bb84a-863b-4f8b-8062-da5193f0db1b"
      },
      "outputs": [
        {
          "name": "stdout",
          "output_type": "stream",
          "text": [
            "enter the marks of subjects: 6\n",
            "enter the marks of subjects: : 3\n",
            "enter the marks of subjects: 3\n",
            "enter the marks of subjects: 3\n",
            "enter the marks of the subject3\n",
            "a is max\n"
          ]
        }
      ],
      "source": [
        "a=int(input(\"enter the marks of subjects: \"));b=int(input(\"enter the marks of subjects: : \"));c=int(input(\"enter the marks of subjects: \"));d=int(input(\"enter the marks of subjects: \"));e=int(input(\"enter the marks of the subject\"))\n",
        "if a>b and a>c and a>d and a>e:\n",
        "    print(\"a is max\")\n",
        "elif b>a and b>c and b>d and b>e:\n",
        "    print(\"b is max\")\n",
        "elif c>a and c>b and c>d and c>e:       \n",
        "    print(\"c is max\")\n",
        "elif d>a and d>b and d>c and d>e:       \n",
        "    print(\"d is max\")\n",
        "else:    \n",
        "    print(\"e is max\")"
      ]
    },
    {
      "cell_type": "code",
      "execution_count": null,
      "id": "7110a6c9",
      "metadata": {
        "id": "7110a6c9",
        "outputId": "305f36f1-a218-4bfd-b17e-45b2fd7469d0"
      },
      "outputs": [
        {
          "name": "stdout",
          "output_type": "stream",
          "text": [
            "enter the number9\n",
            "enter the max number18\n",
            "9\n",
            "10\n",
            "11\n",
            "12\n",
            "13\n",
            "14\n",
            "15\n",
            "16\n",
            "17\n"
          ]
        }
      ],
      "source": [
        "a=int(input(\"enter the number\"));b=int(input(\"enter the max number\"))\n",
        "for i in range (a,b):\n",
        "    print (i)\n",
        "        "
      ]
    },
    {
      "cell_type": "code",
      "execution_count": null,
      "id": "3696a901",
      "metadata": {
        "id": "3696a901",
        "outputId": "7ff8de87-98be-434f-9f77-15451fc2fdbe"
      },
      "outputs": [
        {
          "name": "stdout",
          "output_type": "stream",
          "text": [
            "enter the number2\n",
            "enter the max number100\n",
            "even number  2\n",
            "even number  4\n",
            "even number  6\n",
            "even number  8\n",
            "even number  10\n",
            "even number  12\n",
            "even number  14\n",
            "even number  16\n",
            "even number  18\n",
            "even number  20\n",
            "even number  22\n",
            "even number  24\n",
            "even number  26\n",
            "even number  28\n",
            "even number  30\n",
            "even number  32\n",
            "even number  34\n",
            "even number  36\n",
            "even number  38\n",
            "even number  40\n",
            "even number  42\n",
            "even number  44\n",
            "even number  46\n",
            "even number  48\n",
            "even number  50\n",
            "even number  52\n",
            "even number  54\n",
            "even number  56\n",
            "even number  58\n",
            "even number  60\n",
            "even number  62\n",
            "even number  64\n",
            "even number  66\n",
            "even number  68\n",
            "even number  70\n",
            "even number  72\n",
            "even number  74\n",
            "even number  76\n",
            "even number  78\n",
            "even number  80\n",
            "even number  82\n",
            "even number  84\n",
            "even number  86\n",
            "even number  88\n",
            "even number  90\n",
            "even number  92\n",
            "even number  94\n",
            "even number  96\n",
            "even number  98\n",
            "odd number  98\n"
          ]
        }
      ],
      "source": [
        "a=int(input(\"enter the number\"));b=int(input(\"enter the max number\"))\n",
        "for i in range (a,b):\n",
        "    if i%2==0:\n",
        "        print(\"even number \",i)\n",
        "else:\n",
        "    print (\"odd number \",i)\n",
        "        "
      ]
    },
    {
      "cell_type": "markdown",
      "id": "1171686a",
      "metadata": {
        "id": "1171686a"
      },
      "source": [
        "## Multi tables\n"
      ]
    },
    {
      "cell_type": "code",
      "execution_count": null,
      "id": "8d90960b",
      "metadata": {
        "id": "8d90960b",
        "outputId": "0942e6c8-7d52-44fe-95a0-18457a12ed8c"
      },
      "outputs": [
        {
          "name": "stdout",
          "output_type": "stream",
          "text": [
            "enter the number0\n",
            "enter the max number10\n",
            "even number  0\n",
            "even number  2\n",
            "even number  4\n",
            "even number  6\n",
            "even number  8\n",
            "odd number  0\n",
            "odd number  3\n",
            "odd number  6\n",
            "odd number  9\n"
          ]
        }
      ],
      "source": [
        "a=int(input(\"enter the number\"));b=int(input(\"enter the max number\"))\n",
        "for i in range (a,b,2):\n",
        "\n",
        "        print(\"even number \",i)\n",
        "for j in range (a,b,3):\n",
        "\n",
        "    print (\"odd number \",j)\n",
        "        "
      ]
    },
    {
      "cell_type": "code",
      "execution_count": null,
      "id": "99da0c52",
      "metadata": {
        "id": "99da0c52",
        "outputId": "46502f6f-3d89-4c7b-cb24-387e7d598fcf"
      },
      "outputs": [
        {
          "name": "stdout",
          "output_type": "stream",
          "text": [
            "Enter the number to begin with 5\n",
            "enter the max number 9\n",
            "5\n",
            "6\n",
            "7\n",
            "8\n"
          ]
        }
      ],
      "source": [
        "a=int(input(\"Enter the number to begin with \"));b=int(input(\"enter the max number \"))\n",
        "for i in range (a,b):\n",
        "     print(i)"
      ]
    },
    {
      "cell_type": "markdown",
      "id": "e43379f7",
      "metadata": {
        "id": "e43379f7"
      },
      "source": [
        "## Module 2 programs in python\n",
        "\n",
        "\n"
      ]
    },
    {
      "cell_type": "code",
      "execution_count": null,
      "id": "82a1621f",
      "metadata": {
        "id": "82a1621f",
        "outputId": "71e11d80-ac21-4e37-d464-8a9160f73e2c"
      },
      "outputs": [
        {
          "name": "stdout",
          "output_type": "stream",
          "text": [
            "enter the max number 10\n",
            "enter the first number1\n",
            "55\n"
          ]
        }
      ],
      "source": [
        "a=int(input(\"enter the max number \"));b=int(input(\"enter the first number\"))\n",
        "sum=0\n",
        "while b<=a:\n",
        "    sum=sum+b\n",
        "    b=b+1\n",
        "print(sum)"
      ]
    },
    {
      "cell_type": "code",
      "execution_count": null,
      "id": "6f01d0ff",
      "metadata": {
        "id": "6f01d0ff",
        "outputId": "e4eac00f-0de7-4c0f-9164-4d154e4d09bf"
      },
      "outputs": [
        {
          "name": "stdout",
          "output_type": "stream",
          "text": [
            "enter the first side 5\n",
            "enter the second side5\n",
            "enter the third side5\n",
            "equalilater triangle\n"
          ]
        }
      ],
      "source": [
        "a=int(input(\"enter the first side \"));b=int(input(\"enter the second side\"));c=int(input(\"enter the third side\"))\n",
        "\n",
        "if a==b and a==c and c==a:\n",
        "    \n",
        "    print(\"equalilater triangle\")\n",
        "elif a==b or a==c or  c==a:\n",
        "    \n",
        "    print(\"isoscles trinagle \")\n",
        "else:\n",
        "    print(\"scalen triangle\")\n",
        "    "
      ]
    },
    {
      "cell_type": "code",
      "execution_count": null,
      "id": "f5ef7dbe",
      "metadata": {
        "id": "f5ef7dbe",
        "outputId": "589ced36-21a5-48dd-c7ad-e6f331cd7e20"
      },
      "outputs": [
        {
          "name": "stdout",
          "output_type": "stream",
          "text": [
            "enter the year 2022\n",
            "not a leap year\n"
          ]
        }
      ],
      "source": [
        "a=int(input(\"enter the year \"))\n",
        "\n",
        "if a%400==0:\n",
        "    print(\"it is a leap year\")\n",
        "elif a%100==0:\n",
        "    print(\"not a leap year \")\n",
        "elif a%4==0:\n",
        "    print(\"it is a leap year\")\n",
        "else:\n",
        "    print(\"not a leap year\")\n",
        "    "
      ]
    },
    {
      "cell_type": "code",
      "execution_count": null,
      "id": "9c5dd844",
      "metadata": {
        "id": "9c5dd844",
        "outputId": "97c048ac-11f9-4c12-ae5d-70c074218135"
      },
      "outputs": [
        {
          "name": "stdout",
          "output_type": "stream",
          "text": [
            "enter the number5\n",
            "enter number two2\n",
            "enter the third number1\n",
            "c is min\n"
          ]
        }
      ],
      "source": [
        "a=int(input(\"enter the number\"));b=int(input(\"enter number two\"));c=int(input(\"enter the third number\"))\n",
        "if a<b and a<c:\n",
        "    print(\"a is min\")\n",
        "elif b<a and b<c :\n",
        "    print(\"b is min\")\n",
        "else :\n",
        "    print(\"c is min\")\n",
        "    "
      ]
    },
    {
      "cell_type": "code",
      "execution_count": null,
      "id": "4372d056",
      "metadata": {
        "id": "4372d056",
        "outputId": "c064b93d-4d84-4fdd-9f69-98319803b1eb"
      },
      "outputs": [
        {
          "name": "stdout",
          "output_type": "stream",
          "text": [
            "enter the  number55\n",
            "the number is divisible by both 5 and 11\n"
          ]
        }
      ],
      "source": [
        "a=int(input(\"enter the  number\"));\n",
        "if a%5==0 and a%11==0:\n",
        "    print(\"the number is divisible by both 5 and 11\")\n",
        "elif a%5==0:\n",
        "    print(\"The number is divisible by 5\")\n",
        "elif a%11==0 :\n",
        "    print(\"The number is divisible by 11\")\n",
        "else :\n",
        "    print(\"The number is not divisible by both\")\n",
        "     \n",
        " \n",
        "  \n"
      ]
    },
    {
      "cell_type": "code",
      "execution_count": null,
      "id": "3e9b2f5e",
      "metadata": {
        "id": "3e9b2f5e",
        "outputId": "a2abf305-0133-4cfd-8256-3513b004c491"
      },
      "outputs": [
        {
          "name": "stdout",
          "output_type": "stream",
          "text": [
            "enter the number to find factorial for 5\n",
            "120\n"
          ]
        }
      ],
      "source": [
        "a=int(input(\"enter the number to find factorial for \"))\n",
        "fact=1\n",
        "for i in range (1,a+1):\n",
        "    fact=fact*i\n",
        "print(fact)\n"
      ]
    },
    {
      "cell_type": "code",
      "execution_count": null,
      "id": "8a566016",
      "metadata": {
        "id": "8a566016",
        "outputId": "df78f516-8a51-437d-d73d-0b7acd9ce482"
      },
      "outputs": [
        {
          "name": "stdout",
          "output_type": "stream",
          "text": [
            "enter the number you want to find palindrome for1212\n",
            "not a plaindrome\n"
          ]
        }
      ],
      "source": [
        "a=int(input(\"enter the number you want to find palindrome for\"))\n",
        "rev=0\n",
        "temp=a\n",
        "while temp>0:\n",
        "    rem=temp%10\n",
        "    rev=(rev*10)+rem\n",
        "    temp=temp//10\n",
        "if a==rev:\n",
        "    print(\"palindrome\")\n",
        "else:\n",
        "    print(\"not a plaindrome\")"
      ]
    },
    {
      "cell_type": "code",
      "execution_count": null,
      "id": "1942dc8f",
      "metadata": {
        "id": "1942dc8f",
        "outputId": "9a63f3ce-5f08-44ac-9f93-ffd3ec044ebb"
      },
      "outputs": [
        {
          "name": "stdout",
          "output_type": "stream",
          "text": [
            "enter number of terms u want to find plandrome for10\n",
            "0 1\n",
            "1\n",
            "2\n",
            "3\n",
            "5\n",
            "8\n",
            "13\n",
            "21\n",
            "34\n",
            "55\n",
            "completion of fibonanci\n"
          ]
        }
      ],
      "source": [
        "a=0;b=1;n=int(input(\"enter number of terms u want to find plandrome for\"))\n",
        "print(a,b)\n",
        "for i in range(1,n):\n",
        "    nextnum=a+b \n",
        "    print(nextnum)\n",
        "    a=b \n",
        "    b=nextnum\n",
        "    i=i+1\n",
        "print(\"completion of fibonanci\")"
      ]
    },
    {
      "cell_type": "markdown",
      "id": "4a1ac88e",
      "metadata": {
        "id": "4a1ac88e"
      },
      "source": [
        "## Lists\n"
      ]
    },
    {
      "cell_type": "code",
      "execution_count": null,
      "id": "4887ec54",
      "metadata": {
        "id": "4887ec54",
        "outputId": "c14a2bbd-5cb1-4136-9b69-bad676e804bf"
      },
      "outputs": [
        {
          "name": "stdout",
          "output_type": "stream",
          "text": [
            "['apple ', 'cherry', 'melon', 'peach', 'berry']\n",
            "apple \n",
            "['apple ', 'cherry', 'melon']\n",
            "melon\n",
            "['apple ', 'cherry', 'melon', 'peach']\n",
            "['peach', 'berry']\n",
            "['cherry', 'melon', 'peach', 'berry']\n"
          ]
        }
      ],
      "source": [
        "fruits =[\"apple \",\"cherry\",\"melon\",\"peach\",\"berry\"]\n",
        "print(fruits)\n",
        "print(fruits[0])#it is used to print index\n",
        "print(fruits[0:3])#intial index and range is a given number \n",
        "print(fruits[-3])\n",
        "print(fruits[:4])#if the imdex is not given it act as zero\n",
        "print(fruits[3:5])\n",
        "print(fruits[1:])"
      ]
    },
    {
      "cell_type": "code",
      "execution_count": null,
      "id": "f309c1da",
      "metadata": {
        "id": "f309c1da",
        "outputId": "4a4833a0-af03-4d91-bf01-3791d9a7e485"
      },
      "outputs": [
        {
          "name": "stdout",
          "output_type": "stream",
          "text": [
            "['apple ', 'cherry', 'melon', 'peach', 'berry']\n",
            "5\n",
            "['apple ', 'cherry', 'melon', 'peach', 'berry', 'drangon fruit']\n"
          ]
        }
      ],
      "source": [
        "fruits =[\"apple \",\"cherry\",\"melon\",\"peach\",\"berry\"]\n",
        "print(fruits)\n",
        "print(len(fruits))\n",
        "fruits.append(\"drangon fruit\")# to add elements into list \n",
        "print(fruits)"
      ]
    },
    {
      "cell_type": "code",
      "execution_count": null,
      "id": "84376e8e",
      "metadata": {
        "id": "84376e8e",
        "outputId": "df7731e5-a27f-4879-e79c-ba3b1bd88e0e"
      },
      "outputs": [
        {
          "name": "stdout",
          "output_type": "stream",
          "text": [
            "['apple ', 'cherry', 'melon', 'peach', 'berry']\n",
            "5\n",
            "['apple ', 'cherry', 'melon', 'drangon fruit', 'peach', 'berry']\n",
            "6\n"
          ]
        }
      ],
      "source": [
        "fruits =[\"apple \",\"cherry\",\"melon\",\"peach\",\"berry\"]\n",
        "print(fruits)\n",
        "print(len(fruits))\n",
        "fruits.insert(3,\"drangon fruit\")# to add elements with respective to index\n",
        "print(fruits)\n",
        "print(len(fruits))"
      ]
    },
    {
      "cell_type": "code",
      "execution_count": null,
      "id": "23d05705",
      "metadata": {
        "id": "23d05705",
        "outputId": "51c411fc-6dc4-4523-c32d-bac1c850e22a"
      },
      "outputs": [
        {
          "name": "stdout",
          "output_type": "stream",
          "text": [
            "['apple ', 'cherry', 'melon', 'peach', 'berry', 'potato', 'onion']\n",
            "onion\n",
            "['apple ', 'melon', 'peach', 'berry', 'potato', 'onion']\n"
          ]
        }
      ],
      "source": [
        "fruits =[\"apple \",\"cherry\",\"melon\",\"peach\",\"berry\"]\n",
        "veggies=[\"potato\", \"onion\"]\n",
        "fruits.extend(veggies) # to add elemtns of the another list\n",
        "print(fruits)\n",
        "print(fruits[6])\n",
        "fruits.remove(\"cherry\")# to remove elements from the list\n",
        "print(fruits)"
      ]
    },
    {
      "cell_type": "code",
      "execution_count": null,
      "id": "cb2e29c8",
      "metadata": {
        "id": "cb2e29c8"
      },
      "outputs": [],
      "source": [
        "list = [\"apple\", \"banana\", \"cherry\"]\n",
        "list[2] = \"blackcurrant\"\n",
        "\n",
        "print(list)\n"
      ]
    },
    {
      "cell_type": "code",
      "execution_count": null,
      "id": "a487eb8d",
      "metadata": {
        "id": "a487eb8d",
        "outputId": "68d957fc-3e01-47c6-bd37-7b3acbc3e325"
      },
      "outputs": [
        {
          "name": "stdout",
          "output_type": "stream",
          "text": [
            "['hp', 'dell', 'lenovo']\n",
            "enter the element name: ohhh\n",
            "['hp', 'dell', 'ohhh', 'lenovo', 'ugh']\n"
          ]
        }
      ],
      "source": [
        "k=[\"hp\",\"dell\",\"lenovo\"]\n",
        "print(k)\n",
        "a=input(\"enter the element name: \")\n",
        "k.insert(2,a)\n",
        "k.append(\"ugh\")\n",
        "print(k)"
      ]
    },
    {
      "cell_type": "code",
      "execution_count": null,
      "id": "77f0cba5",
      "metadata": {
        "id": "77f0cba5",
        "outputId": "686fa011-c230-4368-f8d1-2ed1f0d19857"
      },
      "outputs": [
        {
          "name": "stdout",
          "output_type": "stream",
          "text": [
            "[1, 'kiran', True, 5j]\n",
            "[1, 2, 4, 5]\n",
            "[2, 3, 4]\n",
            "[True, 5j]\n",
            "[5j]\n",
            "[]\n"
          ]
        }
      ],
      "source": [
        "mix=[1,\"kiran\",bool(1),0+5j]\n",
        "k=[1,2,4,5]\n",
        "s=[2,3,4]\n",
        "print(mix)\n",
        "print(k)\n",
        "print(s)\n",
        "mix.pop(0)# pop is used to remove the element by the list\n",
        "mix.remove(\"kiran\")# remove to use to delete certain element\n",
        "print(mix)\n",
        "del mix[0] # del is used to delete the element in the list if the index is mentioned it delte the index value in the list \n",
        "print (mix)\n",
        "del k  # del without given index will delete whole list \n",
        "s.clear()\n",
        "print(s)\n",
        "\n",
        "\n"
      ]
    },
    {
      "cell_type": "code",
      "execution_count": null,
      "id": "e94a522f",
      "metadata": {
        "id": "e94a522f",
        "outputId": "9d90c67f-d347-4edf-fc58-9427e1bbfaa7"
      },
      "outputs": [
        {
          "name": "stdout",
          "output_type": "stream",
          "text": [
            "[1, 2, 3, 4, 5, 6, 7]\n",
            "[7, 6, 5, 4, 3, 2, 1]\n",
            "['a', 'i', 'k', 'n', 'r']\n",
            "['r', 'n', 'k', 'i', 'a']\n"
          ]
        }
      ],
      "source": [
        "num=[1,5,3,7,2,4,6]\n",
        "num.sort()#it sorts according to order\n",
        "print(num)\n",
        "num.sort(reverse=True) # reverse=True is used to reverse the list ie: descending order \n",
        "print(num)\n",
        "pp=[\"k\",\"i\",\"r\",\"a\",\"n\"]\n",
        "pp.sort()\n",
        "print(pp)\n",
        "pp.sort(reverse=True)#it also sort alph according to dictionary order\n",
        "print(pp)"
      ]
    },
    {
      "cell_type": "code",
      "execution_count": null,
      "id": "eeb0b1c2",
      "metadata": {
        "id": "eeb0b1c2",
        "outputId": "d1162fd8-4857-4ba6-b729-0c7e90c04ae8"
      },
      "outputs": [
        {
          "name": "stdout",
          "output_type": "stream",
          "text": [
            "('a', 'b', 'c')\n"
          ]
        }
      ],
      "source": [
        "t=(\"a\",\"b\",\"c\")# tuple doesn't allow addition of elements\n",
        "print(t)"
      ]
    },
    {
      "cell_type": "code",
      "execution_count": null,
      "id": "f144f6ba",
      "metadata": {
        "id": "f144f6ba",
        "outputId": "f769fc63-f10d-4d7a-ca40-5d493a53d1d4"
      },
      "outputs": [
        {
          "name": "stdout",
          "output_type": "stream",
          "text": [
            "2\n",
            "6\n"
          ]
        }
      ],
      "source": [
        "a=[1,2,3,6,7]\n",
        "for i in range (len(a)):\n",
        "    if a[i]%2==0:\n",
        "          print(a[i])"
      ]
    },
    {
      "cell_type": "code",
      "execution_count": null,
      "id": "c10ca0df",
      "metadata": {
        "id": "c10ca0df",
        "outputId": "c67cbd7f-cfb6-4fd9-e89e-18417a58659f"
      },
      "outputs": [
        {
          "name": "stdout",
          "output_type": "stream",
          "text": [
            "enter the numbers: 10\n"
          ]
        },
        {
          "ename": "IndexError",
          "evalue": "list assignment index out of range",
          "output_type": "error",
          "traceback": [
            "\u001b[1;31m---------------------------------------------------------------------------\u001b[0m",
            "\u001b[1;31mIndexError\u001b[0m                                Traceback (most recent call last)",
            "\u001b[1;32m~\\AppData\\Local\\Temp/ipykernel_1828/1138880033.py\u001b[0m in \u001b[0;36m<module>\u001b[1;34m\u001b[0m\n\u001b[0;32m      1\u001b[0m \u001b[0ma\u001b[0m\u001b[1;33m=\u001b[0m\u001b[1;33m[\u001b[0m\u001b[1;33m]\u001b[0m\u001b[1;33m\u001b[0m\u001b[1;33m\u001b[0m\u001b[0m\n\u001b[0;32m      2\u001b[0m \u001b[1;32mfor\u001b[0m \u001b[0mi\u001b[0m \u001b[1;32min\u001b[0m \u001b[0mrange\u001b[0m\u001b[1;33m(\u001b[0m\u001b[1;36m1\u001b[0m\u001b[1;33m,\u001b[0m\u001b[0mn\u001b[0m\u001b[1;33m)\u001b[0m\u001b[1;33m:\u001b[0m\u001b[1;33m\u001b[0m\u001b[1;33m\u001b[0m\u001b[0m\n\u001b[1;32m----> 3\u001b[1;33m     \u001b[0ma\u001b[0m\u001b[1;33m[\u001b[0m\u001b[0mi\u001b[0m\u001b[1;33m]\u001b[0m\u001b[1;33m=\u001b[0m\u001b[0mint\u001b[0m\u001b[1;33m(\u001b[0m\u001b[0minput\u001b[0m\u001b[1;33m(\u001b[0m\u001b[1;34m\"enter the numbers: \"\u001b[0m\u001b[1;33m)\u001b[0m\u001b[1;33m)\u001b[0m\u001b[1;33m\u001b[0m\u001b[1;33m\u001b[0m\u001b[0m\n\u001b[0m\u001b[0;32m      4\u001b[0m     \u001b[1;32mwhile\u001b[0m \u001b[0mlen\u001b[0m\u001b[1;33m(\u001b[0m\u001b[0ma\u001b[0m\u001b[1;33m)\u001b[0m\u001b[1;33m<\u001b[0m\u001b[1;36m10\u001b[0m\u001b[1;33m:\u001b[0m\u001b[1;33m\u001b[0m\u001b[1;33m\u001b[0m\u001b[0m\n\u001b[0;32m      5\u001b[0m         \u001b[0mprint\u001b[0m\u001b[1;33m(\u001b[0m\u001b[0ma\u001b[0m\u001b[1;33m[\u001b[0m\u001b[0mi\u001b[0m\u001b[1;33m]\u001b[0m\u001b[1;33m)\u001b[0m\u001b[1;33m\u001b[0m\u001b[1;33m\u001b[0m\u001b[0m\n",
            "\u001b[1;31mIndexError\u001b[0m: list assignment index out of range"
          ]
        }
      ],
      "source": [
        "a=[]\n",
        "for i in range(1,n):\n",
        "    a[i]=int(input(\"enter the numbers: \"))\n",
        "    while len(a)<10:\n",
        "        print(a[i])\n",
        "        "
      ]
    },
    {
      "cell_type": "code",
      "execution_count": null,
      "id": "7cfaee5f",
      "metadata": {
        "id": "7cfaee5f",
        "outputId": "cdda7a22-b5ab-41f8-ea71-669ad78e381c"
      },
      "outputs": [
        {
          "name": "stdout",
          "output_type": "stream",
          "text": [
            "enter the number4\n",
            "2.0\n"
          ]
        }
      ],
      "source": [
        "import math \n",
        "a=int(input(\"enter the number\"))\n",
        "b=math.sqrt(a)\n",
        "print(b)"
      ]
    },
    {
      "cell_type": "code",
      "execution_count": null,
      "id": "58727fd2",
      "metadata": {
        "id": "58727fd2",
        "outputId": "d2fcf7da-fcd3-44cb-d2a1-86305633877f"
      },
      "outputs": [
        {
          "name": "stdout",
          "output_type": "stream",
          "text": [
            "5\n"
          ]
        }
      ],
      "source": [
        "a=int(5);b=int(3);c=int(2)\n",
        "if a>b and a>c:\n",
        "    print(5)\n",
        "elif b>c and b>a:\n",
        "    print(3)\n",
        "else:\n",
        "    print(2)\n",
        "        "
      ]
    },
    {
      "cell_type": "code",
      "execution_count": null,
      "id": "9a2417c4",
      "metadata": {
        "id": "9a2417c4",
        "outputId": "a00982d0-5ea5-41b9-97d0-37a5bcd36c41"
      },
      "outputs": [
        {
          "name": "stdout",
          "output_type": "stream",
          "text": [
            "Result = 3 2\n"
          ]
        }
      ],
      "source": [
        "a=int(2);b=int(3)\n",
        "temp=a\n",
        "a=b\n",
        "b=temp\n",
        "print(\"Result =\",a,b)\n"
      ]
    },
    {
      "cell_type": "code",
      "execution_count": null,
      "id": "92a5ab06",
      "metadata": {
        "id": "92a5ab06",
        "outputId": "0d92ebdf-fc2d-40cb-85c0-d060dd667501"
      },
      "outputs": [
        {
          "name": "stdout",
          "output_type": "stream",
          "text": [
            "['Red', 'Orange', 'Yellow', 'Black', 'Green']\n"
          ]
        }
      ],
      "source": [
        "Rainbow=['Red','Orange','Yellow','Green']\n",
        "Rainbow.insert(3,'Black')\n",
        "print(Rainbow)"
      ]
    },
    {
      "cell_type": "code",
      "execution_count": null,
      "id": "6625644a",
      "metadata": {
        "id": "6625644a",
        "outputId": "c1c2936e-f24c-4a26-eacb-85045a762727"
      },
      "outputs": [
        {
          "name": "stdout",
          "output_type": "stream",
          "text": [
            "1\n",
            "2\n",
            "3\n",
            "7\n",
            "8\n"
          ]
        }
      ],
      "source": [
        "a=[1,7,3,8,2]\n",
        "a.sort()\n",
        "for x in a:\n",
        "    print(x)"
      ]
    },
    {
      "cell_type": "code",
      "execution_count": null,
      "id": "f443215d",
      "metadata": {
        "id": "f443215d",
        "outputId": "ccbf3690-2840-49ed-dd6a-b24351791c43"
      },
      "outputs": [
        {
          "name": "stdout",
          "output_type": "stream",
          "text": [
            "['123a500', '5a9874']\n"
          ]
        }
      ],
      "source": [
        "list = [\"123a500\", \"0b02222\", \"5a9874\", \"7c8924\", \"8d79654\"]\n",
        "newlist = []\n",
        "\n",
        "for x in list:\n",
        "    if \"a\" in x:\n",
        "        newlist.append(x)\n",
        "\n",
        "print(newlist)\n"
      ]
    },
    {
      "cell_type": "markdown",
      "id": "5b91e735",
      "metadata": {
        "id": "5b91e735"
      },
      "source": [
        "# STRING"
      ]
    },
    {
      "cell_type": "code",
      "execution_count": null,
      "id": "0dc6db04",
      "metadata": {
        "id": "0dc6db04",
        "outputId": "c7ed553e-94c2-48cc-91eb-3ac8cabe8bf6"
      },
      "outputs": [
        {
          "name": "stdout",
          "output_type": "stream",
          "text": [
            "kiran\n",
            "i\n",
            "o\n",
            "5\n"
          ]
        }
      ],
      "source": [
        "a=\"kiran\"\n",
        "print(a)\n",
        "print(a[1])\n",
        "b=\"hello\"\n",
        "print(b[4])\n",
        "print(len(b))"
      ]
    },
    {
      "cell_type": "code",
      "execution_count": null,
      "id": "d6f4b0cf",
      "metadata": {
        "id": "d6f4b0cf",
        "outputId": "381edc77-3a70-4f31-fd64-3460bc9c539a"
      },
      "outputs": [
        {
          "name": "stdout",
          "output_type": "stream",
          "text": [
            "True\n",
            "False\n",
            "False\n"
          ]
        }
      ],
      "source": [
        "a=\"hello retard your life is miserable if you're reading this\"\n",
        "print(\"this\" in a)\n",
        "print(\"xz\" in a)\n",
        "print(\"hello\" not in a)"
      ]
    },
    {
      "cell_type": "markdown",
      "id": "df8766c6",
      "metadata": {
        "id": "df8766c6"
      },
      "source": [
        "## slicing"
      ]
    },
    {
      "cell_type": "code",
      "execution_count": null,
      "id": "4443adcb",
      "metadata": {
        "id": "4443adcb",
        "outputId": "5573a0da-ae60-4a1c-ebd5-b79798318e8e"
      },
      "outputs": [
        {
          "name": "stdout",
          "output_type": "stream",
          "text": [
            "el\n"
          ]
        }
      ],
      "source": [
        "a=\"hello retard your life is miserable if you're reading this\"\n",
        "print(a[1:3])"
      ]
    },
    {
      "cell_type": "markdown",
      "id": "4fe23377",
      "metadata": {
        "id": "4fe23377"
      },
      "source": [
        "## modifing string"
      ]
    },
    {
      "cell_type": "code",
      "execution_count": null,
      "id": "a463bf5f",
      "metadata": {
        "id": "a463bf5f",
        "outputId": "06b78417-2f92-4b47-8139-eae13891de7e"
      },
      "outputs": [
        {
          "name": "stdout",
          "output_type": "stream",
          "text": [
            "HELLO RETARD YOUR LIFE IS MISERABLE IF YOU'RE READING THIS\n",
            "retard\n"
          ]
        }
      ],
      "source": [
        "a=\"hello retard your life is miserable if you're reading this\"\n",
        "print(a.upper())\n",
        "b=\"RETARD\"\n",
        "print(b.lower())"
      ]
    },
    {
      "cell_type": "code",
      "execution_count": null,
      "id": "d8d27a44",
      "metadata": {
        "id": "d8d27a44",
        "outputId": "ec523056-9dd3-4e28-b6b1-5bef5e76a95a"
      },
      "outputs": [
        {
          "name": "stdout",
          "output_type": "stream",
          "text": [
            "your life is miserable\n"
          ]
        }
      ],
      "source": [
        "a=\"    your life is miserable\"\n",
        "print(a.strip())## removes the space at starting"
      ]
    },
    {
      "cell_type": "code",
      "execution_count": null,
      "id": "a291ca85",
      "metadata": {
        "id": "a291ca85",
        "outputId": "3b1f1490-425d-4f22-ebaf-9e4633b693ef"
      },
      "outputs": [
        {
          "name": "stdout",
          "output_type": "stream",
          "text": [
            "your life is miserable\n"
          ]
        }
      ],
      "source": [
        "a=\"your life is Life\"\n",
        "print(a.replace(\"Life\",\"miserable\"))## replace the variable we want to change"
      ]
    },
    {
      "cell_type": "code",
      "execution_count": null,
      "id": "7a25b5f9",
      "metadata": {
        "id": "7a25b5f9",
        "outputId": "7a1732fd-3a7a-4eb1-9ef4-b4b815e28abf"
      },
      "outputs": [
        {
          "name": "stdout",
          "output_type": "stream",
          "text": [
            "['your', 'life', 'is', 'miserable']\n"
          ]
        }
      ],
      "source": [
        "a=\" your life is miserable\"\n",
        "print(a.split())## splits the elements"
      ]
    },
    {
      "cell_type": "code",
      "execution_count": null,
      "id": "bf74b8c6",
      "metadata": {
        "id": "bf74b8c6",
        "outputId": "14045cda-8219-4515-8383-a9b3318141f2"
      },
      "outputs": [
        {
          "name": "stdout",
          "output_type": "stream",
          "text": [
            "yourlifeismiserable\n",
            "your life is miserable\n"
          ]
        }
      ],
      "source": [
        "a=\"your\"\n",
        "b=\"life\"\n",
        "c=\"is\"\n",
        "d=\"miserable\"\n",
        "k=a+b+c+d\n",
        "m=a+\" \"+b+\" \"+c+\" \"+d\n",
        "print(k)\n",
        "print(m)\n"
      ]
    },
    {
      "cell_type": "code",
      "execution_count": null,
      "id": "51446621",
      "metadata": {
        "id": "51446621",
        "outputId": "555af010-5fd5-480c-8587-348c2beab29d"
      },
      "outputs": [
        {
          "name": "stdout",
          "output_type": "stream",
          "text": [
            "your life is miserable, and you'll die at 21\n"
          ]
        }
      ],
      "source": [
        "age=21\n",
        "txt=\"your life is miserable, and you'll die at {}\"\n",
        "print(txt.format(age))## the format is used to convert integers"
      ]
    },
    {
      "cell_type": "code",
      "execution_count": null,
      "id": "61bab29d",
      "metadata": {
        "id": "61bab29d",
        "outputId": "724022a1-1da7-4a39-8475-87b4230d42f3"
      },
      "outputs": [
        {
          "name": "stdout",
          "output_type": "stream",
          "text": [
            "your life is miserable you get paid 1000kk, and you'll die at 21\n"
          ]
        }
      ],
      "source": [
        "age=21\n",
        "earn=\"1000k\"\n",
        "txt=\"your life is miserable you get paid {1}, and you'll die at {0}\"\n",
        "print(txt.format(age,earn))"
      ]
    },
    {
      "cell_type": "code",
      "execution_count": null,
      "id": "7c246589",
      "metadata": {
        "id": "7c246589",
        "outputId": "ce68bfd7-d38e-4186-e8fd-c172f3ee4182"
      },
      "outputs": [
        {
          "name": "stdout",
          "output_type": "stream",
          "text": [
            "your life is \"miserable\" retard\n",
            "you're a retard\n"
          ]
        }
      ],
      "source": [
        "txt=\"your life is \\\"miserable\\\" retard\"\n",
        "a='you\\'re a retard'\n",
        "b=\n",
        "print(txt)##\\txt\\ is used to seperate\n",
        "print(a)"
      ]
    },
    {
      "cell_type": "code",
      "execution_count": null,
      "id": "dbe95023",
      "metadata": {
        "id": "dbe95023",
        "outputId": "5fefab71-d979-4966-ff4a-be43777b6188"
      },
      "outputs": [
        {
          "name": "stdout",
          "output_type": "stream",
          "text": [
            "your life is  \btrash\n",
            "your life is\n",
            "trash\n",
            "your life is\ttrash\n"
          ]
        }
      ],
      "source": [
        "a=\"your life is  \\btrash\"\n",
        "b=\"your life is\\ntrash\"\n",
        "c=\"your life is\\ttrash\"\n",
        "print(a)\n",
        "print(b)\n",
        "print(c)"
      ]
    },
    {
      "cell_type": "code",
      "execution_count": null,
      "id": "50f4a2de",
      "metadata": {
        "id": "50f4a2de"
      },
      "outputs": [],
      "source": [
        "a=\"retard\"\n",
        "b=\"Retard\"\n",
        "c=\"retard is a retard you retard\"\n",
        "print(a.capitalize())\n",
        "print(b.casefold())\n",
        "print(b.center(10))\n",
        "print(c.count(\"retard\"))\n",
        "print(c.endswith(\"retard\"))\n",
        "print(c.)\n"
      ]
    },
    {
      "cell_type": "markdown",
      "id": "4752c658",
      "metadata": {
        "id": "4752c658"
      },
      "source": [
        "1.)cd (filename)/\n",
        "   ls               # it shows complete projects in projects\n",
        "2.)cd foldername/   # it goes to the coressponding\n",
        "   ls               # it shows the list of files inside the folder \n",
        "3.)cat filename.py\n",
        "   go to console and click run\n",
        "   \n",
        "   \n",
        "* when your doing programs in txt files save the format with .txt\n",
        "* echo \"kiran\" >filename.txt\n",
        "* cat filename.txt\n"
      ]
    },
    {
      "cell_type": "markdown",
      "id": "398c3fd2",
      "metadata": {
        "id": "398c3fd2"
      },
      "source": [
        "## module-1\n"
      ]
    },
    {
      "cell_type": "code",
      "execution_count": null,
      "id": "a52f83af",
      "metadata": {
        "id": "a52f83af",
        "outputId": "8eb49821-1012-414a-9529-bb6c65545897"
      },
      "outputs": [
        {
          "name": "stdout",
          "output_type": "stream",
          "text": [
            "Enter something : oooooo\n",
            "You entered oooooo\n"
          ]
        }
      ],
      "source": [
        "variable = input('Enter something : ')\n",
        "print('You entered '+variable)"
      ]
    },
    {
      "cell_type": "code",
      "execution_count": null,
      "id": "1a5f516e",
      "metadata": {
        "id": "1a5f516e",
        "outputId": "01953c45-6ebe-47be-81ec-ae0d1222b404"
      },
      "outputs": [
        {
          "name": "stdout",
          "output_type": "stream",
          "text": [
            "Enter an integer : 555\n",
            "Type of the variable taken is  <class 'int'>\n",
            "You entered 555\n",
            "You entered 555\n",
            "You entered 555\n"
          ]
        }
      ],
      "source": [
        "variable = int(input(\"Enter an integer : \")) #int to make sure that we are getting integer input.\n",
        "print('Type of the variable taken is ',type(variable))\n",
        "print('You entered '+str(variable)) # Here we are changing variable back into str to add with string.\n",
        "print(f'You entered {variable}') # formatted string\n",
        "print('You entered',variable)\n",
        "#If we enter value of any other datatype,ValueError occurs."
      ]
    },
    {
      "cell_type": "code",
      "execution_count": null,
      "id": "693e7d00",
      "metadata": {
        "id": "693e7d00",
        "outputId": "74c67571-a814-4617-ac15-62c77e9daea6"
      },
      "outputs": [
        {
          "name": "stdout",
          "output_type": "stream",
          "text": [
            "Number: 1234\n",
            "String: string\n",
            "Float: 12.34\n",
            "Boolean: True\n",
            "Complex: (1-4j)\n",
            "Float (again) : 1e+101\n"
          ]
        }
      ],
      "source": [
        "a1 = 1234\n",
        "a2 = 'string'\n",
        "a3 = 12.34\n",
        "a4 = True\n",
        "a5 = -4j+1\n",
        "a6 = 10e100  #type is float\n",
        "print('Number: {}\\nString: {}\\nFloat: {}\\nBoolean: {}\\nComplex: {}\\nFloat (again) : {}'.format(a1,a2,a3,a4,a5,a6))"
      ]
    },
    {
      "cell_type": "code",
      "execution_count": null,
      "id": "b10c7c02",
      "metadata": {
        "id": "b10c7c02",
        "outputId": "6ed092c5-0a40-45b7-8ed4-390c604da75a"
      },
      "outputs": [
        {
          "name": "stdout",
          "output_type": "stream",
          "text": [
            "enter the number you want to find palindrome for555444441122\n",
            "not a plaindrome\n"
          ]
        }
      ],
      "source": [
        "a=int(input(\"enter the number you want to find palindrome for\"))\n",
        "rev=0\n",
        "temp=a\n",
        "while temp>0:\n",
        "    rem=temp%10\n",
        "    rev=(rev*10)+rem\n",
        "    temp=temp//10\n",
        "if a==rev:\n",
        "    print(\"palindrome\")\n",
        "else:\n",
        "    print(\"not a plaindrome\")"
      ]
    },
    {
      "cell_type": "code",
      "execution_count": null,
      "id": "cdb3fe3e",
      "metadata": {
        "id": "cdb3fe3e",
        "outputId": "ba3a2095-2f6f-42c5-c4e7-3edf6f803be9"
      },
      "outputs": [
        {
          "name": "stdout",
          "output_type": "stream",
          "text": [
            "enter the number145\n",
            "145\n",
            "yes it is strong number\n"
          ]
        }
      ],
      "source": [
        "#strong number\n",
        "a=int(input(\"enter the number\"))\n",
        "sum=0\n",
        "temp=a\n",
        "while temp>0:\n",
        "    fact=1\n",
        "    i=1\n",
        "    rem=temp%10\n",
        "    while i<=rem: \n",
        "        fact=fact*i\n",
        "        i=i+1\n",
        "    sum=sum+fact \n",
        "    temp=temp//10\n",
        "print(sum)\n",
        "if a==sum:\n",
        "    print(\"yes it is strong number\")\n",
        "else:\n",
        "    print(\"no\")"
      ]
    },
    {
      "cell_type": "code",
      "execution_count": null,
      "id": "5bc37993",
      "metadata": {
        "id": "5bc37993",
        "outputId": "818ac71b-39ba-4344-f7db-1d2c71fae06d"
      },
      "outputs": [
        {
          "name": "stdout",
          "output_type": "stream",
          "text": [
            "enter the number6\n",
            "perfect number\n"
          ]
        }
      ],
      "source": [
        "a=int(input(\"enter the number\"))\n",
        "sum=0\n",
        "for i in range (1,a):\n",
        "    if a%i==0:\n",
        "        sum=sum+i\n",
        "if sum==a:\n",
        "        print(\"perfect number\")\n",
        "else:\n",
        "        print(\"not a perfect number\")"
      ]
    },
    {
      "cell_type": "code",
      "execution_count": null,
      "id": "fe55d0dc",
      "metadata": {
        "id": "fe55d0dc",
        "outputId": "8905a55a-378b-4774-af20-2a3fe6cb089d"
      },
      "outputs": [
        {
          "name": "stdout",
          "output_type": "stream",
          "text": [
            "enter the number1\n"
          ]
        }
      ],
      "source": [
        "a=int(input(\"enter the number\"))\n",
        "#importing math module\n",
        "import math"
      ]
    },
    {
      "cell_type": "code",
      "execution_count": null,
      "id": "1877aabb",
      "metadata": {
        "id": "1877aabb",
        "outputId": "a7d1852d-156e-40cd-92e4-4aed56c64605"
      },
      "outputs": [
        {
          "name": "stdout",
          "output_type": "stream",
          "text": [
            "enter the number4\n",
            "124\n",
            "123\n",
            "81.0\n",
            "9.0\n",
            "5.66\n",
            "1.0\n",
            "2\n",
            "-99\n"
          ]
        }
      ],
      "source": [
        "a=int(input(\"enter the number\"))\n",
        "#importing math module\n",
        "import math\n",
        "#using math.ceil\n",
        "sample_num=123.456\n",
        "print(math.ceil(sample_num))\n",
        "#using math.floor\n",
        "sample_num=123.456\n",
        "print (math.floor(sample_num))\n",
        "#using math.pow\n",
        "print(math.pow(9,2))\n",
        "#using math.sqrt\n",
        "print (math.sqrt(81))\n",
        "print (math.fabs(5.66))\n",
        "print (math.fmod(10,3))\n",
        "print(math.trunc(2.77))\n",
        "print(math.trunc(-99.29))\n",
        "\n"
      ]
    },
    {
      "cell_type": "code",
      "execution_count": null,
      "id": "8b34d53d",
      "metadata": {
        "id": "8b34d53d",
        "outputId": "5704c136-f37a-4496-f222-85b734704659"
      },
      "outputs": [
        {
          "name": "stdout",
          "output_type": "stream",
          "text": [
            "enter the principal amount6000\n",
            "enter the intrest amount13\n",
            "amount of years3\n",
            "1 yr interst si is  780\n",
            "1 yr interst ci is  6779.999999999999\n",
            "2 yr interst si is  1560\n",
            "2 yr interst ci is  7661.399999999998\n",
            "3 yr interst si is  2340\n",
            "3 yr interst ci is  8657.381999999998\n",
            "4 yr interst si is  3120\n",
            "4 yr interst ci is  9782.841659999996\n",
            "5 yr interst si is  3900\n",
            "5 yr interst ci is  11054.611075799994\n",
            "6 yr interst si is  4680\n",
            "6 yr interst ci is  12491.710515653993\n",
            "7 yr interst si is  5460\n",
            "7 yr interst ci is  14115.632882689011\n"
          ]
        }
      ],
      "source": [
        "p=int(input(\"enter the principal amount\"))\n",
        "r=int(input(\"enter the intrest amount\"))\n",
        "t=int(input(\"amount of years\"))\n",
        "for i in range(1,t+1):\n",
        "    si=(p*i*r)//100\n",
        "    print(i,\"yr interst si is \",si)\n",
        "    ci=p*(math.pow(1+r/100,i))\n",
        "    print(i,\"yr interst ci is \",ci)"
      ]
    },
    {
      "cell_type": "markdown",
      "id": "719ffd01",
      "metadata": {
        "id": "719ffd01"
      },
      "source": [
        "# TUPLE\n"
      ]
    },
    {
      "cell_type": "code",
      "execution_count": null,
      "id": "7930c4f3",
      "metadata": {
        "id": "7930c4f3",
        "outputId": "1f114f99-a78c-497d-98e1-5c24f94d35ae"
      },
      "outputs": [
        {
          "name": "stdout",
          "output_type": "stream",
          "text": [
            "['hello', 'dead', 'bye', 'apple']\n"
          ]
        }
      ],
      "source": [
        "a=(\"hi\",\"hello\",\"apple\")\n",
        "b=list(a)\n",
        "b.append(\"bye\")\n",
        "b.insert(1,\"dead\")\n",
        "b.remove(\"hi\")\n",
        "b.sort(reverse=True)\n",
        "print(b)"
      ]
    },
    {
      "cell_type": "code",
      "execution_count": null,
      "id": "833b711e",
      "metadata": {
        "id": "833b711e",
        "outputId": "b22293b7-29be-4713-970a-74d30a66fdd9"
      },
      "outputs": [
        {
          "name": "stdout",
          "output_type": "stream",
          "text": [
            "('apple',)\n",
            "('apple', 'die')\n"
          ]
        }
      ],
      "source": [
        "a=(\"apple\",)## used to create a tuple variable\n",
        "print(a)\n",
        "b=(\"die\",)\n",
        "c=a+b\n",
        "print(c)"
      ]
    },
    {
      "cell_type": "code",
      "execution_count": null,
      "id": "4ae99327",
      "metadata": {
        "id": "4ae99327",
        "outputId": "9857a9b9-cfbb-4877-936e-7f3522d1734a"
      },
      "outputs": [
        {
          "name": "stdout",
          "output_type": "stream",
          "text": [
            "die hi bye\n"
          ]
        }
      ],
      "source": [
        "a=(\"hi\",\"bye\",\"die\")\n",
        "(wolf,fox,deer)=a\n",
        "print(deer,wolf,fox)"
      ]
    },
    {
      "cell_type": "code",
      "execution_count": null,
      "id": "f0bb8673",
      "metadata": {
        "id": "f0bb8673",
        "outputId": "db37105a-2135-4131-917c-5ead72af81d5"
      },
      "outputs": [
        {
          "name": "stdout",
          "output_type": "stream",
          "text": [
            "hi\n",
            "bye die\n",
            "hell\n"
          ]
        }
      ],
      "source": [
        "a=(\"hi\",\"bye\",\"die\",\"hell\")\n",
        "(jin,*skkkk,kikk)=a\n",
        "print(jin)\n",
        "print(*skkkk)\n",
        "print(kikk)\n"
      ]
    },
    {
      "cell_type": "code",
      "execution_count": null,
      "id": "d0d9f7a1",
      "metadata": {
        "id": "d0d9f7a1",
        "outputId": "0cc055d8-9d1a-44f8-f554-a065b28c87a8"
      },
      "outputs": [
        {
          "name": "stdout",
          "output_type": "stream",
          "text": [
            "1=\"addition\",2=\"subtraction\",3=\"multiplication\",4=\"division\"\n",
            "enter any number upto 44\n",
            "0.6666666666666666\n"
          ]
        }
      ],
      "source": [
        "a=2\n",
        "b=3\n",
        "print('1=\"addition\",2=\"subtraction\",3=\"multiplication\",4=\"division\"')\n",
        "c=int(input(\"enter any number upto 4\"))\n",
        "if c==1:\n",
        "     print(a+b)\n",
        "elif c==2:\n",
        "    print(a-b)\n",
        "elif c==3:\n",
        "    print(a*b)\n",
        "elif c==4:\n",
        "    print(a/b)\n",
        "else:\n",
        "    print(invalid)"
      ]
    },
    {
      "cell_type": "code",
      "execution_count": null,
      "id": "c8af8af7",
      "metadata": {
        "id": "c8af8af7",
        "outputId": "300e5c99-7eb2-4f70-ffca-ae2c806de46e"
      },
      "outputs": [
        {
          "name": "stdout",
          "output_type": "stream",
          "text": [
            "Enter 1st number: 15\n",
            "Enter 2nd number: 5\n",
            "GCD is 10\n"
          ]
        }
      ],
      "source": [
        "#Compute GCD of two given numbers.\n",
        "num1 = int(input(\"Enter 1st number: \"))\n",
        "num2 = int(input(\"Enter 2nd number: \"))\n",
        "gcd=i\n",
        "while (i <= num1 and i <= num2):\n",
        "  if(num1 % i == 0 and num2 % i == 0):\n",
        "   \n",
        "   i=i + 1\n",
        "print(\"GCD is\",gcd)\n"
      ]
    },
    {
      "cell_type": "markdown",
      "id": "624e843f",
      "metadata": {
        "id": "624e843f"
      },
      "source": [
        "# sets\n"
      ]
    },
    {
      "cell_type": "code",
      "execution_count": null,
      "id": "cc065551",
      "metadata": {
        "id": "cc065551",
        "outputId": "0aeb6f9b-89af-4495-a9a1-0a55b6155851"
      },
      "outputs": [
        {
          "name": "stdout",
          "output_type": "stream",
          "text": [
            "{1, 2, 3, 4, 5}\n"
          ]
        }
      ],
      "source": [
        "a={1,2,3,4,4,4,3,3,5}##duplicates are not allowed in sets\n",
        "print(a)"
      ]
    },
    {
      "cell_type": "code",
      "execution_count": null,
      "id": "c947f8e8",
      "metadata": {
        "id": "c947f8e8",
        "outputId": "3fd0dd21-8a5a-4d2e-95ae-64c67e56cf89"
      },
      "outputs": [
        {
          "name": "stdout",
          "output_type": "stream",
          "text": [
            "<class 'set'> 6\n"
          ]
        }
      ],
      "source": [
        "a={1,2,3,4,4,4,5,5,5,6}\n",
        "print(type(a),len(a))"
      ]
    },
    {
      "cell_type": "code",
      "execution_count": null,
      "id": "cba98440",
      "metadata": {
        "id": "cba98440",
        "outputId": "d639aa1d-a24f-4d5b-d244-cc16df4ab8c3"
      },
      "outputs": [
        {
          "name": "stdout",
          "output_type": "stream",
          "text": [
            "1\n",
            "2\n",
            "3\n",
            "4\n",
            "5\n"
          ]
        }
      ],
      "source": [
        "a={1,2,3,4,5,5,5}\n",
        "for x in a:\n",
        "    print(x)"
      ]
    },
    {
      "cell_type": "code",
      "execution_count": null,
      "id": "2728d46c",
      "metadata": {
        "id": "2728d46c",
        "outputId": "ddc9fe5f-a895-4d9d-9e63-ac24760e2a46"
      },
      "outputs": [
        {
          "name": "stdout",
          "output_type": "stream",
          "text": [
            "{1, 2, 3, 4, 5, 99}\n"
          ]
        }
      ],
      "source": [
        "a={1,2,3,4,5,5,5}\n",
        "a.add(99)### used for addition of elements\n",
        "print(a)"
      ]
    },
    {
      "cell_type": "code",
      "execution_count": null,
      "id": "8f028cee",
      "metadata": {
        "id": "8f028cee",
        "outputId": "bb3962f1-92e7-4095-f5cf-b836332d88a4"
      },
      "outputs": [
        {
          "name": "stdout",
          "output_type": "stream",
          "text": [
            "{'a', 'number', 'wrong', 'thats', 'sike'}\n"
          ]
        }
      ],
      "source": [
        "a={\"sike\",\"thats\"}\n",
        "b={\"a\",\"wrong\"}\n",
        "c={\"number\"}\n",
        "a.update(b)## update is udes to join the lists\n",
        "a.update(c)\n",
        "print(a)"
      ]
    },
    {
      "cell_type": "code",
      "execution_count": null,
      "id": "78ff765a",
      "metadata": {
        "id": "78ff765a",
        "outputId": "1811127f-63de-48d4-c081-c6e8d7b21b14"
      },
      "outputs": [
        {
          "name": "stdout",
          "output_type": "stream",
          "text": [
            "{1, 2, 3, 4, 5}\n",
            "1\n",
            "set()\n"
          ]
        }
      ],
      "source": [
        "a={1,2,3,4,5,6,6,6}\n",
        "a.remove(6)### remove will raise error if its not present\n",
        "a.discard(7)### discard will not rasie a error if its not present\n",
        "print(a)\n",
        "b=a.pop()### this removes element and stores in b\n",
        "print(b)\n",
        "a.clear()###this clear the set\n",
        "print(a)\n",
        "del a### this deleted the set \n"
      ]
    },
    {
      "cell_type": "code",
      "execution_count": null,
      "id": "40094f8a",
      "metadata": {
        "id": "40094f8a",
        "outputId": "9d6b3519-6192-412a-99fd-6e6056688490"
      },
      "outputs": [
        {
          "name": "stdout",
          "output_type": "stream",
          "text": [
            "{1, 2, 3, 4, 5, 6, 'b', 'd', 'a', 'c'}\n",
            "{1, 2, 3, 4, 5}\n"
          ]
        }
      ],
      "source": [
        "a={1,2,3,4,5,5,5,5,5,5,5,5,5,5,5,5,5,5,5,5,5,5,5,5,5,5,5,5}\n",
        "b={\"a\",\"b\",\"c\",\"d\",1,6}\n",
        "c=a.union(b)### combines all the elements\n",
        "print(c)\n",
        "a.intersection(b) ### only shows the common element\n",
        "print(a)"
      ]
    },
    {
      "cell_type": "code",
      "execution_count": null,
      "id": "04976203",
      "metadata": {
        "id": "04976203",
        "outputId": "e91e4f70-a578-4fe3-d3e9-4e55a66dafca"
      },
      "outputs": [
        {
          "name": "stdout",
          "output_type": "stream",
          "text": [
            "{1, 2, 3, 4}\n"
          ]
        }
      ],
      "source": [
        "a={1,2,3,4,4,4,4,4,4,4,4}\n",
        "b=a.copy() ### copys the elemens of the set\n",
        "print(b)"
      ]
    },
    {
      "cell_type": "code",
      "execution_count": null,
      "id": "be1c0cc7",
      "metadata": {
        "id": "be1c0cc7",
        "outputId": "09b59927-dc06-41dd-9ad4-270ba03aab9c"
      },
      "outputs": [
        {
          "name": "stdout",
          "output_type": "stream",
          "text": [
            "False\n",
            "False\n",
            "False\n"
          ]
        }
      ],
      "source": [
        "a={1,2,3,4,5,5,5,5,6,6,6,6}\n",
        "b={1,3,6,8,9}\n",
        "print(a.isdisjoint(b))\n",
        "print(b.issubset(a))\n",
        "print(a.issuperset(b))"
      ]
    },
    {
      "cell_type": "code",
      "execution_count": null,
      "id": "561ec00f",
      "metadata": {
        "id": "561ec00f",
        "outputId": "610a06e2-3f6d-4bf2-ae30-e17aebfae680"
      },
      "outputs": [
        {
          "name": "stdout",
          "output_type": "stream",
          "text": [
            "{'ooooo', 'bye', 'f', 'skkskks'}\n"
          ]
        }
      ],
      "source": [
        "a= {\"hi\", \"skkskks\", \"ooooo\"}\n",
        "b = {\"bye\",\"f\", \"hi\"}\n",
        "\n",
        "c = a.symmetric_difference(b) \n",
        "\n",
        "print(c)\n"
      ]
    },
    {
      "cell_type": "markdown",
      "id": "a9f5e695",
      "metadata": {
        "id": "a9f5e695"
      },
      "source": [
        "# Dictionary"
      ]
    },
    {
      "cell_type": "code",
      "execution_count": null,
      "id": "7914c9a0",
      "metadata": {
        "id": "7914c9a0",
        "outputId": "578988fa-cc55-479e-b968-76ee990d3ffa"
      },
      "outputs": [
        {
          "name": "stdout",
          "output_type": "stream",
          "text": [
            "{'team': 'mercedes amg ', 'model': 'w13', 'electric': False, 'year': 2022}\n",
            "<class 'dict'>\n"
          ]
        }
      ],
      "source": [
        "a ={\n",
        "  \"team\": \"mercedes amg \", ###format for buliding the sets\n",
        "  \"model\": \"w13\",\n",
        "  \"electric\": False,\n",
        "  \"year\": 2022\n",
        "}\n",
        "print(a)\n",
        "print(type(a))\n"
      ]
    },
    {
      "cell_type": "code",
      "execution_count": null,
      "id": "290f816c",
      "metadata": {
        "id": "290f816c",
        "outputId": "bd8f154f-e7c1-4da1-b8e1-b952deb16c01"
      },
      "outputs": [
        {
          "name": "stdout",
          "output_type": "stream",
          "text": [
            "mercedes amg \n",
            "w13\n",
            "3\n"
          ]
        }
      ],
      "source": [
        "a={\n",
        "  \"team\": \"mercedes amg \", ###format for buliding the sets\n",
        "  \"model\": \"w13\",\n",
        "  \"year\": 2022\n",
        "}\n",
        "print(a[\"team\"])\n",
        "print(a[\"model\"])\n",
        "print(len(a))  ### shows the len of the dic"
      ]
    },
    {
      "cell_type": "code",
      "execution_count": null,
      "id": "b5187ee7",
      "metadata": {
        "id": "b5187ee7",
        "outputId": "a4520e73-7bff-4ee1-eb1f-19c6577cc9fe"
      },
      "outputs": [
        {
          "name": "stdout",
          "output_type": "stream",
          "text": [
            "mercedes amg  w13\n"
          ]
        }
      ],
      "source": [
        "a={\n",
        "  \"team\": \"mercedes amg \", ###format for buliding the sets\n",
        "  \"model\": \"w13\",\n",
        "  \"year\": 2022\n",
        "}\n",
        "b=a[\"team\"]\n",
        "c=a.get(\"model\")\n",
        "print(b,c)"
      ]
    },
    {
      "cell_type": "code",
      "execution_count": null,
      "id": "968e20c9",
      "metadata": {
        "id": "968e20c9",
        "outputId": "0f03972e-92ab-4648-8077-62cce414f8e4"
      },
      "outputs": [
        {
          "name": "stdout",
          "output_type": "stream",
          "text": [
            "dict_keys(['team', 'model', 'year'])\n",
            "{'team': 'mercedes amg ', 'model': 'w13', 'year': 2022, 'drivers': 'lewis,russel'}\n"
          ]
        }
      ],
      "source": [
        "a={\n",
        "  \"team\": \"mercedes amg \", ###format for buliding the sets\n",
        "  \"model\": \"w13\",\n",
        "  \"year\": 2022\n",
        "}\n",
        "print(a.keys()) ### THIS IS THE KEYS function used to display all the key words\n",
        "a[\"drivers\"]=\"lewis,russel\"\n",
        "print(a)"
      ]
    },
    {
      "cell_type": "code",
      "execution_count": null,
      "id": "ac929cf4",
      "metadata": {
        "id": "ac929cf4",
        "outputId": "e8dfdbe3-d54e-4489-bec7-0d8977ea4ae8"
      },
      "outputs": [
        {
          "name": "stdout",
          "output_type": "stream",
          "text": [
            "dict_values(['mercedes amg ', 'w13', 2022])\n",
            "{'team': 'mercedes amg ', 'model': 'w13', 'year': 2021}\n"
          ]
        }
      ],
      "source": [
        "a={\n",
        "  \"team\": \"mercedes amg \", ###format for buliding the sets\n",
        "  \"model\": \"w13\",\n",
        "  \"year\": 2022\n",
        "}\n",
        "print(a.values())\n",
        "a[\"year\"]=2021 \n",
        "print(a)"
      ]
    },
    {
      "cell_type": "code",
      "execution_count": null,
      "id": "106d0097",
      "metadata": {
        "id": "106d0097",
        "outputId": "ec8d64b8-9d03-4dc4-af6d-03b916dbca5c"
      },
      "outputs": [
        {
          "name": "stdout",
          "output_type": "stream",
          "text": [
            "okay\n"
          ]
        }
      ],
      "source": [
        "a={\n",
        "  \"team\": \"mercedes amg \",\n",
        "  \"model\": \"w13\",\n",
        "  \"year\": 2022\n",
        "}\n",
        "if \"team\" in a:\n",
        "       print(\"okay\")"
      ]
    },
    {
      "cell_type": "code",
      "execution_count": null,
      "id": "c545b86f",
      "metadata": {
        "id": "c545b86f",
        "outputId": "fef868e4-ee57-4ec9-eb3a-d49dd75af1aa"
      },
      "outputs": [
        {
          "name": "stdout",
          "output_type": "stream",
          "text": [
            "{'team': 'mercedes amg ', 'model': 'w13', 'year': 2022, 'driver': 'lewis'}\n",
            "{'team': 'mercedes amg ', 'model': 'w13', 'year': 2022, 'driver': 'lewis', 'age': 37}\n"
          ]
        }
      ],
      "source": [
        "a={\n",
        "  \"team\": \"mercedes amg \",\n",
        "  \"model\": \"w13\",\n",
        "  \"year\": 2022\n",
        "}\n",
        "a.update({\"driver\":\"lewis\"}) ### it is used to update the list\n",
        "print(a)\n",
        "a.update ({\"age\":37}) ### it is also used to update the list \n",
        "print(a)"
      ]
    },
    {
      "cell_type": "code",
      "execution_count": null,
      "id": "96f5aedb",
      "metadata": {
        "id": "96f5aedb",
        "outputId": "34b721bb-68c3-4a54-cf21-6eea08d73bf6"
      },
      "outputs": [
        {
          "name": "stdout",
          "output_type": "stream",
          "text": [
            "{'team': 'mercedes amg ', 'model': 'w13'}\n"
          ]
        }
      ],
      "source": [
        "a={\n",
        "  \"team\": \"mercedes amg \",\n",
        "  \"model\": \"w13\",\n",
        "  \"year\": 2022\n",
        "}\n",
        "a.pop(\"year\") ### this is used to remove the elements from the sets\n",
        "print(a)"
      ]
    },
    {
      "cell_type": "code",
      "execution_count": null,
      "id": "d0cef17e",
      "metadata": {
        "id": "d0cef17e",
        "outputId": "c0d56b01-e7d6-4cd9-af54-e3c4f10c4ca8"
      },
      "outputs": [
        {
          "name": "stdout",
          "output_type": "stream",
          "text": [
            "('team', 'mercedes amg ')\n",
            "('model', 'w13')\n",
            "('year', 2022)\n"
          ]
        }
      ],
      "source": [
        "a={\n",
        "  \"team\": \"mercedes amg \",\n",
        "  \"model\": \"w13\",\n",
        "  \"year\": 2022\n",
        "}\n",
        "for x in a.items():\n",
        "    print(x)"
      ]
    },
    {
      "cell_type": "code",
      "execution_count": null,
      "id": "356bacb8",
      "metadata": {
        "id": "356bacb8",
        "outputId": "5ecff0b4-2dd0-45ba-f38d-1709c1672c68"
      },
      "outputs": [
        {
          "name": "stdout",
          "output_type": "stream",
          "text": [
            "team\n",
            "model\n",
            "year\n"
          ]
        }
      ],
      "source": [
        "a={\n",
        "  \"team\": \"mercedes amg \",\n",
        "  \"model\": \"w13\",\n",
        "  \"year\": 2022\n",
        "}\n",
        "for x in a.keys():\n",
        "    print(x)"
      ]
    },
    {
      "cell_type": "code",
      "execution_count": null,
      "id": "8a253f27",
      "metadata": {
        "id": "8a253f27",
        "outputId": "536cd599-9365-4504-dadb-092565d5a9af"
      },
      "outputs": [
        {
          "name": "stdout",
          "output_type": "stream",
          "text": [
            "{'team': 'mercedes amg ', 'model': 'w13', 'year': 2022}\n"
          ]
        }
      ],
      "source": [
        "a={\n",
        "  \"team\": \"mercedes amg \",\n",
        "  \"model\": \"w13\",\n",
        "  \"year\": 2022\n",
        "}\n",
        "b=dict(a)\n",
        "print(b)"
      ]
    },
    {
      "cell_type": "code",
      "execution_count": null,
      "id": "88db4b33",
      "metadata": {
        "id": "88db4b33",
        "outputId": "6d1a9600-c030-4179-bad3-25efd65f56dd"
      },
      "outputs": [
        {
          "name": "stdout",
          "output_type": "stream",
          "text": [
            "{'team': 'mercedes amg ', 'model': 'w13', 'year': 2022}\n"
          ]
        }
      ],
      "source": [
        "a={\n",
        "  \"team\": \"mercedes amg \",\n",
        "  \"model\": \"w13\",\n",
        "  \"year\": 2022\n",
        "}\n",
        "b=a.copy()\n",
        "print(b)"
      ]
    },
    {
      "cell_type": "code",
      "execution_count": null,
      "id": "9a60e0ea",
      "metadata": {
        "id": "9a60e0ea",
        "outputId": "ea9b00ce-69ca-47b7-fdb7-eb7ac7d02da2"
      },
      "outputs": [
        {
          "name": "stdout",
          "output_type": "stream",
          "text": [
            "{'paddock1': {'team': 'mercedes amg ', 'model': 'w13', 'year': 2022}, 'paddock2': {'team': 'red bull ', 'model': 'rb11', 'year': 2021}, 'paddock3': {'team': 'ferrari ', 'model': 'sf', 'year': 2020}}\n"
          ]
        }
      ],
      "source": [
        "f1={\n",
        "  \"paddock1\" :{  \n",
        "  \"team\": \"mercedes amg \",\n",
        "  \"model\": \"w13\",\n",
        "  \"year\": 2022\n",
        "  },\n",
        "    \n",
        "\"paddock2\":{\n",
        "   \n",
        "  \"team\": \"red bull \",\n",
        "  \"model\": \"rb11\",\n",
        "  \"year\": 2021\n",
        "},\n",
        "\"paddock3\":{\n",
        " \n",
        "  \"team\": \"ferrari \",\n",
        "  \"model\": \"sf\",\n",
        "  \"year\": 2020\n",
        "}\n",
        "}    \n",
        "print(f1)\n",
        "\n",
        "\n",
        "  \n"
      ]
    },
    {
      "cell_type": "code",
      "execution_count": null,
      "id": "81aa3efd",
      "metadata": {
        "id": "81aa3efd",
        "outputId": "9489bb3e-05a7-4e42-a611-e6eb56f743ff"
      },
      "outputs": [
        {
          "name": "stdout",
          "output_type": "stream",
          "text": [
            "lewis\n"
          ]
        }
      ],
      "source": [
        "a={\n",
        "  \"team\": \"mercedes amg \",\n",
        "  \"model\": \"w13\",\n",
        "  \"year\": 2022\n",
        "}\n",
        "x=a.setdefault(\"driver\",\"lewis\")\n",
        "print(x)"
      ]
    },
    {
      "cell_type": "code",
      "execution_count": null,
      "id": "24341533",
      "metadata": {
        "id": "24341533",
        "outputId": "81bda6fc-3456-4d31-ed6e-de58a600398d"
      },
      "outputs": [
        {
          "name": "stdout",
          "output_type": "stream",
          "text": [
            "{'Black', 'Yellow'}\n"
          ]
        }
      ],
      "source": [
        "set1 = {\"Yellow\", \"Orange\", \"Black\"}\n",
        "set2 = {\"Orange\", \"Blue\", \"Pink\"}\n",
        "\n",
        "set1.difference_update(set2)\n",
        "print(set1)"
      ]
    },
    {
      "cell_type": "code",
      "execution_count": null,
      "id": "40e4a94a",
      "metadata": {
        "id": "40e4a94a",
        "outputId": "c9971672-a1b9-4c9f-8b66-13fb9b6c3617"
      },
      "outputs": [
        {
          "ename": "SyntaxError",
          "evalue": "invalid syntax (Temp/ipykernel_5800/4142306853.py, line 2)",
          "output_type": "error",
          "traceback": [
            "\u001b[1;36m  File \u001b[1;32m\"C:\\Users\\CSE22004\\AppData\\Local\\Temp/ipykernel_5800/4142306853.py\"\u001b[1;36m, line \u001b[1;32m2\u001b[0m\n\u001b[1;33m    Output :\u001b[0m\n\u001b[1;37m            ^\u001b[0m\n\u001b[1;31mSyntaxError\u001b[0m\u001b[1;31m:\u001b[0m invalid syntax\n"
          ]
        }
      ],
      "source": [
        "a = \"    Hello World \"\n",
        "Output :\n",
        "a = \" Hello World \""
      ]
    },
    {
      "cell_type": "code",
      "execution_count": null,
      "id": "6e15a4b6",
      "metadata": {
        "id": "6e15a4b6",
        "outputId": "c5024af8-dd74-4ed3-bf72-1b4c599bb354"
      },
      "outputs": [
        {
          "ename": "TypeError",
          "evalue": "'set' object does not support item deletion",
          "output_type": "error",
          "traceback": [
            "\u001b[1;31m---------------------------------------------------------------------------\u001b[0m",
            "\u001b[1;31mTypeError\u001b[0m                                 Traceback (most recent call last)",
            "\u001b[1;32m~\\AppData\\Local\\Temp/ipykernel_1640/3174307539.py\u001b[0m in \u001b[0;36m<module>\u001b[1;34m\u001b[0m\n\u001b[0;32m      1\u001b[0m \u001b[0msampleSet\u001b[0m \u001b[1;33m=\u001b[0m \u001b[1;33m{\u001b[0m\u001b[1;34m\"Yellow\"\u001b[0m\u001b[1;33m,\u001b[0m \u001b[1;34m\"Orange\"\u001b[0m\u001b[1;33m,\u001b[0m \u001b[1;34m\"Black\"\u001b[0m\u001b[1;33m}\u001b[0m\u001b[1;33m\u001b[0m\u001b[1;33m\u001b[0m\u001b[0m\n\u001b[1;32m----> 2\u001b[1;33m \u001b[1;32mdel\u001b[0m \u001b[0msampleSet\u001b[0m \u001b[1;33m[\u001b[0m\u001b[1;34m\"Orange\"\u001b[0m\u001b[1;33m]\u001b[0m\u001b[1;33m\u001b[0m\u001b[1;33m\u001b[0m\u001b[0m\n\u001b[0m",
            "\u001b[1;31mTypeError\u001b[0m: 'set' object does not support item deletion"
          ]
        }
      ],
      "source": [
        "sampleSet = {\"Yellow\", \"Orange\", \"Black\"}\n",
        "del sampleSet [\"Orange\"]"
      ]
    },
    {
      "cell_type": "code",
      "execution_count": null,
      "id": "b2e32feb",
      "metadata": {
        "id": "b2e32feb",
        "outputId": "9bc2b6ac-3aad-4ea4-f2ff-4ae53c726677"
      },
      "outputs": [
        {
          "name": "stdout",
          "output_type": "stream",
          "text": [
            "format\n"
          ]
        }
      ],
      "source": [
        "a=\"information\"\n",
        "print(a[2:8])"
      ]
    },
    {
      "cell_type": "markdown",
      "id": "cbafd602",
      "metadata": {
        "id": "cbafd602"
      },
      "source": [
        "# Functions\n",
        "\n"
      ]
    },
    {
      "cell_type": "code",
      "execution_count": null,
      "id": "890f6049",
      "metadata": {
        "id": "890f6049",
        "outputId": "639da6d4-59ae-4a11-cc99-214a75c5f4b9"
      },
      "outputs": [
        {
          "name": "stdout",
          "output_type": "stream",
          "text": [
            "hello\n"
          ]
        }
      ],
      "source": [
        "def kiran():\n",
        "    print(\"hello\")\n",
        "kiran()"
      ]
    },
    {
      "cell_type": "code",
      "execution_count": null,
      "id": "b7907c43",
      "metadata": {
        "id": "b7907c43",
        "outputId": "b72c0b77-75b8-4580-edb3-baaadc41f5de"
      },
      "outputs": [
        {
          "name": "stdout",
          "output_type": "stream",
          "text": [
            "mentally retarded\n",
            "physically retarded\n",
            "your retarded\n"
          ]
        }
      ],
      "source": [
        "def kiran(hi):\n",
        "    print( hi +\" \"+\"retarded\")\n",
        "kiran(\"mentally\")\n",
        "kiran(\"physically\")\n",
        "kiran(\"your\")"
      ]
    },
    {
      "cell_type": "code",
      "execution_count": null,
      "id": "be96fbe7",
      "metadata": {
        "id": "be96fbe7",
        "outputId": "f7ef40ca-14cf-4a5f-a183-cd3d6a42b598"
      },
      "outputs": [
        {
          "name": "stdout",
          "output_type": "stream",
          "text": [
            "hello 23\n",
            "yeet 13\n"
          ]
        }
      ],
      "source": [
        "def kiran(hi,bye):\n",
        "    print(hi,bye)\n",
        "kiran(\"hello\",23)\n",
        "kiran(\"yeet\",13)\n"
      ]
    },
    {
      "cell_type": "code",
      "execution_count": null,
      "id": "38587982",
      "metadata": {
        "id": "38587982",
        "outputId": "2541c834-c6ff-413f-f28f-9cf0c2eacb22"
      },
      "outputs": [
        {
          "name": "stdout",
          "output_type": "stream",
          "text": [
            ":/ hi\n"
          ]
        }
      ],
      "source": [
        "def kiran(*f):\n",
        "    print(\":/\"+\" \"+f[0])\n",
        "kiran(\"hi\",\"bye\",\"1\",\"23\")#only strings are accepted not int"
      ]
    },
    {
      "cell_type": "code",
      "execution_count": null,
      "id": "6a4a3061",
      "metadata": {
        "id": "6a4a3061",
        "outputId": "da43bc51-04ac-46d7-ccf5-aa8b1d01b27a"
      },
      "outputs": [
        {
          "name": "stdout",
          "output_type": "stream",
          "text": [
            "2\n"
          ]
        }
      ],
      "source": [
        "def kiran(hi,hello,bye):\n",
        "    print(bye)\n",
        "kiran(hi=\"F\",hello=3,bye=2) "
      ]
    },
    {
      "cell_type": "code",
      "execution_count": null,
      "id": "39a85796",
      "metadata": {
        "id": "39a85796",
        "outputId": "a5c22508-e3bb-4f13-f78a-5f725c0df71e"
      },
      "outputs": [
        {
          "name": "stdout",
          "output_type": "stream",
          "text": [
            "h2\n",
            "3 2\n"
          ]
        }
      ],
      "source": [
        "def kiran(**sksk):\n",
        "    print(\"h\" + sksk[\"bye\"])\n",
        "kiran(hi=\"F\",hello=\"3\",bye=\"2\")     \n",
        "\n",
        "def kiran(**sksk):\n",
        "    print(3,sksk[\"bye\"])\n",
        "kiran(hi=\"F\",hello=3,bye=2)     "
      ]
    },
    {
      "cell_type": "code",
      "execution_count": null,
      "id": "7f6d2299",
      "metadata": {
        "id": "7f6d2299",
        "outputId": "c63ab79a-1390-4e14-a432-e5c6a7e8f389"
      },
      "outputs": [
        {
          "ename": "TypeError",
          "evalue": "can only concatenate str (not \"int\") to str",
          "output_type": "error",
          "traceback": [
            "\u001b[1;31m---------------------------------------------------------------------------\u001b[0m",
            "\u001b[1;31mTypeError\u001b[0m                                 Traceback (most recent call last)",
            "\u001b[1;32m~\\AppData\\Local\\Temp/ipykernel_1640/778526278.py\u001b[0m in \u001b[0;36m<module>\u001b[1;34m\u001b[0m\n\u001b[0;32m      1\u001b[0m \u001b[1;32mdef\u001b[0m \u001b[0mkiran\u001b[0m\u001b[1;33m(\u001b[0m\u001b[1;33m**\u001b[0m\u001b[0msksk\u001b[0m\u001b[1;33m)\u001b[0m\u001b[1;33m:\u001b[0m\u001b[1;33m\u001b[0m\u001b[1;33m\u001b[0m\u001b[0m\n\u001b[0;32m      2\u001b[0m     \u001b[0mprint\u001b[0m\u001b[1;33m(\u001b[0m\u001b[1;34m\"h\"\u001b[0m \u001b[1;33m+\u001b[0m \u001b[0msksk\u001b[0m\u001b[1;33m[\u001b[0m\u001b[1;34m\"bye\"\u001b[0m\u001b[1;33m]\u001b[0m\u001b[1;33m)\u001b[0m\u001b[1;33m\u001b[0m\u001b[1;33m\u001b[0m\u001b[0m\n\u001b[1;32m----> 3\u001b[1;33m \u001b[0mkiran\u001b[0m\u001b[1;33m(\u001b[0m\u001b[0mhi\u001b[0m\u001b[1;33m=\u001b[0m\u001b[1;34m\"F\"\u001b[0m\u001b[1;33m,\u001b[0m\u001b[0mhello\u001b[0m\u001b[1;33m=\u001b[0m\u001b[1;36m3\u001b[0m\u001b[1;33m,\u001b[0m\u001b[0mbye\u001b[0m\u001b[1;33m=\u001b[0m\u001b[1;36m2\u001b[0m\u001b[1;33m)\u001b[0m  \u001b[1;31m## we can't get a output when str declared in print and int other\u001b[0m\u001b[1;33m\u001b[0m\u001b[1;33m\u001b[0m\u001b[0m\n\u001b[0m",
            "\u001b[1;32m~\\AppData\\Local\\Temp/ipykernel_1640/778526278.py\u001b[0m in \u001b[0;36mkiran\u001b[1;34m(**sksk)\u001b[0m\n\u001b[0;32m      1\u001b[0m \u001b[1;32mdef\u001b[0m \u001b[0mkiran\u001b[0m\u001b[1;33m(\u001b[0m\u001b[1;33m**\u001b[0m\u001b[0msksk\u001b[0m\u001b[1;33m)\u001b[0m\u001b[1;33m:\u001b[0m\u001b[1;33m\u001b[0m\u001b[1;33m\u001b[0m\u001b[0m\n\u001b[1;32m----> 2\u001b[1;33m     \u001b[0mprint\u001b[0m\u001b[1;33m(\u001b[0m\u001b[1;34m\"h\"\u001b[0m \u001b[1;33m+\u001b[0m \u001b[0msksk\u001b[0m\u001b[1;33m[\u001b[0m\u001b[1;34m\"bye\"\u001b[0m\u001b[1;33m]\u001b[0m\u001b[1;33m)\u001b[0m\u001b[1;33m\u001b[0m\u001b[1;33m\u001b[0m\u001b[0m\n\u001b[0m\u001b[0;32m      3\u001b[0m \u001b[0mkiran\u001b[0m\u001b[1;33m(\u001b[0m\u001b[0mhi\u001b[0m\u001b[1;33m=\u001b[0m\u001b[1;34m\"F\"\u001b[0m\u001b[1;33m,\u001b[0m\u001b[0mhello\u001b[0m\u001b[1;33m=\u001b[0m\u001b[1;36m3\u001b[0m\u001b[1;33m,\u001b[0m\u001b[0mbye\u001b[0m\u001b[1;33m=\u001b[0m\u001b[1;36m2\u001b[0m\u001b[1;33m)\u001b[0m  \u001b[1;31m## we can't get a output when str declared in print and int other\u001b[0m\u001b[1;33m\u001b[0m\u001b[1;33m\u001b[0m\u001b[0m\n",
            "\u001b[1;31mTypeError\u001b[0m: can only concatenate str (not \"int\") to str"
          ]
        }
      ],
      "source": [
        "def kiran(**sksk):\n",
        "    print(\"h\" + sksk[\"bye\"])\n",
        "kiran(hi=\"F\",hello=3,bye=2)  ## we can't get a output when str declared in print and int other   "
      ]
    },
    {
      "cell_type": "code",
      "execution_count": null,
      "id": "351dc829",
      "metadata": {
        "id": "351dc829",
        "outputId": "aecc16d1-24ce-42c2-f21f-2641b336f42c"
      },
      "outputs": [
        {
          "name": "stdout",
          "output_type": "stream",
          "text": [
            "bye\n",
            "yeet\n",
            "sike\n"
          ]
        }
      ],
      "source": [
        "def kiran (hi=\"bye\"):\n",
        "    print(hi)\n",
        "kiran()\n",
        "kiran(\"yeet\")\n",
        "kiran(\"sike\")\n"
      ]
    },
    {
      "cell_type": "code",
      "execution_count": null,
      "id": "ea78f760",
      "metadata": {
        "id": "ea78f760",
        "outputId": "bcb0ee5c-0dd6-490d-cde0-d70b96eb8c77"
      },
      "outputs": [
        {
          "name": "stdout",
          "output_type": "stream",
          "text": [
            "bye\n",
            "yeet\n"
          ]
        }
      ],
      "source": [
        "def kiran(HI):\n",
        "    for k in HI:\n",
        "        print(k)\n",
        "HI=[\"bye\",\"yeet\"]\n",
        "kiran(HI)"
      ]
    },
    {
      "cell_type": "code",
      "execution_count": null,
      "id": "5f706c5f",
      "metadata": {
        "id": "5f706c5f",
        "outputId": "786058eb-beb8-461c-e04b-451ada28acab"
      },
      "outputs": [
        {
          "name": "stdout",
          "output_type": "stream",
          "text": [
            "4\n",
            "5\n",
            "-2\n",
            "hi\n"
          ]
        }
      ],
      "source": [
        "def sum(s,k):\n",
        "    return s+k\n",
        "print(sum(1,3))\n",
        "print(sum(2,3))\n",
        "\n",
        "def sum(s,k):\n",
        "    return s-k\n",
        "print(sum(1,3))\n",
        "\n",
        "def k(s):\n",
        "    return s\n",
        "print(k(\"hi\"))"
      ]
    },
    {
      "cell_type": "code",
      "execution_count": null,
      "id": "c0a07a9d",
      "metadata": {
        "id": "c0a07a9d",
        "outputId": "bf7c5f41-5741-41b4-a422-1274d75a4ac0"
      },
      "outputs": [
        {
          "name": "stdout",
          "output_type": "stream",
          "text": [
            "the lower values 5\n",
            "higher values 2\n"
          ]
        }
      ],
      "source": [
        "def kou(a):\n",
        "    u=0;l=0\n",
        "    for x in a :\n",
        "        \n",
        "        if x.isupper():\n",
        "            u=u+1\n",
        "            \n",
        "        else:\n",
        "            l=l+1\n",
        "    print(\"the lower values\",l)\n",
        "    print(\"higher values\",u)\n",
        "kou(\"KousHik\")"
      ]
    },
    {
      "cell_type": "markdown",
      "id": "921f8825",
      "metadata": {
        "id": "921f8825"
      },
      "source": [
        "# Module-2"
      ]
    },
    {
      "cell_type": "code",
      "execution_count": null,
      "id": "2250a64d",
      "metadata": {
        "id": "2250a64d",
        "outputId": "cc22a705-ace2-4054-cd7a-a495adf96e8b"
      },
      "outputs": [
        {
          "name": "stdout",
          "output_type": "stream",
          "text": [
            "the string of length 2 is 2\n"
          ]
        }
      ],
      "source": [
        "a=['abc', 'xyz', 'aba', '1221']\n",
        "c=0\n",
        "for x in a :\n",
        "    if len(x)>=2:\n",
        "        if x[0]==x[-1]:\n",
        "            c=c+1\n",
        "print(\"the string of length 2 is\",c)"
      ]
    },
    {
      "cell_type": "code",
      "execution_count": null,
      "id": "b30fd4db",
      "metadata": {
        "id": "b30fd4db",
        "outputId": "b0131649-0cb8-48b2-d8f3-c144250853ad"
      },
      "outputs": [
        {
          "name": "stdout",
          "output_type": "stream",
          "text": [
            "enter the value of n: 5\n",
            "enter the value of r: 100\n",
            "1.2858123457505603e-156\n"
          ]
        }
      ],
      "source": [
        "def ncr(n,r):\n",
        "    return fact(n)/(fact(r)*fact(n-r))\n",
        "def fact(n):\n",
        "    fact=1\n",
        "    for i in range(1,n+1):\n",
        "        fact=fact*i\n",
        "    return fact\n",
        "a=int(input(\"enter the value of n: \"))\n",
        "b=int(input(\"enter the value of r: \"))\n",
        "print(ncr(a,b))"
      ]
    },
    {
      "cell_type": "code",
      "execution_count": null,
      "id": "399a371c",
      "metadata": {
        "id": "399a371c",
        "outputId": "95e4f4c9-a95d-47fb-c4f7-f6a0fd49ce38"
      },
      "outputs": [
        {
          "name": "stdout",
          "output_type": "stream",
          "text": [
            "enter the range6\n",
            "{0: 0, 1: 1, 2: 4, 3: 9, 4: 16, 5: 25, 6: 36}\n",
            "6\n",
            "0\n"
          ]
        }
      ],
      "source": [
        "a=dict()\n",
        "b=int(input(\"enter the range\"))\n",
        "for x in range(b+1):\n",
        "    a[x]=x*x\n",
        "print(a)"
      ]
    },
    {
      "cell_type": "code",
      "execution_count": null,
      "id": "572fe894",
      "metadata": {
        "id": "572fe894",
        "outputId": "c07cf0a4-bb35-41c3-bccb-dffc9ce790e0"
      },
      "outputs": [
        {
          "name": "stdout",
          "output_type": "stream",
          "text": [
            "6 1\n"
          ]
        }
      ],
      "source": [
        "a={\n",
        "    1,2,4,5,6\n",
        "}\n",
        "print(max(a),min(a))"
      ]
    },
    {
      "cell_type": "code",
      "execution_count": null,
      "id": "55baa7ad",
      "metadata": {
        "id": "55baa7ad",
        "outputId": "86cd4b63-0f8a-41d3-b8ab-2a4c72bfc1e9"
      },
      "outputs": [
        {
          "name": "stdout",
          "output_type": "stream",
          "text": [
            "['hi', 'hello']\n",
            " he\n"
          ]
        }
      ],
      "source": [
        "a=\"hi hello\"\n",
        "print(a.split())\n",
        "print(a[2:5])"
      ]
    },
    {
      "cell_type": "code",
      "execution_count": null,
      "id": "627baeaf",
      "metadata": {
        "id": "627baeaf",
        "outputId": "e58cb5c3-bc24-4db3-d016-4fc02ea01c68"
      },
      "outputs": [
        {
          "name": "stdout",
          "output_type": "stream",
          "text": [
            "koushikabckiran\n"
          ]
        }
      ],
      "source": [
        "\n",
        "print(\"koushik\",end='abc')\n",
        "print(\"kiran\")"
      ]
    },
    {
      "cell_type": "code",
      "execution_count": null,
      "id": "9079028d",
      "metadata": {
        "id": "9079028d",
        "outputId": "7597a86a-1ba3-4963-e143-e490c85da938"
      },
      "outputs": [
        {
          "name": "stdout",
          "output_type": "stream",
          "text": [
            "enter the commandroll\n",
            "3\n",
            "6\n",
            "5\n",
            "3\n",
            "2\n",
            "6\n"
          ]
        }
      ],
      "source": [
        "import random\n",
        "a=input(\"enter the command\")\n",
        "if \"roll\"==a:\n",
        "    for x in range(6):\n",
        "        a=random.randint(1,6)\n",
        "        print(a)"
      ]
    },
    {
      "cell_type": "code",
      "execution_count": null,
      "id": "ae00249b",
      "metadata": {
        "id": "ae00249b",
        "outputId": "fecab632-ac25-4add-c45b-0b58e78ce291"
      },
      "outputs": [
        {
          "name": "stdout",
          "output_type": "stream",
          "text": [
            "enter thr first number: 5\n",
            "enter the second number: 2\n",
            "product is:  10\n"
          ]
        }
      ],
      "source": [
        "def product(s,k):\n",
        "    if(s<k):\n",
        "        return product(k,s)\n",
        "    elif(k!=0):\n",
        "        return(s+product(s,k-1))\n",
        "    else:\n",
        "        return 0\n",
        "s=int(input(\"enter thr first number: \"))\n",
        "k=int(input(\"enter the second number: \"))\n",
        "print(\"product is: \",product(s,k))"
      ]
    },
    {
      "cell_type": "code",
      "execution_count": null,
      "id": "22d16f8d",
      "metadata": {
        "id": "22d16f8d",
        "outputId": "a6fc94a8-2159-4071-f328-ad64a680190d"
      },
      "outputs": [
        {
          "name": "stdout",
          "output_type": "stream",
          "text": [
            "enter number of terms: 6\n",
            "fibo\n",
            "0\n",
            "1\n",
            "1\n",
            "2\n",
            "3\n",
            "5\n"
          ]
        }
      ],
      "source": [
        "def fibo(n):\n",
        "    if n<=1:\n",
        "        return n\n",
        "    else:\n",
        "        return(fibo(n-1)+(fibo(n-2)))\n",
        "nterms = int(input(\"enter number of terms: \"))\n",
        "if nterms<=0:\n",
        "               print(\"enter any postive values: \")\n",
        "else:\n",
        "    print(\"fibo\")\n",
        "for i in range(nterms):\n",
        "            print(fibo(i))\n",
        "               "
      ]
    },
    {
      "cell_type": "code",
      "execution_count": null,
      "id": "46faabc9",
      "metadata": {
        "id": "46faabc9",
        "outputId": "07d7be20-c421-4d26-8f92-85ff2350c747"
      },
      "outputs": [
        {
          "name": "stdout",
          "output_type": "stream",
          "text": [
            "enter the amount of number's5\n",
            "{1: 1, 2: 4, 3: 9, 4: 16, 5: 25}\n"
          ]
        }
      ],
      "source": [
        "b=int(input(\"enter the amount of number's\"))\n",
        "a=dict()\n",
        "for x in range(1,b+1):\n",
        "    a[x]=x*x\n",
        "print(a)"
      ]
    },
    {
      "cell_type": "code",
      "execution_count": null,
      "id": "aa38db47",
      "metadata": {
        "id": "aa38db47",
        "outputId": "fcaa389e-d453-4dd6-e33d-394bbf9aa3f5"
      },
      "outputs": [
        {
          "name": "stdout",
          "output_type": "stream",
          "text": [
            "['hi,bye,hello']\n",
            ",by\n"
          ]
        }
      ],
      "source": [
        "a=\"hi,bye,hello\"\n",
        "print(a.split())\n",
        "print(a[2:5])"
      ]
    },
    {
      "cell_type": "code",
      "execution_count": null,
      "id": "ede10b2b",
      "metadata": {
        "id": "ede10b2b",
        "outputId": "094d8d89-8e63-45b9-ed90-318cd77f57f4"
      },
      "outputs": [
        {
          "name": "stdout",
          "output_type": "stream",
          "text": [
            "4 2\n"
          ]
        }
      ],
      "source": [
        "a=[1,2,3,4,5]\n",
        "a.sort(reverse=True)\n",
        "print(a[1],a[-2])"
      ]
    },
    {
      "cell_type": "code",
      "execution_count": null,
      "id": "571c415e",
      "metadata": {
        "id": "571c415e",
        "outputId": "30752541-88f0-4afc-aae3-bf603caf6269"
      },
      "outputs": [
        {
          "name": "stdout",
          "output_type": "stream",
          "text": [
            "['Green', 'White', 'Black', 'Yellow']\n"
          ]
        }
      ],
      "source": [
        "list= ['Red', 'Green', 'White', 'Black', 'Pink', 'Yellow'] \n",
        "list.pop(0)\n",
        "list.pop(3)\n",
        "list.pop()\n",
        "print(list)"
      ]
    },
    {
      "cell_type": "markdown",
      "id": "d8cdefab",
      "metadata": {
        "id": "d8cdefab"
      },
      "source": [
        "### assignment\n"
      ]
    },
    {
      "cell_type": "code",
      "execution_count": null,
      "id": "bbf92c23",
      "metadata": {
        "id": "bbf92c23",
        "outputId": "8a91b211-a398-4938-e631-61c5026ed71c"
      },
      "outputs": [
        {
          "name": "stdout",
          "output_type": "stream",
          "text": [
            "Hi\n",
            "Okay\n",
            "End\n"
          ]
        }
      ],
      "source": [
        "a=\"hi okay end\"\n",
        "for x in a.split():\n",
        "  print(x.capitalize())"
      ]
    },
    {
      "cell_type": "code",
      "execution_count": null,
      "id": "4905d963",
      "metadata": {
        "id": "4905d963",
        "outputId": "2450f38d-cbcd-4869-e23e-69ba1b8050c7"
      },
      "outputs": [
        {
          "name": "stdout",
          "output_type": "stream",
          "text": [
            "hi\n",
            "okay\n"
          ]
        }
      ],
      "source": [
        "a=\"hi okay bye emo\"\n",
        "b=[2,4,6,8,10,12,14,16,18,20]\n",
        "for x in a.split():\n",
        "  if len(x) in b:\n",
        "    print (x)"
      ]
    },
    {
      "cell_type": "code",
      "execution_count": null,
      "id": "cb78310e",
      "metadata": {
        "id": "cb78310e",
        "outputId": "d0006af8-6ef5-4a7b-e61f-1068aa58cd5d"
      },
      "outputs": [
        {
          "name": "stdout",
          "output_type": "stream",
          "text": [
            "enter number8\n",
            "true\n"
          ]
        }
      ],
      "source": [
        "f1=0;f2=1\n",
        "a=[0,1]\n",
        "for i in range (100):\n",
        "  next=f1+f2\n",
        "  f1=f2\n",
        "  f2=next \n",
        "  a.append(next)\n",
        "fin=int(input(\"enter number\"))\n",
        "if fin in a:\n",
        "  print(\"true\")\n",
        "else:\n",
        "  print(\"false\")"
      ]
    },
    {
      "cell_type": "code",
      "execution_count": null,
      "id": "841fafc6",
      "metadata": {
        "id": "841fafc6",
        "outputId": "ccd2d422-a78c-4d71-de85-84bb646d4c9b"
      },
      "outputs": [
        {
          "name": "stdout",
          "output_type": "stream",
          "text": [
            "enter the number: 13\n",
            "enter correct choice\n"
          ]
        }
      ],
      "source": [
        "a=int(input(\"enter the number: \"))\n",
        "b=[4,6,9,11]\n",
        "if a==2:\n",
        "  print(\"28/29\")\n",
        "elif a in b:\n",
        "  print(\"30\")\n",
        "elif a>=13or a<1:\n",
        "  print(\"enter correct choice\")\n",
        "else:\n",
        "  print(\"31\")"
      ]
    },
    {
      "cell_type": "code",
      "execution_count": null,
      "id": "b7a2656c",
      "metadata": {
        "id": "b7a2656c",
        "outputId": "04050b9c-ccda-40ee-a676-062f1692bb91"
      },
      "outputs": [
        {
          "name": "stdout",
          "output_type": "stream",
          "text": [
            "29\n",
            "31\n",
            "37\n",
            "41\n",
            "43\n",
            "47\n"
          ]
        }
      ],
      "source": [
        "def prime():\n",
        "  for i in range(25,50):\n",
        "          c=0\n",
        "          for x in range(1,i+1):\n",
        "           \n",
        "           if i%x==0:\n",
        "             c=c+1\n",
        "          if c<=2:\n",
        "            print(i)\n",
        "prime()  "
      ]
    },
    {
      "cell_type": "code",
      "execution_count": null,
      "id": "ba3f8fbe",
      "metadata": {
        "id": "ba3f8fbe",
        "outputId": "5f6cd92a-f2c2-44e8-b9d0-f64a640a50fe"
      },
      "outputs": [
        {
          "name": "stdout",
          "output_type": "stream",
          "text": [
            "enter the number15\n",
            "enter the last number12\n",
            "15\n",
            "14\n",
            "13\n",
            "12\n"
          ]
        }
      ],
      "source": [
        "a=int(input(\"enter the number\"))\n",
        "b=int(input(\"enter the last number\"))\n",
        "if a>b:\n",
        "  for x in range(a,b-1,-1):\n",
        "    print(x)\n",
        "else:\n",
        "  for x in range(a,b+1):\n",
        "    print(x)"
      ]
    },
    {
      "cell_type": "code",
      "execution_count": null,
      "id": "96e38e33",
      "metadata": {
        "id": "96e38e33",
        "outputId": "6be83892-96ba-44ae-ae5f-e0d250cc9659"
      },
      "outputs": [
        {
          "name": "stdout",
          "output_type": "stream",
          "text": [
            "enter list of intergers: [1556,12,6958]\n",
            "1556126958\n"
          ]
        }
      ],
      "source": [
        "a=eval(input(\"enter list of intergers: \"))\n",
        "b=\"\"\n",
        "for i in a :\n",
        "  b+=str(i)\n",
        "print(b)"
      ]
    },
    {
      "cell_type": "code",
      "execution_count": null,
      "id": "6cbd751f",
      "metadata": {
        "id": "6cbd751f",
        "outputId": "00750919-b0f6-4921-f3c2-109a08bbf319"
      },
      "outputs": [
        {
          "name": "stdout",
          "output_type": "stream",
          "text": [
            "121123145\n"
          ]
        }
      ],
      "source": [
        "a=[121,123,145]\n",
        "b=\"\"\n",
        "for x in a:\n",
        "    b=b+str(x)\n",
        "print(b)"
      ]
    },
    {
      "cell_type": "code",
      "execution_count": null,
      "id": "982310b0",
      "metadata": {
        "id": "982310b0",
        "outputId": "88856ff3-7fac-4ac2-e0e5-b71bbe59bbca"
      },
      "outputs": [
        {
          "name": "stdout",
          "output_type": "stream",
          "text": [
            "enter the number you want to find palindrome for5\n",
            "palindrome\n"
          ]
        }
      ],
      "source": [
        "  ## 6)check a given string is a pallindrome or not\n",
        "a=int(input(\"enter the number you want to find palindrome for\"))\n",
        "rev=0\n",
        "temp=a\n",
        "while temp>0:\n",
        "    rem=temp%10\n",
        "    rev=(rev*10)+rem\n",
        "    temp=temp//10\n",
        "if a==rev:\n",
        "    print(\"palindrome\")\n",
        "else:\n",
        "    print(\"not a plaindrome\")"
      ]
    },
    {
      "cell_type": "code",
      "execution_count": null,
      "id": "5edbdcc2",
      "metadata": {
        "id": "5edbdcc2",
        "outputId": "436d45e7-48c3-4480-d90f-acaa8f67435a"
      },
      "outputs": [
        {
          "name": "stdout",
          "output_type": "stream",
          "text": [
            "enter the number58\n",
            "not a perfect number\n"
          ]
        }
      ],
      "source": [
        "## 5)check a given number is perfect number are not\n",
        "a=int(input(\"enter the number\"))\n",
        "sum=0\n",
        "for i in range (1,a):\n",
        "    if a%i==0:\n",
        "        sum=sum+i\n",
        "if sum==a:\n",
        "        print(\"perfect number\")\n",
        "else:\n",
        "        print(\"not a perfect number\")"
      ]
    },
    {
      "cell_type": "code",
      "execution_count": null,
      "id": "3ba338f0",
      "metadata": {
        "id": "3ba338f0",
        "outputId": "6e7c72c2-430d-4665-925c-3312a57edeb8"
      },
      "outputs": [
        {
          "name": "stdout",
          "output_type": "stream",
          "text": [
            "enter the number9\n",
            "enter number two6\n",
            "enter the third number5\n",
            "a is max\n"
          ]
        }
      ],
      "source": [
        "##15)program to print greatest of three numbers\n",
        "a=int(input(\"enter the number\"));b=int(input(\"enter number two\"));c=int(input(\"enter the third number\"))\n",
        "if a>b and a>c:\n",
        "    print(\"a is max\")\n",
        "elif b>a and b>c :\n",
        "    print(\"b is max\")\n",
        "else :\n",
        "    print(\"c is max\")"
      ]
    },
    {
      "cell_type": "code",
      "execution_count": null,
      "id": "2176c56f",
      "metadata": {
        "id": "2176c56f",
        "outputId": "61f1cb8c-4122-42a8-88b3-94d35717e5b4"
      },
      "outputs": [
        {
          "name": "stdout",
          "output_type": "stream",
          "text": [
            "enter the number6\n",
            "enter the last number1\n",
            "6\n",
            "5\n",
            "4\n",
            "3\n",
            "2\n",
            "1\n"
          ]
        }
      ],
      "source": [
        "##14)given wo integers a and b.if a <b ,print all numbers between in ascending order.if a>b print all numbers between in decending order\n",
        "a=int(input(\"enter the number\"))\n",
        "b=int(input(\"enter the last number\"))\n",
        "if a>b:\n",
        "  for x in range(a,b-1,-1):\n",
        "    print(x)\n",
        "else:\n",
        "  for x in range(a,b+1):\n",
        "    print(x)"
      ]
    },
    {
      "cell_type": "code",
      "execution_count": null,
      "id": "865a9503",
      "metadata": {
        "id": "865a9503",
        "outputId": "97bb8640-0923-4c4c-924b-64944271b9db"
      },
      "outputs": [
        {
          "name": "stdout",
          "output_type": "stream",
          "text": [
            "mark of the student 1 \n",
            "enter the subject marks: 66\n",
            "enter the subject marks: 46\n",
            "enter the subject marks: 55\n",
            "enter the subject marks: 54\n",
            "enter the subject marks: 55\n",
            "FAIL\n"
          ]
        }
      ],
      "source": [
        "## 3)take five subjects from the user and display the grade of the student,if average is 90-100(o),80-89(a+),70-79(a)...\n",
        "print(\"mark of the student 1 \")\n",
        "s1=int(input(\"enter the subject marks: \"))\n",
        "s2=int(input(\"enter the subject marks: \"))\n",
        "s3=int(input(\"enter the subject marks: \"))\n",
        "s4=int(input(\"enter the subject marks: \"))\n",
        "s5=int(input(\"enter the subject marks: \"))\n",
        "total=s1+s2+s3+s4+s5\n",
        "if total>90 and total<100:\n",
        "    print(\"o GRADE\")\n",
        "elif total>80 and total<89:\n",
        "    print(\"a+ GRADE\")\n",
        "elif total>70 and total<79:\n",
        "    print(\"a GRADE\")\n",
        "elif total>60 and total<69:\n",
        "    print(\"b GRADE\")\n",
        "else:\n",
        "    print(\"FAIL\")"
      ]
    },
    {
      "cell_type": "code",
      "execution_count": null,
      "id": "395c2fa6",
      "metadata": {
        "id": "395c2fa6",
        "outputId": "e58e740d-4112-4542-b3ea-bfdf4fd15b37"
      },
      "outputs": [
        {
          "name": "stdout",
          "output_type": "stream",
          "text": [
            "Enter first number:5\n",
            "Enter second number:3\n",
            "GCD is: \n",
            "1\n"
          ]
        }
      ],
      "source": [
        "##7)find the gcd of two numbers with and without recursion(5,3=1)\n",
        "##with recursion \n",
        "def gcd(a,b):\n",
        "    if(b==0):\n",
        "        return a\n",
        "    else:\n",
        "        return gcd(b,a%b)\n",
        "a=int(input(\"Enter first number:\"))\n",
        "b=int(input(\"Enter second number:\"))\n",
        "GCD=gcd(a,b)\n",
        "print(\"GCD is: \")\n",
        "print(GCD)\n",
        "\n"
      ]
    },
    {
      "cell_type": "code",
      "execution_count": null,
      "id": "9808ba19",
      "metadata": {
        "id": "9808ba19",
        "outputId": "b7277e6d-4485-4946-9110-b3ec2b0b386f"
      },
      "outputs": [
        {
          "name": "stdout",
          "output_type": "stream",
          "text": [
            "Enter 1st number: 5\n",
            "Enter 2nd number: 3\n",
            "GCD is 1\n"
          ]
        }
      ],
      "source": [
        "##without recursion\n",
        "num1 = int(input(\"Enter 1st number: \"))\n",
        "num2 = int(input(\"Enter 2nd number: \"))\n",
        "gcd=1\n",
        "while (i <= num1 and i <= num2):\n",
        "  if(num1 % i == 0 and num2 % i == 0):\n",
        "    gcd = i\n",
        "  i = i + 1\n",
        "print(\"GCD is\",gcd)"
      ]
    },
    {
      "cell_type": "code",
      "execution_count": null,
      "id": "3966c35d",
      "metadata": {
        "id": "3966c35d",
        "outputId": "4b502adc-5650-49d8-83db-b33f0f5bf1be"
      },
      "outputs": [
        {
          "name": "stdout",
          "output_type": "stream",
          "text": [
            "14.0\n"
          ]
        }
      ],
      "source": [
        "##10)write a program to calculate the sum of squares given by user(123=14)\n",
        "\n",
        "import math\n",
        "a=[1,2,3]\n",
        "sum=0\n",
        "for x in a:\n",
        "    sum=sum+math.pow(x,2)\n",
        "print(sum)    \n",
        "    "
      ]
    },
    {
      "cell_type": "code",
      "execution_count": null,
      "id": "7be4bca4",
      "metadata": {
        "id": "7be4bca4",
        "outputId": "630bbffa-5fdc-41f6-bea1-6e5dfea5e1e7"
      },
      "outputs": [
        {
          "name": "stdout",
          "output_type": "stream",
          "text": [
            "Enter a number:23456\n",
            "12\n"
          ]
        }
      ],
      "source": [
        "##8)print sum of even digits in a given number\n",
        "n = int(input(\"Enter a number:\"))\n",
        "\n",
        "a= 0\n",
        "\n",
        "while n > 0:\n",
        "    i = n % 10\n",
        "    if i % 2 == 0:\n",
        "        a = a + i\n",
        "    n=n//10\n",
        "print(a)\n"
      ]
    },
    {
      "cell_type": "code",
      "execution_count": null,
      "id": "d9ae731a",
      "metadata": {
        "id": "d9ae731a",
        "outputId": "55087918-dba4-46b1-c90b-d446d45ab861"
      },
      "outputs": [
        {
          "name": "stdout",
          "output_type": "stream",
          "text": [
            "vowels 5\n",
            "consonents 10\n"
          ]
        }
      ],
      "source": [
        "a=\"gitamuniversity\"\n",
        "b=[\"i\",\"a\",\"e\",\"o\",\"U\"]\n",
        "v=0\n",
        "c=0\n",
        "for x in a:\n",
        "    if x in b:\n",
        "        v=v+1\n",
        "    else:\n",
        "        c=c+1\n",
        "print(\"vowels\",v)\n",
        "print(\"consonents\",c)\n"
      ]
    },
    {
      "cell_type": "code",
      "execution_count": null,
      "id": "d96ae48a",
      "metadata": {
        "id": "d96ae48a"
      },
      "outputs": [],
      "source": [
        ""
      ]
    }
  ],
  "metadata": {
    "kernelspec": {
      "display_name": "Python 3 (ipykernel)",
      "language": "python",
      "name": "python3"
    },
    "language_info": {
      "codemirror_mode": {
        "name": "ipython",
        "version": 3
      },
      "file_extension": ".py",
      "mimetype": "text/x-python",
      "name": "python",
      "nbconvert_exporter": "python",
      "pygments_lexer": "ipython3",
      "version": "3.9.7"
    },
    "colab": {
      "name": "Python (1012).ipynb",
      "provenance": [],
      "include_colab_link": true
    }
  },
  "nbformat": 4,
  "nbformat_minor": 5
}