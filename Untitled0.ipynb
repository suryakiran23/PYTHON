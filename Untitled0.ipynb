{
  "nbformat": 4,
  "nbformat_minor": 0,
  "metadata": {
    "colab": {
      "name": "Untitled0.ipynb",
      "provenance": [],
      "collapsed_sections": [],
      "authorship_tag": "ABX9TyOhVgJJMEiRttfhFGlRAoJY",
      "include_colab_link": true
    },
    "kernelspec": {
      "name": "python3",
      "display_name": "Python 3"
    },
    "language_info": {
      "name": "python"
    }
  },
  "cells": [
    {
      "cell_type": "markdown",
      "metadata": {
        "id": "view-in-github",
        "colab_type": "text"
      },
      "source": [
        "<a href=\"https://colab.research.google.com/github/suryakiran23/PYTHON/blob/Module-1/Untitled0.ipynb\" target=\"_parent\"><img src=\"https://colab.research.google.com/assets/colab-badge.svg\" alt=\"Open In Colab\"/></a>"
      ]
    },
    {
      "cell_type": "code",
      "execution_count": null,
      "metadata": {
        "colab": {
          "base_uri": "https://localhost:8080/"
        },
        "id": "WVOyWUWHUQ4d",
        "outputId": "f2d8afac-b1a4-4d31-eccc-fd1452c1f4fe"
      },
      "outputs": [
        {
          "output_type": "stream",
          "name": "stdout",
          "text": [
            "<class 'int'>\n"
          ]
        }
      ],
      "source": [
        "a=10\n",
        "print(type(a))"
      ]
    },
    {
      "cell_type": "code",
      "source": [
        ""
      ],
      "metadata": {
        "id": "E0wnWeh5d0rH"
      },
      "execution_count": null,
      "outputs": []
    },
    {
      "cell_type": "code",
      "source": [
        "j=int(input(\"enter a number : \"))\n",
        "if j>0:    \n",
        "    print(\"number is positive \")\n",
        "elif j==0:\n",
        "    print(\"number is zero\")\n",
        "else:\n",
        "    print(\"number is negative or zero\")"
      ],
      "metadata": {
        "id": "ZMGZ0kI1aS-Z",
        "colab": {
          "base_uri": "https://localhost:8080/"
        },
        "outputId": "1b33d2a9-8454-4445-a858-d4f8e0cec088"
      },
      "execution_count": null,
      "outputs": [
        {
          "output_type": "stream",
          "name": "stdout",
          "text": [
            "enter a number : 14\n",
            "number is positive \n"
          ]
        }
      ]
    },
    {
      "cell_type": "code",
      "source": [
        "age=int(input(\"enter age :\"))\n",
        "if age>18:\n",
        "    print(\"eligible\")\n",
        "else:\n",
        "    print(\"not\")    "
      ],
      "metadata": {
        "colab": {
          "base_uri": "https://localhost:8080/"
        },
        "id": "9bko_Xhfph9H",
        "outputId": "cb1cdf41-23e4-4d0d-f302-25c4e65eae51"
      },
      "execution_count": null,
      "outputs": [
        {
          "output_type": "stream",
          "name": "stdout",
          "text": [
            "enter age :3\n",
            "not\n"
          ]
        }
      ]
    },
    {
      "cell_type": "code",
      "source": [
        ""
      ],
      "metadata": {
        "id": "QXNxcYo8pqVA"
      },
      "execution_count": null,
      "outputs": []
    }
  ]
}